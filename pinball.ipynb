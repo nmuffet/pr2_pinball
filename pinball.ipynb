{
 "cells": [
  {
   "cell_type": "markdown",
   "id": "f6db3772",
   "metadata": {},
   "source": [
    "What pinball games are hardest?\n",
    "How do scores compare between machines?"
   ]
  },
  {
   "cell_type": "code",
   "execution_count": 1,
   "id": "282429fb",
   "metadata": {},
   "outputs": [],
   "source": [
    "import pandas as pd\n",
    "import requests\n",
    "import os\n",
    "from bs4 import BeautifulSoup\n",
    "import re\n",
    "import os\n",
    "from dotenv import load_dotenv\n",
    "import datetime\n",
    "import plotly.express as px\n",
    "import plotly.io as pio\n",
    "import plotly.graph_objects as go\n",
    "pio.templates.default = \"plotly_white\"\n",
    "import geocoder"
   ]
  },
  {
   "cell_type": "code",
   "execution_count": 2,
   "id": "b1b0f5f2",
   "metadata": {},
   "outputs": [],
   "source": [
    "# headers = {'User-Agent': 'Mozilla/5.0 (Windows NT 10.0; Win64; x64) AppleWebKit/537.36 (KHTML, like Gecko) Chrome/138.0.0.0 Safari/537.36'}\n"
   ]
  },
  {
   "cell_type": "code",
   "execution_count": 3,
   "id": "a5a6ce86",
   "metadata": {},
   "outputs": [],
   "source": [
    "# url = 'https://pinside.com/pinball/community/scores'\n",
    "# response = requests.get(url, headers=headers)\n",
    "# doc = BeautifulSoup(response.text)"
   ]
  },
  {
   "cell_type": "code",
   "execution_count": 4,
   "id": "3fd6fc10",
   "metadata": {},
   "outputs": [],
   "source": [
    "# print(response.text)\n",
    "# #I get a 403 block here. Need to use something else."
   ]
  },
  {
   "cell_type": "code",
   "execution_count": 5,
   "id": "867b0872",
   "metadata": {},
   "outputs": [],
   "source": [
    "# %pip install --quiet lxml html5lib beautifulsoup4 pandas\n",
    "# %pip install --quiet playwright\n",
    "# !playwright install"
   ]
  },
  {
   "cell_type": "code",
   "execution_count": 6,
   "id": "19603e64",
   "metadata": {},
   "outputs": [],
   "source": [
    "# from playwright.async_api import async_playwright\n",
    "\n",
    "# # \"Hey, open up a browser\"\n",
    "# playwright = await async_playwright().start()\n",
    "# browser = await playwright.chromium.launch(headless=False)\n",
    "\n",
    "# # Create a new browser window\n",
    "# page = await browser.new_page()"
   ]
  },
  {
   "cell_type": "code",
   "execution_count": 7,
   "id": "881de4c5",
   "metadata": {},
   "outputs": [],
   "source": [
    "# await page.goto(url)"
   ]
  },
  {
   "cell_type": "code",
   "execution_count": 8,
   "id": "e8eb7034",
   "metadata": {},
   "outputs": [],
   "source": [
    "# # start building database\n",
    "# html_content = await page.content()\n",
    "# doc = BeautifulSoup(html_content)"
   ]
  },
  {
   "cell_type": "code",
   "execution_count": 9,
   "id": "25094914",
   "metadata": {},
   "outputs": [],
   "source": [
    "# await page.locator(\".next\").click(timeout=5000)"
   ]
  },
  {
   "cell_type": "markdown",
   "id": "e674bddf",
   "metadata": {},
   "source": [
    "Running into an issue with Cloudflare. Need to revisit... Camoufox?"
   ]
  },
  {
   "cell_type": "code",
   "execution_count": 10,
   "id": "f95f0bec",
   "metadata": {},
   "outputs": [],
   "source": [
    "from dotenv import load_dotenv\n",
    "\n",
    "load_dotenv()\n",
    "\n",
    "opdb_key = os.getenv(\"OPDB\")"
   ]
  },
  {
   "cell_type": "markdown",
   "id": "0b8c7673",
   "metadata": {},
   "source": [
    "A common task when interacting with the OPDB API is to parse an OPDB ID into it's separate parts. The following regular expression can be used to parse OPDB IDs\n",
    "\n",
    "`/^G([a-zA-Z0-9]+)(?:-M([a-zA-Z0-9]+)(?:-A([a-zA-Z0-9]+))?)?$/`\n",
    "\n",
    "The first capturing group will contain the group identifier, the second the machine identifier and the third the alias identifier."
   ]
  },
  {
   "cell_type": "code",
   "execution_count": 11,
   "id": "ac73ac22",
   "metadata": {},
   "outputs": [],
   "source": [
    "response = requests.get(f'https://opdb.org/api/export?api_token={opdb_key}')"
   ]
  },
  {
   "cell_type": "code",
   "execution_count": 12,
   "id": "d41bc0c4",
   "metadata": {},
   "outputs": [],
   "source": [
    "data = response.json()"
   ]
  },
  {
   "cell_type": "code",
   "execution_count": 13,
   "id": "4c411718",
   "metadata": {},
   "outputs": [],
   "source": [
    "opdb = pd.DataFrame(data)"
   ]
  },
  {
   "cell_type": "code",
   "execution_count": 15,
   "id": "f52fdd53",
   "metadata": {},
   "outputs": [
    {
     "data": {
      "application/vnd.microsoft.datawrangler.viewer.v0+json": {
       "columns": [
        {
         "name": "index",
         "rawType": "int64",
         "type": "integer"
        },
        {
         "name": "opdb_id",
         "rawType": "object",
         "type": "string"
        },
        {
         "name": "is_machine",
         "rawType": "object",
         "type": "unknown"
        },
        {
         "name": "name",
         "rawType": "object",
         "type": "string"
        },
        {
         "name": "common_name",
         "rawType": "object",
         "type": "unknown"
        },
        {
         "name": "shortname",
         "rawType": "object",
         "type": "unknown"
        },
        {
         "name": "physical_machine",
         "rawType": "float64",
         "type": "float"
        },
        {
         "name": "ipdb_id",
         "rawType": "float64",
         "type": "float"
        },
        {
         "name": "manufacture_date",
         "rawType": "object",
         "type": "string"
        },
        {
         "name": "manufacturer",
         "rawType": "object",
         "type": "unknown"
        },
        {
         "name": "type",
         "rawType": "object",
         "type": "unknown"
        },
        {
         "name": "display",
         "rawType": "object",
         "type": "unknown"
        },
        {
         "name": "player_count",
         "rawType": "float64",
         "type": "float"
        },
        {
         "name": "features",
         "rawType": "object",
         "type": "unknown"
        },
        {
         "name": "keywords",
         "rawType": "object",
         "type": "unknown"
        },
        {
         "name": "description",
         "rawType": "object",
         "type": "unknown"
        },
        {
         "name": "created_at",
         "rawType": "object",
         "type": "string"
        },
        {
         "name": "updated_at",
         "rawType": "object",
         "type": "string"
        },
        {
         "name": "images",
         "rawType": "object",
         "type": "unknown"
        },
        {
         "name": "is_alias",
         "rawType": "object",
         "type": "unknown"
        }
       ],
       "ref": "dcee3d48-5af3-47dd-bc85-82db79192e80",
       "rows": [
        [
         "1468",
         "G5W1w-MkPy7",
         "True",
         "\"300\"",
         null,
         "",
         "1.0",
         "2539.0",
         "1975-08-01",
         "{'manufacturer_id': 2, 'name': 'Gottlieb', 'full_name': 'D. Gottlieb & Co.', 'created_at': '2018-03-11', 'updated_at': '2018-03-11'}",
         "em",
         "reels",
         "4.0",
         "[]",
         "[]",
         null,
         "2018-03-11",
         "2018-05-03",
         "[{'title': 'Backglass', 'primary': True, 'type': 'backglass', 'urls': {'medium': 'https://img.opdb.org/f8ed5fac-e55a-4b76-b62f-2fc6d8927870-medium.jpg', 'large': 'https://img.opdb.org/f8ed5fac-e55a-4b76-b62f-2fc6d8927870-large.jpg', 'small': 'https://img.opdb.org/f8ed5fac-e55a-4b76-b62f-2fc6d8927870-small.jpg'}, 'sizes': {'medium': {'width': 631, 'height': 600}, 'large': {'width': 631, 'height': 600}, 'small': {'width': 250, 'height': 238}}}]",
         null
        ],
        [
         "2021",
         "GwexB-M7Zxq",
         "True",
         "10th Inning",
         "",
         "",
         "1.0",
         "3788.0",
         "1948-01-01",
         "{'manufacturer_id': 26, 'name': 'United', 'full_name': 'United Manufacturing Co.', 'created_at': '2018-03-11', 'updated_at': '2018-03-11'}",
         "em",
         "lights",
         "1.0",
         "[]",
         "[]",
         "",
         "2024-06-24",
         "2024-06-24",
         "[{'title': None, 'primary': True, 'type': 'backglass', 'urls': {'large': 'https://img.opdb.org/8e650ea8-f4e8-44f2-a22a-2d20477b3fe7-large.jpg', 'medium': 'https://img.opdb.org/8e650ea8-f4e8-44f2-a22a-2d20477b3fe7-medium.jpg', 'small': 'https://img.opdb.org/8e650ea8-f4e8-44f2-a22a-2d20477b3fe7-small.jpg'}, 'sizes': {'large': {'width': 1398, 'height': 1500}, 'medium': {'width': 596, 'height': 640}, 'small': {'width': 233, 'height': 250}}}]",
         null
        ],
        [
         "1206",
         "GrqL6-MLy7l",
         "True",
         "15 Pool",
         null,
         "",
         "1.0",
         "5197.0",
         "1976-01-01",
         "{'manufacturer_id': 66, 'name': 'Playmec Flippers', 'full_name': 'Playmec Flippers', 'created_at': '2018-03-11', 'updated_at': '2018-03-11'}",
         "em",
         "reels",
         "1.0",
         "['Add-a-ball']",
         "[]",
         "",
         "2018-03-11",
         "2018-05-03",
         "[{'title': 'Backglass', 'primary': True, 'type': 'backglass', 'urls': {'medium': 'https://img.opdb.org/5e9c6ef3-f611-43ce-b2ef-ea663811abcc-medium.jpg', 'large': 'https://img.opdb.org/5e9c6ef3-f611-43ce-b2ef-ea663811abcc-large.jpg', 'small': 'https://img.opdb.org/5e9c6ef3-f611-43ce-b2ef-ea663811abcc-small.jpg'}, 'sizes': {'medium': {'width': 600, 'height': 600}, 'large': {'width': 600, 'height': 600}, 'small': {'width': 250, 'height': 250}}}]",
         null
        ],
        [
         "967",
         "GRBWj-MQKlO",
         "True",
         "2 in 1",
         null,
         "",
         "1.0",
         "2698.0",
         "1964-07-01",
         "{'manufacturer_id': 8, 'name': 'Bally', 'full_name': 'Bally Manufacturing Co.', 'created_at': '2018-03-11', 'updated_at': '2018-03-11'}",
         "em",
         "reels",
         "2.0",
         "[]",
         "[]",
         null,
         "2018-03-11",
         "2018-05-12",
         "[{'title': 'Backglass', 'primary': True, 'type': 'backglass', 'urls': {'medium': 'https://img.opdb.org/875ae81b-dcd0-46a7-aa26-86cb359401ba-medium.jpg', 'large': 'https://img.opdb.org/875ae81b-dcd0-46a7-aa26-86cb359401ba-large.jpg', 'small': 'https://img.opdb.org/875ae81b-dcd0-46a7-aa26-86cb359401ba-small.jpg'}, 'sizes': {'medium': {'width': 640, 'height': 478}, 'large': {'width': 725, 'height': 542}, 'small': {'width': 250, 'height': 187}}}]",
         null
        ],
        [
         "1514",
         "G48nw-M5RPZ",
         "True",
         "2001",
         null,
         "",
         "1.0",
         "2697.0",
         "1971-02-01",
         "{'manufacturer_id': 2, 'name': 'Gottlieb', 'full_name': 'D. Gottlieb & Co.', 'created_at': '2018-03-11', 'updated_at': '2018-03-11'}",
         "em",
         "reels",
         "1.0",
         "['Replay']",
         "[]",
         "",
         "2018-03-11",
         "2018-05-08",
         "[{'title': 'Backglass', 'primary': True, 'type': 'backglass', 'urls': {'medium': 'https://img.opdb.org/d4d2fd30-5bcf-4e84-953a-5a27d11b593f-medium.jpg', 'large': 'https://img.opdb.org/d4d2fd30-5bcf-4e84-953a-5a27d11b593f-large.jpg', 'small': 'https://img.opdb.org/d4d2fd30-5bcf-4e84-953a-5a27d11b593f-small.jpg'}, 'sizes': {'medium': {'width': 640, 'height': 480}, 'large': {'width': 640, 'height': 480}, 'small': {'width': 250, 'height': 188}}}]",
         null
        ],
        [
         "818",
         "G48W0-MDy3v",
         "True",
         "21",
         null,
         "",
         "1.0",
         "2681.0",
         "1960-02-01",
         "{'manufacturer_id': 7, 'name': 'Williams', 'full_name': 'Williams Electronic Games, Inc.', 'created_at': '2018-03-11', 'updated_at': '2018-03-11'}",
         "em",
         "lights",
         "1.0",
         "[]",
         "[]",
         "",
         "2018-03-11",
         "2018-05-13",
         "[{'title': 'Backglass', 'primary': True, 'type': 'backglass', 'urls': {'medium': 'https://img.opdb.org/3a980b38-09fc-4361-bd93-77c6352526a2-medium.jpg', 'large': 'https://img.opdb.org/3a980b38-09fc-4361-bd93-77c6352526a2-large.jpg', 'small': 'https://img.opdb.org/3a980b38-09fc-4361-bd93-77c6352526a2-small.jpg'}, 'sizes': {'medium': {'width': 604, 'height': 640}, 'large': {'width': 699, 'height': 741}, 'small': {'width': 236, 'height': 250}}}]",
         null
        ],
        [
         "320",
         "GrEkZ-ML13O",
         "True",
         "24",
         null,
         "24",
         "1.0",
         "5419.0",
         "2009-02-01",
         "{'manufacturer_id': 12, 'name': 'Stern', 'full_name': 'Stern Pinball, Inc.', 'created_at': '2018-03-11', 'updated_at': '2018-03-11'}",
         "ss",
         "dmd",
         "4.0",
         "[]",
         "['tv']",
         "",
         "2018-03-11",
         "2018-03-18",
         "[{'title': 'Backglass', 'primary': True, 'type': 'backglass', 'urls': {'medium': 'https://img.opdb.org/7bc7b517-08c6-48bd-a361-64ba701d8f2a-medium.jpg', 'large': 'https://img.opdb.org/7bc7b517-08c6-48bd-a361-64ba701d8f2a-large.jpg', 'small': 'https://img.opdb.org/7bc7b517-08c6-48bd-a361-64ba701d8f2a-small.jpg'}, 'sizes': {'medium': {'width': 640, 'height': 482}, 'large': {'width': 796, 'height': 600}, 'small': {'width': 250, 'height': 188}}}]",
         null
        ],
        [
         "1207",
         "Gr22Q-MQkbn",
         "True",
         "250 cc",
         null,
         "",
         "1.0",
         "4089.0",
         "1992-01-01",
         "{'manufacturer_id': 52, 'name': 'Inder', 'full_name': 'Inder', 'created_at': '2018-03-11', 'updated_at': '2018-03-11'}",
         "ss",
         "alphanumeric",
         "4.0",
         "[]",
         "[]",
         "",
         "2018-03-11",
         "2018-03-31",
         "[{'title': 'Backglass', 'primary': True, 'type': 'backglass', 'urls': {'medium': 'https://img.opdb.org/a9d0c0c8-1d5d-4b77-9159-8060749440ec-medium.jpg', 'large': 'https://img.opdb.org/a9d0c0c8-1d5d-4b77-9159-8060749440ec-large.jpg', 'small': 'https://img.opdb.org/a9d0c0c8-1d5d-4b77-9159-8060749440ec-small.jpg'}, 'sizes': {'medium': {'width': 640, 'height': 545}, 'large': {'width': 704, 'height': 600}, 'small': {'width': 250, 'height': 213}}}]",
         null
        ],
        [
         "1313",
         "GR0Q1-MkPPd",
         "True",
         "3 Coins",
         null,
         "",
         "1.0",
         "2535.0",
         "1962-02-01",
         "{'manufacturer_id': 7, 'name': 'Williams', 'full_name': 'Williams Electronic Games, Inc.', 'created_at': '2018-03-11', 'updated_at': '2018-03-11'}",
         "em",
         "reels",
         "1.0",
         "[]",
         "[]",
         null,
         "2018-03-11",
         "2018-05-12",
         "[{'title': 'Backglass', 'primary': True, 'type': 'backglass', 'urls': {'medium': 'https://img.opdb.org/617456ba-2890-4d64-9e40-4aa4df4f5572-medium.jpg', 'large': 'https://img.opdb.org/617456ba-2890-4d64-9e40-4aa4df4f5572-large.jpg', 'small': 'https://img.opdb.org/617456ba-2890-4d64-9e40-4aa4df4f5572-small.jpg'}, 'sizes': {'medium': {'width': 507, 'height': 640}, 'large': {'width': 639, 'height': 807}, 'small': {'width': 198, 'height': 250}}}]",
         null
        ],
        [
         "756",
         "GrkK0-MDXxZ",
         "True",
         "3 Jokers",
         null,
         "",
         "1.0",
         "2540.0",
         "1970-11-01",
         "{'manufacturer_id': 7, 'name': 'Williams', 'full_name': 'Williams Electronic Games, Inc.', 'created_at': '2018-03-11', 'updated_at': '2018-03-11'}",
         "em",
         "reels",
         "1.0",
         "['Add-a-ball']",
         "[]",
         "",
         "2018-03-11",
         "2018-05-08",
         "[{'title': 'Backglass', 'primary': True, 'type': 'backglass', 'urls': {'medium': 'https://img.opdb.org/5e3553c2-1eb0-434b-b64d-30f559df06fc-medium.jpg', 'large': 'https://img.opdb.org/5e3553c2-1eb0-434b-b64d-30f559df06fc-large.jpg', 'small': 'https://img.opdb.org/5e3553c2-1eb0-434b-b64d-30f559df06fc-small.jpg'}, 'sizes': {'medium': {'width': 324, 'height': 372}, 'large': {'width': 324, 'height': 372}, 'small': {'width': 218, 'height': 250}}}]",
         null
        ],
        [
         "947",
         "GRz0q-MLe9N",
         "True",
         "3-D",
         null,
         "",
         "1.0",
         "2548.0",
         "1958-11-01",
         "{'manufacturer_id': 7, 'name': 'Williams', 'full_name': 'Williams Electronic Games, Inc.', 'created_at': '2018-03-11', 'updated_at': '2018-03-11'}",
         "em",
         "lights",
         "1.0",
         "[]",
         "[]",
         "",
         "2018-03-11",
         "2018-05-13",
         "[{'title': 'Backglass', 'primary': True, 'type': 'backglass', 'urls': {'medium': 'https://img.opdb.org/c0c897d5-ec2e-4241-956f-8346335dcd2b-medium.jpg', 'large': 'https://img.opdb.org/c0c897d5-ec2e-4241-956f-8346335dcd2b-large.jpg', 'small': 'https://img.opdb.org/c0c897d5-ec2e-4241-956f-8346335dcd2b-small.jpg'}, 'sizes': {'medium': {'width': 535, 'height': 640}, 'large': {'width': 669, 'height': 800}, 'small': {'width': 209, 'height': 250}}}]",
         null
        ],
        [
         "1045",
         "G41e6-MLqRz",
         "True",
         "3-In-Line",
         null,
         "",
         "1.0",
         "2549.0",
         "1963-07-01",
         "{'manufacturer_id': 8, 'name': 'Bally', 'full_name': 'Bally Manufacturing Co.', 'created_at': '2018-03-11', 'updated_at': '2018-03-11'}",
         "em",
         "reels",
         "4.0",
         "[]",
         "[]",
         null,
         "2018-03-11",
         "2018-05-12",
         "[{'title': 'Backglass', 'primary': True, 'type': 'backglass', 'urls': {'medium': 'https://img.opdb.org/44ba5bd7-d5eb-4c80-8b33-d0ec4b877019-medium.jpg', 'large': 'https://img.opdb.org/44ba5bd7-d5eb-4c80-8b33-d0ec4b877019-large.jpg', 'small': 'https://img.opdb.org/44ba5bd7-d5eb-4c80-8b33-d0ec4b877019-small.jpg'}, 'sizes': {'medium': {'width': 640, 'height': 592}, 'large': {'width': 663, 'height': 613}, 'small': {'width': 250, 'height': 231}}}]",
         null
        ],
        [
         "1605",
         "G4kE2-MBRzN",
         "True",
         "301/Bullseye",
         "",
         "",
         "1.0",
         "403.0",
         "1986-05-01",
         "{'manufacturer_id': 106, 'name': 'Grand Products', 'full_name': 'Grand Products Inc.', 'created_at': '2018-03-11', 'updated_at': '2018-03-11'}",
         "ss",
         "alphanumeric",
         "4.0",
         "['Conversion kit']",
         "[]",
         "",
         "2018-03-11",
         "2025-07-16",
         "[{'title': 'Backglass', 'primary': True, 'type': 'backglass', 'urls': {'medium': 'https://img.opdb.org/023956d3-5912-43c4-afd1-5dbef1c08702-medium.jpg', 'large': 'https://img.opdb.org/023956d3-5912-43c4-afd1-5dbef1c08702-large.jpg', 'small': 'https://img.opdb.org/023956d3-5912-43c4-afd1-5dbef1c08702-small.jpg'}, 'sizes': {'medium': {'width': 640, 'height': 480}, 'large': {'width': 800, 'height': 600}, 'small': {'width': 250, 'height': 188}}}]",
         null
        ],
        [
         "822",
         "GrqK8-MJdoe",
         "True",
         "4 Aces",
         null,
         "",
         "1.0",
         "928.0",
         "1970-03-01",
         "{'manufacturer_id': 7, 'name': 'Williams', 'full_name': 'Williams Electronic Games, Inc.', 'created_at': '2018-03-11', 'updated_at': '2018-03-11'}",
         "em",
         "reels",
         "2.0",
         "['Widebody']",
         "[]",
         "",
         "2018-03-11",
         "2018-05-08",
         "[{'title': 'Backglass', 'primary': True, 'type': 'backglass', 'urls': {'medium': 'https://img.opdb.org/981ba8d7-a33f-488b-bdd8-77012670d8a7-medium.jpg', 'large': 'https://img.opdb.org/981ba8d7-a33f-488b-bdd8-77012670d8a7-large.jpg', 'small': 'https://img.opdb.org/981ba8d7-a33f-488b-bdd8-77012670d8a7-small.jpg'}, 'sizes': {'medium': {'width': 640, 'height': 433}, 'large': {'width': 887, 'height': 600}, 'small': {'width': 250, 'height': 169}}}]",
         null
        ],
        [
         "1108",
         "GRwKx-MJV8q",
         "True",
         "4 Queens",
         null,
         "4Q",
         "1.0",
         "936.0",
         "1970-12-01",
         "{'manufacturer_id': 8, 'name': 'Bally', 'full_name': 'Bally Manufacturing Co.', 'created_at': '2018-03-11', 'updated_at': '2018-03-11'}",
         "em",
         "reels",
         "1.0",
         "[]",
         "[]",
         "",
         "2018-03-11",
         "2018-05-08",
         "[{'title': 'Backglass', 'primary': True, 'type': 'backglass', 'urls': {'medium': 'https://img.opdb.org/95da21d4-d2da-4683-b578-3189799412fa-medium.jpg', 'large': 'https://img.opdb.org/95da21d4-d2da-4683-b578-3189799412fa-large.jpg', 'small': 'https://img.opdb.org/95da21d4-d2da-4683-b578-3189799412fa-small.jpg'}, 'sizes': {'medium': {'width': 579, 'height': 640}, 'large': {'width': 842, 'height': 931}, 'small': {'width': 226, 'height': 250}}}]",
         null
        ],
        [
         "440",
         "GRWz0-MLOxd",
         "True",
         "4 Roses",
         null,
         "",
         "1.0",
         "938.0",
         "1962-12-01",
         "{'manufacturer_id': 7, 'name': 'Williams', 'full_name': 'Williams Electronic Games, Inc.', 'created_at': '2018-03-11', 'updated_at': '2018-03-11'}",
         "em",
         "reels",
         "1.0",
         "[]",
         "[]",
         null,
         "2018-03-11",
         "2018-05-12",
         "[{'title': 'Backglass', 'primary': True, 'type': 'backglass', 'urls': {'medium': 'https://img.opdb.org/c6e030a1-63f8-485f-b80d-9b1ec702e88e-medium.jpg', 'large': 'https://img.opdb.org/c6e030a1-63f8-485f-b80d-9b1ec702e88e-large.jpg', 'small': 'https://img.opdb.org/c6e030a1-63f8-485f-b80d-9b1ec702e88e-small.jpg'}, 'sizes': {'medium': {'width': 538, 'height': 640}, 'large': {'width': 721, 'height': 859}, 'small': {'width': 210, 'height': 250}}}]",
         null
        ],
        [
         "896",
         "GryO2-MD8v2",
         "True",
         "4 Square",
         null,
         "",
         "1.0",
         "940.0",
         "1971-06-01",
         "{'manufacturer_id': 2, 'name': 'Gottlieb', 'full_name': 'D. Gottlieb & Co.', 'created_at': '2018-03-11', 'updated_at': '2018-03-11'}",
         "em",
         "reels",
         "1.0",
         "['Replay']",
         "[]",
         "",
         "2018-03-11",
         "2018-05-08",
         "[{'title': 'Backglass', 'primary': True, 'type': 'backglass', 'urls': {'medium': 'https://img.opdb.org/4de0b44c-38c1-4cc4-8479-941da8760062-medium.jpg', 'large': 'https://img.opdb.org/4de0b44c-38c1-4cc4-8479-941da8760062-large.jpg', 'small': 'https://img.opdb.org/4de0b44c-38c1-4cc4-8479-941da8760062-small.jpg'}, 'sizes': {'medium': {'width': 432, 'height': 432}, 'large': {'width': 432, 'height': 432}, 'small': {'width': 250, 'height': 250}}}]",
         null
        ],
        [
         "1397",
         "GRnVL-MP3NR",
         "True",
         "4 Star",
         null,
         "",
         "1.0",
         "941.0",
         "1958-07-01",
         "{'manufacturer_id': 7, 'name': 'Williams', 'full_name': 'Williams Electronic Games, Inc.', 'created_at': '2018-03-11', 'updated_at': '2018-03-11'}",
         "em",
         "lights",
         "1.0",
         "[]",
         "[]",
         "",
         "2018-03-11",
         "2018-05-13",
         "[{'title': 'Backglass', 'primary': True, 'type': 'backglass', 'urls': {'medium': 'https://img.opdb.org/5e58100d-04cc-49cc-bc0c-2a5cf25b5c14-medium.jpg', 'large': 'https://img.opdb.org/5e58100d-04cc-49cc-bc0c-2a5cf25b5c14-large.jpg', 'small': 'https://img.opdb.org/5e58100d-04cc-49cc-bc0c-2a5cf25b5c14-small.jpg'}, 'sizes': {'medium': {'width': 524, 'height': 640}, 'large': {'width': 725, 'height': 885}, 'small': {'width': 205, 'height': 250}}}]",
         null
        ],
        [
         "660",
         "G5DD0-MD014",
         "True",
         "4-Belles",
         null,
         "",
         "1.0",
         "943.0",
         "1954-09-01",
         "{'manufacturer_id': 2, 'name': 'Gottlieb', 'full_name': 'D. Gottlieb & Co.', 'created_at': '2018-03-11', 'updated_at': '2018-03-11'}",
         "em",
         "lights",
         "1.0",
         "[]",
         "[]",
         "",
         "2018-03-11",
         "2018-05-13",
         "[{'title': 'Backglass', 'primary': True, 'type': 'backglass', 'urls': {'medium': 'https://img.opdb.org/9af0a642-8182-4590-bb40-9e8f90cd127e-medium.jpg', 'large': 'https://img.opdb.org/9af0a642-8182-4590-bb40-9e8f90cd127e-large.jpg', 'small': 'https://img.opdb.org/9af0a642-8182-4590-bb40-9e8f90cd127e-small.jpg'}, 'sizes': {'medium': {'width': 502, 'height': 560}, 'large': {'width': 502, 'height': 560}, 'small': {'width': 224, 'height': 250}}}]",
         null
        ],
        [
         "1646",
         "G4eZ6-M2Yeq",
         "True",
         "400",
         null,
         "",
         "1.0",
         "934.0",
         "1952-10-01",
         "{'manufacturer_id': 24, 'name': 'Genco', 'full_name': 'Genco Manufacturing Co.', 'created_at': '2018-03-11', 'updated_at': '2018-03-11'}",
         "em",
         "lights",
         "1.0",
         "[]",
         "[]",
         "",
         "2018-03-11",
         "2018-05-14",
         "[{'title': 'Backglass', 'primary': True, 'type': 'backglass', 'urls': {'medium': 'https://img.opdb.org/d1afd7ad-8ef9-4283-b53b-a3ffc13816bb-medium.jpg', 'large': 'https://img.opdb.org/d1afd7ad-8ef9-4283-b53b-a3ffc13816bb-large.jpg', 'small': 'https://img.opdb.org/d1afd7ad-8ef9-4283-b53b-a3ffc13816bb-small.jpg'}, 'sizes': {'medium': {'width': 612, 'height': 640}, 'large': {'width': 793, 'height': 829}, 'small': {'width': 239, 'height': 250}}}]",
         null
        ],
        [
         "64",
         "G59VQ-MLBVl",
         "True",
         "4X4",
         null,
         "",
         "1.0",
         "3111.0",
         "1983-01-01",
         "{'manufacturer_id': 27, 'name': 'Atari', 'full_name': 'Atari Incorporated', 'created_at': '2018-03-11', 'updated_at': '2018-03-11'}",
         "ss",
         "alphanumeric",
         "4.0",
         "[]",
         "[]",
         null,
         "2018-03-11",
         "2018-04-08",
         "[{'title': 'Backglass', 'primary': True, 'type': 'backglass', 'urls': {'medium': 'https://img.opdb.org/d8295d1a-63c8-4461-9038-511488cb2fa4-medium.jpg', 'large': 'https://img.opdb.org/d8295d1a-63c8-4461-9038-511488cb2fa4-large.jpg', 'small': 'https://img.opdb.org/d8295d1a-63c8-4461-9038-511488cb2fa4-small.jpg'}, 'sizes': {'medium': {'width': 620, 'height': 600}, 'large': {'width': 620, 'height': 600}, 'small': {'width': 250, 'height': 242}}}]",
         null
        ],
        [
         "991",
         "GR0yN-MQVjz",
         "True",
         "50/50",
         null,
         "",
         "1.0",
         "842.0",
         "1965-07-01",
         "{'manufacturer_id': 8, 'name': 'Bally', 'full_name': 'Bally Manufacturing Co.', 'created_at': '2018-03-11', 'updated_at': '2018-03-11'}",
         "em",
         "reels",
         "2.0",
         "[]",
         "[]",
         null,
         "2018-03-11",
         "2018-05-11",
         "[{'title': 'Backglass', 'primary': True, 'type': 'backglass', 'urls': {'medium': 'https://img.opdb.org/790c9bb2-6dc3-491c-b674-c2b031ae453f-medium.jpg', 'large': 'https://img.opdb.org/790c9bb2-6dc3-491c-b674-c2b031ae453f-large.jpg', 'small': 'https://img.opdb.org/790c9bb2-6dc3-491c-b674-c2b031ae453f-small.jpg'}, 'sizes': {'medium': {'width': 382, 'height': 343}, 'large': {'width': 382, 'height': 343}, 'small': {'width': 250, 'height': 224}}}]",
         null
        ],
        [
         "890",
         "G592K-MJoxd",
         "True",
         "8 Ball",
         null,
         "",
         "1.0",
         "764.0",
         "1966-01-01",
         "{'manufacturer_id': 7, 'name': 'Williams', 'full_name': 'Williams Electronic Games, Inc.', 'created_at': '2018-03-11', 'updated_at': '2018-03-11'}",
         "em",
         "reels",
         "2.0",
         "[]",
         "[]",
         null,
         "2018-03-11",
         "2018-05-10",
         "[{'title': 'Backglass', 'primary': True, 'type': 'backglass', 'urls': {'medium': 'https://img.opdb.org/d26b5943-7521-48a0-a804-cb3563cf9d24-medium.jpg', 'large': 'https://img.opdb.org/d26b5943-7521-48a0-a804-cb3563cf9d24-large.jpg', 'small': 'https://img.opdb.org/d26b5943-7521-48a0-a804-cb3563cf9d24-small.jpg'}, 'sizes': {'medium': {'width': 640, 'height': 580}, 'large': {'width': 731, 'height': 663}, 'small': {'width': 250, 'height': 227}}}]",
         null
        ],
        [
         "1373",
         "G4dke-M5R3k",
         "True",
         "8 Ball",
         null,
         "",
         "1.0",
         "765.0",
         "1952-09-01",
         "{'manufacturer_id': 7, 'name': 'Williams', 'full_name': 'Williams Electronic Games, Inc.', 'created_at': '2018-03-11', 'updated_at': '2018-03-11'}",
         "em",
         "lights",
         "1.0",
         "[]",
         "[]",
         "",
         "2018-03-11",
         "2018-05-15",
         "[{'title': 'Backglass', 'primary': True, 'type': 'backglass', 'urls': {'medium': 'https://img.opdb.org/7f803fb4-367f-42c5-b2c8-80b3024ba960-medium.jpg', 'large': 'https://img.opdb.org/7f803fb4-367f-42c5-b2c8-80b3024ba960-large.jpg', 'small': 'https://img.opdb.org/7f803fb4-367f-42c5-b2c8-80b3024ba960-small.jpg'}, 'sizes': {'medium': {'width': 639, 'height': 640}, 'large': {'width': 867, 'height': 869}, 'small': {'width': 249, 'height': 250}}}]",
         null
        ],
        [
         "828",
         "G5oO9-MJYE4",
         "True",
         "A-Go-Go",
         null,
         "",
         "1.0",
         "27.0",
         "1966-05-01",
         "{'manufacturer_id': 7, 'name': 'Williams', 'full_name': 'Williams Electronic Games, Inc.', 'created_at': '2018-03-11', 'updated_at': '2018-03-11'}",
         "em",
         "reels",
         "4.0",
         "[]",
         "[]",
         null,
         "2018-03-11",
         "2018-05-10",
         "[{'title': 'Backglass', 'primary': True, 'type': 'backglass', 'urls': {'medium': 'https://img.opdb.org/20c4d036-a19a-4733-89e2-53163a568ac9-medium.jpg', 'large': 'https://img.opdb.org/20c4d036-a19a-4733-89e2-53163a568ac9-large.jpg', 'small': 'https://img.opdb.org/20c4d036-a19a-4733-89e2-53163a568ac9-small.jpg'}, 'sizes': {'medium': {'width': 640, 'height': 480}, 'large': {'width': 690, 'height': 518}, 'small': {'width': 250, 'height': 188}}}]",
         null
        ],
        [
         "1651",
         "G5wxv-MnKkN",
         "True",
         "A.G. Football",
         null,
         "AGF",
         "1.0",
         "2886.0",
         "1992-01-01",
         "{'manufacturer_id': 25, 'name': 'Alvin G. & Co', 'full_name': 'Alvin G. and Company', 'created_at': '2018-03-11', 'updated_at': '2018-03-11'}",
         "ss",
         "alphanumeric",
         "2.0",
         "['Head-to-head play']",
         "[]",
         "",
         "2018-03-11",
         "2018-03-23",
         "[{'title': 'Backglass', 'primary': True, 'type': 'backglass', 'urls': {'medium': 'https://img.opdb.org/234363ba-2ce5-4aa0-a0f5-702bc44c07a5-medium.jpg', 'large': 'https://img.opdb.org/234363ba-2ce5-4aa0-a0f5-702bc44c07a5-large.jpg', 'small': 'https://img.opdb.org/234363ba-2ce5-4aa0-a0f5-702bc44c07a5-small.jpg'}, 'sizes': {'medium': {'width': 300, 'height': 295}, 'large': {'width': 300, 'height': 295}, 'small': {'width': 250, 'height': 246}}}]",
         null
        ],
        [
         "763",
         "G5wxv-MQP9z",
         "True",
         "A.G. Soccer-Ball",
         null,
         "AGSB",
         "1.0",
         "120.0",
         "1991-01-01",
         "{'manufacturer_id': 25, 'name': 'Alvin G. & Co', 'full_name': 'Alvin G. and Company', 'created_at': '2018-03-11', 'updated_at': '2018-03-11'}",
         "ss",
         "alphanumeric",
         "2.0",
         "['Head-to-head play']",
         "[]",
         "",
         "2018-03-11",
         "2018-03-23",
         "[{'title': 'Backglass', 'primary': True, 'type': 'backglass', 'urls': {'medium': 'https://img.opdb.org/152997e9-1765-461a-9b0c-ad159df648f0-medium.jpg', 'large': 'https://img.opdb.org/152997e9-1765-461a-9b0c-ad159df648f0-large.jpg', 'small': 'https://img.opdb.org/152997e9-1765-461a-9b0c-ad159df648f0-small.jpg'}, 'sizes': {'medium': {'width': 450, 'height': 600}, 'large': {'width': 450, 'height': 600}, 'small': {'width': 188, 'height': 250}}}]",
         null
        ],
        [
         "1977",
         "Ge1py-MkPj1",
         "True",
         "ABBA",
         "",
         "",
         "0.0",
         null,
         "2024-04-06",
         "{'manufacturer_id': 124, 'name': 'Pinball Brothers', 'full_name': 'Pinball Brothers', 'created_at': '2021-05-06', 'updated_at': '2021-05-06'}",
         "ss",
         "lcd",
         "4.0",
         "['Limited edition', 'Premium edition']",
         "[]",
         "",
         "2024-04-05",
         "2024-04-05",
         "[]",
         null
        ],
        [
         "2237",
         "Ge1py-MkPj1-AOppL",
         null,
         "ABBA (CE)",
         "",
         "",
         null,
         null,
         "2024-04-06",
         "{'manufacturer_id': 124, 'name': 'Pinball Brothers', 'full_name': 'Pinball Brothers', 'created_at': '2021-05-06', 'updated_at': '2021-05-06'}",
         null,
         null,
         null,
         "['Premium edition']",
         "[]",
         null,
         "2024-04-05",
         "2024-04-05",
         "[{'title': None, 'primary': True, 'type': 'backglass', 'urls': {'medium': 'https://img.opdb.org/184d9ec9-4816-4fe1-9ae8-5ae081759da8-medium.jpg', 'large': 'https://img.opdb.org/184d9ec9-4816-4fe1-9ae8-5ae081759da8-large.jpg', 'small': 'https://img.opdb.org/184d9ec9-4816-4fe1-9ae8-5ae081759da8-small.jpg'}, 'sizes': {'medium': {'width': 638, 'height': 640}, 'large': {'width': 900, 'height': 903}, 'small': {'width': 249, 'height': 250}}}]",
         "True"
        ],
        [
         "2236",
         "Ge1py-MkPj1-A1XDN",
         null,
         "ABBA (LE)",
         "",
         "",
         null,
         null,
         "2024-04-06",
         "{'manufacturer_id': 124, 'name': 'Pinball Brothers', 'full_name': 'Pinball Brothers', 'created_at': '2021-05-06', 'updated_at': '2021-05-06'}",
         null,
         null,
         null,
         "['Limited edition']",
         "[]",
         null,
         "2024-04-05",
         "2024-04-05",
         "[{'title': None, 'primary': True, 'type': 'backglass', 'urls': {'medium': 'https://img.opdb.org/0fd2ea98-9dbf-4a90-b6d2-695b8677bdf0-medium.jpg', 'large': 'https://img.opdb.org/0fd2ea98-9dbf-4a90-b6d2-695b8677bdf0-large.jpg', 'small': 'https://img.opdb.org/0fd2ea98-9dbf-4a90-b6d2-695b8677bdf0-small.jpg'}, 'sizes': {'medium': {'width': 640, 'height': 628}, 'large': {'width': 1121, 'height': 1100}, 'small': {'width': 250, 'height': 245}}}]",
         "True"
        ],
        [
         "2114",
         "G43W4-MrRpw-A1B7O",
         null,
         "AC/DC (Back In Black LE)",
         null,
         null,
         null,
         "5777.0",
         "2012-01-01",
         "{'manufacturer_id': 12, 'name': 'Stern', 'full_name': 'Stern Pinball, Inc.', 'created_at': '2018-03-11', 'updated_at': '2018-03-11'}",
         null,
         null,
         null,
         "[]",
         "[]",
         null,
         "2018-03-14",
         "2018-03-14",
         "[{'title': None, 'primary': True, 'type': 'backglass', 'urls': {'medium': 'https://img.opdb.org/00415285-d73c-4222-ad03-0b24b4f52cc9-medium.jpg', 'large': 'https://img.opdb.org/00415285-d73c-4222-ad03-0b24b4f52cc9-large.jpg', 'small': 'https://img.opdb.org/00415285-d73c-4222-ad03-0b24b4f52cc9-small.jpg'}, 'sizes': {'medium': {'width': 640, 'height': 433}, 'large': {'width': 1500, 'height': 1014}, 'small': {'width': 250, 'height': 169}}}]",
         "True"
        ],
        [
         "1785",
         "G43W4-MrRpw",
         "True",
         "AC/DC (LE)",
         "",
         "ACDC",
         "1.0",
         "5777.0",
         "2012-01-01",
         "{'manufacturer_id': 12, 'name': 'Stern', 'full_name': 'Stern Pinball, Inc.', 'created_at': '2018-03-11', 'updated_at': '2018-03-11'}",
         "ss",
         "dmd",
         "4.0",
         "['Limited edition']",
         "['music']",
         "",
         "2018-03-11",
         "2022-01-25",
         "[{'title': 'Backglass', 'primary': True, 'type': 'backglass', 'urls': {'medium': 'https://img.opdb.org/769b6c38-667e-4d14-a855-0db42c5b8496-medium.jpg', 'large': 'https://img.opdb.org/769b6c38-667e-4d14-a855-0db42c5b8496-large.jpg', 'small': 'https://img.opdb.org/769b6c38-667e-4d14-a855-0db42c5b8496-small.jpg'}, 'sizes': {'medium': {'width': 550, 'height': 406}, 'large': {'width': 550, 'height': 406}, 'small': {'width': 250, 'height': 185}}}]",
         null
        ],
        [
         "2116",
         "G43W4-MdEjy-ARXn1",
         null,
         "AC/DC (LUCI Vault Edition)",
         null,
         null,
         null,
         "6502.0",
         "2018-02-01",
         "{'manufacturer_id': 12, 'name': 'Stern', 'full_name': 'Stern Pinball, Inc.', 'created_at': '2018-03-11', 'updated_at': '2018-03-11'}",
         null,
         null,
         null,
         "[]",
         "[]",
         null,
         "2018-03-14",
         "2018-03-14",
         "[{'title': None, 'primary': True, 'type': 'backglass', 'urls': {'medium': 'https://img.opdb.org/cd5aed35-3f40-42c6-9ea4-8eba8cd835e8-medium.jpg', 'large': 'https://img.opdb.org/cd5aed35-3f40-42c6-9ea4-8eba8cd835e8-large.jpg', 'small': 'https://img.opdb.org/cd5aed35-3f40-42c6-9ea4-8eba8cd835e8-small.jpg'}, 'sizes': {'medium': {'width': 550, 'height': 406}, 'large': {'width': 550, 'height': 406}, 'small': {'width': 250, 'height': 185}}}]",
         "True"
        ],
        [
         "2115",
         "G43W4-MXrPx-AO6D9",
         null,
         "AC/DC (LUCI)",
         null,
         null,
         null,
         "6060.0",
         "2013-12-01",
         "{'manufacturer_id': 12, 'name': 'Stern', 'full_name': 'Stern Pinball, Inc.', 'created_at': '2018-03-11', 'updated_at': '2018-03-11'}",
         null,
         null,
         null,
         "[]",
         "[]",
         null,
         "2018-03-14",
         "2018-03-14",
         "[{'title': None, 'primary': True, 'type': 'backglass', 'urls': {'medium': 'https://img.opdb.org/0bc302e9-5cad-4c5c-aaf6-698d18b61f07-medium.jpg', 'large': 'https://img.opdb.org/0bc302e9-5cad-4c5c-aaf6-698d18b61f07-large.jpg', 'small': 'https://img.opdb.org/0bc302e9-5cad-4c5c-aaf6-698d18b61f07-small.jpg'}, 'sizes': {'medium': {'width': 550, 'height': 406}, 'large': {'width': 550, 'height': 406}, 'small': {'width': 250, 'height': 185}}}]",
         "True"
        ],
        [
         "2113",
         "G43W4-MrRpw-AOPQR",
         null,
         "AC/DC (Let There Be Rock LE)",
         null,
         null,
         null,
         "5776.0",
         "2012-01-01",
         "{'manufacturer_id': 12, 'name': 'Stern', 'full_name': 'Stern Pinball, Inc.', 'created_at': '2018-03-11', 'updated_at': '2018-03-11'}",
         null,
         null,
         null,
         "[]",
         "[]",
         null,
         "2018-03-14",
         "2018-03-14",
         "[{'title': None, 'primary': True, 'type': 'backglass', 'urls': {'medium': 'https://img.opdb.org/44adc050-d856-407a-afa0-ad295116b4c9-medium.jpg', 'large': 'https://img.opdb.org/44adc050-d856-407a-afa0-ad295116b4c9-large.jpg', 'small': 'https://img.opdb.org/44adc050-d856-407a-afa0-ad295116b4c9-small.jpg'}, 'sizes': {'medium': {'width': 640, 'height': 480}, 'large': {'width': 1200, 'height': 900}, 'small': {'width': 250, 'height': 188}}}]",
         "True"
        ],
        [
         "1797",
         "G43W4-MdEjy",
         "True",
         "AC/DC (Premium Vault Edition)",
         null,
         "ACDC",
         "1.0",
         "6440.0",
         "2017-07-01",
         "{'manufacturer_id': 12, 'name': 'Stern', 'full_name': 'Stern Pinball, Inc.', 'created_at': '2018-03-11', 'updated_at': '2018-03-11'}",
         "ss",
         "dmd",
         "4.0",
         "['Premium edition', 'Vault edition']",
         "['music']",
         "",
         "2018-03-14",
         "2018-03-15",
         "[{'title': None, 'primary': True, 'type': 'backglass', 'urls': {'medium': 'https://img.opdb.org/9c766319-01c3-47fe-950e-6f87b044724a-medium.jpg', 'large': 'https://img.opdb.org/9c766319-01c3-47fe-950e-6f87b044724a-large.jpg', 'small': 'https://img.opdb.org/9c766319-01c3-47fe-950e-6f87b044724a-small.jpg'}, 'sizes': {'medium': {'width': 640, 'height': 471}, 'large': {'width': 763, 'height': 561}, 'small': {'width': 250, 'height': 184}}}]",
         null
        ],
        [
         "1508",
         "G43W4-MXrPx",
         "True",
         "AC/DC (Premium)",
         null,
         "ACDC",
         "1.0",
         "5775.0",
         "2012-03-01",
         "{'manufacturer_id': 12, 'name': 'Stern', 'full_name': 'Stern Pinball, Inc.', 'created_at': '2018-03-11', 'updated_at': '2018-03-11'}",
         "ss",
         "dmd",
         "4.0",
         "['Premium edition']",
         "['music']",
         "",
         "2018-03-11",
         "2018-03-14",
         "[{'title': 'Backglass', 'primary': True, 'type': 'backglass', 'urls': {'medium': 'https://img.opdb.org/a8235b87-decf-44e7-92fb-bb6899329edb-medium.jpg', 'large': 'https://img.opdb.org/a8235b87-decf-44e7-92fb-bb6899329edb-large.jpg', 'small': 'https://img.opdb.org/a8235b87-decf-44e7-92fb-bb6899329edb-small.jpg'}, 'sizes': {'medium': {'width': 550, 'height': 406}, 'large': {'width': 550, 'height': 406}, 'small': {'width': 250, 'height': 185}}}]",
         null
        ],
        [
         "2117",
         "G43W4-MKNW0-AOENR",
         null,
         "AC/DC (Pro LED)",
         null,
         null,
         null,
         "6441.0",
         "2014-01-01",
         "{'manufacturer_id': 12, 'name': 'Stern', 'full_name': 'Stern Pinball, Inc.', 'created_at': '2018-03-11', 'updated_at': '2018-03-11'}",
         null,
         null,
         null,
         "[]",
         "[]",
         null,
         "2018-03-14",
         "2018-03-14",
         "[]",
         "True"
        ],
        [
         "1798",
         "G43W4-MKNX0",
         "True",
         "AC/DC (Pro Vault Edition)",
         null,
         "ACDC",
         "1.0",
         "6439.0",
         "2017-05-01",
         "{'manufacturer_id': 12, 'name': 'Stern', 'full_name': 'Stern Pinball, Inc.', 'created_at': '2018-03-11', 'updated_at': '2018-03-11'}",
         "ss",
         "dmd",
         "4.0",
         "['Pro edition', 'Vault edition']",
         "['music']",
         "",
         "2018-03-14",
         "2018-03-14",
         "[{'title': None, 'primary': False, 'type': 'backglass', 'urls': {'medium': 'https://img.opdb.org/939d5482-829d-47d2-8417-814d7e3799cf-medium.jpg', 'large': 'https://img.opdb.org/939d5482-829d-47d2-8417-814d7e3799cf-large.jpg', 'small': 'https://img.opdb.org/939d5482-829d-47d2-8417-814d7e3799cf-small.jpg'}, 'sizes': {'medium': {'width': 543, 'height': 640}, 'large': {'width': 1200, 'height': 1416}, 'small': {'width': 212, 'height': 250}}}, {'title': None, 'primary': True, 'type': 'playfield', 'urls': {'medium': 'https://img.opdb.org/6252f4f3-766e-4795-9df9-fe69d2012ce5-medium.jpg', 'large': 'https://img.opdb.org/6252f4f3-766e-4795-9df9-fe69d2012ce5-large.jpg', 'small': 'https://img.opdb.org/6252f4f3-766e-4795-9df9-fe69d2012ce5-small.jpg'}, 'sizes': {'medium': {'width': 369, 'height': 640}, 'large': {'width': 864, 'height': 1500}, 'small': {'width': 144, 'height': 250}}}, {'title': None, 'primary': True, 'type': 'backglass', 'urls': {'medium': 'https://img.opdb.org/2b7b1d83-5a8e-44a7-a39a-88c8ca75c34e-medium.jpg', 'large': 'https://img.opdb.org/2b7b1d83-5a8e-44a7-a39a-88c8ca75c34e-large.jpg', 'small': 'https://img.opdb.org/2b7b1d83-5a8e-44a7-a39a-88c8ca75c34e-small.jpg'}, 'sizes': {'medium': {'width': 550, 'height': 383}, 'large': {'width': 550, 'height': 383}, 'small': {'width': 250, 'height': 174}}}]",
         null
        ],
        [
         "1779",
         "G43W4-MKNW0",
         "True",
         "AC/DC (Pro)",
         null,
         "ACDC",
         "1.0",
         "5767.0",
         "2012-01-01",
         "{'manufacturer_id': 12, 'name': 'Stern', 'full_name': 'Stern Pinball, Inc.', 'created_at': '2018-03-11', 'updated_at': '2018-03-11'}",
         "ss",
         "dmd",
         "4.0",
         "['Pro edition']",
         "['music']",
         "",
         "2018-03-11",
         "2018-03-14",
         "[{'title': 'Backglass', 'primary': True, 'type': 'backglass', 'urls': {'medium': 'https://img.opdb.org/a780bf71-4b06-4fef-9faa-f6d15958d998-medium.jpg', 'large': 'https://img.opdb.org/a780bf71-4b06-4fef-9faa-f6d15958d998-large.jpg', 'small': 'https://img.opdb.org/a780bf71-4b06-4fef-9faa-f6d15958d998-small.jpg'}, 'sizes': {'medium': {'width': 550, 'height': 383}, 'large': {'width': 550, 'height': 383}, 'small': {'width': 250, 'height': 174}}}]",
         null
        ],
        [
         "1487",
         "GRpZ2-MkPyb",
         "True",
         "Abra Ca Dabra",
         null,
         "",
         "1.0",
         "2.0",
         "1975-11-01",
         "{'manufacturer_id': 2, 'name': 'Gottlieb', 'full_name': 'D. Gottlieb & Co.', 'created_at': '2018-03-11', 'updated_at': '2018-03-11'}",
         "em",
         "reels",
         "1.0",
         "['Replay']",
         "[]",
         "",
         "2018-03-11",
         "2018-03-20",
         "[{'title': 'Backglass', 'primary': True, 'type': 'backglass', 'urls': {'medium': 'https://img.opdb.org/506d3f58-9cdc-4444-af67-4fddf0b84a3d-medium.jpg', 'large': 'https://img.opdb.org/506d3f58-9cdc-4444-af67-4fddf0b84a3d-large.jpg', 'small': 'https://img.opdb.org/506d3f58-9cdc-4444-af67-4fddf0b84a3d-small.jpg'}, 'sizes': {'medium': {'width': 640, 'height': 480}, 'large': {'width': 800, 'height': 600}, 'small': {'width': 250, 'height': 188}}}]",
         null
        ],
        [
         "1740",
         "GrlJ3-M2YvO",
         "True",
         "Ace High",
         null,
         "",
         "1.0",
         "7.0",
         "1957-02-01",
         "{'manufacturer_id': 2, 'name': 'Gottlieb', 'full_name': 'D. Gottlieb & Co.', 'created_at': '2018-03-11', 'updated_at': '2018-03-11'}",
         "em",
         "lights",
         "1.0",
         "[]",
         "[]",
         null,
         "2018-03-11",
         "2018-05-13",
         "[{'title': 'Backglass', 'primary': True, 'type': 'backglass', 'urls': {'medium': 'https://img.opdb.org/fa7f6b56-2c30-4d11-95d0-efce9f256b3c-medium.jpg', 'large': 'https://img.opdb.org/fa7f6b56-2c30-4d11-95d0-efce9f256b3c-large.jpg', 'small': 'https://img.opdb.org/fa7f6b56-2c30-4d11-95d0-efce9f256b3c-small.jpg'}, 'sizes': {'medium': {'width': 450, 'height': 600}, 'large': {'width': 450, 'height': 600}, 'small': {'width': 188, 'height': 250}}}]",
         null
        ],
        [
         "1656",
         "G5oK2-M9R6y",
         "True",
         "Aces & Kings",
         null,
         "",
         "1.0",
         "11.0",
         "1970-06-01",
         "{'manufacturer_id': 7, 'name': 'Williams', 'full_name': 'Williams Electronic Games, Inc.', 'created_at': '2018-03-11', 'updated_at': '2018-03-11'}",
         "em",
         "reels",
         "4.0",
         "[]",
         "[]",
         "",
         "2018-03-11",
         "2018-05-08",
         "[{'title': 'Backglass', 'primary': True, 'type': 'backglass', 'urls': {'medium': 'https://img.opdb.org/b6907249-891f-4892-a5bf-cb2e5c2d1dfa-medium.jpg', 'large': 'https://img.opdb.org/b6907249-891f-4892-a5bf-cb2e5c2d1dfa-large.jpg', 'small': 'https://img.opdb.org/b6907249-891f-4892-a5bf-cb2e5c2d1dfa-small.jpg'}, 'sizes': {'medium': {'width': 640, 'height': 571}, 'large': {'width': 673, 'height': 600}, 'small': {'width': 250, 'height': 223}}}]",
         null
        ],
        [
         "692",
         "G56BE-MQYxZ",
         "True",
         "Aces High",
         null,
         "",
         "1.0",
         "9.0",
         "1965-08-01",
         "{'manufacturer_id': 8, 'name': 'Bally', 'full_name': 'Bally Manufacturing Co.', 'created_at': '2018-03-11', 'updated_at': '2018-03-11'}",
         "em",
         "reels",
         "1.0",
         "[]",
         "[]",
         null,
         "2018-03-11",
         "2018-05-11",
         "[{'title': 'Backglass', 'primary': True, 'type': 'backglass', 'urls': {'medium': 'https://img.opdb.org/d5f06559-0bc2-4105-accb-e66ec7fe25b4-medium.jpg', 'large': 'https://img.opdb.org/d5f06559-0bc2-4105-accb-e66ec7fe25b4-large.jpg', 'small': 'https://img.opdb.org/d5f06559-0bc2-4105-accb-e66ec7fe25b4-small.jpg'}, 'sizes': {'medium': {'width': 640, 'height': 554}, 'large': {'width': 674, 'height': 583}, 'small': {'width': 250, 'height': 216}}}]",
         null
        ],
        [
         "2140",
         "G56BE-MQYxZ-A1XBn",
         null,
         "Aces Top",
         null,
         null,
         null,
         "5236.0",
         "1965-08-01",
         "{'manufacturer_id': 8, 'name': 'Bally', 'full_name': 'Bally Manufacturing Co.', 'created_at': '2018-03-11', 'updated_at': '2018-03-11'}",
         null,
         null,
         null,
         "[]",
         "[]",
         null,
         "2018-05-11",
         "2018-05-11",
         "[{'title': 'Backglass', 'primary': True, 'type': 'backglass', 'urls': {'medium': 'https://img.opdb.org/f0f7781f-cf79-42a2-9036-6e5891a01334-medium.jpg', 'large': 'https://img.opdb.org/f0f7781f-cf79-42a2-9036-6e5891a01334-large.jpg', 'small': 'https://img.opdb.org/f0f7781f-cf79-42a2-9036-6e5891a01334-small.jpg'}, 'sizes': {'medium': {'width': 571, 'height': 480}, 'large': {'width': 571, 'height': 480}, 'small': {'width': 250, 'height': 210}}}]",
         "True"
        ],
        [
         "1613",
         "GrJQv-M2Yjq",
         "True",
         "Action",
         null,
         "",
         "1.0",
         "15.0",
         "1969-09-01",
         "{'manufacturer_id': 3, 'name': 'Chicago Coin', 'full_name': 'Chicago Coin Machine Mfg. Co.', 'created_at': '2018-03-11', 'updated_at': '2018-03-11'}",
         "em",
         "reels",
         "1.0",
         "[]",
         "[]",
         null,
         "2018-03-11",
         "2018-05-08",
         "[{'title': 'Backglass', 'primary': True, 'type': 'backglass', 'urls': {'medium': 'https://img.opdb.org/5d629cf5-4574-4645-b3cb-27151da77076-medium.jpg', 'large': 'https://img.opdb.org/5d629cf5-4574-4645-b3cb-27151da77076-large.jpg', 'small': 'https://img.opdb.org/5d629cf5-4574-4645-b3cb-27151da77076-small.jpg'}, 'sizes': {'medium': {'width': 640, 'height': 502}, 'large': {'width': 765, 'height': 600}, 'small': {'width': 250, 'height': 196}}}]",
         null
        ],
        [
         "2142",
         "G5zpL-ME02b-A9EYN",
         null,
         "Add-A-Ball",
         null,
         null,
         null,
         "4362.0",
         "1961-09-01",
         "{'manufacturer_id': 7, 'name': 'Williams', 'full_name': 'Williams Electronic Games, Inc.', 'created_at': '2018-03-11', 'updated_at': '2018-03-11'}",
         null,
         null,
         null,
         "[]",
         "[]",
         null,
         "2018-05-12",
         "2018-05-12",
         "[{'title': 'Backglass', 'primary': True, 'type': 'backglass', 'urls': {'medium': 'https://img.opdb.org/bcbaf4b5-4082-4442-a036-6a186cb29e9b-medium.jpg', 'large': 'https://img.opdb.org/bcbaf4b5-4082-4442-a036-6a186cb29e9b-large.jpg', 'small': 'https://img.opdb.org/bcbaf4b5-4082-4442-a036-6a186cb29e9b-small.jpg'}, 'sizes': {'medium': {'width': 293, 'height': 310}, 'large': {'width': 293, 'height': 310}, 'small': {'width': 236, 'height': 250}}}]",
         "True"
        ],
        [
         "31",
         "G5vnL-MJP3y",
         "True",
         "Adventures of Rocky and Bullwinkle and Friends",
         null,
         "R&B",
         "1.0",
         "23.0",
         "1993-02-01",
         "{'manufacturer_id': 10, 'name': 'Data East', 'full_name': 'Data East USA, Inc.', 'created_at': '2018-03-11', 'updated_at': '2018-03-11'}",
         "ss",
         "dmd",
         "4.0",
         "[]",
         "['tv']",
         null,
         "2018-03-11",
         "2018-03-18",
         "[{'title': 'Backglass', 'primary': True, 'type': 'backglass', 'urls': {'medium': 'https://img.opdb.org/ce067eb7-c089-4c6b-b8f3-a95dbfae0787-medium.jpg', 'large': 'https://img.opdb.org/ce067eb7-c089-4c6b-b8f3-a95dbfae0787-large.jpg', 'small': 'https://img.opdb.org/ce067eb7-c089-4c6b-b8f3-a95dbfae0787-small.jpg'}, 'sizes': {'medium': {'width': 640, 'height': 467}, 'large': {'width': 822, 'height': 600}, 'small': {'width': 250, 'height': 182}}}]",
         null
        ],
        [
         "1733",
         "G5WJw-MkP98",
         "True",
         "Aerobatics",
         null,
         "",
         "1.0",
         "24.0",
         "1977-02-01",
         "{'manufacturer_id': 11, 'name': 'Zaccaria', 'full_name': 'Zaccaria', 'created_at': '2018-03-11', 'updated_at': '2018-03-11'}",
         "em",
         "reels",
         "1.0",
         "[]",
         "[]",
         null,
         "2018-03-11",
         "2018-05-01",
         "[{'title': 'Backglass', 'primary': True, 'type': 'backglass', 'urls': {'medium': 'https://img.opdb.org/cc87e19b-d41b-4c20-8586-af5c92798698-medium.jpg', 'large': 'https://img.opdb.org/cc87e19b-d41b-4c20-8586-af5c92798698-large.jpg', 'small': 'https://img.opdb.org/cc87e19b-d41b-4c20-8586-af5c92798698-small.jpg'}, 'sizes': {'medium': {'width': 555, 'height': 640}, 'large': {'width': 832, 'height': 960}, 'small': {'width': 217, 'height': 250}}}]",
         null
        ],
        [
         "1804",
         "Gr16e-MnKEX",
         "True",
         "Aerosmith",
         null,
         "AS",
         "1.0",
         "6370.0",
         "2017-02-01",
         "{'manufacturer_id': 12, 'name': 'Stern', 'full_name': 'Stern Pinball, Inc.', 'created_at': '2018-03-11', 'updated_at': '2018-03-11'}",
         "ss",
         "lcd",
         "4.0",
         "['Pro edition']",
         "['music']",
         "",
         "2018-03-20",
         "2018-03-20",
         "[{'title': 'Backglass', 'primary': True, 'type': 'backglass', 'urls': {'medium': 'https://img.opdb.org/7b75fd25-db4a-4ac4-be7f-b12bd234a27d-medium.jpg', 'large': 'https://img.opdb.org/7b75fd25-db4a-4ac4-be7f-b12bd234a27d-large.jpg', 'small': 'https://img.opdb.org/7b75fd25-db4a-4ac4-be7f-b12bd234a27d-small.jpg'}, 'sizes': {'medium': {'width': 550, 'height': 355}, 'large': {'width': 550, 'height': 355}, 'small': {'width': 250, 'height': 161}}}]",
         null
        ]
       ],
       "shape": {
        "columns": 19,
        "rows": 2277
       }
      },
      "text/html": [
       "<div>\n",
       "<style scoped>\n",
       "    .dataframe tbody tr th:only-of-type {\n",
       "        vertical-align: middle;\n",
       "    }\n",
       "\n",
       "    .dataframe tbody tr th {\n",
       "        vertical-align: top;\n",
       "    }\n",
       "\n",
       "    .dataframe thead th {\n",
       "        text-align: right;\n",
       "    }\n",
       "</style>\n",
       "<table border=\"1\" class=\"dataframe\">\n",
       "  <thead>\n",
       "    <tr style=\"text-align: right;\">\n",
       "      <th></th>\n",
       "      <th>opdb_id</th>\n",
       "      <th>is_machine</th>\n",
       "      <th>name</th>\n",
       "      <th>common_name</th>\n",
       "      <th>shortname</th>\n",
       "      <th>physical_machine</th>\n",
       "      <th>ipdb_id</th>\n",
       "      <th>manufacture_date</th>\n",
       "      <th>manufacturer</th>\n",
       "      <th>type</th>\n",
       "      <th>display</th>\n",
       "      <th>player_count</th>\n",
       "      <th>features</th>\n",
       "      <th>keywords</th>\n",
       "      <th>description</th>\n",
       "      <th>created_at</th>\n",
       "      <th>updated_at</th>\n",
       "      <th>images</th>\n",
       "      <th>is_alias</th>\n",
       "    </tr>\n",
       "  </thead>\n",
       "  <tbody>\n",
       "    <tr>\n",
       "      <th>1468</th>\n",
       "      <td>G5W1w-MkPy7</td>\n",
       "      <td>True</td>\n",
       "      <td>\"300\"</td>\n",
       "      <td>None</td>\n",
       "      <td></td>\n",
       "      <td>1.0</td>\n",
       "      <td>2539.0</td>\n",
       "      <td>1975-08-01</td>\n",
       "      <td>{'manufacturer_id': 2, 'name': 'Gottlieb', 'fu...</td>\n",
       "      <td>em</td>\n",
       "      <td>reels</td>\n",
       "      <td>4.0</td>\n",
       "      <td>[]</td>\n",
       "      <td>[]</td>\n",
       "      <td>None</td>\n",
       "      <td>2018-03-11</td>\n",
       "      <td>2018-05-03</td>\n",
       "      <td>[{'title': 'Backglass', 'primary': True, 'type...</td>\n",
       "      <td>NaN</td>\n",
       "    </tr>\n",
       "    <tr>\n",
       "      <th>2021</th>\n",
       "      <td>GwexB-M7Zxq</td>\n",
       "      <td>True</td>\n",
       "      <td>10th Inning</td>\n",
       "      <td></td>\n",
       "      <td></td>\n",
       "      <td>1.0</td>\n",
       "      <td>3788.0</td>\n",
       "      <td>1948-01-01</td>\n",
       "      <td>{'manufacturer_id': 26, 'name': 'United', 'ful...</td>\n",
       "      <td>em</td>\n",
       "      <td>lights</td>\n",
       "      <td>1.0</td>\n",
       "      <td>[]</td>\n",
       "      <td>[]</td>\n",
       "      <td></td>\n",
       "      <td>2024-06-24</td>\n",
       "      <td>2024-06-24</td>\n",
       "      <td>[{'title': None, 'primary': True, 'type': 'bac...</td>\n",
       "      <td>NaN</td>\n",
       "    </tr>\n",
       "    <tr>\n",
       "      <th>1206</th>\n",
       "      <td>GrqL6-MLy7l</td>\n",
       "      <td>True</td>\n",
       "      <td>15 Pool</td>\n",
       "      <td>None</td>\n",
       "      <td></td>\n",
       "      <td>1.0</td>\n",
       "      <td>5197.0</td>\n",
       "      <td>1976-01-01</td>\n",
       "      <td>{'manufacturer_id': 66, 'name': 'Playmec Flipp...</td>\n",
       "      <td>em</td>\n",
       "      <td>reels</td>\n",
       "      <td>1.0</td>\n",
       "      <td>[Add-a-ball]</td>\n",
       "      <td>[]</td>\n",
       "      <td></td>\n",
       "      <td>2018-03-11</td>\n",
       "      <td>2018-05-03</td>\n",
       "      <td>[{'title': 'Backglass', 'primary': True, 'type...</td>\n",
       "      <td>NaN</td>\n",
       "    </tr>\n",
       "    <tr>\n",
       "      <th>967</th>\n",
       "      <td>GRBWj-MQKlO</td>\n",
       "      <td>True</td>\n",
       "      <td>2 in 1</td>\n",
       "      <td>None</td>\n",
       "      <td></td>\n",
       "      <td>1.0</td>\n",
       "      <td>2698.0</td>\n",
       "      <td>1964-07-01</td>\n",
       "      <td>{'manufacturer_id': 8, 'name': 'Bally', 'full_...</td>\n",
       "      <td>em</td>\n",
       "      <td>reels</td>\n",
       "      <td>2.0</td>\n",
       "      <td>[]</td>\n",
       "      <td>[]</td>\n",
       "      <td>None</td>\n",
       "      <td>2018-03-11</td>\n",
       "      <td>2018-05-12</td>\n",
       "      <td>[{'title': 'Backglass', 'primary': True, 'type...</td>\n",
       "      <td>NaN</td>\n",
       "    </tr>\n",
       "    <tr>\n",
       "      <th>1514</th>\n",
       "      <td>G48nw-M5RPZ</td>\n",
       "      <td>True</td>\n",
       "      <td>2001</td>\n",
       "      <td>None</td>\n",
       "      <td></td>\n",
       "      <td>1.0</td>\n",
       "      <td>2697.0</td>\n",
       "      <td>1971-02-01</td>\n",
       "      <td>{'manufacturer_id': 2, 'name': 'Gottlieb', 'fu...</td>\n",
       "      <td>em</td>\n",
       "      <td>reels</td>\n",
       "      <td>1.0</td>\n",
       "      <td>[Replay]</td>\n",
       "      <td>[]</td>\n",
       "      <td></td>\n",
       "      <td>2018-03-11</td>\n",
       "      <td>2018-05-08</td>\n",
       "      <td>[{'title': 'Backglass', 'primary': True, 'type...</td>\n",
       "      <td>NaN</td>\n",
       "    </tr>\n",
       "    <tr>\n",
       "      <th>...</th>\n",
       "      <td>...</td>\n",
       "      <td>...</td>\n",
       "      <td>...</td>\n",
       "      <td>...</td>\n",
       "      <td>...</td>\n",
       "      <td>...</td>\n",
       "      <td>...</td>\n",
       "      <td>...</td>\n",
       "      <td>...</td>\n",
       "      <td>...</td>\n",
       "      <td>...</td>\n",
       "      <td>...</td>\n",
       "      <td>...</td>\n",
       "      <td>...</td>\n",
       "      <td>...</td>\n",
       "      <td>...</td>\n",
       "      <td>...</td>\n",
       "      <td>...</td>\n",
       "      <td>...</td>\n",
       "    </tr>\n",
       "    <tr>\n",
       "      <th>1432</th>\n",
       "      <td>G5z71-MBRXz</td>\n",
       "      <td>True</td>\n",
       "      <td>Zankor</td>\n",
       "      <td>None</td>\n",
       "      <td></td>\n",
       "      <td>1.0</td>\n",
       "      <td>3531.0</td>\n",
       "      <td>1986-01-01</td>\n",
       "      <td>{'manufacturer_id': 11, 'name': 'Zaccaria', 'f...</td>\n",
       "      <td>ss</td>\n",
       "      <td>alphanumeric</td>\n",
       "      <td>4.0</td>\n",
       "      <td>[]</td>\n",
       "      <td>[]</td>\n",
       "      <td>None</td>\n",
       "      <td>2018-03-11</td>\n",
       "      <td>2018-04-05</td>\n",
       "      <td>[{'title': 'Backglass', 'primary': True, 'type...</td>\n",
       "      <td>NaN</td>\n",
       "    </tr>\n",
       "    <tr>\n",
       "      <th>1204</th>\n",
       "      <td>GRoL9-MDEwn</td>\n",
       "      <td>True</td>\n",
       "      <td>Zig Zag</td>\n",
       "      <td>None</td>\n",
       "      <td></td>\n",
       "      <td>1.0</td>\n",
       "      <td>2834.0</td>\n",
       "      <td>1964-12-01</td>\n",
       "      <td>{'manufacturer_id': 7, 'name': 'Williams', 'fu...</td>\n",
       "      <td>em</td>\n",
       "      <td>reels</td>\n",
       "      <td>1.0</td>\n",
       "      <td>[Replay]</td>\n",
       "      <td>[]</td>\n",
       "      <td></td>\n",
       "      <td>2018-03-11</td>\n",
       "      <td>2018-05-12</td>\n",
       "      <td>[{'title': 'Backglass', 'primary': True, 'type...</td>\n",
       "      <td>NaN</td>\n",
       "    </tr>\n",
       "    <tr>\n",
       "      <th>1023</th>\n",
       "      <td>GrdKP-MLv2o</td>\n",
       "      <td>True</td>\n",
       "      <td>Zip-A-Doo</td>\n",
       "      <td>None</td>\n",
       "      <td></td>\n",
       "      <td>1.0</td>\n",
       "      <td>2840.0</td>\n",
       "      <td>1970-08-01</td>\n",
       "      <td>{'manufacturer_id': 8, 'name': 'Bally', 'full_...</td>\n",
       "      <td>em</td>\n",
       "      <td>reels</td>\n",
       "      <td>2.0</td>\n",
       "      <td>[]</td>\n",
       "      <td>[]</td>\n",
       "      <td>None</td>\n",
       "      <td>2018-03-11</td>\n",
       "      <td>2018-05-08</td>\n",
       "      <td>[{'title': 'Backglass', 'primary': True, 'type...</td>\n",
       "      <td>NaN</td>\n",
       "    </tr>\n",
       "    <tr>\n",
       "      <th>510</th>\n",
       "      <td>G4lDV-MJwkK</td>\n",
       "      <td>True</td>\n",
       "      <td>Zira</td>\n",
       "      <td>None</td>\n",
       "      <td></td>\n",
       "      <td>1.0</td>\n",
       "      <td>3584.0</td>\n",
       "      <td>1980-01-01</td>\n",
       "      <td>{'manufacturer_id': 5, 'name': 'Playmatic', 'f...</td>\n",
       "      <td>ss</td>\n",
       "      <td>alphanumeric</td>\n",
       "      <td>4.0</td>\n",
       "      <td>[Widebody]</td>\n",
       "      <td>[]</td>\n",
       "      <td></td>\n",
       "      <td>2018-03-11</td>\n",
       "      <td>2018-04-12</td>\n",
       "      <td>[{'title': 'Backglass', 'primary': True, 'type...</td>\n",
       "      <td>NaN</td>\n",
       "    </tr>\n",
       "    <tr>\n",
       "      <th>467</th>\n",
       "      <td>GRBBx-MDBEb</td>\n",
       "      <td>True</td>\n",
       "      <td>Zodiac</td>\n",
       "      <td>None</td>\n",
       "      <td></td>\n",
       "      <td>1.0</td>\n",
       "      <td>2841.0</td>\n",
       "      <td>1971-08-01</td>\n",
       "      <td>{'manufacturer_id': 7, 'name': 'Williams', 'fu...</td>\n",
       "      <td>em</td>\n",
       "      <td>reels</td>\n",
       "      <td>2.0</td>\n",
       "      <td>[Replay, Widebody]</td>\n",
       "      <td>[]</td>\n",
       "      <td></td>\n",
       "      <td>2018-03-11</td>\n",
       "      <td>2018-05-08</td>\n",
       "      <td>[{'title': 'Backglass', 'primary': True, 'type...</td>\n",
       "      <td>NaN</td>\n",
       "    </tr>\n",
       "  </tbody>\n",
       "</table>\n",
       "<p>2277 rows × 19 columns</p>\n",
       "</div>"
      ],
      "text/plain": [
       "          opdb_id is_machine         name common_name shortname  \\\n",
       "1468  G5W1w-MkPy7       True        \"300\"        None             \n",
       "2021  GwexB-M7Zxq       True  10th Inning                         \n",
       "1206  GrqL6-MLy7l       True      15 Pool        None             \n",
       "967   GRBWj-MQKlO       True       2 in 1        None             \n",
       "1514  G48nw-M5RPZ       True         2001        None             \n",
       "...           ...        ...          ...         ...       ...   \n",
       "1432  G5z71-MBRXz       True       Zankor        None             \n",
       "1204  GRoL9-MDEwn       True      Zig Zag        None             \n",
       "1023  GrdKP-MLv2o       True    Zip-A-Doo        None             \n",
       "510   G4lDV-MJwkK       True         Zira        None             \n",
       "467   GRBBx-MDBEb       True       Zodiac        None             \n",
       "\n",
       "      physical_machine  ipdb_id manufacture_date  \\\n",
       "1468               1.0   2539.0       1975-08-01   \n",
       "2021               1.0   3788.0       1948-01-01   \n",
       "1206               1.0   5197.0       1976-01-01   \n",
       "967                1.0   2698.0       1964-07-01   \n",
       "1514               1.0   2697.0       1971-02-01   \n",
       "...                ...      ...              ...   \n",
       "1432               1.0   3531.0       1986-01-01   \n",
       "1204               1.0   2834.0       1964-12-01   \n",
       "1023               1.0   2840.0       1970-08-01   \n",
       "510                1.0   3584.0       1980-01-01   \n",
       "467                1.0   2841.0       1971-08-01   \n",
       "\n",
       "                                           manufacturer type       display  \\\n",
       "1468  {'manufacturer_id': 2, 'name': 'Gottlieb', 'fu...   em         reels   \n",
       "2021  {'manufacturer_id': 26, 'name': 'United', 'ful...   em        lights   \n",
       "1206  {'manufacturer_id': 66, 'name': 'Playmec Flipp...   em         reels   \n",
       "967   {'manufacturer_id': 8, 'name': 'Bally', 'full_...   em         reels   \n",
       "1514  {'manufacturer_id': 2, 'name': 'Gottlieb', 'fu...   em         reels   \n",
       "...                                                 ...  ...           ...   \n",
       "1432  {'manufacturer_id': 11, 'name': 'Zaccaria', 'f...   ss  alphanumeric   \n",
       "1204  {'manufacturer_id': 7, 'name': 'Williams', 'fu...   em         reels   \n",
       "1023  {'manufacturer_id': 8, 'name': 'Bally', 'full_...   em         reels   \n",
       "510   {'manufacturer_id': 5, 'name': 'Playmatic', 'f...   ss  alphanumeric   \n",
       "467   {'manufacturer_id': 7, 'name': 'Williams', 'fu...   em         reels   \n",
       "\n",
       "      player_count            features keywords description  created_at  \\\n",
       "1468           4.0                  []       []        None  2018-03-11   \n",
       "2021           1.0                  []       []              2024-06-24   \n",
       "1206           1.0        [Add-a-ball]       []              2018-03-11   \n",
       "967            2.0                  []       []        None  2018-03-11   \n",
       "1514           1.0            [Replay]       []              2018-03-11   \n",
       "...            ...                 ...      ...         ...         ...   \n",
       "1432           4.0                  []       []        None  2018-03-11   \n",
       "1204           1.0            [Replay]       []              2018-03-11   \n",
       "1023           2.0                  []       []        None  2018-03-11   \n",
       "510            4.0          [Widebody]       []              2018-03-11   \n",
       "467            2.0  [Replay, Widebody]       []              2018-03-11   \n",
       "\n",
       "      updated_at                                             images is_alias  \n",
       "1468  2018-05-03  [{'title': 'Backglass', 'primary': True, 'type...      NaN  \n",
       "2021  2024-06-24  [{'title': None, 'primary': True, 'type': 'bac...      NaN  \n",
       "1206  2018-05-03  [{'title': 'Backglass', 'primary': True, 'type...      NaN  \n",
       "967   2018-05-12  [{'title': 'Backglass', 'primary': True, 'type...      NaN  \n",
       "1514  2018-05-08  [{'title': 'Backglass', 'primary': True, 'type...      NaN  \n",
       "...          ...                                                ...      ...  \n",
       "1432  2018-04-05  [{'title': 'Backglass', 'primary': True, 'type...      NaN  \n",
       "1204  2018-05-12  [{'title': 'Backglass', 'primary': True, 'type...      NaN  \n",
       "1023  2018-05-08  [{'title': 'Backglass', 'primary': True, 'type...      NaN  \n",
       "510   2018-04-12  [{'title': 'Backglass', 'primary': True, 'type...      NaN  \n",
       "467   2018-05-08  [{'title': 'Backglass', 'primary': True, 'type...      NaN  \n",
       "\n",
       "[2277 rows x 19 columns]"
      ]
     },
     "execution_count": 15,
     "metadata": {},
     "output_type": "execute_result"
    }
   ],
   "source": [
    "opdb.sort_values('name')"
   ]
  },
  {
   "cell_type": "code",
   "execution_count": 16,
   "id": "671c0ade",
   "metadata": {},
   "outputs": [],
   "source": [
    "opdb['manufacture_date_dt']=pd.to_datetime(opdb['manufacture_date'])"
   ]
  },
  {
   "cell_type": "code",
   "execution_count": 17,
   "id": "ac4951fd",
   "metadata": {},
   "outputs": [],
   "source": [
    "dates = opdb['manufacture_date_dt'].value_counts().reset_index()"
   ]
  },
  {
   "cell_type": "code",
   "execution_count": 18,
   "id": "fbf3783e",
   "metadata": {},
   "outputs": [],
   "source": [
    "opdb_filt = opdb[opdb['manufacture_date_dt'].dt.year != 1900]"
   ]
  },
  {
   "cell_type": "code",
   "execution_count": 19,
   "id": "0a962c24",
   "metadata": {},
   "outputs": [
    {
     "data": {
      "text/plain": [
       "(2275, 20)"
      ]
     },
     "execution_count": 19,
     "metadata": {},
     "output_type": "execute_result"
    }
   ],
   "source": [
    "opdb_filt.shape"
   ]
  },
  {
   "cell_type": "code",
   "execution_count": 20,
   "id": "96fdc7f2",
   "metadata": {},
   "outputs": [],
   "source": [
    "years=opdb_filt['manufacture_date_dt'].dt.year.value_counts().reset_index()"
   ]
  },
  {
   "cell_type": "code",
   "execution_count": 21,
   "id": "37fe65c5",
   "metadata": {},
   "outputs": [
    {
     "data": {
      "text/plain": [
       "2275"
      ]
     },
     "execution_count": 21,
     "metadata": {},
     "output_type": "execute_result"
    }
   ],
   "source": [
    "len(opdb_filt)"
   ]
  },
  {
   "cell_type": "code",
   "execution_count": 22,
   "id": "7a35af5d",
   "metadata": {},
   "outputs": [],
   "source": [
    "years = years.sort_values('manufacture_date_dt')"
   ]
  },
  {
   "cell_type": "code",
   "execution_count": 24,
   "id": "227f3453",
   "metadata": {},
   "outputs": [
    {
     "data": {
      "application/vnd.plotly.v1+json": {
       "config": {
        "plotlyServerURL": "https://plot.ly"
       },
       "data": [
        {
         "hovertemplate": "manufacture_date_dt=%{x}<br>count=%{y}<extra></extra>",
         "legendgroup": "",
         "line": {
          "color": "#636efa",
          "dash": "solid"
         },
         "marker": {
          "symbol": "circle"
         },
         "mode": "lines",
         "name": "",
         "orientation": "v",
         "showlegend": false,
         "type": "scatter",
         "x": {
          "bdata": "mwcAAJwHAACdBwAAngcAAJ8HAACgBwAAoQcAAKIHAACjBwAApAcAAKUHAACmBwAApwcAAKgHAACpBwAAqgcAAKsHAACsBwAArQcAAK4HAACvBwAAsAcAALEHAACyBwAAswcAALQHAAC1BwAAtgcAALcHAAC4BwAAuQcAALoHAAC7BwAAvAcAAL0HAAC+BwAAvwcAAMAHAADBBwAAwgcAAMMHAADEBwAAxQcAAMYHAADHBwAAyAcAAMkHAADKBwAAywcAAMwHAADNBwAAzgcAAM8HAADQBwAA0QcAANIHAADTBwAA1AcAANUHAADWBwAA1wcAANgHAADZBwAA2gcAANsHAADcBwAA3QcAAN4HAADfBwAA4AcAAOEHAADiBwAA4wcAAOQHAADlBwAA5gcAAOcHAADoBwAA6QcAAA==",
          "dtype": "i4"
         },
         "xaxis": "x",
         "y": {
          "bdata": "AkQyIhwdFxgYGRUXFRcaGR8lJyMjJigpLyIoOUZbXl9KPiEjHSAtMCoYFBQUFRIUFBEIBwUCBAQEAwMCBgQDCAgQEAwSERsaJRocGCQsGw==",
          "dtype": "i1"
         },
         "yaxis": "y"
        }
       ],
       "layout": {
        "legend": {
         "tracegroupgap": 0
        },
        "margin": {
         "t": 60
        },
        "template": {
         "data": {
          "bar": [
           {
            "error_x": {
             "color": "#2a3f5f"
            },
            "error_y": {
             "color": "#2a3f5f"
            },
            "marker": {
             "line": {
              "color": "white",
              "width": 0.5
             },
             "pattern": {
              "fillmode": "overlay",
              "size": 10,
              "solidity": 0.2
             }
            },
            "type": "bar"
           }
          ],
          "barpolar": [
           {
            "marker": {
             "line": {
              "color": "white",
              "width": 0.5
             },
             "pattern": {
              "fillmode": "overlay",
              "size": 10,
              "solidity": 0.2
             }
            },
            "type": "barpolar"
           }
          ],
          "carpet": [
           {
            "aaxis": {
             "endlinecolor": "#2a3f5f",
             "gridcolor": "#C8D4E3",
             "linecolor": "#C8D4E3",
             "minorgridcolor": "#C8D4E3",
             "startlinecolor": "#2a3f5f"
            },
            "baxis": {
             "endlinecolor": "#2a3f5f",
             "gridcolor": "#C8D4E3",
             "linecolor": "#C8D4E3",
             "minorgridcolor": "#C8D4E3",
             "startlinecolor": "#2a3f5f"
            },
            "type": "carpet"
           }
          ],
          "choropleth": [
           {
            "colorbar": {
             "outlinewidth": 0,
             "ticks": ""
            },
            "type": "choropleth"
           }
          ],
          "contour": [
           {
            "colorbar": {
             "outlinewidth": 0,
             "ticks": ""
            },
            "colorscale": [
             [
              0,
              "#0d0887"
             ],
             [
              0.1111111111111111,
              "#46039f"
             ],
             [
              0.2222222222222222,
              "#7201a8"
             ],
             [
              0.3333333333333333,
              "#9c179e"
             ],
             [
              0.4444444444444444,
              "#bd3786"
             ],
             [
              0.5555555555555556,
              "#d8576b"
             ],
             [
              0.6666666666666666,
              "#ed7953"
             ],
             [
              0.7777777777777778,
              "#fb9f3a"
             ],
             [
              0.8888888888888888,
              "#fdca26"
             ],
             [
              1,
              "#f0f921"
             ]
            ],
            "type": "contour"
           }
          ],
          "contourcarpet": [
           {
            "colorbar": {
             "outlinewidth": 0,
             "ticks": ""
            },
            "type": "contourcarpet"
           }
          ],
          "heatmap": [
           {
            "colorbar": {
             "outlinewidth": 0,
             "ticks": ""
            },
            "colorscale": [
             [
              0,
              "#0d0887"
             ],
             [
              0.1111111111111111,
              "#46039f"
             ],
             [
              0.2222222222222222,
              "#7201a8"
             ],
             [
              0.3333333333333333,
              "#9c179e"
             ],
             [
              0.4444444444444444,
              "#bd3786"
             ],
             [
              0.5555555555555556,
              "#d8576b"
             ],
             [
              0.6666666666666666,
              "#ed7953"
             ],
             [
              0.7777777777777778,
              "#fb9f3a"
             ],
             [
              0.8888888888888888,
              "#fdca26"
             ],
             [
              1,
              "#f0f921"
             ]
            ],
            "type": "heatmap"
           }
          ],
          "histogram": [
           {
            "marker": {
             "pattern": {
              "fillmode": "overlay",
              "size": 10,
              "solidity": 0.2
             }
            },
            "type": "histogram"
           }
          ],
          "histogram2d": [
           {
            "colorbar": {
             "outlinewidth": 0,
             "ticks": ""
            },
            "colorscale": [
             [
              0,
              "#0d0887"
             ],
             [
              0.1111111111111111,
              "#46039f"
             ],
             [
              0.2222222222222222,
              "#7201a8"
             ],
             [
              0.3333333333333333,
              "#9c179e"
             ],
             [
              0.4444444444444444,
              "#bd3786"
             ],
             [
              0.5555555555555556,
              "#d8576b"
             ],
             [
              0.6666666666666666,
              "#ed7953"
             ],
             [
              0.7777777777777778,
              "#fb9f3a"
             ],
             [
              0.8888888888888888,
              "#fdca26"
             ],
             [
              1,
              "#f0f921"
             ]
            ],
            "type": "histogram2d"
           }
          ],
          "histogram2dcontour": [
           {
            "colorbar": {
             "outlinewidth": 0,
             "ticks": ""
            },
            "colorscale": [
             [
              0,
              "#0d0887"
             ],
             [
              0.1111111111111111,
              "#46039f"
             ],
             [
              0.2222222222222222,
              "#7201a8"
             ],
             [
              0.3333333333333333,
              "#9c179e"
             ],
             [
              0.4444444444444444,
              "#bd3786"
             ],
             [
              0.5555555555555556,
              "#d8576b"
             ],
             [
              0.6666666666666666,
              "#ed7953"
             ],
             [
              0.7777777777777778,
              "#fb9f3a"
             ],
             [
              0.8888888888888888,
              "#fdca26"
             ],
             [
              1,
              "#f0f921"
             ]
            ],
            "type": "histogram2dcontour"
           }
          ],
          "mesh3d": [
           {
            "colorbar": {
             "outlinewidth": 0,
             "ticks": ""
            },
            "type": "mesh3d"
           }
          ],
          "parcoords": [
           {
            "line": {
             "colorbar": {
              "outlinewidth": 0,
              "ticks": ""
             }
            },
            "type": "parcoords"
           }
          ],
          "pie": [
           {
            "automargin": true,
            "type": "pie"
           }
          ],
          "scatter": [
           {
            "fillpattern": {
             "fillmode": "overlay",
             "size": 10,
             "solidity": 0.2
            },
            "type": "scatter"
           }
          ],
          "scatter3d": [
           {
            "line": {
             "colorbar": {
              "outlinewidth": 0,
              "ticks": ""
             }
            },
            "marker": {
             "colorbar": {
              "outlinewidth": 0,
              "ticks": ""
             }
            },
            "type": "scatter3d"
           }
          ],
          "scattercarpet": [
           {
            "marker": {
             "colorbar": {
              "outlinewidth": 0,
              "ticks": ""
             }
            },
            "type": "scattercarpet"
           }
          ],
          "scattergeo": [
           {
            "marker": {
             "colorbar": {
              "outlinewidth": 0,
              "ticks": ""
             }
            },
            "type": "scattergeo"
           }
          ],
          "scattergl": [
           {
            "marker": {
             "colorbar": {
              "outlinewidth": 0,
              "ticks": ""
             }
            },
            "type": "scattergl"
           }
          ],
          "scattermap": [
           {
            "marker": {
             "colorbar": {
              "outlinewidth": 0,
              "ticks": ""
             }
            },
            "type": "scattermap"
           }
          ],
          "scattermapbox": [
           {
            "marker": {
             "colorbar": {
              "outlinewidth": 0,
              "ticks": ""
             }
            },
            "type": "scattermapbox"
           }
          ],
          "scatterpolar": [
           {
            "marker": {
             "colorbar": {
              "outlinewidth": 0,
              "ticks": ""
             }
            },
            "type": "scatterpolar"
           }
          ],
          "scatterpolargl": [
           {
            "marker": {
             "colorbar": {
              "outlinewidth": 0,
              "ticks": ""
             }
            },
            "type": "scatterpolargl"
           }
          ],
          "scatterternary": [
           {
            "marker": {
             "colorbar": {
              "outlinewidth": 0,
              "ticks": ""
             }
            },
            "type": "scatterternary"
           }
          ],
          "surface": [
           {
            "colorbar": {
             "outlinewidth": 0,
             "ticks": ""
            },
            "colorscale": [
             [
              0,
              "#0d0887"
             ],
             [
              0.1111111111111111,
              "#46039f"
             ],
             [
              0.2222222222222222,
              "#7201a8"
             ],
             [
              0.3333333333333333,
              "#9c179e"
             ],
             [
              0.4444444444444444,
              "#bd3786"
             ],
             [
              0.5555555555555556,
              "#d8576b"
             ],
             [
              0.6666666666666666,
              "#ed7953"
             ],
             [
              0.7777777777777778,
              "#fb9f3a"
             ],
             [
              0.8888888888888888,
              "#fdca26"
             ],
             [
              1,
              "#f0f921"
             ]
            ],
            "type": "surface"
           }
          ],
          "table": [
           {
            "cells": {
             "fill": {
              "color": "#EBF0F8"
             },
             "line": {
              "color": "white"
             }
            },
            "header": {
             "fill": {
              "color": "#C8D4E3"
             },
             "line": {
              "color": "white"
             }
            },
            "type": "table"
           }
          ]
         },
         "layout": {
          "annotationdefaults": {
           "arrowcolor": "#2a3f5f",
           "arrowhead": 0,
           "arrowwidth": 1
          },
          "autotypenumbers": "strict",
          "coloraxis": {
           "colorbar": {
            "outlinewidth": 0,
            "ticks": ""
           }
          },
          "colorscale": {
           "diverging": [
            [
             0,
             "#8e0152"
            ],
            [
             0.1,
             "#c51b7d"
            ],
            [
             0.2,
             "#de77ae"
            ],
            [
             0.3,
             "#f1b6da"
            ],
            [
             0.4,
             "#fde0ef"
            ],
            [
             0.5,
             "#f7f7f7"
            ],
            [
             0.6,
             "#e6f5d0"
            ],
            [
             0.7,
             "#b8e186"
            ],
            [
             0.8,
             "#7fbc41"
            ],
            [
             0.9,
             "#4d9221"
            ],
            [
             1,
             "#276419"
            ]
           ],
           "sequential": [
            [
             0,
             "#0d0887"
            ],
            [
             0.1111111111111111,
             "#46039f"
            ],
            [
             0.2222222222222222,
             "#7201a8"
            ],
            [
             0.3333333333333333,
             "#9c179e"
            ],
            [
             0.4444444444444444,
             "#bd3786"
            ],
            [
             0.5555555555555556,
             "#d8576b"
            ],
            [
             0.6666666666666666,
             "#ed7953"
            ],
            [
             0.7777777777777778,
             "#fb9f3a"
            ],
            [
             0.8888888888888888,
             "#fdca26"
            ],
            [
             1,
             "#f0f921"
            ]
           ],
           "sequentialminus": [
            [
             0,
             "#0d0887"
            ],
            [
             0.1111111111111111,
             "#46039f"
            ],
            [
             0.2222222222222222,
             "#7201a8"
            ],
            [
             0.3333333333333333,
             "#9c179e"
            ],
            [
             0.4444444444444444,
             "#bd3786"
            ],
            [
             0.5555555555555556,
             "#d8576b"
            ],
            [
             0.6666666666666666,
             "#ed7953"
            ],
            [
             0.7777777777777778,
             "#fb9f3a"
            ],
            [
             0.8888888888888888,
             "#fdca26"
            ],
            [
             1,
             "#f0f921"
            ]
           ]
          },
          "colorway": [
           "#636efa",
           "#EF553B",
           "#00cc96",
           "#ab63fa",
           "#FFA15A",
           "#19d3f3",
           "#FF6692",
           "#B6E880",
           "#FF97FF",
           "#FECB52"
          ],
          "font": {
           "color": "#2a3f5f"
          },
          "geo": {
           "bgcolor": "white",
           "lakecolor": "white",
           "landcolor": "white",
           "showlakes": true,
           "showland": true,
           "subunitcolor": "#C8D4E3"
          },
          "hoverlabel": {
           "align": "left"
          },
          "hovermode": "closest",
          "mapbox": {
           "style": "light"
          },
          "paper_bgcolor": "white",
          "plot_bgcolor": "white",
          "polar": {
           "angularaxis": {
            "gridcolor": "#EBF0F8",
            "linecolor": "#EBF0F8",
            "ticks": ""
           },
           "bgcolor": "white",
           "radialaxis": {
            "gridcolor": "#EBF0F8",
            "linecolor": "#EBF0F8",
            "ticks": ""
           }
          },
          "scene": {
           "xaxis": {
            "backgroundcolor": "white",
            "gridcolor": "#DFE8F3",
            "gridwidth": 2,
            "linecolor": "#EBF0F8",
            "showbackground": true,
            "ticks": "",
            "zerolinecolor": "#EBF0F8"
           },
           "yaxis": {
            "backgroundcolor": "white",
            "gridcolor": "#DFE8F3",
            "gridwidth": 2,
            "linecolor": "#EBF0F8",
            "showbackground": true,
            "ticks": "",
            "zerolinecolor": "#EBF0F8"
           },
           "zaxis": {
            "backgroundcolor": "white",
            "gridcolor": "#DFE8F3",
            "gridwidth": 2,
            "linecolor": "#EBF0F8",
            "showbackground": true,
            "ticks": "",
            "zerolinecolor": "#EBF0F8"
           }
          },
          "shapedefaults": {
           "line": {
            "color": "#2a3f5f"
           }
          },
          "ternary": {
           "aaxis": {
            "gridcolor": "#DFE8F3",
            "linecolor": "#A2B1C6",
            "ticks": ""
           },
           "baxis": {
            "gridcolor": "#DFE8F3",
            "linecolor": "#A2B1C6",
            "ticks": ""
           },
           "bgcolor": "white",
           "caxis": {
            "gridcolor": "#DFE8F3",
            "linecolor": "#A2B1C6",
            "ticks": ""
           }
          },
          "title": {
           "x": 0.05
          },
          "xaxis": {
           "automargin": true,
           "gridcolor": "#EBF0F8",
           "linecolor": "#EBF0F8",
           "ticks": "",
           "title": {
            "standoff": 15
           },
           "zerolinecolor": "#EBF0F8",
           "zerolinewidth": 2
          },
          "yaxis": {
           "automargin": true,
           "gridcolor": "#EBF0F8",
           "linecolor": "#EBF0F8",
           "ticks": "",
           "title": {
            "standoff": 15
           },
           "zerolinecolor": "#EBF0F8",
           "zerolinewidth": 2
          }
         }
        },
        "xaxis": {
         "anchor": "y",
         "domain": [
          0,
          1
         ],
         "title": {
          "text": "manufacture_date_dt"
         }
        },
        "yaxis": {
         "anchor": "x",
         "domain": [
          0,
          1
         ],
         "title": {
          "text": "count"
         }
        }
       }
      }
     },
     "metadata": {},
     "output_type": "display_data"
    }
   ],
   "source": [
    "fig = px.line(years, x='manufacture_date_dt', y = 'count')\n",
    "\n",
    "fig.show()\n",
    "fig.write_image('images/manufacturing.svg')"
   ]
  },
  {
   "cell_type": "code",
   "execution_count": null,
   "id": "5f99181e",
   "metadata": {},
   "outputs": [],
   "source": []
  },
  {
   "cell_type": "code",
   "execution_count": 25,
   "id": "6e46bd63",
   "metadata": {},
   "outputs": [
    {
     "data": {
      "application/vnd.microsoft.datawrangler.viewer.v0+json": {
       "columns": [
        {
         "name": "index",
         "rawType": "int64",
         "type": "integer"
        },
        {
         "name": "manufacturer",
         "rawType": "object",
         "type": "unknown"
        },
        {
         "name": "name",
         "rawType": "object",
         "type": "string"
        },
        {
         "name": "manufacture_date",
         "rawType": "object",
         "type": "string"
        }
       ],
       "ref": "ede211ea-4fce-4e9b-bb7a-6e7cfcc3d92c",
       "rows": [
        [
         "2275",
         "{'manufacturer_id': 12, 'name': 'Stern', 'full_name': 'Stern Pinball, Inc.', 'created_at': '2018-03-11', 'updated_at': '2018-03-11'}",
         "Jaws (50th anniversary)",
         "2025-07-02"
        ],
        [
         "2111",
         "{'manufacturer_id': 124, 'name': 'Pinball Brothers', 'full_name': 'Pinball Brothers', 'created_at': '2021-05-06', 'updated_at': '2021-05-06'}",
         "Predator",
         "2025-06-18"
        ],
        [
         "2100",
         "{'manufacturer_id': 74, 'name': 'Jersey Jack Pinball', 'full_name': 'Jersey Jack Pinball', 'created_at': '2018-03-11', 'updated_at': '2018-03-11'}",
         "Harry Potter",
         "2025-06-05"
        ],
        [
         "2266",
         "{'manufacturer_id': 74, 'name': 'Jersey Jack Pinball', 'full_name': 'Jersey Jack Pinball', 'created_at': '2018-03-11', 'updated_at': '2018-03-11'}",
         "Harry Potter (Wizard)",
         "2025-06-05"
        ],
        [
         "2267",
         "{'manufacturer_id': 74, 'name': 'Jersey Jack Pinball', 'full_name': 'Jersey Jack Pinball', 'created_at': '2018-03-11', 'updated_at': '2018-03-11'}",
         "Harry Potter (CE)",
         "2025-06-05"
        ],
        [
         "2265",
         "{'manufacturer_id': 74, 'name': 'Jersey Jack Pinball', 'full_name': 'Jersey Jack Pinball', 'created_at': '2018-03-11', 'updated_at': '2018-03-11'}",
         "Harry Potter (Arcade)",
         "2025-06-05"
        ],
        [
         "2263",
         "{'manufacturer_id': 12, 'name': 'Stern', 'full_name': 'Stern Pinball, Inc.', 'created_at': '2018-03-11', 'updated_at': '2018-03-11'}",
         "King Kong: Myth of Terror Island (LE)",
         "2025-04-15"
        ],
        [
         "2095",
         "{'manufacturer_id': 12, 'name': 'Stern', 'full_name': 'Stern Pinball, Inc.', 'created_at': '2018-03-11', 'updated_at': '2018-03-11'}",
         "King Kong: Myth of Terror Island (Pro)",
         "2025-04-15"
        ],
        [
         "2096",
         "{'manufacturer_id': 12, 'name': 'Stern', 'full_name': 'Stern Pinball, Inc.', 'created_at': '2018-03-11', 'updated_at': '2018-03-11'}",
         "King Kong: Myth of Terror Island (Premium/LE)",
         "2025-04-15"
        ],
        [
         "2262",
         "{'manufacturer_id': 12, 'name': 'Stern', 'full_name': 'Stern Pinball, Inc.', 'created_at': '2018-03-11', 'updated_at': '2018-03-11'}",
         "King Kong: Myth of Terror Island (Premium)",
         "2025-04-15"
        ],
        [
         "2094",
         "{'manufacturer_id': 136, 'name': 'Barrels of Fun', 'full_name': 'Barrels of Fun', 'created_at': '2023-10-24', 'updated_at': '2023-10-24'}",
         "Dune",
         "2025-04-14"
        ],
        [
         "2090",
         "{'manufacturer_id': 91, 'name': 'Multimorphic', 'full_name': 'Multimorphic', 'created_at': '2018-03-11', 'updated_at': '2018-03-11'}",
         "Portal (Extended)",
         "2025-03-01"
        ],
        [
         "2087",
         "{'manufacturer_id': 143, 'name': 'Turner Pinball', 'full_name': 'Turner Pinball', 'created_at': '2024-03-13', 'updated_at': '2024-03-13'}",
         "Merlin's Arcade (Legendary Edition)",
         "2025-03-01"
        ],
        [
         "2088",
         "{'manufacturer_id': 143, 'name': 'Turner Pinball', 'full_name': 'Turner Pinball', 'created_at': '2024-03-13', 'updated_at': '2024-03-13'}",
         "Merlin's Arcade (Arcade Edition)",
         "2025-03-01"
        ],
        [
         "2261",
         "{'manufacturer_id': 112, 'name': 'Chicago Gaming', 'full_name': 'Chicago Gaming Company', 'created_at': '2018-03-11', 'updated_at': '2018-03-11'}",
         "Cactus Canyon (Lyman Upgrade)",
         "2025-03-01"
        ],
        [
         "2089",
         "{'manufacturer_id': 91, 'name': 'Multimorphic', 'full_name': 'Multimorphic', 'created_at': '2018-03-11', 'updated_at': '2018-03-11'}",
         "Portal (Standard)",
         "2025-03-01"
        ],
        [
         "2085",
         "{'manufacturer_id': 155, 'name': \"Ramp's Pinball\", 'full_name': \"Ramp's Pinball Manufacturing\", 'created_at': '2025-02-06', 'updated_at': '2025-02-06'}",
         "Road Trip",
         "2025-02-01"
        ],
        [
         "2082",
         "{'manufacturer_id': 116, 'name': 'Homepin', 'full_name': 'Homepin', 'created_at': '2018-10-15', 'updated_at': '2018-10-15'}",
         "Blues Brothers",
         "2025-01-13"
        ],
        [
         "2075",
         "{'manufacturer_id': 54, 'name': 'Dutch Pinball', 'full_name': 'Dutch Pinball', 'created_at': '2018-03-11', 'updated_at': '2018-03-11'}",
         "Alice's Adventures in Wonderland",
         "2025-01-01"
        ],
        [
         "2256",
         "{'manufacturer_id': 12, 'name': 'Stern', 'full_name': 'Stern Pinball, Inc.', 'created_at': '2018-03-11', 'updated_at': '2018-03-11'}",
         "Dungeons & Dragons: The Tyrant's Eye (LE)",
         "2025-01-01"
        ],
        [
         "2080",
         "{'manufacturer_id': 12, 'name': 'Stern', 'full_name': 'Stern Pinball, Inc.', 'created_at': '2018-03-11', 'updated_at': '2018-03-11'}",
         "Dungeons & Dragons: The Tyrant's Eye (Pro)",
         "2025-01-01"
        ],
        [
         "2258",
         "{'manufacturer_id': 151, 'name': 'Vector Pinball', 'full_name': 'Vector Pinball', 'created_at': '2024-08-20', 'updated_at': '2024-08-20'}",
         "Peter Brock \"King Of The Mountain\" (VK Commodore)",
         "2025-01-01"
        ],
        [
         "2084",
         "{'manufacturer_id': 151, 'name': 'Vector Pinball', 'full_name': 'Vector Pinball', 'created_at': '2024-08-20', 'updated_at': '2024-08-20'}",
         "Peter Brock / Holden",
         "2025-01-01"
        ],
        [
         "2255",
         "{'manufacturer_id': 12, 'name': 'Stern', 'full_name': 'Stern Pinball, Inc.', 'created_at': '2018-03-11', 'updated_at': '2018-03-11'}",
         "Dungeons & Dragons: The Tyrant's Eye (Premium)",
         "2025-01-01"
        ],
        [
         "2081",
         "{'manufacturer_id': 12, 'name': 'Stern', 'full_name': 'Stern Pinball, Inc.', 'created_at': '2018-03-11', 'updated_at': '2018-03-11'}",
         "Dungeons & Dragons: The Tyrant's Eye (Premium/LE)",
         "2025-01-01"
        ],
        [
         "2259",
         "{'manufacturer_id': 151, 'name': 'Vector Pinball', 'full_name': 'Vector Pinball', 'created_at': '2024-08-20', 'updated_at': '2024-08-20'}",
         "Holden Heritage",
         "2025-01-01"
        ],
        [
         "2257",
         "{'manufacturer_id': 151, 'name': 'Vector Pinball', 'full_name': 'Vector Pinball', 'created_at': '2024-08-20', 'updated_at': '2024-08-20'}",
         "Peter Brock \"King Of The Mountain\" (Torana)",
         "2025-01-01"
        ],
        [
         "2078",
         "{'manufacturer_id': 95, 'name': 'Spooky Pinball', 'full_name': 'Spooky Pinball LLC', 'created_at': '2018-03-11', 'updated_at': '2018-03-11'}",
         "Evil Dead (CE)",
         "2024-12-01"
        ],
        [
         "2076",
         "{'manufacturer_id': 154, 'name': 'Rebellion Pinball', 'full_name': 'Rebellion Pinball', 'created_at': '2024-10-24', 'updated_at': '2024-10-24'}",
         "Space Singularity",
         "2024-10-24"
        ],
        [
         "2079",
         "{'manufacturer_id': 12, 'name': 'Stern', 'full_name': 'Stern Pinball, Inc.', 'created_at': '2018-03-11', 'updated_at': '2018-03-11'}",
         "Metallica Remastered (Premium/LE)",
         "2024-10-01"
        ],
        [
         "2254",
         "{'manufacturer_id': 12, 'name': 'Stern', 'full_name': 'Stern Pinball, Inc.', 'created_at': '2018-03-11', 'updated_at': '2018-03-11'}",
         "Metallica Remastered (LE)",
         "2024-10-01"
        ],
        [
         "2253",
         "{'manufacturer_id': 12, 'name': 'Stern', 'full_name': 'Stern Pinball, Inc.', 'created_at': '2018-03-11', 'updated_at': '2018-03-11'}",
         "Metallica Remastered (Premium)",
         "2024-10-01"
        ],
        [
         "2074",
         "{'manufacturer_id': 74, 'name': 'Jersey Jack Pinball', 'full_name': 'Jersey Jack Pinball', 'created_at': '2018-03-11', 'updated_at': '2018-03-11'}",
         "Avatar: The Battle for Pandora",
         "2024-09-12"
        ],
        [
         "2249",
         "{'manufacturer_id': 74, 'name': 'Jersey Jack Pinball', 'full_name': 'Jersey Jack Pinball', 'created_at': '2018-03-11', 'updated_at': '2018-03-11'}",
         "Avatar: The Battle for Pandora (CE)",
         "2024-09-12"
        ],
        [
         "2248",
         "{'manufacturer_id': 74, 'name': 'Jersey Jack Pinball', 'full_name': 'Jersey Jack Pinball', 'created_at': '2018-03-11', 'updated_at': '2018-03-11'}",
         "Avatar: The Battle for Pandora (LE)",
         "2024-09-12"
        ],
        [
         "2073",
         "{'manufacturer_id': 12, 'name': 'Stern', 'full_name': 'Stern Pinball, Inc.', 'created_at': '2018-03-11', 'updated_at': '2018-03-11'}",
         "The Uncanny X-Men (Premium/LE)",
         "2024-09-04"
        ],
        [
         "2246",
         "{'manufacturer_id': 12, 'name': 'Stern', 'full_name': 'Stern Pinball, Inc.', 'created_at': '2018-03-11', 'updated_at': '2018-03-11'}",
         "The Uncanny X-Men (LE)",
         "2024-09-04"
        ],
        [
         "2245",
         "{'manufacturer_id': 12, 'name': 'Stern', 'full_name': 'Stern Pinball, Inc.', 'created_at': '2018-03-11', 'updated_at': '2018-03-11'}",
         "The Uncanny X-Men (Premium)",
         "2024-09-04"
        ],
        [
         "2072",
         "{'manufacturer_id': 12, 'name': 'Stern', 'full_name': 'Stern Pinball, Inc.', 'created_at': '2018-03-11', 'updated_at': '2018-03-11'}",
         "The Uncanny X-Men (Pro)",
         "2024-09-04"
        ],
        [
         "2243",
         "{'manufacturer_id': 12, 'name': 'Stern', 'full_name': 'Stern Pinball, Inc.', 'created_at': '2018-03-11', 'updated_at': '2018-03-11'}",
         "Godzilla (70th Anniversary)",
         "2024-07-01"
        ],
        [
         "2017",
         "{'manufacturer_id': 140, 'name': 'Ian Harrower Games', 'full_name': 'Ian Harrower Games', 'created_at': '2024-01-11', 'updated_at': '2024-01-11'}",
         "Blood Bank Billiards",
         "2024-06-06"
        ],
        [
         "2240",
         "{'manufacturer_id': 12, 'name': 'Stern', 'full_name': 'Stern Pinball, Inc.', 'created_at': '2018-03-11', 'updated_at': '2018-03-11'}",
         "John Wick (Premium)",
         "2024-05-06"
        ],
        [
         "1979",
         "{'manufacturer_id': 12, 'name': 'Stern', 'full_name': 'Stern Pinball, Inc.', 'created_at': '2018-03-11', 'updated_at': '2018-03-11'}",
         "John Wick (Premium/LE)",
         "2024-05-06"
        ],
        [
         "2241",
         "{'manufacturer_id': 12, 'name': 'Stern', 'full_name': 'Stern Pinball, Inc.', 'created_at': '2018-03-11', 'updated_at': '2018-03-11'}",
         "John Wick (LE)",
         "2024-05-06"
        ],
        [
         "1978",
         "{'manufacturer_id': 12, 'name': 'Stern', 'full_name': 'Stern Pinball, Inc.', 'created_at': '2018-03-11', 'updated_at': '2018-03-11'}",
         "John Wick (Pro)",
         "2024-05-06"
        ],
        [
         "2077",
         "{'manufacturer_id': 132, 'name': 'Pedretti Gaming', 'full_name': 'Pedretti Gaming', 'created_at': '2022-05-13', 'updated_at': '2022-05-13'}",
         "Funhouse (Remake)",
         "2024-05-01"
        ],
        [
         "2251",
         "{'manufacturer_id': 132, 'name': 'Pedretti Gaming', 'full_name': 'Pedretti Gaming', 'created_at': '2022-05-13', 'updated_at': '2022-05-13'}",
         "Funhouse (Remake CE)",
         "2024-05-01"
        ],
        [
         "2252",
         "{'manufacturer_id': 132, 'name': 'Pedretti Gaming', 'full_name': 'Pedretti Gaming', 'created_at': '2022-05-13', 'updated_at': '2022-05-13'}",
         "Funhouse (Remake LE)",
         "2024-05-01"
        ],
        [
         "2237",
         "{'manufacturer_id': 124, 'name': 'Pinball Brothers', 'full_name': 'Pinball Brothers', 'created_at': '2021-05-06', 'updated_at': '2021-05-06'}",
         "ABBA (CE)",
         "2024-04-06"
        ],
        [
         "2236",
         "{'manufacturer_id': 124, 'name': 'Pinball Brothers', 'full_name': 'Pinball Brothers', 'created_at': '2021-05-06', 'updated_at': '2021-05-06'}",
         "ABBA (LE)",
         "2024-04-06"
        ]
       ],
       "shape": {
        "columns": 3,
        "rows": 2277
       }
      },
      "text/html": [
       "<div>\n",
       "<style scoped>\n",
       "    .dataframe tbody tr th:only-of-type {\n",
       "        vertical-align: middle;\n",
       "    }\n",
       "\n",
       "    .dataframe tbody tr th {\n",
       "        vertical-align: top;\n",
       "    }\n",
       "\n",
       "    .dataframe thead th {\n",
       "        text-align: right;\n",
       "    }\n",
       "</style>\n",
       "<table border=\"1\" class=\"dataframe\">\n",
       "  <thead>\n",
       "    <tr style=\"text-align: right;\">\n",
       "      <th></th>\n",
       "      <th>manufacturer</th>\n",
       "      <th>name</th>\n",
       "      <th>manufacture_date</th>\n",
       "    </tr>\n",
       "  </thead>\n",
       "  <tbody>\n",
       "    <tr>\n",
       "      <th>2275</th>\n",
       "      <td>{'manufacturer_id': 12, 'name': 'Stern', 'full...</td>\n",
       "      <td>Jaws (50th anniversary)</td>\n",
       "      <td>2025-07-02</td>\n",
       "    </tr>\n",
       "    <tr>\n",
       "      <th>2111</th>\n",
       "      <td>{'manufacturer_id': 124, 'name': 'Pinball Brot...</td>\n",
       "      <td>Predator</td>\n",
       "      <td>2025-06-18</td>\n",
       "    </tr>\n",
       "    <tr>\n",
       "      <th>2100</th>\n",
       "      <td>{'manufacturer_id': 74, 'name': 'Jersey Jack P...</td>\n",
       "      <td>Harry Potter</td>\n",
       "      <td>2025-06-05</td>\n",
       "    </tr>\n",
       "    <tr>\n",
       "      <th>2266</th>\n",
       "      <td>{'manufacturer_id': 74, 'name': 'Jersey Jack P...</td>\n",
       "      <td>Harry Potter (Wizard)</td>\n",
       "      <td>2025-06-05</td>\n",
       "    </tr>\n",
       "    <tr>\n",
       "      <th>2267</th>\n",
       "      <td>{'manufacturer_id': 74, 'name': 'Jersey Jack P...</td>\n",
       "      <td>Harry Potter (CE)</td>\n",
       "      <td>2025-06-05</td>\n",
       "    </tr>\n",
       "    <tr>\n",
       "      <th>...</th>\n",
       "      <td>...</td>\n",
       "      <td>...</td>\n",
       "      <td>...</td>\n",
       "    </tr>\n",
       "    <tr>\n",
       "      <th>1633</th>\n",
       "      <td>{'manufacturer_id': 2, 'name': 'Gottlieb', 'fu...</td>\n",
       "      <td>Cinderella</td>\n",
       "      <td>1948-01-01</td>\n",
       "    </tr>\n",
       "    <tr>\n",
       "      <th>1878</th>\n",
       "      <td>{'manufacturer_id': 46, 'name': 'Keeney', 'ful...</td>\n",
       "      <td>Cover Girl</td>\n",
       "      <td>1947-12-01</td>\n",
       "    </tr>\n",
       "    <tr>\n",
       "      <th>1876</th>\n",
       "      <td>{'manufacturer_id': 2, 'name': 'Gottlieb', 'fu...</td>\n",
       "      <td>Humpty Dumpty</td>\n",
       "      <td>1947-10-25</td>\n",
       "    </tr>\n",
       "    <tr>\n",
       "      <th>1889</th>\n",
       "      <td>{'manufacturer_id': 127, 'name': 'Sankyo Seiki...</td>\n",
       "      <td>The World Series</td>\n",
       "      <td>1900-01-01</td>\n",
       "    </tr>\n",
       "    <tr>\n",
       "      <th>2104</th>\n",
       "      <td>{'manufacturer_id': 73, 'name': 'Taito', 'full...</td>\n",
       "      <td>Gork</td>\n",
       "      <td>1900-01-01</td>\n",
       "    </tr>\n",
       "  </tbody>\n",
       "</table>\n",
       "<p>2277 rows × 3 columns</p>\n",
       "</div>"
      ],
      "text/plain": [
       "                                           manufacturer  \\\n",
       "2275  {'manufacturer_id': 12, 'name': 'Stern', 'full...   \n",
       "2111  {'manufacturer_id': 124, 'name': 'Pinball Brot...   \n",
       "2100  {'manufacturer_id': 74, 'name': 'Jersey Jack P...   \n",
       "2266  {'manufacturer_id': 74, 'name': 'Jersey Jack P...   \n",
       "2267  {'manufacturer_id': 74, 'name': 'Jersey Jack P...   \n",
       "...                                                 ...   \n",
       "1633  {'manufacturer_id': 2, 'name': 'Gottlieb', 'fu...   \n",
       "1878  {'manufacturer_id': 46, 'name': 'Keeney', 'ful...   \n",
       "1876  {'manufacturer_id': 2, 'name': 'Gottlieb', 'fu...   \n",
       "1889  {'manufacturer_id': 127, 'name': 'Sankyo Seiki...   \n",
       "2104  {'manufacturer_id': 73, 'name': 'Taito', 'full...   \n",
       "\n",
       "                         name manufacture_date  \n",
       "2275  Jaws (50th anniversary)       2025-07-02  \n",
       "2111                 Predator       2025-06-18  \n",
       "2100             Harry Potter       2025-06-05  \n",
       "2266    Harry Potter (Wizard)       2025-06-05  \n",
       "2267        Harry Potter (CE)       2025-06-05  \n",
       "...                       ...              ...  \n",
       "1633               Cinderella       1948-01-01  \n",
       "1878               Cover Girl       1947-12-01  \n",
       "1876            Humpty Dumpty       1947-10-25  \n",
       "1889         The World Series       1900-01-01  \n",
       "2104                     Gork       1900-01-01  \n",
       "\n",
       "[2277 rows x 3 columns]"
      ]
     },
     "execution_count": 25,
     "metadata": {},
     "output_type": "execute_result"
    }
   ],
   "source": [
    "opdb.sort_values(by='manufacture_date_dt', ascending=False)[['manufacturer', 'name', 'manufacture_date']]"
   ]
  },
  {
   "cell_type": "code",
   "execution_count": 26,
   "id": "34bf87b8",
   "metadata": {},
   "outputs": [
    {
     "data": {
      "application/vnd.microsoft.datawrangler.viewer.v0+json": {
       "columns": [
        {
         "name": "index",
         "rawType": "int64",
         "type": "integer"
        },
        {
         "name": "manufacturer",
         "rawType": "object",
         "type": "string"
        }
       ],
       "ref": "f1d03716-5713-4037-9675-2397187349a6",
       "rows": [
        [
         "0",
         "manufacturer_id"
        ],
        [
         "0",
         "name"
        ],
        [
         "0",
         "full_name"
        ],
        [
         "0",
         "created_at"
        ],
        [
         "0",
         "updated_at"
        ],
        [
         "1",
         "manufacturer_id"
        ],
        [
         "1",
         "name"
        ],
        [
         "1",
         "full_name"
        ],
        [
         "1",
         "created_at"
        ],
        [
         "1",
         "updated_at"
        ],
        [
         "2",
         "manufacturer_id"
        ],
        [
         "2",
         "name"
        ],
        [
         "2",
         "full_name"
        ],
        [
         "2",
         "created_at"
        ],
        [
         "2",
         "updated_at"
        ],
        [
         "3",
         "manufacturer_id"
        ],
        [
         "3",
         "name"
        ],
        [
         "3",
         "full_name"
        ],
        [
         "3",
         "created_at"
        ],
        [
         "3",
         "updated_at"
        ],
        [
         "4",
         "manufacturer_id"
        ],
        [
         "4",
         "name"
        ],
        [
         "4",
         "full_name"
        ],
        [
         "4",
         "created_at"
        ],
        [
         "4",
         "updated_at"
        ],
        [
         "5",
         "manufacturer_id"
        ],
        [
         "5",
         "name"
        ],
        [
         "5",
         "full_name"
        ],
        [
         "5",
         "created_at"
        ],
        [
         "5",
         "updated_at"
        ],
        [
         "6",
         "manufacturer_id"
        ],
        [
         "6",
         "name"
        ],
        [
         "6",
         "full_name"
        ],
        [
         "6",
         "created_at"
        ],
        [
         "6",
         "updated_at"
        ],
        [
         "7",
         "manufacturer_id"
        ],
        [
         "7",
         "name"
        ],
        [
         "7",
         "full_name"
        ],
        [
         "7",
         "created_at"
        ],
        [
         "7",
         "updated_at"
        ],
        [
         "8",
         "manufacturer_id"
        ],
        [
         "8",
         "name"
        ],
        [
         "8",
         "full_name"
        ],
        [
         "8",
         "created_at"
        ],
        [
         "8",
         "updated_at"
        ],
        [
         "9",
         "manufacturer_id"
        ],
        [
         "9",
         "name"
        ],
        [
         "9",
         "full_name"
        ],
        [
         "9",
         "created_at"
        ],
        [
         "9",
         "updated_at"
        ]
       ],
       "shape": {
        "columns": 1,
        "rows": 11375
       }
      },
      "text/plain": [
       "0       manufacturer_id\n",
       "0                  name\n",
       "0             full_name\n",
       "0            created_at\n",
       "0            updated_at\n",
       "             ...       \n",
       "2276    manufacturer_id\n",
       "2276               name\n",
       "2276          full_name\n",
       "2276         created_at\n",
       "2276         updated_at\n",
       "Name: manufacturer, Length: 11375, dtype: object"
      ]
     },
     "execution_count": 26,
     "metadata": {},
     "output_type": "execute_result"
    }
   ],
   "source": [
    "opdb_filt['manufacturer'].explode()"
   ]
  },
  {
   "cell_type": "code",
   "execution_count": 27,
   "id": "bcba3055",
   "metadata": {},
   "outputs": [
    {
     "name": "stderr",
     "output_type": "stream",
     "text": [
      "C:\\Users\\nmuff\\AppData\\Local\\Temp\\ipykernel_33036\\4064344750.py:8: SettingWithCopyWarning:\n",
      "\n",
      "\n",
      "A value is trying to be set on a copy of a slice from a DataFrame.\n",
      "Try using .loc[row_indexer,col_indexer] = value instead\n",
      "\n",
      "See the caveats in the documentation: https://pandas.pydata.org/pandas-docs/stable/user_guide/indexing.html#returning-a-view-versus-a-copy\n",
      "\n"
     ]
    }
   ],
   "source": [
    "def get_manufacturer(row):\n",
    "    name = row['manufacturer']['name']\n",
    "    return name\n",
    "\n",
    "\n",
    "get_manufacturer(opdb_filt.iloc[0])\n",
    "\n",
    "opdb_filt['manufacturer_name']=opdb_filt.apply(get_manufacturer, axis=1)"
   ]
  },
  {
   "cell_type": "code",
   "execution_count": 28,
   "id": "cd449e77",
   "metadata": {},
   "outputs": [
    {
     "name": "stderr",
     "output_type": "stream",
     "text": [
      "C:\\Users\\nmuff\\AppData\\Local\\Temp\\ipykernel_33036\\899971103.py:1: SettingWithCopyWarning:\n",
      "\n",
      "\n",
      "A value is trying to be set on a copy of a slice from a DataFrame.\n",
      "Try using .loc[row_indexer,col_indexer] = value instead\n",
      "\n",
      "See the caveats in the documentation: https://pandas.pydata.org/pandas-docs/stable/user_guide/indexing.html#returning-a-view-versus-a-copy\n",
      "\n"
     ]
    }
   ],
   "source": [
    "opdb_filt['year']= opdb_filt['manufacture_date_dt'].dt.year"
   ]
  },
  {
   "cell_type": "code",
   "execution_count": 29,
   "id": "949562f5",
   "metadata": {},
   "outputs": [
    {
     "data": {
      "application/vnd.microsoft.datawrangler.viewer.v0+json": {
       "columns": [
        {
         "name": "index",
         "rawType": "int64",
         "type": "integer"
        },
        {
         "name": "year",
         "rawType": "int32",
         "type": "integer"
        },
        {
         "name": "manufacturer_name",
         "rawType": "object",
         "type": "string"
        }
       ],
       "ref": "64c1e652-c5b0-4eb9-941b-cdaf8c1ebcdc",
       "rows": [
        [
         "0",
         "1971",
         "Gottlieb"
        ],
        [
         "1",
         "1969",
         "Chicago Coin"
        ],
        [
         "2",
         "1986",
         "Cic Play"
        ],
        [
         "3",
         "1974",
         "Gottlieb"
        ],
        [
         "4",
         "1977",
         "Playmatic"
        ]
       ],
       "shape": {
        "columns": 2,
        "rows": 5
       }
      },
      "text/html": [
       "<div>\n",
       "<style scoped>\n",
       "    .dataframe tbody tr th:only-of-type {\n",
       "        vertical-align: middle;\n",
       "    }\n",
       "\n",
       "    .dataframe tbody tr th {\n",
       "        vertical-align: top;\n",
       "    }\n",
       "\n",
       "    .dataframe thead th {\n",
       "        text-align: right;\n",
       "    }\n",
       "</style>\n",
       "<table border=\"1\" class=\"dataframe\">\n",
       "  <thead>\n",
       "    <tr style=\"text-align: right;\">\n",
       "      <th></th>\n",
       "      <th>year</th>\n",
       "      <th>manufacturer_name</th>\n",
       "    </tr>\n",
       "  </thead>\n",
       "  <tbody>\n",
       "    <tr>\n",
       "      <th>0</th>\n",
       "      <td>1971</td>\n",
       "      <td>Gottlieb</td>\n",
       "    </tr>\n",
       "    <tr>\n",
       "      <th>1</th>\n",
       "      <td>1969</td>\n",
       "      <td>Chicago Coin</td>\n",
       "    </tr>\n",
       "    <tr>\n",
       "      <th>2</th>\n",
       "      <td>1986</td>\n",
       "      <td>Cic Play</td>\n",
       "    </tr>\n",
       "    <tr>\n",
       "      <th>3</th>\n",
       "      <td>1974</td>\n",
       "      <td>Gottlieb</td>\n",
       "    </tr>\n",
       "    <tr>\n",
       "      <th>4</th>\n",
       "      <td>1977</td>\n",
       "      <td>Playmatic</td>\n",
       "    </tr>\n",
       "  </tbody>\n",
       "</table>\n",
       "</div>"
      ],
      "text/plain": [
       "   year manufacturer_name\n",
       "0  1971          Gottlieb\n",
       "1  1969      Chicago Coin\n",
       "2  1986          Cic Play\n",
       "3  1974          Gottlieb\n",
       "4  1977         Playmatic"
      ]
     },
     "execution_count": 29,
     "metadata": {},
     "output_type": "execute_result"
    }
   ],
   "source": [
    "opdb_filt[['year','manufacturer_name']].head()"
   ]
  },
  {
   "cell_type": "code",
   "execution_count": 30,
   "id": "a27370bf",
   "metadata": {},
   "outputs": [
    {
     "data": {
      "application/vnd.microsoft.datawrangler.viewer.v0+json": {
       "columns": [
        {
         "name": "index",
         "rawType": "int64",
         "type": "integer"
        },
        {
         "name": "opdb_id",
         "rawType": "object",
         "type": "string"
        },
        {
         "name": "is_machine",
         "rawType": "object",
         "type": "unknown"
        },
        {
         "name": "name",
         "rawType": "object",
         "type": "string"
        },
        {
         "name": "common_name",
         "rawType": "object",
         "type": "unknown"
        },
        {
         "name": "shortname",
         "rawType": "object",
         "type": "unknown"
        },
        {
         "name": "physical_machine",
         "rawType": "float64",
         "type": "float"
        },
        {
         "name": "ipdb_id",
         "rawType": "float64",
         "type": "float"
        },
        {
         "name": "manufacture_date",
         "rawType": "object",
         "type": "string"
        },
        {
         "name": "manufacturer",
         "rawType": "object",
         "type": "unknown"
        },
        {
         "name": "type",
         "rawType": "object",
         "type": "unknown"
        },
        {
         "name": "display",
         "rawType": "object",
         "type": "unknown"
        },
        {
         "name": "player_count",
         "rawType": "float64",
         "type": "float"
        },
        {
         "name": "features",
         "rawType": "object",
         "type": "unknown"
        },
        {
         "name": "keywords",
         "rawType": "object",
         "type": "unknown"
        },
        {
         "name": "description",
         "rawType": "object",
         "type": "unknown"
        },
        {
         "name": "created_at",
         "rawType": "object",
         "type": "string"
        },
        {
         "name": "updated_at",
         "rawType": "object",
         "type": "string"
        },
        {
         "name": "images",
         "rawType": "object",
         "type": "unknown"
        },
        {
         "name": "is_alias",
         "rawType": "object",
         "type": "unknown"
        },
        {
         "name": "manufacture_date_dt",
         "rawType": "datetime64[ns]",
         "type": "datetime"
        },
        {
         "name": "manufacturer_name",
         "rawType": "object",
         "type": "string"
        },
        {
         "name": "year",
         "rawType": "int32",
         "type": "integer"
        }
       ],
       "ref": "5de3ee2a-cad9-427e-96c5-d08f1e2a24b6",
       "rows": [
        [
         "1878",
         "GV88w-Mp4Bl",
         "True",
         "Cover Girl",
         "",
         "",
         "1.0",
         "579.0",
         "1947-12-01",
         "{'manufacturer_id': 46, 'name': 'Keeney', 'full_name': 'Keeney and Sons', 'created_at': '2018-03-11', 'updated_at': '2018-03-11'}",
         "me",
         "lights",
         "1.0",
         "[]",
         "[]",
         "",
         "2020-12-09",
         "2024-07-12",
         "[{'title': None, 'primary': True, 'type': 'backglass', 'urls': {'medium': 'https://img.opdb.org/bf7bcbc3-5236-44f9-a6db-c42d8721811f-medium.jpg', 'large': 'https://img.opdb.org/bf7bcbc3-5236-44f9-a6db-c42d8721811f-large.jpg', 'small': 'https://img.opdb.org/bf7bcbc3-5236-44f9-a6db-c42d8721811f-small.jpg'}, 'sizes': {'medium': {'width': 640, 'height': 544}, 'large': {'width': 1500, 'height': 1276}, 'small': {'width': 250, 'height': 213}}}]",
         null,
         "1947-12-01 00:00:00",
         "Keeney",
         "1947"
        ],
        [
         "1876",
         "GyVVQ-MVKYX",
         "True",
         "Humpty Dumpty",
         "",
         "HD",
         "1.0",
         "1254.0",
         "1947-10-25",
         "{'manufacturer_id': 2, 'name': 'Gottlieb', 'full_name': 'D. Gottlieb & Co.', 'created_at': '2018-03-11', 'updated_at': '2018-03-11'}",
         "me",
         "lights",
         "1.0",
         "[]",
         "[]",
         "",
         "2020-12-08",
         "2022-01-26",
         "[{'title': None, 'primary': True, 'type': 'backglass', 'urls': {'medium': 'https://img.opdb.org/10d84ec9-ea65-4b63-be92-2ff288d8e090-medium.jpg', 'large': 'https://img.opdb.org/10d84ec9-ea65-4b63-be92-2ff288d8e090-large.jpg', 'small': 'https://img.opdb.org/10d84ec9-ea65-4b63-be92-2ff288d8e090-small.jpg'}, 'sizes': {'medium': {'width': 640, 'height': 629}, 'large': {'width': 1500, 'height': 1473}, 'small': {'width': 250, 'height': 246}}}, {'title': None, 'primary': True, 'type': 'playfield', 'urls': {'medium': 'https://img.opdb.org/d8a5354b-34b9-4a0d-8cf4-65a277749591-medium.jpg', 'large': 'https://img.opdb.org/d8a5354b-34b9-4a0d-8cf4-65a277749591-large.jpg', 'small': 'https://img.opdb.org/d8a5354b-34b9-4a0d-8cf4-65a277749591-small.jpg'}, 'sizes': {'medium': {'width': 480, 'height': 638}, 'large': {'width': 480, 'height': 638}, 'small': {'width': 188, 'height': 250}}}]",
         null,
         "1947-10-25 00:00:00",
         "Gottlieb",
         "1947"
        ],
        [
         "1362",
         "GRQ3b-MrRZ7",
         "True",
         "Rondeevoo",
         null,
         "",
         "1.0",
         "2014.0",
         "1948-06-01",
         "{'manufacturer_id': 26, 'name': 'United', 'full_name': 'United Manufacturing Co.', 'created_at': '2018-03-11', 'updated_at': '2018-03-11'}",
         "em",
         "lights",
         "1.0",
         "[]",
         "[]",
         null,
         "2018-03-11",
         "2018-05-08",
         "[{'title': 'Backglass', 'primary': True, 'type': 'backglass', 'urls': {'medium': 'https://img.opdb.org/d0a14932-eac5-44eb-a5e2-7f647c92032f-medium.jpg', 'large': 'https://img.opdb.org/d0a14932-eac5-44eb-a5e2-7f647c92032f-large.jpg', 'small': 'https://img.opdb.org/d0a14932-eac5-44eb-a5e2-7f647c92032f-small.jpg'}, 'sizes': {'medium': {'width': 640, 'height': 511}, 'large': {'width': 752, 'height': 600}, 'small': {'width': 250, 'height': 199}}}]",
         null,
         "1948-06-01 00:00:00",
         "United",
         "1948"
        ],
        [
         "1938",
         "Gzybj-ME0V0",
         "True",
         "One-Two-Three",
         "",
         "",
         "1.0",
         "1720.0",
         "1948-10-30",
         "{'manufacturer_id': 24, 'name': 'Genco', 'full_name': 'Genco Manufacturing Co.', 'created_at': '2018-03-11', 'updated_at': '2018-03-11'}",
         "em",
         "lights",
         "1.0",
         "[]",
         "[]",
         "",
         "2022-12-18",
         "2022-12-18",
         "[{'title': None, 'primary': True, 'type': 'backglass', 'urls': {'medium': 'https://img.opdb.org/f2ab4c54-5e50-438a-a9c3-a86b4e9e319a-medium.jpg', 'large': 'https://img.opdb.org/f2ab4c54-5e50-438a-a9c3-a86b4e9e319a-large.jpg', 'small': 'https://img.opdb.org/f2ab4c54-5e50-438a-a9c3-a86b4e9e319a-small.jpg'}, 'sizes': {'medium': {'width': 601, 'height': 640}, 'large': {'width': 774, 'height': 824}, 'small': {'width': 235, 'height': 250}}}]",
         null,
         "1948-10-30 00:00:00",
         "Genco",
         "1948"
        ],
        [
         "1950",
         "GPBKv-MNErK",
         "True",
         "Rainbow",
         "",
         "",
         "1.0",
         "1910.0",
         "1948-09-30",
         "{'manufacturer_id': 7, 'name': 'Williams', 'full_name': 'Williams Electronic Games, Inc.', 'created_at': '2018-03-11', 'updated_at': '2018-03-11'}",
         "em",
         "lights",
         "1.0",
         "[]",
         "[]",
         "",
         "2023-04-18",
         "2023-04-18",
         "[]",
         null,
         "1948-09-30 00:00:00",
         "Williams",
         "1948"
        ],
        [
         "2019",
         "G8ljD-Mz2oP",
         "True",
         "Trinidad",
         "",
         "",
         "1.0",
         "2646.0",
         "1948-03-26",
         "{'manufacturer_id': 3, 'name': 'Chicago Coin', 'full_name': 'Chicago Coin Machine Mfg. Co.', 'created_at': '2018-03-11', 'updated_at': '2018-03-11'}",
         "em",
         "reels",
         "1.0",
         "[]",
         "[]",
         "",
         "2024-06-24",
         "2024-06-24",
         "[{'title': None, 'primary': True, 'type': 'backglass', 'urls': {'large': 'https://img.opdb.org/37f4223b-22fa-48c3-8201-dc545dcf2e4e-large.jpg', 'medium': 'https://img.opdb.org/37f4223b-22fa-48c3-8201-dc545dcf2e4e-medium.jpg', 'small': 'https://img.opdb.org/37f4223b-22fa-48c3-8201-dc545dcf2e4e-small.jpg'}, 'sizes': {'large': {'width': 664, 'height': 677}, 'medium': {'width': 627, 'height': 640}, 'small': {'width': 245, 'height': 250}}}]",
         null,
         "1948-03-26 00:00:00",
         "Chicago Coin",
         "1948"
        ],
        [
         "2015",
         "G9zBb-MRjBv",
         "True",
         "Leap-Year",
         "",
         "",
         "1.0",
         "1427.0",
         "1948-04-01",
         "{'manufacturer_id': 144, 'name': 'Marvel', 'full_name': 'Marvel Manufacturing Company', 'created_at': '2024-06-10', 'updated_at': '2024-06-10'}",
         "em",
         "lights",
         "1.0",
         "[]",
         "[]",
         "",
         "2024-06-10",
         "2024-06-10",
         "[]",
         null,
         "1948-04-01 00:00:00",
         "Marvel",
         "1948"
        ],
        [
         "1962",
         "GN6dW-M3d6q",
         "True",
         "El Paso",
         "",
         "",
         "1.0",
         "768.0",
         "1948-11-18",
         "{'manufacturer_id': 7, 'name': 'Williams', 'full_name': 'Williams Electronic Games, Inc.', 'created_at': '2018-03-11', 'updated_at': '2018-03-11'}",
         "em",
         "lights",
         "1.0",
         "[]",
         "[]",
         "",
         "2023-12-14",
         "2023-12-14",
         "[{'title': None, 'primary': True, 'type': 'backglass', 'urls': {'medium': 'https://img.opdb.org/b52e7014-7f2a-4d72-bfe0-5c199b931d82-medium.jpg', 'large': 'https://img.opdb.org/b52e7014-7f2a-4d72-bfe0-5c199b931d82-large.jpg', 'small': 'https://img.opdb.org/b52e7014-7f2a-4d72-bfe0-5c199b931d82-small.jpg'}, 'sizes': {'medium': {'width': 640, 'height': 579}, 'large': {'width': 1003, 'height': 908}, 'small': {'width': 250, 'height': 226}}}]",
         null,
         "1948-11-18 00:00:00",
         "Williams",
         "1948"
        ],
        [
         "2014",
         "GqZdQ-Mq1wW",
         "True",
         "Hit Parade",
         "",
         "",
         "1.0",
         "1200.0",
         "1948-07-01",
         "{'manufacturer_id': 144, 'name': 'Marvel', 'full_name': 'Marvel Manufacturing Company', 'created_at': '2024-06-10', 'updated_at': '2024-06-10'}",
         "em",
         "lights",
         "1.0",
         "[]",
         "[]",
         "",
         "2024-06-10",
         "2024-06-10",
         "[{'title': None, 'primary': True, 'type': 'backglass', 'urls': {'large': 'https://img.opdb.org/908a9584-4963-4500-b5d0-27edd3946735-large.jpg', 'medium': 'https://img.opdb.org/908a9584-4963-4500-b5d0-27edd3946735-medium.jpg', 'small': 'https://img.opdb.org/908a9584-4963-4500-b5d0-27edd3946735-small.jpg'}, 'sizes': {'large': {'width': 1500, 'height': 1474}, 'medium': {'width': 640, 'height': 629}, 'small': {'width': 250, 'height': 246}}}]",
         null,
         "1948-07-01 00:00:00",
         "Marvel",
         "1948"
        ],
        [
         "769",
         "G41WL-MQKn5",
         "True",
         "Speed Way",
         null,
         "",
         "1.0",
         "2281.0",
         "1948-01-01",
         "{'manufacturer_id': 7, 'name': 'Williams', 'full_name': 'Williams Electronic Games, Inc.', 'created_at': '2018-03-11', 'updated_at': '2018-03-11'}",
         "em",
         "lights",
         "1.0",
         "[]",
         "[]",
         "",
         "2018-03-11",
         "2018-05-08",
         "[{'title': 'Backglass', 'primary': True, 'type': 'backglass', 'urls': {'medium': 'https://img.opdb.org/e1649628-6e08-462e-b868-379c77f334a4-medium.jpg', 'large': 'https://img.opdb.org/e1649628-6e08-462e-b868-379c77f334a4-large.jpg', 'small': 'https://img.opdb.org/e1649628-6e08-462e-b868-379c77f334a4-small.jpg'}, 'sizes': {'medium': {'width': 528, 'height': 600}, 'large': {'width': 528, 'height': 600}, 'small': {'width': 220, 'height': 250}}}]",
         null,
         "1948-01-01 00:00:00",
         "Williams",
         "1948"
        ],
        [
         "1973",
         "GO0bK-M9Rep",
         "True",
         "Triple Action",
         "",
         "",
         "1.0",
         "2650.0",
         "1948-01-14",
         "{'manufacturer_id': 24, 'name': 'Genco', 'full_name': 'Genco Manufacturing Co.', 'created_at': '2018-03-11', 'updated_at': '2018-03-11'}",
         "em",
         "lights",
         "1.0",
         "[]",
         "[]",
         "",
         "2024-03-05",
         "2024-03-05",
         "[{'title': None, 'primary': True, 'type': 'backglass', 'urls': {'medium': 'https://img.opdb.org/807d110e-2cd5-4371-8b7b-d80b650143ed-medium.jpg', 'large': 'https://img.opdb.org/807d110e-2cd5-4371-8b7b-d80b650143ed-large.jpg', 'small': 'https://img.opdb.org/807d110e-2cd5-4371-8b7b-d80b650143ed-small.jpg'}, 'sizes': {'medium': {'width': 640, 'height': 638}, 'large': {'width': 773, 'height': 771}, 'small': {'width': 250, 'height': 249}}}]",
         null,
         "1948-01-14 00:00:00",
         "Genco",
         "1948"
        ],
        [
         "2012",
         "GnP2o-MjByk",
         "True",
         "Yanks",
         "",
         "",
         "1.0",
         "2827.0",
         "1948-04-24",
         "{'manufacturer_id': 7, 'name': 'Williams', 'full_name': 'Williams Electronic Games, Inc.', 'created_at': '2018-03-11', 'updated_at': '2018-03-11'}",
         "em",
         "lights",
         "1.0",
         "[]",
         "[]",
         "",
         "2024-06-10",
         "2024-06-10",
         "[{'title': None, 'primary': True, 'type': 'backglass', 'urls': {'large': 'https://img.opdb.org/8ec160f8-a437-4f7b-ac2f-2357c08ce493-large.jpg', 'medium': 'https://img.opdb.org/8ec160f8-a437-4f7b-ac2f-2357c08ce493-medium.jpg', 'small': 'https://img.opdb.org/8ec160f8-a437-4f7b-ac2f-2357c08ce493-small.jpg'}, 'sizes': {'large': {'width': 743, 'height': 880}, 'medium': {'width': 540, 'height': 640}, 'small': {'width': 211, 'height': 250}}}]",
         null,
         "1948-04-24 00:00:00",
         "Williams",
         "1948"
        ],
        [
         "1918",
         "G6lwl-MjBNp",
         "True",
         "Buccaneer",
         "",
         "",
         "1.0",
         "390.0",
         "1948-10-01",
         "{'manufacturer_id': 2, 'name': 'Gottlieb', 'full_name': 'D. Gottlieb & Co.', 'created_at': '2018-03-11', 'updated_at': '2018-03-11'}",
         "em",
         "lights",
         "1.0",
         "[]",
         "[]",
         "",
         "2022-02-16",
         "2022-07-19",
         "[{'title': None, 'primary': True, 'type': 'backglass', 'urls': {'medium': 'https://img.opdb.org/a7eacb12-42bf-4ef1-8f69-3f8c07b77af5-medium.jpg', 'large': 'https://img.opdb.org/a7eacb12-42bf-4ef1-8f69-3f8c07b77af5-large.jpg', 'small': 'https://img.opdb.org/a7eacb12-42bf-4ef1-8f69-3f8c07b77af5-small.jpg'}, 'sizes': {'medium': {'width': 480, 'height': 640}, 'large': {'width': 1125, 'height': 1500}, 'small': {'width': 188, 'height': 250}}}]",
         null,
         "1948-10-01 00:00:00",
         "Gottlieb",
         "1948"
        ],
        [
         "2011",
         "GWy0j-M0oY2",
         "True",
         "Virginia",
         "",
         "",
         "1.0",
         "2740.0",
         "1948-03-30",
         "{'manufacturer_id': 7, 'name': 'Williams', 'full_name': 'Williams Electronic Games, Inc.', 'created_at': '2018-03-11', 'updated_at': '2018-03-11'}",
         "em",
         "lights",
         "1.0",
         "[]",
         "[]",
         "",
         "2024-06-10",
         "2024-06-10",
         "[]",
         null,
         "1948-03-30 00:00:00",
         "Williams",
         "1948"
        ],
        [
         "2010",
         "G181j-MNExE",
         "True",
         "Thrill",
         "",
         "",
         "1.0",
         "2551.0",
         "1948-09-01",
         "{'manufacturer_id': 3, 'name': 'Chicago Coin', 'full_name': 'Chicago Coin Machine Mfg. Co.', 'created_at': '2018-03-11', 'updated_at': '2018-03-11'}",
         "em",
         "lights",
         "1.0",
         "[]",
         "[]",
         "",
         "2024-06-10",
         "2024-06-10",
         "[{'title': None, 'primary': True, 'type': 'backglass', 'urls': {'large': 'https://img.opdb.org/cfbb8db0-47ac-4126-914b-f91c9f9c2cf0-large.jpg', 'medium': 'https://img.opdb.org/cfbb8db0-47ac-4126-914b-f91c9f9c2cf0-medium.jpg', 'small': 'https://img.opdb.org/cfbb8db0-47ac-4126-914b-f91c9f9c2cf0-small.jpg'}, 'sizes': {'large': {'width': 258, 'height': 287}, 'medium': {'width': 258, 'height': 287}, 'small': {'width': 225, 'height': 250}}}]",
         null,
         "1948-09-01 00:00:00",
         "Chicago Coin",
         "1948"
        ],
        [
         "2021",
         "GwexB-M7Zxq",
         "True",
         "10th Inning",
         "",
         "",
         "1.0",
         "3788.0",
         "1948-01-01",
         "{'manufacturer_id': 26, 'name': 'United', 'full_name': 'United Manufacturing Co.', 'created_at': '2018-03-11', 'updated_at': '2018-03-11'}",
         "em",
         "lights",
         "1.0",
         "[]",
         "[]",
         "",
         "2024-06-24",
         "2024-06-24",
         "[{'title': None, 'primary': True, 'type': 'backglass', 'urls': {'large': 'https://img.opdb.org/8e650ea8-f4e8-44f2-a22a-2d20477b3fe7-large.jpg', 'medium': 'https://img.opdb.org/8e650ea8-f4e8-44f2-a22a-2d20477b3fe7-medium.jpg', 'small': 'https://img.opdb.org/8e650ea8-f4e8-44f2-a22a-2d20477b3fe7-small.jpg'}, 'sizes': {'large': {'width': 1398, 'height': 1500}, 'medium': {'width': 596, 'height': 640}, 'small': {'width': 233, 'height': 250}}}]",
         null,
         "1948-01-01 00:00:00",
         "United",
         "1948"
        ],
        [
         "1933",
         "GkBXQ-M5RB4",
         "True",
         "Alice in Wonderland",
         "",
         "",
         "1.0",
         "47.0",
         "1948-08-01",
         "{'manufacturer_id': 2, 'name': 'Gottlieb', 'full_name': 'D. Gottlieb & Co.', 'created_at': '2018-03-11', 'updated_at': '2018-03-11'}",
         "em",
         "lights",
         "1.0",
         "[]",
         "[]",
         "",
         "2022-07-19",
         "2022-07-19",
         "[{'title': None, 'primary': True, 'type': 'backglass', 'urls': {'medium': 'https://img.opdb.org/d4859718-594f-4b5c-b775-b785669d1942-medium.jpg', 'large': 'https://img.opdb.org/d4859718-594f-4b5c-b775-b785669d1942-large.jpg', 'small': 'https://img.opdb.org/d4859718-594f-4b5c-b775-b785669d1942-small.jpg'}, 'sizes': {'medium': {'width': 628, 'height': 640}, 'large': {'width': 754, 'height': 768}, 'small': {'width': 245, 'height': 250}}}]",
         null,
         "1948-08-01 00:00:00",
         "Gottlieb",
         "1948"
        ],
        [
         "2022",
         "GBLNO-M3dj4",
         "True",
         "Blue Skies",
         "",
         "",
         "1.0",
         "332.0",
         "1948-11-01",
         "{'manufacturer_id': 26, 'name': 'United', 'full_name': 'United Manufacturing Co.', 'created_at': '2018-03-11', 'updated_at': '2018-03-11'}",
         "em",
         "lights",
         "1.0",
         "[]",
         "[]",
         "",
         "2024-06-24",
         "2024-06-24",
         "[]",
         null,
         "1948-11-01 00:00:00",
         "United",
         "1948"
        ],
        [
         "1788",
         "GrlvP-MXroy",
         "True",
         "Dew-Wa-Ditty",
         null,
         "",
         "1.0",
         "674.0",
         "1948-01-01",
         "{'manufacturer_id': 7, 'name': 'Williams', 'full_name': 'Williams Electronic Games, Inc.', 'created_at': '2018-03-11', 'updated_at': '2018-03-11'}",
         "em",
         "lights",
         "1.0",
         "[]",
         "[]",
         "",
         "2018-03-11",
         "2018-05-08",
         "[{'title': None, 'primary': True, 'type': 'backglass', 'urls': {'medium': 'https://img.opdb.org/fadc9998-d9f0-43ec-84a6-509dd58ef982-medium.jpg', 'large': 'https://img.opdb.org/fadc9998-d9f0-43ec-84a6-509dd58ef982-large.jpg', 'small': 'https://img.opdb.org/fadc9998-d9f0-43ec-84a6-509dd58ef982-small.jpg'}, 'sizes': {'medium': {'width': 566, 'height': 640}, 'large': {'width': 1327, 'height': 1500}, 'small': {'width': 221, 'height': 250}}}]",
         null,
         "1948-01-01 00:00:00",
         "Williams",
         "1948"
        ],
        [
         "2028",
         "GLWYe-MVKlY",
         "True",
         "Star Dust",
         "",
         "",
         "1.0",
         "3506.0",
         "1948-08-01",
         "{'manufacturer_id': 26, 'name': 'United', 'full_name': 'United Manufacturing Co.', 'created_at': '2018-03-11', 'updated_at': '2018-03-11'}",
         "em",
         "lights",
         "1.0",
         "[]",
         "[]",
         "",
         "2024-06-25",
         "2024-06-25",
         "[]",
         null,
         "1948-08-01 00:00:00",
         "United",
         "1948"
        ],
        [
         "1928",
         "GX2xO-M1rxO",
         "True",
         "Tennessee",
         "",
         "",
         "1.0",
         "2522.0",
         "1948-02-28",
         "{'manufacturer_id': 7, 'name': 'Williams', 'full_name': 'Williams Electronic Games, Inc.', 'created_at': '2018-03-11', 'updated_at': '2018-03-11'}",
         "em",
         "lights",
         "1.0",
         "[]",
         "[]",
         "",
         "2022-07-15",
         "2022-07-15",
         "[{'title': None, 'primary': True, 'type': 'backglass', 'urls': {'medium': 'https://img.opdb.org/9e74431c-b3aa-427d-9dcd-b48032acca9b-medium.jpg', 'large': 'https://img.opdb.org/9e74431c-b3aa-427d-9dcd-b48032acca9b-large.jpg', 'small': 'https://img.opdb.org/9e74431c-b3aa-427d-9dcd-b48032acca9b-small.jpg'}, 'sizes': {'medium': {'width': 632, 'height': 640}, 'large': {'width': 1153, 'height': 1167}, 'small': {'width': 247, 'height': 250}}}]",
         null,
         "1948-02-28 00:00:00",
         "Williams",
         "1948"
        ],
        [
         "2027",
         "GN6YD-MvBNp",
         "True",
         "Serenade",
         "",
         "",
         "1.0",
         "2099.0",
         "1948-12-01",
         "{'manufacturer_id': 26, 'name': 'United', 'full_name': 'United Manufacturing Co.', 'created_at': '2018-03-11', 'updated_at': '2018-03-11'}",
         "em",
         "lights",
         "1.0",
         "[]",
         "[]",
         "",
         "2024-06-25",
         "2024-06-25",
         "[]",
         null,
         "1948-12-01 00:00:00",
         "United",
         "1948"
        ],
        [
         "2029",
         "GJ208-M5R5B",
         "True",
         "Summer Time",
         "",
         "",
         "1.0",
         "2414.0",
         "1948-09-01",
         "{'manufacturer_id': 26, 'name': 'United', 'full_name': 'United Manufacturing Co.', 'created_at': '2018-03-11', 'updated_at': '2018-03-11'}",
         "em",
         "lights",
         "1.0",
         "[]",
         "[]",
         "",
         "2024-06-25",
         "2024-06-25",
         "[{'title': None, 'primary': True, 'type': 'backglass', 'urls': {'large': 'https://img.opdb.org/b4778773-698e-48a9-8020-a2ed8ea00535-large.jpg', 'medium': 'https://img.opdb.org/b4778773-698e-48a9-8020-a2ed8ea00535-medium.jpg', 'small': 'https://img.opdb.org/b4778773-698e-48a9-8020-a2ed8ea00535-small.jpg'}, 'sizes': {'large': {'width': 1027, 'height': 1003}, 'medium': {'width': 640, 'height': 625}, 'small': {'width': 250, 'height': 244}}}]",
         null,
         "1948-09-01 00:00:00",
         "United",
         "1948"
        ],
        [
         "1780",
         "G4dyO-MwNBy",
         "True",
         "Ballerina",
         null,
         "",
         "1.0",
         "141.0",
         "1948-01-01",
         "{'manufacturer_id': 8, 'name': 'Bally', 'full_name': 'Bally Manufacturing Co.', 'created_at': '2018-03-11', 'updated_at': '2018-03-11'}",
         "em",
         "lights",
         "1.0",
         "[]",
         "[]",
         "",
         "2018-03-11",
         "2018-05-08",
         "[{'title': None, 'primary': True, 'type': 'backglass', 'urls': {'medium': 'https://img.opdb.org/af43ffc4-7f49-426b-b594-627748cdee65-medium.jpg', 'large': 'https://img.opdb.org/af43ffc4-7f49-426b-b594-627748cdee65-large.jpg', 'small': 'https://img.opdb.org/af43ffc4-7f49-426b-b594-627748cdee65-small.jpg'}, 'sizes': {'medium': {'width': 593, 'height': 640}, 'large': {'width': 1390, 'height': 1500}, 'small': {'width': 231, 'height': 250}}}]",
         null,
         "1948-01-01 00:00:00",
         "Bally",
         "1948"
        ],
        [
         "1036",
         "G5zOy-MLO1z",
         "True",
         "Banjo",
         null,
         "",
         "1.0",
         "168.0",
         "1948-03-01",
         "{'manufacturer_id': 19, 'name': 'Exhibit', 'full_name': 'Exhibit Supply Company', 'created_at': '2018-03-11', 'updated_at': '2018-03-11'}",
         "em",
         "lights",
         "1.0",
         "[]",
         "[]",
         null,
         "2018-03-11",
         "2018-05-08",
         "[{'title': None, 'primary': True, 'type': 'backglass', 'urls': {'medium': 'https://img.opdb.org/1d6a1085-7faa-4e07-8d82-10772c8a8894-medium.jpg', 'large': 'https://img.opdb.org/1d6a1085-7faa-4e07-8d82-10772c8a8894-large.jpg', 'small': 'https://img.opdb.org/1d6a1085-7faa-4e07-8d82-10772c8a8894-small.jpg'}, 'sizes': {'medium': {'width': 628, 'height': 640}, 'large': {'width': 1473, 'height': 1500}, 'small': {'width': 245, 'height': 250}}}]",
         null,
         "1948-03-01 00:00:00",
         "Exhibit",
         "1948"
        ],
        [
         "2026",
         "G6lYP-MZewx",
         "True",
         "Paradise",
         "",
         "",
         "1.0",
         "1750.0",
         "1948-08-01",
         "{'manufacturer_id': 26, 'name': 'United', 'full_name': 'United Manufacturing Co.', 'created_at': '2018-03-11', 'updated_at': '2018-03-11'}",
         "em",
         "lights",
         "1.0",
         "[]",
         "[]",
         "",
         "2024-06-25",
         "2024-06-25",
         "[{'title': None, 'primary': True, 'type': 'backglass', 'urls': {'large': 'https://img.opdb.org/f05cf7a2-a917-4a00-8449-2e989ec7a106-large.jpg', 'medium': 'https://img.opdb.org/f05cf7a2-a917-4a00-8449-2e989ec7a106-medium.jpg', 'small': 'https://img.opdb.org/f05cf7a2-a917-4a00-8449-2e989ec7a106-small.jpg'}, 'sizes': {'large': {'width': 1500, 'height': 1473}, 'medium': {'width': 640, 'height': 628}, 'small': {'width': 250, 'height': 245}}}]",
         null,
         "1948-08-01 00:00:00",
         "United",
         "1948"
        ],
        [
         "1782",
         "GrEEB-MNE4n",
         "True",
         "Barnacle Bill",
         null,
         "",
         "1.0",
         "176.0",
         "1948-01-01",
         "{'manufacturer_id': 2, 'name': 'Gottlieb', 'full_name': 'D. Gottlieb & Co.', 'created_at': '2018-03-11', 'updated_at': '2018-03-11'}",
         "em",
         "lights",
         "1.0",
         "[]",
         "[]",
         "",
         "2018-03-11",
         "2018-05-08",
         "[{'title': None, 'primary': True, 'type': 'backglass', 'urls': {'medium': 'https://img.opdb.org/cce2fad8-ea9b-4b18-857e-61c89eb9eee4-medium.jpg', 'large': 'https://img.opdb.org/cce2fad8-ea9b-4b18-857e-61c89eb9eee4-large.jpg', 'small': 'https://img.opdb.org/cce2fad8-ea9b-4b18-857e-61c89eb9eee4-small.jpg'}, 'sizes': {'medium': {'width': 640, 'height': 621}, 'large': {'width': 1500, 'height': 1456}, 'small': {'width': 250, 'height': 243}}}]",
         null,
         "1948-01-01 00:00:00",
         "Gottlieb",
         "1948"
        ],
        [
         "2025",
         "G2LYp-M85PN",
         "True",
         "Miss Cue T",
         "",
         "",
         "1.0",
         "3753.0",
         "1948-01-01",
         "{'manufacturer_id': 2, 'name': 'Gottlieb', 'full_name': 'D. Gottlieb & Co.', 'created_at': '2018-03-11', 'updated_at': '2018-03-11'}",
         "em",
         "lights",
         "1.0",
         "[]",
         "[]",
         "",
         "2024-06-25",
         "2024-06-25",
         "[]",
         null,
         "1948-01-01 00:00:00",
         "Gottlieb",
         "1948"
        ],
        [
         "2024",
         "GvBeO-M1rN4",
         "True",
         "Major League Baseball",
         "",
         "",
         "1.0",
         "1527.0",
         "1948-07-01",
         "{'manufacturer_id': 26, 'name': 'United', 'full_name': 'United Manufacturing Co.', 'created_at': '2018-03-11', 'updated_at': '2018-03-11'}",
         "em",
         "lights",
         "1.0",
         "[]",
         "[]",
         "",
         "2024-06-25",
         "2024-06-25",
         "[{'title': None, 'primary': True, 'type': 'backglass', 'urls': {'large': 'https://img.opdb.org/6c1db8db-6f2e-46de-a063-10ff5c60eea4-large.jpg', 'medium': 'https://img.opdb.org/6c1db8db-6f2e-46de-a063-10ff5c60eea4-medium.jpg', 'small': 'https://img.opdb.org/6c1db8db-6f2e-46de-a063-10ff5c60eea4-small.jpg'}, 'sizes': {'large': {'width': 459, 'height': 458}, 'medium': {'width': 459, 'height': 458}, 'small': {'width': 250, 'height': 249}}}]",
         null,
         "1948-07-01 00:00:00",
         "United",
         "1948"
        ],
        [
         "2030",
         "G0l2e-Mp4Oz",
         "True",
         "Trade Winds",
         "",
         "",
         "1.0",
         "2619.0",
         "1948-04-01",
         "{'manufacturer_id': 24, 'name': 'Genco', 'full_name': 'Genco Manufacturing Co.', 'created_at': '2018-03-11', 'updated_at': '2018-03-11'}",
         "em",
         "lights",
         "1.0",
         "[]",
         "[]",
         "",
         "2024-06-25",
         "2024-06-25",
         "[{'title': None, 'primary': True, 'type': 'backglass', 'urls': {'large': 'https://img.opdb.org/b7f4e01d-c1b2-4991-b867-3b2821dc228b-large.jpg', 'medium': 'https://img.opdb.org/b7f4e01d-c1b2-4991-b867-3b2821dc228b-medium.jpg', 'small': 'https://img.opdb.org/b7f4e01d-c1b2-4991-b867-3b2821dc228b-small.jpg'}, 'sizes': {'large': {'width': 652, 'height': 735}, 'medium': {'width': 568, 'height': 640}, 'small': {'width': 222, 'height': 250}}}]",
         null,
         "1948-04-01 00:00:00",
         "Genco",
         "1948"
        ],
        [
         "1997",
         "GwebP-MBRxn",
         "True",
         "Melody",
         "",
         "",
         "1.0",
         "1567.0",
         "1948-02-01",
         "{'manufacturer_id': 8, 'name': 'Bally', 'full_name': 'Bally Manufacturing Co.', 'created_at': '2018-03-11', 'updated_at': '2018-03-11'}",
         "em",
         "lights",
         "1.0",
         "[]",
         "[]",
         "",
         "2024-06-10",
         "2024-06-10",
         "[{'title': None, 'primary': True, 'type': 'backglass', 'urls': {'medium': 'https://img.opdb.org/3257de32-814c-435a-aef7-c97c0d6d60e6-medium.jpg', 'large': 'https://img.opdb.org/3257de32-814c-435a-aef7-c97c0d6d60e6-large.jpg', 'small': 'https://img.opdb.org/3257de32-814c-435a-aef7-c97c0d6d60e6-small.jpg'}, 'sizes': {'medium': {'width': 351, 'height': 432}, 'large': {'width': 351, 'height': 432}, 'small': {'width': 203, 'height': 250}}}]",
         null,
         "1948-02-01 00:00:00",
         "Bally",
         "1948"
        ],
        [
         "2023",
         "GxvP1-MXrKO",
         "True",
         "Cleopatra",
         "",
         "",
         "1.0",
         "531.0",
         "1948-05-01",
         "{'manufacturer_id': 144, 'name': 'Marvel', 'full_name': 'Marvel Manufacturing Company', 'created_at': '2024-06-10', 'updated_at': '2024-06-10'}",
         "em",
         "lights",
         "1.0",
         "[]",
         "[]",
         "",
         "2024-06-25",
         "2024-06-25",
         "[]",
         null,
         "1948-05-01 00:00:00",
         "Marvel",
         "1948"
        ],
        [
         "1931",
         "GO0EK-MvBdk",
         "True",
         "Jack 'N Jill",
         "",
         "",
         "1.0",
         "1273.0",
         "1948-04-01",
         "{'manufacturer_id': 2, 'name': 'Gottlieb', 'full_name': 'D. Gottlieb & Co.', 'created_at': '2018-03-11', 'updated_at': '2018-03-11'}",
         "em",
         "lights",
         "1.0",
         "[]",
         "[]",
         "",
         "2022-07-19",
         "2022-07-19",
         "[{'title': None, 'primary': True, 'type': 'backglass', 'urls': {'medium': 'https://img.opdb.org/a6e9c43e-db13-4579-a121-7776a2d82348-medium.jpg', 'large': 'https://img.opdb.org/a6e9c43e-db13-4579-a121-7776a2d82348-large.jpg', 'small': 'https://img.opdb.org/a6e9c43e-db13-4579-a121-7776a2d82348-small.jpg'}, 'sizes': {'medium': {'width': 613, 'height': 640}, 'large': {'width': 858, 'height': 896}, 'small': {'width': 239, 'height': 250}}}]",
         null,
         "1948-04-01 00:00:00",
         "Gottlieb",
         "1948"
        ],
        [
         "1932",
         "GK1Lv-MVKN8",
         "True",
         "Olde King Cole",
         "",
         "",
         "1.0",
         "1369.0",
         "1948-05-01",
         "{'manufacturer_id': 2, 'name': 'Gottlieb', 'full_name': 'D. Gottlieb & Co.', 'created_at': '2018-03-11', 'updated_at': '2018-03-11'}",
         "em",
         "lights",
         "1.0",
         "[]",
         "[]",
         "",
         "2022-07-19",
         "2022-07-19",
         "[{'title': None, 'primary': True, 'type': 'backglass', 'urls': {'medium': 'https://img.opdb.org/a02b2986-8bbf-4920-ad44-b69886d7afd9-medium.jpg', 'large': 'https://img.opdb.org/a02b2986-8bbf-4920-ad44-b69886d7afd9-large.jpg', 'small': 'https://img.opdb.org/a02b2986-8bbf-4920-ad44-b69886d7afd9-small.jpg'}, 'sizes': {'medium': {'width': 640, 'height': 618}, 'large': {'width': 1500, 'height': 1447}, 'small': {'width': 250, 'height': 241}}}]",
         null,
         "1948-05-01 00:00:00",
         "Gottlieb",
         "1948"
        ],
        [
         "37",
         "GRVL2-MLl9Y",
         "True",
         "Lady Robin Hood",
         null,
         "",
         "1.0",
         "1406.0",
         "1948-01-31",
         "{'manufacturer_id': 2, 'name': 'Gottlieb', 'full_name': 'D. Gottlieb & Co.', 'created_at': '2018-03-11', 'updated_at': '2018-03-11'}",
         "em",
         "lights",
         "1.0",
         "[]",
         "[]",
         null,
         "2018-03-11",
         "2018-03-31",
         "[{'title': 'Backglass', 'primary': True, 'type': 'backglass', 'urls': {'medium': 'https://img.opdb.org/8f14bd40-40f8-4d30-8523-374a4b0ac328-medium.jpg', 'large': 'https://img.opdb.org/8f14bd40-40f8-4d30-8523-374a4b0ac328-large.jpg', 'small': 'https://img.opdb.org/8f14bd40-40f8-4d30-8523-374a4b0ac328-small.jpg'}, 'sizes': {'medium': {'width': 640, 'height': 630}, 'large': {'width': 802, 'height': 790}, 'small': {'width': 250, 'height': 246}}}]",
         null,
         "1948-01-31 00:00:00",
         "Gottlieb",
         "1948"
        ],
        [
         "1983",
         "Gd2lx-Mb5K6",
         "True",
         "Ali-Baba",
         "",
         "",
         "1.0",
         "45.0",
         "1948-06-01",
         "{'manufacturer_id': 2, 'name': 'Gottlieb', 'full_name': 'D. Gottlieb & Co.', 'created_at': '2018-03-11', 'updated_at': '2018-03-11'}",
         "em",
         "lights",
         "1.0",
         "[]",
         "[]",
         "",
         "2024-06-10",
         "2024-06-10",
         "[{'title': None, 'primary': True, 'type': 'backglass', 'urls': {'medium': 'https://img.opdb.org/9cf86b40-bfb9-44e2-a1ed-6cb67bf419fb-medium.jpg', 'large': 'https://img.opdb.org/9cf86b40-bfb9-44e2-a1ed-6cb67bf419fb-large.jpg', 'small': 'https://img.opdb.org/9cf86b40-bfb9-44e2-a1ed-6cb67bf419fb-small.jpg'}, 'sizes': {'medium': {'width': 573, 'height': 640}, 'large': {'width': 706, 'height': 789}, 'small': {'width': 224, 'height': 250}}}]",
         null,
         "1948-06-01 00:00:00",
         "Gottlieb",
         "1948"
        ],
        [
         "2013",
         "Gj6Wj-MnKdl",
         "True",
         "Gold Mine",
         "",
         "",
         "1.0",
         "1032.0",
         "1948-01-01",
         "{'manufacturer_id': 144, 'name': 'Marvel', 'full_name': 'Marvel Manufacturing Company', 'created_at': '2024-06-10', 'updated_at': '2024-06-10'}",
         "em",
         "lights",
         "1.0",
         "[]",
         "[]",
         "",
         "2024-06-10",
         "2024-06-10",
         "[]",
         null,
         "1948-01-01 00:00:00",
         "Marvel",
         "1948"
        ],
        [
         "1984",
         "GELZO-M2YkK",
         "True",
         "Bone Head",
         "",
         "",
         "1.0",
         "348.0",
         "1948-11-05",
         "{'manufacturer_id': 24, 'name': 'Genco', 'full_name': 'Genco Manufacturing Co.', 'created_at': '2018-03-11', 'updated_at': '2018-03-11'}",
         "em",
         "lights",
         "1.0",
         "[]",
         "[]",
         "",
         "2024-06-10",
         "2024-06-10",
         "[]",
         null,
         "1948-11-05 00:00:00",
         "Genco",
         "1948"
        ],
        [
         "2003",
         "GN6YW-MKNd4",
         "True",
         "Sally",
         "",
         "",
         "1.0",
         "2046.0",
         "1948-10-01",
         "{'manufacturer_id': 3, 'name': 'Chicago Coin', 'full_name': 'Chicago Coin Machine Mfg. Co.', 'created_at': '2018-03-11', 'updated_at': '2018-03-11'}",
         "em",
         "lights",
         "1.0",
         "[]",
         "[]",
         "",
         "2024-06-10",
         "2024-06-10",
         "[{'title': None, 'primary': True, 'type': 'backglass', 'urls': {'large': 'https://img.opdb.org/37fc35b5-7bd9-403c-b59a-a3dca95063b7-large.jpg', 'medium': 'https://img.opdb.org/37fc35b5-7bd9-403c-b59a-a3dca95063b7-medium.jpg', 'small': 'https://img.opdb.org/37fc35b5-7bd9-403c-b59a-a3dca95063b7-small.jpg'}, 'sizes': {'large': {'width': 927, 'height': 1036}, 'medium': {'width': 573, 'height': 640}, 'small': {'width': 224, 'height': 250}}}]",
         null,
         "1948-10-01 00:00:00",
         "Chicago Coin",
         "1948"
        ],
        [
         "1991",
         "G9zw0-M5RdB",
         "True",
         "Gizmo",
         "",
         "",
         "1.0",
         "1009.0",
         "1948-08-04",
         "{'manufacturer_id': 7, 'name': 'Williams', 'full_name': 'Williams Electronic Games, Inc.', 'created_at': '2018-03-11', 'updated_at': '2018-03-11'}",
         "em",
         "lights",
         "1.0",
         "[]",
         "[]",
         "",
         "2024-06-10",
         "2024-06-10",
         "[{'title': None, 'primary': True, 'type': 'backglass', 'urls': {'medium': 'https://img.opdb.org/d420dc71-1ff5-4875-bdfb-717c5dee4e8d-medium.jpg', 'large': 'https://img.opdb.org/d420dc71-1ff5-4875-bdfb-717c5dee4e8d-large.jpg', 'small': 'https://img.opdb.org/d420dc71-1ff5-4875-bdfb-717c5dee4e8d-small.jpg'}, 'sizes': {'medium': {'width': 557, 'height': 640}, 'large': {'width': 1002, 'height': 1153}, 'small': {'width': 217, 'height': 250}}}]",
         null,
         "1948-08-04 00:00:00",
         "Williams",
         "1948"
        ],
        [
         "1992",
         "GyVZ1-Mp49z",
         "True",
         "Harvest Moon",
         "",
         "",
         "1.0",
         "1129.0",
         "1948-12-01",
         "{'manufacturer_id': 2, 'name': 'Gottlieb', 'full_name': 'D. Gottlieb & Co.', 'created_at': '2018-03-11', 'updated_at': '2018-03-11'}",
         "em",
         "lights",
         "1.0",
         "[]",
         "[]",
         "",
         "2024-06-10",
         "2024-06-10",
         "[{'title': None, 'primary': True, 'type': 'backglass', 'urls': {'medium': 'https://img.opdb.org/d990cbef-47f3-40c7-8fc1-67ca96f55f5c-medium.jpg', 'large': 'https://img.opdb.org/d990cbef-47f3-40c7-8fc1-67ca96f55f5c-large.jpg', 'small': 'https://img.opdb.org/d990cbef-47f3-40c7-8fc1-67ca96f55f5c-small.jpg'}, 'sizes': {'medium': {'width': 562, 'height': 640}, 'large': {'width': 616, 'height': 702}, 'small': {'width': 219, 'height': 250}}}]",
         null,
         "1948-12-01 00:00:00",
         "Gottlieb",
         "1948"
        ],
        [
         "1993",
         "GPBov-Mx0KK",
         "True",
         "Holiday",
         "",
         "",
         "1.0",
         "1211.0",
         "1948-12-01",
         "{'manufacturer_id': 3, 'name': 'Chicago Coin', 'full_name': 'Chicago Coin Machine Mfg. Co.', 'created_at': '2018-03-11', 'updated_at': '2018-03-11'}",
         "em",
         "lights",
         "1.0",
         "[]",
         "[]",
         "",
         "2024-06-10",
         "2024-06-10",
         "[{'title': None, 'primary': True, 'type': 'backglass', 'urls': {'medium': 'https://img.opdb.org/47e61a77-3d0e-4285-a464-281ec149d203-medium.jpg', 'large': 'https://img.opdb.org/47e61a77-3d0e-4285-a464-281ec149d203-large.jpg', 'small': 'https://img.opdb.org/47e61a77-3d0e-4285-a464-281ec149d203-small.jpg'}, 'sizes': {'medium': {'width': 563, 'height': 640}, 'large': {'width': 618, 'height': 702}, 'small': {'width': 220, 'height': 250}}}]",
         null,
         "1948-12-01 00:00:00",
         "Chicago Coin",
         "1948"
        ],
        [
         "2002",
         "G6lYl-MdEwd",
         "True",
         "Round Up",
         "",
         "",
         "1.0",
         "2027.0",
         "1948-11-01",
         "{'manufacturer_id': 2, 'name': 'Gottlieb', 'full_name': 'D. Gottlieb & Co.', 'created_at': '2018-03-11', 'updated_at': '2018-03-11'}",
         "em",
         "lights",
         "1.0",
         "[]",
         "[]",
         "",
         "2024-06-10",
         "2024-06-10",
         "[]",
         null,
         "1948-11-01 00:00:00",
         "Gottlieb",
         "1948"
        ],
        [
         "2001",
         "G2LYd-Ml95y",
         "True",
         "Puddin' Head",
         "",
         "",
         "1.0",
         "1874.0",
         "1948-10-05",
         "{'manufacturer_id': 24, 'name': 'Genco', 'full_name': 'Genco Manufacturing Co.', 'created_at': '2018-03-11', 'updated_at': '2018-03-11'}",
         "em",
         "lights",
         "1.0",
         "[]",
         "[]",
         "",
         "2024-06-10",
         "2024-06-10",
         "[]",
         null,
         "1948-10-05 00:00:00",
         "Genco",
         "1948"
        ],
        [
         "2242",
         "GRVL2-MLl9Y-A1Zx2",
         null,
         "Coney Island",
         "",
         "",
         null,
         "3880.0",
         "1948-01-01",
         "{'manufacturer_id': 146, 'name': 'Block Marble Company', 'full_name': 'Block Marble Company', 'created_at': '2024-06-25', 'updated_at': '2024-06-25'}",
         null,
         null,
         null,
         "['Conversion kit']",
         "[]",
         null,
         "2024-06-25",
         "2024-06-25",
         "[]",
         "True",
         "1948-01-01 00:00:00",
         "Block Marble Company",
         "1948"
        ],
        [
         "1994",
         "GV8B1-MP3b9",
         "True",
         "Jamboree",
         "",
         "",
         "1.0",
         "1285.0",
         "1948-05-01",
         "{'manufacturer_id': 19, 'name': 'Exhibit', 'full_name': 'Exhibit Supply Company', 'created_at': '2018-03-11', 'updated_at': '2018-03-11'}",
         "em",
         "lights",
         "1.0",
         "[]",
         "[]",
         "",
         "2024-06-10",
         "2024-07-16",
         "[]",
         null,
         "1948-05-01 00:00:00",
         "Exhibit",
         "1948"
        ],
        [
         "1995",
         "G8l2L-M9ReW",
         "True",
         "Magic",
         "",
         "",
         "1.0",
         "1508.0",
         "1948-12-01",
         "{'manufacturer_id': 19, 'name': 'Exhibit', 'full_name': 'Exhibit Supply Company', 'created_at': '2018-03-11', 'updated_at': '2018-03-11'}",
         "em",
         "lights",
         "1.0",
         "[]",
         "[]",
         "",
         "2024-06-10",
         "2024-06-10",
         "[{'title': None, 'primary': True, 'type': 'backglass', 'urls': {'medium': 'https://img.opdb.org/959d7ab5-4340-4975-9345-4629dbbbf2f0-medium.jpg', 'large': 'https://img.opdb.org/959d7ab5-4340-4975-9345-4629dbbbf2f0-large.jpg', 'small': 'https://img.opdb.org/959d7ab5-4340-4975-9345-4629dbbbf2f0-small.jpg'}, 'sizes': {'medium': {'width': 579, 'height': 640}, 'large': {'width': 1357, 'height': 1500}, 'small': {'width': 226, 'height': 250}}}]",
         null,
         "1948-12-01 00:00:00",
         "Exhibit",
         "1948"
        ],
        [
         "2000",
         "GvBY8-MW9pn",
         "True",
         "Morocco",
         "",
         "",
         "1.0",
         "1631.0",
         "1948-11-01",
         "{'manufacturer_id': 19, 'name': 'Exhibit', 'full_name': 'Exhibit Supply Company', 'created_at': '2018-03-11', 'updated_at': '2018-03-11'}",
         "em",
         "lights",
         "1.0",
         "[]",
         "[]",
         "",
         "2024-06-10",
         "2024-06-10",
         "[{'title': None, 'primary': True, 'type': 'backglass', 'urls': {'large': 'https://img.opdb.org/51b11965-2f69-477f-a460-556a56478711-large.jpg', 'medium': 'https://img.opdb.org/51b11965-2f69-477f-a460-556a56478711-medium.jpg', 'small': 'https://img.opdb.org/51b11965-2f69-477f-a460-556a56478711-small.jpg'}, 'sizes': {'large': {'width': 552, 'height': 608}, 'medium': {'width': 552, 'height': 608}, 'small': {'width': 227, 'height': 250}}}]",
         null,
         "1948-11-01 00:00:00",
         "Exhibit",
         "1948"
        ],
        [
         "1902",
         "GqZZY-Mx0w4",
         "True",
         "Monterrey",
         "",
         "",
         "1.0",
         "1624.0",
         "1948-05-01",
         "{'manufacturer_id': 26, 'name': 'United', 'full_name': 'United Manufacturing Co.', 'created_at': '2018-03-11', 'updated_at': '2018-03-11'}",
         "em",
         "lights",
         "1.0",
         "[]",
         "[]",
         "",
         "2021-08-30",
         "2021-08-30",
         "[{'title': None, 'primary': True, 'type': 'backglass', 'urls': {'medium': 'https://img.opdb.org/b0adfcf6-3707-44b3-a452-33b58008b450-medium.jpg', 'large': 'https://img.opdb.org/b0adfcf6-3707-44b3-a452-33b58008b450-large.jpg', 'small': 'https://img.opdb.org/b0adfcf6-3707-44b3-a452-33b58008b450-small.jpg'}, 'sizes': {'medium': {'width': 640, 'height': 598}, 'large': {'width': 1500, 'height': 1400}, 'small': {'width': 250, 'height': 233}}}]",
         null,
         "1948-05-01 00:00:00",
         "United",
         "1948"
        ],
        [
         "1999",
         "GxvbB-MkPjl",
         "True",
         "Moon Glow",
         "",
         "",
         "1.0",
         "1629.0",
         "1948-12-01",
         "{'manufacturer_id': 26, 'name': 'United', 'full_name': 'United Manufacturing Co.', 'created_at': '2018-03-11', 'updated_at': '2018-03-11'}",
         "em",
         "lights",
         "1.0",
         "[]",
         "[]",
         "",
         "2024-06-10",
         "2024-06-10",
         "[]",
         null,
         "1948-12-01 00:00:00",
         "United",
         "1948"
        ]
       ],
       "shape": {
        "columns": 22,
        "rows": 2275
       }
      },
      "text/html": [
       "<div>\n",
       "<style scoped>\n",
       "    .dataframe tbody tr th:only-of-type {\n",
       "        vertical-align: middle;\n",
       "    }\n",
       "\n",
       "    .dataframe tbody tr th {\n",
       "        vertical-align: top;\n",
       "    }\n",
       "\n",
       "    .dataframe thead th {\n",
       "        text-align: right;\n",
       "    }\n",
       "</style>\n",
       "<table border=\"1\" class=\"dataframe\">\n",
       "  <thead>\n",
       "    <tr style=\"text-align: right;\">\n",
       "      <th></th>\n",
       "      <th>opdb_id</th>\n",
       "      <th>is_machine</th>\n",
       "      <th>name</th>\n",
       "      <th>common_name</th>\n",
       "      <th>shortname</th>\n",
       "      <th>physical_machine</th>\n",
       "      <th>ipdb_id</th>\n",
       "      <th>manufacture_date</th>\n",
       "      <th>manufacturer</th>\n",
       "      <th>type</th>\n",
       "      <th>...</th>\n",
       "      <th>features</th>\n",
       "      <th>keywords</th>\n",
       "      <th>description</th>\n",
       "      <th>created_at</th>\n",
       "      <th>updated_at</th>\n",
       "      <th>images</th>\n",
       "      <th>is_alias</th>\n",
       "      <th>manufacture_date_dt</th>\n",
       "      <th>manufacturer_name</th>\n",
       "      <th>year</th>\n",
       "    </tr>\n",
       "  </thead>\n",
       "  <tbody>\n",
       "    <tr>\n",
       "      <th>1878</th>\n",
       "      <td>GV88w-Mp4Bl</td>\n",
       "      <td>True</td>\n",
       "      <td>Cover Girl</td>\n",
       "      <td></td>\n",
       "      <td></td>\n",
       "      <td>1.0</td>\n",
       "      <td>579.0</td>\n",
       "      <td>1947-12-01</td>\n",
       "      <td>{'manufacturer_id': 46, 'name': 'Keeney', 'ful...</td>\n",
       "      <td>me</td>\n",
       "      <td>...</td>\n",
       "      <td>[]</td>\n",
       "      <td>[]</td>\n",
       "      <td></td>\n",
       "      <td>2020-12-09</td>\n",
       "      <td>2024-07-12</td>\n",
       "      <td>[{'title': None, 'primary': True, 'type': 'bac...</td>\n",
       "      <td>NaN</td>\n",
       "      <td>1947-12-01</td>\n",
       "      <td>Keeney</td>\n",
       "      <td>1947</td>\n",
       "    </tr>\n",
       "    <tr>\n",
       "      <th>1876</th>\n",
       "      <td>GyVVQ-MVKYX</td>\n",
       "      <td>True</td>\n",
       "      <td>Humpty Dumpty</td>\n",
       "      <td></td>\n",
       "      <td>HD</td>\n",
       "      <td>1.0</td>\n",
       "      <td>1254.0</td>\n",
       "      <td>1947-10-25</td>\n",
       "      <td>{'manufacturer_id': 2, 'name': 'Gottlieb', 'fu...</td>\n",
       "      <td>me</td>\n",
       "      <td>...</td>\n",
       "      <td>[]</td>\n",
       "      <td>[]</td>\n",
       "      <td></td>\n",
       "      <td>2020-12-08</td>\n",
       "      <td>2022-01-26</td>\n",
       "      <td>[{'title': None, 'primary': True, 'type': 'bac...</td>\n",
       "      <td>NaN</td>\n",
       "      <td>1947-10-25</td>\n",
       "      <td>Gottlieb</td>\n",
       "      <td>1947</td>\n",
       "    </tr>\n",
       "    <tr>\n",
       "      <th>1362</th>\n",
       "      <td>GRQ3b-MrRZ7</td>\n",
       "      <td>True</td>\n",
       "      <td>Rondeevoo</td>\n",
       "      <td>None</td>\n",
       "      <td></td>\n",
       "      <td>1.0</td>\n",
       "      <td>2014.0</td>\n",
       "      <td>1948-06-01</td>\n",
       "      <td>{'manufacturer_id': 26, 'name': 'United', 'ful...</td>\n",
       "      <td>em</td>\n",
       "      <td>...</td>\n",
       "      <td>[]</td>\n",
       "      <td>[]</td>\n",
       "      <td>None</td>\n",
       "      <td>2018-03-11</td>\n",
       "      <td>2018-05-08</td>\n",
       "      <td>[{'title': 'Backglass', 'primary': True, 'type...</td>\n",
       "      <td>NaN</td>\n",
       "      <td>1948-06-01</td>\n",
       "      <td>United</td>\n",
       "      <td>1948</td>\n",
       "    </tr>\n",
       "    <tr>\n",
       "      <th>1938</th>\n",
       "      <td>Gzybj-ME0V0</td>\n",
       "      <td>True</td>\n",
       "      <td>One-Two-Three</td>\n",
       "      <td></td>\n",
       "      <td></td>\n",
       "      <td>1.0</td>\n",
       "      <td>1720.0</td>\n",
       "      <td>1948-10-30</td>\n",
       "      <td>{'manufacturer_id': 24, 'name': 'Genco', 'full...</td>\n",
       "      <td>em</td>\n",
       "      <td>...</td>\n",
       "      <td>[]</td>\n",
       "      <td>[]</td>\n",
       "      <td></td>\n",
       "      <td>2022-12-18</td>\n",
       "      <td>2022-12-18</td>\n",
       "      <td>[{'title': None, 'primary': True, 'type': 'bac...</td>\n",
       "      <td>NaN</td>\n",
       "      <td>1948-10-30</td>\n",
       "      <td>Genco</td>\n",
       "      <td>1948</td>\n",
       "    </tr>\n",
       "    <tr>\n",
       "      <th>1950</th>\n",
       "      <td>GPBKv-MNErK</td>\n",
       "      <td>True</td>\n",
       "      <td>Rainbow</td>\n",
       "      <td></td>\n",
       "      <td></td>\n",
       "      <td>1.0</td>\n",
       "      <td>1910.0</td>\n",
       "      <td>1948-09-30</td>\n",
       "      <td>{'manufacturer_id': 7, 'name': 'Williams', 'fu...</td>\n",
       "      <td>em</td>\n",
       "      <td>...</td>\n",
       "      <td>[]</td>\n",
       "      <td>[]</td>\n",
       "      <td></td>\n",
       "      <td>2023-04-18</td>\n",
       "      <td>2023-04-18</td>\n",
       "      <td>[]</td>\n",
       "      <td>NaN</td>\n",
       "      <td>1948-09-30</td>\n",
       "      <td>Williams</td>\n",
       "      <td>1948</td>\n",
       "    </tr>\n",
       "    <tr>\n",
       "      <th>...</th>\n",
       "      <td>...</td>\n",
       "      <td>...</td>\n",
       "      <td>...</td>\n",
       "      <td>...</td>\n",
       "      <td>...</td>\n",
       "      <td>...</td>\n",
       "      <td>...</td>\n",
       "      <td>...</td>\n",
       "      <td>...</td>\n",
       "      <td>...</td>\n",
       "      <td>...</td>\n",
       "      <td>...</td>\n",
       "      <td>...</td>\n",
       "      <td>...</td>\n",
       "      <td>...</td>\n",
       "      <td>...</td>\n",
       "      <td>...</td>\n",
       "      <td>...</td>\n",
       "      <td>...</td>\n",
       "      <td>...</td>\n",
       "      <td>...</td>\n",
       "    </tr>\n",
       "    <tr>\n",
       "      <th>2082</th>\n",
       "      <td>GkBZD-Mb5oy</td>\n",
       "      <td>True</td>\n",
       "      <td>Blues Brothers</td>\n",
       "      <td></td>\n",
       "      <td>BB</td>\n",
       "      <td>1.0</td>\n",
       "      <td>NaN</td>\n",
       "      <td>2025-01-13</td>\n",
       "      <td>{'manufacturer_id': 116, 'name': 'Homepin', 'f...</td>\n",
       "      <td>ss</td>\n",
       "      <td>...</td>\n",
       "      <td>[]</td>\n",
       "      <td>[]</td>\n",
       "      <td></td>\n",
       "      <td>2025-01-14</td>\n",
       "      <td>2025-01-14</td>\n",
       "      <td>[]</td>\n",
       "      <td>NaN</td>\n",
       "      <td>2025-01-13</td>\n",
       "      <td>Homepin</td>\n",
       "      <td>2025</td>\n",
       "    </tr>\n",
       "    <tr>\n",
       "      <th>2081</th>\n",
       "      <td>GK1Ej-MePok</td>\n",
       "      <td>True</td>\n",
       "      <td>Dungeons &amp; Dragons: The Tyrant's Eye (Premium/LE)</td>\n",
       "      <td></td>\n",
       "      <td>D&amp;D</td>\n",
       "      <td>0.0</td>\n",
       "      <td>NaN</td>\n",
       "      <td>2025-01-01</td>\n",
       "      <td>{'manufacturer_id': 12, 'name': 'Stern', 'full...</td>\n",
       "      <td>ss</td>\n",
       "      <td>...</td>\n",
       "      <td>[Limited edition, Premium edition]</td>\n",
       "      <td>[]</td>\n",
       "      <td></td>\n",
       "      <td>2025-01-04</td>\n",
       "      <td>2025-01-04</td>\n",
       "      <td>[]</td>\n",
       "      <td>NaN</td>\n",
       "      <td>2025-01-01</td>\n",
       "      <td>Stern</td>\n",
       "      <td>2025</td>\n",
       "    </tr>\n",
       "    <tr>\n",
       "      <th>2080</th>\n",
       "      <td>GK1Ej-MwNZr</td>\n",
       "      <td>True</td>\n",
       "      <td>Dungeons &amp; Dragons: The Tyrant's Eye (Pro)</td>\n",
       "      <td></td>\n",
       "      <td>D&amp;D</td>\n",
       "      <td>1.0</td>\n",
       "      <td>NaN</td>\n",
       "      <td>2025-01-01</td>\n",
       "      <td>{'manufacturer_id': 12, 'name': 'Stern', 'full...</td>\n",
       "      <td>ss</td>\n",
       "      <td>...</td>\n",
       "      <td>[Pro edition]</td>\n",
       "      <td>[]</td>\n",
       "      <td></td>\n",
       "      <td>2025-01-04</td>\n",
       "      <td>2025-01-04</td>\n",
       "      <td>[{'title': None, 'primary': True, 'type': 'bac...</td>\n",
       "      <td>NaN</td>\n",
       "      <td>2025-01-01</td>\n",
       "      <td>Stern</td>\n",
       "      <td>2025</td>\n",
       "    </tr>\n",
       "    <tr>\n",
       "      <th>2090</th>\n",
       "      <td>GpebN-M5RNp</td>\n",
       "      <td>True</td>\n",
       "      <td>Portal (Extended)</td>\n",
       "      <td></td>\n",
       "      <td></td>\n",
       "      <td>1.0</td>\n",
       "      <td>NaN</td>\n",
       "      <td>2025-03-01</td>\n",
       "      <td>{'manufacturer_id': 91, 'name': 'Multimorphic'...</td>\n",
       "      <td>ss</td>\n",
       "      <td>...</td>\n",
       "      <td>[Premium edition]</td>\n",
       "      <td>[]</td>\n",
       "      <td></td>\n",
       "      <td>2025-03-19</td>\n",
       "      <td>2025-03-19</td>\n",
       "      <td>[]</td>\n",
       "      <td>NaN</td>\n",
       "      <td>2025-03-01</td>\n",
       "      <td>Multimorphic</td>\n",
       "      <td>2025</td>\n",
       "    </tr>\n",
       "    <tr>\n",
       "      <th>2089</th>\n",
       "      <td>GpebN-Mq1rW</td>\n",
       "      <td>True</td>\n",
       "      <td>Portal (Standard)</td>\n",
       "      <td></td>\n",
       "      <td></td>\n",
       "      <td>1.0</td>\n",
       "      <td>NaN</td>\n",
       "      <td>2025-03-01</td>\n",
       "      <td>{'manufacturer_id': 91, 'name': 'Multimorphic'...</td>\n",
       "      <td>ss</td>\n",
       "      <td>...</td>\n",
       "      <td>[Pro edition]</td>\n",
       "      <td>[]</td>\n",
       "      <td></td>\n",
       "      <td>2025-03-19</td>\n",
       "      <td>2025-03-19</td>\n",
       "      <td>[]</td>\n",
       "      <td>NaN</td>\n",
       "      <td>2025-03-01</td>\n",
       "      <td>Multimorphic</td>\n",
       "      <td>2025</td>\n",
       "    </tr>\n",
       "  </tbody>\n",
       "</table>\n",
       "<p>2275 rows × 22 columns</p>\n",
       "</div>"
      ],
      "text/plain": [
       "          opdb_id is_machine  \\\n",
       "1878  GV88w-Mp4Bl       True   \n",
       "1876  GyVVQ-MVKYX       True   \n",
       "1362  GRQ3b-MrRZ7       True   \n",
       "1938  Gzybj-ME0V0       True   \n",
       "1950  GPBKv-MNErK       True   \n",
       "...           ...        ...   \n",
       "2082  GkBZD-Mb5oy       True   \n",
       "2081  GK1Ej-MePok       True   \n",
       "2080  GK1Ej-MwNZr       True   \n",
       "2090  GpebN-M5RNp       True   \n",
       "2089  GpebN-Mq1rW       True   \n",
       "\n",
       "                                                   name common_name shortname  \\\n",
       "1878                                         Cover Girl                         \n",
       "1876                                      Humpty Dumpty                    HD   \n",
       "1362                                          Rondeevoo        None             \n",
       "1938                                      One-Two-Three                         \n",
       "1950                                            Rainbow                         \n",
       "...                                                 ...         ...       ...   \n",
       "2082                                     Blues Brothers                    BB   \n",
       "2081  Dungeons & Dragons: The Tyrant's Eye (Premium/LE)                   D&D   \n",
       "2080         Dungeons & Dragons: The Tyrant's Eye (Pro)                   D&D   \n",
       "2090                                  Portal (Extended)                         \n",
       "2089                                  Portal (Standard)                         \n",
       "\n",
       "      physical_machine  ipdb_id manufacture_date  \\\n",
       "1878               1.0    579.0       1947-12-01   \n",
       "1876               1.0   1254.0       1947-10-25   \n",
       "1362               1.0   2014.0       1948-06-01   \n",
       "1938               1.0   1720.0       1948-10-30   \n",
       "1950               1.0   1910.0       1948-09-30   \n",
       "...                ...      ...              ...   \n",
       "2082               1.0      NaN       2025-01-13   \n",
       "2081               0.0      NaN       2025-01-01   \n",
       "2080               1.0      NaN       2025-01-01   \n",
       "2090               1.0      NaN       2025-03-01   \n",
       "2089               1.0      NaN       2025-03-01   \n",
       "\n",
       "                                           manufacturer type  ...  \\\n",
       "1878  {'manufacturer_id': 46, 'name': 'Keeney', 'ful...   me  ...   \n",
       "1876  {'manufacturer_id': 2, 'name': 'Gottlieb', 'fu...   me  ...   \n",
       "1362  {'manufacturer_id': 26, 'name': 'United', 'ful...   em  ...   \n",
       "1938  {'manufacturer_id': 24, 'name': 'Genco', 'full...   em  ...   \n",
       "1950  {'manufacturer_id': 7, 'name': 'Williams', 'fu...   em  ...   \n",
       "...                                                 ...  ...  ...   \n",
       "2082  {'manufacturer_id': 116, 'name': 'Homepin', 'f...   ss  ...   \n",
       "2081  {'manufacturer_id': 12, 'name': 'Stern', 'full...   ss  ...   \n",
       "2080  {'manufacturer_id': 12, 'name': 'Stern', 'full...   ss  ...   \n",
       "2090  {'manufacturer_id': 91, 'name': 'Multimorphic'...   ss  ...   \n",
       "2089  {'manufacturer_id': 91, 'name': 'Multimorphic'...   ss  ...   \n",
       "\n",
       "                                features  keywords description  created_at  \\\n",
       "1878                                  []        []              2020-12-09   \n",
       "1876                                  []        []              2020-12-08   \n",
       "1362                                  []        []        None  2018-03-11   \n",
       "1938                                  []        []              2022-12-18   \n",
       "1950                                  []        []              2023-04-18   \n",
       "...                                  ...       ...         ...         ...   \n",
       "2082                                  []        []              2025-01-14   \n",
       "2081  [Limited edition, Premium edition]        []              2025-01-04   \n",
       "2080                       [Pro edition]        []              2025-01-04   \n",
       "2090                   [Premium edition]        []              2025-03-19   \n",
       "2089                       [Pro edition]        []              2025-03-19   \n",
       "\n",
       "      updated_at                                             images is_alias  \\\n",
       "1878  2024-07-12  [{'title': None, 'primary': True, 'type': 'bac...      NaN   \n",
       "1876  2022-01-26  [{'title': None, 'primary': True, 'type': 'bac...      NaN   \n",
       "1362  2018-05-08  [{'title': 'Backglass', 'primary': True, 'type...      NaN   \n",
       "1938  2022-12-18  [{'title': None, 'primary': True, 'type': 'bac...      NaN   \n",
       "1950  2023-04-18                                                 []      NaN   \n",
       "...          ...                                                ...      ...   \n",
       "2082  2025-01-14                                                 []      NaN   \n",
       "2081  2025-01-04                                                 []      NaN   \n",
       "2080  2025-01-04  [{'title': None, 'primary': True, 'type': 'bac...      NaN   \n",
       "2090  2025-03-19                                                 []      NaN   \n",
       "2089  2025-03-19                                                 []      NaN   \n",
       "\n",
       "     manufacture_date_dt manufacturer_name  year  \n",
       "1878          1947-12-01            Keeney  1947  \n",
       "1876          1947-10-25          Gottlieb  1947  \n",
       "1362          1948-06-01            United  1948  \n",
       "1938          1948-10-30             Genco  1948  \n",
       "1950          1948-09-30          Williams  1948  \n",
       "...                  ...               ...   ...  \n",
       "2082          2025-01-13           Homepin  2025  \n",
       "2081          2025-01-01             Stern  2025  \n",
       "2080          2025-01-01             Stern  2025  \n",
       "2090          2025-03-01      Multimorphic  2025  \n",
       "2089          2025-03-01      Multimorphic  2025  \n",
       "\n",
       "[2275 rows x 22 columns]"
      ]
     },
     "execution_count": 30,
     "metadata": {},
     "output_type": "execute_result"
    }
   ],
   "source": [
    "opdb_filt.sort_values(by=['year'])"
   ]
  },
  {
   "cell_type": "code",
   "execution_count": 31,
   "id": "c5c19f83",
   "metadata": {},
   "outputs": [
    {
     "data": {
      "application/vnd.microsoft.datawrangler.viewer.v0+json": {
       "columns": [
        {
         "name": "manufacturer_name",
         "rawType": "object",
         "type": "string"
        },
        {
         "name": "count",
         "rawType": "int64",
         "type": "integer"
        }
       ],
       "ref": "d3d56a11-2e68-4a0b-afda-8883e342c1d2",
       "rows": [
        [
         "Gottlieb",
         "489"
        ],
        [
         "Williams",
         "371"
        ],
        [
         "Bally",
         "238"
        ],
        [
         "Stern",
         "215"
        ],
        [
         "Chicago Coin",
         "69"
        ],
        [
         "Playmatic",
         "52"
        ],
        [
         "Zaccaria",
         "45"
        ],
        [
         "Jersey Jack Pinball",
         "38"
        ],
        [
         "Sega",
         "37"
        ],
        [
         "Stern Electronics",
         "34"
        ],
        [
         "Recel",
         "33"
        ],
        [
         "Inder",
         "31"
        ],
        [
         "Genco",
         "30"
        ],
        [
         "Data East",
         "27"
        ],
        [
         "Spooky Pinball",
         "26"
        ],
        [
         "United",
         "23"
        ],
        [
         "Segasa",
         "23"
        ],
        [
         "Rally",
         "21"
        ],
        [
         "Game Plan",
         "21"
        ],
        [
         "Multimorphic",
         "20"
        ],
        [
         "Bell Games",
         "20"
        ],
        [
         "Exhibit",
         "20"
        ],
        [
         "Chicago Gaming",
         "17"
        ],
        [
         "Allied Leisure",
         "16"
        ],
        [
         "American Pinball",
         "14"
        ],
        [
         "Petaco",
         "11"
        ],
        [
         "Atari",
         "11"
        ],
        [
         "Pinball Brothers",
         "10"
        ],
        [
         "Europlay",
         "10"
        ],
        [
         "Nordamatic",
         "9"
        ],
        [
         "Taito",
         "9"
        ],
        [
         "Keeney",
         "8"
        ],
        [
         "Mondialmatic",
         "8"
        ],
        [
         "Sonic",
         "8"
        ],
        [
         "Recreativos Franco",
         "8"
        ],
        [
         "Alvin G. & Co",
         "7"
        ],
        [
         "Unidesa",
         "7"
        ],
        [
         "Geiger",
         "7"
        ],
        [
         "Juegos Populares",
         "7"
        ],
        [
         "Capcom",
         "6"
        ],
        [
         "A.M.I.",
         "6"
        ],
        [
         "Jeutel",
         "6"
        ],
        [
         "For Amusement Only Games",
         "6"
        ],
        [
         "Komplett",
         "6"
        ],
        [
         "Midway",
         "6"
        ],
        [
         "Hankin",
         "5"
        ],
        [
         "C.E.A.",
         "5"
        ],
        [
         "Vector Pinball",
         "5"
        ],
        [
         "Turner Pinball",
         "5"
        ],
        [
         "Pedretti Gaming",
         "5"
        ]
       ],
       "shape": {
        "columns": 1,
        "rows": 141
       }
      },
      "text/plain": [
       "manufacturer_name\n",
       "Gottlieb            489\n",
       "Williams            371\n",
       "Bally               238\n",
       "Stern               215\n",
       "Chicago Coin         69\n",
       "                   ... \n",
       "Team Pinball          1\n",
       "Suncoast Pinball      1\n",
       "Pinnovating           1\n",
       "deeproot              1\n",
       "J. Esteban            1\n",
       "Name: count, Length: 141, dtype: int64"
      ]
     },
     "execution_count": 31,
     "metadata": {},
     "output_type": "execute_result"
    }
   ],
   "source": [
    "opdb_filt['manufacturer_name'].value_counts(ascending=False)"
   ]
  },
  {
   "cell_type": "code",
   "execution_count": 32,
   "id": "50c20316",
   "metadata": {},
   "outputs": [
    {
     "name": "stderr",
     "output_type": "stream",
     "text": [
      "C:\\Users\\nmuff\\AppData\\Local\\Temp\\ipykernel_33036\\4245484238.py:1: SettingWithCopyWarning:\n",
      "\n",
      "\n",
      "A value is trying to be set on a copy of a slice from a DataFrame.\n",
      "Try using .loc[row_indexer,col_indexer] = value instead\n",
      "\n",
      "See the caveats in the documentation: https://pandas.pydata.org/pandas-docs/stable/user_guide/indexing.html#returning-a-view-versus-a-copy\n",
      "\n"
     ]
    }
   ],
   "source": [
    "opdb_filt['manufacturer_name'] = opdb_filt['manufacturer_name'].str.replace('Stern Electronics', 'Stern')"
   ]
  },
  {
   "cell_type": "code",
   "execution_count": 33,
   "id": "2369f361",
   "metadata": {},
   "outputs": [
    {
     "data": {
      "application/vnd.microsoft.datawrangler.viewer.v0+json": {
       "columns": [
        {
         "name": "manufacturer_name",
         "rawType": "object",
         "type": "string"
        },
        {
         "name": "count",
         "rawType": "int64",
         "type": "integer"
        }
       ],
       "ref": "1968ad95-20ba-4c6f-83f4-b75e0bcb4c73",
       "rows": [
        [
         "Gottlieb",
         "489"
        ],
        [
         "Williams",
         "371"
        ],
        [
         "Stern",
         "249"
        ],
        [
         "Bally",
         "238"
        ],
        [
         "Chicago Coin",
         "69"
        ],
        [
         "Playmatic",
         "52"
        ],
        [
         "Zaccaria",
         "45"
        ],
        [
         "Jersey Jack Pinball",
         "38"
        ],
        [
         "Sega",
         "37"
        ],
        [
         "Recel",
         "33"
        ],
        [
         "Inder",
         "31"
        ],
        [
         "Genco",
         "30"
        ],
        [
         "Data East",
         "27"
        ],
        [
         "Spooky Pinball",
         "26"
        ],
        [
         "United",
         "23"
        ],
        [
         "Segasa",
         "23"
        ],
        [
         "Rally",
         "21"
        ],
        [
         "Game Plan",
         "21"
        ],
        [
         "Bell Games",
         "20"
        ],
        [
         "Exhibit",
         "20"
        ],
        [
         "Multimorphic",
         "20"
        ],
        [
         "Chicago Gaming",
         "17"
        ],
        [
         "Allied Leisure",
         "16"
        ],
        [
         "American Pinball",
         "14"
        ],
        [
         "Atari",
         "11"
        ],
        [
         "Petaco",
         "11"
        ],
        [
         "Europlay",
         "10"
        ],
        [
         "Pinball Brothers",
         "10"
        ],
        [
         "Nordamatic",
         "9"
        ],
        [
         "Taito",
         "9"
        ],
        [
         "Keeney",
         "8"
        ],
        [
         "Mondialmatic",
         "8"
        ],
        [
         "Sonic",
         "8"
        ],
        [
         "Recreativos Franco",
         "8"
        ],
        [
         "Geiger",
         "7"
        ],
        [
         "Unidesa",
         "7"
        ],
        [
         "Juegos Populares",
         "7"
        ],
        [
         "Alvin G. & Co",
         "7"
        ],
        [
         "Capcom",
         "6"
        ],
        [
         "Komplett",
         "6"
        ],
        [
         "For Amusement Only Games",
         "6"
        ],
        [
         "Midway",
         "6"
        ],
        [
         "A.M.I.",
         "6"
        ],
        [
         "Jeutel",
         "6"
        ],
        [
         "Tecnoplay",
         "5"
        ],
        [
         "Pedretti Gaming",
         "5"
        ],
        [
         "C.E.A.",
         "5"
        ],
        [
         "Turner Pinball",
         "5"
        ],
        [
         "Vector Pinball",
         "5"
        ],
        [
         "Hankin",
         "5"
        ]
       ],
       "shape": {
        "columns": 1,
        "rows": 140
       }
      },
      "text/plain": [
       "manufacturer_name\n",
       "Gottlieb            489\n",
       "Williams            371\n",
       "Stern               249\n",
       "Bally               238\n",
       "Chicago Coin         69\n",
       "                   ... \n",
       "Team Pinball          1\n",
       "Suncoast Pinball      1\n",
       "Pinnovating           1\n",
       "deeproot              1\n",
       "J. Esteban            1\n",
       "Name: count, Length: 140, dtype: int64"
      ]
     },
     "execution_count": 33,
     "metadata": {},
     "output_type": "execute_result"
    }
   ],
   "source": [
    "opdb_filt['manufacturer_name'].value_counts(ascending=False)"
   ]
  },
  {
   "cell_type": "code",
   "execution_count": null,
   "id": "4dbf7a10",
   "metadata": {},
   "outputs": [],
   "source": []
  },
  {
   "cell_type": "code",
   "execution_count": 34,
   "id": "12d6c5ea",
   "metadata": {},
   "outputs": [
    {
     "data": {
      "application/vnd.plotly.v1+json": {
       "config": {
        "plotlyServerURL": "https://plot.ly"
       },
       "data": [
        {
         "hovertemplate": "count=%{x}<br>manufacturer_name=%{y}<extra></extra>",
         "legendgroup": "",
         "marker": {
          "color": "#636efa",
          "pattern": {
           "shape": ""
          }
         },
         "name": "",
         "orientation": "h",
         "showlegend": false,
         "textposition": "auto",
         "type": "bar",
         "x": {
          "bdata": "AQABAAEAAQABAAEAAQABAAEAAQABAAEAAQABAAEAAQABAAEAAQABAAEAAQABAAEAAQABAAEAAQABAAEAAQABAAEAAQABAAEAAQABAAEAAQABAAEAAQABAAEAAQABAAEAAQABAAEAAQABAAIAAgACAAIAAgACAAIAAgACAAIAAgACAAIAAgACAAMAAwADAAMAAwADAAMAAwADAAMAAwADAAQABAAEAAQABAAEAAQABAAEAAQABQAFAAUABQAFAAUABgAGAAYABgAGAAYABwAHAAcABwAIAAgACAAIAAkACQAKAAoACwALAA4AEAARABQAFAAUABUAFQAXABcAGgAbAB4AHwAhACUAJgAtADQARQDuAPkAcwHpAQ==",
          "dtype": "i2"
         },
         "xaxis": "x",
         "y": [
          "Playbar",
          "Pinball Manufacturing Inc.",
          "Venture Line",
          "Mali",
          "Barni",
          "Grand Products",
          "Apple Time",
          "A.A. Amusements",
          "Marsa Play",
          "Astro Games",
          "Hanilamatic",
          "Alben",
          "Komputer Dynamics",
          "Giorgio Massiniero",
          "Mattel",
          "Mambelli",
          "Sentinel",
          "Briarwood",
          "Videodens",
          "WhizBang Pinball",
          "Universal",
          "Jac Van Ham",
          "Zidware",
          "Coffee Mat",
          "Team Pinball",
          "Pinnovating",
          "Block Marble Company",
          "Automaticos",
          "LTD do Brasil",
          "Achille and Chalvignac",
          "Ramp's Pinball",
          "Rebellion Pinball",
          "T.H. Bergmann",
          "Pinball Shop",
          "Bigliardini Elettronici Milano",
          "Elbos",
          "R.M.G.",
          "IDSA",
          "Mocean",
          "Innovative Concepts (ICE)",
          "HEXA Pinball",
          "Megaverse Project",
          "American Girl",
          "Hispamatic",
          "Skit-B Pinball",
          "Eric Priepke",
          "deeproot",
          "Suncoast Pinball",
          "Retro Pinball",
          "J. Esteban",
          "Valley",
          "Red Baron Amusements",
          "Pinstar",
          "Mirco Games",
          "Sportmatic",
          "Wico",
          "Riot Pinball",
          "Cisco",
          "International",
          "Staal",
          "Pinball Adventures",
          "Barrels of Fun",
          "Ian Harrower Games",
          "Bandai Namco",
          "North Star",
          "Playmec Flippers",
          "Quetzal Pinball",
          "Viza Manufacturing",
          "Heighway Pinball",
          "Homepin",
          "Maguinas / Mac Pinball",
          "Joctronic",
          "Spinball",
          "K.C. Tabart",
          "Maresa",
          "Cic Play",
          "Bell Coin Matic",
          "I.D.I.",
          "Fascination Game",
          "Arkon",
          "Peyper",
          "Dutch Pinball",
          "Sleic",
          "Marvel",
          "Brunswick",
          "Nsm",
          "Giuliano Lodola",
          "Interflip",
          "Haggis Pinball",
          "Mr Game",
          "Tecnoplay",
          "Turner Pinball",
          "C.E.A.",
          "Pedretti Gaming",
          "Vector Pinball",
          "Hankin",
          "Midway",
          "Komplett",
          "Jeutel",
          "A.M.I.",
          "For Amusement Only Games",
          "Capcom",
          "Alvin G. & Co",
          "Unidesa",
          "Geiger",
          "Juegos Populares",
          "Mondialmatic",
          "Recreativos Franco",
          "Keeney",
          "Sonic",
          "Nordamatic",
          "Taito",
          "Pinball Brothers",
          "Europlay",
          "Petaco",
          "Atari",
          "American Pinball",
          "Allied Leisure",
          "Chicago Gaming",
          "Exhibit",
          "Bell Games",
          "Multimorphic",
          "Rally",
          "Game Plan",
          "United",
          "Segasa",
          "Spooky Pinball",
          "Data East",
          "Genco",
          "Inder",
          "Recel",
          "Sega",
          "Jersey Jack Pinball",
          "Zaccaria",
          "Playmatic",
          "Chicago Coin",
          "Bally",
          "Stern",
          "Williams",
          "Gottlieb"
         ],
         "yaxis": "y"
        }
       ],
       "layout": {
        "barmode": "relative",
        "legend": {
         "tracegroupgap": 0
        },
        "margin": {
         "t": 60
        },
        "template": {
         "data": {
          "bar": [
           {
            "error_x": {
             "color": "#2a3f5f"
            },
            "error_y": {
             "color": "#2a3f5f"
            },
            "marker": {
             "line": {
              "color": "white",
              "width": 0.5
             },
             "pattern": {
              "fillmode": "overlay",
              "size": 10,
              "solidity": 0.2
             }
            },
            "type": "bar"
           }
          ],
          "barpolar": [
           {
            "marker": {
             "line": {
              "color": "white",
              "width": 0.5
             },
             "pattern": {
              "fillmode": "overlay",
              "size": 10,
              "solidity": 0.2
             }
            },
            "type": "barpolar"
           }
          ],
          "carpet": [
           {
            "aaxis": {
             "endlinecolor": "#2a3f5f",
             "gridcolor": "#C8D4E3",
             "linecolor": "#C8D4E3",
             "minorgridcolor": "#C8D4E3",
             "startlinecolor": "#2a3f5f"
            },
            "baxis": {
             "endlinecolor": "#2a3f5f",
             "gridcolor": "#C8D4E3",
             "linecolor": "#C8D4E3",
             "minorgridcolor": "#C8D4E3",
             "startlinecolor": "#2a3f5f"
            },
            "type": "carpet"
           }
          ],
          "choropleth": [
           {
            "colorbar": {
             "outlinewidth": 0,
             "ticks": ""
            },
            "type": "choropleth"
           }
          ],
          "contour": [
           {
            "colorbar": {
             "outlinewidth": 0,
             "ticks": ""
            },
            "colorscale": [
             [
              0,
              "#0d0887"
             ],
             [
              0.1111111111111111,
              "#46039f"
             ],
             [
              0.2222222222222222,
              "#7201a8"
             ],
             [
              0.3333333333333333,
              "#9c179e"
             ],
             [
              0.4444444444444444,
              "#bd3786"
             ],
             [
              0.5555555555555556,
              "#d8576b"
             ],
             [
              0.6666666666666666,
              "#ed7953"
             ],
             [
              0.7777777777777778,
              "#fb9f3a"
             ],
             [
              0.8888888888888888,
              "#fdca26"
             ],
             [
              1,
              "#f0f921"
             ]
            ],
            "type": "contour"
           }
          ],
          "contourcarpet": [
           {
            "colorbar": {
             "outlinewidth": 0,
             "ticks": ""
            },
            "type": "contourcarpet"
           }
          ],
          "heatmap": [
           {
            "colorbar": {
             "outlinewidth": 0,
             "ticks": ""
            },
            "colorscale": [
             [
              0,
              "#0d0887"
             ],
             [
              0.1111111111111111,
              "#46039f"
             ],
             [
              0.2222222222222222,
              "#7201a8"
             ],
             [
              0.3333333333333333,
              "#9c179e"
             ],
             [
              0.4444444444444444,
              "#bd3786"
             ],
             [
              0.5555555555555556,
              "#d8576b"
             ],
             [
              0.6666666666666666,
              "#ed7953"
             ],
             [
              0.7777777777777778,
              "#fb9f3a"
             ],
             [
              0.8888888888888888,
              "#fdca26"
             ],
             [
              1,
              "#f0f921"
             ]
            ],
            "type": "heatmap"
           }
          ],
          "histogram": [
           {
            "marker": {
             "pattern": {
              "fillmode": "overlay",
              "size": 10,
              "solidity": 0.2
             }
            },
            "type": "histogram"
           }
          ],
          "histogram2d": [
           {
            "colorbar": {
             "outlinewidth": 0,
             "ticks": ""
            },
            "colorscale": [
             [
              0,
              "#0d0887"
             ],
             [
              0.1111111111111111,
              "#46039f"
             ],
             [
              0.2222222222222222,
              "#7201a8"
             ],
             [
              0.3333333333333333,
              "#9c179e"
             ],
             [
              0.4444444444444444,
              "#bd3786"
             ],
             [
              0.5555555555555556,
              "#d8576b"
             ],
             [
              0.6666666666666666,
              "#ed7953"
             ],
             [
              0.7777777777777778,
              "#fb9f3a"
             ],
             [
              0.8888888888888888,
              "#fdca26"
             ],
             [
              1,
              "#f0f921"
             ]
            ],
            "type": "histogram2d"
           }
          ],
          "histogram2dcontour": [
           {
            "colorbar": {
             "outlinewidth": 0,
             "ticks": ""
            },
            "colorscale": [
             [
              0,
              "#0d0887"
             ],
             [
              0.1111111111111111,
              "#46039f"
             ],
             [
              0.2222222222222222,
              "#7201a8"
             ],
             [
              0.3333333333333333,
              "#9c179e"
             ],
             [
              0.4444444444444444,
              "#bd3786"
             ],
             [
              0.5555555555555556,
              "#d8576b"
             ],
             [
              0.6666666666666666,
              "#ed7953"
             ],
             [
              0.7777777777777778,
              "#fb9f3a"
             ],
             [
              0.8888888888888888,
              "#fdca26"
             ],
             [
              1,
              "#f0f921"
             ]
            ],
            "type": "histogram2dcontour"
           }
          ],
          "mesh3d": [
           {
            "colorbar": {
             "outlinewidth": 0,
             "ticks": ""
            },
            "type": "mesh3d"
           }
          ],
          "parcoords": [
           {
            "line": {
             "colorbar": {
              "outlinewidth": 0,
              "ticks": ""
             }
            },
            "type": "parcoords"
           }
          ],
          "pie": [
           {
            "automargin": true,
            "type": "pie"
           }
          ],
          "scatter": [
           {
            "fillpattern": {
             "fillmode": "overlay",
             "size": 10,
             "solidity": 0.2
            },
            "type": "scatter"
           }
          ],
          "scatter3d": [
           {
            "line": {
             "colorbar": {
              "outlinewidth": 0,
              "ticks": ""
             }
            },
            "marker": {
             "colorbar": {
              "outlinewidth": 0,
              "ticks": ""
             }
            },
            "type": "scatter3d"
           }
          ],
          "scattercarpet": [
           {
            "marker": {
             "colorbar": {
              "outlinewidth": 0,
              "ticks": ""
             }
            },
            "type": "scattercarpet"
           }
          ],
          "scattergeo": [
           {
            "marker": {
             "colorbar": {
              "outlinewidth": 0,
              "ticks": ""
             }
            },
            "type": "scattergeo"
           }
          ],
          "scattergl": [
           {
            "marker": {
             "colorbar": {
              "outlinewidth": 0,
              "ticks": ""
             }
            },
            "type": "scattergl"
           }
          ],
          "scattermap": [
           {
            "marker": {
             "colorbar": {
              "outlinewidth": 0,
              "ticks": ""
             }
            },
            "type": "scattermap"
           }
          ],
          "scattermapbox": [
           {
            "marker": {
             "colorbar": {
              "outlinewidth": 0,
              "ticks": ""
             }
            },
            "type": "scattermapbox"
           }
          ],
          "scatterpolar": [
           {
            "marker": {
             "colorbar": {
              "outlinewidth": 0,
              "ticks": ""
             }
            },
            "type": "scatterpolar"
           }
          ],
          "scatterpolargl": [
           {
            "marker": {
             "colorbar": {
              "outlinewidth": 0,
              "ticks": ""
             }
            },
            "type": "scatterpolargl"
           }
          ],
          "scatterternary": [
           {
            "marker": {
             "colorbar": {
              "outlinewidth": 0,
              "ticks": ""
             }
            },
            "type": "scatterternary"
           }
          ],
          "surface": [
           {
            "colorbar": {
             "outlinewidth": 0,
             "ticks": ""
            },
            "colorscale": [
             [
              0,
              "#0d0887"
             ],
             [
              0.1111111111111111,
              "#46039f"
             ],
             [
              0.2222222222222222,
              "#7201a8"
             ],
             [
              0.3333333333333333,
              "#9c179e"
             ],
             [
              0.4444444444444444,
              "#bd3786"
             ],
             [
              0.5555555555555556,
              "#d8576b"
             ],
             [
              0.6666666666666666,
              "#ed7953"
             ],
             [
              0.7777777777777778,
              "#fb9f3a"
             ],
             [
              0.8888888888888888,
              "#fdca26"
             ],
             [
              1,
              "#f0f921"
             ]
            ],
            "type": "surface"
           }
          ],
          "table": [
           {
            "cells": {
             "fill": {
              "color": "#EBF0F8"
             },
             "line": {
              "color": "white"
             }
            },
            "header": {
             "fill": {
              "color": "#C8D4E3"
             },
             "line": {
              "color": "white"
             }
            },
            "type": "table"
           }
          ]
         },
         "layout": {
          "annotationdefaults": {
           "arrowcolor": "#2a3f5f",
           "arrowhead": 0,
           "arrowwidth": 1
          },
          "autotypenumbers": "strict",
          "coloraxis": {
           "colorbar": {
            "outlinewidth": 0,
            "ticks": ""
           }
          },
          "colorscale": {
           "diverging": [
            [
             0,
             "#8e0152"
            ],
            [
             0.1,
             "#c51b7d"
            ],
            [
             0.2,
             "#de77ae"
            ],
            [
             0.3,
             "#f1b6da"
            ],
            [
             0.4,
             "#fde0ef"
            ],
            [
             0.5,
             "#f7f7f7"
            ],
            [
             0.6,
             "#e6f5d0"
            ],
            [
             0.7,
             "#b8e186"
            ],
            [
             0.8,
             "#7fbc41"
            ],
            [
             0.9,
             "#4d9221"
            ],
            [
             1,
             "#276419"
            ]
           ],
           "sequential": [
            [
             0,
             "#0d0887"
            ],
            [
             0.1111111111111111,
             "#46039f"
            ],
            [
             0.2222222222222222,
             "#7201a8"
            ],
            [
             0.3333333333333333,
             "#9c179e"
            ],
            [
             0.4444444444444444,
             "#bd3786"
            ],
            [
             0.5555555555555556,
             "#d8576b"
            ],
            [
             0.6666666666666666,
             "#ed7953"
            ],
            [
             0.7777777777777778,
             "#fb9f3a"
            ],
            [
             0.8888888888888888,
             "#fdca26"
            ],
            [
             1,
             "#f0f921"
            ]
           ],
           "sequentialminus": [
            [
             0,
             "#0d0887"
            ],
            [
             0.1111111111111111,
             "#46039f"
            ],
            [
             0.2222222222222222,
             "#7201a8"
            ],
            [
             0.3333333333333333,
             "#9c179e"
            ],
            [
             0.4444444444444444,
             "#bd3786"
            ],
            [
             0.5555555555555556,
             "#d8576b"
            ],
            [
             0.6666666666666666,
             "#ed7953"
            ],
            [
             0.7777777777777778,
             "#fb9f3a"
            ],
            [
             0.8888888888888888,
             "#fdca26"
            ],
            [
             1,
             "#f0f921"
            ]
           ]
          },
          "colorway": [
           "#636efa",
           "#EF553B",
           "#00cc96",
           "#ab63fa",
           "#FFA15A",
           "#19d3f3",
           "#FF6692",
           "#B6E880",
           "#FF97FF",
           "#FECB52"
          ],
          "font": {
           "color": "#2a3f5f"
          },
          "geo": {
           "bgcolor": "white",
           "lakecolor": "white",
           "landcolor": "white",
           "showlakes": true,
           "showland": true,
           "subunitcolor": "#C8D4E3"
          },
          "hoverlabel": {
           "align": "left"
          },
          "hovermode": "closest",
          "mapbox": {
           "style": "light"
          },
          "paper_bgcolor": "white",
          "plot_bgcolor": "white",
          "polar": {
           "angularaxis": {
            "gridcolor": "#EBF0F8",
            "linecolor": "#EBF0F8",
            "ticks": ""
           },
           "bgcolor": "white",
           "radialaxis": {
            "gridcolor": "#EBF0F8",
            "linecolor": "#EBF0F8",
            "ticks": ""
           }
          },
          "scene": {
           "xaxis": {
            "backgroundcolor": "white",
            "gridcolor": "#DFE8F3",
            "gridwidth": 2,
            "linecolor": "#EBF0F8",
            "showbackground": true,
            "ticks": "",
            "zerolinecolor": "#EBF0F8"
           },
           "yaxis": {
            "backgroundcolor": "white",
            "gridcolor": "#DFE8F3",
            "gridwidth": 2,
            "linecolor": "#EBF0F8",
            "showbackground": true,
            "ticks": "",
            "zerolinecolor": "#EBF0F8"
           },
           "zaxis": {
            "backgroundcolor": "white",
            "gridcolor": "#DFE8F3",
            "gridwidth": 2,
            "linecolor": "#EBF0F8",
            "showbackground": true,
            "ticks": "",
            "zerolinecolor": "#EBF0F8"
           }
          },
          "shapedefaults": {
           "line": {
            "color": "#2a3f5f"
           }
          },
          "ternary": {
           "aaxis": {
            "gridcolor": "#DFE8F3",
            "linecolor": "#A2B1C6",
            "ticks": ""
           },
           "baxis": {
            "gridcolor": "#DFE8F3",
            "linecolor": "#A2B1C6",
            "ticks": ""
           },
           "bgcolor": "white",
           "caxis": {
            "gridcolor": "#DFE8F3",
            "linecolor": "#A2B1C6",
            "ticks": ""
           }
          },
          "title": {
           "x": 0.05
          },
          "xaxis": {
           "automargin": true,
           "gridcolor": "#EBF0F8",
           "linecolor": "#EBF0F8",
           "ticks": "",
           "title": {
            "standoff": 15
           },
           "zerolinecolor": "#EBF0F8",
           "zerolinewidth": 2
          },
          "yaxis": {
           "automargin": true,
           "gridcolor": "#EBF0F8",
           "linecolor": "#EBF0F8",
           "ticks": "",
           "title": {
            "standoff": 15
           },
           "zerolinecolor": "#EBF0F8",
           "zerolinewidth": 2
          }
         }
        },
        "xaxis": {
         "anchor": "y",
         "domain": [
          0,
          1
         ],
         "title": {
          "text": "count"
         }
        },
        "yaxis": {
         "anchor": "x",
         "domain": [
          0,
          1
         ],
         "title": {
          "text": "manufacturer_name"
         }
        }
       }
      }
     },
     "metadata": {},
     "output_type": "display_data"
    }
   ],
   "source": [
    "manufacturers = opdb_filt['manufacturer_name'].value_counts(ascending=True).reset_index()\n",
    "\n",
    "fig = px.bar(manufacturers, x='count', y='manufacturer_name')\n",
    "\n",
    "fig.show()"
   ]
  },
  {
   "cell_type": "markdown",
   "id": "6c31bc82",
   "metadata": {},
   "source": [
    "# Questions\n",
    "1. How is the popularity of pinball changing? measured by production\n",
    "2. Where are people playing pinball?\n",
    "3. Who plays pinball?\n",
    "4. How many events happen near me?\n",
    "5. How does this fit into the lonliness epidemic and collapse of third places?"
   ]
  },
  {
   "cell_type": "code",
   "execution_count": 35,
   "id": "966d8e5d",
   "metadata": {},
   "outputs": [],
   "source": [
    "url = 'https://pinballmap.com/api/v1/'"
   ]
  },
  {
   "cell_type": "code",
   "execution_count": 36,
   "id": "31e46a25",
   "metadata": {},
   "outputs": [],
   "source": [
    "response = requests.get(url+'regions')"
   ]
  },
  {
   "cell_type": "code",
   "execution_count": 37,
   "id": "93ec0c6b",
   "metadata": {},
   "outputs": [
    {
     "name": "stderr",
     "output_type": "stream",
     "text": [
      "C:\\Users\\nmuff\\AppData\\Local\\Temp\\ipykernel_33036\\17574530.py:1: FutureWarning:\n",
      "\n",
      "Passing literal json to 'read_json' is deprecated and will be removed in a future version. To read from a literal string, wrap it in a 'StringIO' object.\n",
      "\n"
     ]
    }
   ],
   "source": [
    "pm_regions = pd.read_json(response.text)"
   ]
  },
  {
   "cell_type": "code",
   "execution_count": 38,
   "id": "3dacd575",
   "metadata": {},
   "outputs": [
    {
     "data": {
      "application/vnd.microsoft.datawrangler.viewer.v0+json": {
       "columns": [
        {
         "name": "index",
         "rawType": "int64",
         "type": "integer"
        },
        {
         "name": "regions",
         "rawType": "object",
         "type": "unknown"
        }
       ],
       "ref": "f90198f8-34e6-4574-97a2-fe5fb91fba07",
       "rows": [
        [
         "0",
         "{'id': 122, 'name': 'cheyenne', 'full_name': 'Cheyenne', 'motd': 'Pinball Map is more popular than ever, and our costs have gone up! We would love some help. Please become a Pinball Map Patron! https://www.patreon.com/pinballmap', 'lat': '41.141884', 'lon': '-104.796428', 'state': 'Wyoming', 'effective_radius': 10.0}"
        ],
        [
         "1",
         "{'id': 121, 'name': 'wichita', 'full_name': 'Wichita', 'motd': 'Pinball Map is more popular than ever, and our costs have gone up! We would love some help. Please become a Pinball Map Patron! https://www.patreon.com/pinballmap', 'lat': '37.684617', 'lon': '-97.322969', 'state': 'Kansas', 'effective_radius': 15.0}"
        ],
        [
         "2",
         "{'id': 102, 'name': 'memphis', 'full_name': 'Memphis', 'motd': 'Pinball Map is more popular than ever, and our costs have gone up! We would love some help. Please become a Pinball Map Patron! https://www.patreon.com/pinballmap', 'lat': '35.131464', 'lon': '-89.948697', 'state': 'Tennessee', 'effective_radius': 30.0}"
        ],
        [
         "3",
         "{'id': 100, 'name': 'montreal', 'full_name': 'Montreal', 'motd': 'Pinball Map is more popular than ever, and our costs have gone up! We would love some help. Please become a Pinball Map Patron! https://www.patreon.com/pinballmap', 'lat': '45.51288', 'lon': '-73.563726', 'state': 'Quebec', 'effective_radius': 20.0}"
        ],
        [
         "4",
         "{'id': 83, 'name': 'boise', 'full_name': 'Boise', 'motd': 'Pinball Map is more popular than ever, and our costs have gone up! We would love some help. Please become a Pinball Map Patron! https://www.patreon.com/pinballmap', 'lat': '43.606979', 'lon': '-116.193413', 'state': 'Idaho', 'effective_radius': 35.0}"
        ]
       ],
       "shape": {
        "columns": 1,
        "rows": 5
       }
      },
      "text/html": [
       "<div>\n",
       "<style scoped>\n",
       "    .dataframe tbody tr th:only-of-type {\n",
       "        vertical-align: middle;\n",
       "    }\n",
       "\n",
       "    .dataframe tbody tr th {\n",
       "        vertical-align: top;\n",
       "    }\n",
       "\n",
       "    .dataframe thead th {\n",
       "        text-align: right;\n",
       "    }\n",
       "</style>\n",
       "<table border=\"1\" class=\"dataframe\">\n",
       "  <thead>\n",
       "    <tr style=\"text-align: right;\">\n",
       "      <th></th>\n",
       "      <th>regions</th>\n",
       "    </tr>\n",
       "  </thead>\n",
       "  <tbody>\n",
       "    <tr>\n",
       "      <th>0</th>\n",
       "      <td>{'id': 122, 'name': 'cheyenne', 'full_name': '...</td>\n",
       "    </tr>\n",
       "    <tr>\n",
       "      <th>1</th>\n",
       "      <td>{'id': 121, 'name': 'wichita', 'full_name': 'W...</td>\n",
       "    </tr>\n",
       "    <tr>\n",
       "      <th>2</th>\n",
       "      <td>{'id': 102, 'name': 'memphis', 'full_name': 'M...</td>\n",
       "    </tr>\n",
       "    <tr>\n",
       "      <th>3</th>\n",
       "      <td>{'id': 100, 'name': 'montreal', 'full_name': '...</td>\n",
       "    </tr>\n",
       "    <tr>\n",
       "      <th>4</th>\n",
       "      <td>{'id': 83, 'name': 'boise', 'full_name': 'Bois...</td>\n",
       "    </tr>\n",
       "  </tbody>\n",
       "</table>\n",
       "</div>"
      ],
      "text/plain": [
       "                                             regions\n",
       "0  {'id': 122, 'name': 'cheyenne', 'full_name': '...\n",
       "1  {'id': 121, 'name': 'wichita', 'full_name': 'W...\n",
       "2  {'id': 102, 'name': 'memphis', 'full_name': 'M...\n",
       "3  {'id': 100, 'name': 'montreal', 'full_name': '...\n",
       "4  {'id': 83, 'name': 'boise', 'full_name': 'Bois..."
      ]
     },
     "execution_count": 38,
     "metadata": {},
     "output_type": "execute_result"
    }
   ],
   "source": [
    "pm_regions.head()"
   ]
  },
  {
   "cell_type": "code",
   "execution_count": 39,
   "id": "51ad7742",
   "metadata": {},
   "outputs": [],
   "source": [
    "data = response.json()"
   ]
  },
  {
   "cell_type": "code",
   "execution_count": 40,
   "id": "79d82cf6",
   "metadata": {},
   "outputs": [
    {
     "data": {
      "text/plain": [
       "dict_keys(['regions'])"
      ]
     },
     "execution_count": 40,
     "metadata": {},
     "output_type": "execute_result"
    }
   ],
   "source": [
    "data.keys()"
   ]
  },
  {
   "cell_type": "code",
   "execution_count": 41,
   "id": "600ca412",
   "metadata": {},
   "outputs": [],
   "source": [
    "pm_regions = pd.DataFrame(data['regions'])"
   ]
  },
  {
   "cell_type": "code",
   "execution_count": null,
   "id": "2ecc2357",
   "metadata": {},
   "outputs": [
    {
     "data": {
      "application/vnd.microsoft.datawrangler.viewer.v0+json": {
       "columns": [
        {
         "name": "index",
         "rawType": "int64",
         "type": "integer"
        },
        {
         "name": "id",
         "rawType": "int64",
         "type": "integer"
        },
        {
         "name": "name",
         "rawType": "object",
         "type": "string"
        },
        {
         "name": "full_name",
         "rawType": "object",
         "type": "string"
        },
        {
         "name": "motd",
         "rawType": "object",
         "type": "unknown"
        },
        {
         "name": "lat",
         "rawType": "object",
         "type": "string"
        },
        {
         "name": "lon",
         "rawType": "object",
         "type": "string"
        },
        {
         "name": "state",
         "rawType": "object",
         "type": "string"
        },
        {
         "name": "effective_radius",
         "rawType": "float64",
         "type": "float"
        }
       ],
       "ref": "0a704a9e-7db2-4268-bf7a-177643b73355",
       "rows": [
        [
         "0",
         "122",
         "cheyenne",
         "Cheyenne",
         "Pinball Map is more popular than ever, and our costs have gone up! We would love some help. Please become a Pinball Map Patron! https://www.patreon.com/pinballmap",
         "41.141884",
         "-104.796428",
         "Wyoming",
         "10.0"
        ],
        [
         "1",
         "121",
         "wichita",
         "Wichita",
         "Pinball Map is more popular than ever, and our costs have gone up! We would love some help. Please become a Pinball Map Patron! https://www.patreon.com/pinballmap",
         "37.684617",
         "-97.322969",
         "Kansas",
         "15.0"
        ],
        [
         "2",
         "102",
         "memphis",
         "Memphis",
         "Pinball Map is more popular than ever, and our costs have gone up! We would love some help. Please become a Pinball Map Patron! https://www.patreon.com/pinballmap",
         "35.131464",
         "-89.948697",
         "Tennessee",
         "30.0"
        ],
        [
         "3",
         "100",
         "montreal",
         "Montreal",
         "Pinball Map is more popular than ever, and our costs have gone up! We would love some help. Please become a Pinball Map Patron! https://www.patreon.com/pinballmap",
         "45.51288",
         "-73.563726",
         "Quebec",
         "20.0"
        ],
        [
         "4",
         "83",
         "boise",
         "Boise",
         "Pinball Map is more popular than ever, and our costs have gone up! We would love some help. Please become a Pinball Map Patron! https://www.patreon.com/pinballmap",
         "43.606979",
         "-116.193413",
         "Idaho",
         "35.0"
        ],
        [
         "5",
         "80",
         "rhode-island",
         "Rhode Island",
         "If you have a keen eye for clean data, and want to be an admin for this region, please contact us!",
         "41.6986442",
         "-71.630214",
         "Rhode Island",
         "35.0"
        ],
        [
         "6",
         "134",
         "west-oz",
         "Western Australia",
         "To help keep Pinball Map running, consider a donation! https://pinballmap.com/donate",
         "-31.967754",
         "115.917148",
         "Australia",
         "200.0"
        ],
        [
         "7",
         "72",
         "bellingham",
         "Bellingham, WA",
         "Happy pinballing in the City of Subdued Excitement!",
         "48.75235",
         "-122.471222",
         "Washington",
         "10.0"
        ],
        [
         "8",
         "69",
         "richmond",
         "Richmond",
         "Play in the monthly location challenge on T2 at Bailey's West End post your high score for the month of May on the RVAPinball facebook page to win",
         "37.54094",
         "-77.43729",
         "Virginia",
         "25.0"
        ],
        [
         "9",
         "64",
         "philadelphia",
         "Philadelphia",
         "The Philly Pinball Club lives! Details at http://phillypinball.club/",
         "39.953",
         "-75.1692",
         "Pennsylvania",
         "45.0"
        ],
        [
         "10",
         "63",
         "centralpa",
         "Central Pennsylvania",
         "",
         "40.3086",
         "-76.9373",
         "Pennsylvania",
         "80.0"
        ],
        [
         "11",
         "44",
         "reno",
         "Reno",
         "Please add any machines you know of that are not already on the list",
         "39.52932",
         "-119.81374",
         "Nevada",
         "40.0"
        ],
        [
         "12",
         "43",
         "eugene",
         "Eugene & Springfield, OR",
         "Pinball Knights Double Elimination Tourney. All are welcome! Wednesday nights 8pm at Blairalley Vintage Arcade https://www.facebook.com/blairallyarcade",
         "44.05254",
         "-123.08885",
         "Oregon",
         "20.0"
        ],
        [
         "13",
         "89",
         "manitoba",
         "Manitoba",
         "manitobapinball.com",
         "49.892436",
         "-97.173059",
         "Manitoba",
         "200.0"
        ],
        [
         "14",
         "20",
         "toronto",
         "Toronto",
         "Do you want to help out as an admin for this Toronto Pinball Map? We could use your help. Let us know!",
         "43.65617",
         "-79.3861",
         "Ontario",
         "25.0"
        ],
        [
         "15",
         "119",
         "minnesota",
         "Minnesota",
         "Check out the IFPA calendar for weekly pinball events near you!  https://www.ifpapinball.com/calendar/",
         "44.93847",
         "-93.20078",
         "Minnesota",
         "150.0"
        ],
        [
         "16",
         "10",
         "colorado",
         "Colorado",
         "Colorado pinball news, resources, tournaments and events calendar can be found at the Colorado Pinball Collective website: http://colorado-pinball.com",
         "39.7378",
         "-104.9877",
         "Colorado",
         "200.0"
        ],
        [
         "17",
         "92",
         "ca-central",
         "California Central Coast",
         "Welcome to the California Central Coast! Join me in updating Locations and Pins for our beautiful region. Check out the local League and Events! Let's play some Pinball!",
         "36.6004",
         "-121.891091",
         "California",
         "80.0"
        ],
        [
         "18",
         "105",
         "indiana",
         "Indiana",
         "Pinball Map is more popular than ever, and our costs have gone up! We would love some help. Please become a Pinball Map Patron! https://www.patreon.com/pinballmap",
         "39.7262",
         "-86.1481",
         "Indiana",
         "70.0"
        ],
        [
         "19",
         "124",
         "brisbane",
         "Brisbane / Gold Coast",
         "Pinball Map is more popular than ever, and our costs have gone up! We would love some help. Please become a Pinball Map Patron! https://www.patreon.com/pinballmap",
         "-27.472999",
         "153.027107",
         "Australia",
         "100.0"
        ],
        [
         "20",
         "81",
         "connecticut",
         "Connecticut",
         "If you have a keen eye for clean data, and want to be an admin for this region, please contact us!",
         "41.6473962",
         "-72.9696514",
         "Connecticut",
         "55.0"
        ],
        [
         "21",
         "117",
         "nashville",
         "Nashville",
         "Pinball Map is more popular than ever, and our costs have gone up! We would love some help. Please become a Pinball Map Patron! https://www.patreon.com/pinballmap",
         "36.15876",
         "-86.774915",
         "Tennessee",
         "40.0"
        ],
        [
         "22",
         "24",
         "nebraska",
         "Nebraska",
         null,
         "41.1999",
         "-96.0727",
         "Nebraska",
         "150.0"
        ],
        [
         "23",
         "75",
         "oregon-south",
         "Southern Oregon",
         "Thank you for sending updates from your visits to our region's far-flung locations! Thanks to you, our region's map is growing!",
         "43.21088",
         "-123.343231",
         "Oregon",
         "75.0"
        ],
        [
         "24",
         "1",
         "portland",
         "Portland, Oregon",
         "Buncha users had the capitalization removed in their usernames. Oops! If you want yours back, contact us with your preferred punctuation.",
         "45.52341",
         "-122.67561",
         "Oregon",
         "40.0"
        ],
        [
         "25",
         "111",
         "wisconsin",
         "Wisconsin",
         "If a machine is no longer at a location, just remove it! No need to leave a comment saying it's gone.",
         "43.169",
         "-88.7271",
         "Wisconsin",
         "100.0"
        ],
        [
         "26",
         "118",
         "ca-valley",
         "California Central Valley",
         "Welcome to the California Central Valley! Join me in updating Locations and Pins for our beautiful region. Check out the local League and Events! Let's play some Pinball!",
         "35.374288",
         "-119.058151",
         "California",
         "80.0"
        ],
        [
         "27",
         "28",
         "champaign",
         "Champaign",
         null,
         "40.1166",
         "-88.24391",
         "Illinois",
         "45.0"
        ],
        [
         "28",
         "2",
         "bc",
         "British Columbia",
         "Pinball Map is more popular than ever, and our costs have gone up! We would love some help. Please become a Pinball Map Patron! https://www.patreon.com/pinballmap",
         "49.2633",
         "-123.119",
         "British Columbia",
         "40.0"
        ],
        [
         "29",
         "4",
         "sandiego",
         "San Diego",
         "Click 'Events' to see nearby IFPA sanctioned events!",
         "32.7162",
         "-117.1591",
         "California",
         "40.0"
        ],
        [
         "30",
         "116",
         "buffalo",
         "Buffalo",
         "Pinball Map is more popular than ever, and our costs have gone up! We would love some help. Please become a Pinball Map Patron! https://www.patreon.com/pinballmap",
         "42.887387",
         "-78.874476",
         "New York",
         "10.0"
        ],
        [
         "31",
         "115",
         "youngstown",
         "Youngstown, OH",
         "Pinball Map is more popular than ever, and our costs have gone up! We would love some help. Please become a Pinball Map Patron! https://www.patreon.com/pinballmap",
         "41.097088",
         "-80.646558",
         "Ohio",
         "10.0"
        ],
        [
         "32",
         "94",
         "calgary",
         "Calgary",
         "",
         "51.040776",
         "-114.086582",
         "Alberta",
         "35.0"
        ],
        [
         "33",
         "108",
         "massachusetts",
         "Massachusetts",
         "Pinball Map is more popular than ever, and our costs have gone up! We would love some help. Please become a Pinball Map Patron! https://www.patreon.com/pinballmap",
         "42.3135421",
         "-71.1972432",
         "Massachusetts",
         "60.0"
        ],
        [
         "34",
         "107",
         "oklahoma",
         "Oklahoma",
         "Pinball Map is more popular than ever, and our costs have gone up! We would love some help. Please become a Pinball Map Patron! https://www.patreon.com/pinballmap",
         "35.454265",
         "-97.517998",
         "Oklahoma",
         "180.0"
        ],
        [
         "35",
         "101",
         "columbia-mo",
         "Columbia, MO",
         "Pinball Map is more popular than ever, and our costs have gone up! We would love some help. Please become a Pinball Map Patron! https://www.patreon.com/pinballmap",
         "38.953489",
         "-92.332618",
         "Missouri",
         "15.0"
        ],
        [
         "36",
         "99",
         "raleigh-durham",
         "Raleigh-Durham",
         "Pinball Map is more popular than ever, and our costs have gone up! We would love some help. Please become a Pinball Map Patron! https://www.patreon.com/pinballmap",
         "35.781788",
         "-78.635508",
         "North Carolina",
         "35.0"
        ],
        [
         "37",
         "97",
         "san-antonio",
         "San Antonio",
         "Pinball Map is more popular than ever, and our costs have gone up! We would love some help. Please become a Pinball Map Patron! https://www.patreon.com/pinballmap",
         "29.411838",
         "-98.498751",
         "Texas",
         "30.0"
        ],
        [
         "38",
         "96",
         "columbia",
         "Columbia, SC",
         "Pinball Map is more popular than ever, and our costs have gone up! We would love some help. Please become a Pinball Map Patron! https://www.patreon.com/pinballmap",
         "33.997431",
         "-81.040253",
         "South Carolina",
         "30.0"
        ],
        [
         "39",
         "95",
         "cincinnati",
         "Cincinnati",
         "Pinball Map is more popular than ever, and our costs have gone up! We would love some help. Please become a Pinball Map Patron! https://www.patreon.com/pinballmap",
         "39.106006",
         "-84.515924",
         "Ohio",
         "25.0"
        ],
        [
         "40",
         "91",
         "atlanta",
         "Atlanta",
         "Pinball Map is more popular than ever, and our costs have gone up! We would love some help. Please become a Pinball Map Patron! https://www.patreon.com/pinballmap",
         "33.76506",
         "-84.394321",
         "Georgia",
         "25.0"
        ],
        [
         "41",
         "87",
         "bend",
         "Bend, Oregon",
         "Pinball Map is more popular than ever, and our costs have gone up! We would love some help. Please become a Pinball Map Patron! https://www.patreon.com/pinballmap",
         "44.065492",
         "-121.316783",
         "Oregon",
         "25.0"
        ],
        [
         "42",
         "86",
         "tucson",
         "Tucson",
         "Pinball Map is more popular than ever, and our costs have gone up! We would love some help. Please become a Pinball Map Patron! https://www.patreon.com/pinballmap",
         "32.216341",
         "-110.923791",
         "Arizona",
         "35.0"
        ],
        [
         "43",
         "84",
         "ottawa",
         "Ottawa",
         "Pinball Map is more popular than ever, and our costs have gone up! We would love some help. Please become a Pinball Map Patron! https://www.patreon.com/pinballmap",
         "45.389198",
         "-75.688004",
         "Ontario",
         "45.0"
        ],
        [
         "44",
         "55",
         "louisville",
         "Louisville",
         "Pinball Map is more popular than ever, and our costs have gone up! We would love some help. Please become a Pinball Map Patron! https://www.patreon.com/pinballmap",
         "38.24547",
         "-85.74285",
         "Kentucky",
         "35.0"
        ],
        [
         "45",
         "45",
         "dc",
         "Washington, DC",
         "Pinball Map is more popular than ever, and our costs have gone up! We would love some help. Please become a Pinball Map Patron! https://www.patreon.com/pinballmap",
         "38.9072",
         "-77.03752",
         "Washington, DC",
         "25.0"
        ],
        [
         "46",
         "15",
         "jacksonville",
         "Jacksonville",
         "Pinball Map is more popular than ever, and our costs have gone up! We would love some help. Please become a Pinball Map Patron! https://www.patreon.com/pinballmap",
         "30.33234",
         "-81.65923",
         "Florida",
         "45.0"
        ],
        [
         "47",
         "14",
         "spokane",
         "Spokane",
         "Pinball Map is more popular than ever, and our costs have gone up! We would love some help. Please become a Pinball Map Patron! https://www.patreon.com/pinballmap",
         "47.65881",
         "-117.42776",
         "Washington",
         "35.0"
        ],
        [
         "48",
         "3",
         "seattle",
         "Seattle",
         "Pinball Map is more popular than ever, and our costs have gone up! We would love some help. Please become a Pinball Map Patron! https://www.patreon.com/pinballmap",
         "47.60626",
         "-122.33296",
         "Washington",
         "30.0"
        ],
        [
         "49",
         "114",
         "hawaii",
         "Hawaii",
         "Pinball Map is more popular than ever, and our costs have gone up! We would love some help. Please become a Pinball Map Patron! https://www.patreon.com/pinballmap",
         "21.393836",
         "-157.924988",
         "Hawaii",
         "300.0"
        ]
       ],
       "shape": {
        "columns": 8,
        "rows": 98
       }
      },
      "text/html": [
       "<div>\n",
       "<style scoped>\n",
       "    .dataframe tbody tr th:only-of-type {\n",
       "        vertical-align: middle;\n",
       "    }\n",
       "\n",
       "    .dataframe tbody tr th {\n",
       "        vertical-align: top;\n",
       "    }\n",
       "\n",
       "    .dataframe thead th {\n",
       "        text-align: right;\n",
       "    }\n",
       "</style>\n",
       "<table border=\"1\" class=\"dataframe\">\n",
       "  <thead>\n",
       "    <tr style=\"text-align: right;\">\n",
       "      <th></th>\n",
       "      <th>id</th>\n",
       "      <th>name</th>\n",
       "      <th>full_name</th>\n",
       "      <th>motd</th>\n",
       "      <th>lat</th>\n",
       "      <th>lon</th>\n",
       "      <th>state</th>\n",
       "      <th>effective_radius</th>\n",
       "    </tr>\n",
       "  </thead>\n",
       "  <tbody>\n",
       "    <tr>\n",
       "      <th>0</th>\n",
       "      <td>122</td>\n",
       "      <td>cheyenne</td>\n",
       "      <td>Cheyenne</td>\n",
       "      <td>Pinball Map is more popular than ever, and our...</td>\n",
       "      <td>41.141884</td>\n",
       "      <td>-104.796428</td>\n",
       "      <td>Wyoming</td>\n",
       "      <td>10.0</td>\n",
       "    </tr>\n",
       "    <tr>\n",
       "      <th>1</th>\n",
       "      <td>121</td>\n",
       "      <td>wichita</td>\n",
       "      <td>Wichita</td>\n",
       "      <td>Pinball Map is more popular than ever, and our...</td>\n",
       "      <td>37.684617</td>\n",
       "      <td>-97.322969</td>\n",
       "      <td>Kansas</td>\n",
       "      <td>15.0</td>\n",
       "    </tr>\n",
       "    <tr>\n",
       "      <th>2</th>\n",
       "      <td>102</td>\n",
       "      <td>memphis</td>\n",
       "      <td>Memphis</td>\n",
       "      <td>Pinball Map is more popular than ever, and our...</td>\n",
       "      <td>35.131464</td>\n",
       "      <td>-89.948697</td>\n",
       "      <td>Tennessee</td>\n",
       "      <td>30.0</td>\n",
       "    </tr>\n",
       "    <tr>\n",
       "      <th>3</th>\n",
       "      <td>100</td>\n",
       "      <td>montreal</td>\n",
       "      <td>Montreal</td>\n",
       "      <td>Pinball Map is more popular than ever, and our...</td>\n",
       "      <td>45.51288</td>\n",
       "      <td>-73.563726</td>\n",
       "      <td>Quebec</td>\n",
       "      <td>20.0</td>\n",
       "    </tr>\n",
       "    <tr>\n",
       "      <th>4</th>\n",
       "      <td>83</td>\n",
       "      <td>boise</td>\n",
       "      <td>Boise</td>\n",
       "      <td>Pinball Map is more popular than ever, and our...</td>\n",
       "      <td>43.606979</td>\n",
       "      <td>-116.193413</td>\n",
       "      <td>Idaho</td>\n",
       "      <td>35.0</td>\n",
       "    </tr>\n",
       "    <tr>\n",
       "      <th>...</th>\n",
       "      <td>...</td>\n",
       "      <td>...</td>\n",
       "      <td>...</td>\n",
       "      <td>...</td>\n",
       "      <td>...</td>\n",
       "      <td>...</td>\n",
       "      <td>...</td>\n",
       "      <td>...</td>\n",
       "    </tr>\n",
       "    <tr>\n",
       "      <th>93</th>\n",
       "      <td>8</td>\n",
       "      <td>bayarea</td>\n",
       "      <td>Bay Area</td>\n",
       "      <td>We now have operator email addresses for about...</td>\n",
       "      <td>37.7616</td>\n",
       "      <td>-122.3905</td>\n",
       "      <td>California</td>\n",
       "      <td>60.0</td>\n",
       "    </tr>\n",
       "    <tr>\n",
       "      <th>94</th>\n",
       "      <td>133</td>\n",
       "      <td>uk</td>\n",
       "      <td>United Kingdom</td>\n",
       "      <td>To help keep Pinball Map running, consider a d...</td>\n",
       "      <td>51.50642</td>\n",
       "      <td>-0.12721</td>\n",
       "      <td>Great Britain</td>\n",
       "      <td>150.0</td>\n",
       "    </tr>\n",
       "    <tr>\n",
       "      <th>95</th>\n",
       "      <td>19</td>\n",
       "      <td>pittsburgh</td>\n",
       "      <td>Pittsburgh</td>\n",
       "      <td>Check the Events page for tournaments and leag...</td>\n",
       "      <td>40.44081</td>\n",
       "      <td>-79.99645</td>\n",
       "      <td>Pennsylvania</td>\n",
       "      <td>50.0</td>\n",
       "    </tr>\n",
       "    <tr>\n",
       "      <th>96</th>\n",
       "      <td>90</td>\n",
       "      <td>delaware</td>\n",
       "      <td>Delaware</td>\n",
       "      <td>Welcome silverball enthusiasts to the Delaware...</td>\n",
       "      <td>39.013516</td>\n",
       "      <td>-75.521529</td>\n",
       "      <td>Delaware</td>\n",
       "      <td>40.0</td>\n",
       "    </tr>\n",
       "    <tr>\n",
       "      <th>97</th>\n",
       "      <td>131</td>\n",
       "      <td>finland</td>\n",
       "      <td>Finland</td>\n",
       "      <td>For pinball discussions (mostly in Finnish) he...</td>\n",
       "      <td>61.403645</td>\n",
       "      <td>25.444844</td>\n",
       "      <td>Finland</td>\n",
       "      <td>100.0</td>\n",
       "    </tr>\n",
       "  </tbody>\n",
       "</table>\n",
       "<p>98 rows × 8 columns</p>\n",
       "</div>"
      ],
      "text/plain": [
       "     id        name       full_name  \\\n",
       "0   122    cheyenne        Cheyenne   \n",
       "1   121     wichita         Wichita   \n",
       "2   102     memphis         Memphis   \n",
       "3   100    montreal        Montreal   \n",
       "4    83       boise           Boise   \n",
       "..  ...         ...             ...   \n",
       "93    8     bayarea        Bay Area   \n",
       "94  133          uk  United Kingdom   \n",
       "95   19  pittsburgh      Pittsburgh   \n",
       "96   90    delaware        Delaware   \n",
       "97  131     finland         Finland   \n",
       "\n",
       "                                                 motd        lat          lon  \\\n",
       "0   Pinball Map is more popular than ever, and our...  41.141884  -104.796428   \n",
       "1   Pinball Map is more popular than ever, and our...  37.684617   -97.322969   \n",
       "2   Pinball Map is more popular than ever, and our...  35.131464   -89.948697   \n",
       "3   Pinball Map is more popular than ever, and our...   45.51288   -73.563726   \n",
       "4   Pinball Map is more popular than ever, and our...  43.606979  -116.193413   \n",
       "..                                                ...        ...          ...   \n",
       "93  We now have operator email addresses for about...    37.7616    -122.3905   \n",
       "94  To help keep Pinball Map running, consider a d...   51.50642     -0.12721   \n",
       "95  Check the Events page for tournaments and leag...   40.44081    -79.99645   \n",
       "96  Welcome silverball enthusiasts to the Delaware...  39.013516   -75.521529   \n",
       "97  For pinball discussions (mostly in Finnish) he...  61.403645    25.444844   \n",
       "\n",
       "            state  effective_radius  \n",
       "0         Wyoming              10.0  \n",
       "1          Kansas              15.0  \n",
       "2       Tennessee              30.0  \n",
       "3          Quebec              20.0  \n",
       "4           Idaho              35.0  \n",
       "..            ...               ...  \n",
       "93     California              60.0  \n",
       "94  Great Britain             150.0  \n",
       "95   Pennsylvania              50.0  \n",
       "96       Delaware              40.0  \n",
       "97        Finland             100.0  \n",
       "\n",
       "[98 rows x 8 columns]"
      ]
     },
     "execution_count": 42,
     "metadata": {},
     "output_type": "execute_result"
    }
   ],
   "source": [
    "pm_regions.head()"
   ]
  },
  {
   "cell_type": "code",
   "execution_count": 43,
   "id": "71daaf02",
   "metadata": {},
   "outputs": [
    {
     "data": {
      "application/vnd.microsoft.datawrangler.viewer.v0+json": {
       "columns": [
        {
         "name": "index",
         "rawType": "int64",
         "type": "integer"
        },
        {
         "name": "id",
         "rawType": "int64",
         "type": "integer"
        },
        {
         "name": "name",
         "rawType": "object",
         "type": "string"
        },
        {
         "name": "full_name",
         "rawType": "object",
         "type": "string"
        },
        {
         "name": "motd",
         "rawType": "object",
         "type": "string"
        },
        {
         "name": "lat",
         "rawType": "object",
         "type": "string"
        },
        {
         "name": "lon",
         "rawType": "object",
         "type": "string"
        },
        {
         "name": "state",
         "rawType": "object",
         "type": "string"
        },
        {
         "name": "effective_radius",
         "rawType": "float64",
         "type": "float"
        }
       ],
       "ref": "520792a4-2ee4-4d2c-b546-ce663b3bcadb",
       "rows": [
        [
         "31",
         "115",
         "youngstown",
         "Youngstown, OH",
         "Pinball Map is more popular than ever, and our costs have gone up! We would love some help. Please become a Pinball Map Patron! https://www.patreon.com/pinballmap",
         "41.097088",
         "-80.646558",
         "Ohio",
         "10.0"
        ],
        [
         "39",
         "95",
         "cincinnati",
         "Cincinnati",
         "Pinball Map is more popular than ever, and our costs have gone up! We would love some help. Please become a Pinball Map Patron! https://www.patreon.com/pinballmap",
         "39.106006",
         "-84.515924",
         "Ohio",
         "25.0"
        ],
        [
         "65",
         "32",
         "cleveland",
         "Cleveland",
         "Pinball Map is more popular than ever, and our costs have gone up! We would love some help. Please become a Pinball Map Patron! https://www.patreon.com/pinballmap",
         "41.49927",
         "-81.69606",
         "Ohio",
         "40.0"
        ],
        [
         "67",
         "25",
         "columbus",
         "Columbus",
         "Pinball Map is more popular than ever, and our costs have gone up! We would love some help. Please become a Pinball Map Patron! https://www.patreon.com/pinballmap",
         "39.9632",
         "-83.0008",
         "Ohio",
         "30.0"
        ]
       ],
       "shape": {
        "columns": 8,
        "rows": 4
       }
      },
      "text/html": [
       "<div>\n",
       "<style scoped>\n",
       "    .dataframe tbody tr th:only-of-type {\n",
       "        vertical-align: middle;\n",
       "    }\n",
       "\n",
       "    .dataframe tbody tr th {\n",
       "        vertical-align: top;\n",
       "    }\n",
       "\n",
       "    .dataframe thead th {\n",
       "        text-align: right;\n",
       "    }\n",
       "</style>\n",
       "<table border=\"1\" class=\"dataframe\">\n",
       "  <thead>\n",
       "    <tr style=\"text-align: right;\">\n",
       "      <th></th>\n",
       "      <th>id</th>\n",
       "      <th>name</th>\n",
       "      <th>full_name</th>\n",
       "      <th>motd</th>\n",
       "      <th>lat</th>\n",
       "      <th>lon</th>\n",
       "      <th>state</th>\n",
       "      <th>effective_radius</th>\n",
       "    </tr>\n",
       "  </thead>\n",
       "  <tbody>\n",
       "    <tr>\n",
       "      <th>31</th>\n",
       "      <td>115</td>\n",
       "      <td>youngstown</td>\n",
       "      <td>Youngstown, OH</td>\n",
       "      <td>Pinball Map is more popular than ever, and our...</td>\n",
       "      <td>41.097088</td>\n",
       "      <td>-80.646558</td>\n",
       "      <td>Ohio</td>\n",
       "      <td>10.0</td>\n",
       "    </tr>\n",
       "    <tr>\n",
       "      <th>39</th>\n",
       "      <td>95</td>\n",
       "      <td>cincinnati</td>\n",
       "      <td>Cincinnati</td>\n",
       "      <td>Pinball Map is more popular than ever, and our...</td>\n",
       "      <td>39.106006</td>\n",
       "      <td>-84.515924</td>\n",
       "      <td>Ohio</td>\n",
       "      <td>25.0</td>\n",
       "    </tr>\n",
       "    <tr>\n",
       "      <th>65</th>\n",
       "      <td>32</td>\n",
       "      <td>cleveland</td>\n",
       "      <td>Cleveland</td>\n",
       "      <td>Pinball Map is more popular than ever, and our...</td>\n",
       "      <td>41.49927</td>\n",
       "      <td>-81.69606</td>\n",
       "      <td>Ohio</td>\n",
       "      <td>40.0</td>\n",
       "    </tr>\n",
       "    <tr>\n",
       "      <th>67</th>\n",
       "      <td>25</td>\n",
       "      <td>columbus</td>\n",
       "      <td>Columbus</td>\n",
       "      <td>Pinball Map is more popular than ever, and our...</td>\n",
       "      <td>39.9632</td>\n",
       "      <td>-83.0008</td>\n",
       "      <td>Ohio</td>\n",
       "      <td>30.0</td>\n",
       "    </tr>\n",
       "  </tbody>\n",
       "</table>\n",
       "</div>"
      ],
      "text/plain": [
       "     id        name       full_name  \\\n",
       "31  115  youngstown  Youngstown, OH   \n",
       "39   95  cincinnati      Cincinnati   \n",
       "65   32   cleveland       Cleveland   \n",
       "67   25    columbus        Columbus   \n",
       "\n",
       "                                                 motd        lat         lon  \\\n",
       "31  Pinball Map is more popular than ever, and our...  41.097088  -80.646558   \n",
       "39  Pinball Map is more popular than ever, and our...  39.106006  -84.515924   \n",
       "65  Pinball Map is more popular than ever, and our...   41.49927   -81.69606   \n",
       "67  Pinball Map is more popular than ever, and our...    39.9632    -83.0008   \n",
       "\n",
       "   state  effective_radius  \n",
       "31  Ohio              10.0  \n",
       "39  Ohio              25.0  \n",
       "65  Ohio              40.0  \n",
       "67  Ohio              30.0  "
      ]
     },
     "execution_count": 43,
     "metadata": {},
     "output_type": "execute_result"
    }
   ],
   "source": [
    "pm_regions[pm_regions['state']=='Ohio']"
   ]
  },
  {
   "cell_type": "code",
   "execution_count": 44,
   "id": "ca20a7dc",
   "metadata": {},
   "outputs": [],
   "source": [
    "response = requests.get(f\"{url}region/cleveland/locations.json\")"
   ]
  },
  {
   "cell_type": "code",
   "execution_count": 45,
   "id": "3c264f17",
   "metadata": {},
   "outputs": [],
   "source": [
    "data = response.json()['locations']"
   ]
  },
  {
   "cell_type": "markdown",
   "id": "e6ed3f4f",
   "metadata": {},
   "source": [
    "print(f\"{url}region/cleveland/locations.json\")"
   ]
  },
  {
   "cell_type": "code",
   "execution_count": 46,
   "id": "12f123e5",
   "metadata": {},
   "outputs": [],
   "source": [
    "pm_cleveland = pd.DataFrame(data)"
   ]
  },
  {
   "cell_type": "code",
   "execution_count": 47,
   "id": "baf42aa9",
   "metadata": {},
   "outputs": [
    {
     "data": {
      "application/vnd.microsoft.datawrangler.viewer.v0+json": {
       "columns": [
        {
         "name": "index",
         "rawType": "object",
         "type": "string"
        },
        {
         "name": "0",
         "rawType": "object",
         "type": "unknown"
        }
       ],
       "ref": "ca5b1869-ddd9-46e0-bffc-8784ac8005fe",
       "rows": [
        [
         "id",
         "int64"
        ],
        [
         "name",
         "object"
        ],
        [
         "street",
         "object"
        ],
        [
         "city",
         "object"
        ],
        [
         "state",
         "object"
        ],
        [
         "zip",
         "object"
        ],
        [
         "phone",
         "object"
        ],
        [
         "lat",
         "object"
        ],
        [
         "lon",
         "object"
        ],
        [
         "website",
         "object"
        ],
        [
         "created_at",
         "object"
        ],
        [
         "updated_at",
         "object"
        ],
        [
         "zone_id",
         "object"
        ],
        [
         "region_id",
         "int64"
        ],
        [
         "location_type_id",
         "int64"
        ],
        [
         "description",
         "object"
        ],
        [
         "operator_id",
         "float64"
        ],
        [
         "date_last_updated",
         "object"
        ],
        [
         "last_updated_by_user_id",
         "float64"
        ],
        [
         "is_stern_army",
         "object"
        ],
        [
         "country",
         "object"
        ],
        [
         "ic_active",
         "object"
        ],
        [
         "machine_count",
         "int64"
        ],
        [
         "last_updated_by_username",
         "object"
        ],
        [
         "num_machines",
         "int64"
        ],
        [
         "location_machine_xrefs",
         "object"
        ]
       ],
       "shape": {
        "columns": 1,
        "rows": 26
       }
      },
      "text/plain": [
       "id                            int64\n",
       "name                         object\n",
       "street                       object\n",
       "city                         object\n",
       "state                        object\n",
       "zip                          object\n",
       "phone                        object\n",
       "lat                          object\n",
       "lon                          object\n",
       "website                      object\n",
       "created_at                   object\n",
       "updated_at                   object\n",
       "zone_id                      object\n",
       "region_id                     int64\n",
       "location_type_id              int64\n",
       "description                  object\n",
       "operator_id                 float64\n",
       "date_last_updated            object\n",
       "last_updated_by_user_id     float64\n",
       "is_stern_army                object\n",
       "country                      object\n",
       "ic_active                    object\n",
       "machine_count                 int64\n",
       "last_updated_by_username     object\n",
       "num_machines                  int64\n",
       "location_machine_xrefs       object\n",
       "dtype: object"
      ]
     },
     "execution_count": 47,
     "metadata": {},
     "output_type": "execute_result"
    }
   ],
   "source": [
    "pm_cleveland.dtypes"
   ]
  },
  {
   "cell_type": "code",
   "execution_count": 48,
   "id": "374b1d49",
   "metadata": {},
   "outputs": [],
   "source": [
    "pm_cleveland['created_at'] =pd.to_datetime(pm_cleveland['created_at'], utc=True)"
   ]
  },
  {
   "cell_type": "code",
   "execution_count": 49,
   "id": "adfb0cc2",
   "metadata": {},
   "outputs": [],
   "source": [
    "pm_cleveland['year'] = pm_cleveland['created_at'].dt.year"
   ]
  },
  {
   "cell_type": "code",
   "execution_count": 50,
   "id": "c408aea4",
   "metadata": {},
   "outputs": [
    {
     "data": {
      "application/vnd.microsoft.datawrangler.viewer.v0+json": {
       "columns": [
        {
         "name": "index",
         "rawType": "int64",
         "type": "integer"
        },
        {
         "name": "year",
         "rawType": "int32",
         "type": "integer"
        },
        {
         "name": "count",
         "rawType": "int64",
         "type": "integer"
        }
       ],
       "ref": "5f3042dd-7d5d-42e8-bd4c-e019b0726f0f",
       "rows": [
        [
         "0",
         "2023",
         "25"
        ],
        [
         "1",
         "2024",
         "22"
        ],
        [
         "2",
         "2025",
         "16"
        ],
        [
         "3",
         "2022",
         "12"
        ],
        [
         "4",
         "2018",
         "9"
        ],
        [
         "5",
         "2013",
         "9"
        ],
        [
         "6",
         "2021",
         "9"
        ],
        [
         "7",
         "2015",
         "6"
        ],
        [
         "8",
         "2019",
         "3"
        ],
        [
         "9",
         "2017",
         "3"
        ],
        [
         "10",
         "2020",
         "1"
        ],
        [
         "11",
         "2016",
         "1"
        ]
       ],
       "shape": {
        "columns": 2,
        "rows": 12
       }
      },
      "text/html": [
       "<div>\n",
       "<style scoped>\n",
       "    .dataframe tbody tr th:only-of-type {\n",
       "        vertical-align: middle;\n",
       "    }\n",
       "\n",
       "    .dataframe tbody tr th {\n",
       "        vertical-align: top;\n",
       "    }\n",
       "\n",
       "    .dataframe thead th {\n",
       "        text-align: right;\n",
       "    }\n",
       "</style>\n",
       "<table border=\"1\" class=\"dataframe\">\n",
       "  <thead>\n",
       "    <tr style=\"text-align: right;\">\n",
       "      <th></th>\n",
       "      <th>year</th>\n",
       "      <th>count</th>\n",
       "    </tr>\n",
       "  </thead>\n",
       "  <tbody>\n",
       "    <tr>\n",
       "      <th>0</th>\n",
       "      <td>2023</td>\n",
       "      <td>25</td>\n",
       "    </tr>\n",
       "    <tr>\n",
       "      <th>1</th>\n",
       "      <td>2024</td>\n",
       "      <td>22</td>\n",
       "    </tr>\n",
       "    <tr>\n",
       "      <th>2</th>\n",
       "      <td>2025</td>\n",
       "      <td>16</td>\n",
       "    </tr>\n",
       "    <tr>\n",
       "      <th>3</th>\n",
       "      <td>2022</td>\n",
       "      <td>12</td>\n",
       "    </tr>\n",
       "    <tr>\n",
       "      <th>4</th>\n",
       "      <td>2018</td>\n",
       "      <td>9</td>\n",
       "    </tr>\n",
       "    <tr>\n",
       "      <th>5</th>\n",
       "      <td>2013</td>\n",
       "      <td>9</td>\n",
       "    </tr>\n",
       "    <tr>\n",
       "      <th>6</th>\n",
       "      <td>2021</td>\n",
       "      <td>9</td>\n",
       "    </tr>\n",
       "    <tr>\n",
       "      <th>7</th>\n",
       "      <td>2015</td>\n",
       "      <td>6</td>\n",
       "    </tr>\n",
       "    <tr>\n",
       "      <th>8</th>\n",
       "      <td>2019</td>\n",
       "      <td>3</td>\n",
       "    </tr>\n",
       "    <tr>\n",
       "      <th>9</th>\n",
       "      <td>2017</td>\n",
       "      <td>3</td>\n",
       "    </tr>\n",
       "    <tr>\n",
       "      <th>10</th>\n",
       "      <td>2020</td>\n",
       "      <td>1</td>\n",
       "    </tr>\n",
       "    <tr>\n",
       "      <th>11</th>\n",
       "      <td>2016</td>\n",
       "      <td>1</td>\n",
       "    </tr>\n",
       "  </tbody>\n",
       "</table>\n",
       "</div>"
      ],
      "text/plain": [
       "    year  count\n",
       "0   2023     25\n",
       "1   2024     22\n",
       "2   2025     16\n",
       "3   2022     12\n",
       "4   2018      9\n",
       "5   2013      9\n",
       "6   2021      9\n",
       "7   2015      6\n",
       "8   2019      3\n",
       "9   2017      3\n",
       "10  2020      1\n",
       "11  2016      1"
      ]
     },
     "execution_count": 50,
     "metadata": {},
     "output_type": "execute_result"
    }
   ],
   "source": [
    "pm_cleveland['year'].value_counts().reset_index()"
   ]
  },
  {
   "cell_type": "code",
   "execution_count": null,
   "id": "d0570044",
   "metadata": {},
   "outputs": [],
   "source": []
  },
  {
   "cell_type": "code",
   "execution_count": 52,
   "id": "f05933c5",
   "metadata": {},
   "outputs": [
    {
     "data": {
      "application/vnd.plotly.v1+json": {
       "config": {
        "plotlyServerURL": "https://plot.ly"
       },
       "data": [
        {
         "hovertemplate": "year=%{x}<br>count=%{y}<extra></extra>",
         "legendgroup": "",
         "line": {
          "color": "#636efa",
          "dash": "solid"
         },
         "marker": {
          "symbol": "circle"
         },
         "mode": "lines",
         "name": "",
         "orientation": "v",
         "showlegend": false,
         "type": "scatter",
         "x": {
          "bdata": "3QcAAN8HAADgBwAA4QcAAOIHAADjBwAA5AcAAOUHAADmBwAA5wcAAOgHAADpBwAA",
          "dtype": "i4"
         },
         "xaxis": "x",
         "y": {
          "bdata": "CQYBAwkDAQkMGRYQ",
          "dtype": "i1"
         },
         "yaxis": "y"
        }
       ],
       "layout": {
        "legend": {
         "tracegroupgap": 0
        },
        "margin": {
         "t": 60
        },
        "template": {
         "data": {
          "bar": [
           {
            "error_x": {
             "color": "#2a3f5f"
            },
            "error_y": {
             "color": "#2a3f5f"
            },
            "marker": {
             "line": {
              "color": "white",
              "width": 0.5
             },
             "pattern": {
              "fillmode": "overlay",
              "size": 10,
              "solidity": 0.2
             }
            },
            "type": "bar"
           }
          ],
          "barpolar": [
           {
            "marker": {
             "line": {
              "color": "white",
              "width": 0.5
             },
             "pattern": {
              "fillmode": "overlay",
              "size": 10,
              "solidity": 0.2
             }
            },
            "type": "barpolar"
           }
          ],
          "carpet": [
           {
            "aaxis": {
             "endlinecolor": "#2a3f5f",
             "gridcolor": "#C8D4E3",
             "linecolor": "#C8D4E3",
             "minorgridcolor": "#C8D4E3",
             "startlinecolor": "#2a3f5f"
            },
            "baxis": {
             "endlinecolor": "#2a3f5f",
             "gridcolor": "#C8D4E3",
             "linecolor": "#C8D4E3",
             "minorgridcolor": "#C8D4E3",
             "startlinecolor": "#2a3f5f"
            },
            "type": "carpet"
           }
          ],
          "choropleth": [
           {
            "colorbar": {
             "outlinewidth": 0,
             "ticks": ""
            },
            "type": "choropleth"
           }
          ],
          "contour": [
           {
            "colorbar": {
             "outlinewidth": 0,
             "ticks": ""
            },
            "colorscale": [
             [
              0,
              "#0d0887"
             ],
             [
              0.1111111111111111,
              "#46039f"
             ],
             [
              0.2222222222222222,
              "#7201a8"
             ],
             [
              0.3333333333333333,
              "#9c179e"
             ],
             [
              0.4444444444444444,
              "#bd3786"
             ],
             [
              0.5555555555555556,
              "#d8576b"
             ],
             [
              0.6666666666666666,
              "#ed7953"
             ],
             [
              0.7777777777777778,
              "#fb9f3a"
             ],
             [
              0.8888888888888888,
              "#fdca26"
             ],
             [
              1,
              "#f0f921"
             ]
            ],
            "type": "contour"
           }
          ],
          "contourcarpet": [
           {
            "colorbar": {
             "outlinewidth": 0,
             "ticks": ""
            },
            "type": "contourcarpet"
           }
          ],
          "heatmap": [
           {
            "colorbar": {
             "outlinewidth": 0,
             "ticks": ""
            },
            "colorscale": [
             [
              0,
              "#0d0887"
             ],
             [
              0.1111111111111111,
              "#46039f"
             ],
             [
              0.2222222222222222,
              "#7201a8"
             ],
             [
              0.3333333333333333,
              "#9c179e"
             ],
             [
              0.4444444444444444,
              "#bd3786"
             ],
             [
              0.5555555555555556,
              "#d8576b"
             ],
             [
              0.6666666666666666,
              "#ed7953"
             ],
             [
              0.7777777777777778,
              "#fb9f3a"
             ],
             [
              0.8888888888888888,
              "#fdca26"
             ],
             [
              1,
              "#f0f921"
             ]
            ],
            "type": "heatmap"
           }
          ],
          "histogram": [
           {
            "marker": {
             "pattern": {
              "fillmode": "overlay",
              "size": 10,
              "solidity": 0.2
             }
            },
            "type": "histogram"
           }
          ],
          "histogram2d": [
           {
            "colorbar": {
             "outlinewidth": 0,
             "ticks": ""
            },
            "colorscale": [
             [
              0,
              "#0d0887"
             ],
             [
              0.1111111111111111,
              "#46039f"
             ],
             [
              0.2222222222222222,
              "#7201a8"
             ],
             [
              0.3333333333333333,
              "#9c179e"
             ],
             [
              0.4444444444444444,
              "#bd3786"
             ],
             [
              0.5555555555555556,
              "#d8576b"
             ],
             [
              0.6666666666666666,
              "#ed7953"
             ],
             [
              0.7777777777777778,
              "#fb9f3a"
             ],
             [
              0.8888888888888888,
              "#fdca26"
             ],
             [
              1,
              "#f0f921"
             ]
            ],
            "type": "histogram2d"
           }
          ],
          "histogram2dcontour": [
           {
            "colorbar": {
             "outlinewidth": 0,
             "ticks": ""
            },
            "colorscale": [
             [
              0,
              "#0d0887"
             ],
             [
              0.1111111111111111,
              "#46039f"
             ],
             [
              0.2222222222222222,
              "#7201a8"
             ],
             [
              0.3333333333333333,
              "#9c179e"
             ],
             [
              0.4444444444444444,
              "#bd3786"
             ],
             [
              0.5555555555555556,
              "#d8576b"
             ],
             [
              0.6666666666666666,
              "#ed7953"
             ],
             [
              0.7777777777777778,
              "#fb9f3a"
             ],
             [
              0.8888888888888888,
              "#fdca26"
             ],
             [
              1,
              "#f0f921"
             ]
            ],
            "type": "histogram2dcontour"
           }
          ],
          "mesh3d": [
           {
            "colorbar": {
             "outlinewidth": 0,
             "ticks": ""
            },
            "type": "mesh3d"
           }
          ],
          "parcoords": [
           {
            "line": {
             "colorbar": {
              "outlinewidth": 0,
              "ticks": ""
             }
            },
            "type": "parcoords"
           }
          ],
          "pie": [
           {
            "automargin": true,
            "type": "pie"
           }
          ],
          "scatter": [
           {
            "fillpattern": {
             "fillmode": "overlay",
             "size": 10,
             "solidity": 0.2
            },
            "type": "scatter"
           }
          ],
          "scatter3d": [
           {
            "line": {
             "colorbar": {
              "outlinewidth": 0,
              "ticks": ""
             }
            },
            "marker": {
             "colorbar": {
              "outlinewidth": 0,
              "ticks": ""
             }
            },
            "type": "scatter3d"
           }
          ],
          "scattercarpet": [
           {
            "marker": {
             "colorbar": {
              "outlinewidth": 0,
              "ticks": ""
             }
            },
            "type": "scattercarpet"
           }
          ],
          "scattergeo": [
           {
            "marker": {
             "colorbar": {
              "outlinewidth": 0,
              "ticks": ""
             }
            },
            "type": "scattergeo"
           }
          ],
          "scattergl": [
           {
            "marker": {
             "colorbar": {
              "outlinewidth": 0,
              "ticks": ""
             }
            },
            "type": "scattergl"
           }
          ],
          "scattermap": [
           {
            "marker": {
             "colorbar": {
              "outlinewidth": 0,
              "ticks": ""
             }
            },
            "type": "scattermap"
           }
          ],
          "scattermapbox": [
           {
            "marker": {
             "colorbar": {
              "outlinewidth": 0,
              "ticks": ""
             }
            },
            "type": "scattermapbox"
           }
          ],
          "scatterpolar": [
           {
            "marker": {
             "colorbar": {
              "outlinewidth": 0,
              "ticks": ""
             }
            },
            "type": "scatterpolar"
           }
          ],
          "scatterpolargl": [
           {
            "marker": {
             "colorbar": {
              "outlinewidth": 0,
              "ticks": ""
             }
            },
            "type": "scatterpolargl"
           }
          ],
          "scatterternary": [
           {
            "marker": {
             "colorbar": {
              "outlinewidth": 0,
              "ticks": ""
             }
            },
            "type": "scatterternary"
           }
          ],
          "surface": [
           {
            "colorbar": {
             "outlinewidth": 0,
             "ticks": ""
            },
            "colorscale": [
             [
              0,
              "#0d0887"
             ],
             [
              0.1111111111111111,
              "#46039f"
             ],
             [
              0.2222222222222222,
              "#7201a8"
             ],
             [
              0.3333333333333333,
              "#9c179e"
             ],
             [
              0.4444444444444444,
              "#bd3786"
             ],
             [
              0.5555555555555556,
              "#d8576b"
             ],
             [
              0.6666666666666666,
              "#ed7953"
             ],
             [
              0.7777777777777778,
              "#fb9f3a"
             ],
             [
              0.8888888888888888,
              "#fdca26"
             ],
             [
              1,
              "#f0f921"
             ]
            ],
            "type": "surface"
           }
          ],
          "table": [
           {
            "cells": {
             "fill": {
              "color": "#EBF0F8"
             },
             "line": {
              "color": "white"
             }
            },
            "header": {
             "fill": {
              "color": "#C8D4E3"
             },
             "line": {
              "color": "white"
             }
            },
            "type": "table"
           }
          ]
         },
         "layout": {
          "annotationdefaults": {
           "arrowcolor": "#2a3f5f",
           "arrowhead": 0,
           "arrowwidth": 1
          },
          "autotypenumbers": "strict",
          "coloraxis": {
           "colorbar": {
            "outlinewidth": 0,
            "ticks": ""
           }
          },
          "colorscale": {
           "diverging": [
            [
             0,
             "#8e0152"
            ],
            [
             0.1,
             "#c51b7d"
            ],
            [
             0.2,
             "#de77ae"
            ],
            [
             0.3,
             "#f1b6da"
            ],
            [
             0.4,
             "#fde0ef"
            ],
            [
             0.5,
             "#f7f7f7"
            ],
            [
             0.6,
             "#e6f5d0"
            ],
            [
             0.7,
             "#b8e186"
            ],
            [
             0.8,
             "#7fbc41"
            ],
            [
             0.9,
             "#4d9221"
            ],
            [
             1,
             "#276419"
            ]
           ],
           "sequential": [
            [
             0,
             "#0d0887"
            ],
            [
             0.1111111111111111,
             "#46039f"
            ],
            [
             0.2222222222222222,
             "#7201a8"
            ],
            [
             0.3333333333333333,
             "#9c179e"
            ],
            [
             0.4444444444444444,
             "#bd3786"
            ],
            [
             0.5555555555555556,
             "#d8576b"
            ],
            [
             0.6666666666666666,
             "#ed7953"
            ],
            [
             0.7777777777777778,
             "#fb9f3a"
            ],
            [
             0.8888888888888888,
             "#fdca26"
            ],
            [
             1,
             "#f0f921"
            ]
           ],
           "sequentialminus": [
            [
             0,
             "#0d0887"
            ],
            [
             0.1111111111111111,
             "#46039f"
            ],
            [
             0.2222222222222222,
             "#7201a8"
            ],
            [
             0.3333333333333333,
             "#9c179e"
            ],
            [
             0.4444444444444444,
             "#bd3786"
            ],
            [
             0.5555555555555556,
             "#d8576b"
            ],
            [
             0.6666666666666666,
             "#ed7953"
            ],
            [
             0.7777777777777778,
             "#fb9f3a"
            ],
            [
             0.8888888888888888,
             "#fdca26"
            ],
            [
             1,
             "#f0f921"
            ]
           ]
          },
          "colorway": [
           "#636efa",
           "#EF553B",
           "#00cc96",
           "#ab63fa",
           "#FFA15A",
           "#19d3f3",
           "#FF6692",
           "#B6E880",
           "#FF97FF",
           "#FECB52"
          ],
          "font": {
           "color": "#2a3f5f"
          },
          "geo": {
           "bgcolor": "white",
           "lakecolor": "white",
           "landcolor": "white",
           "showlakes": true,
           "showland": true,
           "subunitcolor": "#C8D4E3"
          },
          "hoverlabel": {
           "align": "left"
          },
          "hovermode": "closest",
          "mapbox": {
           "style": "light"
          },
          "paper_bgcolor": "white",
          "plot_bgcolor": "white",
          "polar": {
           "angularaxis": {
            "gridcolor": "#EBF0F8",
            "linecolor": "#EBF0F8",
            "ticks": ""
           },
           "bgcolor": "white",
           "radialaxis": {
            "gridcolor": "#EBF0F8",
            "linecolor": "#EBF0F8",
            "ticks": ""
           }
          },
          "scene": {
           "xaxis": {
            "backgroundcolor": "white",
            "gridcolor": "#DFE8F3",
            "gridwidth": 2,
            "linecolor": "#EBF0F8",
            "showbackground": true,
            "ticks": "",
            "zerolinecolor": "#EBF0F8"
           },
           "yaxis": {
            "backgroundcolor": "white",
            "gridcolor": "#DFE8F3",
            "gridwidth": 2,
            "linecolor": "#EBF0F8",
            "showbackground": true,
            "ticks": "",
            "zerolinecolor": "#EBF0F8"
           },
           "zaxis": {
            "backgroundcolor": "white",
            "gridcolor": "#DFE8F3",
            "gridwidth": 2,
            "linecolor": "#EBF0F8",
            "showbackground": true,
            "ticks": "",
            "zerolinecolor": "#EBF0F8"
           }
          },
          "shapedefaults": {
           "line": {
            "color": "#2a3f5f"
           }
          },
          "ternary": {
           "aaxis": {
            "gridcolor": "#DFE8F3",
            "linecolor": "#A2B1C6",
            "ticks": ""
           },
           "baxis": {
            "gridcolor": "#DFE8F3",
            "linecolor": "#A2B1C6",
            "ticks": ""
           },
           "bgcolor": "white",
           "caxis": {
            "gridcolor": "#DFE8F3",
            "linecolor": "#A2B1C6",
            "ticks": ""
           }
          },
          "title": {
           "x": 0.05
          },
          "xaxis": {
           "automargin": true,
           "gridcolor": "#EBF0F8",
           "linecolor": "#EBF0F8",
           "ticks": "",
           "title": {
            "standoff": 15
           },
           "zerolinecolor": "#EBF0F8",
           "zerolinewidth": 2
          },
          "yaxis": {
           "automargin": true,
           "gridcolor": "#EBF0F8",
           "linecolor": "#EBF0F8",
           "ticks": "",
           "title": {
            "standoff": 15
           },
           "zerolinecolor": "#EBF0F8",
           "zerolinewidth": 2
          }
         }
        },
        "xaxis": {
         "anchor": "y",
         "domain": [
          0,
          1
         ],
         "title": {
          "text": "year"
         }
        },
        "yaxis": {
         "anchor": "x",
         "domain": [
          0,
          1
         ],
         "title": {
          "text": "count"
         }
        }
       }
      }
     },
     "metadata": {},
     "output_type": "display_data"
    }
   ],
   "source": [
    "fig = px.line(pm_cleveland['year']\n",
    "              .value_counts()\n",
    "              .reset_index()\n",
    "              .sort_values(by='year'),\n",
    "              x='year',y='count'\n",
    "              )\n",
    "\n",
    "fig.show()\n",
    "fig.write_image('images/locations.svg')"
   ]
  },
  {
   "cell_type": "code",
   "execution_count": 53,
   "id": "9440b661",
   "metadata": {},
   "outputs": [
    {
     "data": {
      "application/vnd.microsoft.datawrangler.viewer.v0+json": {
       "columns": [
        {
         "name": "index",
         "rawType": "int64",
         "type": "integer"
        },
        {
         "name": "year",
         "rawType": "int32",
         "type": "integer"
        },
        {
         "name": "count",
         "rawType": "int64",
         "type": "integer"
        }
       ],
       "ref": "71d61d47-97a1-4a3a-b748-61b2133dfb12",
       "rows": [
        [
         "5",
         "2013",
         "9"
        ],
        [
         "7",
         "2015",
         "6"
        ],
        [
         "11",
         "2016",
         "1"
        ],
        [
         "9",
         "2017",
         "3"
        ],
        [
         "4",
         "2018",
         "9"
        ],
        [
         "8",
         "2019",
         "3"
        ],
        [
         "10",
         "2020",
         "1"
        ],
        [
         "6",
         "2021",
         "9"
        ],
        [
         "3",
         "2022",
         "12"
        ],
        [
         "0",
         "2023",
         "25"
        ],
        [
         "1",
         "2024",
         "22"
        ],
        [
         "2",
         "2025",
         "16"
        ]
       ],
       "shape": {
        "columns": 2,
        "rows": 12
       }
      },
      "text/html": [
       "<div>\n",
       "<style scoped>\n",
       "    .dataframe tbody tr th:only-of-type {\n",
       "        vertical-align: middle;\n",
       "    }\n",
       "\n",
       "    .dataframe tbody tr th {\n",
       "        vertical-align: top;\n",
       "    }\n",
       "\n",
       "    .dataframe thead th {\n",
       "        text-align: right;\n",
       "    }\n",
       "</style>\n",
       "<table border=\"1\" class=\"dataframe\">\n",
       "  <thead>\n",
       "    <tr style=\"text-align: right;\">\n",
       "      <th></th>\n",
       "      <th>year</th>\n",
       "      <th>count</th>\n",
       "    </tr>\n",
       "  </thead>\n",
       "  <tbody>\n",
       "    <tr>\n",
       "      <th>5</th>\n",
       "      <td>2013</td>\n",
       "      <td>9</td>\n",
       "    </tr>\n",
       "    <tr>\n",
       "      <th>7</th>\n",
       "      <td>2015</td>\n",
       "      <td>6</td>\n",
       "    </tr>\n",
       "    <tr>\n",
       "      <th>11</th>\n",
       "      <td>2016</td>\n",
       "      <td>1</td>\n",
       "    </tr>\n",
       "    <tr>\n",
       "      <th>9</th>\n",
       "      <td>2017</td>\n",
       "      <td>3</td>\n",
       "    </tr>\n",
       "    <tr>\n",
       "      <th>4</th>\n",
       "      <td>2018</td>\n",
       "      <td>9</td>\n",
       "    </tr>\n",
       "    <tr>\n",
       "      <th>8</th>\n",
       "      <td>2019</td>\n",
       "      <td>3</td>\n",
       "    </tr>\n",
       "    <tr>\n",
       "      <th>10</th>\n",
       "      <td>2020</td>\n",
       "      <td>1</td>\n",
       "    </tr>\n",
       "    <tr>\n",
       "      <th>6</th>\n",
       "      <td>2021</td>\n",
       "      <td>9</td>\n",
       "    </tr>\n",
       "    <tr>\n",
       "      <th>3</th>\n",
       "      <td>2022</td>\n",
       "      <td>12</td>\n",
       "    </tr>\n",
       "    <tr>\n",
       "      <th>0</th>\n",
       "      <td>2023</td>\n",
       "      <td>25</td>\n",
       "    </tr>\n",
       "    <tr>\n",
       "      <th>1</th>\n",
       "      <td>2024</td>\n",
       "      <td>22</td>\n",
       "    </tr>\n",
       "    <tr>\n",
       "      <th>2</th>\n",
       "      <td>2025</td>\n",
       "      <td>16</td>\n",
       "    </tr>\n",
       "  </tbody>\n",
       "</table>\n",
       "</div>"
      ],
      "text/plain": [
       "    year  count\n",
       "5   2013      9\n",
       "7   2015      6\n",
       "11  2016      1\n",
       "9   2017      3\n",
       "4   2018      9\n",
       "8   2019      3\n",
       "10  2020      1\n",
       "6   2021      9\n",
       "3   2022     12\n",
       "0   2023     25\n",
       "1   2024     22\n",
       "2   2025     16"
      ]
     },
     "execution_count": 53,
     "metadata": {},
     "output_type": "execute_result"
    }
   ],
   "source": [
    "pm_cleveland['year'].value_counts().reset_index().sort_values(by='year')"
   ]
  },
  {
   "cell_type": "code",
   "execution_count": 54,
   "id": "a0288d51",
   "metadata": {},
   "outputs": [],
   "source": [
    "response = requests.get(f\"{url}region/cleveland/location_machine_xrefs.json\")\n",
    "data =  response.json()['location_machine_xrefs']"
   ]
  },
  {
   "cell_type": "code",
   "execution_count": 56,
   "id": "a337ab4e",
   "metadata": {},
   "outputs": [
    {
     "data": {
      "application/vnd.microsoft.datawrangler.viewer.v0+json": {
       "columns": [
        {
         "name": "index",
         "rawType": "int64",
         "type": "integer"
        },
        {
         "name": "id",
         "rawType": "int64",
         "type": "integer"
        },
        {
         "name": "created_at",
         "rawType": "object",
         "type": "string"
        },
        {
         "name": "updated_at",
         "rawType": "object",
         "type": "string"
        },
        {
         "name": "location_id",
         "rawType": "int64",
         "type": "integer"
        },
        {
         "name": "machine_id",
         "rawType": "int64",
         "type": "integer"
        },
        {
         "name": "user_id",
         "rawType": "float64",
         "type": "float"
        },
        {
         "name": "machine_score_xrefs_count",
         "rawType": "float64",
         "type": "float"
        },
        {
         "name": "ic_enabled",
         "rawType": "object",
         "type": "unknown"
        },
        {
         "name": "location",
         "rawType": "object",
         "type": "unknown"
        },
        {
         "name": "machine",
         "rawType": "object",
         "type": "unknown"
        },
        {
         "name": "machine_conditions",
         "rawType": "object",
         "type": "unknown"
        }
       ],
       "ref": "09fac41e-1a6f-468a-96f6-e4a59c60930b",
       "rows": [
        [
         "0",
         "187125",
         "2025-07-18T20:20:25.301-07:00",
         "2025-07-18T20:20:25.301-07:00",
         "26879",
         "692",
         "21056.0",
         null,
         null,
         "{'id': 26879, 'name': \"Lumpy's Shake Shop\", 'street': '6372 Pearl Rd', 'city': 'Parma Heights', 'state': 'OH', 'zip': '44130', 'phone': '(216) 739-9200', 'lat': '41.3878597', 'lon': '-81.7663504', 'website': 'http://lumpysshakes.com/', 'created_at': '2025-07-18T20:20:25.285-07:00', 'updated_at': '2025-07-18T20:20:25.305-07:00', 'zone_id': None, 'region_id': 32, 'location_type_id': 51, 'description': 'mon-fri 4-10\\nsat-sun 1-10', 'operator_id': None, 'date_last_updated': '2025-07-18', 'last_updated_by_user_id': 21056, 'is_stern_army': None, 'country': 'US', 'ic_active': None, 'machine_count': 1}",
         "{'id': 692, 'name': \"Ripley's Believe It or Not!\", 'is_active': False, 'created_at': '2024-07-10T16:16:08.109-07:00', 'updated_at': '2023-01-17T10:44:26.271-08:00', 'ipdb_link': 'https://www.ipdb.org/machine.cgi?id=4917', 'year': 2003, 'manufacturer': 'Stern', 'machine_group_id': None, 'ipdb_id': 4917, 'opdb_id': 'GRWyB-MLz6Z', 'opdb_img': 'https://img.opdb.org/bf9737fc-f4ca-4ffa-bbf3-42614fd2b617-medium.jpg', 'opdb_img_height': 473, 'opdb_img_width': 640, 'machine_type': 'ss', 'machine_display': 'dmd', 'ic_eligible': None, 'kineticist_url': 'https://www.kineticist.com/pinball-machines/ripleys-believe-it-or-not-2004'}",
         "[]"
        ],
        [
         "1",
         "187026",
         "2025-07-17T15:55:59.758-07:00",
         "2025-07-17T16:06:47.656-07:00",
         "24037",
         "2315",
         "36956.0",
         "3.0",
         null,
         "{'id': 24037, 'name': 'Pinball Planet', 'street': '6277 Pearl Rd', 'city': 'Cleveland', 'state': 'OH', 'zip': '44130', 'phone': '216-282-4655', 'lat': '41.3903102', 'lon': '-81.7610101', 'website': 'http://pinballplanetohio.com', 'created_at': '2024-08-02T00:22:58.631-07:00', 'updated_at': '2025-07-17T15:55:59.765-07:00', 'zone_id': None, 'region_id': 32, 'location_type_id': 1, 'description': 'Sun: 12:00-8:00\\r\\nMon: Closed\\r\\nTues: 4:00-11:00\\r\\nWed: Closed\\r\\nThurs: 4:00-11:00\\r\\nFri: 2:00-12:00\\r\\nSat: 12:00-6:00 & 8:00-12:00\\r\\n\\r\\nNice owners.\\r\\nMachines kept in great condition.\\r\\nNot a whole lot of rotation of games, but selection is very good.', 'operator_id': None, 'date_last_updated': '2025-07-17', 'last_updated_by_user_id': 36956, 'is_stern_army': None, 'country': 'US', 'ic_active': True, 'machine_count': 37}",
         "{'id': 2315, 'name': 'Hot Shot', 'is_active': None, 'created_at': '2015-04-03T09:03:21.102-07:00', 'updated_at': '2023-01-17T10:44:25.118-08:00', 'ipdb_link': 'https://www.ipdb.org/machine.cgi?id=1247', 'year': 1973, 'manufacturer': 'Gottlieb', 'machine_group_id': None, 'ipdb_id': 1247, 'opdb_id': 'G5n1Q-MLvdY', 'opdb_img': 'https://img.opdb.org/8805607a-2944-4003-a1d0-837d6dbc6257-medium.jpg', 'opdb_img_height': 612, 'opdb_img_width': 612, 'machine_type': 'em', 'machine_display': 'reels', 'ic_eligible': None, 'kineticist_url': 'https://www.kineticist.com/pinball-machines/big-shot--hot-shot--pro-pool-1972'}",
         "[]"
        ],
        [
         "2",
         "186971",
         "2025-07-16T15:28:21.558-07:00",
         "2025-07-16T15:28:21.558-07:00",
         "26105",
         "3804",
         "3403.0",
         null,
         null,
         "{'id': 26105, 'name': 'The Arcade on Detroit', 'street': '14810 Detroit Ave', 'city': 'Lakewood', 'state': 'OH', 'zip': '44107', 'phone': None, 'lat': '41.4852546', 'lon': '-81.8000137', 'website': None, 'created_at': '2025-04-18T09:33:30.815-07:00', 'updated_at': '2025-07-16T15:28:11.370-07:00', 'zone_id': None, 'region_id': 32, 'location_type_id': 3, 'description': 'Open to the public 4-18-25. Barcade with a mix of modern and classic arcade games. Everything is operated with quarters, changer and ATM available.', 'operator_id': None, 'date_last_updated': '2025-07-16', 'last_updated_by_user_id': 3403, 'is_stern_army': None, 'country': 'US', 'ic_active': True, 'machine_count': 13}",
         "{'id': 3804, 'name': 'Looney Tunes (CE)', 'is_active': None, 'created_at': '2024-01-05T18:42:46.574-08:00', 'updated_at': '2024-10-19T20:40:36.498-07:00', 'ipdb_link': None, 'year': 2024, 'manufacturer': 'Spooky', 'machine_group_id': 107, 'ipdb_id': None, 'opdb_id': 'GJ2K0-M85re-A1qdn', 'opdb_img': 'https://img.opdb.org/2d1bc240-97a2-4c45-a99e-5365d48bc37a-medium.jpg', 'opdb_img_height': 402, 'opdb_img_width': 640, 'machine_type': 'ss', 'machine_display': 'lcd', 'ic_eligible': None, 'kineticist_url': 'https://www.kineticist.com/pinball-machines/looney-tunes-2023'}",
         "[]"
        ],
        [
         "3",
         "186917",
         "2025-07-15T17:41:15.505-07:00",
         "2025-07-15T17:41:15.963-07:00",
         "26562",
         "3846",
         "13862.0",
         null,
         "True",
         "{'id': 26562, 'name': 'Game On Arcade', 'street': '527 W Tuscarawas Ave', 'city': 'Barberton', 'state': 'OH', 'zip': '44203', 'phone': None, 'lat': '41.0130905', 'lon': '-81.609075', 'website': None, 'created_at': '2025-06-11T16:49:11.494-07:00', 'updated_at': '2025-07-15T17:40:53.219-07:00', 'zone_id': None, 'region_id': 32, 'location_type_id': 1, 'description': '35+ New/Excellent condition Pinball and Arcade Games. All Stern games are on insider connect with digital scoreboard. Many LE”s and Premium versions from all manufacturers.', 'operator_id': None, 'date_last_updated': '2025-07-15', 'last_updated_by_user_id': 13862, 'is_stern_army': None, 'country': 'US', 'ic_active': True, 'machine_count': 16}",
         "{'id': 3846, 'name': 'John Wick (Premium)', 'is_active': None, 'created_at': '2024-05-06T11:46:57.060-07:00', 'updated_at': '2024-05-18T07:24:26.068-07:00', 'ipdb_link': None, 'year': 2024, 'manufacturer': 'Stern', 'machine_group_id': 115, 'ipdb_id': None, 'opdb_id': 'GQK1P-Ml95Z-AOY43', 'opdb_img': 'https://img.opdb.org/5f6a2daa-c083-45cd-8aa6-ef646e0208f8-medium.jpg', 'opdb_img_height': 400, 'opdb_img_width': 640, 'machine_type': 'ss', 'machine_display': 'lcd', 'ic_eligible': True, 'kineticist_url': 'https://www.kineticist.com/pinball-machines/john-wick-2024'}",
         "[]"
        ],
        [
         "4",
         "186787",
         "2025-07-14T16:05:37.984-07:00",
         "2025-07-14T16:10:10.552-07:00",
         "8973",
         "1470",
         "36956.0",
         "1.0",
         null,
         "{'id': 8973, 'name': 'Quarter Up Bar Arcade', 'street': '1446 North Portage Path', 'city': 'Akron', 'state': 'OH', 'zip': '44313', 'phone': '330-752-4080', 'lat': '41.1337088', 'lon': '-81.5483903', 'website': 'https://www.facebook.com/QuarterUpBar', 'created_at': '2017-09-21T23:34:54.621-07:00', 'updated_at': '2025-07-14T16:05:37.990-07:00', 'zone_id': None, 'region_id': 32, 'location_type_id': 3, 'description': 'Fun Bar with typical bar food menu.  Modern Games $1, older games 50 cents.  Both sterns are insider connected.  Good drink prices. Change machine.\\n\\nPinball machines kept in very good working order. Minor issues, but flippers all work and with power.\\nNice selection. Rotated somewhat often.\\nMany premium Stern games (not just Pro like so many places)\\nStaff very friendly and stayed open later than posted closing time “because people were still playing games.”', 'operator_id': None, 'date_last_updated': '2025-07-14', 'last_updated_by_user_id': 36956, 'is_stern_army': None, 'country': 'US', 'ic_active': True, 'machine_count': 24}",
         "{'id': 1470, 'name': 'The Avengers (LE)', 'is_active': False, 'created_at': '2013-01-28T09:43:42.493-08:00', 'updated_at': '2023-09-14T11:44:12.597-07:00', 'ipdb_link': 'https://www.ipdb.org/machine.cgi?id=5940', 'year': 2012, 'manufacturer': 'Stern', 'machine_group_id': 2, 'ipdb_id': 5940, 'opdb_id': 'GRzNR-MyNq8', 'opdb_img': 'https://img.opdb.org/5e226b24-3e11-485e-baff-120e300fbe8f-medium.jpg', 'opdb_img_height': 451, 'opdb_img_width': 640, 'machine_type': 'ss', 'machine_display': 'dmd', 'ic_eligible': None, 'kineticist_url': 'https://www.kineticist.com/pinball-machines/the-avengers-2012'}",
         "[]"
        ]
       ],
       "shape": {
        "columns": 11,
        "rows": 5
       }
      },
      "text/html": [
       "<div>\n",
       "<style scoped>\n",
       "    .dataframe tbody tr th:only-of-type {\n",
       "        vertical-align: middle;\n",
       "    }\n",
       "\n",
       "    .dataframe tbody tr th {\n",
       "        vertical-align: top;\n",
       "    }\n",
       "\n",
       "    .dataframe thead th {\n",
       "        text-align: right;\n",
       "    }\n",
       "</style>\n",
       "<table border=\"1\" class=\"dataframe\">\n",
       "  <thead>\n",
       "    <tr style=\"text-align: right;\">\n",
       "      <th></th>\n",
       "      <th>id</th>\n",
       "      <th>created_at</th>\n",
       "      <th>updated_at</th>\n",
       "      <th>location_id</th>\n",
       "      <th>machine_id</th>\n",
       "      <th>user_id</th>\n",
       "      <th>machine_score_xrefs_count</th>\n",
       "      <th>ic_enabled</th>\n",
       "      <th>location</th>\n",
       "      <th>machine</th>\n",
       "      <th>machine_conditions</th>\n",
       "    </tr>\n",
       "  </thead>\n",
       "  <tbody>\n",
       "    <tr>\n",
       "      <th>0</th>\n",
       "      <td>187125</td>\n",
       "      <td>2025-07-18T20:20:25.301-07:00</td>\n",
       "      <td>2025-07-18T20:20:25.301-07:00</td>\n",
       "      <td>26879</td>\n",
       "      <td>692</td>\n",
       "      <td>21056.0</td>\n",
       "      <td>NaN</td>\n",
       "      <td>None</td>\n",
       "      <td>{'id': 26879, 'name': 'Lumpy's Shake Shop', 's...</td>\n",
       "      <td>{'id': 692, 'name': 'Ripley's Believe It or No...</td>\n",
       "      <td>[]</td>\n",
       "    </tr>\n",
       "    <tr>\n",
       "      <th>1</th>\n",
       "      <td>187026</td>\n",
       "      <td>2025-07-17T15:55:59.758-07:00</td>\n",
       "      <td>2025-07-17T16:06:47.656-07:00</td>\n",
       "      <td>24037</td>\n",
       "      <td>2315</td>\n",
       "      <td>36956.0</td>\n",
       "      <td>3.0</td>\n",
       "      <td>None</td>\n",
       "      <td>{'id': 24037, 'name': 'Pinball Planet', 'stree...</td>\n",
       "      <td>{'id': 2315, 'name': 'Hot Shot', 'is_active': ...</td>\n",
       "      <td>[]</td>\n",
       "    </tr>\n",
       "    <tr>\n",
       "      <th>2</th>\n",
       "      <td>186971</td>\n",
       "      <td>2025-07-16T15:28:21.558-07:00</td>\n",
       "      <td>2025-07-16T15:28:21.558-07:00</td>\n",
       "      <td>26105</td>\n",
       "      <td>3804</td>\n",
       "      <td>3403.0</td>\n",
       "      <td>NaN</td>\n",
       "      <td>None</td>\n",
       "      <td>{'id': 26105, 'name': 'The Arcade on Detroit',...</td>\n",
       "      <td>{'id': 3804, 'name': 'Looney Tunes (CE)', 'is_...</td>\n",
       "      <td>[]</td>\n",
       "    </tr>\n",
       "    <tr>\n",
       "      <th>3</th>\n",
       "      <td>186917</td>\n",
       "      <td>2025-07-15T17:41:15.505-07:00</td>\n",
       "      <td>2025-07-15T17:41:15.963-07:00</td>\n",
       "      <td>26562</td>\n",
       "      <td>3846</td>\n",
       "      <td>13862.0</td>\n",
       "      <td>NaN</td>\n",
       "      <td>True</td>\n",
       "      <td>{'id': 26562, 'name': 'Game On Arcade', 'stree...</td>\n",
       "      <td>{'id': 3846, 'name': 'John Wick (Premium)', 'i...</td>\n",
       "      <td>[]</td>\n",
       "    </tr>\n",
       "    <tr>\n",
       "      <th>4</th>\n",
       "      <td>186787</td>\n",
       "      <td>2025-07-14T16:05:37.984-07:00</td>\n",
       "      <td>2025-07-14T16:10:10.552-07:00</td>\n",
       "      <td>8973</td>\n",
       "      <td>1470</td>\n",
       "      <td>36956.0</td>\n",
       "      <td>1.0</td>\n",
       "      <td>None</td>\n",
       "      <td>{'id': 8973, 'name': 'Quarter Up Bar Arcade', ...</td>\n",
       "      <td>{'id': 1470, 'name': 'The Avengers (LE)', 'is_...</td>\n",
       "      <td>[]</td>\n",
       "    </tr>\n",
       "  </tbody>\n",
       "</table>\n",
       "</div>"
      ],
      "text/plain": [
       "       id                     created_at                     updated_at  \\\n",
       "0  187125  2025-07-18T20:20:25.301-07:00  2025-07-18T20:20:25.301-07:00   \n",
       "1  187026  2025-07-17T15:55:59.758-07:00  2025-07-17T16:06:47.656-07:00   \n",
       "2  186971  2025-07-16T15:28:21.558-07:00  2025-07-16T15:28:21.558-07:00   \n",
       "3  186917  2025-07-15T17:41:15.505-07:00  2025-07-15T17:41:15.963-07:00   \n",
       "4  186787  2025-07-14T16:05:37.984-07:00  2025-07-14T16:10:10.552-07:00   \n",
       "\n",
       "   location_id  machine_id  user_id  machine_score_xrefs_count ic_enabled  \\\n",
       "0        26879         692  21056.0                        NaN       None   \n",
       "1        24037        2315  36956.0                        3.0       None   \n",
       "2        26105        3804   3403.0                        NaN       None   \n",
       "3        26562        3846  13862.0                        NaN       True   \n",
       "4         8973        1470  36956.0                        1.0       None   \n",
       "\n",
       "                                            location  \\\n",
       "0  {'id': 26879, 'name': 'Lumpy's Shake Shop', 's...   \n",
       "1  {'id': 24037, 'name': 'Pinball Planet', 'stree...   \n",
       "2  {'id': 26105, 'name': 'The Arcade on Detroit',...   \n",
       "3  {'id': 26562, 'name': 'Game On Arcade', 'stree...   \n",
       "4  {'id': 8973, 'name': 'Quarter Up Bar Arcade', ...   \n",
       "\n",
       "                                             machine machine_conditions  \n",
       "0  {'id': 692, 'name': 'Ripley's Believe It or No...                 []  \n",
       "1  {'id': 2315, 'name': 'Hot Shot', 'is_active': ...                 []  \n",
       "2  {'id': 3804, 'name': 'Looney Tunes (CE)', 'is_...                 []  \n",
       "3  {'id': 3846, 'name': 'John Wick (Premium)', 'i...                 []  \n",
       "4  {'id': 1470, 'name': 'The Avengers (LE)', 'is_...                 []  "
      ]
     },
     "execution_count": 56,
     "metadata": {},
     "output_type": "execute_result"
    }
   ],
   "source": [
    "pm_cleveland_machines = pd.DataFrame(data)\n",
    "pm_cleveland_machines.head()"
   ]
  },
  {
   "cell_type": "code",
   "execution_count": 57,
   "id": "4dd93657",
   "metadata": {},
   "outputs": [],
   "source": [
    "pm_cleveland_machines['created_at'] =pd.to_datetime(pm_cleveland_machines['created_at'], utc=True)\n",
    "pm_cleveland_machines['year'] = pm_cleveland_machines['created_at'].dt.year"
   ]
  },
  {
   "cell_type": "code",
   "execution_count": 58,
   "id": "e3f7ce3d",
   "metadata": {},
   "outputs": [
    {
     "data": {
      "application/vnd.plotly.v1+json": {
       "config": {
        "plotlyServerURL": "https://plot.ly"
       },
       "data": [
        {
         "hovertemplate": "year=%{x}<br>count=%{y}<extra></extra>",
         "legendgroup": "",
         "line": {
          "color": "#636efa",
          "dash": "solid"
         },
         "marker": {
          "symbol": "circle"
         },
         "mode": "lines",
         "name": "",
         "orientation": "v",
         "showlegend": false,
         "type": "scatter",
         "x": {
          "bdata": "3wcAAOIHAADjBwAA5AcAAOUHAADmBwAA5wcAAOgHAADpBwAA",
          "dtype": "i4"
         },
         "xaxis": "x",
         "y": {
          "bdata": "AgAHAAUABAAIABIAQgCwAKUA",
          "dtype": "i2"
         },
         "yaxis": "y"
        }
       ],
       "layout": {
        "legend": {
         "tracegroupgap": 0
        },
        "margin": {
         "t": 60
        },
        "template": {
         "data": {
          "bar": [
           {
            "error_x": {
             "color": "#2a3f5f"
            },
            "error_y": {
             "color": "#2a3f5f"
            },
            "marker": {
             "line": {
              "color": "white",
              "width": 0.5
             },
             "pattern": {
              "fillmode": "overlay",
              "size": 10,
              "solidity": 0.2
             }
            },
            "type": "bar"
           }
          ],
          "barpolar": [
           {
            "marker": {
             "line": {
              "color": "white",
              "width": 0.5
             },
             "pattern": {
              "fillmode": "overlay",
              "size": 10,
              "solidity": 0.2
             }
            },
            "type": "barpolar"
           }
          ],
          "carpet": [
           {
            "aaxis": {
             "endlinecolor": "#2a3f5f",
             "gridcolor": "#C8D4E3",
             "linecolor": "#C8D4E3",
             "minorgridcolor": "#C8D4E3",
             "startlinecolor": "#2a3f5f"
            },
            "baxis": {
             "endlinecolor": "#2a3f5f",
             "gridcolor": "#C8D4E3",
             "linecolor": "#C8D4E3",
             "minorgridcolor": "#C8D4E3",
             "startlinecolor": "#2a3f5f"
            },
            "type": "carpet"
           }
          ],
          "choropleth": [
           {
            "colorbar": {
             "outlinewidth": 0,
             "ticks": ""
            },
            "type": "choropleth"
           }
          ],
          "contour": [
           {
            "colorbar": {
             "outlinewidth": 0,
             "ticks": ""
            },
            "colorscale": [
             [
              0,
              "#0d0887"
             ],
             [
              0.1111111111111111,
              "#46039f"
             ],
             [
              0.2222222222222222,
              "#7201a8"
             ],
             [
              0.3333333333333333,
              "#9c179e"
             ],
             [
              0.4444444444444444,
              "#bd3786"
             ],
             [
              0.5555555555555556,
              "#d8576b"
             ],
             [
              0.6666666666666666,
              "#ed7953"
             ],
             [
              0.7777777777777778,
              "#fb9f3a"
             ],
             [
              0.8888888888888888,
              "#fdca26"
             ],
             [
              1,
              "#f0f921"
             ]
            ],
            "type": "contour"
           }
          ],
          "contourcarpet": [
           {
            "colorbar": {
             "outlinewidth": 0,
             "ticks": ""
            },
            "type": "contourcarpet"
           }
          ],
          "heatmap": [
           {
            "colorbar": {
             "outlinewidth": 0,
             "ticks": ""
            },
            "colorscale": [
             [
              0,
              "#0d0887"
             ],
             [
              0.1111111111111111,
              "#46039f"
             ],
             [
              0.2222222222222222,
              "#7201a8"
             ],
             [
              0.3333333333333333,
              "#9c179e"
             ],
             [
              0.4444444444444444,
              "#bd3786"
             ],
             [
              0.5555555555555556,
              "#d8576b"
             ],
             [
              0.6666666666666666,
              "#ed7953"
             ],
             [
              0.7777777777777778,
              "#fb9f3a"
             ],
             [
              0.8888888888888888,
              "#fdca26"
             ],
             [
              1,
              "#f0f921"
             ]
            ],
            "type": "heatmap"
           }
          ],
          "histogram": [
           {
            "marker": {
             "pattern": {
              "fillmode": "overlay",
              "size": 10,
              "solidity": 0.2
             }
            },
            "type": "histogram"
           }
          ],
          "histogram2d": [
           {
            "colorbar": {
             "outlinewidth": 0,
             "ticks": ""
            },
            "colorscale": [
             [
              0,
              "#0d0887"
             ],
             [
              0.1111111111111111,
              "#46039f"
             ],
             [
              0.2222222222222222,
              "#7201a8"
             ],
             [
              0.3333333333333333,
              "#9c179e"
             ],
             [
              0.4444444444444444,
              "#bd3786"
             ],
             [
              0.5555555555555556,
              "#d8576b"
             ],
             [
              0.6666666666666666,
              "#ed7953"
             ],
             [
              0.7777777777777778,
              "#fb9f3a"
             ],
             [
              0.8888888888888888,
              "#fdca26"
             ],
             [
              1,
              "#f0f921"
             ]
            ],
            "type": "histogram2d"
           }
          ],
          "histogram2dcontour": [
           {
            "colorbar": {
             "outlinewidth": 0,
             "ticks": ""
            },
            "colorscale": [
             [
              0,
              "#0d0887"
             ],
             [
              0.1111111111111111,
              "#46039f"
             ],
             [
              0.2222222222222222,
              "#7201a8"
             ],
             [
              0.3333333333333333,
              "#9c179e"
             ],
             [
              0.4444444444444444,
              "#bd3786"
             ],
             [
              0.5555555555555556,
              "#d8576b"
             ],
             [
              0.6666666666666666,
              "#ed7953"
             ],
             [
              0.7777777777777778,
              "#fb9f3a"
             ],
             [
              0.8888888888888888,
              "#fdca26"
             ],
             [
              1,
              "#f0f921"
             ]
            ],
            "type": "histogram2dcontour"
           }
          ],
          "mesh3d": [
           {
            "colorbar": {
             "outlinewidth": 0,
             "ticks": ""
            },
            "type": "mesh3d"
           }
          ],
          "parcoords": [
           {
            "line": {
             "colorbar": {
              "outlinewidth": 0,
              "ticks": ""
             }
            },
            "type": "parcoords"
           }
          ],
          "pie": [
           {
            "automargin": true,
            "type": "pie"
           }
          ],
          "scatter": [
           {
            "fillpattern": {
             "fillmode": "overlay",
             "size": 10,
             "solidity": 0.2
            },
            "type": "scatter"
           }
          ],
          "scatter3d": [
           {
            "line": {
             "colorbar": {
              "outlinewidth": 0,
              "ticks": ""
             }
            },
            "marker": {
             "colorbar": {
              "outlinewidth": 0,
              "ticks": ""
             }
            },
            "type": "scatter3d"
           }
          ],
          "scattercarpet": [
           {
            "marker": {
             "colorbar": {
              "outlinewidth": 0,
              "ticks": ""
             }
            },
            "type": "scattercarpet"
           }
          ],
          "scattergeo": [
           {
            "marker": {
             "colorbar": {
              "outlinewidth": 0,
              "ticks": ""
             }
            },
            "type": "scattergeo"
           }
          ],
          "scattergl": [
           {
            "marker": {
             "colorbar": {
              "outlinewidth": 0,
              "ticks": ""
             }
            },
            "type": "scattergl"
           }
          ],
          "scattermap": [
           {
            "marker": {
             "colorbar": {
              "outlinewidth": 0,
              "ticks": ""
             }
            },
            "type": "scattermap"
           }
          ],
          "scattermapbox": [
           {
            "marker": {
             "colorbar": {
              "outlinewidth": 0,
              "ticks": ""
             }
            },
            "type": "scattermapbox"
           }
          ],
          "scatterpolar": [
           {
            "marker": {
             "colorbar": {
              "outlinewidth": 0,
              "ticks": ""
             }
            },
            "type": "scatterpolar"
           }
          ],
          "scatterpolargl": [
           {
            "marker": {
             "colorbar": {
              "outlinewidth": 0,
              "ticks": ""
             }
            },
            "type": "scatterpolargl"
           }
          ],
          "scatterternary": [
           {
            "marker": {
             "colorbar": {
              "outlinewidth": 0,
              "ticks": ""
             }
            },
            "type": "scatterternary"
           }
          ],
          "surface": [
           {
            "colorbar": {
             "outlinewidth": 0,
             "ticks": ""
            },
            "colorscale": [
             [
              0,
              "#0d0887"
             ],
             [
              0.1111111111111111,
              "#46039f"
             ],
             [
              0.2222222222222222,
              "#7201a8"
             ],
             [
              0.3333333333333333,
              "#9c179e"
             ],
             [
              0.4444444444444444,
              "#bd3786"
             ],
             [
              0.5555555555555556,
              "#d8576b"
             ],
             [
              0.6666666666666666,
              "#ed7953"
             ],
             [
              0.7777777777777778,
              "#fb9f3a"
             ],
             [
              0.8888888888888888,
              "#fdca26"
             ],
             [
              1,
              "#f0f921"
             ]
            ],
            "type": "surface"
           }
          ],
          "table": [
           {
            "cells": {
             "fill": {
              "color": "#EBF0F8"
             },
             "line": {
              "color": "white"
             }
            },
            "header": {
             "fill": {
              "color": "#C8D4E3"
             },
             "line": {
              "color": "white"
             }
            },
            "type": "table"
           }
          ]
         },
         "layout": {
          "annotationdefaults": {
           "arrowcolor": "#2a3f5f",
           "arrowhead": 0,
           "arrowwidth": 1
          },
          "autotypenumbers": "strict",
          "coloraxis": {
           "colorbar": {
            "outlinewidth": 0,
            "ticks": ""
           }
          },
          "colorscale": {
           "diverging": [
            [
             0,
             "#8e0152"
            ],
            [
             0.1,
             "#c51b7d"
            ],
            [
             0.2,
             "#de77ae"
            ],
            [
             0.3,
             "#f1b6da"
            ],
            [
             0.4,
             "#fde0ef"
            ],
            [
             0.5,
             "#f7f7f7"
            ],
            [
             0.6,
             "#e6f5d0"
            ],
            [
             0.7,
             "#b8e186"
            ],
            [
             0.8,
             "#7fbc41"
            ],
            [
             0.9,
             "#4d9221"
            ],
            [
             1,
             "#276419"
            ]
           ],
           "sequential": [
            [
             0,
             "#0d0887"
            ],
            [
             0.1111111111111111,
             "#46039f"
            ],
            [
             0.2222222222222222,
             "#7201a8"
            ],
            [
             0.3333333333333333,
             "#9c179e"
            ],
            [
             0.4444444444444444,
             "#bd3786"
            ],
            [
             0.5555555555555556,
             "#d8576b"
            ],
            [
             0.6666666666666666,
             "#ed7953"
            ],
            [
             0.7777777777777778,
             "#fb9f3a"
            ],
            [
             0.8888888888888888,
             "#fdca26"
            ],
            [
             1,
             "#f0f921"
            ]
           ],
           "sequentialminus": [
            [
             0,
             "#0d0887"
            ],
            [
             0.1111111111111111,
             "#46039f"
            ],
            [
             0.2222222222222222,
             "#7201a8"
            ],
            [
             0.3333333333333333,
             "#9c179e"
            ],
            [
             0.4444444444444444,
             "#bd3786"
            ],
            [
             0.5555555555555556,
             "#d8576b"
            ],
            [
             0.6666666666666666,
             "#ed7953"
            ],
            [
             0.7777777777777778,
             "#fb9f3a"
            ],
            [
             0.8888888888888888,
             "#fdca26"
            ],
            [
             1,
             "#f0f921"
            ]
           ]
          },
          "colorway": [
           "#636efa",
           "#EF553B",
           "#00cc96",
           "#ab63fa",
           "#FFA15A",
           "#19d3f3",
           "#FF6692",
           "#B6E880",
           "#FF97FF",
           "#FECB52"
          ],
          "font": {
           "color": "#2a3f5f"
          },
          "geo": {
           "bgcolor": "white",
           "lakecolor": "white",
           "landcolor": "white",
           "showlakes": true,
           "showland": true,
           "subunitcolor": "#C8D4E3"
          },
          "hoverlabel": {
           "align": "left"
          },
          "hovermode": "closest",
          "mapbox": {
           "style": "light"
          },
          "paper_bgcolor": "white",
          "plot_bgcolor": "white",
          "polar": {
           "angularaxis": {
            "gridcolor": "#EBF0F8",
            "linecolor": "#EBF0F8",
            "ticks": ""
           },
           "bgcolor": "white",
           "radialaxis": {
            "gridcolor": "#EBF0F8",
            "linecolor": "#EBF0F8",
            "ticks": ""
           }
          },
          "scene": {
           "xaxis": {
            "backgroundcolor": "white",
            "gridcolor": "#DFE8F3",
            "gridwidth": 2,
            "linecolor": "#EBF0F8",
            "showbackground": true,
            "ticks": "",
            "zerolinecolor": "#EBF0F8"
           },
           "yaxis": {
            "backgroundcolor": "white",
            "gridcolor": "#DFE8F3",
            "gridwidth": 2,
            "linecolor": "#EBF0F8",
            "showbackground": true,
            "ticks": "",
            "zerolinecolor": "#EBF0F8"
           },
           "zaxis": {
            "backgroundcolor": "white",
            "gridcolor": "#DFE8F3",
            "gridwidth": 2,
            "linecolor": "#EBF0F8",
            "showbackground": true,
            "ticks": "",
            "zerolinecolor": "#EBF0F8"
           }
          },
          "shapedefaults": {
           "line": {
            "color": "#2a3f5f"
           }
          },
          "ternary": {
           "aaxis": {
            "gridcolor": "#DFE8F3",
            "linecolor": "#A2B1C6",
            "ticks": ""
           },
           "baxis": {
            "gridcolor": "#DFE8F3",
            "linecolor": "#A2B1C6",
            "ticks": ""
           },
           "bgcolor": "white",
           "caxis": {
            "gridcolor": "#DFE8F3",
            "linecolor": "#A2B1C6",
            "ticks": ""
           }
          },
          "title": {
           "x": 0.05
          },
          "xaxis": {
           "automargin": true,
           "gridcolor": "#EBF0F8",
           "linecolor": "#EBF0F8",
           "ticks": "",
           "title": {
            "standoff": 15
           },
           "zerolinecolor": "#EBF0F8",
           "zerolinewidth": 2
          },
          "yaxis": {
           "automargin": true,
           "gridcolor": "#EBF0F8",
           "linecolor": "#EBF0F8",
           "ticks": "",
           "title": {
            "standoff": 15
           },
           "zerolinecolor": "#EBF0F8",
           "zerolinewidth": 2
          }
         }
        },
        "xaxis": {
         "anchor": "y",
         "domain": [
          0,
          1
         ],
         "title": {
          "text": "year"
         }
        },
        "yaxis": {
         "anchor": "x",
         "domain": [
          0,
          1
         ],
         "title": {
          "text": "count"
         }
        }
       }
      }
     },
     "metadata": {},
     "output_type": "display_data"
    }
   ],
   "source": [
    "fig = px.line(pm_cleveland_machines['year']\n",
    "              .value_counts()\n",
    "              .reset_index()\n",
    "              .sort_values(by='year'),\n",
    "              x='year',y='count'\n",
    "              )\n",
    "\n",
    "fig.show()"
   ]
  },
  {
   "cell_type": "markdown",
   "id": "12b0c925",
   "metadata": {},
   "source": [
    "This is almost certainly wrong, which seems to indicate that items are REMOVED from the database when they no longer exist, so any data must still be an active machine/location."
   ]
  },
  {
   "cell_type": "code",
   "execution_count": null,
   "id": "49774b4f",
   "metadata": {},
   "outputs": [
    {
     "data": {
      "application/vnd.microsoft.datawrangler.viewer.v0+json": {
       "columns": [
        {
         "name": "index",
         "rawType": "int64",
         "type": "integer"
        },
        {
         "name": "id",
         "rawType": "int64",
         "type": "integer"
        },
        {
         "name": "created_at",
         "rawType": "datetime64[ns, UTC]",
         "type": "unknown"
        },
        {
         "name": "updated_at",
         "rawType": "object",
         "type": "string"
        },
        {
         "name": "location_id",
         "rawType": "int64",
         "type": "integer"
        },
        {
         "name": "machine_id",
         "rawType": "int64",
         "type": "integer"
        },
        {
         "name": "user_id",
         "rawType": "float64",
         "type": "float"
        },
        {
         "name": "machine_score_xrefs_count",
         "rawType": "float64",
         "type": "float"
        },
        {
         "name": "ic_enabled",
         "rawType": "object",
         "type": "unknown"
        },
        {
         "name": "location",
         "rawType": "object",
         "type": "unknown"
        },
        {
         "name": "machine",
         "rawType": "object",
         "type": "unknown"
        },
        {
         "name": "machine_conditions",
         "rawType": "object",
         "type": "unknown"
        },
        {
         "name": "year",
         "rawType": "int32",
         "type": "integer"
        }
       ],
       "ref": "3759823d-65e9-45b2-8f1d-a15e027bfc2e",
       "rows": [
        [
         "0",
         "186787",
         "2025-07-14 23:05:37.984000+00:00",
         "2025-07-14T16:10:10.552-07:00",
         "8973",
         "1470",
         "36956.0",
         "1.0",
         null,
         "{'id': 8973, 'name': 'Quarter Up Bar Arcade', 'street': '1446 North Portage Path', 'city': 'Akron', 'state': 'OH', 'zip': '44313', 'phone': '330-752-4080', 'lat': '41.1337088', 'lon': '-81.5483903', 'website': 'https://www.facebook.com/QuarterUpBar', 'created_at': '2017-09-21T23:34:54.621-07:00', 'updated_at': '2025-07-14T16:05:37.990-07:00', 'zone_id': None, 'region_id': 32, 'location_type_id': 3, 'description': 'Fun Bar with typical bar food menu.  Modern Games $1, older games 50 cents.  Both sterns are insider connected.  Good drink prices. Change machine.\\n\\nPinball machines kept in very good working order. Minor issues, but flippers all work and with power.\\nNice selection. Rotated somewhat often.\\nMany premium Stern games (not just Pro like so many places)\\nStaff very friendly and stayed open later than posted closing time “because people were still playing games.”', 'operator_id': None, 'date_last_updated': '2025-07-14', 'last_updated_by_user_id': 36956, 'is_stern_army': None, 'country': 'US', 'ic_active': True, 'machine_count': 24}",
         "{'id': 1470, 'name': 'The Avengers (LE)', 'is_active': False, 'created_at': '2013-01-28T09:43:42.493-08:00', 'updated_at': '2023-09-14T11:44:12.597-07:00', 'ipdb_link': 'https://www.ipdb.org/machine.cgi?id=5940', 'year': 2012, 'manufacturer': 'Stern', 'machine_group_id': 2, 'ipdb_id': 5940, 'opdb_id': 'GRzNR-MyNq8', 'opdb_img': 'https://img.opdb.org/5e226b24-3e11-485e-baff-120e300fbe8f-medium.jpg', 'opdb_img_height': 451, 'opdb_img_width': 640, 'machine_type': 'ss', 'machine_display': 'dmd', 'ic_eligible': None, 'kineticist_url': 'https://www.kineticist.com/pinball-machines/the-avengers-2012'}",
         "[]",
         "2025"
        ],
        [
         "1",
         "186381",
         "2025-07-09 03:07:52.061000+00:00",
         "2025-07-08T20:07:52.403-07:00",
         "17325",
         "3126",
         "39146.0",
         null,
         "True",
         "{'id': 17325, 'name': 'Pins Mechanical Co. / 16-Bit Bar + Arcade', 'street': '1880 West 25th St', 'city': 'Cleveland', 'state': 'OH', 'zip': '44113', 'phone': '(216) 340-0090', 'lat': '41.4855116', 'lon': '-81.704869', 'website': 'https://www.pinsbar.com/cleveland', 'created_at': '2022-04-08T15:46:33.150-07:00', 'updated_at': '2025-07-08T20:07:17.498-07:00', 'zone_id': None, 'region_id': 32, 'location_type_id': 3, 'description': 'Main floor and basement pinball in a shared space with 16-Bit Bar + Arcade and Pins Mechanical Co. Includes duckpin bowling, free arcade, foosball, bubble hockey, bocce, and Sega Genesis and Nintendo consoles.', 'operator_id': None, 'date_last_updated': '2025-07-08', 'last_updated_by_user_id': 39146, 'is_stern_army': False, 'country': 'US', 'ic_active': True, 'machine_count': 23}",
         "{'id': 3126, 'name': 'Black Knight: Sword of Rage (Pro)', 'is_active': False, 'created_at': '2019-04-03T15:10:47.111-07:00', 'updated_at': '2023-04-18T20:03:35.098-07:00', 'ipdb_link': 'https://www.ipdb.org/machine.cgi?id=6567', 'year': 2019, 'manufacturer': 'Stern', 'machine_group_id': 75, 'ipdb_id': 6567, 'opdb_id': 'GD7Ld-ME0BP', 'opdb_img': 'https://img.opdb.org/4a70ab88-b622-49ff-a3c7-2cd0715595bb-medium.jpg', 'opdb_img_height': 396, 'opdb_img_width': 640, 'machine_type': 'ss', 'machine_display': 'lcd', 'ic_eligible': True, 'kineticist_url': 'https://www.kineticist.com/pinball-machines/black-knight-sword-of-rage-2019'}",
         "[]",
         "2025"
        ],
        [
         "2",
         "186334",
         "2025-07-08 19:06:15.182000+00:00",
         "2025-07-08T12:06:15.182-07:00",
         "3392",
         "837",
         "3473.0",
         null,
         null,
         "{'id': 3392, 'name': 'Kidforce Pinball', 'street': '101 Front St', 'city': 'Berea', 'state': 'OH', 'zip': '44017', 'phone': '(440) 239-7777', 'lat': '41.3681272', 'lon': '-81.8534058', 'website': 'http://www.kidforcecollectibles.com/', 'created_at': '2013-01-19T09:40:12.412-08:00', 'updated_at': '2025-07-08T12:04:54.648-07:00', 'zone_id': None, 'region_id': 32, 'location_type_id': 1, 'description': 'Great place to play pinball and machines are well maintained.  I was in the area from out of state and thanks to pinballmap I found Kidforce!  All pins are in the dedicated storefront; $10, all you can play all day.\\r\\n\\r\\nSunday: Closed\\r\\nMon-Thurs: 4-9pm\\r\\nFri: 4-10pm\\r\\nSat: 12-9pm', 'operator_id': None, 'date_last_updated': '2025-07-08', 'last_updated_by_user_id': 3473, 'is_stern_army': True, 'country': 'US', 'ic_active': True, 'machine_count': 38}",
         "{'id': 837, 'name': 'Mystic', 'is_active': False, 'created_at': '2024-07-10T16:16:08.109-07:00', 'updated_at': '2023-01-17T10:44:25.948-08:00', 'ipdb_link': 'https://www.ipdb.org/machine.cgi?id=1650', 'year': 1979, 'manufacturer': 'Bally', 'machine_group_id': None, 'ipdb_id': 1650, 'opdb_id': 'G5Bnl-MLnw6', 'opdb_img': 'https://img.opdb.org/851e4e39-25ec-4759-a640-2f1b73f6c0d2-medium.jpg', 'opdb_img_height': 569, 'opdb_img_width': 640, 'machine_type': 'ss', 'machine_display': 'alphanumeric', 'ic_eligible': None, 'kineticist_url': 'https://www.kineticist.com/pinball-machines/mystic-1979'}",
         "[]",
         "2025"
        ],
        [
         "3",
         "186333",
         "2025-07-08 19:04:54.638000+00:00",
         "2025-07-08T12:04:54.638-07:00",
         "3392",
         "4537",
         "3473.0",
         null,
         null,
         "{'id': 3392, 'name': 'Kidforce Pinball', 'street': '101 Front St', 'city': 'Berea', 'state': 'OH', 'zip': '44017', 'phone': '(440) 239-7777', 'lat': '41.3681272', 'lon': '-81.8534058', 'website': 'http://www.kidforcecollectibles.com/', 'created_at': '2013-01-19T09:40:12.412-08:00', 'updated_at': '2025-07-08T12:04:54.648-07:00', 'zone_id': None, 'region_id': 32, 'location_type_id': 1, 'description': 'Great place to play pinball and machines are well maintained.  I was in the area from out of state and thanks to pinballmap I found Kidforce!  All pins are in the dedicated storefront; $10, all you can play all day.\\r\\n\\r\\nSunday: Closed\\r\\nMon-Thurs: 4-9pm\\r\\nFri: 4-10pm\\r\\nSat: 12-9pm', 'operator_id': None, 'date_last_updated': '2025-07-08', 'last_updated_by_user_id': 3473, 'is_stern_army': True, 'country': 'US', 'ic_active': True, 'machine_count': 38}",
         "{'id': 4537, 'name': 'Harry Potter (Arcade Edition)', 'is_active': None, 'created_at': '2025-06-03T21:05:48.929-07:00', 'updated_at': '2025-06-19T09:09:00.619-07:00', 'ipdb_link': None, 'year': 2025, 'manufacturer': 'Jersey Jack', 'machine_group_id': 126, 'ipdb_id': None, 'opdb_id': 'GWyBj-MdEbK-A9dEy', 'opdb_img': None, 'opdb_img_height': None, 'opdb_img_width': None, 'machine_type': 'ss', 'machine_display': 'lcd', 'ic_eligible': None, 'kineticist_url': 'https://www.kineticist.com/pinball-machines/harry-potter-2025'}",
         "[]",
         "2025"
        ],
        [
         "4",
         "186294",
         "2025-07-07 21:54:50.223000+00:00",
         "2025-07-07T14:54:50.386-07:00",
         "26083",
         "4533",
         "38827.0",
         null,
         "True",
         "{'id': 26083, 'name': 'Bar Lucci', 'street': '257 N Water St', 'city': 'Kent', 'state': 'OH', 'zip': '44240', 'phone': None, 'lat': '41.1557433', 'lon': '-81.3579236', 'website': 'https://www.barluccikent.com/', 'created_at': '2025-04-15T19:51:44.946-07:00', 'updated_at': '2025-07-07T14:54:14.826-07:00', 'zone_id': None, 'region_id': 32, 'location_type_id': 4, 'description': None, 'operator_id': None, 'date_last_updated': '2025-07-07', 'last_updated_by_user_id': 38827, 'is_stern_army': None, 'country': 'US', 'ic_active': True, 'machine_count': 6}",
         "{'id': 4533, 'name': 'King Kong: Myth of Terror Island (Pro)', 'is_active': None, 'created_at': '2025-04-28T11:38:12.421-07:00', 'updated_at': '2025-07-14T12:00:10.069-07:00', 'ipdb_link': None, 'year': 2025, 'manufacturer': 'Stern', 'machine_group_id': 125, 'ipdb_id': None, 'opdb_id': 'GEL0V-MBRyb', 'opdb_img': 'https://img.opdb.org/2c806e43-f42e-402c-936c-0088d339e03a-medium.jpg', 'opdb_img_height': 416, 'opdb_img_width': 640, 'machine_type': 'ss', 'machine_display': 'lcd', 'ic_eligible': True, 'kineticist_url': 'https://www.kineticist.com/pinball-machines/king-kong-myth-of-terror-island-2025'}",
         "[]",
         "2025"
        ],
        [
         "5",
         "186293",
         "2025-07-07 21:54:14.819000+00:00",
         "2025-07-07T14:54:15.019-07:00",
         "26083",
         "3226",
         "38827.0",
         null,
         "True",
         "{'id': 26083, 'name': 'Bar Lucci', 'street': '257 N Water St', 'city': 'Kent', 'state': 'OH', 'zip': '44240', 'phone': None, 'lat': '41.1557433', 'lon': '-81.3579236', 'website': 'https://www.barluccikent.com/', 'created_at': '2025-04-15T19:51:44.946-07:00', 'updated_at': '2025-07-07T14:54:14.826-07:00', 'zone_id': None, 'region_id': 32, 'location_type_id': 4, 'description': None, 'operator_id': None, 'date_last_updated': '2025-07-07', 'last_updated_by_user_id': 38827, 'is_stern_army': None, 'country': 'US', 'ic_active': True, 'machine_count': 6}",
         "{'id': 3226, 'name': 'Stranger Things (Pro)', 'is_active': False, 'created_at': '2019-12-23T13:03:43.864-08:00', 'updated_at': '2023-04-18T20:05:51.189-07:00', 'ipdb_link': 'https://www.ipdb.org/machine.cgi?id=6642', 'year': 2019, 'manufacturer': 'Stern', 'machine_group_id': 80, 'ipdb_id': 6642, 'opdb_id': 'Gzy89-MNEeO', 'opdb_img': 'https://img.opdb.org/dd165916-0430-4bf1-8efe-278aa8ece1f3-medium.jpg', 'opdb_img_height': 416, 'opdb_img_width': 640, 'machine_type': 'ss', 'machine_display': 'lcd', 'ic_eligible': True, 'kineticist_url': 'https://www.kineticist.com/pinball-machines/stranger-things-2019'}",
         "[]",
         "2025"
        ],
        [
         "6",
         "186291",
         "2025-07-07 20:54:55.794000+00:00",
         "2025-07-07T13:54:55.944-07:00",
         "21373",
         "3673",
         "38376.0",
         null,
         "True",
         "{'id': 21373, 'name': 'Time Warp Bar', 'street': '26261 Center Ridge Rd', 'city': 'Westlake', 'state': 'OH', 'zip': '44145', 'phone': '(440) 871-8463', 'lat': '41.4524085', 'lon': '-81.9114038', 'website': 'http://timewarpbar.com/', 'created_at': '2023-10-03T19:50:43.193-07:00', 'updated_at': '2025-07-07T13:54:55.984-07:00', 'zone_id': None, 'region_id': 32, 'location_type_id': 4, 'description': None, 'operator_id': None, 'date_last_updated': '2025-07-07', 'last_updated_by_user_id': 38376, 'is_stern_army': None, 'country': 'US', 'ic_active': True, 'machine_count': 1}",
         "{'id': 3673, 'name': 'Foo Fighters (Pro)', 'is_active': False, 'created_at': '2023-02-28T13:00:34.666-08:00', 'updated_at': '2023-09-12T12:06:24.875-07:00', 'ipdb_link': None, 'year': 2023, 'manufacturer': 'Stern', 'machine_group_id': 99, 'ipdb_id': None, 'opdb_id': 'GpeoL-MyNPq', 'opdb_img': 'https://img.opdb.org/bc8f4662-5be2-4d79-b020-21c9b5cacd1a-medium.jpg', 'opdb_img_height': 286, 'opdb_img_width': 460, 'machine_type': 'ss', 'machine_display': 'lcd', 'ic_eligible': True, 'kineticist_url': 'https://www.kineticist.com/pinball-machines/foo-fighters-2023'}",
         "[]",
         "2025"
        ],
        [
         "7",
         "186150",
         "2025-07-04 21:00:17.227000+00:00",
         "2025-07-04T14:00:17.227-07:00",
         "26769",
         "698",
         null,
         null,
         null,
         "{'id': 26769, 'name': 'Last Stop Inn', 'street': '6200 State Rd', 'city': 'Parma', 'state': 'OH', 'zip': '44134', 'phone': '(440) 842-5092', 'lat': '41.3951005', 'lon': '-81.7107004', 'website': None, 'created_at': '2025-07-04T14:00:17.202-07:00', 'updated_at': '2025-07-04T14:00:17.232-07:00', 'zone_id': None, 'region_id': 32, 'location_type_id': 4, 'description': None, 'operator_id': None, 'date_last_updated': '2025-07-04', 'last_updated_by_user_id': 21056, 'is_stern_army': None, 'country': 'US', 'ic_active': None, 'machine_count': 1}",
         "{'id': 698, 'name': 'Monopoly', 'is_active': False, 'created_at': '2024-07-10T16:16:08.109-07:00', 'updated_at': '2023-01-17T10:44:27.895-08:00', 'ipdb_link': 'https://www.ipdb.org/machine.cgi?id=4505', 'year': 2001, 'manufacturer': 'Stern', 'machine_group_id': None, 'ipdb_id': 4505, 'opdb_id': 'G48w3-Mq1Zk', 'opdb_img': 'https://img.opdb.org/6ec7642d-e068-4289-8dba-df1808e84847-medium.jpg', 'opdb_img_height': 475, 'opdb_img_width': 640, 'machine_type': 'ss', 'machine_display': 'dmd', 'ic_eligible': None, 'kineticist_url': 'https://www.kineticist.com/pinball-machines/monopoly-2001'}",
         "[]",
         "2025"
        ],
        [
         "8",
         "186013",
         "2025-07-04 00:43:31.026000+00:00",
         "2025-07-12T15:15:15.728-07:00",
         "24037",
         "918",
         "21056.0",
         "9.0",
         null,
         "{'id': 24037, 'name': 'Pinball Planet', 'street': '6277 Pearl Rd', 'city': 'Cleveland', 'state': 'OH', 'zip': '44130', 'phone': '216-282-4655', 'lat': '41.3903102', 'lon': '-81.7610101', 'website': 'http://pinballplanetohio.com', 'created_at': '2024-08-02T00:22:58.631-07:00', 'updated_at': '2025-07-13T09:31:27.874-07:00', 'zone_id': None, 'region_id': 32, 'location_type_id': 1, 'description': 'Sun: 12:00-8:00\\r\\nMon: Closed\\r\\nTues: 4:00-11:00\\r\\nWed: Closed\\r\\nThurs: 4:00-11:00\\r\\nFri: 2:00-12:00\\r\\nSat: 12:00-6:00 & 8:00-12:00\\r\\n\\r\\nNice owners.\\r\\nMachines kept in great condition.\\r\\nNot a whole lot of rotation of games, but selection is very good.', 'operator_id': None, 'date_last_updated': '2025-07-13', 'last_updated_by_user_id': 33721, 'is_stern_army': None, 'country': 'US', 'ic_active': True, 'machine_count': 36}",
         "{'id': 918, 'name': 'Knockout', 'is_active': False, 'created_at': '2024-07-10T16:16:08.109-07:00', 'updated_at': '2023-01-17T10:44:22.439-08:00', 'ipdb_link': 'https://www.ipdb.org/machine.cgi?id=1392', 'year': 1974, 'manufacturer': 'Bally', 'machine_group_id': None, 'ipdb_id': 1392, 'opdb_id': 'G4xzV-MQZeV', 'opdb_img': 'https://img.opdb.org/c9f80f84-902f-49e6-a8fc-ff04112669ab-medium.jpg', 'opdb_img_height': 507, 'opdb_img_width': 640, 'machine_type': 'em', 'machine_display': 'reels', 'ic_eligible': None, 'kineticist_url': 'https://www.kineticist.com/pinball-machines/knockout-1975'}",
         "[]",
         "2025"
        ],
        [
         "9",
         "185983",
         "2025-07-03 16:01:18.861000+00:00",
         "2025-07-07T18:20:33.738-07:00",
         "8973",
         "4534",
         "3403.0",
         "2.0",
         "True",
         "{'id': 8973, 'name': 'Quarter Up Bar Arcade', 'street': '1446 North Portage Path', 'city': 'Akron', 'state': 'OH', 'zip': '44313', 'phone': '330-752-4080', 'lat': '41.1337088', 'lon': '-81.5483903', 'website': 'https://www.facebook.com/QuarterUpBar', 'created_at': '2017-09-21T23:34:54.621-07:00', 'updated_at': '2025-07-14T16:05:37.990-07:00', 'zone_id': None, 'region_id': 32, 'location_type_id': 3, 'description': 'Fun Bar with typical bar food menu.  Modern Games $1, older games 50 cents.  Both sterns are insider connected.  Good drink prices. Change machine.\\n\\nPinball machines kept in very good working order. Minor issues, but flippers all work and with power.\\nNice selection. Rotated somewhat often.\\nMany premium Stern games (not just Pro like so many places)\\nStaff very friendly and stayed open later than posted closing time “because people were still playing games.”', 'operator_id': None, 'date_last_updated': '2025-07-14', 'last_updated_by_user_id': 36956, 'is_stern_army': None, 'country': 'US', 'ic_active': True, 'machine_count': 24}",
         "{'id': 4534, 'name': 'King Kong: Myth of Terror Island (Premium)', 'is_active': None, 'created_at': '2025-04-28T11:38:53.998-07:00', 'updated_at': '2025-05-17T15:50:56.963-07:00', 'ipdb_link': None, 'year': 2025, 'manufacturer': 'Stern', 'machine_group_id': 125, 'ipdb_id': None, 'opdb_id': 'GEL0V-MyN8E-A1Dkr', 'opdb_img': 'https://img.opdb.org/359b002f-0eac-4999-b582-67238bbeb9e5-medium.jpg', 'opdb_img_height': 408, 'opdb_img_width': 640, 'machine_type': 'ss', 'machine_display': 'lcd', 'ic_eligible': True, 'kineticist_url': 'https://www.kineticist.com/pinball-machines/king-kong-myth-of-terror-island-2025'}",
         "[{'id': 130865, 'comment': 'Mellow yellow edition', 'location_machine_xref_id': 185983, 'created_at': '2025-07-03T09:01:18.916-07:00', 'updated_at': '2025-07-03T09:01:18.916-07:00', 'user_id': 3403, 'username': 'silverballmania'}]",
         "2025"
        ],
        [
         "10",
         "185895",
         "2025-07-03 00:18:56.121000+00:00",
         "2025-07-02T17:18:56.371-07:00",
         "26083",
         "3845",
         "38827.0",
         null,
         "True",
         "{'id': 26083, 'name': 'Bar Lucci', 'street': '257 N Water St', 'city': 'Kent', 'state': 'OH', 'zip': '44240', 'phone': None, 'lat': '41.1557433', 'lon': '-81.3579236', 'website': 'https://www.barluccikent.com/', 'created_at': '2025-04-15T19:51:44.946-07:00', 'updated_at': '2025-07-07T14:54:14.826-07:00', 'zone_id': None, 'region_id': 32, 'location_type_id': 4, 'description': None, 'operator_id': None, 'date_last_updated': '2025-07-07', 'last_updated_by_user_id': 38827, 'is_stern_army': None, 'country': 'US', 'ic_active': True, 'machine_count': 6}",
         "{'id': 3845, 'name': 'John Wick (Pro)', 'is_active': None, 'created_at': '2024-05-06T11:46:19.822-07:00', 'updated_at': '2024-05-18T07:24:16.627-07:00', 'ipdb_link': None, 'year': 2024, 'manufacturer': 'Stern', 'machine_group_id': 115, 'ipdb_id': None, 'opdb_id': 'GQK1P-MW9pj', 'opdb_img': 'https://img.opdb.org/7e88a55a-05ce-4877-b4a7-77fe2dba2700-medium.jpg', 'opdb_img_height': 390, 'opdb_img_width': 629, 'machine_type': 'ss', 'machine_display': 'lcd', 'ic_eligible': True, 'kineticist_url': 'https://www.kineticist.com/pinball-machines/john-wick-2024'}",
         "[]",
         "2025"
        ],
        [
         "11",
         "185451",
         "2025-06-28 19:08:49.990000+00:00",
         "2025-06-28T12:08:49.990-07:00",
         "19781",
         "689",
         "23665.0",
         null,
         null,
         "{'id': 19781, 'name': 'Arena 51 Laser Tag', 'street': '13409 Smith Rd', 'city': 'Middleburg Heights', 'state': 'OH', 'zip': '44130', 'phone': '(440) 502-5320', 'lat': '41.3760725', 'lon': '-81.7920111', 'website': 'https://www.arena51lasertag.com', 'created_at': '2023-04-05T16:12:36.675-07:00', 'updated_at': '2025-06-28T12:07:53.627-07:00', 'zone_id': None, 'region_id': 32, 'location_type_id': 39, 'description': 'Laser tag facility', 'operator_id': None, 'date_last_updated': '2025-06-28', 'last_updated_by_user_id': 23665, 'is_stern_army': None, 'country': 'US', 'ic_active': False, 'machine_count': 2}",
         "{'id': 689, 'name': 'White Water', 'is_active': False, 'created_at': '2024-07-10T16:16:08.109-07:00', 'updated_at': '2023-01-17T10:44:28.888-08:00', 'ipdb_link': 'https://www.ipdb.org/machine.cgi?id=2768', 'year': 1993, 'manufacturer': 'Williams', 'machine_group_id': None, 'ipdb_id': 2768, 'opdb_id': 'GRQKz-MyNXz', 'opdb_img': 'https://img.opdb.org/e0573fb9-26b0-4071-aa81-e4d44d6515e9-medium.jpg', 'opdb_img_height': 412, 'opdb_img_width': 640, 'machine_type': 'ss', 'machine_display': 'dmd', 'ic_eligible': None, 'kineticist_url': 'https://www.kineticist.com/pinball-machines/white-water-1993'}",
         "[]",
         "2025"
        ],
        [
         "12",
         "185448",
         "2025-06-28 18:06:25.197000+00:00",
         "2025-06-28T11:06:25.197-07:00",
         "12096",
         "711",
         "10179.0",
         null,
         null,
         "{'id': 12096, 'name': \"M and M's Taphouse\", 'street': '523 West Tuscarawas Ave', 'city': 'Barberton', 'state': 'OH', 'zip': '44203', 'phone': '(234) 571-2171', 'lat': '41.01309', 'lon': '-81.608912', 'website': 'http://mandmstaphouse.com/', 'created_at': '2019-04-22T12:26:33.400-07:00', 'updated_at': '2025-06-28T11:06:07.906-07:00', 'zone_id': None, 'region_id': 32, 'location_type_id': 14, 'description': None, 'operator_id': None, 'date_last_updated': '2025-06-28', 'last_updated_by_user_id': 10179, 'is_stern_army': None, 'country': 'US', 'ic_active': True, 'machine_count': 7}",
         "{'id': 711, 'name': 'Austin Powers', 'is_active': False, 'created_at': '2024-07-10T16:16:08.109-07:00', 'updated_at': '2023-01-17T10:44:28.603-08:00', 'ipdb_link': 'https://www.ipdb.org/machine.cgi?id=4504', 'year': 2001, 'manufacturer': 'Stern', 'machine_group_id': None, 'ipdb_id': 4504, 'opdb_id': 'G43BW-M3dKV', 'opdb_img': 'https://img.opdb.org/9b2d322e-c10a-4393-aec8-998733e3f73e-medium.jpg', 'opdb_img_height': 473, 'opdb_img_width': 640, 'machine_type': 'ss', 'machine_display': 'dmd', 'ic_eligible': None, 'kineticist_url': 'https://www.kineticist.com/pinball-machines/austin-powers-2001'}",
         "[]",
         "2025"
        ],
        [
         "13",
         "185075",
         "2025-06-22 18:19:47.533000+00:00",
         "2025-06-22T11:29:52.718-07:00",
         "8045",
         "4534",
         "36956.0",
         "1.0",
         "True",
         "{'id': 8045, 'name': 'MadCap Brew Co', 'street': '1422 Mogadore Road', 'city': 'Kent', 'state': 'OH', 'zip': '44240', 'phone': '330-474-7794', 'lat': '41.1386611', 'lon': '-81.3727899', 'website': 'http://www.madcapbrewco.com', 'created_at': '2017-02-19T09:05:05.265-08:00', 'updated_at': '2025-06-22T11:19:47.539-07:00', 'zone_id': None, 'region_id': 32, 'location_type_id': 62, 'description': 'Hip craft brewery and tap room. Lots of games in additional to pinball. Bowling, Pool, skeeball, darts, buck hunter reloaded, ice cold beer, bubble hockey, foosball, beer pong, etc.', 'operator_id': None, 'date_last_updated': '2025-06-22', 'last_updated_by_user_id': 36956, 'is_stern_army': True, 'country': 'US', 'ic_active': True, 'machine_count': 19}",
         "{'id': 4534, 'name': 'King Kong: Myth of Terror Island (Premium)', 'is_active': None, 'created_at': '2025-04-28T11:38:53.998-07:00', 'updated_at': '2025-05-17T15:50:56.963-07:00', 'ipdb_link': None, 'year': 2025, 'manufacturer': 'Stern', 'machine_group_id': 125, 'ipdb_id': None, 'opdb_id': 'GEL0V-MyN8E-A1Dkr', 'opdb_img': 'https://img.opdb.org/359b002f-0eac-4999-b582-67238bbeb9e5-medium.jpg', 'opdb_img_height': 408, 'opdb_img_width': 640, 'machine_type': 'ss', 'machine_display': 'lcd', 'ic_eligible': True, 'kineticist_url': 'https://www.kineticist.com/pinball-machines/king-kong-myth-of-terror-island-2025'}",
         "[]",
         "2025"
        ],
        [
         "14",
         "184997",
         "2025-06-21 11:08:06.594000+00:00",
         "2025-07-14T17:45:36.115-07:00",
         "8973",
         "675",
         "3403.0",
         "1.0",
         null,
         "{'id': 8973, 'name': 'Quarter Up Bar Arcade', 'street': '1446 North Portage Path', 'city': 'Akron', 'state': 'OH', 'zip': '44313', 'phone': '330-752-4080', 'lat': '41.1337088', 'lon': '-81.5483903', 'website': 'https://www.facebook.com/QuarterUpBar', 'created_at': '2017-09-21T23:34:54.621-07:00', 'updated_at': '2025-07-14T16:05:37.990-07:00', 'zone_id': None, 'region_id': 32, 'location_type_id': 3, 'description': 'Fun Bar with typical bar food menu.  Modern Games $1, older games 50 cents.  Both sterns are insider connected.  Good drink prices. Change machine.\\n\\nPinball machines kept in very good working order. Minor issues, but flippers all work and with power.\\nNice selection. Rotated somewhat often.\\nMany premium Stern games (not just Pro like so many places)\\nStaff very friendly and stayed open later than posted closing time “because people were still playing games.”', 'operator_id': None, 'date_last_updated': '2025-07-14', 'last_updated_by_user_id': 36956, 'is_stern_army': None, 'country': 'US', 'ic_active': True, 'machine_count': 24}",
         "{'id': 675, 'name': 'No Fear: Dangerous Sports', 'is_active': False, 'created_at': '2024-07-10T16:16:08.109-07:00', 'updated_at': '2023-01-17T10:44:25.860-08:00', 'ipdb_link': 'https://www.ipdb.org/machine.cgi?id=2852', 'year': 1995, 'manufacturer': 'Williams', 'machine_group_id': None, 'ipdb_id': 2852, 'opdb_id': 'Gr2Y2-MDxZq', 'opdb_img': 'https://img.opdb.org/c619d2e2-0ad6-445c-a665-3d5c2c489ddf-medium.jpg', 'opdb_img_height': 422, 'opdb_img_width': 640, 'machine_type': 'ss', 'machine_display': 'dmd', 'ic_eligible': None, 'kineticist_url': 'https://www.kineticist.com/pinball-machines/no-fear-dangerous-sports-1995'}",
         "[]",
         "2025"
        ],
        [
         "15",
         "184883",
         "2025-06-19 10:56:44.719000+00:00",
         "2025-07-14T16:30:20.177-07:00",
         "8973",
         "987",
         "3403.0",
         "1.0",
         null,
         "{'id': 8973, 'name': 'Quarter Up Bar Arcade', 'street': '1446 North Portage Path', 'city': 'Akron', 'state': 'OH', 'zip': '44313', 'phone': '330-752-4080', 'lat': '41.1337088', 'lon': '-81.5483903', 'website': 'https://www.facebook.com/QuarterUpBar', 'created_at': '2017-09-21T23:34:54.621-07:00', 'updated_at': '2025-07-14T16:05:37.990-07:00', 'zone_id': None, 'region_id': 32, 'location_type_id': 3, 'description': 'Fun Bar with typical bar food menu.  Modern Games $1, older games 50 cents.  Both sterns are insider connected.  Good drink prices. Change machine.\\n\\nPinball machines kept in very good working order. Minor issues, but flippers all work and with power.\\nNice selection. Rotated somewhat often.\\nMany premium Stern games (not just Pro like so many places)\\nStaff very friendly and stayed open later than posted closing time “because people were still playing games.”', 'operator_id': None, 'date_last_updated': '2025-07-14', 'last_updated_by_user_id': 36956, 'is_stern_army': None, 'country': 'US', 'ic_active': True, 'machine_count': 24}",
         "{'id': 987, 'name': 'Night Rider (EM)', 'is_active': False, 'created_at': '2024-07-10T16:16:08.109-07:00', 'updated_at': '2023-01-17T10:44:24.323-08:00', 'ipdb_link': 'https://www.ipdb.org/machine.cgi?id=1677', 'year': 1976, 'manufacturer': 'Bally', 'machine_group_id': None, 'ipdb_id': 1677, 'opdb_id': 'GryQj-MLRyd', 'opdb_img': 'https://img.opdb.org/fe5aa8af-da1b-4191-87ab-95590693fc2f-medium.jpg', 'opdb_img_height': 532, 'opdb_img_width': 640, 'machine_type': 'em', 'machine_display': 'reels', 'ic_eligible': None, 'kineticist_url': 'https://www.kineticist.com/pinball-machines/night-rider-1976'}",
         "[]",
         "2025"
        ],
        [
         "16",
         "184853",
         "2025-06-19 04:36:16.400000+00:00",
         "2025-06-18T21:36:16.400-07:00",
         "3745",
         "670",
         "20292.0",
         null,
         null,
         "{'id': 3745, 'name': 'Superelectric Pinball Parlour', 'street': '6500 Detroit Ave', 'city': 'Cleveland', 'state': 'OH', 'zip': '44102', 'phone': None, 'lat': '41.4842367', 'lon': '-81.7304346', 'website': 'https://superelectric.tv', 'created_at': '2013-06-26T09:29:15.987-07:00', 'updated_at': '2025-07-10T13:17:29.151-07:00', 'zone_id': None, 'region_id': 32, 'location_type_id': 1, 'description': 'Flat rate, play all day: $8. SS, DMD and EM in a mix.Hours: 4-11 PM Monday, Wednesday and Thursday. Friday and Saturday; 12-12; 12:00 PM – 6:00 PM Sundays.. Has full bar and bags of potato chips', 'operator_id': None, 'date_last_updated': '2025-07-10', 'last_updated_by_user_id': 22781, 'is_stern_army': True, 'country': 'US', 'ic_active': True, 'machine_count': 18}",
         "{'id': 670, 'name': 'Demolition Man', 'is_active': False, 'created_at': '2024-07-10T16:16:08.109-07:00', 'updated_at': '2023-01-17T10:44:22.580-08:00', 'ipdb_link': 'https://www.ipdb.org/machine.cgi?id=662', 'year': 1994, 'manufacturer': 'Williams', 'machine_group_id': None, 'ipdb_id': 662, 'opdb_id': 'G5bv3-MLW68', 'opdb_img': 'https://img.opdb.org/e7f27c59-5cb2-4931-b254-91a45479d659-medium.jpg', 'opdb_img_height': 433, 'opdb_img_width': 640, 'machine_type': 'ss', 'machine_display': 'dmd', 'ic_eligible': None, 'kineticist_url': 'https://www.kineticist.com/pinball-machines/demolition-man-1994'}",
         "[]",
         "2025"
        ],
        [
         "17",
         "184819",
         "2025-06-18 19:35:29.174000+00:00",
         "2025-06-18T12:35:29.502-07:00",
         "18872",
         "4533",
         "19683.0",
         null,
         "True",
         "{'id': 18872, 'name': 'Collision Bend Brewing Company', 'street': '1250 Old River Rd', 'city': 'Cleveland', 'state': 'OH', 'zip': '44113', 'phone': '(216) 273-7879', 'lat': '41.4987861', 'lon': '-81.7040533', 'website': 'https://www.collisionbendbrewery.com/', 'created_at': '2022-12-01T08:53:32.896-08:00', 'updated_at': '2025-06-18T12:33:19.352-07:00', 'zone_id': None, 'region_id': 32, 'location_type_id': 62, 'description': 'Home of 216 PINBALL   .50 - $1.00 per game. Has change machine in lobby. Amazing food,drinks and pinball fun. Check out 216 Pinball on Facebook, and instagram for tournaments and Special Events 🤙🏻 For the Dream. machines take $ bills.', 'operator_id': 615, 'date_last_updated': '2025-06-18', 'last_updated_by_user_id': 19683, 'is_stern_army': None, 'country': 'US', 'ic_active': True, 'machine_count': 11}",
         "{'id': 4533, 'name': 'King Kong: Myth of Terror Island (Pro)', 'is_active': None, 'created_at': '2025-04-28T11:38:12.421-07:00', 'updated_at': '2025-07-14T12:00:10.069-07:00', 'ipdb_link': None, 'year': 2025, 'manufacturer': 'Stern', 'machine_group_id': 125, 'ipdb_id': None, 'opdb_id': 'GEL0V-MBRyb', 'opdb_img': 'https://img.opdb.org/2c806e43-f42e-402c-936c-0088d339e03a-medium.jpg', 'opdb_img_height': 416, 'opdb_img_width': 640, 'machine_type': 'ss', 'machine_display': 'lcd', 'ic_eligible': True, 'kineticist_url': 'https://www.kineticist.com/pinball-machines/king-kong-myth-of-terror-island-2025'}",
         "[]",
         "2025"
        ],
        [
         "18",
         "184818",
         "2025-06-18 19:35:16.700000+00:00",
         "2025-06-18T12:35:16.999-07:00",
         "18872",
         "3022",
         "19683.0",
         null,
         "True",
         "{'id': 18872, 'name': 'Collision Bend Brewing Company', 'street': '1250 Old River Rd', 'city': 'Cleveland', 'state': 'OH', 'zip': '44113', 'phone': '(216) 273-7879', 'lat': '41.4987861', 'lon': '-81.7040533', 'website': 'https://www.collisionbendbrewery.com/', 'created_at': '2022-12-01T08:53:32.896-08:00', 'updated_at': '2025-06-18T12:33:19.352-07:00', 'zone_id': None, 'region_id': 32, 'location_type_id': 62, 'description': 'Home of 216 PINBALL   .50 - $1.00 per game. Has change machine in lobby. Amazing food,drinks and pinball fun. Check out 216 Pinball on Facebook, and instagram for tournaments and Special Events 🤙🏻 For the Dream. machines take $ bills.', 'operator_id': 615, 'date_last_updated': '2025-06-18', 'last_updated_by_user_id': 19683, 'is_stern_army': None, 'country': 'US', 'ic_active': True, 'machine_count': 11}",
         "{'id': 3022, 'name': 'Deadpool (Pro)', 'is_active': False, 'created_at': '2018-08-09T11:11:08.946-07:00', 'updated_at': '2023-04-18T20:05:02.662-07:00', 'ipdb_link': 'https://www.ipdb.org/machine.cgi?id=6558', 'year': 2018, 'manufacturer': 'Stern', 'machine_group_id': 70, 'ipdb_id': 6558, 'opdb_id': 'G6lnq-Mq1kv', 'opdb_img': 'https://img.opdb.org/4cb6b567-180c-4caf-83ab-159255de6061-medium.jpg', 'opdb_img_height': 366, 'opdb_img_width': 590, 'machine_type': 'ss', 'machine_display': 'lcd', 'ic_eligible': True, 'kineticist_url': 'https://www.kineticist.com/pinball-machines/deadpool-2018'}",
         "[]",
         "2025"
        ],
        [
         "19",
         "184817",
         "2025-06-18 19:35:04.354000+00:00",
         "2025-06-18T12:35:04.354-07:00",
         "18872",
         "3271",
         "19683.0",
         null,
         null,
         "{'id': 18872, 'name': 'Collision Bend Brewing Company', 'street': '1250 Old River Rd', 'city': 'Cleveland', 'state': 'OH', 'zip': '44113', 'phone': '(216) 273-7879', 'lat': '41.4987861', 'lon': '-81.7040533', 'website': 'https://www.collisionbendbrewery.com/', 'created_at': '2022-12-01T08:53:32.896-08:00', 'updated_at': '2025-06-18T12:33:19.352-07:00', 'zone_id': None, 'region_id': 32, 'location_type_id': 62, 'description': 'Home of 216 PINBALL   .50 - $1.00 per game. Has change machine in lobby. Amazing food,drinks and pinball fun. Check out 216 Pinball on Facebook, and instagram for tournaments and Special Events 🤙🏻 For the Dream. machines take $ bills.', 'operator_id': 615, 'date_last_updated': '2025-06-18', 'last_updated_by_user_id': 19683, 'is_stern_army': None, 'country': 'US', 'ic_active': True, 'machine_count': 11}",
         "{'id': 3271, 'name': \"Guns N' Roses (LE)\", 'is_active': False, 'created_at': '2020-10-05T14:58:47.569-07:00', 'updated_at': '2023-09-14T11:44:15.698-07:00', 'ipdb_link': 'https://www.ipdb.org/machine.cgi?id=6765', 'year': 2020, 'manufacturer': 'Jersey Jack', 'machine_group_id': 83, 'ipdb_id': 6765, 'opdb_id': 'GqZZ1-M85y9', 'opdb_img': 'https://img.opdb.org/e10c9093-1f78-4a34-a4a2-9a826ab1f561-medium.jpg', 'opdb_img_height': 580, 'opdb_img_width': 640, 'machine_type': 'ss', 'machine_display': 'lcd', 'ic_eligible': None, 'kineticist_url': 'https://www.kineticist.com/pinball-machines/guns-n-roses-2020'}",
         "[]",
         "2025"
        ],
        [
         "20",
         "184816",
         "2025-06-18 19:32:27.006000+00:00",
         "2025-07-10T17:11:55.237-07:00",
         "25401",
         "4516",
         "19683.0",
         "3.0",
         "True",
         "{'id': 25401, 'name': 'Beer Run & Some with Nimbus Vapors', 'street': '17800 Chillicothe Rd', 'city': 'Chagrin Falls', 'state': 'OH', 'zip': '44023', 'phone': '(440) 708-1309', 'lat': '41.3851088', 'lon': '-81.3411648', 'website': None, 'created_at': '2025-01-24T10:04:16.093-08:00', 'updated_at': '2025-06-29T15:57:33.434-07:00', 'zone_id': None, 'region_id': 32, 'location_type_id': 20, 'description': None, 'operator_id': 615, 'date_last_updated': '2025-06-29', 'last_updated_by_user_id': 20292, 'is_stern_army': None, 'country': 'US', 'ic_active': True, 'machine_count': 9}",
         "{'id': 4516, 'name': \"Dungeons & Dragons: The Tyrant's Eye (Pro)\", 'is_active': None, 'created_at': '2025-01-04T12:49:06.791-08:00', 'updated_at': '2025-02-16T08:11:03.038-08:00', 'ipdb_link': None, 'year': 2025, 'manufacturer': 'Stern', 'machine_group_id': 121, 'ipdb_id': None, 'opdb_id': 'GK1Ej-MwNZr', 'opdb_img': 'https://img.opdb.org/593fd16d-2e6a-4f82-b81e-1fb2f95e565e-medium.jpg', 'opdb_img_height': 408, 'opdb_img_width': 640, 'machine_type': 'ss', 'machine_display': 'lcd', 'ic_eligible': True, 'kineticist_url': 'https://www.kineticist.com/pinball-machines/dungeons--dragons-the-tyrants-eye-2025'}",
         "[]",
         "2025"
        ],
        [
         "21",
         "184815",
         "2025-06-18 19:32:16.132000+00:00",
         "2025-07-10T17:11:05.932-07:00",
         "25401",
         "3799",
         "19683.0",
         "2.0",
         "True",
         "{'id': 25401, 'name': 'Beer Run & Some with Nimbus Vapors', 'street': '17800 Chillicothe Rd', 'city': 'Chagrin Falls', 'state': 'OH', 'zip': '44023', 'phone': '(440) 708-1309', 'lat': '41.3851088', 'lon': '-81.3411648', 'website': None, 'created_at': '2025-01-24T10:04:16.093-08:00', 'updated_at': '2025-06-29T15:57:33.434-07:00', 'zone_id': None, 'region_id': 32, 'location_type_id': 20, 'description': None, 'operator_id': 615, 'date_last_updated': '2025-06-29', 'last_updated_by_user_id': 20292, 'is_stern_army': None, 'country': 'US', 'ic_active': True, 'machine_count': 9}",
         "{'id': 3799, 'name': 'JAWS (Pro)', 'is_active': None, 'created_at': '2024-01-05T18:38:48.074-08:00', 'updated_at': '2024-02-08T12:19:47.619-08:00', 'ipdb_link': None, 'year': 2024, 'manufacturer': 'Stern', 'machine_group_id': 106, 'ipdb_id': None, 'opdb_id': 'GLWll-MXr4N', 'opdb_img': 'https://img.opdb.org/80c09af9-aa5d-426d-8111-b5ab93e09cfb-medium.jpg', 'opdb_img_height': 354, 'opdb_img_width': 640, 'machine_type': 'ss', 'machine_display': 'lcd', 'ic_eligible': True, 'kineticist_url': 'https://www.kineticist.com/pinball-machines/jaws-2024'}",
         "[]",
         "2025"
        ],
        [
         "22",
         "184722",
         "2025-06-18 01:44:40.006000+00:00",
         "2025-06-17T18:44:40.006-07:00",
         "3392",
         "873",
         "34289.0",
         null,
         null,
         "{'id': 3392, 'name': 'Kidforce Pinball', 'street': '101 Front St', 'city': 'Berea', 'state': 'OH', 'zip': '44017', 'phone': '(440) 239-7777', 'lat': '41.3681272', 'lon': '-81.8534058', 'website': 'http://www.kidforcecollectibles.com/', 'created_at': '2013-01-19T09:40:12.412-08:00', 'updated_at': '2025-07-08T12:04:54.648-07:00', 'zone_id': None, 'region_id': 32, 'location_type_id': 1, 'description': 'Great place to play pinball and machines are well maintained.  I was in the area from out of state and thanks to pinballmap I found Kidforce!  All pins are in the dedicated storefront; $10, all you can play all day.\\r\\n\\r\\nSunday: Closed\\r\\nMon-Thurs: 4-9pm\\r\\nFri: 4-10pm\\r\\nSat: 12-9pm', 'operator_id': None, 'date_last_updated': '2025-07-08', 'last_updated_by_user_id': 3473, 'is_stern_army': True, 'country': 'US', 'ic_active': True, 'machine_count': 38}",
         "{'id': 873, 'name': 'Avatar', 'is_active': False, 'created_at': '2024-07-10T16:16:08.109-07:00', 'updated_at': '2023-01-17T10:44:25.917-08:00', 'ipdb_link': 'https://www.ipdb.org/machine.cgi?id=5618', 'year': 2010, 'manufacturer': 'Stern', 'machine_group_id': 15, 'ipdb_id': 5618, 'opdb_id': 'GrZBr-MDbx7', 'opdb_img': 'https://img.opdb.org/630d82d7-60d7-4938-8af1-98fa25c361ce-medium.jpg', 'opdb_img_height': 400, 'opdb_img_width': 496, 'machine_type': 'ss', 'machine_display': 'dmd', 'ic_eligible': None, 'kineticist_url': 'https://www.kineticist.com/pinball-machines/avatar-2010'}",
         "[]",
         "2025"
        ],
        [
         "23",
         "184706",
         "2025-06-17 20:53:35.136000+00:00",
         "2025-06-17T13:53:35.136-07:00",
         "26645",
         "705",
         null,
         null,
         null,
         "{'id': 26645, 'name': \"Fun 'n' Stuff\", 'street': '661 Highland Rd', 'city': 'Macedonia', 'state': 'OH', 'zip': '44056', 'phone': '(330) 467-0820', 'lat': '41.2995622', 'lon': '-81.5006738', 'website': 'http://fun-n-stuff.com/', 'created_at': '2025-06-17T13:53:35.107-07:00', 'updated_at': '2025-06-17T13:53:35.144-07:00', 'zone_id': None, 'region_id': 32, 'location_type_id': 42, 'description': None, 'operator_id': 636, 'date_last_updated': '2025-06-17', 'last_updated_by_user_id': 11979, 'is_stern_army': None, 'country': 'US', 'ic_active': None, 'machine_count': 1}",
         "{'id': 705, 'name': 'NASCAR', 'is_active': False, 'created_at': '2024-07-10T16:16:08.109-07:00', 'updated_at': '2023-01-17T10:44:26.275-08:00', 'ipdb_link': 'https://www.ipdb.org/machine.cgi?id=5093', 'year': 2005, 'manufacturer': 'Stern', 'machine_group_id': None, 'ipdb_id': 5093, 'opdb_id': 'G5YWX-MQ4VW', 'opdb_img': 'https://img.opdb.org/992f971f-e51a-430f-8bda-1fd832a654c3-medium.jpg', 'opdb_img_height': 452, 'opdb_img_width': 640, 'machine_type': 'ss', 'machine_display': 'dmd', 'ic_eligible': None, 'kineticist_url': 'https://www.kineticist.com/pinball-machines/nascar-2005'}",
         "[]",
         "2025"
        ],
        [
         "24",
         "184297",
         "2025-06-12 23:19:10.620000+00:00",
         "2025-06-12T16:19:10.620-07:00",
         "17650",
         "4533",
         "33981.0",
         null,
         null,
         "{'id': 17650, 'name': 'Game On Bar & Grill', 'street': '6425 Pearl Road', 'city': 'Parma Heights', 'state': 'OH', 'zip': '44130', 'phone': '440-340-4678', 'lat': '41.385804', 'lon': '-81.7684054', 'website': 'https://www.facebook.com/gameonparmahts', 'created_at': '2022-05-23T22:36:52.788-07:00', 'updated_at': '2025-06-12T16:19:10.615-07:00', 'zone_id': None, 'region_id': 32, 'location_type_id': 14, 'description': 'Tables all take quarters and have bill acceptors. Some tables do the $2 for 3 games deal. ATM and change machine on site. Tables are all immaculate!', 'operator_id': None, 'date_last_updated': '2025-06-12', 'last_updated_by_user_id': 33981, 'is_stern_army': None, 'country': 'US', 'ic_active': True, 'machine_count': 8}",
         "{'id': 4533, 'name': 'King Kong: Myth of Terror Island (Pro)', 'is_active': None, 'created_at': '2025-04-28T11:38:12.421-07:00', 'updated_at': '2025-07-14T12:00:10.069-07:00', 'ipdb_link': None, 'year': 2025, 'manufacturer': 'Stern', 'machine_group_id': 125, 'ipdb_id': None, 'opdb_id': 'GEL0V-MBRyb', 'opdb_img': 'https://img.opdb.org/2c806e43-f42e-402c-936c-0088d339e03a-medium.jpg', 'opdb_img_height': 416, 'opdb_img_width': 640, 'machine_type': 'ss', 'machine_display': 'lcd', 'ic_eligible': True, 'kineticist_url': 'https://www.kineticist.com/pinball-machines/king-kong-myth-of-terror-island-2025'}",
         "[]",
         "2025"
        ],
        [
         "25",
         "184271",
         "2025-06-12 19:17:33.261000+00:00",
         "2025-06-12T12:17:33.404-07:00",
         "15189",
         "3673",
         "31458.0",
         null,
         "True",
         "{'id': 15189, 'name': 'Forest City Shuffleboard Arena & Bar', 'street': '4506 Lorain Ave', 'city': 'Cleveland', 'state': 'OH', 'zip': '44102', 'phone': '(440) 829-2196', 'lat': '41.4789273', 'lon': '-81.718226', 'website': 'http://forestcityshuffle.com', 'created_at': '2021-02-08T16:46:00.589-08:00', 'updated_at': '2025-06-12T12:17:23.431-07:00', 'zone_id': None, 'region_id': 32, 'location_type_id': 4, 'description': None, 'operator_id': None, 'date_last_updated': '2025-06-12', 'last_updated_by_user_id': 31458, 'is_stern_army': None, 'country': 'US', 'ic_active': True, 'machine_count': 2}",
         "{'id': 3673, 'name': 'Foo Fighters (Pro)', 'is_active': False, 'created_at': '2023-02-28T13:00:34.666-08:00', 'updated_at': '2023-09-12T12:06:24.875-07:00', 'ipdb_link': None, 'year': 2023, 'manufacturer': 'Stern', 'machine_group_id': 99, 'ipdb_id': None, 'opdb_id': 'GpeoL-MyNPq', 'opdb_img': 'https://img.opdb.org/bc8f4662-5be2-4d79-b020-21c9b5cacd1a-medium.jpg', 'opdb_img_height': 286, 'opdb_img_width': 460, 'machine_type': 'ss', 'machine_display': 'lcd', 'ic_eligible': True, 'kineticist_url': 'https://www.kineticist.com/pinball-machines/foo-fighters-2023'}",
         "[]",
         "2025"
        ],
        [
         "26",
         "184270",
         "2025-06-12 19:17:23.422000+00:00",
         "2025-06-12T12:17:23.648-07:00",
         "15189",
         "3640",
         "31458.0",
         null,
         "True",
         "{'id': 15189, 'name': 'Forest City Shuffleboard Arena & Bar', 'street': '4506 Lorain Ave', 'city': 'Cleveland', 'state': 'OH', 'zip': '44102', 'phone': '(440) 829-2196', 'lat': '41.4789273', 'lon': '-81.718226', 'website': 'http://forestcityshuffle.com', 'created_at': '2021-02-08T16:46:00.589-08:00', 'updated_at': '2025-06-12T12:17:23.431-07:00', 'zone_id': None, 'region_id': 32, 'location_type_id': 4, 'description': None, 'operator_id': None, 'date_last_updated': '2025-06-12', 'last_updated_by_user_id': 31458, 'is_stern_army': None, 'country': 'US', 'ic_active': True, 'machine_count': 2}",
         "{'id': 3640, 'name': 'James Bond 007 (Pro)', 'is_active': False, 'created_at': '2022-09-22T16:25:27.946-07:00', 'updated_at': '2023-09-14T11:44:15.999-07:00', 'ipdb_link': 'https://www.ipdb.org/machine.cgi?id=6896', 'year': 2022, 'manufacturer': 'Stern', 'machine_group_id': 95, 'ipdb_id': 6896, 'opdb_id': 'GQKyP-Mx0O4', 'opdb_img': 'https://img.opdb.org/696f28f7-443e-4bab-97a6-69d2ec333005-medium.jpg', 'opdb_img_height': 300, 'opdb_img_width': 500, 'machine_type': 'ss', 'machine_display': 'lcd', 'ic_eligible': True, 'kineticist_url': 'https://www.kineticist.com/pinball-machines/james-bond-007-2022'}",
         "[]",
         "2025"
        ],
        [
         "27",
         "184254",
         "2025-06-12 18:09:42.280000+00:00",
         "2025-06-12T11:09:42.280-07:00",
         "3392",
         "703",
         "3473.0",
         null,
         null,
         "{'id': 3392, 'name': 'Kidforce Pinball', 'street': '101 Front St', 'city': 'Berea', 'state': 'OH', 'zip': '44017', 'phone': '(440) 239-7777', 'lat': '41.3681272', 'lon': '-81.8534058', 'website': 'http://www.kidforcecollectibles.com/', 'created_at': '2013-01-19T09:40:12.412-08:00', 'updated_at': '2025-07-08T12:04:54.648-07:00', 'zone_id': None, 'region_id': 32, 'location_type_id': 1, 'description': 'Great place to play pinball and machines are well maintained.  I was in the area from out of state and thanks to pinballmap I found Kidforce!  All pins are in the dedicated storefront; $10, all you can play all day.\\r\\n\\r\\nSunday: Closed\\r\\nMon-Thurs: 4-9pm\\r\\nFri: 4-10pm\\r\\nSat: 12-9pm', 'operator_id': None, 'date_last_updated': '2025-07-08', 'last_updated_by_user_id': 3473, 'is_stern_army': True, 'country': 'US', 'ic_active': True, 'machine_count': 38}",
         "{'id': 703, 'name': 'Funhouse', 'is_active': False, 'created_at': '2024-07-10T16:16:08.109-07:00', 'updated_at': '2023-01-17T10:44:29.431-08:00', 'ipdb_link': 'https://www.ipdb.org/machine.cgi?id=966', 'year': 1990, 'manufacturer': 'Williams', 'machine_group_id': None, 'ipdb_id': 966, 'opdb_id': 'G5Dz7-Mq139', 'opdb_img': 'https://img.opdb.org/6ff7016e-5d1c-4615-b9c8-2aa6d7979b0d-medium.jpg', 'opdb_img_height': 437, 'opdb_img_width': 640, 'machine_type': 'ss', 'machine_display': 'alphanumeric', 'ic_eligible': None, 'kineticist_url': 'https://www.kineticist.com/pinball-machines/funhouse-1990'}",
         "[]",
         "2025"
        ],
        [
         "28",
         "184157",
         "2025-06-11 23:49:11.722000+00:00",
         "2025-06-11T16:49:11.722-07:00",
         "26562",
         "683",
         null,
         null,
         null,
         "{'id': 26562, 'name': 'Game On Arcade', 'street': '527 W Tuscarawas Ave', 'city': 'Barberton', 'state': 'OH', 'zip': '44203', 'phone': None, 'lat': '41.0130905', 'lon': '-81.609075', 'website': None, 'created_at': '2025-06-11T16:49:11.494-07:00', 'updated_at': '2025-07-05T11:55:31.159-07:00', 'zone_id': None, 'region_id': 32, 'location_type_id': 1, 'description': '35+ New/Excellent condition Pinball and Arcade Games. All Stern games are on insider connect with digital scoreboard. Many LE”s and Premium versions from all manufacturers.', 'operator_id': None, 'date_last_updated': '2025-07-05', 'last_updated_by_user_id': 31887, 'is_stern_army': None, 'country': 'US', 'ic_active': True, 'machine_count': 16}",
         "{'id': 683, 'name': 'South Park', 'is_active': False, 'created_at': '2024-07-10T16:16:08.109-07:00', 'updated_at': '2023-01-17T10:44:27.793-08:00', 'ipdb_link': 'https://www.ipdb.org/machine.cgi?id=4444', 'year': 1999, 'manufacturer': 'Sega', 'machine_group_id': None, 'ipdb_id': 4444, 'opdb_id': 'G4qbD-MQpxv', 'opdb_img': 'https://img.opdb.org/f83feb7e-56bd-4128-b78c-b99deb09982d-medium.jpg', 'opdb_img_height': 385, 'opdb_img_width': 640, 'machine_type': 'ss', 'machine_display': 'dmd', 'ic_eligible': None, 'kineticist_url': 'https://www.kineticist.com/pinball-machines/south-park-1999'}",
         "[]",
         "2025"
        ],
        [
         "29",
         "184156",
         "2025-06-11 23:49:11.710000+00:00",
         "2025-06-12T10:03:54.173-07:00",
         "26562",
         "3740",
         null,
         null,
         "True",
         "{'id': 26562, 'name': 'Game On Arcade', 'street': '527 W Tuscarawas Ave', 'city': 'Barberton', 'state': 'OH', 'zip': '44203', 'phone': None, 'lat': '41.0130905', 'lon': '-81.609075', 'website': None, 'created_at': '2025-06-11T16:49:11.494-07:00', 'updated_at': '2025-07-05T11:55:31.159-07:00', 'zone_id': None, 'region_id': 32, 'location_type_id': 1, 'description': '35+ New/Excellent condition Pinball and Arcade Games. All Stern games are on insider connect with digital scoreboard. Many LE”s and Premium versions from all manufacturers.', 'operator_id': None, 'date_last_updated': '2025-07-05', 'last_updated_by_user_id': 31887, 'is_stern_army': None, 'country': 'US', 'ic_active': True, 'machine_count': 16}",
         "{'id': 3740, 'name': 'Venom (LE)', 'is_active': None, 'created_at': '2023-07-17T10:40:56.144-07:00', 'updated_at': '2023-09-14T11:44:16.797-07:00', 'ipdb_link': None, 'year': 2023, 'manufacturer': 'Stern', 'machine_group_id': 104, 'ipdb_id': None, 'opdb_id': 'G3EBl-MRj6e-ARzbx', 'opdb_img': 'https://img.opdb.org/bad590b0-4231-4698-b378-3f4e438fc89d-medium.jpg', 'opdb_img_height': 393, 'opdb_img_width': 640, 'machine_type': 'ss', 'machine_display': 'lcd', 'ic_eligible': True, 'kineticist_url': 'https://www.kineticist.com/pinball-machines/venom-2023'}",
         "[]",
         "2025"
        ],
        [
         "30",
         "184155",
         "2025-06-11 23:49:11.698000+00:00",
         "2025-06-11T16:49:11.698-07:00",
         "26562",
         "2175",
         null,
         null,
         null,
         "{'id': 26562, 'name': 'Game On Arcade', 'street': '527 W Tuscarawas Ave', 'city': 'Barberton', 'state': 'OH', 'zip': '44203', 'phone': None, 'lat': '41.0130905', 'lon': '-81.609075', 'website': None, 'created_at': '2025-06-11T16:49:11.494-07:00', 'updated_at': '2025-07-05T11:55:31.159-07:00', 'zone_id': None, 'region_id': 32, 'location_type_id': 1, 'description': '35+ New/Excellent condition Pinball and Arcade Games. All Stern games are on insider connect with digital scoreboard. Many LE”s and Premium versions from all manufacturers.', 'operator_id': None, 'date_last_updated': '2025-07-05', 'last_updated_by_user_id': 31887, 'is_stern_army': None, 'country': 'US', 'ic_active': True, 'machine_count': 16}",
         "{'id': 2175, 'name': 'Iron Man (Vault Edition)', 'is_active': None, 'created_at': '2014-09-11T20:06:40.244-07:00', 'updated_at': '2023-01-17T10:44:30.679-08:00', 'ipdb_link': 'https://www.ipdb.org/machine.cgi?id=6154', 'year': 2014, 'manufacturer': 'Stern', 'machine_group_id': 5, 'ipdb_id': 6154, 'opdb_id': 'GRVq4-M4oNp', 'opdb_img': None, 'opdb_img_height': None, 'opdb_img_width': None, 'machine_type': 'ss', 'machine_display': 'dmd', 'ic_eligible': None, 'kineticist_url': 'https://www.kineticist.com/pinball-machines/iron-man-2010'}",
         "[]",
         "2025"
        ],
        [
         "31",
         "184154",
         "2025-06-11 23:49:11.672000+00:00",
         "2025-06-11T16:49:11.672-07:00",
         "26562",
         "3832",
         null,
         null,
         null,
         "{'id': 26562, 'name': 'Game On Arcade', 'street': '527 W Tuscarawas Ave', 'city': 'Barberton', 'state': 'OH', 'zip': '44203', 'phone': None, 'lat': '41.0130905', 'lon': '-81.609075', 'website': None, 'created_at': '2025-06-11T16:49:11.494-07:00', 'updated_at': '2025-07-05T11:55:31.159-07:00', 'zone_id': None, 'region_id': 32, 'location_type_id': 1, 'description': '35+ New/Excellent condition Pinball and Arcade Games. All Stern games are on insider connect with digital scoreboard. Many LE”s and Premium versions from all manufacturers.', 'operator_id': None, 'date_last_updated': '2025-07-05', 'last_updated_by_user_id': 31887, 'is_stern_army': None, 'country': 'US', 'ic_active': True, 'machine_count': 16}",
         "{'id': 3832, 'name': \"Barry O's Barbecue Challenge (CE)\", 'is_active': None, 'created_at': '2024-03-08T14:00:02.051-08:00', 'updated_at': '2024-03-11T11:40:50.740-07:00', 'ipdb_link': None, 'year': 2024, 'manufacturer': 'American', 'machine_group_id': 110, 'ipdb_id': None, 'opdb_id': 'GK1Kv-ME0E0-A9PJq', 'opdb_img': 'https://img.opdb.org/6761e0d1-67dd-4eab-b96e-491d6c7b8868-medium.jpg', 'opdb_img_height': 396, 'opdb_img_width': 628, 'machine_type': 'ss', 'machine_display': 'lcd', 'ic_eligible': None, 'kineticist_url': 'https://www.kineticist.com/pinball-machines/barry-os-barbecue-challenge-2024'}",
         "[]",
         "2025"
        ],
        [
         "32",
         "184153",
         "2025-06-11 23:49:11.656000+00:00",
         "2025-07-05T11:55:54.365-07:00",
         "26562",
         "2844",
         "31887.0",
         null,
         "True",
         "{'id': 26562, 'name': 'Game On Arcade', 'street': '527 W Tuscarawas Ave', 'city': 'Barberton', 'state': 'OH', 'zip': '44203', 'phone': None, 'lat': '41.0130905', 'lon': '-81.609075', 'website': None, 'created_at': '2025-06-11T16:49:11.494-07:00', 'updated_at': '2025-07-05T11:55:31.159-07:00', 'zone_id': None, 'region_id': 32, 'location_type_id': 1, 'description': '35+ New/Excellent condition Pinball and Arcade Games. All Stern games are on insider connect with digital scoreboard. Many LE”s and Premium versions from all manufacturers.', 'operator_id': None, 'date_last_updated': '2025-07-05', 'last_updated_by_user_id': 31887, 'is_stern_army': None, 'country': 'US', 'ic_active': True, 'machine_count': 16}",
         "{'id': 2844, 'name': 'Star Wars (Premium)', 'is_active': False, 'created_at': '2017-07-12T16:35:45.148-07:00', 'updated_at': '2025-07-14T12:00:07.975-07:00', 'ipdb_link': 'https://www.ipdb.org/machine.cgi?id=6429', 'year': 2017, 'manufacturer': 'Stern', 'machine_group_id': 64, 'ipdb_id': 6429, 'opdb_id': 'G5vLR-ME049', 'opdb_img': 'https://img.opdb.org/ee69ef45-e28a-4f8b-ae2d-a9ee4f0e01aa-medium.jpg', 'opdb_img_height': 415, 'opdb_img_width': 640, 'machine_type': 'ss', 'machine_display': 'lcd', 'ic_eligible': True, 'kineticist_url': 'https://www.kineticist.com/pinball-machines/star-wars-2017'}",
         "[{'id': 130993, 'comment': 'Connected', 'location_machine_xref_id': 184153, 'created_at': '2025-07-05T11:55:54.352-07:00', 'updated_at': '2025-07-05T11:55:54.352-07:00', 'user_id': 31887, 'username': 'sampinball'}, {'id': 130618, 'comment': 'Marvin working on getting it insider connected', 'location_machine_xref_id': 184153, 'created_at': '2025-06-28T17:51:13.528-07:00', 'updated_at': '2025-06-28T17:51:13.528-07:00', 'user_id': 10179, 'username': 'seamus1979'}]",
         "2025"
        ],
        [
         "33",
         "184152",
         "2025-06-11 23:49:11.643000+00:00",
         "2025-07-05T11:55:31.178-07:00",
         "26562",
         "2727",
         "31887.0",
         null,
         "True",
         "{'id': 26562, 'name': 'Game On Arcade', 'street': '527 W Tuscarawas Ave', 'city': 'Barberton', 'state': 'OH', 'zip': '44203', 'phone': None, 'lat': '41.0130905', 'lon': '-81.609075', 'website': None, 'created_at': '2025-06-11T16:49:11.494-07:00', 'updated_at': '2025-07-05T11:55:31.159-07:00', 'zone_id': None, 'region_id': 32, 'location_type_id': 1, 'description': '35+ New/Excellent condition Pinball and Arcade Games. All Stern games are on insider connect with digital scoreboard. Many LE”s and Premium versions from all manufacturers.', 'operator_id': None, 'date_last_updated': '2025-07-05', 'last_updated_by_user_id': 31887, 'is_stern_army': None, 'country': 'US', 'ic_active': True, 'machine_count': 16}",
         "{'id': 2727, 'name': 'Batman 66 (Premium)', 'is_active': None, 'created_at': '2016-10-13T11:41:50.853-07:00', 'updated_at': '2023-09-12T12:06:24.002-07:00', 'ipdb_link': 'https://www.ipdb.org/machine.cgi?id=6354', 'year': 2016, 'manufacturer': 'Stern', 'machine_group_id': 59, 'ipdb_id': 6354, 'opdb_id': 'GRoz4-MjBV6', 'opdb_img': 'https://img.opdb.org/438ac4d5-b945-4d1b-849a-aa0c6169b8da-medium.jpg', 'opdb_img_height': 409, 'opdb_img_width': 640, 'machine_type': 'ss', 'machine_display': 'lcd', 'ic_eligible': True, 'kineticist_url': 'https://www.kineticist.com/pinball-machines/batman-66-2016'}",
         "[{'id': 130992, 'comment': 'Connected', 'location_machine_xref_id': 184152, 'created_at': '2025-07-05T11:55:31.167-07:00', 'updated_at': '2025-07-05T11:55:31.167-07:00', 'user_id': 31887, 'username': 'sampinball'}, {'id': 130617, 'comment': 'Marvin is working to get it updated to be insider connected.', 'location_machine_xref_id': 184152, 'created_at': '2025-06-28T17:50:40.611-07:00', 'updated_at': '2025-06-28T17:50:40.611-07:00', 'user_id': 10179, 'username': 'seamus1979'}]",
         "2025"
        ],
        [
         "34",
         "184151",
         "2025-06-11 23:49:11.632000+00:00",
         "2025-06-28T17:53:37.992-07:00",
         "26562",
         "3801",
         "10179.0",
         null,
         "True",
         "{'id': 26562, 'name': 'Game On Arcade', 'street': '527 W Tuscarawas Ave', 'city': 'Barberton', 'state': 'OH', 'zip': '44203', 'phone': None, 'lat': '41.0130905', 'lon': '-81.609075', 'website': None, 'created_at': '2025-06-11T16:49:11.494-07:00', 'updated_at': '2025-07-05T11:55:31.159-07:00', 'zone_id': None, 'region_id': 32, 'location_type_id': 1, 'description': '35+ New/Excellent condition Pinball and Arcade Games. All Stern games are on insider connect with digital scoreboard. Many LE”s and Premium versions from all manufacturers.', 'operator_id': None, 'date_last_updated': '2025-07-05', 'last_updated_by_user_id': 31887, 'is_stern_army': None, 'country': 'US', 'ic_active': True, 'machine_count': 16}",
         "{'id': 3801, 'name': 'JAWS (LE)', 'is_active': None, 'created_at': '2024-01-05T18:40:01.482-08:00', 'updated_at': '2024-02-08T12:20:00.327-08:00', 'ipdb_link': None, 'year': 2024, 'manufacturer': 'Stern', 'machine_group_id': 106, 'ipdb_id': None, 'opdb_id': 'GLWll-M1r8O-A1kx7', 'opdb_img': 'https://img.opdb.org/321b09e1-098d-4cb9-9825-cde518459b87-medium.jpg', 'opdb_img_height': 354, 'opdb_img_width': 640, 'machine_type': 'ss', 'machine_display': 'lcd', 'ic_eligible': True, 'kineticist_url': 'https://www.kineticist.com/pinball-machines/jaws-2024'}",
         "[]",
         "2025"
        ],
        [
         "35",
         "184150",
         "2025-06-11 23:49:11.620000+00:00",
         "2025-06-11T16:49:11.620-07:00",
         "26562",
         "1118",
         null,
         null,
         null,
         "{'id': 26562, 'name': 'Game On Arcade', 'street': '527 W Tuscarawas Ave', 'city': 'Barberton', 'state': 'OH', 'zip': '44203', 'phone': None, 'lat': '41.0130905', 'lon': '-81.609075', 'website': None, 'created_at': '2025-06-11T16:49:11.494-07:00', 'updated_at': '2025-07-05T11:55:31.159-07:00', 'zone_id': None, 'region_id': 32, 'location_type_id': 1, 'description': '35+ New/Excellent condition Pinball and Arcade Games. All Stern games are on insider connect with digital scoreboard. Many LE”s and Premium versions from all manufacturers.', 'operator_id': None, 'date_last_updated': '2025-07-05', 'last_updated_by_user_id': 31887, 'is_stern_army': None, 'country': 'US', 'ic_active': True, 'machine_count': 16}",
         "{'id': 1118, 'name': 'TRON: Legacy', 'is_active': False, 'created_at': '2024-07-10T16:16:08.109-07:00', 'updated_at': '2023-01-17T10:44:27.569-08:00', 'ipdb_link': 'https://www.ipdb.org/machine.cgi?id=5682', 'year': 2011, 'manufacturer': 'Stern', 'machine_group_id': 9, 'ipdb_id': 5682, 'opdb_id': 'GrkL5-MLvrX', 'opdb_img': 'https://img.opdb.org/1b2c4cd0-3ffd-4049-878a-3e3267b06a9c-medium.jpg', 'opdb_img_height': 415, 'opdb_img_width': 550, 'machine_type': 'ss', 'machine_display': 'dmd', 'ic_eligible': None, 'kineticist_url': 'https://www.kineticist.com/pinball-machines/tron-legacy-2011'}",
         "[]",
         "2025"
        ],
        [
         "36",
         "184149",
         "2025-06-11 23:49:11.607000+00:00",
         "2025-06-28T17:52:08.363-07:00",
         "26562",
         "3169",
         "10179.0",
         null,
         "False",
         "{'id': 26562, 'name': 'Game On Arcade', 'street': '527 W Tuscarawas Ave', 'city': 'Barberton', 'state': 'OH', 'zip': '44203', 'phone': None, 'lat': '41.0130905', 'lon': '-81.609075', 'website': None, 'created_at': '2025-06-11T16:49:11.494-07:00', 'updated_at': '2025-07-05T11:55:31.159-07:00', 'zone_id': None, 'region_id': 32, 'location_type_id': 1, 'description': '35+ New/Excellent condition Pinball and Arcade Games. All Stern games are on insider connect with digital scoreboard. Many LE”s and Premium versions from all manufacturers.', 'operator_id': None, 'date_last_updated': '2025-07-05', 'last_updated_by_user_id': 31887, 'is_stern_army': None, 'country': 'US', 'ic_active': True, 'machine_count': 16}",
         "{'id': 3169, 'name': 'Jurassic Park (Premium)', 'is_active': False, 'created_at': '2019-07-26T20:38:22.589-07:00', 'updated_at': '2023-04-18T20:05:23.277-07:00', 'ipdb_link': 'https://www.ipdb.org/machine.cgi?id=6574', 'year': 2019, 'manufacturer': 'Stern', 'machine_group_id': 78, 'ipdb_id': 6574, 'opdb_id': 'GK17D-MKNKd-A15Yn', 'opdb_img': 'https://img.opdb.org/076433ba-52f0-47cf-9dda-f78bbeb752aa-medium.jpg', 'opdb_img_height': 411, 'opdb_img_width': 640, 'machine_type': 'ss', 'machine_display': 'lcd', 'ic_eligible': True, 'kineticist_url': 'https://www.kineticist.com/pinball-machines/jurassic-park-2019'}",
         "[{'id': 130619, 'comment': 'Custom version with clips from the first movie. No scanner for insider connected.', 'location_machine_xref_id': 184149, 'created_at': '2025-06-28T17:52:08.357-07:00', 'updated_at': '2025-06-28T17:52:08.357-07:00', 'user_id': 10179, 'username': 'seamus1979'}]",
         "2025"
        ],
        [
         "37",
         "184148",
         "2025-06-11 23:49:11.594000+00:00",
         "2025-06-12T10:03:51.675-07:00",
         "26562",
         "3228",
         null,
         null,
         "True",
         "{'id': 26562, 'name': 'Game On Arcade', 'street': '527 W Tuscarawas Ave', 'city': 'Barberton', 'state': 'OH', 'zip': '44203', 'phone': None, 'lat': '41.0130905', 'lon': '-81.609075', 'website': None, 'created_at': '2025-06-11T16:49:11.494-07:00', 'updated_at': '2025-07-05T11:55:31.159-07:00', 'zone_id': None, 'region_id': 32, 'location_type_id': 1, 'description': '35+ New/Excellent condition Pinball and Arcade Games. All Stern games are on insider connect with digital scoreboard. Many LE”s and Premium versions from all manufacturers.', 'operator_id': None, 'date_last_updated': '2025-07-05', 'last_updated_by_user_id': 31887, 'is_stern_army': None, 'country': 'US', 'ic_active': True, 'machine_count': 16}",
         "{'id': 3228, 'name': 'Stranger Things (LE)', 'is_active': False, 'created_at': '2019-12-23T13:06:32.028-08:00', 'updated_at': '2023-04-18T20:05:59.501-07:00', 'ipdb_link': 'https://www.ipdb.org/machine.cgi?id=6644', 'year': 2019, 'manufacturer': 'Stern', 'machine_group_id': 80, 'ipdb_id': 6644, 'opdb_id': 'Gzy89-M0oPy-A9xXV', 'opdb_img': 'https://img.opdb.org/32d25c1d-3d71-43c8-8539-74ecbcf5d8e9-medium.jpg', 'opdb_img_height': 416, 'opdb_img_width': 640, 'machine_type': 'ss', 'machine_display': 'lcd', 'ic_eligible': True, 'kineticist_url': 'https://www.kineticist.com/pinball-machines/stranger-things-2019'}",
         "[]",
         "2025"
        ],
        [
         "38",
         "184147",
         "2025-06-11 23:49:11.583000+00:00",
         "2025-06-12T10:03:46.149-07:00",
         "26562",
         "4534",
         null,
         null,
         "True",
         "{'id': 26562, 'name': 'Game On Arcade', 'street': '527 W Tuscarawas Ave', 'city': 'Barberton', 'state': 'OH', 'zip': '44203', 'phone': None, 'lat': '41.0130905', 'lon': '-81.609075', 'website': None, 'created_at': '2025-06-11T16:49:11.494-07:00', 'updated_at': '2025-07-05T11:55:31.159-07:00', 'zone_id': None, 'region_id': 32, 'location_type_id': 1, 'description': '35+ New/Excellent condition Pinball and Arcade Games. All Stern games are on insider connect with digital scoreboard. Many LE”s and Premium versions from all manufacturers.', 'operator_id': None, 'date_last_updated': '2025-07-05', 'last_updated_by_user_id': 31887, 'is_stern_army': None, 'country': 'US', 'ic_active': True, 'machine_count': 16}",
         "{'id': 4534, 'name': 'King Kong: Myth of Terror Island (Premium)', 'is_active': None, 'created_at': '2025-04-28T11:38:53.998-07:00', 'updated_at': '2025-05-17T15:50:56.963-07:00', 'ipdb_link': None, 'year': 2025, 'manufacturer': 'Stern', 'machine_group_id': 125, 'ipdb_id': None, 'opdb_id': 'GEL0V-MyN8E-A1Dkr', 'opdb_img': 'https://img.opdb.org/359b002f-0eac-4999-b582-67238bbeb9e5-medium.jpg', 'opdb_img_height': 408, 'opdb_img_width': 640, 'machine_type': 'ss', 'machine_display': 'lcd', 'ic_eligible': True, 'kineticist_url': 'https://www.kineticist.com/pinball-machines/king-kong-myth-of-terror-island-2025'}",
         "[]",
         "2025"
        ],
        [
         "39",
         "184146",
         "2025-06-11 23:49:11.571000+00:00",
         "2025-06-12T10:02:46.114-07:00",
         "26562",
         "4500",
         null,
         null,
         "True",
         "{'id': 26562, 'name': 'Game On Arcade', 'street': '527 W Tuscarawas Ave', 'city': 'Barberton', 'state': 'OH', 'zip': '44203', 'phone': None, 'lat': '41.0130905', 'lon': '-81.609075', 'website': None, 'created_at': '2025-06-11T16:49:11.494-07:00', 'updated_at': '2025-07-05T11:55:31.159-07:00', 'zone_id': None, 'region_id': 32, 'location_type_id': 1, 'description': '35+ New/Excellent condition Pinball and Arcade Games. All Stern games are on insider connect with digital scoreboard. Many LE”s and Premium versions from all manufacturers.', 'operator_id': None, 'date_last_updated': '2025-07-05', 'last_updated_by_user_id': 31887, 'is_stern_army': None, 'country': 'US', 'ic_active': True, 'machine_count': 16}",
         "{'id': 4500, 'name': 'Godzilla (70th Anniversary)', 'is_active': None, 'created_at': '2024-08-02T08:16:50.796-07:00', 'updated_at': '2024-09-06T21:03:06.401-07:00', 'ipdb_link': None, 'year': 2024, 'manufacturer': 'Stern', 'machine_group_id': 88, 'ipdb_id': None, 'opdb_id': 'GweeP-Ml9pZ-AOvNL', 'opdb_img': 'https://img.opdb.org/f9c9b40d-8953-49bc-8d41-3b53fab1c775-medium.jpg', 'opdb_img_height': 399, 'opdb_img_width': 640, 'machine_type': 'ss', 'machine_display': 'lcd', 'ic_eligible': True, 'kineticist_url': 'https://www.kineticist.com/pinball-machines/godzilla-2021'}",
         "[]",
         "2025"
        ],
        [
         "40",
         "184145",
         "2025-06-11 23:49:11.558000+00:00",
         "2025-06-12T10:02:55.420-07:00",
         "26562",
         "3642",
         null,
         null,
         "True",
         "{'id': 26562, 'name': 'Game On Arcade', 'street': '527 W Tuscarawas Ave', 'city': 'Barberton', 'state': 'OH', 'zip': '44203', 'phone': None, 'lat': '41.0130905', 'lon': '-81.609075', 'website': None, 'created_at': '2025-06-11T16:49:11.494-07:00', 'updated_at': '2025-07-05T11:55:31.159-07:00', 'zone_id': None, 'region_id': 32, 'location_type_id': 1, 'description': '35+ New/Excellent condition Pinball and Arcade Games. All Stern games are on insider connect with digital scoreboard. Many LE”s and Premium versions from all manufacturers.', 'operator_id': None, 'date_last_updated': '2025-07-05', 'last_updated_by_user_id': 31887, 'is_stern_army': None, 'country': 'US', 'ic_active': True, 'machine_count': 16}",
         "{'id': 3642, 'name': 'James Bond 007 (LE)', 'is_active': False, 'created_at': '2022-09-22T16:26:11.081-07:00', 'updated_at': '2023-09-14T11:44:16.665-07:00', 'ipdb_link': 'https://www.ipdb.org/machine.cgi?id=6898', 'year': 2022, 'manufacturer': 'Stern', 'machine_group_id': 95, 'ipdb_id': 6898, 'opdb_id': 'GQKyP-MP3OK-A1KoX', 'opdb_img': 'https://img.opdb.org/5a317604-63cc-490c-84cc-49b2748da9a4-medium.jpg', 'opdb_img_height': 396, 'opdb_img_width': 640, 'machine_type': 'ss', 'machine_display': 'lcd', 'ic_eligible': True, 'kineticist_url': 'https://www.kineticist.com/pinball-machines/james-bond-007-2022'}",
         "[]",
         "2025"
        ],
        [
         "41",
         "184144",
         "2025-06-11 23:49:11.545000+00:00",
         "2025-06-11T16:49:11.545-07:00",
         "26562",
         "654",
         null,
         null,
         null,
         "{'id': 26562, 'name': 'Game On Arcade', 'street': '527 W Tuscarawas Ave', 'city': 'Barberton', 'state': 'OH', 'zip': '44203', 'phone': None, 'lat': '41.0130905', 'lon': '-81.609075', 'website': None, 'created_at': '2025-06-11T16:49:11.494-07:00', 'updated_at': '2025-07-05T11:55:31.159-07:00', 'zone_id': None, 'region_id': 32, 'location_type_id': 1, 'description': '35+ New/Excellent condition Pinball and Arcade Games. All Stern games are on insider connect with digital scoreboard. Many LE”s and Premium versions from all manufacturers.', 'operator_id': None, 'date_last_updated': '2025-07-05', 'last_updated_by_user_id': 31887, 'is_stern_army': None, 'country': 'US', 'ic_active': True, 'machine_count': 16}",
         "{'id': 654, 'name': 'Fish Tales', 'is_active': False, 'created_at': '2024-07-10T16:16:08.109-07:00', 'updated_at': '2023-01-17T10:44:26.942-08:00', 'ipdb_link': 'https://www.ipdb.org/machine.cgi?id=861', 'year': 1992, 'manufacturer': 'Williams', 'machine_group_id': None, 'ipdb_id': 861, 'opdb_id': 'G5Wxd-MLxl3', 'opdb_img': 'https://img.opdb.org/a7c8a8a1-2f47-4be7-9457-08ecc1c2b734-medium.jpg', 'opdb_img_height': 387, 'opdb_img_width': 563, 'machine_type': 'ss', 'machine_display': 'dmd', 'ic_eligible': None, 'kineticist_url': 'https://www.kineticist.com/pinball-machines/fish-tales-1992'}",
         "[]",
         "2025"
        ],
        [
         "42",
         "184143",
         "2025-06-11 23:49:11.532000+00:00",
         "2025-06-11T16:49:11.532-07:00",
         "26562",
         "3423",
         null,
         null,
         null,
         "{'id': 26562, 'name': 'Game On Arcade', 'street': '527 W Tuscarawas Ave', 'city': 'Barberton', 'state': 'OH', 'zip': '44203', 'phone': None, 'lat': '41.0130905', 'lon': '-81.609075', 'website': None, 'created_at': '2025-06-11T16:49:11.494-07:00', 'updated_at': '2025-07-05T11:55:31.159-07:00', 'zone_id': None, 'region_id': 32, 'location_type_id': 1, 'description': '35+ New/Excellent condition Pinball and Arcade Games. All Stern games are on insider connect with digital scoreboard. Many LE”s and Premium versions from all manufacturers.', 'operator_id': None, 'date_last_updated': '2025-07-05', 'last_updated_by_user_id': 31887, 'is_stern_army': None, 'country': 'US', 'ic_active': True, 'machine_count': 16}",
         "{'id': 3423, 'name': 'Cactus Canyon (Remake LE)', 'is_active': False, 'created_at': '2021-11-04T08:27:13.333-07:00', 'updated_at': '2023-09-14T11:44:16.591-07:00', 'ipdb_link': None, 'year': 2021, 'manufacturer': 'Chicago Gaming', 'machine_group_id': 90, 'ipdb_id': None, 'opdb_id': 'G4835-M2YPK-A9ylv', 'opdb_img': 'https://img.opdb.org/808fe991-e6d3-46e0-b4ff-e066a7f54809-medium.jpg', 'opdb_img_height': 438, 'opdb_img_width': 640, 'machine_type': 'ss', 'machine_display': 'dmd', 'ic_eligible': None, 'kineticist_url': 'https://www.kineticist.com/pinball-machines/cactus-canyon-1998'}",
         "[]",
         "2025"
        ],
        [
         "43",
         "184142",
         "2025-06-11 23:49:11.518000+00:00",
         "2025-06-11T16:49:11.518-07:00",
         "26562",
         "3688",
         null,
         null,
         null,
         "{'id': 26562, 'name': 'Game On Arcade', 'street': '527 W Tuscarawas Ave', 'city': 'Barberton', 'state': 'OH', 'zip': '44203', 'phone': None, 'lat': '41.0130905', 'lon': '-81.609075', 'website': None, 'created_at': '2025-06-11T16:49:11.494-07:00', 'updated_at': '2025-07-05T11:55:31.159-07:00', 'zone_id': None, 'region_id': 32, 'location_type_id': 1, 'description': '35+ New/Excellent condition Pinball and Arcade Games. All Stern games are on insider connect with digital scoreboard. Many LE”s and Premium versions from all manufacturers.', 'operator_id': None, 'date_last_updated': '2025-07-05', 'last_updated_by_user_id': 31887, 'is_stern_army': None, 'country': 'US', 'ic_active': True, 'machine_count': 16}",
         "{'id': 3688, 'name': 'Galactic Tank Force (Signature)', 'is_active': False, 'created_at': '2023-03-22T14:53:45.672-07:00', 'updated_at': '2023-09-14T11:44:16.781-07:00', 'ipdb_link': None, 'year': 2023, 'manufacturer': 'American', 'machine_group_id': 103, 'ipdb_id': None, 'opdb_id': 'Gj6PZ-Mb5z6-A183b', 'opdb_img': 'https://img.opdb.org/a3240e7c-1a4f-4d5d-929d-77951389f531-medium.jpg', 'opdb_img_height': 328, 'opdb_img_width': 640, 'machine_type': 'ss', 'machine_display': 'lcd', 'ic_eligible': None, 'kineticist_url': 'https://www.kineticist.com/pinball-machines/galactic-tank-force-2023'}",
         "[]",
         "2025"
        ],
        [
         "44",
         "183961",
         "2025-06-09 23:52:08.455000+00:00",
         "2025-06-09T16:52:08.455-07:00",
         "3392",
         "1055",
         "3473.0",
         null,
         null,
         "{'id': 3392, 'name': 'Kidforce Pinball', 'street': '101 Front St', 'city': 'Berea', 'state': 'OH', 'zip': '44017', 'phone': '(440) 239-7777', 'lat': '41.3681272', 'lon': '-81.8534058', 'website': 'http://www.kidforcecollectibles.com/', 'created_at': '2013-01-19T09:40:12.412-08:00', 'updated_at': '2025-07-08T12:04:54.648-07:00', 'zone_id': None, 'region_id': 32, 'location_type_id': 1, 'description': 'Great place to play pinball and machines are well maintained.  I was in the area from out of state and thanks to pinballmap I found Kidforce!  All pins are in the dedicated storefront; $10, all you can play all day.\\r\\n\\r\\nSunday: Closed\\r\\nMon-Thurs: 4-9pm\\r\\nFri: 4-10pm\\r\\nSat: 12-9pm', 'operator_id': None, 'date_last_updated': '2025-07-08', 'last_updated_by_user_id': 3473, 'is_stern_army': True, 'country': 'US', 'ic_active': True, 'machine_count': 38}",
         "{'id': 1055, 'name': 'Black Knight', 'is_active': False, 'created_at': '2024-07-10T16:16:08.109-07:00', 'updated_at': '2023-01-17T10:44:30.452-08:00', 'ipdb_link': 'https://www.ipdb.org/machine.cgi?id=310', 'year': 1980, 'manufacturer': 'Williams', 'machine_group_id': 20, 'ipdb_id': 310, 'opdb_id': 'GrO7w-M9R03', 'opdb_img': 'https://img.opdb.org/a28af263-1c58-4623-a820-95f58d5db068-medium.jpg', 'opdb_img_height': 565, 'opdb_img_width': 640, 'machine_type': 'ss', 'machine_display': 'alphanumeric', 'ic_eligible': None, 'kineticist_url': 'https://www.kineticist.com/pinball-machines/black-knight-1980'}",
         "[]",
         "2025"
        ],
        [
         "45",
         "183955",
         "2025-06-09 21:52:40.356000+00:00",
         "2025-06-09T14:52:40.356-07:00",
         "26105",
         "4515",
         "3403.0",
         null,
         null,
         "{'id': 26105, 'name': 'The Arcade on Detroit', 'street': '14810 Detroit Ave', 'city': 'Lakewood', 'state': 'OH', 'zip': '44107', 'phone': None, 'lat': '41.4852546', 'lon': '-81.8000137', 'website': None, 'created_at': '2025-04-18T09:33:30.815-07:00', 'updated_at': '2025-07-01T15:55:41.874-07:00', 'zone_id': None, 'region_id': 32, 'location_type_id': 3, 'description': 'Open to the public 4-18-25. Barcade with a mix of modern and classic arcade games. Everything is operated with quarters, changer and ATM available.', 'operator_id': None, 'date_last_updated': '2025-07-01', 'last_updated_by_user_id': 22781, 'is_stern_army': None, 'country': 'US', 'ic_active': True, 'machine_count': 13}",
         "{'id': 4515, 'name': 'Evil Dead (CE)', 'is_active': None, 'created_at': '2024-11-23T22:52:10.834-08:00', 'updated_at': '2025-01-04T12:47:20.654-08:00', 'ipdb_link': None, 'year': 2024, 'manufacturer': 'Spooky', 'machine_group_id': None, 'ipdb_id': None, 'opdb_id': 'GYWvw-MKNP4', 'opdb_img': None, 'opdb_img_height': None, 'opdb_img_width': None, 'machine_type': 'ss', 'machine_display': 'lcd', 'ic_eligible': None, 'kineticist_url': 'https://www.kineticist.com/pinball-machines/evil-dead-2024'}",
         "[]",
         "2025"
        ],
        [
         "46",
         "183913",
         "2025-06-09 01:05:42.256000+00:00",
         "2025-06-17T18:42:49.378-07:00",
         "3392",
         "2923",
         "37912.0",
         null,
         "True",
         "{'id': 3392, 'name': 'Kidforce Pinball', 'street': '101 Front St', 'city': 'Berea', 'state': 'OH', 'zip': '44017', 'phone': '(440) 239-7777', 'lat': '41.3681272', 'lon': '-81.8534058', 'website': 'http://www.kidforcecollectibles.com/', 'created_at': '2013-01-19T09:40:12.412-08:00', 'updated_at': '2025-07-08T12:04:54.648-07:00', 'zone_id': None, 'region_id': 32, 'location_type_id': 1, 'description': 'Great place to play pinball and machines are well maintained.  I was in the area from out of state and thanks to pinballmap I found Kidforce!  All pins are in the dedicated storefront; $10, all you can play all day.\\r\\n\\r\\nSunday: Closed\\r\\nMon-Thurs: 4-9pm\\r\\nFri: 4-10pm\\r\\nSat: 12-9pm', 'operator_id': None, 'date_last_updated': '2025-07-08', 'last_updated_by_user_id': 3473, 'is_stern_army': True, 'country': 'US', 'ic_active': True, 'machine_count': 38}",
         "{'id': 2923, 'name': 'Iron Maiden: Legacy of the Beast (Pro)', 'is_active': False, 'created_at': '2018-03-27T09:56:15.622-07:00', 'updated_at': '2023-04-18T21:19:21.911-07:00', 'ipdb_link': 'https://www.ipdb.org/machine.cgi?id=6555', 'year': 2018, 'manufacturer': 'Stern', 'machine_group_id': 66, 'ipdb_id': 6555, 'opdb_id': 'G4dOQ-MyNbb', 'opdb_img': 'https://img.opdb.org/cf430f9a-7330-4192-9aae-87c5ab522984-medium.jpg', 'opdb_img_height': 402, 'opdb_img_width': 640, 'machine_type': 'ss', 'machine_display': 'lcd', 'ic_eligible': True, 'kineticist_url': 'https://www.kineticist.com/pinball-machines/iron-maiden-legacy-of-the-beast-2018'}",
         "[]",
         "2025"
        ],
        [
         "47",
         "183912",
         "2025-06-09 01:02:18.319000+00:00",
         "2025-06-08T18:02:18.592-07:00",
         "3392",
         "4533",
         "37912.0",
         null,
         "True",
         "{'id': 3392, 'name': 'Kidforce Pinball', 'street': '101 Front St', 'city': 'Berea', 'state': 'OH', 'zip': '44017', 'phone': '(440) 239-7777', 'lat': '41.3681272', 'lon': '-81.8534058', 'website': 'http://www.kidforcecollectibles.com/', 'created_at': '2013-01-19T09:40:12.412-08:00', 'updated_at': '2025-07-08T12:04:54.648-07:00', 'zone_id': None, 'region_id': 32, 'location_type_id': 1, 'description': 'Great place to play pinball and machines are well maintained.  I was in the area from out of state and thanks to pinballmap I found Kidforce!  All pins are in the dedicated storefront; $10, all you can play all day.\\r\\n\\r\\nSunday: Closed\\r\\nMon-Thurs: 4-9pm\\r\\nFri: 4-10pm\\r\\nSat: 12-9pm', 'operator_id': None, 'date_last_updated': '2025-07-08', 'last_updated_by_user_id': 3473, 'is_stern_army': True, 'country': 'US', 'ic_active': True, 'machine_count': 38}",
         "{'id': 4533, 'name': 'King Kong: Myth of Terror Island (Pro)', 'is_active': None, 'created_at': '2025-04-28T11:38:12.421-07:00', 'updated_at': '2025-07-14T12:00:10.069-07:00', 'ipdb_link': None, 'year': 2025, 'manufacturer': 'Stern', 'machine_group_id': 125, 'ipdb_id': None, 'opdb_id': 'GEL0V-MBRyb', 'opdb_img': 'https://img.opdb.org/2c806e43-f42e-402c-936c-0088d339e03a-medium.jpg', 'opdb_img_height': 416, 'opdb_img_width': 640, 'machine_type': 'ss', 'machine_display': 'lcd', 'ic_eligible': True, 'kineticist_url': 'https://www.kineticist.com/pinball-machines/king-kong-myth-of-terror-island-2025'}",
         "[]",
         "2025"
        ],
        [
         "48",
         "183782",
         "2025-06-07 01:27:32.087000+00:00",
         "2025-07-12T13:31:18.786-07:00",
         "24037",
         "4534",
         "21056.0",
         "12.0",
         "True",
         "{'id': 24037, 'name': 'Pinball Planet', 'street': '6277 Pearl Rd', 'city': 'Cleveland', 'state': 'OH', 'zip': '44130', 'phone': '216-282-4655', 'lat': '41.3903102', 'lon': '-81.7610101', 'website': 'http://pinballplanetohio.com', 'created_at': '2024-08-02T00:22:58.631-07:00', 'updated_at': '2025-07-13T09:31:27.874-07:00', 'zone_id': None, 'region_id': 32, 'location_type_id': 1, 'description': 'Sun: 12:00-8:00\\r\\nMon: Closed\\r\\nTues: 4:00-11:00\\r\\nWed: Closed\\r\\nThurs: 4:00-11:00\\r\\nFri: 2:00-12:00\\r\\nSat: 12:00-6:00 & 8:00-12:00\\r\\n\\r\\nNice owners.\\r\\nMachines kept in great condition.\\r\\nNot a whole lot of rotation of games, but selection is very good.', 'operator_id': None, 'date_last_updated': '2025-07-13', 'last_updated_by_user_id': 33721, 'is_stern_army': None, 'country': 'US', 'ic_active': True, 'machine_count': 36}",
         "{'id': 4534, 'name': 'King Kong: Myth of Terror Island (Premium)', 'is_active': None, 'created_at': '2025-04-28T11:38:53.998-07:00', 'updated_at': '2025-05-17T15:50:56.963-07:00', 'ipdb_link': None, 'year': 2025, 'manufacturer': 'Stern', 'machine_group_id': 125, 'ipdb_id': None, 'opdb_id': 'GEL0V-MyN8E-A1Dkr', 'opdb_img': 'https://img.opdb.org/359b002f-0eac-4999-b582-67238bbeb9e5-medium.jpg', 'opdb_img_height': 408, 'opdb_img_width': 640, 'machine_type': 'ss', 'machine_display': 'lcd', 'ic_eligible': True, 'kineticist_url': 'https://www.kineticist.com/pinball-machines/king-kong-myth-of-terror-island-2025'}",
         "[]",
         "2025"
        ],
        [
         "49",
         "183737",
         "2025-06-06 14:30:43.404000+00:00",
         "2025-06-06T07:30:43.404-07:00",
         "25959",
         "4539",
         "3403.0",
         null,
         null,
         "{'id': 25959, 'name': \"Finney's Arcade & Parlor\", 'street': '417 Market Ave N', 'city': 'Canton', 'state': 'OH', 'zip': '44702', 'phone': None, 'lat': '40.8009126', 'lon': '-81.3742013', 'website': 'https://www.finneysarcade.com/', 'created_at': '2025-04-01T11:42:17.816-07:00', 'updated_at': '2025-06-06T07:30:43.411-07:00', 'zone_id': None, 'region_id': 32, 'location_type_id': 3, 'description': 'Monday\\r\\nCLOSED\\r\\nTuesday\\r\\nCLOSED\\r\\nWednesday\\r\\n4:00\\u202fPM - 9:00\\u202fPM\\r\\nThursday\\r\\n4:00\\u202fPM - 9:00\\u202fPM\\r\\nFriday\\r\\n4:00\\u202fPM - 10:00\\u202fPM\\r\\nSaturday\\r\\n2:00\\u202fPM - 10:00\\u202fPM\\r\\nSunday\\r\\n12:00\\u202fPM - 6:00\\u202fPM', 'operator_id': None, 'date_last_updated': '2025-06-06', 'last_updated_by_user_id': 3403, 'is_stern_army': None, 'country': 'US', 'ic_active': True, 'machine_count': 15}",
         "{'id': 4539, 'name': 'Harry Potter (CE)', 'is_active': None, 'created_at': '2025-06-03T21:06:57.371-07:00', 'updated_at': '2025-06-19T09:09:10.768-07:00', 'ipdb_link': None, 'year': 2025, 'manufacturer': 'Jersey Jack', 'machine_group_id': 126, 'ipdb_id': None, 'opdb_id': 'GWyBj-MdEbK-AOPdq', 'opdb_img': None, 'opdb_img_height': None, 'opdb_img_width': None, 'machine_type': 'ss', 'machine_display': 'lcd', 'ic_eligible': None, 'kineticist_url': 'https://www.kineticist.com/pinball-machines/harry-potter-2025'}",
         "[]",
         "2025"
        ]
       ],
       "shape": {
        "columns": 12,
        "rows": 470
       }
      },
      "text/html": [
       "<div>\n",
       "<style scoped>\n",
       "    .dataframe tbody tr th:only-of-type {\n",
       "        vertical-align: middle;\n",
       "    }\n",
       "\n",
       "    .dataframe tbody tr th {\n",
       "        vertical-align: top;\n",
       "    }\n",
       "\n",
       "    .dataframe thead th {\n",
       "        text-align: right;\n",
       "    }\n",
       "</style>\n",
       "<table border=\"1\" class=\"dataframe\">\n",
       "  <thead>\n",
       "    <tr style=\"text-align: right;\">\n",
       "      <th></th>\n",
       "      <th>id</th>\n",
       "      <th>created_at</th>\n",
       "      <th>updated_at</th>\n",
       "      <th>location_id</th>\n",
       "      <th>machine_id</th>\n",
       "      <th>user_id</th>\n",
       "      <th>machine_score_xrefs_count</th>\n",
       "      <th>ic_enabled</th>\n",
       "      <th>location</th>\n",
       "      <th>machine</th>\n",
       "      <th>machine_conditions</th>\n",
       "      <th>year</th>\n",
       "    </tr>\n",
       "  </thead>\n",
       "  <tbody>\n",
       "    <tr>\n",
       "      <th>0</th>\n",
       "      <td>186787</td>\n",
       "      <td>2025-07-14 23:05:37.984000+00:00</td>\n",
       "      <td>2025-07-14T16:10:10.552-07:00</td>\n",
       "      <td>8973</td>\n",
       "      <td>1470</td>\n",
       "      <td>36956.0</td>\n",
       "      <td>1.0</td>\n",
       "      <td>None</td>\n",
       "      <td>{'id': 8973, 'name': 'Quarter Up Bar Arcade', ...</td>\n",
       "      <td>{'id': 1470, 'name': 'The Avengers (LE)', 'is_...</td>\n",
       "      <td>[]</td>\n",
       "      <td>2025</td>\n",
       "    </tr>\n",
       "    <tr>\n",
       "      <th>1</th>\n",
       "      <td>186381</td>\n",
       "      <td>2025-07-09 03:07:52.061000+00:00</td>\n",
       "      <td>2025-07-08T20:07:52.403-07:00</td>\n",
       "      <td>17325</td>\n",
       "      <td>3126</td>\n",
       "      <td>39146.0</td>\n",
       "      <td>NaN</td>\n",
       "      <td>True</td>\n",
       "      <td>{'id': 17325, 'name': 'Pins Mechanical Co. / 1...</td>\n",
       "      <td>{'id': 3126, 'name': 'Black Knight: Sword of R...</td>\n",
       "      <td>[]</td>\n",
       "      <td>2025</td>\n",
       "    </tr>\n",
       "    <tr>\n",
       "      <th>2</th>\n",
       "      <td>186334</td>\n",
       "      <td>2025-07-08 19:06:15.182000+00:00</td>\n",
       "      <td>2025-07-08T12:06:15.182-07:00</td>\n",
       "      <td>3392</td>\n",
       "      <td>837</td>\n",
       "      <td>3473.0</td>\n",
       "      <td>NaN</td>\n",
       "      <td>None</td>\n",
       "      <td>{'id': 3392, 'name': 'Kidforce Pinball', 'stre...</td>\n",
       "      <td>{'id': 837, 'name': 'Mystic', 'is_active': Fal...</td>\n",
       "      <td>[]</td>\n",
       "      <td>2025</td>\n",
       "    </tr>\n",
       "    <tr>\n",
       "      <th>3</th>\n",
       "      <td>186333</td>\n",
       "      <td>2025-07-08 19:04:54.638000+00:00</td>\n",
       "      <td>2025-07-08T12:04:54.638-07:00</td>\n",
       "      <td>3392</td>\n",
       "      <td>4537</td>\n",
       "      <td>3473.0</td>\n",
       "      <td>NaN</td>\n",
       "      <td>None</td>\n",
       "      <td>{'id': 3392, 'name': 'Kidforce Pinball', 'stre...</td>\n",
       "      <td>{'id': 4537, 'name': 'Harry Potter (Arcade Edi...</td>\n",
       "      <td>[]</td>\n",
       "      <td>2025</td>\n",
       "    </tr>\n",
       "    <tr>\n",
       "      <th>4</th>\n",
       "      <td>186294</td>\n",
       "      <td>2025-07-07 21:54:50.223000+00:00</td>\n",
       "      <td>2025-07-07T14:54:50.386-07:00</td>\n",
       "      <td>26083</td>\n",
       "      <td>4533</td>\n",
       "      <td>38827.0</td>\n",
       "      <td>NaN</td>\n",
       "      <td>True</td>\n",
       "      <td>{'id': 26083, 'name': 'Bar Lucci', 'street': '...</td>\n",
       "      <td>{'id': 4533, 'name': 'King Kong: Myth of Terro...</td>\n",
       "      <td>[]</td>\n",
       "      <td>2025</td>\n",
       "    </tr>\n",
       "    <tr>\n",
       "      <th>...</th>\n",
       "      <td>...</td>\n",
       "      <td>...</td>\n",
       "      <td>...</td>\n",
       "      <td>...</td>\n",
       "      <td>...</td>\n",
       "      <td>...</td>\n",
       "      <td>...</td>\n",
       "      <td>...</td>\n",
       "      <td>...</td>\n",
       "      <td>...</td>\n",
       "      <td>...</td>\n",
       "      <td>...</td>\n",
       "    </tr>\n",
       "    <tr>\n",
       "      <th>465</th>\n",
       "      <td>55662</td>\n",
       "      <td>2018-07-16 23:02:43.360000+00:00</td>\n",
       "      <td>2025-05-05T10:42:34.133-07:00</td>\n",
       "      <td>10493</td>\n",
       "      <td>2875</td>\n",
       "      <td>12440.0</td>\n",
       "      <td>2.0</td>\n",
       "      <td>False</td>\n",
       "      <td>{'id': 10493, 'name': 'Round1 (Great Lakes Mal...</td>\n",
       "      <td>{'id': 2875, 'name': 'Guardians of the Galaxy ...</td>\n",
       "      <td>[{'id': 89865, 'comment': '1 machine is still ...</td>\n",
       "      <td>2018</td>\n",
       "    </tr>\n",
       "    <tr>\n",
       "      <th>466</th>\n",
       "      <td>55661</td>\n",
       "      <td>2018-07-16 23:02:43.336000+00:00</td>\n",
       "      <td>2025-05-05T10:41:21.970-07:00</td>\n",
       "      <td>10493</td>\n",
       "      <td>1591</td>\n",
       "      <td>12440.0</td>\n",
       "      <td>1.0</td>\n",
       "      <td>None</td>\n",
       "      <td>{'id': 10493, 'name': 'Round1 (Great Lakes Mal...</td>\n",
       "      <td>{'id': 1591, 'name': 'Metallica (Pro)', 'is_ac...</td>\n",
       "      <td>[{'id': 76601, 'comment': 'Cross drop targets ...</td>\n",
       "      <td>2018</td>\n",
       "    </tr>\n",
       "    <tr>\n",
       "      <th>467</th>\n",
       "      <td>53209</td>\n",
       "      <td>2018-05-25 23:34:24.124000+00:00</td>\n",
       "      <td>2024-06-16T23:37:26.084-07:00</td>\n",
       "      <td>10178</td>\n",
       "      <td>683</td>\n",
       "      <td>404.0</td>\n",
       "      <td>1.0</td>\n",
       "      <td>None</td>\n",
       "      <td>{'id': 10178, 'name': 'Eddie's Arcade', 'stree...</td>\n",
       "      <td>{'id': 683, 'name': 'South Park', 'is_active':...</td>\n",
       "      <td>[{'id': 59909, 'comment': '50 cents per play. ...</td>\n",
       "      <td>2018</td>\n",
       "    </tr>\n",
       "    <tr>\n",
       "      <th>468</th>\n",
       "      <td>25282</td>\n",
       "      <td>2015-08-27 15:26:03.797000+00:00</td>\n",
       "      <td>2022-06-14T15:49:18.843-07:00</td>\n",
       "      <td>6010</td>\n",
       "      <td>641</td>\n",
       "      <td>19955.0</td>\n",
       "      <td>NaN</td>\n",
       "      <td>None</td>\n",
       "      <td>{'id': 6010, 'name': 'Holiday Inn Express', 's...</td>\n",
       "      <td>{'id': 641, 'name': 'Monster Bash', 'is_active...</td>\n",
       "      <td>[{'id': 71066, 'comment': 'Not exactly publicl...</td>\n",
       "      <td>2015</td>\n",
       "    </tr>\n",
       "    <tr>\n",
       "      <th>469</th>\n",
       "      <td>22332</td>\n",
       "      <td>2015-03-04 00:21:29.286000+00:00</td>\n",
       "      <td>2015-03-03T16:21:29.286-08:00</td>\n",
       "      <td>5531</td>\n",
       "      <td>917</td>\n",
       "      <td>NaN</td>\n",
       "      <td>NaN</td>\n",
       "      <td>None</td>\n",
       "      <td>{'id': 5531, 'name': 'Tear-Ez', 'street': '360...</td>\n",
       "      <td>{'id': 917, 'name': 'Hollywood Heat', 'is_acti...</td>\n",
       "      <td>[]</td>\n",
       "      <td>2015</td>\n",
       "    </tr>\n",
       "  </tbody>\n",
       "</table>\n",
       "<p>470 rows × 12 columns</p>\n",
       "</div>"
      ],
      "text/plain": [
       "         id                       created_at                     updated_at  \\\n",
       "0    186787 2025-07-14 23:05:37.984000+00:00  2025-07-14T16:10:10.552-07:00   \n",
       "1    186381 2025-07-09 03:07:52.061000+00:00  2025-07-08T20:07:52.403-07:00   \n",
       "2    186334 2025-07-08 19:06:15.182000+00:00  2025-07-08T12:06:15.182-07:00   \n",
       "3    186333 2025-07-08 19:04:54.638000+00:00  2025-07-08T12:04:54.638-07:00   \n",
       "4    186294 2025-07-07 21:54:50.223000+00:00  2025-07-07T14:54:50.386-07:00   \n",
       "..      ...                              ...                            ...   \n",
       "465   55662 2018-07-16 23:02:43.360000+00:00  2025-05-05T10:42:34.133-07:00   \n",
       "466   55661 2018-07-16 23:02:43.336000+00:00  2025-05-05T10:41:21.970-07:00   \n",
       "467   53209 2018-05-25 23:34:24.124000+00:00  2024-06-16T23:37:26.084-07:00   \n",
       "468   25282 2015-08-27 15:26:03.797000+00:00  2022-06-14T15:49:18.843-07:00   \n",
       "469   22332 2015-03-04 00:21:29.286000+00:00  2015-03-03T16:21:29.286-08:00   \n",
       "\n",
       "     location_id  machine_id  user_id  machine_score_xrefs_count ic_enabled  \\\n",
       "0           8973        1470  36956.0                        1.0       None   \n",
       "1          17325        3126  39146.0                        NaN       True   \n",
       "2           3392         837   3473.0                        NaN       None   \n",
       "3           3392        4537   3473.0                        NaN       None   \n",
       "4          26083        4533  38827.0                        NaN       True   \n",
       "..           ...         ...      ...                        ...        ...   \n",
       "465        10493        2875  12440.0                        2.0      False   \n",
       "466        10493        1591  12440.0                        1.0       None   \n",
       "467        10178         683    404.0                        1.0       None   \n",
       "468         6010         641  19955.0                        NaN       None   \n",
       "469         5531         917      NaN                        NaN       None   \n",
       "\n",
       "                                              location  \\\n",
       "0    {'id': 8973, 'name': 'Quarter Up Bar Arcade', ...   \n",
       "1    {'id': 17325, 'name': 'Pins Mechanical Co. / 1...   \n",
       "2    {'id': 3392, 'name': 'Kidforce Pinball', 'stre...   \n",
       "3    {'id': 3392, 'name': 'Kidforce Pinball', 'stre...   \n",
       "4    {'id': 26083, 'name': 'Bar Lucci', 'street': '...   \n",
       "..                                                 ...   \n",
       "465  {'id': 10493, 'name': 'Round1 (Great Lakes Mal...   \n",
       "466  {'id': 10493, 'name': 'Round1 (Great Lakes Mal...   \n",
       "467  {'id': 10178, 'name': 'Eddie's Arcade', 'stree...   \n",
       "468  {'id': 6010, 'name': 'Holiday Inn Express', 's...   \n",
       "469  {'id': 5531, 'name': 'Tear-Ez', 'street': '360...   \n",
       "\n",
       "                                               machine  \\\n",
       "0    {'id': 1470, 'name': 'The Avengers (LE)', 'is_...   \n",
       "1    {'id': 3126, 'name': 'Black Knight: Sword of R...   \n",
       "2    {'id': 837, 'name': 'Mystic', 'is_active': Fal...   \n",
       "3    {'id': 4537, 'name': 'Harry Potter (Arcade Edi...   \n",
       "4    {'id': 4533, 'name': 'King Kong: Myth of Terro...   \n",
       "..                                                 ...   \n",
       "465  {'id': 2875, 'name': 'Guardians of the Galaxy ...   \n",
       "466  {'id': 1591, 'name': 'Metallica (Pro)', 'is_ac...   \n",
       "467  {'id': 683, 'name': 'South Park', 'is_active':...   \n",
       "468  {'id': 641, 'name': 'Monster Bash', 'is_active...   \n",
       "469  {'id': 917, 'name': 'Hollywood Heat', 'is_acti...   \n",
       "\n",
       "                                    machine_conditions  year  \n",
       "0                                                   []  2025  \n",
       "1                                                   []  2025  \n",
       "2                                                   []  2025  \n",
       "3                                                   []  2025  \n",
       "4                                                   []  2025  \n",
       "..                                                 ...   ...  \n",
       "465  [{'id': 89865, 'comment': '1 machine is still ...  2018  \n",
       "466  [{'id': 76601, 'comment': 'Cross drop targets ...  2018  \n",
       "467  [{'id': 59909, 'comment': '50 cents per play. ...  2018  \n",
       "468  [{'id': 71066, 'comment': 'Not exactly publicl...  2015  \n",
       "469                                                 []  2015  \n",
       "\n",
       "[470 rows x 12 columns]"
      ]
     },
     "execution_count": 61,
     "metadata": {},
     "output_type": "execute_result"
    }
   ],
   "source": [
    "pm_cleveland_machines.head()"
   ]
  },
  {
   "cell_type": "code",
   "execution_count": null,
   "id": "b06b0acd",
   "metadata": {},
   "outputs": [
    {
     "data": {
      "application/vnd.microsoft.datawrangler.viewer.v0+json": {
       "columns": [
        {
         "name": "index",
         "rawType": "int64",
         "type": "integer"
        },
        {
         "name": "id",
         "rawType": "int64",
         "type": "integer"
        },
        {
         "name": "name",
         "rawType": "object",
         "type": "string"
        },
        {
         "name": "street",
         "rawType": "object",
         "type": "string"
        },
        {
         "name": "city",
         "rawType": "object",
         "type": "string"
        },
        {
         "name": "state",
         "rawType": "object",
         "type": "string"
        },
        {
         "name": "zip",
         "rawType": "object",
         "type": "string"
        },
        {
         "name": "phone",
         "rawType": "object",
         "type": "unknown"
        },
        {
         "name": "lat",
         "rawType": "object",
         "type": "string"
        },
        {
         "name": "lon",
         "rawType": "object",
         "type": "string"
        },
        {
         "name": "website",
         "rawType": "object",
         "type": "unknown"
        },
        {
         "name": "created_at",
         "rawType": "datetime64[ns, UTC]",
         "type": "unknown"
        },
        {
         "name": "updated_at",
         "rawType": "object",
         "type": "string"
        },
        {
         "name": "zone_id",
         "rawType": "object",
         "type": "unknown"
        },
        {
         "name": "region_id",
         "rawType": "int64",
         "type": "integer"
        },
        {
         "name": "location_type_id",
         "rawType": "int64",
         "type": "integer"
        },
        {
         "name": "description",
         "rawType": "object",
         "type": "unknown"
        },
        {
         "name": "operator_id",
         "rawType": "float64",
         "type": "float"
        },
        {
         "name": "date_last_updated",
         "rawType": "object",
         "type": "string"
        },
        {
         "name": "last_updated_by_user_id",
         "rawType": "float64",
         "type": "float"
        },
        {
         "name": "is_stern_army",
         "rawType": "object",
         "type": "unknown"
        },
        {
         "name": "country",
         "rawType": "object",
         "type": "string"
        },
        {
         "name": "ic_active",
         "rawType": "object",
         "type": "unknown"
        },
        {
         "name": "machine_count",
         "rawType": "int64",
         "type": "integer"
        },
        {
         "name": "last_updated_by_username",
         "rawType": "object",
         "type": "string"
        },
        {
         "name": "num_machines",
         "rawType": "int64",
         "type": "integer"
        },
        {
         "name": "location_machine_xrefs",
         "rawType": "object",
         "type": "unknown"
        },
        {
         "name": "year",
         "rawType": "int32",
         "type": "integer"
        }
       ],
       "ref": "78b7eaa4-d03b-4416-8b35-09560f3badd5",
       "rows": [
        [
         "0",
         "22626",
         "69 Taps",
         "370 Paul Williams St",
         "Akron",
         "OH",
         "44311",
         "(330) 253-4554",
         "41.0761812",
         "-81.5231916",
         null,
         "2024-03-02 04:29:31.772000+00:00",
         "2024-03-01T20:29:31.806-08:00",
         null,
         "32",
         "4",
         null,
         null,
         "2024-03-01",
         null,
         null,
         "US",
         null,
         "1",
         "",
         "1",
         "[{'id': 150111, 'created_at': '2024-03-01T20:29:31.801-08:00', 'updated_at': '2024-03-01T20:29:31.801-08:00', 'location_id': 22626, 'machine_id': 2203, 'ic_enabled': None, 'machine': {'id': 2203, 'name': 'The Walking Dead (Pro)', 'updated_at': '2023-01-17T10:44:28.190-08:00', 'ipdb_link': 'https://www.ipdb.org/machine.cgi?id=6155', 'year': 2014, 'manufacturer': 'Stern', 'machine_group_id': 16, 'ipdb_id': 6155, 'opdb_id': 'G5nz5-M3d38', 'kineticist_url': 'https://www.kineticist.com/pinball-machines/the-walking-dead-2014'}}]",
         "2024"
        ],
        [
         "1",
         "10696",
         "Adventure Zone",
         "5600 Lake Road East",
         "Geneva",
         "OH",
         "44041",
         "(440) 466-3555",
         "41.858249",
         "-80.957419",
         "http://www.adventurezonefun.com/",
         "2018-08-23 21:13:59.161000+00:00",
         "2018-08-23T14:13:59.196-07:00",
         null,
         "32",
         "42",
         null,
         null,
         "2018-08-23",
         null,
         null,
         "US",
         null,
         "1",
         "",
         "1",
         "[{'id': 56933, 'created_at': '2018-08-23T14:13:59.190-07:00', 'updated_at': '2018-08-23T14:13:59.190-07:00', 'location_id': 10696, 'machine_id': 2165, 'ic_enabled': None, 'machine': {'id': 2165, 'name': 'Star Trek (Pro)', 'updated_at': '2023-01-17T10:44:30.504-08:00', 'ipdb_link': 'https://www.ipdb.org/machine.cgi?id=6044', 'year': 2013, 'manufacturer': 'Stern', 'machine_group_id': 4, 'ipdb_id': 6044, 'opdb_id': 'Gryw4-MwNky', 'kineticist_url': 'https://www.kineticist.com/pinball-machines/star-trek-2013'}}]",
         "2018"
        ],
        [
         "2",
         "19781",
         "Arena 51 Laser Tag",
         "13409 Smith Rd",
         "Middleburg Heights",
         "OH",
         "44130",
         "(440) 502-5320",
         "41.3760725",
         "-81.7920111",
         "https://www.arena51lasertag.com",
         "2023-04-05 23:12:36.675000+00:00",
         "2025-06-28T12:07:53.627-07:00",
         null,
         "32",
         "39",
         "Laser tag facility",
         null,
         "2025-06-28",
         "23665.0",
         null,
         "US",
         "False",
         "2",
         "tomdidit",
         "2",
         "[{'id': 161737, 'created_at': '2024-08-03T10:35:40.899-07:00', 'updated_at': '2025-01-08T09:23:20.004-08:00', 'location_id': 19781, 'machine_id': 3167, 'ic_enabled': False, 'machine': {'id': 3167, 'name': 'Jurassic Park (Pro)', 'updated_at': '2023-04-18T20:05:39.850-07:00', 'ipdb_link': 'https://www.ipdb.org/machine.cgi?id=6573', 'year': 2019, 'manufacturer': 'Stern', 'machine_group_id': 78, 'ipdb_id': 6573, 'opdb_id': 'GK17D-MdEqz', 'kineticist_url': 'https://www.kineticist.com/pinball-machines/jurassic-park-2019'}}, {'id': 185451, 'created_at': '2025-06-28T12:08:49.990-07:00', 'updated_at': '2025-06-28T12:08:49.990-07:00', 'location_id': 19781, 'machine_id': 689, 'ic_enabled': None, 'machine': {'id': 689, 'name': 'White Water', 'updated_at': '2023-01-17T10:44:28.888-08:00', 'ipdb_link': 'https://www.ipdb.org/machine.cgi?id=2768', 'year': 1993, 'manufacturer': 'Williams', 'machine_group_id': None, 'ipdb_id': 2768, 'opdb_id': 'GRQKz-MyNXz', 'kineticist_url': 'https://www.kineticist.com/pinball-machines/white-water-1993'}}]",
         "2023"
        ],
        [
         "3",
         "22563",
         "Bailey's Pizza House",
         "11991 Island Rd",
         "Grafton",
         "OH",
         "44044",
         "(440) 748-3104",
         "41.3150032",
         "-82.0008933",
         null,
         "2024-02-25 00:40:35.140000+00:00",
         "2024-06-20T05:45:25.815-07:00",
         null,
         "32",
         "4",
         null,
         null,
         "2024-06-20",
         "30968.0",
         null,
         "US",
         null,
         "1",
         "clevepinball",
         "1",
         "[{'id': 149440, 'created_at': '2024-02-24T16:40:35.188-08:00', 'updated_at': '2024-02-24T16:40:35.188-08:00', 'location_id': 22563, 'machine_id': 3099, 'ic_enabled': None, 'machine': {'id': 3099, 'name': 'The Munsters (Pro)', 'updated_at': '2023-04-18T20:00:30.697-07:00', 'ipdb_link': 'https://www.ipdb.org/machine.cgi?id=6564', 'year': 2019, 'manufacturer': 'Stern', 'machine_group_id': 74, 'ipdb_id': 6564, 'opdb_id': 'GbPde-M5Rkv', 'kineticist_url': 'https://www.kineticist.com/pinball-machines/the-munsters-2019'}}]",
         "2024"
        ],
        [
         "4",
         "12153",
         "Barley Jack's Pizza",
         "5331 Center Road",
         "Brunswick",
         "OH",
         "44212",
         "330-460-6710",
         "41.23856",
         "-81.877673",
         "http://barleyjackspizza.com",
         "2019-05-06 22:13:50.557000+00:00",
         "2024-10-14T12:05:37.185-07:00",
         null,
         "32",
         "14",
         null,
         null,
         "2024-10-14",
         "35460.0",
         null,
         "US",
         null,
         "1",
         "drchooch",
         "1",
         "[{'id': 166527, 'created_at': '2024-10-14T12:05:37.180-07:00', 'updated_at': '2024-10-14T12:05:37.180-07:00', 'location_id': 12153, 'machine_id': 2843, 'ic_enabled': None, 'machine': {'id': 2843, 'name': 'Star Wars (Pro)', 'updated_at': '2023-04-18T20:00:58.952-07:00', 'ipdb_link': 'https://www.ipdb.org/machine.cgi?id=6428', 'year': 2017, 'manufacturer': 'Stern', 'machine_group_id': 64, 'ipdb_id': 6428, 'opdb_id': 'G5vLR-MwNwy', 'kineticist_url': 'https://www.kineticist.com/pinball-machines/star-wars-2017'}}]",
         "2019"
        ],
        [
         "5",
         "26083",
         "Bar Lucci",
         "257 N Water St",
         "Kent",
         "OH",
         "44240",
         null,
         "41.1557433",
         "-81.3579236",
         "https://www.barluccikent.com/",
         "2025-04-16 02:51:44.946000+00:00",
         "2025-07-07T14:54:14.826-07:00",
         null,
         "32",
         "4",
         null,
         null,
         "2025-07-07",
         "38827.0",
         null,
         "US",
         "True",
         "6",
         "mfdoom",
         "6",
         "[{'id': 186294, 'created_at': '2025-07-07T14:54:50.223-07:00', 'updated_at': '2025-07-07T14:54:50.386-07:00', 'location_id': 26083, 'machine_id': 4533, 'ic_enabled': True, 'machine': {'id': 4533, 'name': 'King Kong: Myth of Terror Island (Pro)', 'updated_at': '2025-07-14T12:00:10.069-07:00', 'ipdb_link': None, 'year': 2025, 'manufacturer': 'Stern', 'machine_group_id': 125, 'ipdb_id': None, 'opdb_id': 'GEL0V-MBRyb', 'kineticist_url': 'https://www.kineticist.com/pinball-machines/king-kong-myth-of-terror-island-2025'}}, {'id': 186293, 'created_at': '2025-07-07T14:54:14.819-07:00', 'updated_at': '2025-07-07T14:54:15.019-07:00', 'location_id': 26083, 'machine_id': 3226, 'ic_enabled': True, 'machine': {'id': 3226, 'name': 'Stranger Things (Pro)', 'updated_at': '2023-04-18T20:05:51.189-07:00', 'ipdb_link': 'https://www.ipdb.org/machine.cgi?id=6642', 'year': 2019, 'manufacturer': 'Stern', 'machine_group_id': 80, 'ipdb_id': 6642, 'opdb_id': 'Gzy89-MNEeO', 'kineticist_url': 'https://www.kineticist.com/pinball-machines/stranger-things-2019'}}, {'id': 179591, 'created_at': '2025-04-15T19:51:44.966-07:00', 'updated_at': '2025-04-23T09:06:24.819-07:00', 'location_id': 26083, 'machine_id': 4516, 'ic_enabled': True, 'machine': {'id': 4516, 'name': \"Dungeons & Dragons: The Tyrant's Eye (Pro)\", 'updated_at': '2025-02-16T08:11:03.038-08:00', 'ipdb_link': None, 'year': 2025, 'manufacturer': 'Stern', 'machine_group_id': 121, 'ipdb_id': None, 'opdb_id': 'GK1Ej-MwNZr', 'kineticist_url': 'https://www.kineticist.com/pinball-machines/dungeons--dragons-the-tyrants-eye-2025'}}, {'id': 179592, 'created_at': '2025-04-15T19:51:44.977-07:00', 'updated_at': '2025-06-22T09:25:35.973-07:00', 'location_id': 26083, 'machine_id': 3415, 'ic_enabled': True, 'machine': {'id': 3415, 'name': 'Godzilla (Pro)', 'updated_at': '2023-09-12T12:06:24.729-07:00', 'ipdb_link': 'https://www.ipdb.org/machine.cgi?id=6841', 'year': 2021, 'manufacturer': 'Stern', 'machine_group_id': 88, 'ipdb_id': 6841, 'opdb_id': 'GweeP-MW95j', 'kineticist_url': 'https://www.kineticist.com/pinball-machines/godzilla-2021'}}, {'id': 179593, 'created_at': '2025-04-15T19:51:44.986-07:00', 'updated_at': '2025-04-23T09:06:48.945-07:00', 'location_id': 26083, 'machine_id': 3799, 'ic_enabled': True, 'machine': {'id': 3799, 'name': 'JAWS (Pro)', 'updated_at': '2024-02-08T12:19:47.619-08:00', 'ipdb_link': None, 'year': 2024, 'manufacturer': 'Stern', 'machine_group_id': 106, 'ipdb_id': None, 'opdb_id': 'GLWll-MXr4N', 'kineticist_url': 'https://www.kineticist.com/pinball-machines/jaws-2024'}}, {'id': 185895, 'created_at': '2025-07-02T17:18:56.121-07:00', 'updated_at': '2025-07-02T17:18:56.371-07:00', 'location_id': 26083, 'machine_id': 3845, 'ic_enabled': True, 'machine': {'id': 3845, 'name': 'John Wick (Pro)', 'updated_at': '2024-05-18T07:24:16.627-07:00', 'ipdb_link': None, 'year': 2024, 'manufacturer': 'Stern', 'machine_group_id': 115, 'ipdb_id': None, 'opdb_id': 'GQK1P-MW9pj', 'kineticist_url': 'https://www.kineticist.com/pinball-machines/john-wick-2024'}}]",
         "2025"
        ],
        [
         "6",
         "21607",
         "Barons Bus Arena",
         "5310 Hauserman Rd",
         "Parma",
         "OH",
         "44130",
         "(440) 882-3703",
         "41.4160409",
         "-81.7580195",
         "https://clevelandathleticacademy.com/facility",
         "2023-11-04 04:32:22.225000+00:00",
         "2024-01-25T16:22:03.300-08:00",
         null,
         "32",
         "35",
         "Lobby of ice arena",
         null,
         "2023-11-03",
         null,
         null,
         "US",
         "False",
         "1",
         "",
         "1",
         "[{'id': 141835, 'created_at': '2023-11-03T21:32:22.272-07:00', 'updated_at': '2024-01-25T16:22:03.281-08:00', 'location_id': 21607, 'machine_id': 3415, 'ic_enabled': False, 'machine': {'id': 3415, 'name': 'Godzilla (Pro)', 'updated_at': '2023-09-12T12:06:24.729-07:00', 'ipdb_link': 'https://www.ipdb.org/machine.cgi?id=6841', 'year': 2021, 'manufacturer': 'Stern', 'machine_group_id': 88, 'ipdb_id': 6841, 'opdb_id': 'GweeP-MW95j', 'kineticist_url': 'https://www.kineticist.com/pinball-machines/godzilla-2021'}}]",
         "2023"
        ],
        [
         "7",
         "3398",
         "Becky's Bar and Grill",
         "1762 E 18th",
         "Cleveland",
         "OH",
         "44114",
         null,
         "41.503995",
         "-81.679682",
         null,
         "2013-01-19 17:54:53.864000+00:00",
         "2023-09-26T16:26:35.403-07:00",
         null,
         "32",
         "14",
         null,
         null,
         "2023-09-26",
         "22781.0",
         null,
         "US",
         null,
         "1",
         "skors",
         "1",
         "[{'id': 139404, 'created_at': '2023-09-26T16:26:35.395-07:00', 'updated_at': '2023-09-26T16:26:35.426-07:00', 'location_id': 3398, 'machine_id': 656, 'ic_enabled': None, 'machine': {'id': 656, 'name': 'Elvira and the Party Monsters', 'updated_at': '2023-01-17T10:44:29.686-08:00', 'ipdb_link': 'https://www.ipdb.org/machine.cgi?id=782', 'year': 1989, 'manufacturer': 'Bally', 'machine_group_id': None, 'ipdb_id': 782, 'opdb_id': 'Grlxp-MVKBW', 'kineticist_url': 'https://www.kineticist.com/pinball-machines/elvira-and-the-party-monsters-1989'}}]",
         "2013"
        ],
        [
         "8",
         "25401",
         "Beer Run & Some with Nimbus Vapors",
         "17800 Chillicothe Rd",
         "Chagrin Falls",
         "OH",
         "44023",
         "(440) 708-1309",
         "41.3851088",
         "-81.3411648",
         null,
         "2025-01-24 18:04:16.093000+00:00",
         "2025-06-29T15:57:33.434-07:00",
         null,
         "32",
         "20",
         null,
         "615.0",
         "2025-06-29",
         "20292.0",
         null,
         "US",
         "True",
         "9",
         "halldoc1",
         "9",
         "[{'id': 175533, 'created_at': '2025-02-18T15:42:50.398-08:00', 'updated_at': '2025-07-10T17:21:36.578-07:00', 'location_id': 25401, 'machine_id': 3167, 'ic_enabled': True, 'machine': {'id': 3167, 'name': 'Jurassic Park (Pro)', 'updated_at': '2023-04-18T20:05:39.850-07:00', 'ipdb_link': 'https://www.ipdb.org/machine.cgi?id=6573', 'year': 2019, 'manufacturer': 'Stern', 'machine_group_id': 78, 'ipdb_id': 6573, 'opdb_id': 'GK17D-MdEqz', 'kineticist_url': 'https://www.kineticist.com/pinball-machines/jurassic-park-2019'}}, {'id': 175532, 'created_at': '2025-02-18T15:42:34.162-08:00', 'updated_at': '2025-07-10T17:09:05.519-07:00', 'location_id': 25401, 'machine_id': 3288, 'ic_enabled': True, 'machine': {'id': 3288, 'name': 'The Mandalorian (Pro)', 'updated_at': '2023-09-14T11:44:15.769-07:00', 'ipdb_link': 'https://www.ipdb.org/machine.cgi?id=6828', 'year': 2021, 'manufacturer': 'Stern', 'machine_group_id': 85, 'ipdb_id': 6828, 'opdb_id': 'GBLLP-MkPpr', 'kineticist_url': 'https://www.kineticist.com/pinball-machines/the-mandalorian-2021'}}, {'id': 176560, 'created_at': '2025-03-04T14:22:47.630-08:00', 'updated_at': '2025-06-29T15:25:18.500-07:00', 'location_id': 25401, 'machine_id': 3641, 'ic_enabled': True, 'machine': {'id': 3641, 'name': 'James Bond 007 (Premium)', 'updated_at': '2023-09-14T11:44:16.657-07:00', 'ipdb_link': 'https://www.ipdb.org/machine.cgi?id=6897', 'year': 2022, 'manufacturer': 'Stern', 'machine_group_id': 95, 'ipdb_id': 6897, 'opdb_id': 'GQKyP-MP3OK-AOEEx', 'kineticist_url': 'https://www.kineticist.com/pinball-machines/james-bond-007-2022'}}, {'id': 176561, 'created_at': '2025-03-04T14:22:56.970-08:00', 'updated_at': '2025-05-02T16:31:32.713-07:00', 'location_id': 25401, 'machine_id': 3673, 'ic_enabled': True, 'machine': {'id': 3673, 'name': 'Foo Fighters (Pro)', 'updated_at': '2023-09-12T12:06:24.875-07:00', 'ipdb_link': None, 'year': 2023, 'manufacturer': 'Stern', 'machine_group_id': 99, 'ipdb_id': None, 'opdb_id': 'GpeoL-MyNPq', 'kineticist_url': 'https://www.kineticist.com/pinball-machines/foo-fighters-2023'}}, {'id': 173424, 'created_at': '2025-01-24T10:04:16.115-08:00', 'updated_at': '2025-07-10T17:08:16.461-07:00', 'location_id': 25401, 'machine_id': 2843, 'ic_enabled': True, 'machine': {'id': 2843, 'name': 'Star Wars (Pro)', 'updated_at': '2023-04-18T20:00:58.952-07:00', 'ipdb_link': 'https://www.ipdb.org/machine.cgi?id=6428', 'year': 2017, 'manufacturer': 'Stern', 'machine_group_id': 64, 'ipdb_id': 6428, 'opdb_id': 'G5vLR-MwNwy', 'kineticist_url': 'https://www.kineticist.com/pinball-machines/star-wars-2017'}}, {'id': 182798, 'created_at': '2025-05-28T05:45:47.838-07:00', 'updated_at': '2025-07-10T17:10:23.240-07:00', 'location_id': 25401, 'machine_id': 4533, 'ic_enabled': True, 'machine': {'id': 4533, 'name': 'King Kong: Myth of Terror Island (Pro)', 'updated_at': '2025-07-14T12:00:10.069-07:00', 'ipdb_link': None, 'year': 2025, 'manufacturer': 'Stern', 'machine_group_id': 125, 'ipdb_id': None, 'opdb_id': 'GEL0V-MBRyb', 'kineticist_url': 'https://www.kineticist.com/pinball-machines/king-kong-myth-of-terror-island-2025'}}, {'id': 182824, 'created_at': '2025-05-28T10:07:59.972-07:00', 'updated_at': '2025-07-11T16:49:40.340-07:00', 'location_id': 25401, 'machine_id': 3415, 'ic_enabled': True, 'machine': {'id': 3415, 'name': 'Godzilla (Pro)', 'updated_at': '2023-09-12T12:06:24.729-07:00', 'ipdb_link': 'https://www.ipdb.org/machine.cgi?id=6841', 'year': 2021, 'manufacturer': 'Stern', 'machine_group_id': 88, 'ipdb_id': 6841, 'opdb_id': 'GweeP-MW95j', 'kineticist_url': 'https://www.kineticist.com/pinball-machines/godzilla-2021'}}, {'id': 184815, 'created_at': '2025-06-18T12:32:16.132-07:00', 'updated_at': '2025-07-10T17:11:05.932-07:00', 'location_id': 25401, 'machine_id': 3799, 'ic_enabled': True, 'machine': {'id': 3799, 'name': 'JAWS (Pro)', 'updated_at': '2024-02-08T12:19:47.619-08:00', 'ipdb_link': None, 'year': 2024, 'manufacturer': 'Stern', 'machine_group_id': 106, 'ipdb_id': None, 'opdb_id': 'GLWll-MXr4N', 'kineticist_url': 'https://www.kineticist.com/pinball-machines/jaws-2024'}}, {'id': 184816, 'created_at': '2025-06-18T12:32:27.006-07:00', 'updated_at': '2025-07-10T17:11:55.237-07:00', 'location_id': 25401, 'machine_id': 4516, 'ic_enabled': True, 'machine': {'id': 4516, 'name': \"Dungeons & Dragons: The Tyrant's Eye (Pro)\", 'updated_at': '2025-02-16T08:11:03.038-08:00', 'ipdb_link': None, 'year': 2025, 'manufacturer': 'Stern', 'machine_group_id': 121, 'ipdb_id': None, 'opdb_id': 'GK1Ej-MwNZr', 'kineticist_url': 'https://www.kineticist.com/pinball-machines/dungeons--dragons-the-tyrants-eye-2025'}}]",
         "2025"
        ],
        [
         "9",
         "23459",
         "Bleachers Sports Grill",
         "6855 Ridge Rd",
         "Parma",
         "OH",
         "44129",
         "(440) 888-8900",
         "41.3788571",
         "-81.7334458",
         null,
         "2024-05-27 01:53:39.512000+00:00",
         "2025-01-20T14:30:56.379-08:00",
         null,
         "32",
         "14",
         "Only one machine. Visited and verified on 5/24/2024.",
         null,
         "2025-01-20",
         "36956.0",
         null,
         "US",
         "False",
         "1",
         "raccoon",
         "1",
         "[{'id': 156882, 'created_at': '2024-05-26T18:53:39.557-07:00', 'updated_at': '2025-01-20T14:30:56.404-08:00', 'location_id': 23459, 'machine_id': 3099, 'ic_enabled': False, 'machine': {'id': 3099, 'name': 'The Munsters (Pro)', 'updated_at': '2023-04-18T20:00:30.697-07:00', 'ipdb_link': 'https://www.ipdb.org/machine.cgi?id=6564', 'year': 2019, 'manufacturer': 'Stern', 'machine_group_id': 74, 'ipdb_id': 6564, 'opdb_id': 'GbPde-M5Rkv', 'kineticist_url': 'https://www.kineticist.com/pinball-machines/the-munsters-2019'}}]",
         "2024"
        ],
        [
         "10",
         "18788",
         "BrewDog Cleveland Outpost",
         "1956 Carter Rd",
         "Cleveland",
         "OH",
         "44113",
         "(216) 367-2494",
         "41.4925974",
         "-81.6979564",
         "https://www.brewdog.com/usa/cleveland",
         "2022-11-12 21:59:55.858000+00:00",
         "2025-05-18T19:50:50.846-07:00",
         null,
         "32",
         "14",
         null,
         null,
         "2025-05-18",
         "39487.0",
         null,
         "US",
         "True",
         "5",
         "sonicjoker",
         "5",
         "[{'id': 182102, 'created_at': '2025-05-18T19:51:13.935-07:00', 'updated_at': '2025-05-18T19:51:13.935-07:00', 'location_id': 18788, 'machine_id': 3799, 'ic_enabled': None, 'machine': {'id': 3799, 'name': 'JAWS (Pro)', 'updated_at': '2024-02-08T12:19:47.619-08:00', 'ipdb_link': None, 'year': 2024, 'manufacturer': 'Stern', 'machine_group_id': 106, 'ipdb_id': None, 'opdb_id': 'GLWll-MXr4N', 'kineticist_url': 'https://www.kineticist.com/pinball-machines/jaws-2024'}}, {'id': 133015, 'created_at': '2023-06-20T12:29:02.458-07:00', 'updated_at': '2025-05-29T13:48:15.218-07:00', 'location_id': 18788, 'machine_id': 3288, 'ic_enabled': True, 'machine': {'id': 3288, 'name': 'The Mandalorian (Pro)', 'updated_at': '2023-09-14T11:44:15.769-07:00', 'ipdb_link': 'https://www.ipdb.org/machine.cgi?id=6828', 'year': 2021, 'manufacturer': 'Stern', 'machine_group_id': 85, 'ipdb_id': 6828, 'opdb_id': 'GBLLP-MkPpr', 'kineticist_url': 'https://www.kineticist.com/pinball-machines/the-mandalorian-2021'}}, {'id': 133016, 'created_at': '2023-06-20T12:29:36.507-07:00', 'updated_at': '2024-04-08T13:01:39.215-07:00', 'location_id': 18788, 'machine_id': 2875, 'ic_enabled': True, 'machine': {'id': 2875, 'name': 'Guardians of the Galaxy (Pro)', 'updated_at': '2023-04-18T20:01:51.233-07:00', 'ipdb_link': 'https://www.ipdb.org/machine.cgi?id=6474', 'year': 2017, 'manufacturer': 'Stern', 'machine_group_id': 65, 'ipdb_id': 6474, 'opdb_id': 'GRWvz-Mp4yl', 'kineticist_url': 'https://www.kineticist.com/pinball-machines/guardians-of-the-galaxy-2017'}}, {'id': 150204, 'created_at': '2024-03-02T13:04:45.413-08:00', 'updated_at': '2025-05-29T11:52:43.272-07:00', 'location_id': 18788, 'machine_id': 2727, 'ic_enabled': False, 'machine': {'id': 2727, 'name': 'Batman 66 (Premium)', 'updated_at': '2023-09-12T12:06:24.002-07:00', 'ipdb_link': 'https://www.ipdb.org/machine.cgi?id=6354', 'year': 2016, 'manufacturer': 'Stern', 'machine_group_id': 59, 'ipdb_id': 6354, 'opdb_id': 'GRoz4-MjBV6', 'kineticist_url': 'https://www.kineticist.com/pinball-machines/batman-66-2016'}}, {'id': 150202, 'created_at': '2024-03-02T13:04:28.419-08:00', 'updated_at': '2024-03-02T13:04:28.774-08:00', 'location_id': 18788, 'machine_id': 3431, 'ic_enabled': True, 'machine': {'id': 3431, 'name': 'Rush (Pro)', 'updated_at': '2023-09-12T12:06:24.755-07:00', 'ipdb_link': 'https://www.ipdb.org/machine.cgi?id=6844', 'year': 2022, 'manufacturer': 'Stern', 'machine_group_id': 91, 'ipdb_id': 6844, 'opdb_id': 'G2Lkd-MNEdK', 'kineticist_url': 'https://www.kineticist.com/pinball-machines/rush-2022'}}]",
         "2022"
        ],
        [
         "11",
         "6019",
         "Brick and Barrel",
         "1844 Columbus Rd",
         "Cleveland",
         "OH",
         "44113",
         null,
         "41.48949",
         "-81.700787",
         null,
         "2015-09-01 16:01:41.434000+00:00",
         "2023-06-14T13:40:10.136-07:00",
         null,
         "32",
         "4",
         null,
         null,
         "2023-06-10",
         "22781.0",
         null,
         "US",
         "False",
         "1",
         "skors",
         "1",
         "[{'id': 86651, 'created_at': '2020-09-09T13:49:03.097-07:00', 'updated_at': '2023-06-14T13:40:10.127-07:00', 'location_id': 6019, 'machine_id': 2771, 'ic_enabled': False, 'machine': {'id': 2771, 'name': 'Aerosmith (Pro)', 'updated_at': '2023-04-18T20:03:11.617-07:00', 'ipdb_link': 'https://www.ipdb.org/machine.cgi?id=6370', 'year': 2017, 'manufacturer': 'Stern', 'machine_group_id': 61, 'ipdb_id': 6370, 'opdb_id': 'Gr16e-MnKEX', 'kineticist_url': 'https://www.kineticist.com/pinball-machines/aerosmith-2017'}}]",
         "2015"
        ],
        [
         "12",
         "22632",
         "Brighten Brewing Company",
         "1374 S Cleve-Mass Rd",
         "Copley",
         "OH",
         "44321",
         "(330) 576-3200",
         "41.100932797372",
         "-81.645193099495",
         "https://www.brightenbrew.com/",
         "2024-03-04 04:02:33.969000+00:00",
         "2025-01-07T14:06:50.333-08:00",
         null,
         "32",
         "62",
         null,
         null,
         "2024-12-04",
         "25780.0",
         null,
         "US",
         "False",
         "1",
         "pingarten",
         "1",
         "[{'id': 170102, 'created_at': '2024-12-04T17:20:16.594-08:00', 'updated_at': '2024-12-04T17:20:16.827-08:00', 'location_id': 22632, 'machine_id': 3800, 'ic_enabled': False, 'machine': {'id': 3800, 'name': 'JAWS (Premium)', 'updated_at': '2024-02-08T12:19:53.922-08:00', 'ipdb_link': None, 'year': 2024, 'manufacturer': 'Stern', 'machine_group_id': 106, 'ipdb_id': None, 'opdb_id': 'GLWll-M1r8O-ARnV7', 'kineticist_url': 'https://www.kineticist.com/pinball-machines/jaws-2024'}}]",
         "2024"
        ],
        [
         "13",
         "23710",
         "Broadway Grill & Games",
         "301 Broadway",
         "Lorain",
         "OH",
         "44052",
         "(440) 670-9320",
         "41.4681936",
         "-82.1774438",
         "https://broadwaygrillandgames.com/bgg/homePage.html",
         "2024-06-25 17:10:24.530000+00:00",
         "2024-06-25T10:10:24.566-07:00",
         null,
         "32",
         "14",
         "Basement level of the Ariel Hotel\nSun-Thur 11am-9pm\nFri & Sat 11am-11pm\nFull menu, w/drink & cocktails \nKid friendly.",
         null,
         "2024-06-25",
         null,
         null,
         "US",
         null,
         "3",
         "",
         "3",
         "[{'id': 158961, 'created_at': '2024-06-25T10:10:24.561-07:00', 'updated_at': '2024-06-25T10:10:24.561-07:00', 'location_id': 23710, 'machine_id': 3431, 'ic_enabled': None, 'machine': {'id': 3431, 'name': 'Rush (Pro)', 'updated_at': '2023-09-12T12:06:24.755-07:00', 'ipdb_link': 'https://www.ipdb.org/machine.cgi?id=6844', 'year': 2022, 'manufacturer': 'Stern', 'machine_group_id': 91, 'ipdb_id': 6844, 'opdb_id': 'G2Lkd-MNEdK', 'kineticist_url': 'https://www.kineticist.com/pinball-machines/rush-2022'}}, {'id': 158962, 'created_at': '2024-06-25T10:10:24.575-07:00', 'updated_at': '2024-06-25T10:10:24.575-07:00', 'location_id': 23710, 'machine_id': 3255, 'ic_enabled': None, 'machine': {'id': 3255, 'name': 'Teenage Mutant Ninja Turtles (Pro)', 'updated_at': '2023-04-18T20:06:23.330-07:00', 'ipdb_link': 'https://www.ipdb.org/machine.cgi?id=6730', 'year': 2020, 'manufacturer': 'Stern', 'machine_group_id': 81, 'ipdb_id': 6730, 'opdb_id': 'Gd2Xb-Mq1qv', 'kineticist_url': 'https://www.kineticist.com/pinball-machines/teenage-mutant-ninja-turtles-2020'}}, {'id': 158963, 'created_at': '2024-06-25T10:10:24.587-07:00', 'updated_at': '2024-06-25T10:10:24.587-07:00', 'location_id': 23710, 'machine_id': 3640, 'ic_enabled': None, 'machine': {'id': 3640, 'name': 'James Bond 007 (Pro)', 'updated_at': '2023-09-14T11:44:15.999-07:00', 'ipdb_link': 'https://www.ipdb.org/machine.cgi?id=6896', 'year': 2022, 'manufacturer': 'Stern', 'machine_group_id': 95, 'ipdb_id': 6896, 'opdb_id': 'GQKyP-Mx0O4', 'kineticist_url': 'https://www.kineticist.com/pinball-machines/james-bond-007-2022'}}]",
         "2024"
        ],
        [
         "14",
         "3747",
         "B Side Liquor Lounge & Arcade",
         "2785 Euclid Heights Blvd.",
         "Cleveland Heights",
         "OH",
         "44106",
         "216-932-1966",
         "41.5083171",
         "-81.5802997",
         "https://bsideliquorlounge.com",
         "2013-06-26 16:58:44.973000+00:00",
         "2023-10-23T20:01:50.031-07:00",
         null,
         "32",
         "4",
         null,
         null,
         "2023-10-23",
         "25009.0",
         "False",
         "US",
         "False",
         "2",
         "littlegreenone",
         "2",
         "[{'id': 137560, 'created_at': '2023-08-27T13:20:20.161-07:00', 'updated_at': '2023-08-27T13:20:20.161-07:00', 'location_id': 3747, 'machine_id': 3673, 'ic_enabled': None, 'machine': {'id': 3673, 'name': 'Foo Fighters (Pro)', 'updated_at': '2023-09-12T12:06:24.875-07:00', 'ipdb_link': None, 'year': 2023, 'manufacturer': 'Stern', 'machine_group_id': 99, 'ipdb_id': None, 'opdb_id': 'GpeoL-MyNPq', 'kineticist_url': 'https://www.kineticist.com/pinball-machines/foo-fighters-2023'}}, {'id': 127071, 'created_at': '2023-03-26T09:37:42.199-07:00', 'updated_at': '2023-05-08T11:27:04.422-07:00', 'location_id': 3747, 'machine_id': 2925, 'ic_enabled': False, 'machine': {'id': 2925, 'name': 'Iron Maiden: Legacy of the Beast (LE)', 'updated_at': '2023-04-18T20:02:11.777-07:00', 'ipdb_link': 'https://www.ipdb.org/machine.cgi?id=6557', 'year': 2018, 'manufacturer': 'Stern', 'machine_group_id': 66, 'ipdb_id': 6557, 'opdb_id': 'G4dOQ-MW970', 'kineticist_url': 'https://www.kineticist.com/pinball-machines/iron-maiden-legacy-of-the-beast-2018'}}]",
         "2013"
        ],
        [
         "15",
         "25031",
         "Buffalo Wild Wings",
         "9062 OH-14",
         "Streetsboro",
         "OH",
         "44241",
         "(330) 626-1515",
         "41.2378182",
         "-81.336632",
         "https://www.buffalowildwings.com/locations/us/oh/streetsboro/9062-state-route-14/sports-bar-387",
         "2024-12-02 21:15:43.299000+00:00",
         "2024-12-02T13:15:43.336-08:00",
         null,
         "32",
         "5",
         null,
         null,
         "2024-12-02",
         "23743.0",
         null,
         "US",
         null,
         "2",
         "one2go",
         "2",
         "[{'id': 169962, 'created_at': '2024-12-02T13:15:43.331-08:00', 'updated_at': '2024-12-02T13:15:43.331-08:00', 'location_id': 25031, 'machine_id': 3228, 'ic_enabled': None, 'machine': {'id': 3228, 'name': 'Stranger Things (LE)', 'updated_at': '2023-04-18T20:05:59.501-07:00', 'ipdb_link': 'https://www.ipdb.org/machine.cgi?id=6644', 'year': 2019, 'manufacturer': 'Stern', 'machine_group_id': 80, 'ipdb_id': 6644, 'opdb_id': 'Gzy89-M0oPy-A9xXV', 'kineticist_url': 'https://www.kineticist.com/pinball-machines/stranger-things-2019'}}, {'id': 169963, 'created_at': '2024-12-02T13:15:43.357-08:00', 'updated_at': '2024-12-02T13:15:43.357-08:00', 'location_id': 25031, 'machine_id': 1329, 'ic_enabled': None, 'machine': {'id': 1329, 'name': 'AC/DC (LE)', 'updated_at': '2023-09-14T11:44:16.134-07:00', 'ipdb_link': 'https://www.ipdb.org/machine.cgi?id=5777', 'year': 2012, 'manufacturer': 'Stern', 'machine_group_id': 1, 'ipdb_id': 5777, 'opdb_id': 'G43W4-MrRpw-A1B7O', 'kineticist_url': 'https://www.kineticist.com/pinball-machines/acdc-2012'}}]",
         "2024"
        ],
        [
         "16",
         "17748",
         "Chapeldale Laundromat",
         "1973 Hubbard Rd",
         "Madison",
         "OH",
         "44057",
         "440-354-0550",
         "41.8204579",
         "-81.0479827",
         "https://chapeldale-laundromat.edan.io/",
         "2022-06-13 03:15:58.430000+00:00",
         "2024-05-09T13:55:44.939-07:00",
         null,
         "32",
         "11",
         "At the \"Madison Ace Hardware\" strip mall.\r\n\r\n$.50 a play. Dmd partially broken, but game in ok condition. Games owned by Power Entertainment.",
         null,
         "2024-05-09",
         "20292.0",
         "False",
         "US",
         "False",
         "1",
         "halldoc1",
         "1",
         "[{'id': 111732, 'created_at': '2022-06-12T20:15:58.438-07:00', 'updated_at': '2022-06-12T20:15:58.438-07:00', 'location_id': 17748, 'machine_id': 687, 'ic_enabled': None, 'machine': {'id': 687, 'name': 'The Addams Family', 'updated_at': '2023-01-17T10:44:22.813-08:00', 'ipdb_link': 'https://www.ipdb.org/machine.cgi?id=20', 'year': 1992, 'manufacturer': 'Bally', 'machine_group_id': 55, 'ipdb_id': 20, 'opdb_id': 'G4ODR-MDXEy', 'kineticist_url': 'https://www.kineticist.com/pinball-machines/the-addams-family-1992'}}]",
         "2022"
        ],
        [
         "17",
         "21603",
         "Charlie's Pub",
         "13347 Lorain Ave",
         "Cleveland",
         "OH",
         "44111",
         null,
         "41.4571214",
         "-81.7829101",
         null,
         "2023-11-04 04:21:05.484000+00:00",
         "2025-04-06T14:13:42.642-07:00",
         null,
         "32",
         "4",
         null,
         null,
         "2025-04-06",
         "14754.0",
         null,
         "US",
         null,
         "1",
         "abigfigwasp",
         "1",
         "[{'id': 178840, 'created_at': '2025-04-06T14:13:42.634-07:00', 'updated_at': '2025-04-06T14:13:42.634-07:00', 'location_id': 21603, 'machine_id': 650, 'ic_enabled': None, 'machine': {'id': 650, 'name': 'Tales of the Arabian Nights', 'updated_at': '2023-01-17T10:44:24.465-08:00', 'ipdb_link': 'https://www.ipdb.org/machine.cgi?id=3824', 'year': 1996, 'manufacturer': 'Williams', 'machine_group_id': None, 'ipdb_id': 3824, 'opdb_id': 'G4llj-MQYb2', 'kineticist_url': 'https://www.kineticist.com/pinball-machines/tales-of-the-arabian-nights-1996'}}]",
         "2023"
        ],
        [
         "18",
         "18789",
         "City Slice Pizzeria",
         "12021 Lorain Ave",
         "Cleveland",
         "OH",
         "44111",
         "216-273-7504",
         "41.4606686",
         "-81.7719945",
         "https://www.facebook.com/CitySlice216/",
         "2022-11-12 22:01:25.626000+00:00",
         "2025-03-09T15:02:46.126-07:00",
         null,
         "32",
         "30",
         "Pizza parlor with a small arcade",
         null,
         "2025-03-09",
         "22781.0",
         null,
         "US",
         "False",
         "2",
         "skors",
         "2",
         "[{'id': 175991, 'created_at': '2025-02-24T15:29:49.819-08:00', 'updated_at': '2025-03-09T15:02:39.316-07:00', 'location_id': 18789, 'machine_id': 3415, 'ic_enabled': False, 'machine': {'id': 3415, 'name': 'Godzilla (Pro)', 'updated_at': '2023-09-12T12:06:24.729-07:00', 'ipdb_link': 'https://www.ipdb.org/machine.cgi?id=6841', 'year': 2021, 'manufacturer': 'Stern', 'machine_group_id': 88, 'ipdb_id': 6841, 'opdb_id': 'GweeP-MW95j', 'kineticist_url': 'https://www.kineticist.com/pinball-machines/godzilla-2021'}}, {'id': 119650, 'created_at': '2022-11-12T14:01:25.633-08:00', 'updated_at': '2023-04-22T13:53:03.100-07:00', 'location_id': 18789, 'machine_id': 2876, 'ic_enabled': False, 'machine': {'id': 2876, 'name': 'Guardians of the Galaxy (Premium)', 'updated_at': '2023-04-18T20:01:55.797-07:00', 'ipdb_link': 'https://www.ipdb.org/machine.cgi?id=6475', 'year': 2017, 'manufacturer': 'Stern', 'machine_group_id': 65, 'ipdb_id': 6475, 'opdb_id': 'GRWvz-Mx0eb', 'kineticist_url': 'https://www.kineticist.com/pinball-machines/guardians-of-the-galaxy-2017'}}]",
         "2022"
        ],
        [
         "19",
         "26444",
         "Cleats North Royalton",
         "5267 Wallings Rd",
         "North Royalton",
         "OH",
         "44133",
         "(440) 237-2665",
         "41.3305531",
         "-81.7237064",
         "https://www.cleatswings.com/north-royalton",
         "2025-05-26 04:56:15.781000+00:00",
         "2025-05-25T21:56:15.805-07:00",
         null,
         "32",
         "4",
         null,
         null,
         "2025-05-25",
         "36356.0",
         null,
         "US",
         null,
         "1",
         "londo",
         "1",
         "[{'id': 182639, 'created_at': '2025-05-25T21:56:15.802-07:00', 'updated_at': '2025-05-25T21:56:15.802-07:00', 'location_id': 26444, 'machine_id': 2203, 'ic_enabled': None, 'machine': {'id': 2203, 'name': 'The Walking Dead (Pro)', 'updated_at': '2023-01-17T10:44:28.190-08:00', 'ipdb_link': 'https://www.ipdb.org/machine.cgi?id=6155', 'year': 2014, 'manufacturer': 'Stern', 'machine_group_id': 16, 'ipdb_id': 6155, 'opdb_id': 'G5nz5-M3d38', 'kineticist_url': 'https://www.kineticist.com/pinball-machines/the-walking-dead-2014'}}]",
         "2025"
        ],
        [
         "20",
         "18872",
         "Collision Bend Brewing Company",
         "1250 Old River Rd",
         "Cleveland",
         "OH",
         "44113",
         "(216) 273-7879",
         "41.4987861",
         "-81.7040533",
         "https://www.collisionbendbrewery.com/",
         "2022-12-01 16:53:32.896000+00:00",
         "2025-06-18T12:33:19.352-07:00",
         null,
         "32",
         "62",
         "Home of 216 PINBALL   .50 - $1.00 per game. Has change machine in lobby. Amazing food,drinks and pinball fun. Check out 216 Pinball on Facebook, and instagram for tournaments and Special Events 🤙🏻 For the Dream. machines take $ bills.",
         "615.0",
         "2025-06-18",
         "19683.0",
         null,
         "US",
         "True",
         "11",
         "luckydevil",
         "11",
         "[{'id': 122464, 'created_at': '2023-01-07T06:32:39.110-08:00', 'updated_at': '2024-01-21T07:30:36.291-08:00', 'location_id': 18872, 'machine_id': 3255, 'ic_enabled': True, 'machine': {'id': 3255, 'name': 'Teenage Mutant Ninja Turtles (Pro)', 'updated_at': '2023-04-18T20:06:23.330-07:00', 'ipdb_link': 'https://www.ipdb.org/machine.cgi?id=6730', 'year': 2020, 'manufacturer': 'Stern', 'machine_group_id': 81, 'ipdb_id': 6730, 'opdb_id': 'Gd2Xb-Mq1qv', 'kineticist_url': 'https://www.kineticist.com/pinball-machines/teenage-mutant-ninja-turtles-2020'}}, {'id': 170246, 'created_at': '2024-12-07T10:39:42.631-08:00', 'updated_at': '2024-12-07T10:39:52.973-08:00', 'location_id': 18872, 'machine_id': 4506, 'ic_enabled': True, 'machine': {'id': 4506, 'name': 'The Uncanny X-Men (Pro)', 'updated_at': '2024-10-28T12:00:07.233-07:00', 'ipdb_link': None, 'year': 2024, 'manufacturer': 'Stern', 'machine_group_id': 116, 'ipdb_id': None, 'opdb_id': 'G7ZEz-MBRYn', 'kineticist_url': 'https://www.kineticist.com/pinball-machines/the-uncanny-x-men-2024'}}, {'id': 184817, 'created_at': '2025-06-18T12:35:04.354-07:00', 'updated_at': '2025-06-18T12:35:04.354-07:00', 'location_id': 18872, 'machine_id': 3271, 'ic_enabled': None, 'machine': {'id': 3271, 'name': \"Guns N' Roses (LE)\", 'updated_at': '2023-09-14T11:44:15.698-07:00', 'ipdb_link': 'https://www.ipdb.org/machine.cgi?id=6765', 'year': 2020, 'manufacturer': 'Jersey Jack', 'machine_group_id': 83, 'ipdb_id': 6765, 'opdb_id': 'GqZZ1-M85y9', 'kineticist_url': 'https://www.kineticist.com/pinball-machines/guns-n-roses-2020'}}, {'id': 184818, 'created_at': '2025-06-18T12:35:16.700-07:00', 'updated_at': '2025-06-18T12:35:16.999-07:00', 'location_id': 18872, 'machine_id': 3022, 'ic_enabled': True, 'machine': {'id': 3022, 'name': 'Deadpool (Pro)', 'updated_at': '2023-04-18T20:05:02.662-07:00', 'ipdb_link': 'https://www.ipdb.org/machine.cgi?id=6558', 'year': 2018, 'manufacturer': 'Stern', 'machine_group_id': 70, 'ipdb_id': 6558, 'opdb_id': 'G6lnq-Mq1kv', 'kineticist_url': 'https://www.kineticist.com/pinball-machines/deadpool-2018'}}, {'id': 184819, 'created_at': '2025-06-18T12:35:29.174-07:00', 'updated_at': '2025-06-18T12:35:29.502-07:00', 'location_id': 18872, 'machine_id': 4533, 'ic_enabled': True, 'machine': {'id': 4533, 'name': 'King Kong: Myth of Terror Island (Pro)', 'updated_at': '2025-07-14T12:00:10.069-07:00', 'ipdb_link': None, 'year': 2025, 'manufacturer': 'Stern', 'machine_group_id': 125, 'ipdb_id': None, 'opdb_id': 'GEL0V-MBRyb', 'kineticist_url': 'https://www.kineticist.com/pinball-machines/king-kong-myth-of-terror-island-2025'}}, {'id': 149882, 'created_at': '2024-02-29T13:09:53.515-08:00', 'updated_at': '2025-04-04T13:58:40.625-07:00', 'location_id': 18872, 'machine_id': 3267, 'ic_enabled': True, 'machine': {'id': 3267, 'name': 'Avengers: Infinity Quest (Pro)', 'updated_at': '2023-09-20T16:51:31.448-07:00', 'ipdb_link': 'https://www.ipdb.org/machine.cgi?id=6754', 'year': 2020, 'manufacturer': 'Stern', 'machine_group_id': 82, 'ipdb_id': 6754, 'opdb_id': 'Gj66P-M3dxn', 'kineticist_url': 'https://www.kineticist.com/pinball-machines/avengers-infinity-quest-2020'}}, {'id': 149881, 'created_at': '2024-02-29T13:09:31.959-08:00', 'updated_at': '2024-02-29T13:09:32.233-08:00', 'location_id': 18872, 'machine_id': 3738, 'ic_enabled': True, 'machine': {'id': 3738, 'name': 'Venom (Pro)', 'updated_at': '2023-09-14T11:44:16.092-07:00', 'ipdb_link': None, 'year': 2023, 'manufacturer': 'Stern', 'machine_group_id': 104, 'ipdb_id': None, 'opdb_id': 'G3EBl-Mq1zy', 'kineticist_url': 'https://www.kineticist.com/pinball-machines/venom-2023'}}, {'id': 127166, 'created_at': '2023-03-28T12:09:53.147-07:00', 'updated_at': '2023-05-15T13:59:37.330-07:00', 'location_id': 18872, 'machine_id': 3673, 'ic_enabled': True, 'machine': {'id': 3673, 'name': 'Foo Fighters (Pro)', 'updated_at': '2023-09-12T12:06:24.875-07:00', 'ipdb_link': None, 'year': 2023, 'manufacturer': 'Stern', 'machine_group_id': 99, 'ipdb_id': None, 'opdb_id': 'GpeoL-MyNPq', 'kineticist_url': 'https://www.kineticist.com/pinball-machines/foo-fighters-2023'}}, {'id': 159414, 'created_at': '2024-07-01T12:57:03.129-07:00', 'updated_at': '2025-04-06T12:25:09.874-07:00', 'location_id': 18872, 'machine_id': 3099, 'ic_enabled': True, 'machine': {'id': 3099, 'name': 'The Munsters (Pro)', 'updated_at': '2023-04-18T20:00:30.697-07:00', 'ipdb_link': 'https://www.ipdb.org/machine.cgi?id=6564', 'year': 2019, 'manufacturer': 'Stern', 'machine_group_id': 74, 'ipdb_id': 6564, 'opdb_id': 'GbPde-M5Rkv', 'kineticist_url': 'https://www.kineticist.com/pinball-machines/the-munsters-2019'}}, {'id': 159415, 'created_at': '2024-07-01T12:57:22.017-07:00', 'updated_at': '2024-07-01T12:57:22.293-07:00', 'location_id': 18872, 'machine_id': 3845, 'ic_enabled': True, 'machine': {'id': 3845, 'name': 'John Wick (Pro)', 'updated_at': '2024-05-18T07:24:16.627-07:00', 'ipdb_link': None, 'year': 2024, 'manufacturer': 'Stern', 'machine_group_id': 115, 'ipdb_id': None, 'opdb_id': 'GQK1P-MW9pj', 'kineticist_url': 'https://www.kineticist.com/pinball-machines/john-wick-2024'}}, {'id': 159619, 'created_at': '2024-07-04T14:31:44.853-07:00', 'updated_at': '2024-07-04T14:31:45.201-07:00', 'location_id': 18872, 'machine_id': 3226, 'ic_enabled': True, 'machine': {'id': 3226, 'name': 'Stranger Things (Pro)', 'updated_at': '2023-04-18T20:05:51.189-07:00', 'ipdb_link': 'https://www.ipdb.org/machine.cgi?id=6642', 'year': 2019, 'manufacturer': 'Stern', 'machine_group_id': 80, 'ipdb_id': 6642, 'opdb_id': 'Gzy89-MNEeO', 'kineticist_url': 'https://www.kineticist.com/pinball-machines/stranger-things-2019'}}]",
         "2022"
        ],
        [
         "21",
         "22548",
         "Collision Bend Brewing Company Euclid",
         "1261 Babbitt Rd",
         "Euclid",
         "OH",
         "44132",
         "(216) 505-6080",
         "41.5909546",
         "-81.5086279",
         "https://www.collisionbendbrewery.com/",
         "2024-02-22 20:49:22.945000+00:00",
         "2025-06-27T16:56:38.176-07:00",
         null,
         "32",
         "62",
         "216 PINBALL “East side”\nTournaments,events,fun\nGreat food, drinks and atmosphere\nno change machine but u can use $ bills in the machines",
         "615.0",
         "2025-06-27",
         "20292.0",
         null,
         "US",
         "True",
         "10",
         "halldoc1",
         "10",
         "[{'id': 175497, 'created_at': '2025-02-18T10:14:39.469-08:00', 'updated_at': '2025-05-02T05:36:35.234-07:00', 'location_id': 22548, 'machine_id': 4516, 'ic_enabled': True, 'machine': {'id': 4516, 'name': \"Dungeons & Dragons: The Tyrant's Eye (Pro)\", 'updated_at': '2025-02-16T08:11:03.038-08:00', 'ipdb_link': None, 'year': 2025, 'manufacturer': 'Stern', 'machine_group_id': 121, 'ipdb_id': None, 'opdb_id': 'GK1Ej-MwNZr', 'kineticist_url': 'https://www.kineticist.com/pinball-machines/dungeons--dragons-the-tyrants-eye-2025'}}, {'id': 168252, 'created_at': '2024-11-07T06:57:26.892-08:00', 'updated_at': '2025-06-27T16:59:01.742-07:00', 'location_id': 22548, 'machine_id': 4506, 'ic_enabled': True, 'machine': {'id': 4506, 'name': 'The Uncanny X-Men (Pro)', 'updated_at': '2024-10-28T12:00:07.233-07:00', 'ipdb_link': None, 'year': 2024, 'manufacturer': 'Stern', 'machine_group_id': 116, 'ipdb_id': None, 'opdb_id': 'G7ZEz-MBRYn', 'kineticist_url': 'https://www.kineticist.com/pinball-machines/the-uncanny-x-men-2024'}}, {'id': 182799, 'created_at': '2025-05-28T05:46:26.528-07:00', 'updated_at': '2025-06-27T16:56:16.294-07:00', 'location_id': 22548, 'machine_id': 4533, 'ic_enabled': True, 'machine': {'id': 4533, 'name': 'King Kong: Myth of Terror Island (Pro)', 'updated_at': '2025-07-14T12:00:10.069-07:00', 'ipdb_link': None, 'year': 2025, 'manufacturer': 'Stern', 'machine_group_id': 125, 'ipdb_id': None, 'opdb_id': 'GEL0V-MBRyb', 'kineticist_url': 'https://www.kineticist.com/pinball-machines/king-kong-myth-of-terror-island-2025'}}, {'id': 149315, 'created_at': '2024-02-22T12:49:22.979-08:00', 'updated_at': '2025-05-02T05:45:53.405-07:00', 'location_id': 22548, 'machine_id': 3799, 'ic_enabled': True, 'machine': {'id': 3799, 'name': 'JAWS (Pro)', 'updated_at': '2024-02-08T12:19:47.619-08:00', 'ipdb_link': None, 'year': 2024, 'manufacturer': 'Stern', 'machine_group_id': 106, 'ipdb_id': None, 'opdb_id': 'GLWll-MXr4N', 'kineticist_url': 'https://www.kineticist.com/pinball-machines/jaws-2024'}}, {'id': 149320, 'created_at': '2024-02-22T12:49:23.065-08:00', 'updated_at': '2025-05-16T17:05:26.997-07:00', 'location_id': 22548, 'machine_id': 3640, 'ic_enabled': True, 'machine': {'id': 3640, 'name': 'James Bond 007 (Pro)', 'updated_at': '2023-09-14T11:44:15.999-07:00', 'ipdb_link': 'https://www.ipdb.org/machine.cgi?id=6896', 'year': 2022, 'manufacturer': 'Stern', 'machine_group_id': 95, 'ipdb_id': 6896, 'opdb_id': 'GQKyP-Mx0O4', 'kineticist_url': 'https://www.kineticist.com/pinball-machines/james-bond-007-2022'}}, {'id': 149317, 'created_at': '2024-02-22T12:49:23.017-08:00', 'updated_at': '2025-05-06T16:05:08.531-07:00', 'location_id': 22548, 'machine_id': 3226, 'ic_enabled': True, 'machine': {'id': 3226, 'name': 'Stranger Things (Pro)', 'updated_at': '2023-04-18T20:05:51.189-07:00', 'ipdb_link': 'https://www.ipdb.org/machine.cgi?id=6642', 'year': 2019, 'manufacturer': 'Stern', 'machine_group_id': 80, 'ipdb_id': 6642, 'opdb_id': 'Gzy89-MNEeO', 'kineticist_url': 'https://www.kineticist.com/pinball-machines/stranger-things-2019'}}, {'id': 149316, 'created_at': '2024-02-22T12:49:22.999-08:00', 'updated_at': '2025-05-16T17:04:46.122-07:00', 'location_id': 22548, 'machine_id': 3738, 'ic_enabled': True, 'machine': {'id': 3738, 'name': 'Venom (Pro)', 'updated_at': '2023-09-14T11:44:16.092-07:00', 'ipdb_link': None, 'year': 2023, 'manufacturer': 'Stern', 'machine_group_id': 104, 'ipdb_id': None, 'opdb_id': 'G3EBl-Mq1zy', 'kineticist_url': 'https://www.kineticist.com/pinball-machines/venom-2023'}}, {'id': 149829, 'created_at': '2024-02-28T15:48:00.942-08:00', 'updated_at': '2025-05-02T05:34:30.656-07:00', 'location_id': 22548, 'machine_id': 2441, 'ic_enabled': None, 'machine': {'id': 2441, 'name': 'Game of Thrones (Pro)', 'updated_at': '2023-01-17T10:44:28.665-08:00', 'ipdb_link': 'https://www.ipdb.org/machine.cgi?id=6307', 'year': 2015, 'manufacturer': 'Stern', 'machine_group_id': 22, 'ipdb_id': 6307, 'opdb_id': 'G41d5-MKNwX', 'kineticist_url': 'https://www.kineticist.com/pinball-machines/game-of-thrones-2015'}}, {'id': 155846, 'created_at': '2024-05-15T10:46:50.027-07:00', 'updated_at': '2025-05-16T17:01:32.629-07:00', 'location_id': 22548, 'machine_id': 3167, 'ic_enabled': True, 'machine': {'id': 3167, 'name': 'Jurassic Park (Pro)', 'updated_at': '2023-04-18T20:05:39.850-07:00', 'ipdb_link': 'https://www.ipdb.org/machine.cgi?id=6573', 'year': 2019, 'manufacturer': 'Stern', 'machine_group_id': 78, 'ipdb_id': 6573, 'opdb_id': 'GK17D-MdEqz', 'kineticist_url': 'https://www.kineticist.com/pinball-machines/jurassic-park-2019'}}, {'id': 157201, 'created_at': '2024-05-30T22:52:26.310-07:00', 'updated_at': '2025-05-06T16:05:57.310-07:00', 'location_id': 22548, 'machine_id': 3845, 'ic_enabled': True, 'machine': {'id': 3845, 'name': 'John Wick (Pro)', 'updated_at': '2024-05-18T07:24:16.627-07:00', 'ipdb_link': None, 'year': 2024, 'manufacturer': 'Stern', 'machine_group_id': 115, 'ipdb_id': None, 'opdb_id': 'GQK1P-MW9pj', 'kineticist_url': 'https://www.kineticist.com/pinball-machines/john-wick-2024'}}]",
         "2024"
        ],
        [
         "22",
         "6018",
         "Common Grounds",
         "17104 Lorain Ave",
         "Cleveland",
         "OH",
         "44111",
         "216-713-0433",
         "41.4505196",
         "-81.8160821",
         "http://facebook.com/commongroundscoffee",
         "2015-09-01 16:00:43.513000+00:00",
         "2025-03-30T17:04:18.947-07:00",
         null,
         "32",
         "5",
         "Coffee shop",
         null,
         "2025-03-30",
         "22781.0",
         "False",
         "US",
         "False",
         "4",
         "skors",
         "4",
         "[{'id': 137644, 'created_at': '2023-08-29T08:18:29.164-07:00', 'updated_at': '2023-08-29T08:18:29.164-07:00', 'location_id': 6018, 'machine_id': 695, 'ic_enabled': None, 'machine': {'id': 695, 'name': 'Junk Yard', 'updated_at': '2023-01-17T10:44:26.644-08:00', 'ipdb_link': 'https://www.ipdb.org/machine.cgi?id=4014', 'year': 1996, 'manufacturer': 'Williams', 'machine_group_id': None, 'ipdb_id': 4014, 'opdb_id': 'GRLlj-MQZN8', 'kineticist_url': 'https://www.kineticist.com/pinball-machines/junk-yard-1996'}}, {'id': 157903, 'created_at': '2024-06-08T21:37:44.329-07:00', 'updated_at': '2024-06-08T21:37:44.329-07:00', 'location_id': 6018, 'machine_id': 1430, 'ic_enabled': None, 'machine': {'id': 1430, 'name': 'The Avengers (Pro)', 'updated_at': '2023-01-17T10:44:24.247-08:00', 'ipdb_link': 'https://www.ipdb.org/machine.cgi?id=5938', 'year': 2012, 'manufacturer': 'Stern', 'machine_group_id': 2, 'ipdb_id': 5938, 'opdb_id': 'GRzNR-MLlEj', 'kineticist_url': 'https://www.kineticist.com/pinball-machines/the-avengers-2012'}}, {'id': 125382, 'created_at': '2023-02-27T14:08:15.348-08:00', 'updated_at': '2023-05-16T10:12:24.176-07:00', 'location_id': 6018, 'machine_id': 707, 'ic_enabled': None, 'machine': {'id': 707, 'name': 'World Cup Soccer', 'updated_at': '2023-01-17T10:44:25.589-08:00', 'ipdb_link': 'https://www.ipdb.org/machine.cgi?id=2811', 'year': 1994, 'manufacturer': 'Bally', 'machine_group_id': None, 'ipdb_id': 2811, 'opdb_id': 'G42E2-MQP9e', 'kineticist_url': 'https://www.kineticist.com/pinball-machines/world-cup-soccer-1994'}}, {'id': 119059, 'created_at': '2022-11-01T14:55:46.533-07:00', 'updated_at': '2022-11-01T14:55:46.533-07:00', 'location_id': 6018, 'machine_id': 2203, 'ic_enabled': None, 'machine': {'id': 2203, 'name': 'The Walking Dead (Pro)', 'updated_at': '2023-01-17T10:44:28.190-08:00', 'ipdb_link': 'https://www.ipdb.org/machine.cgi?id=6155', 'year': 2014, 'manufacturer': 'Stern', 'machine_group_id': 16, 'ipdb_id': 6155, 'opdb_id': 'G5nz5-M3d38', 'kineticist_url': 'https://www.kineticist.com/pinball-machines/the-walking-dead-2014'}}]",
         "2015"
        ],
        [
         "23",
         "24026",
         "Corbo's Bakery",
         "12210 Mayfield Rd",
         "Cleveland",
         "OH",
         "44106",
         "(216) 421-8181",
         "41.5084145",
         "-81.5975784",
         "http://corbosbakery.net/",
         "2024-07-31 18:57:58.152000+00:00",
         "2024-07-31T11:57:58.193-07:00",
         null,
         "32",
         "5",
         null,
         null,
         "2024-07-31",
         "33656.0",
         null,
         "US",
         null,
         "1",
         "5p4c3m4n",
         "1",
         "[{'id': 161533, 'created_at': '2024-07-31T11:57:58.187-07:00', 'updated_at': '2024-07-31T11:57:58.187-07:00', 'location_id': 24026, 'machine_id': 873, 'ic_enabled': None, 'machine': {'id': 873, 'name': 'Avatar', 'updated_at': '2023-01-17T10:44:25.917-08:00', 'ipdb_link': 'https://www.ipdb.org/machine.cgi?id=5618', 'year': 2010, 'manufacturer': 'Stern', 'machine_group_id': 15, 'ipdb_id': 5618, 'opdb_id': 'GrZBr-MDbx7', 'kineticist_url': 'https://www.kineticist.com/pinball-machines/avatar-2010'}}]",
         "2024"
        ],
        [
         "24",
         "14840",
         "Creekside Inn",
         "1938 US-322",
         "Orwell",
         "OH",
         "44076",
         "440-437-5223",
         "41.5349042",
         "-80.8187687",
         "",
         "2020-09-23 20:44:35.965000+00:00",
         "2020-09-23T13:44:36.123-07:00",
         null,
         "32",
         "4",
         null,
         null,
         "2020-09-23",
         null,
         null,
         "US",
         null,
         "1",
         "",
         "1",
         "[{'id': 86976, 'created_at': '2020-09-23T13:44:36.105-07:00', 'updated_at': '2020-09-23T13:44:36.105-07:00', 'location_id': 14840, 'machine_id': 857, 'ic_enabled': None, 'machine': {'id': 857, 'name': 'Breakshot', 'updated_at': '2023-01-17T10:44:28.861-08:00', 'ipdb_link': 'https://www.ipdb.org/machine.cgi?id=3784', 'year': 1996, 'manufacturer': 'Capcom', 'machine_group_id': None, 'ipdb_id': 3784, 'opdb_id': 'G43oE-M0ok5', 'kineticist_url': 'https://www.kineticist.com/pinball-machines/breakshot-1996'}}]",
         "2020"
        ],
        [
         "25",
         "25076",
         "Deli Ohio",
         "328 Walnut Ave NE",
         "Canton",
         "OH",
         "44702",
         "(330) 453-7777",
         "40.7999888",
         "-81.3719463",
         "http://www.deliohio.com/",
         "2024-12-09 17:08:12.994000+00:00",
         "2024-12-17T08:41:04.616-08:00",
         null,
         "32",
         "5",
         "Located inside the Fourth Street Collective. Deli Ohio in the Am. Mikes pizza and the Woodshop in the afternoon.",
         null,
         "2024-12-17",
         "3403.0",
         null,
         "US",
         null,
         "1",
         "silverballmania",
         "1",
         "[{'id': 170784, 'created_at': '2024-12-17T08:41:04.612-08:00', 'updated_at': '2024-12-17T08:41:04.612-08:00', 'location_id': 25076, 'machine_id': 1457, 'ic_enabled': None, 'machine': {'id': 1457, 'name': 'The Wizard of Oz (Standard Edition)', 'updated_at': '2025-03-26T15:20:30.959-07:00', 'ipdb_link': 'https://www.ipdb.org/machine.cgi?id=5800', 'year': 2013, 'manufacturer': 'Jersey Jack', 'machine_group_id': 3, 'ipdb_id': 5800, 'opdb_id': 'G4xyR-MJ2v0', 'kineticist_url': 'https://www.kineticist.com/pinball-machines/the-wizard-of-oz-2013'}}]",
         "2024"
        ],
        [
         "26",
         "19435",
         "Deluxe Bar",
         "893 Main St",
         "Grafton",
         "OH",
         "44044",
         "440-926-3306",
         "41.273829",
         "-82.0575473",
         null,
         "2023-02-16 19:06:56.154000+00:00",
         "2023-02-18T08:35:48.313-08:00",
         null,
         "32",
         "4",
         null,
         null,
         "2023-02-18",
         "725.0",
         null,
         "US",
         null,
         "1",
         "krull",
         "1",
         "[{'id': 124795, 'created_at': '2023-02-16T11:06:56.165-08:00', 'updated_at': '2023-02-18T08:35:48.319-08:00', 'location_id': 19435, 'machine_id': 3267, 'ic_enabled': None, 'machine': {'id': 3267, 'name': 'Avengers: Infinity Quest (Pro)', 'updated_at': '2023-09-20T16:51:31.448-07:00', 'ipdb_link': 'https://www.ipdb.org/machine.cgi?id=6754', 'year': 2020, 'manufacturer': 'Stern', 'machine_group_id': 82, 'ipdb_id': 6754, 'opdb_id': 'Gj66P-M3dxn', 'kineticist_url': 'https://www.kineticist.com/pinball-machines/avengers-infinity-quest-2020'}}]",
         "2023"
        ],
        [
         "27",
         "20152",
         "Diamond Royale",
         "4675 Munson St NW",
         "Canton",
         "OH",
         "44718",
         "330-499-8577",
         "40.8496262",
         "-81.4365254",
         "http://www.dmclubs.com/",
         "2023-05-18 02:46:58.143000+00:00",
         "2023-09-30T04:26:12.210-07:00",
         null,
         "32",
         "14",
         "Gentlemen’s Club",
         null,
         "2023-09-30",
         "3403.0",
         null,
         "US",
         null,
         "1",
         "silverballmania",
         "1",
         "[{'id': 130748, 'created_at': '2023-05-17T19:46:58.178-07:00', 'updated_at': '2023-05-17T19:46:58.178-07:00', 'location_id': 20152, 'machine_id': 682, 'ic_enabled': None, 'machine': {'id': 682, 'name': 'The Simpsons Pinball Party', 'updated_at': '2023-01-17T10:44:30.444-08:00', 'ipdb_link': 'https://www.ipdb.org/machine.cgi?id=4674', 'year': 2003, 'manufacturer': 'Stern', 'machine_group_id': None, 'ipdb_id': 4674, 'opdb_id': 'GRvBL-MP3Ev', 'kineticist_url': 'https://www.kineticist.com/pinball-machines/the-simpsons-pinball-party-2003'}}]",
         "2023"
        ],
        [
         "28",
         "10178",
         "Eddie's Arcade",
         "5377 Lake Road East",
         "Geneva-on-the-Lake",
         "OH",
         "44041",
         "(440) 466-8720",
         "41.8609175",
         "-80.9490673",
         "http://eddiesgrill.com/",
         "2018-05-25 23:34:24.008000+00:00",
         "2024-06-16T23:39:06.385-07:00",
         null,
         "32",
         "1",
         "Only open in the summertime.\r\n2019 hours:\r\nSat & Sun starting May 11th;\r\nSat, Sun, & Mon for Memorial day weekend (May 25th, 26th & 27th);\r\nOpen every day starting June 8th;\r\n11am-10pm",
         null,
         "2024-06-16",
         "12716.0",
         null,
         "US",
         "False",
         "6",
         "coachlightning",
         "6",
         "[{'id': 158390, 'created_at': '2024-06-16T23:39:06.377-07:00', 'updated_at': '2024-06-16T23:39:28.448-07:00', 'location_id': 10178, 'machine_id': 687, 'ic_enabled': None, 'machine': {'id': 687, 'name': 'The Addams Family', 'updated_at': '2023-01-17T10:44:22.813-08:00', 'ipdb_link': 'https://www.ipdb.org/machine.cgi?id=20', 'year': 1992, 'manufacturer': 'Bally', 'machine_group_id': 55, 'ipdb_id': 20, 'opdb_id': 'G4ODR-MDXEy', 'kineticist_url': 'https://www.kineticist.com/pinball-machines/the-addams-family-1992'}}, {'id': 157828, 'created_at': '2024-06-08T04:44:10.294-07:00', 'updated_at': '2024-06-16T23:35:24.844-07:00', 'location_id': 10178, 'machine_id': 3800, 'ic_enabled': False, 'machine': {'id': 3800, 'name': 'JAWS (Premium)', 'updated_at': '2024-02-08T12:19:53.922-08:00', 'ipdb_link': None, 'year': 2024, 'manufacturer': 'Stern', 'machine_group_id': 106, 'ipdb_id': None, 'opdb_id': 'GLWll-M1r8O-ARnV7', 'kineticist_url': 'https://www.kineticist.com/pinball-machines/jaws-2024'}}, {'id': 53209, 'created_at': '2018-05-25T16:34:24.124-07:00', 'updated_at': '2024-06-16T23:37:26.084-07:00', 'location_id': 10178, 'machine_id': 683, 'ic_enabled': None, 'machine': {'id': 683, 'name': 'South Park', 'updated_at': '2023-01-17T10:44:27.793-08:00', 'ipdb_link': 'https://www.ipdb.org/machine.cgi?id=4444', 'year': 1999, 'manufacturer': 'Sega', 'machine_group_id': None, 'ipdb_id': 4444, 'opdb_id': 'G4qbD-MQpxv', 'kineticist_url': 'https://www.kineticist.com/pinball-machines/south-park-1999'}}, {'id': 110382, 'created_at': '2022-05-14T14:39:02.256-07:00', 'updated_at': '2024-06-16T23:35:58.528-07:00', 'location_id': 10178, 'machine_id': 3416, 'ic_enabled': None, 'machine': {'id': 3416, 'name': 'Godzilla (Premium)', 'updated_at': '2023-09-12T12:06:25.233-07:00', 'ipdb_link': 'https://www.ipdb.org/machine.cgi?id=6842', 'year': 2021, 'manufacturer': 'Stern', 'machine_group_id': 88, 'ipdb_id': 6842, 'opdb_id': 'GweeP-Ml9pZ-ARZoY', 'kineticist_url': 'https://www.kineticist.com/pinball-machines/godzilla-2021'}}, {'id': 96869, 'created_at': '2021-07-25T18:59:58.307-07:00', 'updated_at': '2024-06-16T23:36:32.240-07:00', 'location_id': 10178, 'machine_id': 3169, 'ic_enabled': None, 'machine': {'id': 3169, 'name': 'Jurassic Park (Premium)', 'updated_at': '2023-04-18T20:05:23.277-07:00', 'ipdb_link': 'https://www.ipdb.org/machine.cgi?id=6574', 'year': 2019, 'manufacturer': 'Stern', 'machine_group_id': 78, 'ipdb_id': 6574, 'opdb_id': 'GK17D-MKNKd-A15Yn', 'kineticist_url': 'https://www.kineticist.com/pinball-machines/jurassic-park-2019'}}, {'id': 133352, 'created_at': '2023-06-25T12:33:25.951-07:00', 'updated_at': '2023-06-25T12:33:25.951-07:00', 'location_id': 10178, 'machine_id': 3288, 'ic_enabled': None, 'machine': {'id': 3288, 'name': 'The Mandalorian (Pro)', 'updated_at': '2023-09-14T11:44:15.769-07:00', 'ipdb_link': 'https://www.ipdb.org/machine.cgi?id=6828', 'year': 2021, 'manufacturer': 'Stern', 'machine_group_id': 85, 'ipdb_id': 6828, 'opdb_id': 'GBLLP-MkPpr', 'kineticist_url': 'https://www.kineticist.com/pinball-machines/the-mandalorian-2021'}}]",
         "2018"
        ],
        [
         "29",
         "15191",
         "Eighty-Three Brewery",
         "1201 East Market St",
         "Akron",
         "OH",
         "44305",
         "234-571-1067",
         "41.0663836",
         "-81.482644",
         "http://eighty-threebrewery.com/",
         "2021-02-09 00:49:21.979000+00:00",
         "2025-04-25T07:04:43.030-07:00",
         null,
         "32",
         "62",
         null,
         null,
         "2025-04-25",
         "13862.0",
         null,
         "US",
         "True",
         "5",
         "marvin0025",
         "5",
         "[{'id': 180262, 'created_at': '2025-04-25T07:05:14.616-07:00', 'updated_at': '2025-04-25T07:05:14.931-07:00', 'location_id': 15191, 'machine_id': 2727, 'ic_enabled': False, 'machine': {'id': 2727, 'name': 'Batman 66 (Premium)', 'updated_at': '2023-09-12T12:06:24.002-07:00', 'ipdb_link': 'https://www.ipdb.org/machine.cgi?id=6354', 'year': 2016, 'manufacturer': 'Stern', 'machine_group_id': 59, 'ipdb_id': 6354, 'opdb_id': 'GRoz4-MjBV6', 'kineticist_url': 'https://www.kineticist.com/pinball-machines/batman-66-2016'}}, {'id': 167939, 'created_at': '2024-11-02T14:18:34.402-07:00', 'updated_at': '2024-11-02T14:18:34.727-07:00', 'location_id': 15191, 'machine_id': 3799, 'ic_enabled': True, 'machine': {'id': 3799, 'name': 'JAWS (Pro)', 'updated_at': '2024-02-08T12:19:47.619-08:00', 'ipdb_link': None, 'year': 2024, 'manufacturer': 'Stern', 'machine_group_id': 106, 'ipdb_id': None, 'opdb_id': 'GLWll-MXr4N', 'kineticist_url': 'https://www.kineticist.com/pinball-machines/jaws-2024'}}, {'id': 159225, 'created_at': '2024-06-28T21:19:52.684-07:00', 'updated_at': '2024-06-28T21:19:52.999-07:00', 'location_id': 15191, 'machine_id': 3845, 'ic_enabled': True, 'machine': {'id': 3845, 'name': 'John Wick (Pro)', 'updated_at': '2024-05-18T07:24:16.627-07:00', 'ipdb_link': None, 'year': 2024, 'manufacturer': 'Stern', 'machine_group_id': 115, 'ipdb_id': None, 'opdb_id': 'GQK1P-MW9pj', 'kineticist_url': 'https://www.kineticist.com/pinball-machines/john-wick-2024'}}, {'id': 159226, 'created_at': '2024-06-28T21:20:33.074-07:00', 'updated_at': '2024-06-28T21:20:33.408-07:00', 'location_id': 15191, 'machine_id': 3640, 'ic_enabled': True, 'machine': {'id': 3640, 'name': 'James Bond 007 (Pro)', 'updated_at': '2023-09-14T11:44:15.999-07:00', 'ipdb_link': 'https://www.ipdb.org/machine.cgi?id=6896', 'year': 2022, 'manufacturer': 'Stern', 'machine_group_id': 95, 'ipdb_id': 6896, 'opdb_id': 'GQKyP-Mx0O4', 'kineticist_url': 'https://www.kineticist.com/pinball-machines/james-bond-007-2022'}}, {'id': 117123, 'created_at': '2022-09-25T10:59:24.049-07:00', 'updated_at': '2023-05-15T23:00:01.297-07:00', 'location_id': 15191, 'machine_id': 3255, 'ic_enabled': True, 'machine': {'id': 3255, 'name': 'Teenage Mutant Ninja Turtles (Pro)', 'updated_at': '2023-04-18T20:06:23.330-07:00', 'ipdb_link': 'https://www.ipdb.org/machine.cgi?id=6730', 'year': 2020, 'manufacturer': 'Stern', 'machine_group_id': 81, 'ipdb_id': 6730, 'opdb_id': 'Gd2Xb-Mq1qv', 'kineticist_url': 'https://www.kineticist.com/pinball-machines/teenage-mutant-ninja-turtles-2020'}}]",
         "2021"
        ],
        [
         "30",
         "19271",
         "Fat Head's Brewery",
         "17450 Engle Lake Dr",
         "Middleburg Heights",
         "OH",
         "44130",
         " 216-898-0242",
         "41.3785246",
         "-81.8205292",
         "https://fatheads.com/brewery.html",
         "2023-01-25 16:45:22.894000+00:00",
         "2023-01-25T08:45:22.914-08:00",
         null,
         "32",
         "62",
         "Two machines near the gift shop.",
         null,
         "2023-01-25",
         null,
         null,
         "US",
         null,
         "2",
         "",
         "2",
         "[{'id': 123498, 'created_at': '2023-01-25T08:45:22.907-08:00', 'updated_at': '2023-01-25T08:45:22.907-08:00', 'location_id': 19271, 'machine_id': 643, 'ic_enabled': None, 'machine': {'id': 643, 'name': 'Attack From Mars', 'updated_at': '2023-09-14T11:44:10.763-07:00', 'ipdb_link': 'https://www.ipdb.org/machine.cgi?id=3781', 'year': 1995, 'manufacturer': 'Bally', 'machine_group_id': 62, 'ipdb_id': 3781, 'opdb_id': 'G4do5-MDlN7', 'kineticist_url': 'https://www.kineticist.com/pinball-machines/attack-from-mars-1995'}}, {'id': 123499, 'created_at': '2023-01-25T08:45:22.929-08:00', 'updated_at': '2023-01-25T08:45:22.929-08:00', 'location_id': 19271, 'machine_id': 2923, 'ic_enabled': None, 'machine': {'id': 2923, 'name': 'Iron Maiden: Legacy of the Beast (Pro)', 'updated_at': '2023-04-18T21:19:21.911-07:00', 'ipdb_link': 'https://www.ipdb.org/machine.cgi?id=6555', 'year': 2018, 'manufacturer': 'Stern', 'machine_group_id': 66, 'ipdb_id': 6555, 'opdb_id': 'G4dOQ-MyNbb', 'kineticist_url': 'https://www.kineticist.com/pinball-machines/iron-maiden-legacy-of-the-beast-2018'}}]",
         "2023"
        ],
        [
         "31",
         "25959",
         "Finney's Arcade & Parlor",
         "417 Market Ave N",
         "Canton",
         "OH",
         "44702",
         null,
         "40.8009126",
         "-81.3742013",
         "https://www.finneysarcade.com/",
         "2025-04-01 18:42:17.816000+00:00",
         "2025-06-06T07:30:43.411-07:00",
         null,
         "32",
         "3",
         "Monday\r\nCLOSED\r\nTuesday\r\nCLOSED\r\nWednesday\r\n4:00 PM - 9:00 PM\r\nThursday\r\n4:00 PM - 9:00 PM\r\nFriday\r\n4:00 PM - 10:00 PM\r\nSaturday\r\n2:00 PM - 10:00 PM\r\nSunday\r\n12:00 PM - 6:00 PM",
         null,
         "2025-06-06",
         "3403.0",
         null,
         "US",
         "True",
         "15",
         "silverballmania",
         "15",
         "[{'id': 178543, 'created_at': '2025-04-01T11:42:17.837-07:00', 'updated_at': '2025-07-05T14:15:33.442-07:00', 'location_id': 25959, 'machine_id': 4508, 'ic_enabled': True, 'machine': {'id': 4508, 'name': 'The Uncanny X-Men (LE)', 'updated_at': '2024-10-28T12:00:08.308-07:00', 'ipdb_link': None, 'year': 2024, 'manufacturer': 'Stern', 'machine_group_id': 116, 'ipdb_id': None, 'opdb_id': 'G7ZEz-MyN3K-ARl3o', 'kineticist_url': 'https://www.kineticist.com/pinball-machines/the-uncanny-x-men-2024'}}, {'id': 178544, 'created_at': '2025-04-01T11:42:17.849-07:00', 'updated_at': '2025-04-01T11:42:17.849-07:00', 'location_id': 25959, 'machine_id': 3784, 'ic_enabled': None, 'machine': {'id': 3784, 'name': 'Jim Henson’s Labyrinth', 'updated_at': '2023-10-28T10:02:35.085-07:00', 'ipdb_link': None, 'year': 2023, 'manufacturer': 'Barrels of Fun', 'machine_group_id': None, 'ipdb_id': None, 'opdb_id': 'GvBn8-Mz291', 'kineticist_url': 'https://www.kineticist.com/pinball-machines/jim-hensons-labyrinth-2023'}}, {'id': 178545, 'created_at': '2025-04-01T11:42:17.857-07:00', 'updated_at': '2025-04-01T11:42:17.857-07:00', 'location_id': 25959, 'machine_id': 3680, 'ic_enabled': None, 'machine': {'id': 3680, 'name': 'Pulp Fiction (SE)', 'updated_at': '2023-03-13T13:37:50.546-07:00', 'ipdb_link': None, 'year': 2023, 'manufacturer': 'Chicago Gaming', 'machine_group_id': 102, 'ipdb_id': None, 'opdb_id': 'GoEkx-MdEzN-ARJQz', 'kineticist_url': 'https://www.kineticist.com/pinball-machines/pulp-fiction-2023'}}, {'id': 178546, 'created_at': '2025-04-01T11:42:17.867-07:00', 'updated_at': '2025-04-01T11:42:17.867-07:00', 'location_id': 25959, 'machine_id': 3646, 'ic_enabled': None, 'machine': {'id': 3646, 'name': 'Total Nuclear Annihilation (CE)', 'updated_at': '2023-01-17T11:21:08.542-08:00', 'ipdb_link': None, 'year': 2022, 'manufacturer': 'Spooky', 'machine_group_id': 96, 'ipdb_id': None, 'opdb_id': 'GRD79-M0odk-AObBw', 'kineticist_url': 'https://www.kineticist.com/pinball-machines/total-nuclear-annihilation-2017'}}, {'id': 178547, 'created_at': '2025-04-01T11:42:17.877-07:00', 'updated_at': '2025-04-01T11:42:17.877-07:00', 'location_id': 25959, 'machine_id': 687, 'ic_enabled': None, 'machine': {'id': 687, 'name': 'The Addams Family', 'updated_at': '2023-01-17T10:44:22.813-08:00', 'ipdb_link': 'https://www.ipdb.org/machine.cgi?id=20', 'year': 1992, 'manufacturer': 'Bally', 'machine_group_id': 55, 'ipdb_id': 20, 'opdb_id': 'G4ODR-MDXEy', 'kineticist_url': 'https://www.kineticist.com/pinball-machines/the-addams-family-1992'}}, {'id': 178548, 'created_at': '2025-04-01T11:42:17.889-07:00', 'updated_at': '2025-07-05T14:15:22.652-07:00', 'location_id': 25959, 'machine_id': 3675, 'ic_enabled': True, 'machine': {'id': 3675, 'name': 'Foo Fighters (LE)', 'updated_at': '2023-09-12T12:06:25.389-07:00', 'ipdb_link': None, 'year': 2023, 'manufacturer': 'Stern', 'machine_group_id': 99, 'ipdb_id': None, 'opdb_id': 'GpeoL-MkPz1-A944p', 'kineticist_url': 'https://www.kineticist.com/pinball-machines/foo-fighters-2023'}}, {'id': 178549, 'created_at': '2025-04-01T11:42:17.899-07:00', 'updated_at': '2025-04-01T11:42:17.899-07:00', 'location_id': 25959, 'machine_id': 647, 'ic_enabled': None, 'machine': {'id': 647, 'name': 'Creature from the Black Lagoon', 'updated_at': '2023-01-17T10:44:24.792-08:00', 'ipdb_link': 'https://www.ipdb.org/machine.cgi?id=588', 'year': 1992, 'manufacturer': 'Bally', 'machine_group_id': None, 'ipdb_id': 588, 'opdb_id': 'GrNWn-MQdqZ', 'kineticist_url': 'https://www.kineticist.com/pinball-machines/creature-from-the-black-lagoon-1992'}}, {'id': 178550, 'created_at': '2025-04-01T11:42:17.910-07:00', 'updated_at': '2025-04-01T11:42:17.910-07:00', 'location_id': 25959, 'machine_id': 715, 'ic_enabled': None, 'machine': {'id': 715, 'name': 'Congo', 'updated_at': '2023-01-17T10:44:26.361-08:00', 'ipdb_link': 'https://www.ipdb.org/machine.cgi?id=3780', 'year': 1995, 'manufacturer': 'Williams', 'machine_group_id': None, 'ipdb_id': 3780, 'opdb_id': 'GrNd0-MJNW1', 'kineticist_url': 'https://www.kineticist.com/pinball-machines/congo-1995'}}, {'id': 178552, 'created_at': '2025-04-01T11:42:17.933-07:00', 'updated_at': '2025-04-01T11:42:17.933-07:00', 'location_id': 25959, 'machine_id': 3139, 'ic_enabled': None, 'machine': {'id': 3139, 'name': 'Willy Wonka & The Chocolate Factory (LE)', 'updated_at': '2025-07-14T12:00:08.277-07:00', 'ipdb_link': 'https://www.ipdb.org/machine.cgi?id=6648', 'year': 2019, 'manufacturer': 'Jersey Jack', 'machine_group_id': 77, 'ipdb_id': 6648, 'opdb_id': 'GYWBZ-MW9B0', 'kineticist_url': 'https://www.kineticist.com/pinball-machines/willy-wonka--the-chocolate-factory-2019'}}, {'id': 178553, 'created_at': '2025-04-01T11:42:17.941-07:00', 'updated_at': '2025-07-05T14:15:38.631-07:00', 'location_id': 25959, 'machine_id': 3643, 'ic_enabled': True, 'machine': {'id': 3643, 'name': 'James Bond 007 (60th Anniversary)', 'updated_at': '2023-09-14T11:44:16.012-07:00', 'ipdb_link': None, 'year': 2022, 'manufacturer': 'Stern', 'machine_group_id': None, 'ipdb_id': None, 'opdb_id': 'Ge1Dy-M9Rrp', 'kineticist_url': 'https://www.kineticist.com/pinball-machines/james-bond-007-60th-anniversary-le-2022'}}, {'id': 178554, 'created_at': '2025-04-01T11:42:17.949-07:00', 'updated_at': '2025-04-01T11:42:17.949-07:00', 'location_id': 25959, 'machine_id': 689, 'ic_enabled': None, 'machine': {'id': 689, 'name': 'White Water', 'updated_at': '2023-01-17T10:44:28.888-08:00', 'ipdb_link': 'https://www.ipdb.org/machine.cgi?id=2768', 'year': 1993, 'manufacturer': 'Williams', 'machine_group_id': None, 'ipdb_id': 2768, 'opdb_id': 'GRQKz-MyNXz', 'kineticist_url': 'https://www.kineticist.com/pinball-machines/white-water-1993'}}, {'id': 178555, 'created_at': '2025-04-01T11:42:17.956-07:00', 'updated_at': '2025-04-01T11:42:17.956-07:00', 'location_id': 25959, 'machine_id': 1134, 'ic_enabled': None, 'machine': {'id': 1134, 'name': 'Touchdown', 'updated_at': '2023-01-17T10:44:22.403-08:00', 'ipdb_link': 'https://www.ipdb.org/machine.cgi?id=2609', 'year': 1967, 'manufacturer': 'Williams', 'machine_group_id': None, 'ipdb_id': 2609, 'opdb_id': 'G4qEl-MQrRE', 'kineticist_url': 'https://www.kineticist.com/pinball-machines/touchdown--kickoff-1967'}}, {'id': 178556, 'created_at': '2025-04-01T11:42:17.965-07:00', 'updated_at': '2025-04-01T11:42:17.965-07:00', 'location_id': 25959, 'machine_id': 3785, 'ic_enabled': None, 'machine': {'id': 3785, 'name': 'Elton John (PE)', 'updated_at': '2025-07-14T12:00:08.772-07:00', 'ipdb_link': None, 'year': 2023, 'manufacturer': 'Jersey Jack', 'machine_group_id': 105, 'ipdb_id': None, 'opdb_id': 'G2LWd-M4o3Y', 'kineticist_url': 'https://www.kineticist.com/pinball-machines/elton-john-2023'}}, {'id': 183737, 'created_at': '2025-06-06T07:30:43.404-07:00', 'updated_at': '2025-06-06T07:30:43.404-07:00', 'location_id': 25959, 'machine_id': 4539, 'ic_enabled': None, 'machine': {'id': 4539, 'name': 'Harry Potter (CE)', 'updated_at': '2025-06-19T09:09:10.768-07:00', 'ipdb_link': None, 'year': 2025, 'manufacturer': 'Jersey Jack', 'machine_group_id': 126, 'ipdb_id': None, 'opdb_id': 'GWyBj-MdEbK-AOPdq', 'kineticist_url': 'https://www.kineticist.com/pinball-machines/harry-potter-2025'}}, {'id': 180685, 'created_at': '2025-04-29T17:04:35.565-07:00', 'updated_at': '2025-04-29T17:04:35.565-07:00', 'location_id': 25959, 'machine_id': 707, 'ic_enabled': None, 'machine': {'id': 707, 'name': 'World Cup Soccer', 'updated_at': '2023-01-17T10:44:25.589-08:00', 'ipdb_link': 'https://www.ipdb.org/machine.cgi?id=2811', 'year': 1994, 'manufacturer': 'Bally', 'machine_group_id': None, 'ipdb_id': 2811, 'opdb_id': 'G42E2-MQP9e', 'kineticist_url': 'https://www.kineticist.com/pinball-machines/world-cup-soccer-1994'}}]",
         "2025"
        ],
        [
         "32",
         "26102",
         "Forest City Brewery",
         "2135 Columbus Rd",
         "Cleveland",
         "OH",
         "44113",
         "(216) 228-9116",
         "41.4832518",
         "-81.7001577",
         "https://www.forestcitybrewery.com/",
         "2025-04-17 04:18:40.039000+00:00",
         "2025-04-16T21:18:40.062-07:00",
         null,
         "32",
         "62",
         null,
         null,
         "2025-04-16",
         "35287.0",
         null,
         "US",
         null,
         "1",
         "wombat78",
         "1",
         "[{'id': 179714, 'created_at': '2025-04-16T21:18:40.057-07:00', 'updated_at': '2025-04-16T21:18:40.057-07:00', 'location_id': 26102, 'machine_id': 688, 'ic_enabled': None, 'machine': {'id': 688, 'name': 'Theatre of Magic', 'updated_at': '2023-01-17T10:44:27.548-08:00', 'ipdb_link': 'https://www.ipdb.org/machine.cgi?id=2845', 'year': 1995, 'manufacturer': 'Bally', 'machine_group_id': None, 'ipdb_id': 2845, 'opdb_id': 'G5BLE-MQ75Y', 'kineticist_url': 'https://www.kineticist.com/pinball-machines/theatre-of-magic-1995'}}]",
         "2025"
        ],
        [
         "33",
         "15189",
         "Forest City Shuffleboard Arena & Bar",
         "4506 Lorain Ave",
         "Cleveland",
         "OH",
         "44102",
         "(440) 829-2196",
         "41.4789273",
         "-81.718226",
         "http://forestcityshuffle.com",
         "2021-02-09 00:46:00.589000+00:00",
         "2025-06-12T12:17:23.431-07:00",
         null,
         "32",
         "4",
         null,
         null,
         "2025-06-12",
         "31458.0",
         null,
         "US",
         "True",
         "2",
         "tifire",
         "2",
         "[{'id': 184271, 'created_at': '2025-06-12T12:17:33.261-07:00', 'updated_at': '2025-06-12T12:17:33.404-07:00', 'location_id': 15189, 'machine_id': 3673, 'ic_enabled': True, 'machine': {'id': 3673, 'name': 'Foo Fighters (Pro)', 'updated_at': '2023-09-12T12:06:24.875-07:00', 'ipdb_link': None, 'year': 2023, 'manufacturer': 'Stern', 'machine_group_id': 99, 'ipdb_id': None, 'opdb_id': 'GpeoL-MyNPq', 'kineticist_url': 'https://www.kineticist.com/pinball-machines/foo-fighters-2023'}}, {'id': 184270, 'created_at': '2025-06-12T12:17:23.422-07:00', 'updated_at': '2025-06-12T12:17:23.648-07:00', 'location_id': 15189, 'machine_id': 3640, 'ic_enabled': True, 'machine': {'id': 3640, 'name': 'James Bond 007 (Pro)', 'updated_at': '2023-09-14T11:44:15.999-07:00', 'ipdb_link': 'https://www.ipdb.org/machine.cgi?id=6896', 'year': 2022, 'manufacturer': 'Stern', 'machine_group_id': 95, 'ipdb_id': 6896, 'opdb_id': 'GQKyP-Mx0O4', 'kineticist_url': 'https://www.kineticist.com/pinball-machines/james-bond-007-2022'}}]",
         "2021"
        ],
        [
         "34",
         "20860",
         "Foundry Social",
         "333 Foundry St",
         "Medina",
         "OH",
         "44256",
         "(330) 333-9000",
         "41.1425076",
         "-81.8734832",
         "http://thefoundrysocial.com/",
         "2023-08-06 20:34:28.354000+00:00",
         "2025-04-19T18:45:01.561-07:00",
         null,
         "32",
         "62",
         "High Voltage Indoor Carting, Brewery, and Games",
         null,
         "2025-04-19",
         "15352.0",
         null,
         "US",
         null,
         "3",
         "kcoyote",
         "3",
         "[{'id': 136109, 'created_at': '2023-08-06T13:34:28.382-07:00', 'updated_at': '2023-08-06T13:34:28.382-07:00', 'location_id': 20860, 'machine_id': 693, 'ic_enabled': None, 'machine': {'id': 693, 'name': 'Wheel of Fortune', 'updated_at': '2023-01-17T10:44:22.721-08:00', 'ipdb_link': 'https://www.ipdb.org/machine.cgi?id=5254', 'year': 2007, 'manufacturer': 'Stern', 'machine_group_id': None, 'ipdb_id': 5254, 'opdb_id': 'G417d-MJkXV', 'kineticist_url': 'https://www.kineticist.com/pinball-machines/wheel-of-fortune-2007'}}, {'id': 169930, 'created_at': '2024-12-01T16:08:42.667-08:00', 'updated_at': '2024-12-01T16:08:42.667-08:00', 'location_id': 20860, 'machine_id': 675, 'ic_enabled': None, 'machine': {'id': 675, 'name': 'No Fear: Dangerous Sports', 'updated_at': '2023-01-17T10:44:25.860-08:00', 'ipdb_link': 'https://www.ipdb.org/machine.cgi?id=2852', 'year': 1995, 'manufacturer': 'Williams', 'machine_group_id': None, 'ipdb_id': 2852, 'opdb_id': 'Gr2Y2-MDxZq', 'kineticist_url': 'https://www.kineticist.com/pinball-machines/no-fear-dangerous-sports-1995'}}, {'id': 169931, 'created_at': '2024-12-01T16:08:52.824-08:00', 'updated_at': '2024-12-01T16:08:52.824-08:00', 'location_id': 20860, 'machine_id': 676, 'ic_enabled': None, 'machine': {'id': 676, 'name': 'Pirates of the Caribbean', 'updated_at': '2023-01-17T10:44:27.618-08:00', 'ipdb_link': 'https://www.ipdb.org/machine.cgi?id=5163', 'year': 2006, 'manufacturer': 'Stern', 'machine_group_id': None, 'ipdb_id': 5163, 'opdb_id': 'GR7ZX-MQ23b', 'kineticist_url': 'https://www.kineticist.com/pinball-machines/pirates-of-the-caribbean-2006'}}]",
         "2023"
        ],
        [
         "35",
         "9460",
         "Frank & Tony's Place",
         "38107 2nd St",
         "Willoughby",
         "OH",
         "44094",
         "(440) 602-9780",
         "41.640857",
         "-81.4076958",
         "http://frankandtonysplace.com/",
         "2018-01-09 22:59:41.923000+00:00",
         "2023-09-22T14:10:08.199-07:00",
         null,
         "32",
         "30",
         "",
         null,
         "2023-09-22",
         "311.0",
         null,
         "US",
         null,
         "1",
         "macjedi",
         "1",
         "[{'id': 78212, 'created_at': '2019-12-15T11:02:05.497-08:00', 'updated_at': '2023-09-22T14:11:10.699-07:00', 'location_id': 9460, 'machine_id': 2441, 'ic_enabled': None, 'machine': {'id': 2441, 'name': 'Game of Thrones (Pro)', 'updated_at': '2023-01-17T10:44:28.665-08:00', 'ipdb_link': 'https://www.ipdb.org/machine.cgi?id=6307', 'year': 2015, 'manufacturer': 'Stern', 'machine_group_id': 22, 'ipdb_id': 6307, 'opdb_id': 'G41d5-MKNwX', 'kineticist_url': 'https://www.kineticist.com/pinball-machines/game-of-thrones-2015'}}]",
         "2018"
        ],
        [
         "36",
         "16378",
         "Friendship Acres Bar & Grill",
         "2210 Ohio 44",
         "Atwater",
         "OH",
         "44201",
         "330-325-9527",
         "41.048814",
         "-81.2467635",
         "http://friendshipacrescampground.com",
         "2021-10-20 15:55:29.881000+00:00",
         "2022-12-22T12:50:21.316-08:00",
         null,
         "32",
         "14",
         null,
         null,
         "2022-12-22",
         "3403.0",
         null,
         "US",
         null,
         "1",
         "silverballmania",
         "1",
         "[{'id': 121641, 'created_at': '2022-12-22T12:50:31.206-08:00', 'updated_at': '2022-12-22T12:50:31.206-08:00', 'location_id': 16378, 'machine_id': 720, 'ic_enabled': None, 'machine': {'id': 720, 'name': 'Whirlwind', 'updated_at': '2024-02-17T17:48:40.241-08:00', 'ipdb_link': 'https://www.ipdb.org/machine.cgi?id=2765', 'year': 1990, 'manufacturer': 'Williams', 'machine_group_id': 109, 'ipdb_id': 2765, 'opdb_id': 'GrE7e-MQ9N1', 'kineticist_url': 'https://www.kineticist.com/pinball-machines/whirlwind-1990'}}]",
         "2021"
        ],
        [
         "37",
         "17323",
         "Funhouse",
         "1539 West 117th St",
         "Cleveland",
         "OH",
         "44107",
         "(216) 815-5866",
         "41.4796596",
         "-81.768555",
         "http://funhousecleveland.com",
         "2022-04-08 22:12:37.742000+00:00",
         "2025-04-15T17:33:21.624-07:00",
         null,
         "32",
         "4",
         null,
         null,
         "2025-04-15",
         "37912.0",
         null,
         "US",
         null,
         "1",
         "pinion",
         "1",
         "[{'id': 179576, 'created_at': '2025-04-15T17:33:30.992-07:00', 'updated_at': '2025-04-15T17:36:35.804-07:00', 'location_id': 17323, 'machine_id': 645, 'ic_enabled': None, 'machine': {'id': 645, 'name': 'The Sopranos', 'updated_at': '2023-01-17T10:44:22.338-08:00', 'ipdb_link': 'https://www.ipdb.org/machine.cgi?id=5053', 'year': 2005, 'manufacturer': 'Stern', 'machine_group_id': None, 'ipdb_id': 5053, 'opdb_id': 'G5WoB-MDyNZ', 'kineticist_url': 'https://www.kineticist.com/pinball-machines/the-sopranos-2005'}}]",
         "2022"
        ],
        [
         "38",
         "26645",
         "Fun 'n' Stuff",
         "661 Highland Rd",
         "Macedonia",
         "OH",
         "44056",
         "(330) 467-0820",
         "41.2995622",
         "-81.5006738",
         "http://fun-n-stuff.com/",
         "2025-06-17 20:53:35.107000+00:00",
         "2025-06-17T13:53:35.144-07:00",
         null,
         "32",
         "42",
         null,
         "636.0",
         "2025-06-17",
         "11979.0",
         null,
         "US",
         null,
         "1",
         "xtralethal",
         "1",
         "[{'id': 184706, 'created_at': '2025-06-17T13:53:35.136-07:00', 'updated_at': '2025-06-17T13:53:35.136-07:00', 'location_id': 26645, 'machine_id': 705, 'ic_enabled': None, 'machine': {'id': 705, 'name': 'NASCAR', 'updated_at': '2023-01-17T10:44:26.275-08:00', 'ipdb_link': 'https://www.ipdb.org/machine.cgi?id=5093', 'year': 2005, 'manufacturer': 'Stern', 'machine_group_id': None, 'ipdb_id': 5093, 'opdb_id': 'G5YWX-MQ4VW', 'kineticist_url': 'https://www.kineticist.com/pinball-machines/nascar-2005'}}]",
         "2025"
        ],
        [
         "39",
         "26562",
         "Game On Arcade",
         "527 W Tuscarawas Ave",
         "Barberton",
         "OH",
         "44203",
         null,
         "41.0130905",
         "-81.609075",
         null,
         "2025-06-11 23:49:11.494000+00:00",
         "2025-07-05T11:55:31.159-07:00",
         null,
         "32",
         "1",
         "35+ New/Excellent condition Pinball and Arcade Games. All Stern games are on insider connect with digital scoreboard. Many LE”s and Premium versions from all manufacturers.",
         null,
         "2025-07-05",
         "31887.0",
         null,
         "US",
         "True",
         "16",
         "sampinball",
         "16",
         "[{'id': 184151, 'created_at': '2025-06-11T16:49:11.632-07:00', 'updated_at': '2025-06-28T17:53:37.992-07:00', 'location_id': 26562, 'machine_id': 3801, 'ic_enabled': True, 'machine': {'id': 3801, 'name': 'JAWS (LE)', 'updated_at': '2024-02-08T12:20:00.327-08:00', 'ipdb_link': None, 'year': 2024, 'manufacturer': 'Stern', 'machine_group_id': 106, 'ipdb_id': None, 'opdb_id': 'GLWll-M1r8O-A1kx7', 'kineticist_url': 'https://www.kineticist.com/pinball-machines/jaws-2024'}}, {'id': 184142, 'created_at': '2025-06-11T16:49:11.518-07:00', 'updated_at': '2025-06-11T16:49:11.518-07:00', 'location_id': 26562, 'machine_id': 3688, 'ic_enabled': None, 'machine': {'id': 3688, 'name': 'Galactic Tank Force (Signature)', 'updated_at': '2023-09-14T11:44:16.781-07:00', 'ipdb_link': None, 'year': 2023, 'manufacturer': 'American', 'machine_group_id': 103, 'ipdb_id': None, 'opdb_id': 'Gj6PZ-Mb5z6-A183b', 'kineticist_url': 'https://www.kineticist.com/pinball-machines/galactic-tank-force-2023'}}, {'id': 184143, 'created_at': '2025-06-11T16:49:11.532-07:00', 'updated_at': '2025-06-11T16:49:11.532-07:00', 'location_id': 26562, 'machine_id': 3423, 'ic_enabled': None, 'machine': {'id': 3423, 'name': 'Cactus Canyon (Remake LE)', 'updated_at': '2023-09-14T11:44:16.591-07:00', 'ipdb_link': None, 'year': 2021, 'manufacturer': 'Chicago Gaming', 'machine_group_id': 90, 'ipdb_id': None, 'opdb_id': 'G4835-M2YPK-A9ylv', 'kineticist_url': 'https://www.kineticist.com/pinball-machines/cactus-canyon-1998'}}, {'id': 184144, 'created_at': '2025-06-11T16:49:11.545-07:00', 'updated_at': '2025-06-11T16:49:11.545-07:00', 'location_id': 26562, 'machine_id': 654, 'ic_enabled': None, 'machine': {'id': 654, 'name': 'Fish Tales', 'updated_at': '2023-01-17T10:44:26.942-08:00', 'ipdb_link': 'https://www.ipdb.org/machine.cgi?id=861', 'year': 1992, 'manufacturer': 'Williams', 'machine_group_id': None, 'ipdb_id': 861, 'opdb_id': 'G5Wxd-MLxl3', 'kineticist_url': 'https://www.kineticist.com/pinball-machines/fish-tales-1992'}}, {'id': 184145, 'created_at': '2025-06-11T16:49:11.558-07:00', 'updated_at': '2025-06-12T10:02:55.420-07:00', 'location_id': 26562, 'machine_id': 3642, 'ic_enabled': True, 'machine': {'id': 3642, 'name': 'James Bond 007 (LE)', 'updated_at': '2023-09-14T11:44:16.665-07:00', 'ipdb_link': 'https://www.ipdb.org/machine.cgi?id=6898', 'year': 2022, 'manufacturer': 'Stern', 'machine_group_id': 95, 'ipdb_id': 6898, 'opdb_id': 'GQKyP-MP3OK-A1KoX', 'kineticist_url': 'https://www.kineticist.com/pinball-machines/james-bond-007-2022'}}, {'id': 184146, 'created_at': '2025-06-11T16:49:11.571-07:00', 'updated_at': '2025-06-12T10:02:46.114-07:00', 'location_id': 26562, 'machine_id': 4500, 'ic_enabled': True, 'machine': {'id': 4500, 'name': 'Godzilla (70th Anniversary)', 'updated_at': '2024-09-06T21:03:06.401-07:00', 'ipdb_link': None, 'year': 2024, 'manufacturer': 'Stern', 'machine_group_id': 88, 'ipdb_id': None, 'opdb_id': 'GweeP-Ml9pZ-AOvNL', 'kineticist_url': 'https://www.kineticist.com/pinball-machines/godzilla-2021'}}, {'id': 184147, 'created_at': '2025-06-11T16:49:11.583-07:00', 'updated_at': '2025-06-12T10:03:46.149-07:00', 'location_id': 26562, 'machine_id': 4534, 'ic_enabled': True, 'machine': {'id': 4534, 'name': 'King Kong: Myth of Terror Island (Premium)', 'updated_at': '2025-05-17T15:50:56.963-07:00', 'ipdb_link': None, 'year': 2025, 'manufacturer': 'Stern', 'machine_group_id': 125, 'ipdb_id': None, 'opdb_id': 'GEL0V-MyN8E-A1Dkr', 'kineticist_url': 'https://www.kineticist.com/pinball-machines/king-kong-myth-of-terror-island-2025'}}, {'id': 184148, 'created_at': '2025-06-11T16:49:11.594-07:00', 'updated_at': '2025-06-12T10:03:51.675-07:00', 'location_id': 26562, 'machine_id': 3228, 'ic_enabled': True, 'machine': {'id': 3228, 'name': 'Stranger Things (LE)', 'updated_at': '2023-04-18T20:05:59.501-07:00', 'ipdb_link': 'https://www.ipdb.org/machine.cgi?id=6644', 'year': 2019, 'manufacturer': 'Stern', 'machine_group_id': 80, 'ipdb_id': 6644, 'opdb_id': 'Gzy89-M0oPy-A9xXV', 'kineticist_url': 'https://www.kineticist.com/pinball-machines/stranger-things-2019'}}, {'id': 184150, 'created_at': '2025-06-11T16:49:11.620-07:00', 'updated_at': '2025-06-11T16:49:11.620-07:00', 'location_id': 26562, 'machine_id': 1118, 'ic_enabled': None, 'machine': {'id': 1118, 'name': 'TRON: Legacy', 'updated_at': '2023-01-17T10:44:27.569-08:00', 'ipdb_link': 'https://www.ipdb.org/machine.cgi?id=5682', 'year': 2011, 'manufacturer': 'Stern', 'machine_group_id': 9, 'ipdb_id': 5682, 'opdb_id': 'GrkL5-MLvrX', 'kineticist_url': 'https://www.kineticist.com/pinball-machines/tron-legacy-2011'}}, {'id': 184154, 'created_at': '2025-06-11T16:49:11.672-07:00', 'updated_at': '2025-06-11T16:49:11.672-07:00', 'location_id': 26562, 'machine_id': 3832, 'ic_enabled': None, 'machine': {'id': 3832, 'name': \"Barry O's Barbecue Challenge (CE)\", 'updated_at': '2024-03-11T11:40:50.740-07:00', 'ipdb_link': None, 'year': 2024, 'manufacturer': 'American', 'machine_group_id': 110, 'ipdb_id': None, 'opdb_id': 'GK1Kv-ME0E0-A9PJq', 'kineticist_url': 'https://www.kineticist.com/pinball-machines/barry-os-barbecue-challenge-2024'}}, {'id': 184155, 'created_at': '2025-06-11T16:49:11.698-07:00', 'updated_at': '2025-06-11T16:49:11.698-07:00', 'location_id': 26562, 'machine_id': 2175, 'ic_enabled': None, 'machine': {'id': 2175, 'name': 'Iron Man (Vault Edition)', 'updated_at': '2023-01-17T10:44:30.679-08:00', 'ipdb_link': 'https://www.ipdb.org/machine.cgi?id=6154', 'year': 2014, 'manufacturer': 'Stern', 'machine_group_id': 5, 'ipdb_id': 6154, 'opdb_id': 'GRVq4-M4oNp', 'kineticist_url': 'https://www.kineticist.com/pinball-machines/iron-man-2010'}}, {'id': 184156, 'created_at': '2025-06-11T16:49:11.710-07:00', 'updated_at': '2025-06-12T10:03:54.173-07:00', 'location_id': 26562, 'machine_id': 3740, 'ic_enabled': True, 'machine': {'id': 3740, 'name': 'Venom (LE)', 'updated_at': '2023-09-14T11:44:16.797-07:00', 'ipdb_link': None, 'year': 2023, 'manufacturer': 'Stern', 'machine_group_id': 104, 'ipdb_id': None, 'opdb_id': 'G3EBl-MRj6e-ARzbx', 'kineticist_url': 'https://www.kineticist.com/pinball-machines/venom-2023'}}, {'id': 184157, 'created_at': '2025-06-11T16:49:11.722-07:00', 'updated_at': '2025-06-11T16:49:11.722-07:00', 'location_id': 26562, 'machine_id': 683, 'ic_enabled': None, 'machine': {'id': 683, 'name': 'South Park', 'updated_at': '2023-01-17T10:44:27.793-08:00', 'ipdb_link': 'https://www.ipdb.org/machine.cgi?id=4444', 'year': 1999, 'manufacturer': 'Sega', 'machine_group_id': None, 'ipdb_id': 4444, 'opdb_id': 'G4qbD-MQpxv', 'kineticist_url': 'https://www.kineticist.com/pinball-machines/south-park-1999'}}, {'id': 184153, 'created_at': '2025-06-11T16:49:11.656-07:00', 'updated_at': '2025-07-05T11:55:54.365-07:00', 'location_id': 26562, 'machine_id': 2844, 'ic_enabled': True, 'machine': {'id': 2844, 'name': 'Star Wars (Premium)', 'updated_at': '2025-07-14T12:00:07.975-07:00', 'ipdb_link': 'https://www.ipdb.org/machine.cgi?id=6429', 'year': 2017, 'manufacturer': 'Stern', 'machine_group_id': 64, 'ipdb_id': 6429, 'opdb_id': 'G5vLR-ME049', 'kineticist_url': 'https://www.kineticist.com/pinball-machines/star-wars-2017'}}, {'id': 184149, 'created_at': '2025-06-11T16:49:11.607-07:00', 'updated_at': '2025-06-28T17:52:08.363-07:00', 'location_id': 26562, 'machine_id': 3169, 'ic_enabled': False, 'machine': {'id': 3169, 'name': 'Jurassic Park (Premium)', 'updated_at': '2023-04-18T20:05:23.277-07:00', 'ipdb_link': 'https://www.ipdb.org/machine.cgi?id=6574', 'year': 2019, 'manufacturer': 'Stern', 'machine_group_id': 78, 'ipdb_id': 6574, 'opdb_id': 'GK17D-MKNKd-A15Yn', 'kineticist_url': 'https://www.kineticist.com/pinball-machines/jurassic-park-2019'}}, {'id': 184152, 'created_at': '2025-06-11T16:49:11.643-07:00', 'updated_at': '2025-07-05T11:55:31.178-07:00', 'location_id': 26562, 'machine_id': 2727, 'ic_enabled': True, 'machine': {'id': 2727, 'name': 'Batman 66 (Premium)', 'updated_at': '2023-09-12T12:06:24.002-07:00', 'ipdb_link': 'https://www.ipdb.org/machine.cgi?id=6354', 'year': 2016, 'manufacturer': 'Stern', 'machine_group_id': 59, 'ipdb_id': 6354, 'opdb_id': 'GRoz4-MjBV6', 'kineticist_url': 'https://www.kineticist.com/pinball-machines/batman-66-2016'}}]",
         "2025"
        ],
        [
         "40",
         "10294",
         "Game On! Arcade & Sports Pub",
         "5483 Lake Road East",
         "Geneva",
         "OH",
         "44041",
         "(440) 466-8650",
         "41.8604971",
         "-80.9529974",
         null,
         "2018-06-11 17:52:42.702000+00:00",
         "2024-06-08T14:31:35.732-07:00",
         null,
         "32",
         "3",
         null,
         null,
         "2024-06-08",
         "3491.0",
         null,
         "US",
         "False",
         "2",
         "xtraball",
         "2",
         "[{'id': 157891, 'created_at': '2024-06-08T14:31:35.464-07:00', 'updated_at': '2024-06-16T23:40:16.067-07:00', 'location_id': 10294, 'machine_id': 3673, 'ic_enabled': False, 'machine': {'id': 3673, 'name': 'Foo Fighters (Pro)', 'updated_at': '2023-09-12T12:06:24.875-07:00', 'ipdb_link': None, 'year': 2023, 'manufacturer': 'Stern', 'machine_group_id': 99, 'ipdb_id': None, 'opdb_id': 'GpeoL-MyNPq', 'kineticist_url': 'https://www.kineticist.com/pinball-machines/foo-fighters-2023'}}, {'id': 133347, 'created_at': '2023-06-25T10:48:56.800-07:00', 'updated_at': '2024-06-16T23:40:59.281-07:00', 'location_id': 10294, 'machine_id': 2203, 'ic_enabled': None, 'machine': {'id': 2203, 'name': 'The Walking Dead (Pro)', 'updated_at': '2023-01-17T10:44:28.190-08:00', 'ipdb_link': 'https://www.ipdb.org/machine.cgi?id=6155', 'year': 2014, 'manufacturer': 'Stern', 'machine_group_id': 16, 'ipdb_id': 6155, 'opdb_id': 'G5nz5-M3d38', 'kineticist_url': 'https://www.kineticist.com/pinball-machines/the-walking-dead-2014'}}]",
         "2018"
        ],
        [
         "41",
         "18679",
         "Game On Avon Lake Bar & Grill",
         "33382 Walker Rd",
         "Avon Lake",
         "OH",
         "44012",
         "(440) 961-0763",
         "41.4940518",
         "-82.0442893",
         "https://facebook.com/gameonavonlake/",
         "2022-10-24 16:05:44.850000+00:00",
         "2025-04-19T07:37:09.312-07:00",
         null,
         "32",
         "14",
         null,
         null,
         "2025-01-30",
         "33981.0",
         null,
         "US",
         "True",
         "4",
         "kdelfav",
         "4",
         "[{'id': 174034, 'created_at': '2025-01-30T10:58:56.991-08:00', 'updated_at': '2025-01-30T10:58:56.991-08:00', 'location_id': 18679, 'machine_id': 3408, 'ic_enabled': None, 'machine': {'id': 3408, 'name': 'Halloween (CE)', 'updated_at': '2023-10-04T20:05:45.646-07:00', 'ipdb_link': None, 'year': 2021, 'manufacturer': 'Spooky', 'machine_group_id': 86, 'ipdb_id': None, 'opdb_id': 'Gj66Z-Mp4BN-A9Y6n', 'kineticist_url': 'https://www.kineticist.com/pinball-machines/halloween-2021'}}, {'id': 174032, 'created_at': '2025-01-30T10:58:12.073-08:00', 'updated_at': '2025-01-30T10:58:12.073-08:00', 'location_id': 18679, 'machine_id': 3799, 'ic_enabled': None, 'machine': {'id': 3799, 'name': 'JAWS (Pro)', 'updated_at': '2024-02-08T12:19:47.619-08:00', 'ipdb_link': None, 'year': 2024, 'manufacturer': 'Stern', 'machine_group_id': 106, 'ipdb_id': None, 'opdb_id': 'GLWll-MXr4N', 'kineticist_url': 'https://www.kineticist.com/pinball-machines/jaws-2024'}}, {'id': 174033, 'created_at': '2025-01-30T10:58:26.594-08:00', 'updated_at': '2025-04-19T07:37:09.279-07:00', 'location_id': 18679, 'machine_id': 3281, 'ic_enabled': True, 'machine': {'id': 3281, 'name': 'Led Zeppelin (LE)', 'updated_at': '2023-09-20T16:51:32.451-07:00', 'ipdb_link': 'https://www.ipdb.org/machine.cgi?id=6762', 'year': 2020, 'manufacturer': 'Stern', 'machine_group_id': 84, 'ipdb_id': 6762, 'opdb_id': 'Gweel-ME0pP-AR0N5', 'kineticist_url': 'https://www.kineticist.com/pinball-machines/led-zeppelin-2020'}}, {'id': 118656, 'created_at': '2022-10-24T09:05:44.885-07:00', 'updated_at': '2022-10-24T09:05:44.885-07:00', 'location_id': 18679, 'machine_id': 3289, 'ic_enabled': None, 'machine': {'id': 3289, 'name': 'The Mandalorian (Premium)', 'updated_at': '2023-09-14T11:44:16.487-07:00', 'ipdb_link': 'https://www.ipdb.org/machine.cgi?id=6829', 'year': 2021, 'manufacturer': 'Stern', 'machine_group_id': 85, 'ipdb_id': 6829, 'opdb_id': 'GBLLP-MW900-AOEEN', 'kineticist_url': 'https://www.kineticist.com/pinball-machines/the-mandalorian-2021'}}]",
         "2022"
        ],
        [
         "42",
         "17650",
         "Game On Bar & Grill",
         "6425 Pearl Road",
         "Parma Heights",
         "OH",
         "44130",
         "440-340-4678",
         "41.385804",
         "-81.7684054",
         "https://www.facebook.com/gameonparmahts",
         "2022-05-24 05:36:52.788000+00:00",
         "2025-06-12T16:19:10.615-07:00",
         null,
         "32",
         "14",
         "Tables all take quarters and have bill acceptors. Some tables do the $2 for 3 games deal. ATM and change machine on site. Tables are all immaculate!",
         null,
         "2025-06-12",
         "33981.0",
         null,
         "US",
         "True",
         "8",
         "kdelfav",
         "8",
         "[{'id': 174031, 'created_at': '2025-01-30T10:57:12.342-08:00', 'updated_at': '2025-05-21T11:56:38.211-07:00', 'location_id': 17650, 'machine_id': 3022, 'ic_enabled': True, 'machine': {'id': 3022, 'name': 'Deadpool (Pro)', 'updated_at': '2023-04-18T20:05:02.662-07:00', 'ipdb_link': 'https://www.ipdb.org/machine.cgi?id=6558', 'year': 2018, 'manufacturer': 'Stern', 'machine_group_id': 70, 'ipdb_id': 6558, 'opdb_id': 'G6lnq-Mq1kv', 'kineticist_url': 'https://www.kineticist.com/pinball-machines/deadpool-2018'}}, {'id': 174030, 'created_at': '2025-01-30T10:56:06.098-08:00', 'updated_at': '2025-05-12T12:49:40.221-07:00', 'location_id': 17650, 'machine_id': 2727, 'ic_enabled': False, 'machine': {'id': 2727, 'name': 'Batman 66 (Premium)', 'updated_at': '2023-09-12T12:06:24.002-07:00', 'ipdb_link': 'https://www.ipdb.org/machine.cgi?id=6354', 'year': 2016, 'manufacturer': 'Stern', 'machine_group_id': 59, 'ipdb_id': 6354, 'opdb_id': 'GRoz4-MjBV6', 'kineticist_url': 'https://www.kineticist.com/pinball-machines/batman-66-2016'}}, {'id': 150587, 'created_at': '2024-03-08T15:59:01.022-08:00', 'updated_at': '2025-05-26T14:37:00.006-07:00', 'location_id': 17650, 'machine_id': 3674, 'ic_enabled': True, 'machine': {'id': 3674, 'name': 'Foo Fighters (Premium)', 'updated_at': '2024-10-19T20:54:20.996-07:00', 'ipdb_link': None, 'year': 2023, 'manufacturer': 'Stern', 'machine_group_id': 99, 'ipdb_id': None, 'opdb_id': 'GpeoL-MkPz1-A9Qlw', 'kineticist_url': 'https://www.kineticist.com/pinball-machines/foo-fighters-2023'}}, {'id': 184297, 'created_at': '2025-06-12T16:19:10.620-07:00', 'updated_at': '2025-06-12T16:19:10.620-07:00', 'location_id': 17650, 'machine_id': 4533, 'ic_enabled': None, 'machine': {'id': 4533, 'name': 'King Kong: Myth of Terror Island (Pro)', 'updated_at': '2025-07-14T12:00:10.069-07:00', 'ipdb_link': None, 'year': 2025, 'manufacturer': 'Stern', 'machine_group_id': 125, 'ipdb_id': None, 'opdb_id': 'GEL0V-MBRyb', 'kineticist_url': 'https://www.kineticist.com/pinball-machines/king-kong-myth-of-terror-island-2025'}}, {'id': 125098, 'created_at': '2023-02-20T20:15:58.858-08:00', 'updated_at': '2025-05-12T12:44:26.519-07:00', 'location_id': 17650, 'machine_id': 3100, 'ic_enabled': False, 'machine': {'id': 3100, 'name': 'The Munsters (Premium)', 'updated_at': '2023-04-18T20:00:35.824-07:00', 'ipdb_link': 'https://www.ipdb.org/machine.cgi?id=6565', 'year': 2019, 'manufacturer': 'Stern', 'machine_group_id': 74, 'ipdb_id': 6565, 'opdb_id': 'GbPde-Mp43l-AOQwL', 'kineticist_url': 'https://www.kineticist.com/pinball-machines/the-munsters-2019'}}, {'id': 159206, 'created_at': '2024-06-28T16:47:47.824-07:00', 'updated_at': '2025-05-20T08:48:10.228-07:00', 'location_id': 17650, 'machine_id': 3847, 'ic_enabled': True, 'machine': {'id': 3847, 'name': 'John Wick (LE)', 'updated_at': '2024-05-18T07:24:34.177-07:00', 'ipdb_link': None, 'year': 2024, 'manufacturer': 'Stern', 'machine_group_id': 115, 'ipdb_id': None, 'opdb_id': 'GQK1P-Ml95Z-A9bjw', 'kineticist_url': 'https://www.kineticist.com/pinball-machines/john-wick-2024'}}, {'id': 159207, 'created_at': '2024-06-28T16:48:04.242-07:00', 'updated_at': '2025-05-20T08:40:26.703-07:00', 'location_id': 17650, 'machine_id': 3415, 'ic_enabled': True, 'machine': {'id': 3415, 'name': 'Godzilla (Pro)', 'updated_at': '2023-09-12T12:06:24.729-07:00', 'ipdb_link': 'https://www.ipdb.org/machine.cgi?id=6841', 'year': 2021, 'manufacturer': 'Stern', 'machine_group_id': 88, 'ipdb_id': 6841, 'opdb_id': 'GweeP-MW95j', 'kineticist_url': 'https://www.kineticist.com/pinball-machines/godzilla-2021'}}, {'id': 125097, 'created_at': '2023-02-20T20:15:41.198-08:00', 'updated_at': '2025-05-12T12:48:10.664-07:00', 'location_id': 17650, 'machine_id': 3232, 'ic_enabled': False, 'machine': {'id': 3232, 'name': 'Star Wars Comic Art (Premium)', 'updated_at': '2024-10-04T10:43:08.803-07:00', 'ipdb_link': 'https://www.ipdb.org/machine.cgi?id=6615', 'year': 2019, 'manufacturer': 'Stern', 'machine_group_id': 64, 'ipdb_id': 6615, 'opdb_id': 'G5vLR-ME049-ARrK0', 'kineticist_url': 'https://www.kineticist.com/pinball-machines/star-wars-2017'}}]",
         "2022"
        ],
        [
         "43",
         "20448",
         "Good Olde Daze",
         "6001 State Rd",
         "Parma",
         "OH",
         "44134",
         "(440) 888-8930",
         "41.3998085",
         "-81.7102",
         null,
         "2023-06-23 19:12:09.569000+00:00",
         "2023-06-23T12:12:09.603-07:00",
         null,
         "32",
         "4",
         "2 dart boards\r\n1 pool table\r\nMo-Sa 11:30am-2:30am",
         null,
         "2023-06-23",
         null,
         null,
         "US",
         null,
         "1",
         "",
         "1",
         "[{'id': 133184, 'created_at': '2023-06-23T12:12:09.599-07:00', 'updated_at': '2023-06-23T12:12:09.599-07:00', 'location_id': 20448, 'machine_id': 3673, 'ic_enabled': None, 'machine': {'id': 3673, 'name': 'Foo Fighters (Pro)', 'updated_at': '2023-09-12T12:06:24.875-07:00', 'ipdb_link': None, 'year': 2023, 'manufacturer': 'Stern', 'machine_group_id': 99, 'ipdb_id': None, 'opdb_id': 'GpeoL-MyNPq', 'kineticist_url': 'https://www.kineticist.com/pinball-machines/foo-fighters-2023'}}]",
         "2023"
        ],
        [
         "44",
         "26075",
         "Ground XERO",
         "10333 Northfield Rd",
         "Northfield",
         "OH",
         "44067",
         "(330) 223-3508",
         "41.3418058",
         "-81.5265913",
         "http://www.xeroevents.com/",
         "2025-04-13 22:24:19.441000+00:00",
         "2025-04-13T15:24:19.467-07:00",
         null,
         "32",
         "4",
         null,
         null,
         "2025-04-13",
         "11979.0",
         null,
         "US",
         null,
         "1",
         "xtralethal",
         "1",
         "[{'id': 179478, 'created_at': '2025-04-13T15:24:19.462-07:00', 'updated_at': '2025-04-13T15:24:19.462-07:00', 'location_id': 26075, 'machine_id': 3673, 'ic_enabled': None, 'machine': {'id': 3673, 'name': 'Foo Fighters (Pro)', 'updated_at': '2023-09-12T12:06:24.875-07:00', 'ipdb_link': None, 'year': 2023, 'manufacturer': 'Stern', 'machine_group_id': 99, 'ipdb_id': None, 'opdb_id': 'GpeoL-MyNPq', 'kineticist_url': 'https://www.kineticist.com/pinball-machines/foo-fighters-2023'}}]",
         "2025"
        ],
        [
         "45",
         "3393",
         "Happy Dog",
         "5801 Detroit Ave",
         "Cleveland",
         "OH",
         "44102",
         "216-651-9474",
         "41.484831",
         "-81.72655",
         "http://www.happydogcleveland.com/",
         "2013-01-19 17:41:52.202000+00:00",
         "2025-05-04T06:50:54.195-07:00",
         null,
         "32",
         "14",
         null,
         null,
         "2025-05-04",
         "37912.0",
         "False",
         "US",
         "False",
         "2",
         "pinion",
         "2",
         "[{'id': 180988, 'created_at': '2025-05-04T06:51:08.831-07:00', 'updated_at': '2025-05-04T06:51:08.831-07:00', 'location_id': 3393, 'machine_id': 3288, 'ic_enabled': None, 'machine': {'id': 3288, 'name': 'The Mandalorian (Pro)', 'updated_at': '2023-09-14T11:44:15.769-07:00', 'ipdb_link': 'https://www.ipdb.org/machine.cgi?id=6828', 'year': 2021, 'manufacturer': 'Stern', 'machine_group_id': 85, 'ipdb_id': 6828, 'opdb_id': 'GBLLP-MkPpr', 'kineticist_url': 'https://www.kineticist.com/pinball-machines/the-mandalorian-2021'}}, {'id': 180989, 'created_at': '2025-05-04T06:51:26.681-07:00', 'updated_at': '2025-05-04T06:51:26.681-07:00', 'location_id': 3393, 'machine_id': 4506, 'ic_enabled': None, 'machine': {'id': 4506, 'name': 'The Uncanny X-Men (Pro)', 'updated_at': '2024-10-28T12:00:07.233-07:00', 'ipdb_link': None, 'year': 2024, 'manufacturer': 'Stern', 'machine_group_id': 116, 'ipdb_id': None, 'opdb_id': 'G7ZEz-MBRYn', 'kineticist_url': 'https://www.kineticist.com/pinball-machines/the-uncanny-x-men-2024'}}]",
         "2013"
        ],
        [
         "46",
         "23032",
         "Happy Moose Bar and Grill",
         "7693 Reynolds Rd",
         "Mentor",
         "OH",
         "44060",
         "(440) 953-9464",
         "41.6620797",
         "-81.3777861",
         "http://www.happymoosebarandgrill.com/",
         "2024-04-16 05:44:40.725000+00:00",
         "2024-05-08T09:36:10.893-07:00",
         null,
         "32",
         "14",
         null,
         null,
         "2024-05-06",
         "20292.0",
         null,
         "US",
         "False",
         "1",
         "halldoc1",
         "1",
         "[{'id': 153478, 'created_at': '2024-04-15T22:44:40.749-07:00', 'updated_at': '2024-05-08T09:36:10.877-07:00', 'location_id': 23032, 'machine_id': 3415, 'ic_enabled': False, 'machine': {'id': 3415, 'name': 'Godzilla (Pro)', 'updated_at': '2023-09-12T12:06:24.729-07:00', 'ipdb_link': 'https://www.ipdb.org/machine.cgi?id=6841', 'year': 2021, 'manufacturer': 'Stern', 'machine_group_id': 88, 'ipdb_id': 6841, 'opdb_id': 'GweeP-MW95j', 'kineticist_url': 'https://www.kineticist.com/pinball-machines/godzilla-2021'}}]",
         "2024"
        ],
        [
         "47",
         "26306",
         "Harbor Candy Company & Arcade",
         "217 High St",
         "Fairport Harbor",
         "OH",
         "44077",
         null,
         "41.7560092",
         "-81.2774083",
         null,
         "2025-05-13 05:09:29.458000+00:00",
         "2025-05-18T14:07:57.385-07:00",
         null,
         "32",
         "1",
         "Currently in soft opening, weekends only.  Will open fully in one week.  They will be open 11am to 7pm daily.  There is also a 1977 Flying Aces pinball machine that is not listed as an option.",
         null,
         "2025-05-18",
         "20292.0",
         null,
         "US",
         null,
         "2",
         "halldoc1",
         "2",
         "[{'id': 181619, 'created_at': '2025-05-12T22:09:29.499-07:00', 'updated_at': '2025-05-18T14:04:47.491-07:00', 'location_id': 26306, 'machine_id': 4282, 'ic_enabled': None, 'machine': {'id': 4282, 'name': 'Alive', 'updated_at': '2024-07-10T16:18:49.871-07:00', 'ipdb_link': 'https://www.ipdb.org/machine.cgi?id=50', 'year': 1978, 'manufacturer': 'Brunswick', 'machine_group_id': None, 'ipdb_id': 50, 'opdb_id': 'G5zjW-MLe7k', 'kineticist_url': 'https://www.kineticist.co/pinball-machines/alive-1978'}}, {'id': 181620, 'created_at': '2025-05-12T22:09:29.518-07:00', 'updated_at': '2025-05-18T14:25:16.420-07:00', 'location_id': 26306, 'machine_id': 940, 'ic_enabled': None, 'machine': {'id': 940, 'name': 'Circus', 'updated_at': '2023-01-17T10:44:26.881-08:00', 'ipdb_link': 'https://www.ipdb.org/machine.cgi?id=521', 'year': 1973, 'manufacturer': 'Bally', 'machine_group_id': None, 'ipdb_id': 521, 'opdb_id': 'G5oxB-MDzKN', 'kineticist_url': 'https://www.kineticist.com/pinball-machines/big-show-1973'}}]",
         "2025"
        ],
        [
         "48",
         "3397",
         "Harbor Inn",
         "1219 Elm St",
         "Cleveland",
         "OH",
         "44113",
         "216-241-3232",
         "41.4951196",
         "-81.7034563",
         null,
         "2013-01-19 17:53:10.760000+00:00",
         "2024-07-28T20:25:30.959-07:00",
         null,
         "32",
         "4",
         null,
         null,
         "2024-07-28",
         "12077.0",
         "False",
         "US",
         null,
         "1",
         "sunfire95z",
         "1",
         "[{'id': 161368, 'created_at': '2024-07-28T20:25:42.969-07:00', 'updated_at': '2024-07-28T20:25:42.969-07:00', 'location_id': 3397, 'machine_id': 683, 'ic_enabled': None, 'machine': {'id': 683, 'name': 'South Park', 'updated_at': '2023-01-17T10:44:27.793-08:00', 'ipdb_link': 'https://www.ipdb.org/machine.cgi?id=4444', 'year': 1999, 'manufacturer': 'Sega', 'machine_group_id': None, 'ipdb_id': 4444, 'opdb_id': 'G4qbD-MQpxv', 'kineticist_url': 'https://www.kineticist.com/pinball-machines/south-park-1999'}}]",
         "2013"
        ],
        [
         "49",
         "24124",
         "Headquarters Bar and Grill",
         "9617 Clinton Rd",
         "Brooklyn",
         "OH",
         "44144",
         "(216) 939-9052",
         "41.4507719",
         "-81.7511296",
         "https://www.headquarterscleveland.com/",
         "2024-08-11 05:00:18.032000+00:00",
         "2024-08-10T22:00:18.186-07:00",
         null,
         "32",
         "14",
         null,
         null,
         "2024-08-10",
         "21653.0",
         null,
         "US",
         null,
         "1",
         "golfnutz81",
         "1",
         "[{'id': 162257, 'created_at': '2024-08-10T22:00:18.170-07:00', 'updated_at': '2024-08-10T22:00:18.170-07:00', 'location_id': 24124, 'machine_id': 662, 'ic_enabled': None, 'machine': {'id': 662, 'name': 'Lord of the Rings', 'updated_at': '2023-01-17T10:44:24.963-08:00', 'ipdb_link': 'https://www.ipdb.org/machine.cgi?id=4858', 'year': 2003, 'manufacturer': 'Stern', 'machine_group_id': 13, 'ipdb_id': 4858, 'opdb_id': 'GrqZX-MD15w', 'kineticist_url': 'https://www.kineticist.com/pinball-machines/lord-of-the-rings-2003'}}]",
         "2024"
        ]
       ],
       "shape": {
        "columns": 27,
        "rows": 115
       }
      },
      "text/html": [
       "<div>\n",
       "<style scoped>\n",
       "    .dataframe tbody tr th:only-of-type {\n",
       "        vertical-align: middle;\n",
       "    }\n",
       "\n",
       "    .dataframe tbody tr th {\n",
       "        vertical-align: top;\n",
       "    }\n",
       "\n",
       "    .dataframe thead th {\n",
       "        text-align: right;\n",
       "    }\n",
       "</style>\n",
       "<table border=\"1\" class=\"dataframe\">\n",
       "  <thead>\n",
       "    <tr style=\"text-align: right;\">\n",
       "      <th></th>\n",
       "      <th>id</th>\n",
       "      <th>name</th>\n",
       "      <th>street</th>\n",
       "      <th>city</th>\n",
       "      <th>state</th>\n",
       "      <th>zip</th>\n",
       "      <th>phone</th>\n",
       "      <th>lat</th>\n",
       "      <th>lon</th>\n",
       "      <th>website</th>\n",
       "      <th>...</th>\n",
       "      <th>date_last_updated</th>\n",
       "      <th>last_updated_by_user_id</th>\n",
       "      <th>is_stern_army</th>\n",
       "      <th>country</th>\n",
       "      <th>ic_active</th>\n",
       "      <th>machine_count</th>\n",
       "      <th>last_updated_by_username</th>\n",
       "      <th>num_machines</th>\n",
       "      <th>location_machine_xrefs</th>\n",
       "      <th>year</th>\n",
       "    </tr>\n",
       "  </thead>\n",
       "  <tbody>\n",
       "    <tr>\n",
       "      <th>0</th>\n",
       "      <td>22626</td>\n",
       "      <td>69 Taps</td>\n",
       "      <td>370 Paul Williams St</td>\n",
       "      <td>Akron</td>\n",
       "      <td>OH</td>\n",
       "      <td>44311</td>\n",
       "      <td>(330) 253-4554</td>\n",
       "      <td>41.0761812</td>\n",
       "      <td>-81.5231916</td>\n",
       "      <td>None</td>\n",
       "      <td>...</td>\n",
       "      <td>2024-03-01</td>\n",
       "      <td>NaN</td>\n",
       "      <td>None</td>\n",
       "      <td>US</td>\n",
       "      <td>None</td>\n",
       "      <td>1</td>\n",
       "      <td></td>\n",
       "      <td>1</td>\n",
       "      <td>[{'id': 150111, 'created_at': '2024-03-01T20:2...</td>\n",
       "      <td>2024</td>\n",
       "    </tr>\n",
       "    <tr>\n",
       "      <th>1</th>\n",
       "      <td>10696</td>\n",
       "      <td>Adventure Zone</td>\n",
       "      <td>5600 Lake Road East</td>\n",
       "      <td>Geneva</td>\n",
       "      <td>OH</td>\n",
       "      <td>44041</td>\n",
       "      <td>(440) 466-3555</td>\n",
       "      <td>41.858249</td>\n",
       "      <td>-80.957419</td>\n",
       "      <td>http://www.adventurezonefun.com/</td>\n",
       "      <td>...</td>\n",
       "      <td>2018-08-23</td>\n",
       "      <td>NaN</td>\n",
       "      <td>None</td>\n",
       "      <td>US</td>\n",
       "      <td>None</td>\n",
       "      <td>1</td>\n",
       "      <td></td>\n",
       "      <td>1</td>\n",
       "      <td>[{'id': 56933, 'created_at': '2018-08-23T14:13...</td>\n",
       "      <td>2018</td>\n",
       "    </tr>\n",
       "    <tr>\n",
       "      <th>2</th>\n",
       "      <td>19781</td>\n",
       "      <td>Arena 51 Laser Tag</td>\n",
       "      <td>13409 Smith Rd</td>\n",
       "      <td>Middleburg Heights</td>\n",
       "      <td>OH</td>\n",
       "      <td>44130</td>\n",
       "      <td>(440) 502-5320</td>\n",
       "      <td>41.3760725</td>\n",
       "      <td>-81.7920111</td>\n",
       "      <td>https://www.arena51lasertag.com</td>\n",
       "      <td>...</td>\n",
       "      <td>2025-06-28</td>\n",
       "      <td>23665.0</td>\n",
       "      <td>None</td>\n",
       "      <td>US</td>\n",
       "      <td>False</td>\n",
       "      <td>2</td>\n",
       "      <td>tomdidit</td>\n",
       "      <td>2</td>\n",
       "      <td>[{'id': 161737, 'created_at': '2024-08-03T10:3...</td>\n",
       "      <td>2023</td>\n",
       "    </tr>\n",
       "    <tr>\n",
       "      <th>3</th>\n",
       "      <td>22563</td>\n",
       "      <td>Bailey's Pizza House</td>\n",
       "      <td>11991 Island Rd</td>\n",
       "      <td>Grafton</td>\n",
       "      <td>OH</td>\n",
       "      <td>44044</td>\n",
       "      <td>(440) 748-3104</td>\n",
       "      <td>41.3150032</td>\n",
       "      <td>-82.0008933</td>\n",
       "      <td>None</td>\n",
       "      <td>...</td>\n",
       "      <td>2024-06-20</td>\n",
       "      <td>30968.0</td>\n",
       "      <td>None</td>\n",
       "      <td>US</td>\n",
       "      <td>None</td>\n",
       "      <td>1</td>\n",
       "      <td>clevepinball</td>\n",
       "      <td>1</td>\n",
       "      <td>[{'id': 149440, 'created_at': '2024-02-24T16:4...</td>\n",
       "      <td>2024</td>\n",
       "    </tr>\n",
       "    <tr>\n",
       "      <th>4</th>\n",
       "      <td>12153</td>\n",
       "      <td>Barley Jack's Pizza</td>\n",
       "      <td>5331 Center Road</td>\n",
       "      <td>Brunswick</td>\n",
       "      <td>OH</td>\n",
       "      <td>44212</td>\n",
       "      <td>330-460-6710</td>\n",
       "      <td>41.23856</td>\n",
       "      <td>-81.877673</td>\n",
       "      <td>http://barleyjackspizza.com</td>\n",
       "      <td>...</td>\n",
       "      <td>2024-10-14</td>\n",
       "      <td>35460.0</td>\n",
       "      <td>None</td>\n",
       "      <td>US</td>\n",
       "      <td>None</td>\n",
       "      <td>1</td>\n",
       "      <td>drchooch</td>\n",
       "      <td>1</td>\n",
       "      <td>[{'id': 166527, 'created_at': '2024-10-14T12:0...</td>\n",
       "      <td>2019</td>\n",
       "    </tr>\n",
       "    <tr>\n",
       "      <th>...</th>\n",
       "      <td>...</td>\n",
       "      <td>...</td>\n",
       "      <td>...</td>\n",
       "      <td>...</td>\n",
       "      <td>...</td>\n",
       "      <td>...</td>\n",
       "      <td>...</td>\n",
       "      <td>...</td>\n",
       "      <td>...</td>\n",
       "      <td>...</td>\n",
       "      <td>...</td>\n",
       "      <td>...</td>\n",
       "      <td>...</td>\n",
       "      <td>...</td>\n",
       "      <td>...</td>\n",
       "      <td>...</td>\n",
       "      <td>...</td>\n",
       "      <td>...</td>\n",
       "      <td>...</td>\n",
       "      <td>...</td>\n",
       "      <td>...</td>\n",
       "    </tr>\n",
       "    <tr>\n",
       "      <th>110</th>\n",
       "      <td>26104</td>\n",
       "      <td>WhirlyBall Cleveland</td>\n",
       "      <td>5055 Richmond Rd</td>\n",
       "      <td>Bedford Heights</td>\n",
       "      <td>OH</td>\n",
       "      <td>44146</td>\n",
       "      <td>(216) 591-0707</td>\n",
       "      <td>41.422896</td>\n",
       "      <td>-81.498369</td>\n",
       "      <td>https://www.whirlyballcleveland.com/</td>\n",
       "      <td>...</td>\n",
       "      <td>2025-04-16</td>\n",
       "      <td>20292.0</td>\n",
       "      <td>None</td>\n",
       "      <td>US</td>\n",
       "      <td>None</td>\n",
       "      <td>2</td>\n",
       "      <td>halldoc1</td>\n",
       "      <td>2</td>\n",
       "      <td>[{'id': 179718, 'created_at': '2025-04-16T21:2...</td>\n",
       "      <td>2025</td>\n",
       "    </tr>\n",
       "    <tr>\n",
       "      <th>111</th>\n",
       "      <td>24032</td>\n",
       "      <td>White House Tavern</td>\n",
       "      <td>161 N Chestnut St</td>\n",
       "      <td>Ravenna</td>\n",
       "      <td>OH</td>\n",
       "      <td>44266</td>\n",
       "      <td>None</td>\n",
       "      <td>41.1597416</td>\n",
       "      <td>-81.243429</td>\n",
       "      <td>https://www.facebook.com/profile.php?id=615613...</td>\n",
       "      <td>...</td>\n",
       "      <td>2024-08-09</td>\n",
       "      <td>25780.0</td>\n",
       "      <td>None</td>\n",
       "      <td>US</td>\n",
       "      <td>None</td>\n",
       "      <td>2</td>\n",
       "      <td>pingarten</td>\n",
       "      <td>2</td>\n",
       "      <td>[{'id': 161572, 'created_at': '2024-08-01T04:2...</td>\n",
       "      <td>2024</td>\n",
       "    </tr>\n",
       "    <tr>\n",
       "      <th>112</th>\n",
       "      <td>20100</td>\n",
       "      <td>Wild Eagle Saloon</td>\n",
       "      <td>921 Huron Rd E</td>\n",
       "      <td>Cleveland</td>\n",
       "      <td>OH</td>\n",
       "      <td>44115</td>\n",
       "      <td>(216) 465-3225</td>\n",
       "      <td>41.4996754</td>\n",
       "      <td>-81.6850606</td>\n",
       "      <td>https://www.wildeagle.com/downtown-cleveland</td>\n",
       "      <td>...</td>\n",
       "      <td>2023-05-09</td>\n",
       "      <td>NaN</td>\n",
       "      <td>None</td>\n",
       "      <td>US</td>\n",
       "      <td>None</td>\n",
       "      <td>1</td>\n",
       "      <td></td>\n",
       "      <td>1</td>\n",
       "      <td>[{'id': 130204, 'created_at': '2023-05-09T21:1...</td>\n",
       "      <td>2023</td>\n",
       "    </tr>\n",
       "    <tr>\n",
       "      <th>113</th>\n",
       "      <td>19867</td>\n",
       "      <td>Wink's Drive-In</td>\n",
       "      <td>75 5th St SE</td>\n",
       "      <td>Barberton</td>\n",
       "      <td>OH</td>\n",
       "      <td>44203</td>\n",
       "      <td>(234) 334-7761</td>\n",
       "      <td>41.0081013</td>\n",
       "      <td>-81.588392</td>\n",
       "      <td>None</td>\n",
       "      <td>...</td>\n",
       "      <td>2023-04-12</td>\n",
       "      <td>NaN</td>\n",
       "      <td>None</td>\n",
       "      <td>US</td>\n",
       "      <td>None</td>\n",
       "      <td>1</td>\n",
       "      <td></td>\n",
       "      <td>1</td>\n",
       "      <td>[{'id': 128355, 'created_at': '2023-04-12T14:5...</td>\n",
       "      <td>2023</td>\n",
       "    </tr>\n",
       "    <tr>\n",
       "      <th>114</th>\n",
       "      <td>6121</td>\n",
       "      <td>Yorktown Lanes</td>\n",
       "      <td>6218 Pearl Rd</td>\n",
       "      <td>Parma</td>\n",
       "      <td>OH</td>\n",
       "      <td>44130</td>\n",
       "      <td>None</td>\n",
       "      <td>41.3925073</td>\n",
       "      <td>-81.7605004</td>\n",
       "      <td>None</td>\n",
       "      <td>...</td>\n",
       "      <td>2025-05-12</td>\n",
       "      <td>20292.0</td>\n",
       "      <td>False</td>\n",
       "      <td>US</td>\n",
       "      <td>True</td>\n",
       "      <td>3</td>\n",
       "      <td>halldoc1</td>\n",
       "      <td>3</td>\n",
       "      <td>[{'id': 146927, 'created_at': '2024-01-21T10:0...</td>\n",
       "      <td>2015</td>\n",
       "    </tr>\n",
       "  </tbody>\n",
       "</table>\n",
       "<p>115 rows × 27 columns</p>\n",
       "</div>"
      ],
      "text/plain": [
       "        id                  name                street                city  \\\n",
       "0    22626               69 Taps  370 Paul Williams St               Akron   \n",
       "1    10696        Adventure Zone   5600 Lake Road East              Geneva   \n",
       "2    19781    Arena 51 Laser Tag        13409 Smith Rd  Middleburg Heights   \n",
       "3    22563  Bailey's Pizza House       11991 Island Rd             Grafton   \n",
       "4    12153   Barley Jack's Pizza      5331 Center Road           Brunswick   \n",
       "..     ...                   ...                   ...                 ...   \n",
       "110  26104  WhirlyBall Cleveland      5055 Richmond Rd     Bedford Heights   \n",
       "111  24032    White House Tavern     161 N Chestnut St             Ravenna   \n",
       "112  20100     Wild Eagle Saloon        921 Huron Rd E           Cleveland   \n",
       "113  19867       Wink's Drive-In          75 5th St SE           Barberton   \n",
       "114   6121        Yorktown Lanes         6218 Pearl Rd               Parma   \n",
       "\n",
       "    state    zip           phone         lat          lon  \\\n",
       "0      OH  44311  (330) 253-4554  41.0761812  -81.5231916   \n",
       "1      OH  44041  (440) 466-3555   41.858249   -80.957419   \n",
       "2      OH  44130  (440) 502-5320  41.3760725  -81.7920111   \n",
       "3      OH  44044  (440) 748-3104  41.3150032  -82.0008933   \n",
       "4      OH  44212    330-460-6710    41.23856   -81.877673   \n",
       "..    ...    ...             ...         ...          ...   \n",
       "110    OH  44146  (216) 591-0707   41.422896   -81.498369   \n",
       "111    OH  44266            None  41.1597416   -81.243429   \n",
       "112    OH  44115  (216) 465-3225  41.4996754  -81.6850606   \n",
       "113    OH  44203  (234) 334-7761  41.0081013   -81.588392   \n",
       "114    OH  44130            None  41.3925073  -81.7605004   \n",
       "\n",
       "                                               website  ... date_last_updated  \\\n",
       "0                                                 None  ...        2024-03-01   \n",
       "1                     http://www.adventurezonefun.com/  ...        2018-08-23   \n",
       "2                      https://www.arena51lasertag.com  ...        2025-06-28   \n",
       "3                                                 None  ...        2024-06-20   \n",
       "4                          http://barleyjackspizza.com  ...        2024-10-14   \n",
       "..                                                 ...  ...               ...   \n",
       "110               https://www.whirlyballcleveland.com/  ...        2025-04-16   \n",
       "111  https://www.facebook.com/profile.php?id=615613...  ...        2024-08-09   \n",
       "112       https://www.wildeagle.com/downtown-cleveland  ...        2023-05-09   \n",
       "113                                               None  ...        2023-04-12   \n",
       "114                                               None  ...        2025-05-12   \n",
       "\n",
       "    last_updated_by_user_id is_stern_army  country  ic_active machine_count  \\\n",
       "0                       NaN          None       US       None             1   \n",
       "1                       NaN          None       US       None             1   \n",
       "2                   23665.0          None       US      False             2   \n",
       "3                   30968.0          None       US       None             1   \n",
       "4                   35460.0          None       US       None             1   \n",
       "..                      ...           ...      ...        ...           ...   \n",
       "110                 20292.0          None       US       None             2   \n",
       "111                 25780.0          None       US       None             2   \n",
       "112                     NaN          None       US       None             1   \n",
       "113                     NaN          None       US       None             1   \n",
       "114                 20292.0         False       US       True             3   \n",
       "\n",
       "     last_updated_by_username num_machines  \\\n",
       "0                                        1   \n",
       "1                                        1   \n",
       "2                    tomdidit            2   \n",
       "3                clevepinball            1   \n",
       "4                    drchooch            1   \n",
       "..                        ...          ...   \n",
       "110                  halldoc1            2   \n",
       "111                 pingarten            2   \n",
       "112                                      1   \n",
       "113                                      1   \n",
       "114                  halldoc1            3   \n",
       "\n",
       "                                location_machine_xrefs  year  \n",
       "0    [{'id': 150111, 'created_at': '2024-03-01T20:2...  2024  \n",
       "1    [{'id': 56933, 'created_at': '2018-08-23T14:13...  2018  \n",
       "2    [{'id': 161737, 'created_at': '2024-08-03T10:3...  2023  \n",
       "3    [{'id': 149440, 'created_at': '2024-02-24T16:4...  2024  \n",
       "4    [{'id': 166527, 'created_at': '2024-10-14T12:0...  2019  \n",
       "..                                                 ...   ...  \n",
       "110  [{'id': 179718, 'created_at': '2025-04-16T21:2...  2025  \n",
       "111  [{'id': 161572, 'created_at': '2024-08-01T04:2...  2024  \n",
       "112  [{'id': 130204, 'created_at': '2023-05-09T21:1...  2023  \n",
       "113  [{'id': 128355, 'created_at': '2023-04-12T14:5...  2023  \n",
       "114  [{'id': 146927, 'created_at': '2024-01-21T10:0...  2015  \n",
       "\n",
       "[115 rows x 27 columns]"
      ]
     },
     "execution_count": 62,
     "metadata": {},
     "output_type": "execute_result"
    }
   ],
   "source": [
    "pm_cleveland.head()"
   ]
  },
  {
   "cell_type": "code",
   "execution_count": 63,
   "id": "5fecfb45",
   "metadata": {},
   "outputs": [],
   "source": [
    "pm_cleveland.to_csv('pm_cleveland_locations.csv')"
   ]
  },
  {
   "cell_type": "code",
   "execution_count": 64,
   "id": "e9fe169a",
   "metadata": {},
   "outputs": [],
   "source": [
    "## These only show events in the future, so aren't worth looking at.\n",
    "# response = requests.get(f\"{url}region/cleveland/events.json\")\n",
    "\n",
    "# pm_events=pd.DataFrame(response.json()['events'])"
   ]
  },
  {
   "cell_type": "code",
   "execution_count": 65,
   "id": "5fc6a9b2",
   "metadata": {},
   "outputs": [],
   "source": [
    "# pm_events.shape"
   ]
  },
  {
   "cell_type": "code",
   "execution_count": 66,
   "id": "f66fff14",
   "metadata": {},
   "outputs": [],
   "source": [
    "# pm_events.head()"
   ]
  },
  {
   "cell_type": "code",
   "execution_count": 67,
   "id": "00d6d159",
   "metadata": {},
   "outputs": [],
   "source": [
    "# pm_events.drop_duplicates(subset=['name','start_date'],inplace=True)"
   ]
  },
  {
   "cell_type": "code",
   "execution_count": 68,
   "id": "b71cbd60",
   "metadata": {},
   "outputs": [],
   "source": [
    "# pm_events.shape"
   ]
  },
  {
   "cell_type": "code",
   "execution_count": 69,
   "id": "cade2c2b",
   "metadata": {},
   "outputs": [],
   "source": [
    "# pm_events['start_date_dt']=pd.to_datetime(pm_events['start_date'])"
   ]
  },
  {
   "cell_type": "code",
   "execution_count": 70,
   "id": "b15bb741",
   "metadata": {},
   "outputs": [
    {
     "data": {
      "text/plain": [
       "{'user_submissions': [{'id': 518521,\n",
       "   'submission_type': 'new_condition',\n",
       "   'submission': \"wayofinfinity commented on Stranger Things (Pro) (Stern, 2019) at Moon Dog World in Preston. They said: 'Out of Order' sign\",\n",
       "   'region_id': None,\n",
       "   'created_at': '2025-07-14T16:21:51.407-07:00',\n",
       "   'updated_at': '2025-07-14T16:21:51.407-07:00',\n",
       "   'user_id': 37554,\n",
       "   'location_id': 13367,\n",
       "   'machine_id': 3226,\n",
       "   'comment': \"'Out of Order' sign\",\n",
       "   'user_name': 'wayofinfinity',\n",
       "   'location_name': 'Moon Dog World',\n",
       "   'machine_name': 'Stranger Things (Pro) (Stern, 2019)',\n",
       "   'high_score': None,\n",
       "   'city_name': 'Preston',\n",
       "   'lat': -37.752336,\n",
       "   'lon': 145.0292738},\n",
       "  {'id': 518489,\n",
       "   'submission_type': 'new_msx',\n",
       "   'submission': \"kelsalt added a high score of 407,593,180 on White Water (Williams, 1993) at Birmingham's Vodka and Ale House East in Regina\",\n",
       "   'region_id': None,\n",
       "   'created_at': '2025-07-14T15:27:29.046-07:00',\n",
       "   'updated_at': '2025-07-14T15:27:29.046-07:00',\n",
       "   'user_id': 31829,\n",
       "   'location_id': 24307,\n",
       "   'machine_id': 689,\n",
       "   'comment': None,\n",
       "   'user_name': 'kelsalt',\n",
       "   'location_name': \"Birmingham's Vodka and Ale House East\",\n",
       "   'machine_name': 'White Water (Williams, 1993)',\n",
       "   'high_score': 407593180,\n",
       "   'city_name': 'Regina',\n",
       "   'lat': 50.446106,\n",
       "   'lon': -104.5443963},\n",
       "  {'id': 518475,\n",
       "   'submission_type': 'remove_machine',\n",
       "   'submission': 'The Sopranos (Stern, 2005) was removed from Geez Grill & Pub in Centerville by a2thej',\n",
       "   'region_id': None,\n",
       "   'created_at': '2025-07-14T14:28:28.076-07:00',\n",
       "   'updated_at': '2025-07-14T14:28:28.076-07:00',\n",
       "   'user_id': 38662,\n",
       "   'location_id': 22034,\n",
       "   'machine_id': 645,\n",
       "   'comment': None,\n",
       "   'user_name': 'a2thej',\n",
       "   'location_name': 'Geez Grill & Pub',\n",
       "   'machine_name': 'The Sopranos (Stern, 2005)',\n",
       "   'high_score': None,\n",
       "   'city_name': 'Centerville',\n",
       "   'lat': 39.6582779,\n",
       "   'lon': -84.1581111},\n",
       "  {'id': 518465,\n",
       "   'submission_type': 'new_condition',\n",
       "   'submission': 'nexeh commented on AC/DC (Premium) (Stern, 2012) at Frog & Onion Pub and Restaurant in Sandys. They said: Currently has an out of order sign on it. There are rubbers on the flippers so some one has worked on it since the last comment.',\n",
       "   'region_id': None,\n",
       "   'created_at': '2025-07-14T13:57:40.123-07:00',\n",
       "   'updated_at': '2025-07-14T13:57:40.123-07:00',\n",
       "   'user_id': 32929,\n",
       "   'location_id': 22951,\n",
       "   'machine_id': 1296,\n",
       "   'comment': 'Currently has an out of order sign on it. There are rubbers on the flippers so some one has worked on it since the last comment.',\n",
       "   'user_name': 'nexeh',\n",
       "   'location_name': 'Frog & Onion Pub and Restaurant',\n",
       "   'machine_name': 'AC/DC (Premium) (Stern, 2012)',\n",
       "   'high_score': None,\n",
       "   'city_name': 'Sandys',\n",
       "   'lat': 32.3280977,\n",
       "   'lon': -64.8337713},\n",
       "  {'id': 518444,\n",
       "   'submission_type': 'remove_machine',\n",
       "   'submission': 'Terminator 3: Rise of the Machines (Stern, 2003) was removed from Nacka Flipper in Nacka by nikpin',\n",
       "   'region_id': None,\n",
       "   'created_at': '2025-07-14T12:10:25.920-07:00',\n",
       "   'updated_at': '2025-07-14T12:10:25.920-07:00',\n",
       "   'user_id': 33516,\n",
       "   'location_id': 23819,\n",
       "   'machine_id': 667,\n",
       "   'comment': None,\n",
       "   'user_name': 'nikpin',\n",
       "   'location_name': 'Nacka Flipper',\n",
       "   'machine_name': 'Terminator 3: Rise of the Machines (Stern, 2003)',\n",
       "   'high_score': None,\n",
       "   'city_name': 'Nacka',\n",
       "   'lat': 59.3073281,\n",
       "   'lon': 18.13583},\n",
       "  {'id': 518443,\n",
       "   'submission_type': 'remove_machine',\n",
       "   'submission': 'Creature from the Black Lagoon (Bally, 1992) was removed from Nacka Flipper in Nacka by nikpin',\n",
       "   'region_id': None,\n",
       "   'created_at': '2025-07-14T12:09:53.631-07:00',\n",
       "   'updated_at': '2025-07-14T12:09:53.631-07:00',\n",
       "   'user_id': 33516,\n",
       "   'location_id': 23819,\n",
       "   'machine_id': 647,\n",
       "   'comment': None,\n",
       "   'user_name': 'nikpin',\n",
       "   'location_name': 'Nacka Flipper',\n",
       "   'machine_name': 'Creature from the Black Lagoon (Bally, 1992)',\n",
       "   'high_score': None,\n",
       "   'city_name': 'Nacka',\n",
       "   'lat': 59.3073281,\n",
       "   'lon': 18.13583},\n",
       "  {'id': 518442,\n",
       "   'submission_type': 'new_lmx',\n",
       "   'submission': 'Iron Man (Stern, 2010) was added to Nacka Flipper in Nacka by nikpin',\n",
       "   'region_id': None,\n",
       "   'created_at': '2025-07-14T12:09:43.832-07:00',\n",
       "   'updated_at': '2025-07-14T12:09:43.832-07:00',\n",
       "   'user_id': 33516,\n",
       "   'location_id': 23819,\n",
       "   'machine_id': 764,\n",
       "   'comment': None,\n",
       "   'user_name': 'nikpin',\n",
       "   'location_name': 'Nacka Flipper',\n",
       "   'machine_name': 'Iron Man (Stern, 2010)',\n",
       "   'high_score': None,\n",
       "   'city_name': 'Nacka',\n",
       "   'lat': 59.3073281,\n",
       "   'lon': 18.13583},\n",
       "  {'id': 518424,\n",
       "   'submission_type': 'remove_machine',\n",
       "   'submission': 'The Sopranos (Stern, 2005) was removed from Labor Temple Diner & Bar in Astoria by toddrobinett',\n",
       "   'region_id': None,\n",
       "   'created_at': '2025-07-14T09:26:02.892-07:00',\n",
       "   'updated_at': '2025-07-14T09:26:02.892-07:00',\n",
       "   'user_id': 973,\n",
       "   'location_id': 9553,\n",
       "   'machine_id': 645,\n",
       "   'comment': None,\n",
       "   'user_name': 'toddrobinett',\n",
       "   'location_name': 'Labor Temple Diner & Bar',\n",
       "   'machine_name': 'The Sopranos (Stern, 2005)',\n",
       "   'high_score': None,\n",
       "   'city_name': 'Astoria',\n",
       "   'lat': 46.1885968,\n",
       "   'lon': -123.8333492},\n",
       "  {'id': 518396,\n",
       "   'submission_type': 'new_condition',\n",
       "   'submission': 'jxantho commented on The Flintstones (Williams, 1994) at De Copas in Barcelona. They said: Machine looks routed AF but plays perfect. Disappointed I only had an hour to play, could have enjoyed this one all day.',\n",
       "   'region_id': None,\n",
       "   'created_at': '2025-07-14T03:13:23.778-07:00',\n",
       "   'updated_at': '2025-07-14T03:13:23.778-07:00',\n",
       "   'user_id': 37031,\n",
       "   'location_id': 17379,\n",
       "   'machine_id': 690,\n",
       "   'comment': 'Machine looks routed AF but plays perfect. Disappointed I only had an hour to play, could have enjoyed this one all day.',\n",
       "   'user_name': 'jxantho',\n",
       "   'location_name': 'De Copas',\n",
       "   'machine_name': 'The Flintstones (Williams, 1994)',\n",
       "   'high_score': None,\n",
       "   'city_name': 'Barcelona',\n",
       "   'lat': 41.4058526,\n",
       "   'lon': 2.1621966},\n",
       "  {'id': 518395,\n",
       "   'submission_type': 'confirm_location',\n",
       "   'submission': 'jxantho confirmed the lineup at De Copas in Barcelona',\n",
       "   'region_id': None,\n",
       "   'created_at': '2025-07-14T03:10:52.725-07:00',\n",
       "   'updated_at': '2025-07-14T03:10:52.725-07:00',\n",
       "   'user_id': 37031,\n",
       "   'location_id': 17379,\n",
       "   'machine_id': None,\n",
       "   'comment': None,\n",
       "   'user_name': 'jxantho',\n",
       "   'location_name': 'De Copas',\n",
       "   'machine_name': None,\n",
       "   'high_score': None,\n",
       "   'city_name': 'Barcelona',\n",
       "   'lat': 41.4058526,\n",
       "   'lon': 2.1621966},\n",
       "  {'id': 518389,\n",
       "   'submission_type': 'confirm_location',\n",
       "   'submission': 'hammerhead confirmed the lineup at The Rec Room (West Edmonton Mall) in Edmonton',\n",
       "   'region_id': None,\n",
       "   'created_at': '2025-07-14T01:06:58.764-07:00',\n",
       "   'updated_at': '2025-07-14T01:06:58.764-07:00',\n",
       "   'user_id': 7115,\n",
       "   'location_id': 13163,\n",
       "   'machine_id': None,\n",
       "   'comment': None,\n",
       "   'user_name': 'hammerhead',\n",
       "   'location_name': 'The Rec Room (West Edmonton Mall)',\n",
       "   'machine_name': None,\n",
       "   'high_score': None,\n",
       "   'city_name': 'Edmonton',\n",
       "   'lat': 53.5217443,\n",
       "   'lon': -113.6186753},\n",
       "  {'id': 518386,\n",
       "   'submission_type': 'new_lmx',\n",
       "   'submission': 'Viking (Bally, 1979) was added to The University Club of the U of A in Edmonton by hammerhead',\n",
       "   'region_id': None,\n",
       "   'created_at': '2025-07-14T01:04:05.577-07:00',\n",
       "   'updated_at': '2025-07-14T01:04:05.577-07:00',\n",
       "   'user_id': 7115,\n",
       "   'location_id': 21416,\n",
       "   'machine_id': 1305,\n",
       "   'comment': None,\n",
       "   'user_name': 'hammerhead',\n",
       "   'location_name': 'The University Club of the U of A',\n",
       "   'machine_name': 'Viking (Bally, 1979)',\n",
       "   'high_score': None,\n",
       "   'city_name': 'Edmonton',\n",
       "   'lat': 53.5300382,\n",
       "   'lon': -113.5283787},\n",
       "  {'id': 518385,\n",
       "   'submission_type': 'new_lmx',\n",
       "   'submission': 'Supersonic (Bally, 1979) was added to The University Club of the U of A in Edmonton by hammerhead',\n",
       "   'region_id': None,\n",
       "   'created_at': '2025-07-14T01:03:48.461-07:00',\n",
       "   'updated_at': '2025-07-14T01:03:48.461-07:00',\n",
       "   'user_id': 7115,\n",
       "   'location_id': 21416,\n",
       "   'machine_id': 967,\n",
       "   'comment': None,\n",
       "   'user_name': 'hammerhead',\n",
       "   'location_name': 'The University Club of the U of A',\n",
       "   'machine_name': 'Supersonic (Bally, 1979)',\n",
       "   'high_score': None,\n",
       "   'city_name': 'Edmonton',\n",
       "   'lat': 53.5300382,\n",
       "   'lon': -113.5283787},\n",
       "  {'id': 518384,\n",
       "   'submission_type': 'remove_machine',\n",
       "   'submission': 'The Munsters (Pro) (Stern, 2019) was removed from The University Club of the U of A in Edmonton by hammerhead',\n",
       "   'region_id': None,\n",
       "   'created_at': '2025-07-14T01:03:41.010-07:00',\n",
       "   'updated_at': '2025-07-14T01:03:41.010-07:00',\n",
       "   'user_id': 7115,\n",
       "   'location_id': 21416,\n",
       "   'machine_id': 3099,\n",
       "   'comment': None,\n",
       "   'user_name': 'hammerhead',\n",
       "   'location_name': 'The University Club of the U of A',\n",
       "   'machine_name': 'The Munsters (Pro) (Stern, 2019)',\n",
       "   'high_score': None,\n",
       "   'city_name': 'Edmonton',\n",
       "   'lat': 53.5300382,\n",
       "   'lon': -113.5283787},\n",
       "  {'id': 518383,\n",
       "   'submission_type': 'remove_machine',\n",
       "   'submission': 'Future Spa (Bally, 1979) was removed from The University Club of the U of A in Edmonton by hammerhead',\n",
       "   'region_id': None,\n",
       "   'created_at': '2025-07-14T01:03:38.285-07:00',\n",
       "   'updated_at': '2025-07-14T01:03:38.285-07:00',\n",
       "   'user_id': 7115,\n",
       "   'location_id': 21416,\n",
       "   'machine_id': 808,\n",
       "   'comment': None,\n",
       "   'user_name': 'hammerhead',\n",
       "   'location_name': 'The University Club of the U of A',\n",
       "   'machine_name': 'Future Spa (Bally, 1979)',\n",
       "   'high_score': None,\n",
       "   'city_name': 'Edmonton',\n",
       "   'lat': 53.5300382,\n",
       "   'lon': -113.5283787},\n",
       "  {'id': 518382,\n",
       "   'submission_type': 'new_lmx',\n",
       "   'submission': 'Avatar (LE) (Stern, 2010) was added to The University Club of the U of A in Edmonton by hammerhead',\n",
       "   'region_id': None,\n",
       "   'created_at': '2025-07-14T01:03:33.303-07:00',\n",
       "   'updated_at': '2025-07-14T01:03:33.303-07:00',\n",
       "   'user_id': 7115,\n",
       "   'location_id': 21416,\n",
       "   'machine_id': 1102,\n",
       "   'comment': None,\n",
       "   'user_name': 'hammerhead',\n",
       "   'location_name': 'The University Club of the U of A',\n",
       "   'machine_name': 'Avatar (LE) (Stern, 2010)',\n",
       "   'high_score': None,\n",
       "   'city_name': 'Edmonton',\n",
       "   'lat': 53.5300382,\n",
       "   'lon': -113.5283787},\n",
       "  {'id': 518380,\n",
       "   'submission_type': 'new_lmx',\n",
       "   'submission': 'James Bond 007 (Pro) (Stern, 2022) was added to The Suburban Brew - Brewery & Taproom in Glynde by imczr',\n",
       "   'region_id': None,\n",
       "   'created_at': '2025-07-14T00:13:57.224-07:00',\n",
       "   'updated_at': '2025-07-14T00:13:57.224-07:00',\n",
       "   'user_id': 30770,\n",
       "   'location_id': 21512,\n",
       "   'machine_id': 3640,\n",
       "   'comment': None,\n",
       "   'user_name': 'imczr',\n",
       "   'location_name': 'The Suburban Brew - Brewery & Taproom',\n",
       "   'machine_name': 'James Bond 007 (Pro) (Stern, 2022)',\n",
       "   'high_score': None,\n",
       "   'city_name': 'Glynde',\n",
       "   'lat': -34.8948204,\n",
       "   'lon': 138.6549825},\n",
       "  {'id': 518379,\n",
       "   'submission_type': 'remove_machine',\n",
       "   'submission': 'Ghostbusters (Pro) (Stern, 2016) was removed from The Suburban Brew - Brewery & Taproom in Glynde by imczr',\n",
       "   'region_id': None,\n",
       "   'created_at': '2025-07-14T00:13:44.418-07:00',\n",
       "   'updated_at': '2025-07-14T00:13:44.418-07:00',\n",
       "   'user_id': 30770,\n",
       "   'location_id': 21512,\n",
       "   'machine_id': 2569,\n",
       "   'comment': None,\n",
       "   'user_name': 'imczr',\n",
       "   'location_name': 'The Suburban Brew - Brewery & Taproom',\n",
       "   'machine_name': 'Ghostbusters (Pro) (Stern, 2016)',\n",
       "   'high_score': None,\n",
       "   'city_name': 'Glynde',\n",
       "   'lat': -34.8948204,\n",
       "   'lon': 138.6549825},\n",
       "  {'id': 518373,\n",
       "   'submission_type': 'confirm_location',\n",
       "   'submission': 'Grubba confirmed the lineup at Funland Seaside Arcade in Seaside',\n",
       "   'region_id': None,\n",
       "   'created_at': '2025-07-13T22:24:11.759-07:00',\n",
       "   'updated_at': '2025-07-13T22:24:11.759-07:00',\n",
       "   'user_id': 40563,\n",
       "   'location_id': 4456,\n",
       "   'machine_id': None,\n",
       "   'comment': None,\n",
       "   'user_name': 'Grubba',\n",
       "   'location_name': 'Funland Seaside Arcade',\n",
       "   'machine_name': None,\n",
       "   'high_score': None,\n",
       "   'city_name': 'Seaside',\n",
       "   'lat': 45.9929157,\n",
       "   'lon': -123.9272976},\n",
       "  {'id': 518372,\n",
       "   'submission_type': 'confirm_location',\n",
       "   'submission': 'Grubba confirmed the lineup at Funland Seaside Arcade in Seaside',\n",
       "   'region_id': None,\n",
       "   'created_at': '2025-07-13T22:24:08.487-07:00',\n",
       "   'updated_at': '2025-07-13T22:24:08.487-07:00',\n",
       "   'user_id': 40563,\n",
       "   'location_id': 4456,\n",
       "   'machine_id': None,\n",
       "   'comment': None,\n",
       "   'user_name': 'Grubba',\n",
       "   'location_name': 'Funland Seaside Arcade',\n",
       "   'machine_name': None,\n",
       "   'high_score': None,\n",
       "   'city_name': 'Seaside',\n",
       "   'lat': 45.9929157,\n",
       "   'lon': -123.9272976},\n",
       "  {'id': 518361,\n",
       "   'submission_type': 'new_msx',\n",
       "   'submission': 'vomitlaunch33 added a high score of 7,828,200 on Teenage Mutant Ninja Turtles (LE) (Stern, 2020) at The Lady Daly Hotel in Hindmarsh',\n",
       "   'region_id': None,\n",
       "   'created_at': '2025-07-13T20:19:40.913-07:00',\n",
       "   'updated_at': '2025-07-13T20:19:40.913-07:00',\n",
       "   'user_id': 35633,\n",
       "   'location_id': 26477,\n",
       "   'machine_id': 3253,\n",
       "   'comment': None,\n",
       "   'user_name': 'vomitlaunch33',\n",
       "   'location_name': 'The Lady Daly Hotel',\n",
       "   'machine_name': 'Teenage Mutant Ninja Turtles (LE) (Stern, 2020)',\n",
       "   'high_score': 7828200,\n",
       "   'city_name': 'Hindmarsh',\n",
       "   'lat': -34.9065473,\n",
       "   'lon': 138.573211},\n",
       "  {'id': 518334,\n",
       "   'submission_type': 'new_condition',\n",
       "   'submission': 'ogmarshall commented on Iron Man (Stern, 2010) at Spin City Laundry in Lacey. They said: Playable',\n",
       "   'region_id': None,\n",
       "   'created_at': '2025-07-13T18:50:22.420-07:00',\n",
       "   'updated_at': '2025-07-13T18:50:22.420-07:00',\n",
       "   'user_id': 27795,\n",
       "   'location_id': 7601,\n",
       "   'machine_id': 764,\n",
       "   'comment': 'Playable',\n",
       "   'user_name': 'ogmarshall',\n",
       "   'location_name': 'Spin City Laundry',\n",
       "   'machine_name': 'Iron Man (Stern, 2010)',\n",
       "   'high_score': None,\n",
       "   'city_name': 'Lacey',\n",
       "   'lat': 47.036955,\n",
       "   'lon': -122.825092},\n",
       "  {'id': 518333,\n",
       "   'submission_type': 'new_condition',\n",
       "   'submission': 'ogmarshall commented on Funhouse (Williams, 1990) at Spin City Laundry in Lacey. They said: Takes coins, doesn’t play',\n",
       "   'region_id': None,\n",
       "   'created_at': '2025-07-13T18:49:39.348-07:00',\n",
       "   'updated_at': '2025-07-13T18:49:39.348-07:00',\n",
       "   'user_id': 27795,\n",
       "   'location_id': 7601,\n",
       "   'machine_id': 703,\n",
       "   'comment': 'Takes coins, doesn’t play',\n",
       "   'user_name': 'ogmarshall',\n",
       "   'location_name': 'Spin City Laundry',\n",
       "   'machine_name': 'Funhouse (Williams, 1990)',\n",
       "   'high_score': None,\n",
       "   'city_name': 'Lacey',\n",
       "   'lat': 47.036955,\n",
       "   'lon': -122.825092},\n",
       "  {'id': 518316,\n",
       "   'submission_type': 'new_lmx',\n",
       "   'submission': 'Godzilla (70th Anniversary) (Stern, 2024) was added to RGK Club in Hindmarsh',\n",
       "   'region_id': None,\n",
       "   'created_at': '2025-07-13T16:53:29.289-07:00',\n",
       "   'updated_at': '2025-07-13T16:53:29.289-07:00',\n",
       "   'user_id': None,\n",
       "   'location_id': 26838,\n",
       "   'machine_id': 4500,\n",
       "   'comment': None,\n",
       "   'user_name': None,\n",
       "   'location_name': 'RGK Club',\n",
       "   'machine_name': 'Godzilla (70th Anniversary) (Stern, 2024)',\n",
       "   'high_score': None,\n",
       "   'city_name': 'Hindmarsh',\n",
       "   'lat': -34.9070432,\n",
       "   'lon': 138.572644},\n",
       "  {'id': 518315,\n",
       "   'submission_type': 'new_lmx',\n",
       "   'submission': \"Red & Ted's Road Show (Williams, 1994) was added to Forget Me Not Soda Shoppe in Middleburgh\",\n",
       "   'region_id': None,\n",
       "   'created_at': '2025-07-13T16:51:04.349-07:00',\n",
       "   'updated_at': '2025-07-13T16:51:04.349-07:00',\n",
       "   'user_id': None,\n",
       "   'location_id': 26837,\n",
       "   'machine_id': 680,\n",
       "   'comment': None,\n",
       "   'user_name': None,\n",
       "   'location_name': 'Forget Me Not Soda Shoppe',\n",
       "   'machine_name': \"Red & Ted's Road Show (Williams, 1994)\",\n",
       "   'high_score': None,\n",
       "   'city_name': 'Middleburgh',\n",
       "   'lat': 42.5984761,\n",
       "   'lon': -74.3342283},\n",
       "  {'id': 518312,\n",
       "   'submission_type': 'new_lmx',\n",
       "   'submission': 'John Wick (Pro) (Stern, 2024) was added to Arcade Mania in Avon',\n",
       "   'region_id': None,\n",
       "   'created_at': '2025-07-13T16:48:37.126-07:00',\n",
       "   'updated_at': '2025-07-13T16:48:37.126-07:00',\n",
       "   'user_id': None,\n",
       "   'location_id': 26835,\n",
       "   'machine_id': 3845,\n",
       "   'comment': None,\n",
       "   'user_name': None,\n",
       "   'location_name': 'Arcade Mania',\n",
       "   'machine_name': 'John Wick (Pro) (Stern, 2024)',\n",
       "   'high_score': None,\n",
       "   'city_name': 'Avon',\n",
       "   'lat': 35.3333997,\n",
       "   'lon': -75.5072665},\n",
       "  {'id': 518311,\n",
       "   'submission_type': 'new_lmx',\n",
       "   'submission': 'JAWS (Pro) (Stern, 2024) was added to Arcade Mania in Avon',\n",
       "   'region_id': None,\n",
       "   'created_at': '2025-07-13T16:48:37.114-07:00',\n",
       "   'updated_at': '2025-07-13T16:48:37.114-07:00',\n",
       "   'user_id': None,\n",
       "   'location_id': 26835,\n",
       "   'machine_id': 3799,\n",
       "   'comment': None,\n",
       "   'user_name': None,\n",
       "   'location_name': 'Arcade Mania',\n",
       "   'machine_name': 'JAWS (Pro) (Stern, 2024)',\n",
       "   'high_score': None,\n",
       "   'city_name': 'Avon',\n",
       "   'lat': 35.3333997,\n",
       "   'lon': -75.5072665},\n",
       "  {'id': 518309,\n",
       "   'submission_type': 'new_lmx',\n",
       "   'submission': \"The Simpsons (Data East, 1990) was added to Sicily's Pizza in Broussard\",\n",
       "   'region_id': None,\n",
       "   'created_at': '2025-07-13T16:46:43.916-07:00',\n",
       "   'updated_at': '2025-07-13T16:46:43.916-07:00',\n",
       "   'user_id': None,\n",
       "   'location_id': 26833,\n",
       "   'machine_id': 812,\n",
       "   'comment': None,\n",
       "   'user_name': None,\n",
       "   'location_name': \"Sicily's Pizza\",\n",
       "   'machine_name': 'The Simpsons (Data East, 1990)',\n",
       "   'high_score': None,\n",
       "   'city_name': 'Broussard',\n",
       "   'lat': 30.1396571,\n",
       "   'lon': -91.9480319},\n",
       "  {'id': 518293,\n",
       "   'submission_type': 'new_msx',\n",
       "   'submission': \"raccoon added a high score of 92,550 on Aladdin's Castle (Bally, 1975) at North Canton Masonic Temple in North Canton\",\n",
       "   'region_id': None,\n",
       "   'created_at': '2025-07-13T16:32:13.241-07:00',\n",
       "   'updated_at': '2025-07-13T16:32:13.241-07:00',\n",
       "   'user_id': 36956,\n",
       "   'location_id': 18895,\n",
       "   'machine_id': 1600,\n",
       "   'comment': None,\n",
       "   'user_name': 'raccoon',\n",
       "   'location_name': 'North Canton Masonic Temple',\n",
       "   'machine_name': \"Aladdin's Castle (Bally, 1975)\",\n",
       "   'high_score': 92550,\n",
       "   'city_name': 'North Canton',\n",
       "   'lat': 40.8838134,\n",
       "   'lon': -81.401947},\n",
       "  {'id': 518292,\n",
       "   'submission_type': 'new_msx',\n",
       "   'submission': \"raccoon added a high score of 22,110 on Aladdin's Castle (Bally, 1975) at North Canton Masonic Temple in North Canton\",\n",
       "   'region_id': None,\n",
       "   'created_at': '2025-07-13T16:28:02.470-07:00',\n",
       "   'updated_at': '2025-07-13T16:28:02.470-07:00',\n",
       "   'user_id': 36956,\n",
       "   'location_id': 18895,\n",
       "   'machine_id': 1600,\n",
       "   'comment': None,\n",
       "   'user_name': 'raccoon',\n",
       "   'location_name': 'North Canton Masonic Temple',\n",
       "   'machine_name': \"Aladdin's Castle (Bally, 1975)\",\n",
       "   'high_score': 22110,\n",
       "   'city_name': 'North Canton',\n",
       "   'lat': 40.8838134,\n",
       "   'lon': -81.401947},\n",
       "  {'id': 518291,\n",
       "   'submission_type': 'new_msx',\n",
       "   'submission': \"raccoon added a high score of 23,640 on Aladdin's Castle (Bally, 1975) at North Canton Masonic Temple in North Canton\",\n",
       "   'region_id': None,\n",
       "   'created_at': '2025-07-13T16:26:10.155-07:00',\n",
       "   'updated_at': '2025-07-13T16:26:10.155-07:00',\n",
       "   'user_id': 36956,\n",
       "   'location_id': 18895,\n",
       "   'machine_id': 1600,\n",
       "   'comment': None,\n",
       "   'user_name': 'raccoon',\n",
       "   'location_name': 'North Canton Masonic Temple',\n",
       "   'machine_name': \"Aladdin's Castle (Bally, 1975)\",\n",
       "   'high_score': 23640,\n",
       "   'city_name': 'North Canton',\n",
       "   'lat': 40.8838134,\n",
       "   'lon': -81.401947},\n",
       "  {'id': 518290,\n",
       "   'submission_type': 'new_lmx',\n",
       "   'submission': \"Aladdin's Castle (Bally, 1975) was added to North Canton Masonic Temple in North Canton by raccoon\",\n",
       "   'region_id': None,\n",
       "   'created_at': '2025-07-13T16:23:57.605-07:00',\n",
       "   'updated_at': '2025-07-13T16:23:57.605-07:00',\n",
       "   'user_id': 36956,\n",
       "   'location_id': 18895,\n",
       "   'machine_id': 1600,\n",
       "   'comment': None,\n",
       "   'user_name': 'raccoon',\n",
       "   'location_name': 'North Canton Masonic Temple',\n",
       "   'machine_name': \"Aladdin's Castle (Bally, 1975)\",\n",
       "   'high_score': None,\n",
       "   'city_name': 'North Canton',\n",
       "   'lat': 40.8838134,\n",
       "   'lon': -81.401947},\n",
       "  {'id': 518289,\n",
       "   'submission_type': 'new_msx',\n",
       "   'submission': 'raccoon added a high score of 253,260 on Aztec (Williams, 1976) at North Canton Masonic Temple in North Canton',\n",
       "   'region_id': None,\n",
       "   'created_at': '2025-07-13T16:23:39.014-07:00',\n",
       "   'updated_at': '2025-07-13T16:23:39.014-07:00',\n",
       "   'user_id': 36956,\n",
       "   'location_id': 18895,\n",
       "   'machine_id': 823,\n",
       "   'comment': None,\n",
       "   'user_name': 'raccoon',\n",
       "   'location_name': 'North Canton Masonic Temple',\n",
       "   'machine_name': 'Aztec (Williams, 1976)',\n",
       "   'high_score': 253260,\n",
       "   'city_name': 'North Canton',\n",
       "   'lat': 40.8838134,\n",
       "   'lon': -81.401947},\n",
       "  {'id': 518287,\n",
       "   'submission_type': 'new_msx',\n",
       "   'submission': 'raccoon added a high score of 262,380 on Aztec (Williams, 1976) at North Canton Masonic Temple in North Canton',\n",
       "   'region_id': None,\n",
       "   'created_at': '2025-07-13T16:20:52.151-07:00',\n",
       "   'updated_at': '2025-07-13T16:20:52.151-07:00',\n",
       "   'user_id': 36956,\n",
       "   'location_id': 18895,\n",
       "   'machine_id': 823,\n",
       "   'comment': None,\n",
       "   'user_name': 'raccoon',\n",
       "   'location_name': 'North Canton Masonic Temple',\n",
       "   'machine_name': 'Aztec (Williams, 1976)',\n",
       "   'high_score': 262380,\n",
       "   'city_name': 'North Canton',\n",
       "   'lat': 40.8838134,\n",
       "   'lon': -81.401947},\n",
       "  {'id': 518286,\n",
       "   'submission_type': 'new_msx',\n",
       "   'submission': 'raccoon added a high score of 343,270 on Aztec (Williams, 1976) at North Canton Masonic Temple in North Canton',\n",
       "   'region_id': None,\n",
       "   'created_at': '2025-07-13T16:17:28.656-07:00',\n",
       "   'updated_at': '2025-07-13T16:17:28.656-07:00',\n",
       "   'user_id': 36956,\n",
       "   'location_id': 18895,\n",
       "   'machine_id': 823,\n",
       "   'comment': None,\n",
       "   'user_name': 'raccoon',\n",
       "   'location_name': 'North Canton Masonic Temple',\n",
       "   'machine_name': 'Aztec (Williams, 1976)',\n",
       "   'high_score': 343270,\n",
       "   'city_name': 'North Canton',\n",
       "   'lat': 40.8838134,\n",
       "   'lon': -81.401947},\n",
       "  {'id': 518282,\n",
       "   'submission_type': 'new_lmx',\n",
       "   'submission': 'Aztec (Williams, 1976) was added to North Canton Masonic Temple in North Canton by raccoon',\n",
       "   'region_id': None,\n",
       "   'created_at': '2025-07-13T16:13:07.073-07:00',\n",
       "   'updated_at': '2025-07-13T16:13:07.073-07:00',\n",
       "   'user_id': 36956,\n",
       "   'location_id': 18895,\n",
       "   'machine_id': 823,\n",
       "   'comment': None,\n",
       "   'user_name': 'raccoon',\n",
       "   'location_name': 'North Canton Masonic Temple',\n",
       "   'machine_name': 'Aztec (Williams, 1976)',\n",
       "   'high_score': None,\n",
       "   'city_name': 'North Canton',\n",
       "   'lat': 40.8838134,\n",
       "   'lon': -81.401947},\n",
       "  {'id': 518281,\n",
       "   'submission_type': 'new_msx',\n",
       "   'submission': 'raccoon added a high score of 38,860 on Doodle Bug (Williams, 1971) at North Canton Masonic Temple in North Canton',\n",
       "   'region_id': None,\n",
       "   'created_at': '2025-07-13T16:12:32.952-07:00',\n",
       "   'updated_at': '2025-07-13T16:12:32.952-07:00',\n",
       "   'user_id': 36956,\n",
       "   'location_id': 18895,\n",
       "   'machine_id': 2367,\n",
       "   'comment': None,\n",
       "   'user_name': 'raccoon',\n",
       "   'location_name': 'North Canton Masonic Temple',\n",
       "   'machine_name': 'Doodle Bug (Williams, 1971)',\n",
       "   'high_score': 38860,\n",
       "   'city_name': 'North Canton',\n",
       "   'lat': 40.8838134,\n",
       "   'lon': -81.401947},\n",
       "  {'id': 518273,\n",
       "   'submission_type': 'new_lmx',\n",
       "   'submission': 'Harry Potter (Arcade Edition) (Jersey Jack, 2025) was added to Bartari in Scranton by bartari',\n",
       "   'region_id': None,\n",
       "   'created_at': '2025-07-13T15:52:36.180-07:00',\n",
       "   'updated_at': '2025-07-13T15:52:36.180-07:00',\n",
       "   'user_id': 13029,\n",
       "   'location_id': 13385,\n",
       "   'machine_id': 4537,\n",
       "   'comment': None,\n",
       "   'user_name': 'bartari',\n",
       "   'location_name': 'Bartari',\n",
       "   'machine_name': 'Harry Potter (Arcade Edition) (Jersey Jack, 2025)',\n",
       "   'high_score': None,\n",
       "   'city_name': 'Scranton',\n",
       "   'lat': 41.4063662,\n",
       "   'lon': -75.663811},\n",
       "  {'id': 518272,\n",
       "   'submission_type': 'new_msx',\n",
       "   'submission': 'raccoon added a high score of 66,480 on Dialed In! (LE) (Jersey Jack, 2017) at North Canton Masonic Temple in North Canton',\n",
       "   'region_id': None,\n",
       "   'created_at': '2025-07-13T15:51:23.866-07:00',\n",
       "   'updated_at': '2025-07-13T15:51:23.866-07:00',\n",
       "   'user_id': 36956,\n",
       "   'location_id': 18895,\n",
       "   'machine_id': 2834,\n",
       "   'comment': None,\n",
       "   'user_name': 'raccoon',\n",
       "   'location_name': 'North Canton Masonic Temple',\n",
       "   'machine_name': 'Dialed In! (LE) (Jersey Jack, 2017)',\n",
       "   'high_score': 66480,\n",
       "   'city_name': 'North Canton',\n",
       "   'lat': 40.8838134,\n",
       "   'lon': -81.401947},\n",
       "  {'id': 518271,\n",
       "   'submission_type': 'new_msx',\n",
       "   'submission': 'raccoon added a high score of 14,150 on Dialed In! (LE) (Jersey Jack, 2017) at North Canton Masonic Temple in North Canton',\n",
       "   'region_id': None,\n",
       "   'created_at': '2025-07-13T15:47:49.078-07:00',\n",
       "   'updated_at': '2025-07-13T15:47:49.078-07:00',\n",
       "   'user_id': 36956,\n",
       "   'location_id': 18895,\n",
       "   'machine_id': 2834,\n",
       "   'comment': None,\n",
       "   'user_name': 'raccoon',\n",
       "   'location_name': 'North Canton Masonic Temple',\n",
       "   'machine_name': 'Dialed In! (LE) (Jersey Jack, 2017)',\n",
       "   'high_score': 14150,\n",
       "   'city_name': 'North Canton',\n",
       "   'lat': 40.8838134,\n",
       "   'lon': -81.401947},\n",
       "  {'id': 518269,\n",
       "   'submission_type': 'new_msx',\n",
       "   'submission': 'raccoon added a high score of 18,450 on Dialed In! (LE) (Jersey Jack, 2017) at North Canton Masonic Temple in North Canton',\n",
       "   'region_id': None,\n",
       "   'created_at': '2025-07-13T15:45:28.832-07:00',\n",
       "   'updated_at': '2025-07-13T15:45:28.832-07:00',\n",
       "   'user_id': 36956,\n",
       "   'location_id': 18895,\n",
       "   'machine_id': 2834,\n",
       "   'comment': None,\n",
       "   'user_name': 'raccoon',\n",
       "   'location_name': 'North Canton Masonic Temple',\n",
       "   'machine_name': 'Dialed In! (LE) (Jersey Jack, 2017)',\n",
       "   'high_score': 18450,\n",
       "   'city_name': 'North Canton',\n",
       "   'lat': 40.8838134,\n",
       "   'lon': -81.401947},\n",
       "  {'id': 518261,\n",
       "   'submission_type': 'new_lmx',\n",
       "   'submission': 'Dialed In! (LE) (Jersey Jack, 2017) was added to North Canton Masonic Temple in North Canton by raccoon',\n",
       "   'region_id': None,\n",
       "   'created_at': '2025-07-13T15:41:48.634-07:00',\n",
       "   'updated_at': '2025-07-13T15:41:48.634-07:00',\n",
       "   'user_id': 36956,\n",
       "   'location_id': 18895,\n",
       "   'machine_id': 2834,\n",
       "   'comment': None,\n",
       "   'user_name': 'raccoon',\n",
       "   'location_name': 'North Canton Masonic Temple',\n",
       "   'machine_name': 'Dialed In! (LE) (Jersey Jack, 2017)',\n",
       "   'high_score': None,\n",
       "   'city_name': 'North Canton',\n",
       "   'lat': 40.8838134,\n",
       "   'lon': -81.401947},\n",
       "  {'id': 518259,\n",
       "   'submission_type': 'new_msx',\n",
       "   'submission': 'raccoon added a high score of 38,560 on Mystic (Bally, 1979) at North Canton Masonic Temple in North Canton',\n",
       "   'region_id': None,\n",
       "   'created_at': '2025-07-13T15:37:47.441-07:00',\n",
       "   'updated_at': '2025-07-13T15:37:47.441-07:00',\n",
       "   'user_id': 36956,\n",
       "   'location_id': 18895,\n",
       "   'machine_id': 837,\n",
       "   'comment': None,\n",
       "   'user_name': 'raccoon',\n",
       "   'location_name': 'North Canton Masonic Temple',\n",
       "   'machine_name': 'Mystic (Bally, 1979)',\n",
       "   'high_score': 38560,\n",
       "   'city_name': 'North Canton',\n",
       "   'lat': 40.8838134,\n",
       "   'lon': -81.401947},\n",
       "  {'id': 518258,\n",
       "   'submission_type': 'new_msx',\n",
       "   'submission': 'raccoon added a high score of 130,310 on Mystic (Bally, 1979) at North Canton Masonic Temple in North Canton',\n",
       "   'region_id': None,\n",
       "   'created_at': '2025-07-13T15:36:36.845-07:00',\n",
       "   'updated_at': '2025-07-13T15:36:36.845-07:00',\n",
       "   'user_id': 36956,\n",
       "   'location_id': 18895,\n",
       "   'machine_id': 837,\n",
       "   'comment': None,\n",
       "   'user_name': 'raccoon',\n",
       "   'location_name': 'North Canton Masonic Temple',\n",
       "   'machine_name': 'Mystic (Bally, 1979)',\n",
       "   'high_score': 130310,\n",
       "   'city_name': 'North Canton',\n",
       "   'lat': 40.8838134,\n",
       "   'lon': -81.401947},\n",
       "  {'id': 518257,\n",
       "   'submission_type': 'new_msx',\n",
       "   'submission': 'raccoon added a high score of 30,220 on Mystic (Bally, 1979) at North Canton Masonic Temple in North Canton',\n",
       "   'region_id': None,\n",
       "   'created_at': '2025-07-13T15:34:52.773-07:00',\n",
       "   'updated_at': '2025-07-13T15:34:52.773-07:00',\n",
       "   'user_id': 36956,\n",
       "   'location_id': 18895,\n",
       "   'machine_id': 837,\n",
       "   'comment': None,\n",
       "   'user_name': 'raccoon',\n",
       "   'location_name': 'North Canton Masonic Temple',\n",
       "   'machine_name': 'Mystic (Bally, 1979)',\n",
       "   'high_score': 30220,\n",
       "   'city_name': 'North Canton',\n",
       "   'lat': 40.8838134,\n",
       "   'lon': -81.401947},\n",
       "  {'id': 518233,\n",
       "   'submission_type': 'new_msx',\n",
       "   'submission': 'raccoon added a high score of 388,580 on Seawitch (Stern Electronics, 1980) at North Canton Masonic Temple in North Canton',\n",
       "   'region_id': None,\n",
       "   'created_at': '2025-07-13T15:32:22.403-07:00',\n",
       "   'updated_at': '2025-07-13T15:32:22.403-07:00',\n",
       "   'user_id': 36956,\n",
       "   'location_id': 18895,\n",
       "   'machine_id': 820,\n",
       "   'comment': None,\n",
       "   'user_name': 'raccoon',\n",
       "   'location_name': 'North Canton Masonic Temple',\n",
       "   'machine_name': 'Seawitch (Stern Electronics, 1980)',\n",
       "   'high_score': 388580,\n",
       "   'city_name': 'North Canton',\n",
       "   'lat': 40.8838134,\n",
       "   'lon': -81.401947},\n",
       "  {'id': 518229,\n",
       "   'submission_type': 'new_msx',\n",
       "   'submission': 'raccoon added a high score of 241,630 on Seawitch (Stern Electronics, 1980) at North Canton Masonic Temple in North Canton',\n",
       "   'region_id': None,\n",
       "   'created_at': '2025-07-13T15:29:25.156-07:00',\n",
       "   'updated_at': '2025-07-13T15:29:25.156-07:00',\n",
       "   'user_id': 36956,\n",
       "   'location_id': 18895,\n",
       "   'machine_id': 820,\n",
       "   'comment': None,\n",
       "   'user_name': 'raccoon',\n",
       "   'location_name': 'North Canton Masonic Temple',\n",
       "   'machine_name': 'Seawitch (Stern Electronics, 1980)',\n",
       "   'high_score': 241630,\n",
       "   'city_name': 'North Canton',\n",
       "   'lat': 40.8838134,\n",
       "   'lon': -81.401947},\n",
       "  {'id': 518228,\n",
       "   'submission_type': 'new_msx',\n",
       "   'submission': 'raccoon added a high score of 338,920 on Seawitch (Stern Electronics, 1980) at North Canton Masonic Temple in North Canton',\n",
       "   'region_id': None,\n",
       "   'created_at': '2025-07-13T15:26:18.062-07:00',\n",
       "   'updated_at': '2025-07-13T15:26:18.062-07:00',\n",
       "   'user_id': 36956,\n",
       "   'location_id': 18895,\n",
       "   'machine_id': 820,\n",
       "   'comment': None,\n",
       "   'user_name': 'raccoon',\n",
       "   'location_name': 'North Canton Masonic Temple',\n",
       "   'machine_name': 'Seawitch (Stern Electronics, 1980)',\n",
       "   'high_score': 338920,\n",
       "   'city_name': 'North Canton',\n",
       "   'lat': 40.8838134,\n",
       "   'lon': -81.401947},\n",
       "  {'id': 518227,\n",
       "   'submission_type': 'new_lmx',\n",
       "   'submission': 'Seawitch (Stern Electronics, 1980) was added to North Canton Masonic Temple in North Canton by raccoon',\n",
       "   'region_id': None,\n",
       "   'created_at': '2025-07-13T15:22:23.953-07:00',\n",
       "   'updated_at': '2025-07-13T15:22:23.953-07:00',\n",
       "   'user_id': 36956,\n",
       "   'location_id': 18895,\n",
       "   'machine_id': 820,\n",
       "   'comment': None,\n",
       "   'user_name': 'raccoon',\n",
       "   'location_name': 'North Canton Masonic Temple',\n",
       "   'machine_name': 'Seawitch (Stern Electronics, 1980)',\n",
       "   'high_score': None,\n",
       "   'city_name': 'North Canton',\n",
       "   'lat': 40.8838134,\n",
       "   'lon': -81.401947},\n",
       "  {'id': 518225,\n",
       "   'submission_type': 'new_msx',\n",
       "   'submission': 'raccoon added a high score of 26,776,870 on Godzilla (Pro) (Stern, 2021) at North Canton Masonic Temple in North Canton',\n",
       "   'region_id': None,\n",
       "   'created_at': '2025-07-13T15:19:26.115-07:00',\n",
       "   'updated_at': '2025-07-13T15:19:26.115-07:00',\n",
       "   'user_id': 36956,\n",
       "   'location_id': 18895,\n",
       "   'machine_id': 3415,\n",
       "   'comment': None,\n",
       "   'user_name': 'raccoon',\n",
       "   'location_name': 'North Canton Masonic Temple',\n",
       "   'machine_name': 'Godzilla (Pro) (Stern, 2021)',\n",
       "   'high_score': 26776870,\n",
       "   'city_name': 'North Canton',\n",
       "   'lat': 40.8838134,\n",
       "   'lon': -81.401947},\n",
       "  {'id': 518222,\n",
       "   'submission_type': 'new_msx',\n",
       "   'submission': 'raccoon added a high score of 24,090 on Alien Star (Gottlieb, 1984) at North Canton Masonic Temple in North Canton',\n",
       "   'region_id': None,\n",
       "   'created_at': '2025-07-13T15:15:15.257-07:00',\n",
       "   'updated_at': '2025-07-13T15:15:15.257-07:00',\n",
       "   'user_id': 36956,\n",
       "   'location_id': 18895,\n",
       "   'machine_id': 2752,\n",
       "   'comment': None,\n",
       "   'user_name': 'raccoon',\n",
       "   'location_name': 'North Canton Masonic Temple',\n",
       "   'machine_name': 'Alien Star (Gottlieb, 1984)',\n",
       "   'high_score': 24090,\n",
       "   'city_name': 'North Canton',\n",
       "   'lat': 40.8838134,\n",
       "   'lon': -81.401947},\n",
       "  {'id': 518218,\n",
       "   'submission_type': 'new_msx',\n",
       "   'submission': 'raccoon added a high score of 135,650 on Alien Star (Gottlieb, 1984) at North Canton Masonic Temple in North Canton',\n",
       "   'region_id': None,\n",
       "   'created_at': '2025-07-13T15:14:04.643-07:00',\n",
       "   'updated_at': '2025-07-13T15:14:04.643-07:00',\n",
       "   'user_id': 36956,\n",
       "   'location_id': 18895,\n",
       "   'machine_id': 2752,\n",
       "   'comment': None,\n",
       "   'user_name': 'raccoon',\n",
       "   'location_name': 'North Canton Masonic Temple',\n",
       "   'machine_name': 'Alien Star (Gottlieb, 1984)',\n",
       "   'high_score': 135650,\n",
       "   'city_name': 'North Canton',\n",
       "   'lat': 40.8838134,\n",
       "   'lon': -81.401947},\n",
       "  {'id': 518217,\n",
       "   'submission_type': 'new_msx',\n",
       "   'submission': 'raccoon added a high score of 181,770 on Alien Star (Gottlieb, 1984) at North Canton Masonic Temple in North Canton',\n",
       "   'region_id': None,\n",
       "   'created_at': '2025-07-13T15:11:51.208-07:00',\n",
       "   'updated_at': '2025-07-13T15:11:51.208-07:00',\n",
       "   'user_id': 36956,\n",
       "   'location_id': 18895,\n",
       "   'machine_id': 2752,\n",
       "   'comment': None,\n",
       "   'user_name': 'raccoon',\n",
       "   'location_name': 'North Canton Masonic Temple',\n",
       "   'machine_name': 'Alien Star (Gottlieb, 1984)',\n",
       "   'high_score': 181770,\n",
       "   'city_name': 'North Canton',\n",
       "   'lat': 40.8838134,\n",
       "   'lon': -81.401947},\n",
       "  {'id': 518208,\n",
       "   'submission_type': 'new_lmx',\n",
       "   'submission': 'Alien Star (Gottlieb, 1984) was added to North Canton Masonic Temple in North Canton by raccoon',\n",
       "   'region_id': None,\n",
       "   'created_at': '2025-07-13T15:06:51.820-07:00',\n",
       "   'updated_at': '2025-07-13T15:06:51.820-07:00',\n",
       "   'user_id': 36956,\n",
       "   'location_id': 18895,\n",
       "   'machine_id': 2752,\n",
       "   'comment': None,\n",
       "   'user_name': 'raccoon',\n",
       "   'location_name': 'North Canton Masonic Temple',\n",
       "   'machine_name': 'Alien Star (Gottlieb, 1984)',\n",
       "   'high_score': None,\n",
       "   'city_name': 'North Canton',\n",
       "   'lat': 40.8838134,\n",
       "   'lon': -81.401947},\n",
       "  {'id': 518207,\n",
       "   'submission_type': 'new_msx',\n",
       "   'submission': 'raccoon added a high score of 71,840 on Sure Shot (Gottlieb, 1976) at North Canton Masonic Temple in North Canton',\n",
       "   'region_id': None,\n",
       "   'created_at': '2025-07-13T15:05:54.786-07:00',\n",
       "   'updated_at': '2025-07-13T15:05:54.786-07:00',\n",
       "   'user_id': 36956,\n",
       "   'location_id': 18895,\n",
       "   'machine_id': 805,\n",
       "   'comment': None,\n",
       "   'user_name': 'raccoon',\n",
       "   'location_name': 'North Canton Masonic Temple',\n",
       "   'machine_name': 'Sure Shot (Gottlieb, 1976)',\n",
       "   'high_score': 71840,\n",
       "   'city_name': 'North Canton',\n",
       "   'lat': 40.8838134,\n",
       "   'lon': -81.401947},\n",
       "  {'id': 518204,\n",
       "   'submission_type': 'new_msx',\n",
       "   'submission': 'raccoon added a high score of 40,580 on Sure Shot (Gottlieb, 1976) at North Canton Masonic Temple in North Canton',\n",
       "   'region_id': None,\n",
       "   'created_at': '2025-07-13T15:02:44.139-07:00',\n",
       "   'updated_at': '2025-07-13T15:02:44.139-07:00',\n",
       "   'user_id': 36956,\n",
       "   'location_id': 18895,\n",
       "   'machine_id': 805,\n",
       "   'comment': None,\n",
       "   'user_name': 'raccoon',\n",
       "   'location_name': 'North Canton Masonic Temple',\n",
       "   'machine_name': 'Sure Shot (Gottlieb, 1976)',\n",
       "   'high_score': 40580,\n",
       "   'city_name': 'North Canton',\n",
       "   'lat': 40.8838134,\n",
       "   'lon': -81.401947},\n",
       "  {'id': 518203,\n",
       "   'submission_type': 'new_msx',\n",
       "   'submission': 'raccoon added a high score of 48,690 on Sure Shot (Gottlieb, 1976) at North Canton Masonic Temple in North Canton',\n",
       "   'region_id': None,\n",
       "   'created_at': '2025-07-13T15:02:22.299-07:00',\n",
       "   'updated_at': '2025-07-13T15:02:22.299-07:00',\n",
       "   'user_id': 36956,\n",
       "   'location_id': 18895,\n",
       "   'machine_id': 805,\n",
       "   'comment': None,\n",
       "   'user_name': 'raccoon',\n",
       "   'location_name': 'North Canton Masonic Temple',\n",
       "   'machine_name': 'Sure Shot (Gottlieb, 1976)',\n",
       "   'high_score': 48690,\n",
       "   'city_name': 'North Canton',\n",
       "   'lat': 40.8838134,\n",
       "   'lon': -81.401947},\n",
       "  {'id': 518202,\n",
       "   'submission_type': 'new_lmx',\n",
       "   'submission': 'Sure Shot (Gottlieb, 1976) was added to North Canton Masonic Temple in North Canton by raccoon',\n",
       "   'region_id': None,\n",
       "   'created_at': '2025-07-13T15:02:03.498-07:00',\n",
       "   'updated_at': '2025-07-13T15:02:03.498-07:00',\n",
       "   'user_id': 36956,\n",
       "   'location_id': 18895,\n",
       "   'machine_id': 805,\n",
       "   'comment': None,\n",
       "   'user_name': 'raccoon',\n",
       "   'location_name': 'North Canton Masonic Temple',\n",
       "   'machine_name': 'Sure Shot (Gottlieb, 1976)',\n",
       "   'high_score': None,\n",
       "   'city_name': 'North Canton',\n",
       "   'lat': 40.8838134,\n",
       "   'lon': -81.401947},\n",
       "  {'id': 518198,\n",
       "   'submission_type': 'new_msx',\n",
       "   'submission': 'raccoon added a high score of 13,358,970 on JAWS (Pro) (Stern, 2024) at North Canton Masonic Temple in North Canton',\n",
       "   'region_id': None,\n",
       "   'created_at': '2025-07-13T14:51:00.534-07:00',\n",
       "   'updated_at': '2025-07-13T14:51:00.534-07:00',\n",
       "   'user_id': 36956,\n",
       "   'location_id': 18895,\n",
       "   'machine_id': 3799,\n",
       "   'comment': None,\n",
       "   'user_name': 'raccoon',\n",
       "   'location_name': 'North Canton Masonic Temple',\n",
       "   'machine_name': 'JAWS (Pro) (Stern, 2024)',\n",
       "   'high_score': 13358970,\n",
       "   'city_name': 'North Canton',\n",
       "   'lat': 40.8838134,\n",
       "   'lon': -81.401947},\n",
       "  {'id': 518197,\n",
       "   'submission_type': 'new_msx',\n",
       "   'submission': 'raccoon added a high score of 43,992,400 on JAWS (Pro) (Stern, 2024) at North Canton Masonic Temple in North Canton',\n",
       "   'region_id': None,\n",
       "   'created_at': '2025-07-13T14:48:06.699-07:00',\n",
       "   'updated_at': '2025-07-13T14:48:06.699-07:00',\n",
       "   'user_id': 36956,\n",
       "   'location_id': 18895,\n",
       "   'machine_id': 3799,\n",
       "   'comment': None,\n",
       "   'user_name': 'raccoon',\n",
       "   'location_name': 'North Canton Masonic Temple',\n",
       "   'machine_name': 'JAWS (Pro) (Stern, 2024)',\n",
       "   'high_score': 43992400,\n",
       "   'city_name': 'North Canton',\n",
       "   'lat': 40.8838134,\n",
       "   'lon': -81.401947},\n",
       "  {'id': 518192,\n",
       "   'submission_type': 'new_lmx',\n",
       "   'submission': 'TRON: Legacy (Stern, 2011) was added to Merry Time Restaurant & Lounge in Astoria by toddrobinett',\n",
       "   'region_id': None,\n",
       "   'created_at': '2025-07-13T14:40:21.431-07:00',\n",
       "   'updated_at': '2025-07-13T14:40:21.431-07:00',\n",
       "   'user_id': 973,\n",
       "   'location_id': 5246,\n",
       "   'machine_id': 1118,\n",
       "   'comment': None,\n",
       "   'user_name': 'toddrobinett',\n",
       "   'location_name': 'Merry Time Restaurant & Lounge',\n",
       "   'machine_name': 'TRON: Legacy (Stern, 2011)',\n",
       "   'high_score': None,\n",
       "   'city_name': 'Astoria',\n",
       "   'lat': 46.1897231,\n",
       "   'lon': -123.8322656},\n",
       "  {'id': 518188,\n",
       "   'submission_type': 'new_msx',\n",
       "   'submission': 'raccoon added a high score of 145,030 on Genesis (Gottlieb, 1986) at North Canton Masonic Temple in North Canton',\n",
       "   'region_id': None,\n",
       "   'created_at': '2025-07-13T14:35:37.940-07:00',\n",
       "   'updated_at': '2025-07-13T14:35:37.940-07:00',\n",
       "   'user_id': 36956,\n",
       "   'location_id': 18895,\n",
       "   'machine_id': 1079,\n",
       "   'comment': None,\n",
       "   'user_name': 'raccoon',\n",
       "   'location_name': 'North Canton Masonic Temple',\n",
       "   'machine_name': 'Genesis (Gottlieb, 1986)',\n",
       "   'high_score': 145030,\n",
       "   'city_name': 'North Canton',\n",
       "   'lat': 40.8838134,\n",
       "   'lon': -81.401947},\n",
       "  {'id': 518187,\n",
       "   'submission_type': 'new_lmx',\n",
       "   'submission': 'Genesis (Gottlieb, 1986) was added to North Canton Masonic Temple in North Canton by raccoon',\n",
       "   'region_id': None,\n",
       "   'created_at': '2025-07-13T14:34:39.154-07:00',\n",
       "   'updated_at': '2025-07-13T14:34:39.154-07:00',\n",
       "   'user_id': 36956,\n",
       "   'location_id': 18895,\n",
       "   'machine_id': 1079,\n",
       "   'comment': None,\n",
       "   'user_name': 'raccoon',\n",
       "   'location_name': 'North Canton Masonic Temple',\n",
       "   'machine_name': 'Genesis (Gottlieb, 1986)',\n",
       "   'high_score': None,\n",
       "   'city_name': 'North Canton',\n",
       "   'lat': 40.8838134,\n",
       "   'lon': -81.401947},\n",
       "  {'id': 518177,\n",
       "   'submission_type': 'new_msx',\n",
       "   'submission': 'raccoon added a high score of 4,794,320 on TRON: Legacy (LE) (Stern, 2011) at North Canton Masonic Temple in North Canton',\n",
       "   'region_id': None,\n",
       "   'created_at': '2025-07-13T14:02:31.926-07:00',\n",
       "   'updated_at': '2025-07-13T14:02:31.926-07:00',\n",
       "   'user_id': 36956,\n",
       "   'location_id': 18895,\n",
       "   'machine_id': 1129,\n",
       "   'comment': None,\n",
       "   'user_name': 'raccoon',\n",
       "   'location_name': 'North Canton Masonic Temple',\n",
       "   'machine_name': 'TRON: Legacy (LE) (Stern, 2011)',\n",
       "   'high_score': 4794320,\n",
       "   'city_name': 'North Canton',\n",
       "   'lat': 40.8838134,\n",
       "   'lon': -81.401947},\n",
       "  {'id': 518171,\n",
       "   'submission_type': 'new_lmx',\n",
       "   'submission': 'TRON: Legacy (LE) (Stern, 2011) was added to North Canton Masonic Temple in North Canton by raccoon',\n",
       "   'region_id': None,\n",
       "   'created_at': '2025-07-13T13:55:48.248-07:00',\n",
       "   'updated_at': '2025-07-13T13:55:48.248-07:00',\n",
       "   'user_id': 36956,\n",
       "   'location_id': 18895,\n",
       "   'machine_id': 1129,\n",
       "   'comment': None,\n",
       "   'user_name': 'raccoon',\n",
       "   'location_name': 'North Canton Masonic Temple',\n",
       "   'machine_name': 'TRON: Legacy (LE) (Stern, 2011)',\n",
       "   'high_score': None,\n",
       "   'city_name': 'North Canton',\n",
       "   'lat': 40.8838134,\n",
       "   'lon': -81.401947},\n",
       "  {'id': 518170,\n",
       "   'submission_type': 'new_msx',\n",
       "   'submission': 'raccoon added a high score of 313,200 on Silverball Mania (Bally, 1978) at North Canton Masonic Temple in North Canton',\n",
       "   'region_id': None,\n",
       "   'created_at': '2025-07-13T13:52:54.819-07:00',\n",
       "   'updated_at': '2025-07-13T13:52:54.819-07:00',\n",
       "   'user_id': 36956,\n",
       "   'location_id': 18895,\n",
       "   'machine_id': 848,\n",
       "   'comment': None,\n",
       "   'user_name': 'raccoon',\n",
       "   'location_name': 'North Canton Masonic Temple',\n",
       "   'machine_name': 'Silverball Mania (Bally, 1978)',\n",
       "   'high_score': 313200,\n",
       "   'city_name': 'North Canton',\n",
       "   'lat': 40.8838134,\n",
       "   'lon': -81.401947},\n",
       "  {'id': 518166,\n",
       "   'submission_type': 'new_msx',\n",
       "   'submission': 'raccoon added a high score of 198,820 on Silverball Mania (Bally, 1978) at North Canton Masonic Temple in North Canton',\n",
       "   'region_id': None,\n",
       "   'created_at': '2025-07-13T13:38:01.252-07:00',\n",
       "   'updated_at': '2025-07-13T13:38:01.252-07:00',\n",
       "   'user_id': 36956,\n",
       "   'location_id': 18895,\n",
       "   'machine_id': 848,\n",
       "   'comment': None,\n",
       "   'user_name': 'raccoon',\n",
       "   'location_name': 'North Canton Masonic Temple',\n",
       "   'machine_name': 'Silverball Mania (Bally, 1978)',\n",
       "   'high_score': 198820,\n",
       "   'city_name': 'North Canton',\n",
       "   'lat': 40.8838134,\n",
       "   'lon': -81.401947},\n",
       "  {'id': 518165,\n",
       "   'submission_type': 'new_msx',\n",
       "   'submission': 'raccoon added a high score of 53,850 on Doodle Bug (Williams, 1971) at North Canton Masonic Temple in North Canton',\n",
       "   'region_id': None,\n",
       "   'created_at': '2025-07-13T13:25:16.942-07:00',\n",
       "   'updated_at': '2025-07-13T13:25:16.942-07:00',\n",
       "   'user_id': 36956,\n",
       "   'location_id': 18895,\n",
       "   'machine_id': 2367,\n",
       "   'comment': None,\n",
       "   'user_name': 'raccoon',\n",
       "   'location_name': 'North Canton Masonic Temple',\n",
       "   'machine_name': 'Doodle Bug (Williams, 1971)',\n",
       "   'high_score': 53850,\n",
       "   'city_name': 'North Canton',\n",
       "   'lat': 40.8838134,\n",
       "   'lon': -81.401947},\n",
       "  {'id': 518164,\n",
       "   'submission_type': 'new_msx',\n",
       "   'submission': 'raccoon added a high score of 23,200 on Doodle Bug (Williams, 1971) at North Canton Masonic Temple in North Canton',\n",
       "   'region_id': None,\n",
       "   'created_at': '2025-07-13T13:21:07.144-07:00',\n",
       "   'updated_at': '2025-07-13T13:21:07.144-07:00',\n",
       "   'user_id': 36956,\n",
       "   'location_id': 18895,\n",
       "   'machine_id': 2367,\n",
       "   'comment': None,\n",
       "   'user_name': 'raccoon',\n",
       "   'location_name': 'North Canton Masonic Temple',\n",
       "   'machine_name': 'Doodle Bug (Williams, 1971)',\n",
       "   'high_score': 23200,\n",
       "   'city_name': 'North Canton',\n",
       "   'lat': 40.8838134,\n",
       "   'lon': -81.401947},\n",
       "  {'id': 518163,\n",
       "   'submission_type': 'new_msx',\n",
       "   'submission': 'raccoon added a high score of 321,743,620 on Demolition Man (Williams, 1994) at North Canton Masonic Temple in North Canton',\n",
       "   'region_id': None,\n",
       "   'created_at': '2025-07-13T13:11:18.938-07:00',\n",
       "   'updated_at': '2025-07-13T13:11:18.938-07:00',\n",
       "   'user_id': 36956,\n",
       "   'location_id': 18895,\n",
       "   'machine_id': 670,\n",
       "   'comment': None,\n",
       "   'user_name': 'raccoon',\n",
       "   'location_name': 'North Canton Masonic Temple',\n",
       "   'machine_name': 'Demolition Man (Williams, 1994)',\n",
       "   'high_score': 321743620,\n",
       "   'city_name': 'North Canton',\n",
       "   'lat': 40.8838134,\n",
       "   'lon': -81.401947},\n",
       "  {'id': 518156,\n",
       "   'submission_type': 'new_msx',\n",
       "   'submission': 'raccoon added a high score of 13,382,590 on Avatar (LE) (Stern, 2010) at North Canton Masonic Temple in North Canton',\n",
       "   'region_id': None,\n",
       "   'created_at': '2025-07-13T12:58:34.932-07:00',\n",
       "   'updated_at': '2025-07-13T12:58:34.932-07:00',\n",
       "   'user_id': 36956,\n",
       "   'location_id': 18895,\n",
       "   'machine_id': 1102,\n",
       "   'comment': None,\n",
       "   'user_name': 'raccoon',\n",
       "   'location_name': 'North Canton Masonic Temple',\n",
       "   'machine_name': 'Avatar (LE) (Stern, 2010)',\n",
       "   'high_score': 13382590,\n",
       "   'city_name': 'North Canton',\n",
       "   'lat': 40.8838134,\n",
       "   'lon': -81.401947},\n",
       "  {'id': 518155,\n",
       "   'submission_type': 'new_msx',\n",
       "   'submission': 'raccoon added a high score of 3,870,910 on Avatar (LE) (Stern, 2010) at North Canton Masonic Temple in North Canton',\n",
       "   'region_id': None,\n",
       "   'created_at': '2025-07-13T12:54:50.789-07:00',\n",
       "   'updated_at': '2025-07-13T12:54:50.789-07:00',\n",
       "   'user_id': 36956,\n",
       "   'location_id': 18895,\n",
       "   'machine_id': 1102,\n",
       "   'comment': None,\n",
       "   'user_name': 'raccoon',\n",
       "   'location_name': 'North Canton Masonic Temple',\n",
       "   'machine_name': 'Avatar (LE) (Stern, 2010)',\n",
       "   'high_score': 3870910,\n",
       "   'city_name': 'North Canton',\n",
       "   'lat': 40.8838134,\n",
       "   'lon': -81.401947},\n",
       "  {'id': 518154,\n",
       "   'submission_type': 'new_msx',\n",
       "   'submission': 'raccoon added a high score of 3,223,150 on Avatar (LE) (Stern, 2010) at North Canton Masonic Temple in North Canton',\n",
       "   'region_id': None,\n",
       "   'created_at': '2025-07-13T12:52:50.151-07:00',\n",
       "   'updated_at': '2025-07-13T12:52:50.151-07:00',\n",
       "   'user_id': 36956,\n",
       "   'location_id': 18895,\n",
       "   'machine_id': 1102,\n",
       "   'comment': None,\n",
       "   'user_name': 'raccoon',\n",
       "   'location_name': 'North Canton Masonic Temple',\n",
       "   'machine_name': 'Avatar (LE) (Stern, 2010)',\n",
       "   'high_score': 3223150,\n",
       "   'city_name': 'North Canton',\n",
       "   'lat': 40.8838134,\n",
       "   'lon': -81.401947},\n",
       "  {'id': 518153,\n",
       "   'submission_type': 'new_msx',\n",
       "   'submission': 'raccoon added a high score of 5,820,470 on Avatar (LE) (Stern, 2010) at North Canton Masonic Temple in North Canton',\n",
       "   'region_id': None,\n",
       "   'created_at': '2025-07-13T12:50:11.102-07:00',\n",
       "   'updated_at': '2025-07-13T12:50:11.102-07:00',\n",
       "   'user_id': 36956,\n",
       "   'location_id': 18895,\n",
       "   'machine_id': 1102,\n",
       "   'comment': None,\n",
       "   'user_name': 'raccoon',\n",
       "   'location_name': 'North Canton Masonic Temple',\n",
       "   'machine_name': 'Avatar (LE) (Stern, 2010)',\n",
       "   'high_score': 5820470,\n",
       "   'city_name': 'North Canton',\n",
       "   'lat': 40.8838134,\n",
       "   'lon': -81.401947},\n",
       "  {'id': 518152,\n",
       "   'submission_type': 'new_lmx',\n",
       "   'submission': 'Avatar (LE) (Stern, 2010) was added to North Canton Masonic Temple in North Canton by raccoon',\n",
       "   'region_id': None,\n",
       "   'created_at': '2025-07-13T12:47:59.312-07:00',\n",
       "   'updated_at': '2025-07-13T12:47:59.312-07:00',\n",
       "   'user_id': 36956,\n",
       "   'location_id': 18895,\n",
       "   'machine_id': 1102,\n",
       "   'comment': None,\n",
       "   'user_name': 'raccoon',\n",
       "   'location_name': 'North Canton Masonic Temple',\n",
       "   'machine_name': 'Avatar (LE) (Stern, 2010)',\n",
       "   'high_score': None,\n",
       "   'city_name': 'North Canton',\n",
       "   'lat': 40.8838134,\n",
       "   'lon': -81.401947},\n",
       "  {'id': 518150,\n",
       "   'submission_type': 'confirm_location',\n",
       "   'submission': 'jcreamer64 confirmed the lineup at Flippers Arcade in Grandy',\n",
       "   'region_id': None,\n",
       "   'created_at': '2025-07-13T12:44:53.556-07:00',\n",
       "   'updated_at': '2025-07-13T12:44:53.556-07:00',\n",
       "   'user_id': 30104,\n",
       "   'location_id': 10119,\n",
       "   'machine_id': None,\n",
       "   'comment': None,\n",
       "   'user_name': 'jcreamer64',\n",
       "   'location_name': 'Flippers Arcade',\n",
       "   'machine_name': None,\n",
       "   'high_score': None,\n",
       "   'city_name': 'Grandy',\n",
       "   'lat': 36.2324714,\n",
       "   'lon': -75.8734905},\n",
       "  {'id': 518149,\n",
       "   'submission_type': 'new_condition',\n",
       "   'submission': \"jcreamer64 commented on The Getaway: High Speed II (Williams, 1992) at Flippers Arcade in Grandy. They said: Plays good except the DMD is glitching up badly. In Video Mode, you can't even see what you are doing.\",\n",
       "   'region_id': None,\n",
       "   'created_at': '2025-07-13T12:44:43.755-07:00',\n",
       "   'updated_at': '2025-07-13T12:44:43.755-07:00',\n",
       "   'user_id': 30104,\n",
       "   'location_id': 10119,\n",
       "   'machine_id': 660,\n",
       "   'comment': \"Plays good except the DMD is glitching up badly. In Video Mode, you can't even see what you are doing.\",\n",
       "   'user_name': 'jcreamer64',\n",
       "   'location_name': 'Flippers Arcade',\n",
       "   'machine_name': 'The Getaway: High Speed II (Williams, 1992)',\n",
       "   'high_score': None,\n",
       "   'city_name': 'Grandy',\n",
       "   'lat': 36.2324714,\n",
       "   'lon': -75.8734905},\n",
       "  {'id': 518143,\n",
       "   'submission_type': 'new_lmx',\n",
       "   'submission': 'Doodle Bug (Williams, 1971) was added to North Canton Masonic Temple in North Canton by raccoon',\n",
       "   'region_id': None,\n",
       "   'created_at': '2025-07-13T12:27:47.690-07:00',\n",
       "   'updated_at': '2025-07-13T12:27:47.690-07:00',\n",
       "   'user_id': 36956,\n",
       "   'location_id': 18895,\n",
       "   'machine_id': 2367,\n",
       "   'comment': None,\n",
       "   'user_name': 'raccoon',\n",
       "   'location_name': 'North Canton Masonic Temple',\n",
       "   'machine_name': 'Doodle Bug (Williams, 1971)',\n",
       "   'high_score': None,\n",
       "   'city_name': 'North Canton',\n",
       "   'lat': 40.8838134,\n",
       "   'lon': -81.401947},\n",
       "  {'id': 518141,\n",
       "   'submission_type': 'new_msx',\n",
       "   'submission': 'raccoon added a high score of 22,210 on Eight Ball (Bally, 1977) at North Canton Masonic Temple in North Canton',\n",
       "   'region_id': None,\n",
       "   'created_at': '2025-07-13T12:26:00.904-07:00',\n",
       "   'updated_at': '2025-07-13T12:26:00.904-07:00',\n",
       "   'user_id': 36956,\n",
       "   'location_id': 18895,\n",
       "   'machine_id': 900,\n",
       "   'comment': None,\n",
       "   'user_name': 'raccoon',\n",
       "   'location_name': 'North Canton Masonic Temple',\n",
       "   'machine_name': 'Eight Ball (Bally, 1977)',\n",
       "   'high_score': 22210,\n",
       "   'city_name': 'North Canton',\n",
       "   'lat': 40.8838134,\n",
       "   'lon': -81.401947},\n",
       "  {'id': 518135,\n",
       "   'submission_type': 'new_msx',\n",
       "   'submission': 'raccoon added a high score of 1,068,660 on Beatles (Gold) (Stern, 2018) at North Canton Masonic Temple in North Canton',\n",
       "   'region_id': None,\n",
       "   'created_at': '2025-07-13T12:03:19.546-07:00',\n",
       "   'updated_at': '2025-07-13T12:03:19.546-07:00',\n",
       "   'user_id': 36956,\n",
       "   'location_id': 18895,\n",
       "   'machine_id': 3086,\n",
       "   'comment': None,\n",
       "   'user_name': 'raccoon',\n",
       "   'location_name': 'North Canton Masonic Temple',\n",
       "   'machine_name': 'Beatles (Gold) (Stern, 2018)',\n",
       "   'high_score': 1068660,\n",
       "   'city_name': 'North Canton',\n",
       "   'lat': 40.8838134,\n",
       "   'lon': -81.401947},\n",
       "  {'id': 518134,\n",
       "   'submission_type': 'new_msx',\n",
       "   'submission': 'raccoon added a high score of 3,281,630 on Beatles (Gold) (Stern, 2018) at North Canton Masonic Temple in North Canton',\n",
       "   'region_id': None,\n",
       "   'created_at': '2025-07-13T11:57:17.225-07:00',\n",
       "   'updated_at': '2025-07-13T11:57:17.225-07:00',\n",
       "   'user_id': 36956,\n",
       "   'location_id': 18895,\n",
       "   'machine_id': 3086,\n",
       "   'comment': None,\n",
       "   'user_name': 'raccoon',\n",
       "   'location_name': 'North Canton Masonic Temple',\n",
       "   'machine_name': 'Beatles (Gold) (Stern, 2018)',\n",
       "   'high_score': 3281630,\n",
       "   'city_name': 'North Canton',\n",
       "   'lat': 40.8838134,\n",
       "   'lon': -81.401947},\n",
       "  {'id': 518133,\n",
       "   'submission_type': 'new_msx',\n",
       "   'submission': 'raccoon added a high score of 1,732,090 on Beatles (Gold) (Stern, 2018) at North Canton Masonic Temple in North Canton',\n",
       "   'region_id': None,\n",
       "   'created_at': '2025-07-13T11:52:08.030-07:00',\n",
       "   'updated_at': '2025-07-13T11:52:08.030-07:00',\n",
       "   'user_id': 36956,\n",
       "   'location_id': 18895,\n",
       "   'machine_id': 3086,\n",
       "   'comment': None,\n",
       "   'user_name': 'raccoon',\n",
       "   'location_name': 'North Canton Masonic Temple',\n",
       "   'machine_name': 'Beatles (Gold) (Stern, 2018)',\n",
       "   'high_score': 1732090,\n",
       "   'city_name': 'North Canton',\n",
       "   'lat': 40.8838134,\n",
       "   'lon': -81.401947},\n",
       "  {'id': 518132,\n",
       "   'submission_type': 'new_msx',\n",
       "   'submission': 'raccoon added a high score of 1,155,120 on Beatles (Gold) (Stern, 2018) at North Canton Masonic Temple in North Canton',\n",
       "   'region_id': None,\n",
       "   'created_at': '2025-07-13T11:48:29.970-07:00',\n",
       "   'updated_at': '2025-07-13T11:48:29.970-07:00',\n",
       "   'user_id': 36956,\n",
       "   'location_id': 18895,\n",
       "   'machine_id': 3086,\n",
       "   'comment': None,\n",
       "   'user_name': 'raccoon',\n",
       "   'location_name': 'North Canton Masonic Temple',\n",
       "   'machine_name': 'Beatles (Gold) (Stern, 2018)',\n",
       "   'high_score': 1155120,\n",
       "   'city_name': 'North Canton',\n",
       "   'lat': 40.8838134,\n",
       "   'lon': -81.401947},\n",
       "  {'id': 518131,\n",
       "   'submission_type': 'new_msx',\n",
       "   'submission': 'raccoon added a high score of 2,142,400 on Beatles (Gold) (Stern, 2018) at North Canton Masonic Temple in North Canton',\n",
       "   'region_id': None,\n",
       "   'created_at': '2025-07-13T11:28:21.868-07:00',\n",
       "   'updated_at': '2025-07-13T11:28:21.868-07:00',\n",
       "   'user_id': 36956,\n",
       "   'location_id': 18895,\n",
       "   'machine_id': 3086,\n",
       "   'comment': None,\n",
       "   'user_name': 'raccoon',\n",
       "   'location_name': 'North Canton Masonic Temple',\n",
       "   'machine_name': 'Beatles (Gold) (Stern, 2018)',\n",
       "   'high_score': 2142400,\n",
       "   'city_name': 'North Canton',\n",
       "   'lat': 40.8838134,\n",
       "   'lon': -81.401947},\n",
       "  {'id': 518129,\n",
       "   'submission_type': 'new_msx',\n",
       "   'submission': 'raccoon added a high score of 474,140 on Beatles (Gold) (Stern, 2018) at North Canton Masonic Temple in North Canton',\n",
       "   'region_id': None,\n",
       "   'created_at': '2025-07-13T11:24:47.543-07:00',\n",
       "   'updated_at': '2025-07-13T11:24:47.543-07:00',\n",
       "   'user_id': 36956,\n",
       "   'location_id': 18895,\n",
       "   'machine_id': 3086,\n",
       "   'comment': None,\n",
       "   'user_name': 'raccoon',\n",
       "   'location_name': 'North Canton Masonic Temple',\n",
       "   'machine_name': 'Beatles (Gold) (Stern, 2018)',\n",
       "   'high_score': 474140,\n",
       "   'city_name': 'North Canton',\n",
       "   'lat': 40.8838134,\n",
       "   'lon': -81.401947},\n",
       "  {'id': 518125,\n",
       "   'submission_type': 'new_msx',\n",
       "   'submission': 'raccoon added a high score of 1,362,800 on Beatles (Gold) (Stern, 2018) at North Canton Masonic Temple in North Canton',\n",
       "   'region_id': None,\n",
       "   'created_at': '2025-07-13T11:21:37.127-07:00',\n",
       "   'updated_at': '2025-07-13T11:21:37.127-07:00',\n",
       "   'user_id': 36956,\n",
       "   'location_id': 18895,\n",
       "   'machine_id': 3086,\n",
       "   'comment': None,\n",
       "   'user_name': 'raccoon',\n",
       "   'location_name': 'North Canton Masonic Temple',\n",
       "   'machine_name': 'Beatles (Gold) (Stern, 2018)',\n",
       "   'high_score': 1362800,\n",
       "   'city_name': 'North Canton',\n",
       "   'lat': 40.8838134,\n",
       "   'lon': -81.401947},\n",
       "  {'id': 518124,\n",
       "   'submission_type': 'new_msx',\n",
       "   'submission': 'raccoon added a high score of 1,791,020 on Beatles (Gold) (Stern, 2018) at North Canton Masonic Temple in North Canton',\n",
       "   'region_id': None,\n",
       "   'created_at': '2025-07-13T11:18:19.234-07:00',\n",
       "   'updated_at': '2025-07-13T11:18:19.234-07:00',\n",
       "   'user_id': 36956,\n",
       "   'location_id': 18895,\n",
       "   'machine_id': 3086,\n",
       "   'comment': None,\n",
       "   'user_name': 'raccoon',\n",
       "   'location_name': 'North Canton Masonic Temple',\n",
       "   'machine_name': 'Beatles (Gold) (Stern, 2018)',\n",
       "   'high_score': 1791020,\n",
       "   'city_name': 'North Canton',\n",
       "   'lat': 40.8838134,\n",
       "   'lon': -81.401947},\n",
       "  {'id': 518123,\n",
       "   'submission_type': 'new_msx',\n",
       "   'submission': 'raccoon added a high score of 2,638,950 on Beatles (Gold) (Stern, 2018) at North Canton Masonic Temple in North Canton',\n",
       "   'region_id': None,\n",
       "   'created_at': '2025-07-13T11:14:48.440-07:00',\n",
       "   'updated_at': '2025-07-13T11:14:48.440-07:00',\n",
       "   'user_id': 36956,\n",
       "   'location_id': 18895,\n",
       "   'machine_id': 3086,\n",
       "   'comment': None,\n",
       "   'user_name': 'raccoon',\n",
       "   'location_name': 'North Canton Masonic Temple',\n",
       "   'machine_name': 'Beatles (Gold) (Stern, 2018)',\n",
       "   'high_score': 2638950,\n",
       "   'city_name': 'North Canton',\n",
       "   'lat': 40.8838134,\n",
       "   'lon': -81.401947},\n",
       "  {'id': 518118,\n",
       "   'submission_type': 'new_lmx',\n",
       "   'submission': \"Stranger Things (Pro) (Stern, 2019) was added to Captain Crazy's Paradise in Foley by ImotoArcade\",\n",
       "   'region_id': None,\n",
       "   'created_at': '2025-07-13T10:59:02.167-07:00',\n",
       "   'updated_at': '2025-07-13T10:59:02.167-07:00',\n",
       "   'user_id': 165,\n",
       "   'location_id': 21212,\n",
       "   'machine_id': 3226,\n",
       "   'comment': None,\n",
       "   'user_name': 'ImotoArcade',\n",
       "   'location_name': \"Captain Crazy's Paradise\",\n",
       "   'machine_name': 'Stranger Things (Pro) (Stern, 2019)',\n",
       "   'high_score': None,\n",
       "   'city_name': 'Foley',\n",
       "   'lat': 30.3836036,\n",
       "   'lon': -87.6824346},\n",
       "  {'id': 518117,\n",
       "   'submission_type': 'remove_machine',\n",
       "   'submission': \"Foo Fighters (Premium) (Stern, 2023) was removed from Captain Crazy's Paradise in Foley by ImotoArcade\",\n",
       "   'region_id': None,\n",
       "   'created_at': '2025-07-13T10:58:49.118-07:00',\n",
       "   'updated_at': '2025-07-13T10:58:49.118-07:00',\n",
       "   'user_id': 165,\n",
       "   'location_id': 21212,\n",
       "   'machine_id': 3674,\n",
       "   'comment': None,\n",
       "   'user_name': 'ImotoArcade',\n",
       "   'location_name': \"Captain Crazy's Paradise\",\n",
       "   'machine_name': 'Foo Fighters (Premium) (Stern, 2023)',\n",
       "   'high_score': None,\n",
       "   'city_name': 'Foley',\n",
       "   'lat': 30.3836036,\n",
       "   'lon': -87.6824346},\n",
       "  {'id': 518116,\n",
       "   'submission_type': 'new_lmx',\n",
       "   'submission': \"Deadpool (Premium) (Stern, 2018) was added to Captain Crazy's Paradise in Foley by ImotoArcade\",\n",
       "   'region_id': None,\n",
       "   'created_at': '2025-07-13T10:58:41.884-07:00',\n",
       "   'updated_at': '2025-07-13T10:58:41.884-07:00',\n",
       "   'user_id': 165,\n",
       "   'location_id': 21212,\n",
       "   'machine_id': 3023,\n",
       "   'comment': None,\n",
       "   'user_name': 'ImotoArcade',\n",
       "   'location_name': \"Captain Crazy's Paradise\",\n",
       "   'machine_name': 'Deadpool (Premium) (Stern, 2018)',\n",
       "   'high_score': None,\n",
       "   'city_name': 'Foley',\n",
       "   'lat': 30.3836036,\n",
       "   'lon': -87.6824346},\n",
       "  {'id': 518105,\n",
       "   'submission_type': 'remove_machine',\n",
       "   'submission': \"Aerosmith (Pro) (Stern, 2017) was removed from Pirogue's Whiskey Bayou in Arabi by wmdrums\",\n",
       "   'region_id': None,\n",
       "   'created_at': '2025-07-13T10:44:47.690-07:00',\n",
       "   'updated_at': '2025-07-13T10:44:47.690-07:00',\n",
       "   'user_id': 40550,\n",
       "   'location_id': 24259,\n",
       "   'machine_id': 2771,\n",
       "   'comment': None,\n",
       "   'user_name': 'wmdrums',\n",
       "   'location_name': \"Pirogue's Whiskey Bayou\",\n",
       "   'machine_name': 'Aerosmith (Pro) (Stern, 2017)',\n",
       "   'high_score': None,\n",
       "   'city_name': 'Arabi',\n",
       "   'lat': 29.9564481,\n",
       "   'lon': -90.0026645},\n",
       "  {'id': 518102,\n",
       "   'submission_type': 'new_lmx',\n",
       "   'submission': 'Guardians of the Galaxy (Pro) (Stern, 2017) was added to Empire Alternacade & Events Cairns in Cairns City by adrian',\n",
       "   'region_id': None,\n",
       "   'created_at': '2025-07-13T10:29:05.885-07:00',\n",
       "   'updated_at': '2025-07-13T10:29:05.885-07:00',\n",
       "   'user_id': 33557,\n",
       "   'location_id': 16119,\n",
       "   'machine_id': 2875,\n",
       "   'comment': None,\n",
       "   'user_name': 'adrian',\n",
       "   'location_name': 'Empire Alternacade & Events Cairns',\n",
       "   'machine_name': 'Guardians of the Galaxy (Pro) (Stern, 2017)',\n",
       "   'high_score': None,\n",
       "   'city_name': 'Cairns City',\n",
       "   'lat': -16.9227921,\n",
       "   'lon': 145.7734722},\n",
       "  {'id': 518101,\n",
       "   'submission_type': 'remove_machine',\n",
       "   'submission': 'Ghostbusters (Premium) (Stern, 2016) was removed from Empire Alternacade & Events Cairns in Cairns City by adrian',\n",
       "   'region_id': None,\n",
       "   'created_at': '2025-07-13T10:27:59.573-07:00',\n",
       "   'updated_at': '2025-07-13T10:27:59.573-07:00',\n",
       "   'user_id': 33557,\n",
       "   'location_id': 16119,\n",
       "   'machine_id': 2570,\n",
       "   'comment': None,\n",
       "   'user_name': 'adrian',\n",
       "   'location_name': 'Empire Alternacade & Events Cairns',\n",
       "   'machine_name': 'Ghostbusters (Premium) (Stern, 2016)',\n",
       "   'high_score': None,\n",
       "   'city_name': 'Cairns City',\n",
       "   'lat': -16.9227921,\n",
       "   'lon': 145.7734722},\n",
       "  {'id': 518092,\n",
       "   'submission_type': 'new_condition',\n",
       "   'submission': 'jcreamer64 commented on Big Bang Bar (Capcom, 1996) at Flippers Arcade in Grandy. They said: Yes this rare masterpiece is actually here and it plays great! :D',\n",
       "   'region_id': None,\n",
       "   'created_at': '2025-07-13T09:57:16.723-07:00',\n",
       "   'updated_at': '2025-07-13T09:57:16.723-07:00',\n",
       "   'user_id': 30104,\n",
       "   'location_id': 10119,\n",
       "   'machine_id': 1450,\n",
       "   'comment': 'Yes this rare masterpiece is actually here and it plays great! :D',\n",
       "   'user_name': 'jcreamer64',\n",
       "   'location_name': 'Flippers Arcade',\n",
       "   'machine_name': 'Big Bang Bar (Capcom, 1996)',\n",
       "   'high_score': None,\n",
       "   'city_name': 'Grandy',\n",
       "   'lat': 36.2324714,\n",
       "   'lon': -75.8734905},\n",
       "  {'id': 518091,\n",
       "   'submission_type': 'new_lmx',\n",
       "   'submission': 'Big Bang Bar (Capcom, 1996) was added to Flippers Arcade in Grandy by jcreamer64',\n",
       "   'region_id': None,\n",
       "   'created_at': '2025-07-13T09:56:33.513-07:00',\n",
       "   'updated_at': '2025-07-13T09:56:33.513-07:00',\n",
       "   'user_id': 30104,\n",
       "   'location_id': 10119,\n",
       "   'machine_id': 1450,\n",
       "   'comment': None,\n",
       "   'user_name': 'jcreamer64',\n",
       "   'location_name': 'Flippers Arcade',\n",
       "   'machine_name': 'Big Bang Bar (Capcom, 1996)',\n",
       "   'high_score': None,\n",
       "   'city_name': 'Grandy',\n",
       "   'lat': 36.2324714,\n",
       "   'lon': -75.8734905},\n",
       "  {'id': 518090,\n",
       "   'submission_type': 'new_lmx',\n",
       "   'submission': \"Guns N' Roses (LE) (Jersey Jack, 2020) was added to Flippers Arcade in Grandy by jcreamer64\",\n",
       "   'region_id': None,\n",
       "   'created_at': '2025-07-13T09:53:31.548-07:00',\n",
       "   'updated_at': '2025-07-13T09:53:31.548-07:00',\n",
       "   'user_id': 30104,\n",
       "   'location_id': 10119,\n",
       "   'machine_id': 3271,\n",
       "   'comment': None,\n",
       "   'user_name': 'jcreamer64',\n",
       "   'location_name': 'Flippers Arcade',\n",
       "   'machine_name': \"Guns N' Roses (LE) (Jersey Jack, 2020)\",\n",
       "   'high_score': None,\n",
       "   'city_name': 'Grandy',\n",
       "   'lat': 36.2324714,\n",
       "   'lon': -75.8734905},\n",
       "  {'id': 518089,\n",
       "   'submission_type': 'new_lmx',\n",
       "   'submission': 'The Getaway: High Speed II (Williams, 1992) was added to Flippers Arcade in Grandy by jcreamer64',\n",
       "   'region_id': None,\n",
       "   'created_at': '2025-07-13T09:53:20.155-07:00',\n",
       "   'updated_at': '2025-07-13T09:53:20.155-07:00',\n",
       "   'user_id': 30104,\n",
       "   'location_id': 10119,\n",
       "   'machine_id': 660,\n",
       "   'comment': None,\n",
       "   'user_name': 'jcreamer64',\n",
       "   'location_name': 'Flippers Arcade',\n",
       "   'machine_name': 'The Getaway: High Speed II (Williams, 1992)',\n",
       "   'high_score': None,\n",
       "   'city_name': 'Grandy',\n",
       "   'lat': 36.2324714,\n",
       "   'lon': -75.8734905},\n",
       "  {'id': 518088,\n",
       "   'submission_type': 'new_lmx',\n",
       "   'submission': 'The Big Lebowski (Dutch, 2016) was added to Flippers Arcade in Grandy by jcreamer64',\n",
       "   'region_id': None,\n",
       "   'created_at': '2025-07-13T09:53:13.445-07:00',\n",
       "   'updated_at': '2025-07-13T09:53:13.445-07:00',\n",
       "   'user_id': 30104,\n",
       "   'location_id': 10119,\n",
       "   'machine_id': 2748,\n",
       "   'comment': None,\n",
       "   'user_name': 'jcreamer64',\n",
       "   'location_name': 'Flippers Arcade',\n",
       "   'machine_name': 'The Big Lebowski (Dutch, 2016)',\n",
       "   'high_score': None,\n",
       "   'city_name': 'Grandy',\n",
       "   'lat': 36.2324714,\n",
       "   'lon': -75.8734905},\n",
       "  {'id': 518087,\n",
       "   'submission_type': 'new_lmx',\n",
       "   'submission': 'Family Guy (Stern, 2006) was added to Flippers Arcade in Grandy by jcreamer64',\n",
       "   'region_id': None,\n",
       "   'created_at': '2025-07-13T09:53:05.992-07:00',\n",
       "   'updated_at': '2025-07-13T09:53:05.992-07:00',\n",
       "   'user_id': 30104,\n",
       "   'location_id': 10119,\n",
       "   'machine_id': 664,\n",
       "   'comment': None,\n",
       "   'user_name': 'jcreamer64',\n",
       "   'location_name': 'Flippers Arcade',\n",
       "   'machine_name': 'Family Guy (Stern, 2006)',\n",
       "   'high_score': None,\n",
       "   'city_name': 'Grandy',\n",
       "   'lat': 36.2324714,\n",
       "   'lon': -75.8734905},\n",
       "  {'id': 518086,\n",
       "   'submission_type': 'confirm_location',\n",
       "   'submission': 'jcreamer64 confirmed the lineup at Flippers Arcade in Grandy',\n",
       "   'region_id': None,\n",
       "   'created_at': '2025-07-13T09:52:59.954-07:00',\n",
       "   'updated_at': '2025-07-13T09:52:59.954-07:00',\n",
       "   'user_id': 30104,\n",
       "   'location_id': 10119,\n",
       "   'machine_id': None,\n",
       "   'comment': None,\n",
       "   'user_name': 'jcreamer64',\n",
       "   'location_name': 'Flippers Arcade',\n",
       "   'machine_name': None,\n",
       "   'high_score': None,\n",
       "   'city_name': 'Grandy',\n",
       "   'lat': 36.2324714,\n",
       "   'lon': -75.8734905},\n",
       "  {'id': 518085,\n",
       "   'submission_type': 'remove_machine',\n",
       "   'submission': 'Cactus Canyon (Bally, 1998) was removed from Flippers Arcade in Grandy by jcreamer64',\n",
       "   'region_id': None,\n",
       "   'created_at': '2025-07-13T09:51:24.614-07:00',\n",
       "   'updated_at': '2025-07-13T09:51:24.614-07:00',\n",
       "   'user_id': 30104,\n",
       "   'location_id': 10119,\n",
       "   'machine_id': 714,\n",
       "   'comment': None,\n",
       "   'user_name': 'jcreamer64',\n",
       "   'location_name': 'Flippers Arcade',\n",
       "   'machine_name': 'Cactus Canyon (Bally, 1998)',\n",
       "   'high_score': None,\n",
       "   'city_name': 'Grandy',\n",
       "   'lat': 36.2324714,\n",
       "   'lon': -75.8734905},\n",
       "  {'id': 518084,\n",
       "   'submission_type': 'remove_machine',\n",
       "   'submission': 'Attack From Mars (Bally, 1995) was removed from Flippers Arcade in Grandy by jcreamer64',\n",
       "   'region_id': None,\n",
       "   'created_at': '2025-07-13T09:51:18.364-07:00',\n",
       "   'updated_at': '2025-07-13T09:51:18.364-07:00',\n",
       "   'user_id': 30104,\n",
       "   'location_id': 10119,\n",
       "   'machine_id': 643,\n",
       "   'comment': None,\n",
       "   'user_name': 'jcreamer64',\n",
       "   'location_name': 'Flippers Arcade',\n",
       "   'machine_name': 'Attack From Mars (Bally, 1995)',\n",
       "   'high_score': None,\n",
       "   'city_name': 'Grandy',\n",
       "   'lat': 36.2324714,\n",
       "   'lon': -75.8734905},\n",
       "  {'id': 518083,\n",
       "   'submission_type': 'new_lmx',\n",
       "   'submission': 'Mata Hari (SS) (Bally, 1978) was added to Pincity Pinball Addicts in Lonsdale by thextinct',\n",
       "   'region_id': None,\n",
       "   'created_at': '2025-07-13T09:49:33.351-07:00',\n",
       "   'updated_at': '2025-07-13T09:49:33.351-07:00',\n",
       "   'user_id': 39391,\n",
       "   'location_id': 26712,\n",
       "   'machine_id': 734,\n",
       "   'comment': None,\n",
       "   'user_name': 'thextinct',\n",
       "   'location_name': 'Pincity Pinball Addicts',\n",
       "   'machine_name': 'Mata Hari (SS) (Bally, 1978)',\n",
       "   'high_score': None,\n",
       "   'city_name': 'Lonsdale',\n",
       "   'lat': -35.1102508,\n",
       "   'lon': 138.4988379},\n",
       "  {'id': 518082,\n",
       "   'submission_type': 'remove_machine',\n",
       "   'submission': 'Mata Hari (EM) (Bally, 1977) was removed from Pincity Pinball Addicts in Lonsdale by thextinct',\n",
       "   'region_id': None,\n",
       "   'created_at': '2025-07-13T09:49:24.358-07:00',\n",
       "   'updated_at': '2025-07-13T09:49:24.358-07:00',\n",
       "   'user_id': 39391,\n",
       "   'location_id': 26712,\n",
       "   'machine_id': 2994,\n",
       "   'comment': None,\n",
       "   'user_name': 'thextinct',\n",
       "   'location_name': 'Pincity Pinball Addicts',\n",
       "   'machine_name': 'Mata Hari (EM) (Bally, 1977)',\n",
       "   'high_score': None,\n",
       "   'city_name': 'Lonsdale',\n",
       "   'lat': -35.1102508,\n",
       "   'lon': 138.4988379},\n",
       "  {'id': 518073,\n",
       "   'submission_type': 'new_condition',\n",
       "   'submission': 'theMycron commented on Led Zeppelin (Pro) (Stern, 2020) at Starcade Juffair in Manama. They said: Left flipper is sticky, sometimes stays flipped after releasing it. Flipping the right flipper seems to unflip it whenever that happens',\n",
       "   'region_id': None,\n",
       "   'created_at': '2025-07-13T08:32:30.805-07:00',\n",
       "   'updated_at': '2025-07-13T08:32:30.805-07:00',\n",
       "   'user_id': 40546,\n",
       "   'location_id': 21227,\n",
       "   'machine_id': 3279,\n",
       "   'comment': 'Left flipper is sticky, sometimes stays flipped after releasing it. Flipping the right flipper seems to unflip it whenever that happens',\n",
       "   'user_name': 'theMycron',\n",
       "   'location_name': 'Starcade Juffair',\n",
       "   'machine_name': 'Led Zeppelin (Pro) (Stern, 2020)',\n",
       "   'high_score': None,\n",
       "   'city_name': 'Manama',\n",
       "   'lat': 26.2235305,\n",
       "   'lon': 50.5875935},\n",
       "  {'id': 518071,\n",
       "   'submission_type': 'confirm_location',\n",
       "   'submission': 'theMycron confirmed the lineup at Starcade Juffair in Manama',\n",
       "   'region_id': None,\n",
       "   'created_at': '2025-07-13T08:30:54.430-07:00',\n",
       "   'updated_at': '2025-07-13T08:30:54.430-07:00',\n",
       "   'user_id': 40546,\n",
       "   'location_id': 21227,\n",
       "   'machine_id': None,\n",
       "   'comment': None,\n",
       "   'user_name': 'theMycron',\n",
       "   'location_name': 'Starcade Juffair',\n",
       "   'machine_name': None,\n",
       "   'high_score': None,\n",
       "   'city_name': 'Manama',\n",
       "   'lat': 26.2235305,\n",
       "   'lon': 50.5875935},\n",
       "  {'id': 518059,\n",
       "   'submission_type': 'new_condition',\n",
       "   'submission': 'ncfish commented on Harry Potter (Wizard Edition) (Jersey Jack, 2025) at Boxcar Bar + Arcade in Greensboro. They said: 🏳️\\u200d⚧️ Trans rights are human rights 🏳️\\u200d⚧️',\n",
       "   'region_id': None,\n",
       "   'created_at': '2025-07-13T06:46:42.079-07:00',\n",
       "   'updated_at': '2025-07-13T06:46:42.079-07:00',\n",
       "   'user_id': 27048,\n",
       "   'location_id': 12465,\n",
       "   'machine_id': 4538,\n",
       "   'comment': '🏳️\\u200d⚧️ Trans rights are human rights 🏳️\\u200d⚧️',\n",
       "   'user_name': 'ncfish',\n",
       "   'location_name': 'Boxcar Bar + Arcade',\n",
       "   'machine_name': 'Harry Potter (Wizard Edition) (Jersey Jack, 2025)',\n",
       "   'high_score': None,\n",
       "   'city_name': 'Greensboro',\n",
       "   'lat': 36.066451,\n",
       "   'lon': -79.7915554},\n",
       "  {'id': 518058,\n",
       "   'submission_type': 'new_lmx',\n",
       "   'submission': 'Harry Potter (Wizard Edition) (Jersey Jack, 2025) was added to Boxcar Bar + Arcade in Greensboro by ncfish',\n",
       "   'region_id': None,\n",
       "   'created_at': '2025-07-13T06:46:42.011-07:00',\n",
       "   'updated_at': '2025-07-13T06:46:42.011-07:00',\n",
       "   'user_id': 27048,\n",
       "   'location_id': 12465,\n",
       "   'machine_id': 4538,\n",
       "   'comment': None,\n",
       "   'user_name': 'ncfish',\n",
       "   'location_name': 'Boxcar Bar + Arcade',\n",
       "   'machine_name': 'Harry Potter (Wizard Edition) (Jersey Jack, 2025)',\n",
       "   'high_score': None,\n",
       "   'city_name': 'Greensboro',\n",
       "   'lat': 36.066451,\n",
       "   'lon': -79.7915554},\n",
       "  {'id': 518057,\n",
       "   'submission_type': 'remove_machine',\n",
       "   'submission': 'Metallica Remastered (LE) (Stern, 2024) was removed from Boxcar Bar + Arcade in Greensboro by ncfish',\n",
       "   'region_id': None,\n",
       "   'created_at': '2025-07-13T06:45:48.643-07:00',\n",
       "   'updated_at': '2025-07-13T06:45:48.643-07:00',\n",
       "   'user_id': 27048,\n",
       "   'location_id': 12465,\n",
       "   'machine_id': 4513,\n",
       "   'comment': None,\n",
       "   'user_name': 'ncfish',\n",
       "   'location_name': 'Boxcar Bar + Arcade',\n",
       "   'machine_name': 'Metallica Remastered (LE) (Stern, 2024)',\n",
       "   'high_score': None,\n",
       "   'city_name': 'Greensboro',\n",
       "   'lat': 36.066451,\n",
       "   'lon': -79.7915554},\n",
       "  {'id': 518036,\n",
       "   'submission_type': 'new_lmx',\n",
       "   'submission': 'Cirqus Voltaire (Bally, 1997) was added to Umeå Pincade in Umeå by beekey',\n",
       "   'region_id': None,\n",
       "   'created_at': '2025-07-12T23:31:54.795-07:00',\n",
       "   'updated_at': '2025-07-12T23:31:54.795-07:00',\n",
       "   'user_id': 8444,\n",
       "   'location_id': 12693,\n",
       "   'machine_id': 736,\n",
       "   'comment': None,\n",
       "   'user_name': 'beekey',\n",
       "   'location_name': 'Umeå Pincade',\n",
       "   'machine_name': 'Cirqus Voltaire (Bally, 1997)',\n",
       "   'high_score': None,\n",
       "   'city_name': 'Umeå',\n",
       "   'lat': 63.8223751,\n",
       "   'lon': 20.2842705},\n",
       "  {'id': 518035,\n",
       "   'submission_type': 'new_lmx',\n",
       "   'submission': 'World Cup Soccer (Bally, 1994) was added to Umeå Pincade in Umeå by beekey',\n",
       "   'region_id': None,\n",
       "   'created_at': '2025-07-12T23:31:21.403-07:00',\n",
       "   'updated_at': '2025-07-12T23:31:21.403-07:00',\n",
       "   'user_id': 8444,\n",
       "   'location_id': 12693,\n",
       "   'machine_id': 707,\n",
       "   'comment': None,\n",
       "   'user_name': 'beekey',\n",
       "   'location_name': 'Umeå Pincade',\n",
       "   'machine_name': 'World Cup Soccer (Bally, 1994)',\n",
       "   'high_score': None,\n",
       "   'city_name': 'Umeå',\n",
       "   'lat': 63.8223751,\n",
       "   'lon': 20.2842705},\n",
       "  {'id': 518034,\n",
       "   'submission_type': 'new_lmx',\n",
       "   'submission': 'James Bond 007 (Premium) (Stern, 2022) was added to Umeå Pincade in Umeå by beekey',\n",
       "   'region_id': None,\n",
       "   'created_at': '2025-07-12T23:30:35.210-07:00',\n",
       "   'updated_at': '2025-07-12T23:30:35.210-07:00',\n",
       "   'user_id': 8444,\n",
       "   'location_id': 12693,\n",
       "   'machine_id': 3641,\n",
       "   'comment': None,\n",
       "   'user_name': 'beekey',\n",
       "   'location_name': 'Umeå Pincade',\n",
       "   'machine_name': 'James Bond 007 (Premium) (Stern, 2022)',\n",
       "   'high_score': None,\n",
       "   'city_name': 'Umeå',\n",
       "   'lat': 63.8223751,\n",
       "   'lon': 20.2842705},\n",
       "  {'id': 518033,\n",
       "   'submission_type': 'new_lmx',\n",
       "   'submission': 'JAWS (Pro) (Stern, 2024) was added to Umeå Pincade in Umeå by beekey',\n",
       "   'region_id': None,\n",
       "   'created_at': '2025-07-12T23:30:13.974-07:00',\n",
       "   'updated_at': '2025-07-12T23:30:13.974-07:00',\n",
       "   'user_id': 8444,\n",
       "   'location_id': 12693,\n",
       "   'machine_id': 3799,\n",
       "   'comment': None,\n",
       "   'user_name': 'beekey',\n",
       "   'location_name': 'Umeå Pincade',\n",
       "   'machine_name': 'JAWS (Pro) (Stern, 2024)',\n",
       "   'high_score': None,\n",
       "   'city_name': 'Umeå',\n",
       "   'lat': 63.8223751,\n",
       "   'lon': 20.2842705},\n",
       "  {'id': 518032,\n",
       "   'submission_type': 'new_lmx',\n",
       "   'submission': '24 (Stern, 2009) was added to Umeå Pincade in Umeå by beekey',\n",
       "   'region_id': None,\n",
       "   'created_at': '2025-07-12T23:29:56.692-07:00',\n",
       "   'updated_at': '2025-07-12T23:29:56.692-07:00',\n",
       "   'user_id': 8444,\n",
       "   'location_id': 12693,\n",
       "   'machine_id': 733,\n",
       "   'comment': None,\n",
       "   'user_name': 'beekey',\n",
       "   'location_name': 'Umeå Pincade',\n",
       "   'machine_name': '24 (Stern, 2009)',\n",
       "   'high_score': None,\n",
       "   'city_name': 'Umeå',\n",
       "   'lat': 63.8223751,\n",
       "   'lon': 20.2842705},\n",
       "  {'id': 518031,\n",
       "   'submission_type': 'new_lmx',\n",
       "   'submission': \"Red & Ted's Road Show (Williams, 1994) was added to Umeå Pincade in Umeå by beekey\",\n",
       "   'region_id': None,\n",
       "   'created_at': '2025-07-12T23:29:46.890-07:00',\n",
       "   'updated_at': '2025-07-12T23:29:46.890-07:00',\n",
       "   'user_id': 8444,\n",
       "   'location_id': 12693,\n",
       "   'machine_id': 680,\n",
       "   'comment': None,\n",
       "   'user_name': 'beekey',\n",
       "   'location_name': 'Umeå Pincade',\n",
       "   'machine_name': \"Red & Ted's Road Show (Williams, 1994)\",\n",
       "   'high_score': None,\n",
       "   'city_name': 'Umeå',\n",
       "   'lat': 63.8223751,\n",
       "   'lon': 20.2842705},\n",
       "  {'id': 518030,\n",
       "   'submission_type': 'new_lmx',\n",
       "   'submission': \"Mousin' Around! (Bally, 1989) was added to Umeå Pincade in Umeå by beekey\",\n",
       "   'region_id': None,\n",
       "   'created_at': '2025-07-12T23:29:31.019-07:00',\n",
       "   'updated_at': '2025-07-12T23:29:31.019-07:00',\n",
       "   'user_id': 8444,\n",
       "   'location_id': 12693,\n",
       "   'machine_id': 744,\n",
       "   'comment': None,\n",
       "   'user_name': 'beekey',\n",
       "   'location_name': 'Umeå Pincade',\n",
       "   'machine_name': \"Mousin' Around! (Bally, 1989)\",\n",
       "   'high_score': None,\n",
       "   'city_name': 'Umeå',\n",
       "   'lat': 63.8223751,\n",
       "   'lon': 20.2842705},\n",
       "  {'id': 518029,\n",
       "   'submission_type': 'new_lmx',\n",
       "   'submission': 'Congo (Williams, 1995) was added to Umeå Pincade in Umeå by beekey',\n",
       "   'region_id': None,\n",
       "   'created_at': '2025-07-12T23:29:21.167-07:00',\n",
       "   'updated_at': '2025-07-12T23:29:21.167-07:00',\n",
       "   'user_id': 8444,\n",
       "   'location_id': 12693,\n",
       "   'machine_id': 715,\n",
       "   'comment': None,\n",
       "   'user_name': 'beekey',\n",
       "   'location_name': 'Umeå Pincade',\n",
       "   'machine_name': 'Congo (Williams, 1995)',\n",
       "   'high_score': None,\n",
       "   'city_name': 'Umeå',\n",
       "   'lat': 63.8223751,\n",
       "   'lon': 20.2842705},\n",
       "  {'id': 518028,\n",
       "   'submission_type': 'new_lmx',\n",
       "   'submission': 'Austin Powers (Stern, 2001) was added to Umeå Pincade in Umeå by beekey',\n",
       "   'region_id': None,\n",
       "   'created_at': '2025-07-12T23:29:12.232-07:00',\n",
       "   'updated_at': '2025-07-12T23:29:12.232-07:00',\n",
       "   'user_id': 8444,\n",
       "   'location_id': 12693,\n",
       "   'machine_id': 711,\n",
       "   'comment': None,\n",
       "   'user_name': 'beekey',\n",
       "   'location_name': 'Umeå Pincade',\n",
       "   'machine_name': 'Austin Powers (Stern, 2001)',\n",
       "   'high_score': None,\n",
       "   'city_name': 'Umeå',\n",
       "   'lat': 63.8223751,\n",
       "   'lon': 20.2842705},\n",
       "  {'id': 518027,\n",
       "   'submission_type': 'remove_machine',\n",
       "   'submission': 'Theatre of Magic (Bally, 1995) was removed from Umeå Pincade in Umeå by beekey',\n",
       "   'region_id': None,\n",
       "   'created_at': '2025-07-12T23:28:38.177-07:00',\n",
       "   'updated_at': '2025-07-12T23:28:38.177-07:00',\n",
       "   'user_id': 8444,\n",
       "   'location_id': 12693,\n",
       "   'machine_id': 688,\n",
       "   'comment': None,\n",
       "   'user_name': 'beekey',\n",
       "   'location_name': 'Umeå Pincade',\n",
       "   'machine_name': 'Theatre of Magic (Bally, 1995)',\n",
       "   'high_score': None,\n",
       "   'city_name': 'Umeå',\n",
       "   'lat': 63.8223751,\n",
       "   'lon': 20.2842705},\n",
       "  {'id': 518026,\n",
       "   'submission_type': 'remove_machine',\n",
       "   'submission': 'Terminator 3: Rise of the Machines (Stern, 2003) was removed from Umeå Pincade in Umeå by beekey',\n",
       "   'region_id': None,\n",
       "   'created_at': '2025-07-12T23:28:34.061-07:00',\n",
       "   'updated_at': '2025-07-12T23:28:34.061-07:00',\n",
       "   'user_id': 8444,\n",
       "   'location_id': 12693,\n",
       "   'machine_id': 667,\n",
       "   'comment': None,\n",
       "   'user_name': 'beekey',\n",
       "   'location_name': 'Umeå Pincade',\n",
       "   'machine_name': 'Terminator 3: Rise of the Machines (Stern, 2003)',\n",
       "   'high_score': None,\n",
       "   'city_name': 'Umeå',\n",
       "   'lat': 63.8223751,\n",
       "   'lon': 20.2842705},\n",
       "  {'id': 518025,\n",
       "   'submission_type': 'remove_machine',\n",
       "   'submission': 'Terminator 2: Judgment Day (Williams, 1991) was removed from Umeå Pincade in Umeå by beekey',\n",
       "   'region_id': None,\n",
       "   'created_at': '2025-07-12T23:28:30.572-07:00',\n",
       "   'updated_at': '2025-07-12T23:28:30.572-07:00',\n",
       "   'user_id': 8444,\n",
       "   'location_id': 12693,\n",
       "   'machine_id': 686,\n",
       "   'comment': None,\n",
       "   'user_name': 'beekey',\n",
       "   'location_name': 'Umeå Pincade',\n",
       "   'machine_name': 'Terminator 2: Judgment Day (Williams, 1991)',\n",
       "   'high_score': None,\n",
       "   'city_name': 'Umeå',\n",
       "   'lat': 63.8223751,\n",
       "   'lon': 20.2842705},\n",
       "  {'id': 518024,\n",
       "   'submission_type': 'remove_machine',\n",
       "   'submission': 'Star Wars (Data East, 1992) was removed from Umeå Pincade in Umeå by beekey',\n",
       "   'region_id': None,\n",
       "   'created_at': '2025-07-12T23:28:23.838-07:00',\n",
       "   'updated_at': '2025-07-12T23:28:23.838-07:00',\n",
       "   'user_id': 8444,\n",
       "   'location_id': 12693,\n",
       "   'machine_id': 694,\n",
       "   'comment': None,\n",
       "   'user_name': 'beekey',\n",
       "   'location_name': 'Umeå Pincade',\n",
       "   'machine_name': 'Star Wars (Data East, 1992)',\n",
       "   'high_score': None,\n",
       "   'city_name': 'Umeå',\n",
       "   'lat': 63.8223751,\n",
       "   'lon': 20.2842705},\n",
       "  {'id': 518023,\n",
       "   'submission_type': 'remove_machine',\n",
       "   'submission': 'Scared Stiff (Bally, 1996) was removed from Umeå Pincade in Umeå by beekey',\n",
       "   'region_id': None,\n",
       "   'created_at': '2025-07-12T23:28:16.221-07:00',\n",
       "   'updated_at': '2025-07-12T23:28:16.221-07:00',\n",
       "   'user_id': 8444,\n",
       "   'location_id': 12693,\n",
       "   'machine_id': 648,\n",
       "   'comment': None,\n",
       "   'user_name': 'beekey',\n",
       "   'location_name': 'Umeå Pincade',\n",
       "   'machine_name': 'Scared Stiff (Bally, 1996)',\n",
       "   'high_score': None,\n",
       "   'city_name': 'Umeå',\n",
       "   'lat': 63.8223751,\n",
       "   'lon': 20.2842705},\n",
       "  {'id': 518022,\n",
       "   'submission_type': 'remove_machine',\n",
       "   'submission': \"Ripley's Believe It or Not! (Stern, 2003) was removed from Umeå Pincade in Umeå by beekey\",\n",
       "   'region_id': None,\n",
       "   'created_at': '2025-07-12T23:28:12.447-07:00',\n",
       "   'updated_at': '2025-07-12T23:28:12.447-07:00',\n",
       "   'user_id': 8444,\n",
       "   'location_id': 12693,\n",
       "   'machine_id': 692,\n",
       "   'comment': None,\n",
       "   'user_name': 'beekey',\n",
       "   'location_name': 'Umeå Pincade',\n",
       "   'machine_name': \"Ripley's Believe It or Not! (Stern, 2003)\",\n",
       "   'high_score': None,\n",
       "   'city_name': 'Umeå',\n",
       "   'lat': 63.8223751,\n",
       "   'lon': 20.2842705},\n",
       "  {'id': 518021,\n",
       "   'submission_type': 'remove_machine',\n",
       "   'submission': 'Oktoberfest (American, 2018) was removed from Umeå Pincade in Umeå by beekey',\n",
       "   'region_id': None,\n",
       "   'created_at': '2025-07-12T23:28:08.653-07:00',\n",
       "   'updated_at': '2025-07-12T23:28:08.653-07:00',\n",
       "   'user_id': 8444,\n",
       "   'location_id': 12693,\n",
       "   'machine_id': 3079,\n",
       "   'comment': None,\n",
       "   'user_name': 'beekey',\n",
       "   'location_name': 'Umeå Pincade',\n",
       "   'machine_name': 'Oktoberfest (American, 2018)',\n",
       "   'high_score': None,\n",
       "   'city_name': 'Umeå',\n",
       "   'lat': 63.8223751,\n",
       "   'lon': 20.2842705},\n",
       "  {'id': 518020,\n",
       "   'submission_type': 'remove_machine',\n",
       "   'submission': 'The Machine: Bride of Pin-Bot 2.0 (Dutch, 2014) was removed from Umeå Pincade in Umeå by beekey',\n",
       "   'region_id': None,\n",
       "   'created_at': '2025-07-12T23:28:02.410-07:00',\n",
       "   'updated_at': '2025-07-12T23:28:02.410-07:00',\n",
       "   'user_id': 8444,\n",
       "   'location_id': 12693,\n",
       "   'machine_id': 2759,\n",
       "   'comment': None,\n",
       "   'user_name': 'beekey',\n",
       "   'location_name': 'Umeå Pincade',\n",
       "   'machine_name': 'The Machine: Bride of Pin-Bot 2.0 (Dutch, 2014)',\n",
       "   'high_score': None,\n",
       "   'city_name': 'Umeå',\n",
       "   'lat': 63.8223751,\n",
       "   'lon': 20.2842705},\n",
       "  {'id': 518019,\n",
       "   'submission_type': 'remove_machine',\n",
       "   'submission': 'Lord of the Rings (Stern, 2003) was removed from Umeå Pincade in Umeå by beekey',\n",
       "   'region_id': None,\n",
       "   'created_at': '2025-07-12T23:27:58.540-07:00',\n",
       "   'updated_at': '2025-07-12T23:27:58.540-07:00',\n",
       "   'user_id': 8444,\n",
       "   'location_id': 12693,\n",
       "   'machine_id': 662,\n",
       "   'comment': None,\n",
       "   'user_name': 'beekey',\n",
       "   'location_name': 'Umeå Pincade',\n",
       "   'machine_name': 'Lord of the Rings (Stern, 2003)',\n",
       "   'high_score': None,\n",
       "   'city_name': 'Umeå',\n",
       "   'lat': 63.8223751,\n",
       "   'lon': 20.2842705},\n",
       "  {'id': 518018,\n",
       "   'submission_type': 'remove_machine',\n",
       "   'submission': 'Indiana Jones: The Pinball Adventure (Williams, 1993) was removed from Umeå Pincade in Umeå by beekey',\n",
       "   'region_id': None,\n",
       "   'created_at': '2025-07-12T23:27:53.747-07:00',\n",
       "   'updated_at': '2025-07-12T23:27:53.747-07:00',\n",
       "   'user_id': 8444,\n",
       "   'location_id': 12693,\n",
       "   'machine_id': 651,\n",
       "   'comment': None,\n",
       "   'user_name': 'beekey',\n",
       "   'location_name': 'Umeå Pincade',\n",
       "   'machine_name': 'Indiana Jones: The Pinball Adventure (Williams, 1993)',\n",
       "   'high_score': None,\n",
       "   'city_name': 'Umeå',\n",
       "   'lat': 63.8223751,\n",
       "   'lon': 20.2842705},\n",
       "  {'id': 518017,\n",
       "   'submission_type': 'remove_machine',\n",
       "   'submission': 'Grand Prix (Stern, 2005) was removed from Umeå Pincade in Umeå by beekey',\n",
       "   'region_id': None,\n",
       "   'created_at': '2025-07-12T23:27:44.858-07:00',\n",
       "   'updated_at': '2025-07-12T23:27:44.858-07:00',\n",
       "   'user_id': 8444,\n",
       "   'location_id': 12693,\n",
       "   'machine_id': 2766,\n",
       "   'comment': None,\n",
       "   'user_name': 'beekey',\n",
       "   'location_name': 'Umeå Pincade',\n",
       "   'machine_name': 'Grand Prix (Stern, 2005)',\n",
       "   'high_score': None,\n",
       "   'city_name': 'Umeå',\n",
       "   'lat': 63.8223751,\n",
       "   'lon': 20.2842705},\n",
       "  {'id': 518016,\n",
       "   'submission_type': 'remove_machine',\n",
       "   'submission': 'Batman: The Dark Knight (Stern, 2008) was removed from Umeå Pincade in Umeå by beekey',\n",
       "   'region_id': None,\n",
       "   'created_at': '2025-07-12T23:27:34.745-07:00',\n",
       "   'updated_at': '2025-07-12T23:27:34.745-07:00',\n",
       "   'user_id': 8444,\n",
       "   'location_id': 12693,\n",
       "   'machine_id': 652,\n",
       "   'comment': None,\n",
       "   'user_name': 'beekey',\n",
       "   'location_name': 'Umeå Pincade',\n",
       "   'machine_name': 'Batman: The Dark Knight (Stern, 2008)',\n",
       "   'high_score': None,\n",
       "   'city_name': 'Umeå',\n",
       "   'lat': 63.8223751,\n",
       "   'lon': 20.2842705},\n",
       "  {'id': 518015,\n",
       "   'submission_type': 'new_lmx',\n",
       "   'submission': 'Cactus Canyon (Remake Special) (Chicago Gaming, 2021) was added to Umeå Pincade in Umeå by beekey',\n",
       "   'region_id': None,\n",
       "   'created_at': '2025-07-12T23:27:23.987-07:00',\n",
       "   'updated_at': '2025-07-12T23:27:23.987-07:00',\n",
       "   'user_id': 8444,\n",
       "   'location_id': 12693,\n",
       "   'machine_id': 3422,\n",
       "   'comment': None,\n",
       "   'user_name': 'beekey',\n",
       "   'location_name': 'Umeå Pincade',\n",
       "   'machine_name': 'Cactus Canyon (Remake Special) (Chicago Gaming, 2021)',\n",
       "   'high_score': None,\n",
       "   'city_name': 'Umeå',\n",
       "   'lat': 63.8223751,\n",
       "   'lon': 20.2842705},\n",
       "  {'id': 518014,\n",
       "   'submission_type': 'new_lmx',\n",
       "   'submission': 'Diner (Williams, 1990) was added to Umeå Pincade in Umeå by beekey',\n",
       "   'region_id': None,\n",
       "   'created_at': '2025-07-12T23:27:05.750-07:00',\n",
       "   'updated_at': '2025-07-12T23:27:05.750-07:00',\n",
       "   'user_id': 8444,\n",
       "   'location_id': 12693,\n",
       "   'machine_id': 765,\n",
       "   'comment': None,\n",
       "   'user_name': 'beekey',\n",
       "   'location_name': 'Umeå Pincade',\n",
       "   'machine_name': 'Diner (Williams, 1990)',\n",
       "   'high_score': None,\n",
       "   'city_name': 'Umeå',\n",
       "   'lat': 63.8223751,\n",
       "   'lon': 20.2842705},\n",
       "  {'id': 518013,\n",
       "   'submission_type': 'new_lmx',\n",
       "   'submission': 'The Uncanny X-Men (Pro) (Stern, 2024) was added to Umeå Pincade in Umeå by beekey',\n",
       "   'region_id': None,\n",
       "   'created_at': '2025-07-12T23:26:53.828-07:00',\n",
       "   'updated_at': '2025-07-12T23:26:53.828-07:00',\n",
       "   'user_id': 8444,\n",
       "   'location_id': 12693,\n",
       "   'machine_id': 4506,\n",
       "   'comment': None,\n",
       "   'user_name': 'beekey',\n",
       "   'location_name': 'Umeå Pincade',\n",
       "   'machine_name': 'The Uncanny X-Men (Pro) (Stern, 2024)',\n",
       "   'high_score': None,\n",
       "   'city_name': 'Umeå',\n",
       "   'lat': 63.8223751,\n",
       "   'lon': 20.2842705},\n",
       "  {'id': 518012,\n",
       "   'submission_type': 'new_lmx',\n",
       "   'submission': 'Evil Dead (CE) (Spooky, 2024) was added to Umeå Pincade in Umeå by beekey',\n",
       "   'region_id': None,\n",
       "   'created_at': '2025-07-12T23:25:08.172-07:00',\n",
       "   'updated_at': '2025-07-12T23:25:08.172-07:00',\n",
       "   'user_id': 8444,\n",
       "   'location_id': 12693,\n",
       "   'machine_id': 4515,\n",
       "   'comment': None,\n",
       "   'user_name': 'beekey',\n",
       "   'location_name': 'Umeå Pincade',\n",
       "   'machine_name': 'Evil Dead (CE) (Spooky, 2024)',\n",
       "   'high_score': None,\n",
       "   'city_name': 'Umeå',\n",
       "   'lat': 63.8223751,\n",
       "   'lon': 20.2842705},\n",
       "  {'id': 517975,\n",
       "   'submission_type': 'confirm_location',\n",
       "   'submission': \"trd confirmed the lineup at Mick's Jump 'N' Play in Melton\",\n",
       "   'region_id': None,\n",
       "   'created_at': '2025-07-12T19:30:25.257-07:00',\n",
       "   'updated_at': '2025-07-12T19:30:25.257-07:00',\n",
       "   'user_id': 31995,\n",
       "   'location_id': 23136,\n",
       "   'machine_id': None,\n",
       "   'comment': None,\n",
       "   'user_name': 'trd',\n",
       "   'location_name': \"Mick's Jump 'N' Play\",\n",
       "   'machine_name': None,\n",
       "   'high_score': None,\n",
       "   'city_name': 'Melton',\n",
       "   'lat': -37.6879382,\n",
       "   'lon': 144.5877359},\n",
       "  {'id': 517974,\n",
       "   'submission_type': 'new_lmx',\n",
       "   'submission': 'Jack-Bot (Williams, 1995) was added to Uptown Pinball in Martinsville by lochlynk',\n",
       "   'region_id': None,\n",
       "   'created_at': '2025-07-12T19:27:07.783-07:00',\n",
       "   'updated_at': '2025-07-12T19:27:07.783-07:00',\n",
       "   'user_id': 30120,\n",
       "   'location_id': 10134,\n",
       "   'machine_id': 756,\n",
       "   'comment': None,\n",
       "   'user_name': 'lochlynk',\n",
       "   'location_name': 'Uptown Pinball',\n",
       "   'machine_name': 'Jack-Bot (Williams, 1995)',\n",
       "   'high_score': None,\n",
       "   'city_name': 'Martinsville',\n",
       "   'lat': 36.6908828,\n",
       "   'lon': -79.8719892},\n",
       "  {'id': 517973,\n",
       "   'submission_type': 'new_lmx',\n",
       "   'submission': 'Halloween (Blood Sucker Edition) (Spooky, 2021) was added to Uptown Pinball in Martinsville by lochlynk',\n",
       "   'region_id': None,\n",
       "   'created_at': '2025-07-12T19:25:50.888-07:00',\n",
       "   'updated_at': '2025-07-12T19:25:50.888-07:00',\n",
       "   'user_id': 30120,\n",
       "   'location_id': 10134,\n",
       "   'machine_id': 3409,\n",
       "   'comment': None,\n",
       "   'user_name': 'lochlynk',\n",
       "   'location_name': 'Uptown Pinball',\n",
       "   'machine_name': 'Halloween (Blood Sucker Edition) (Spooky, 2021)',\n",
       "   'high_score': None,\n",
       "   'city_name': 'Martinsville',\n",
       "   'lat': 36.6908828,\n",
       "   'lon': -79.8719892},\n",
       "  {'id': 517969,\n",
       "   'submission_type': 'new_lmx',\n",
       "   'submission': 'Dracula (Stern Electronics, 1979) was added to Uptown Pinball in Martinsville by lochlynk',\n",
       "   'region_id': None,\n",
       "   'created_at': '2025-07-12T19:15:12.018-07:00',\n",
       "   'updated_at': '2025-07-12T19:15:12.018-07:00',\n",
       "   'user_id': 30120,\n",
       "   'location_id': 10134,\n",
       "   'machine_id': 867,\n",
       "   'comment': None,\n",
       "   'user_name': 'lochlynk',\n",
       "   'location_name': 'Uptown Pinball',\n",
       "   'machine_name': 'Dracula (Stern Electronics, 1979)',\n",
       "   'high_score': None,\n",
       "   'city_name': 'Martinsville',\n",
       "   'lat': 36.6908828,\n",
       "   'lon': -79.8719892},\n",
       "  {'id': 517968,\n",
       "   'submission_type': 'new_lmx',\n",
       "   'submission': 'King Kong: Myth of Terror Island (Premium) (Stern, 2025) was added to Uptown Pinball in Martinsville by lochlynk',\n",
       "   'region_id': None,\n",
       "   'created_at': '2025-07-12T19:11:38.181-07:00',\n",
       "   'updated_at': '2025-07-12T19:11:38.181-07:00',\n",
       "   'user_id': 30120,\n",
       "   'location_id': 10134,\n",
       "   'machine_id': 4534,\n",
       "   'comment': None,\n",
       "   'user_name': 'lochlynk',\n",
       "   'location_name': 'Uptown Pinball',\n",
       "   'machine_name': 'King Kong: Myth of Terror Island (Premium) (Stern, 2025)',\n",
       "   'high_score': None,\n",
       "   'city_name': 'Martinsville',\n",
       "   'lat': 36.6908828,\n",
       "   'lon': -79.8719892},\n",
       "  {'id': 517967,\n",
       "   'submission_type': 'new_condition',\n",
       "   'submission': \"trd commented on Street Fighter II (Gottlieb, 1993) at Mick's Jump 'N' Play in Melton. They said: Plunger is messed up, almost never makes it up all the way. Also if I worked it out right, it's 13 degrees steep\",\n",
       "   'region_id': None,\n",
       "   'created_at': '2025-07-12T19:09:03.851-07:00',\n",
       "   'updated_at': '2025-07-12T19:09:03.851-07:00',\n",
       "   'user_id': 31995,\n",
       "   'location_id': 23136,\n",
       "   'machine_id': 767,\n",
       "   'comment': \"Plunger is messed up, almost never makes it up all the way. Also if I worked it out right, it's 13 degrees steep\",\n",
       "   'user_name': 'trd',\n",
       "   'location_name': \"Mick's Jump 'N' Play\",\n",
       "   'machine_name': 'Street Fighter II (Gottlieb, 1993)',\n",
       "   'high_score': None,\n",
       "   'city_name': 'Melton',\n",
       "   'lat': -37.6879382,\n",
       "   'lon': 144.5877359},\n",
       "  {'id': 517965,\n",
       "   'submission_type': 'confirm_location',\n",
       "   'submission': \"looneyfunhousetunes confirmed the lineup at Mustang Sally's in Deadwood\",\n",
       "   'region_id': None,\n",
       "   'created_at': '2025-07-12T19:08:43.869-07:00',\n",
       "   'updated_at': '2025-07-12T19:08:43.869-07:00',\n",
       "   'user_id': 35299,\n",
       "   'location_id': 23969,\n",
       "   'machine_id': None,\n",
       "   'comment': None,\n",
       "   'user_name': 'looneyfunhousetunes',\n",
       "   'location_name': \"Mustang Sally's\",\n",
       "   'machine_name': None,\n",
       "   'high_score': None,\n",
       "   'city_name': 'Deadwood',\n",
       "   'lat': 44.377958,\n",
       "   'lon': -103.7296},\n",
       "  {'id': 517964,\n",
       "   'submission_type': 'new_lmx',\n",
       "   'submission': 'WWF Royal Rumble (Data East, 1994) was added to Uptown Pinball in Martinsville by lochlynk',\n",
       "   'region_id': None,\n",
       "   'created_at': '2025-07-12T19:07:29.212-07:00',\n",
       "   'updated_at': '2025-07-12T19:07:29.212-07:00',\n",
       "   'user_id': 30120,\n",
       "   'location_id': 10134,\n",
       "   'machine_id': 930,\n",
       "   'comment': None,\n",
       "   'user_name': 'lochlynk',\n",
       "   'location_name': 'Uptown Pinball',\n",
       "   'machine_name': 'WWF Royal Rumble (Data East, 1994)',\n",
       "   'high_score': None,\n",
       "   'city_name': 'Martinsville',\n",
       "   'lat': 36.6908828,\n",
       "   'lon': -79.8719892},\n",
       "  {'id': 517963,\n",
       "   'submission_type': 'new_lmx',\n",
       "   'submission': 'High Roller Casino (Stern, 2001) was added to Uptown Pinball in Martinsville by lochlynk',\n",
       "   'region_id': None,\n",
       "   'created_at': '2025-07-12T19:07:16.138-07:00',\n",
       "   'updated_at': '2025-07-12T19:07:16.138-07:00',\n",
       "   'user_id': 30120,\n",
       "   'location_id': 10134,\n",
       "   'machine_id': 666,\n",
       "   'comment': None,\n",
       "   'user_name': 'lochlynk',\n",
       "   'location_name': 'Uptown Pinball',\n",
       "   'machine_name': 'High Roller Casino (Stern, 2001)',\n",
       "   'high_score': None,\n",
       "   'city_name': 'Martinsville',\n",
       "   'lat': 36.6908828,\n",
       "   'lon': -79.8719892},\n",
       "  {'id': 517962,\n",
       "   'submission_type': 'remove_machine',\n",
       "   'submission': 'Medusa (Bally, 1981) was removed from Uptown Pinball in Martinsville by lochlynk',\n",
       "   'region_id': None,\n",
       "   'created_at': '2025-07-12T19:07:09.064-07:00',\n",
       "   'updated_at': '2025-07-12T19:07:09.064-07:00',\n",
       "   'user_id': 30120,\n",
       "   'location_id': 10134,\n",
       "   'machine_id': 1495,\n",
       "   'comment': None,\n",
       "   'user_name': 'lochlynk',\n",
       "   'location_name': 'Uptown Pinball',\n",
       "   'machine_name': 'Medusa (Bally, 1981)',\n",
       "   'high_score': None,\n",
       "   'city_name': 'Martinsville',\n",
       "   'lat': 36.6908828,\n",
       "   'lon': -79.8719892},\n",
       "  {'id': 517961,\n",
       "   'submission_type': 'new_lmx',\n",
       "   'submission': 'Led Zeppelin (Pro) (Stern, 2020) was added to Uptown Pinball in Martinsville by lochlynk',\n",
       "   'region_id': None,\n",
       "   'created_at': '2025-07-12T19:06:33.540-07:00',\n",
       "   'updated_at': '2025-07-12T19:06:33.540-07:00',\n",
       "   'user_id': 30120,\n",
       "   'location_id': 10134,\n",
       "   'machine_id': 3279,\n",
       "   'comment': None,\n",
       "   'user_name': 'lochlynk',\n",
       "   'location_name': 'Uptown Pinball',\n",
       "   'machine_name': 'Led Zeppelin (Pro) (Stern, 2020)',\n",
       "   'high_score': None,\n",
       "   'city_name': 'Martinsville',\n",
       "   'lat': 36.6908828,\n",
       "   'lon': -79.8719892},\n",
       "  {'id': 517960,\n",
       "   'submission_type': 'new_lmx',\n",
       "   'submission': 'Alien (Ellen Ripley) (Pinball Brothers, 2023) was added to Uptown Pinball in Martinsville by lochlynk',\n",
       "   'region_id': None,\n",
       "   'created_at': '2025-07-12T19:05:46.102-07:00',\n",
       "   'updated_at': '2025-07-12T19:05:46.102-07:00',\n",
       "   'user_id': 30120,\n",
       "   'location_id': 10134,\n",
       "   'machine_id': 3843,\n",
       "   'comment': None,\n",
       "   'user_name': 'lochlynk',\n",
       "   'location_name': 'Uptown Pinball',\n",
       "   'machine_name': 'Alien (Ellen Ripley) (Pinball Brothers, 2023)',\n",
       "   'high_score': None,\n",
       "   'city_name': 'Martinsville',\n",
       "   'lat': 36.6908828,\n",
       "   'lon': -79.8719892},\n",
       "  {'id': 517959,\n",
       "   'submission_type': 'new_lmx',\n",
       "   'submission': \"Dungeons & Dragons: The Tyrant's Eye (Premium) (Stern, 2025) was added to Uptown Pinball in Martinsville by lochlynk\",\n",
       "   'region_id': None,\n",
       "   'created_at': '2025-07-12T19:04:54.898-07:00',\n",
       "   'updated_at': '2025-07-12T19:04:54.898-07:00',\n",
       "   'user_id': 30120,\n",
       "   'location_id': 10134,\n",
       "   'machine_id': 4517,\n",
       "   'comment': None,\n",
       "   'user_name': 'lochlynk',\n",
       "   'location_name': 'Uptown Pinball',\n",
       "   'machine_name': \"Dungeons & Dragons: The Tyrant's Eye (Premium) (Stern, 2025)\",\n",
       "   'high_score': None,\n",
       "   'city_name': 'Martinsville',\n",
       "   'lat': 36.6908828,\n",
       "   'lon': -79.8719892},\n",
       "  {'id': 517958,\n",
       "   'submission_type': 'new_lmx',\n",
       "   'submission': 'Jim Henson’s Labyrinth (Barrels of Fun, 2023) was added to Uptown Pinball in Martinsville by lochlynk',\n",
       "   'region_id': None,\n",
       "   'created_at': '2025-07-12T19:04:00.876-07:00',\n",
       "   'updated_at': '2025-07-12T19:04:00.876-07:00',\n",
       "   'user_id': 30120,\n",
       "   'location_id': 10134,\n",
       "   'machine_id': 3784,\n",
       "   'comment': None,\n",
       "   'user_name': 'lochlynk',\n",
       "   'location_name': 'Uptown Pinball',\n",
       "   'machine_name': 'Jim Henson’s Labyrinth (Barrels of Fun, 2023)',\n",
       "   'high_score': None,\n",
       "   'city_name': 'Martinsville',\n",
       "   'lat': 36.6908828,\n",
       "   'lon': -79.8719892},\n",
       "  {'id': 517957,\n",
       "   'submission_type': 'new_lmx',\n",
       "   'submission': 'John Wick (Premium) (Stern, 2024) was added to Uptown Pinball in Martinsville by lochlynk',\n",
       "   'region_id': None,\n",
       "   'created_at': '2025-07-12T19:03:32.590-07:00',\n",
       "   'updated_at': '2025-07-12T19:03:32.590-07:00',\n",
       "   'user_id': 30120,\n",
       "   'location_id': 10134,\n",
       "   'machine_id': 3846,\n",
       "   'comment': None,\n",
       "   'user_name': 'lochlynk',\n",
       "   'location_name': 'Uptown Pinball',\n",
       "   'machine_name': 'John Wick (Premium) (Stern, 2024)',\n",
       "   'high_score': None,\n",
       "   'city_name': 'Martinsville',\n",
       "   'lat': 36.6908828,\n",
       "   'lon': -79.8719892},\n",
       "  {'id': 517956,\n",
       "   'submission_type': 'remove_machine',\n",
       "   'submission': 'Black Knight: Sword of Rage (Pro) (Stern, 2019) was removed from Uptown Pinball in Martinsville by lochlynk',\n",
       "   'region_id': None,\n",
       "   'created_at': '2025-07-12T19:02:32.097-07:00',\n",
       "   'updated_at': '2025-07-12T19:02:32.097-07:00',\n",
       "   'user_id': 30120,\n",
       "   'location_id': 10134,\n",
       "   'machine_id': 3126,\n",
       "   'comment': None,\n",
       "   'user_name': 'lochlynk',\n",
       "   'location_name': 'Uptown Pinball',\n",
       "   'machine_name': 'Black Knight: Sword of Rage (Pro) (Stern, 2019)',\n",
       "   'high_score': None,\n",
       "   'city_name': 'Martinsville',\n",
       "   'lat': 36.6908828,\n",
       "   'lon': -79.8719892},\n",
       "  {'id': 517955,\n",
       "   'submission_type': 'remove_machine',\n",
       "   'submission': 'Dialed In! (CE) (Jersey Jack, 2017) was removed from Uptown Pinball in Martinsville by lochlynk',\n",
       "   'region_id': None,\n",
       "   'created_at': '2025-07-12T19:02:19.865-07:00',\n",
       "   'updated_at': '2025-07-12T19:02:19.865-07:00',\n",
       "   'user_id': 30120,\n",
       "   'location_id': 10134,\n",
       "   'machine_id': 3027,\n",
       "   'comment': None,\n",
       "   'user_name': 'lochlynk',\n",
       "   'location_name': 'Uptown Pinball',\n",
       "   'machine_name': 'Dialed In! (CE) (Jersey Jack, 2017)',\n",
       "   'high_score': None,\n",
       "   'city_name': 'Martinsville',\n",
       "   'lat': 36.6908828,\n",
       "   'lon': -79.8719892},\n",
       "  {'id': 517954,\n",
       "   'submission_type': 'remove_machine',\n",
       "   'submission': 'Foo Fighters (Pro) (Stern, 2023) was removed from Uptown Pinball in Martinsville by lochlynk',\n",
       "   'region_id': None,\n",
       "   'created_at': '2025-07-12T19:02:14.951-07:00',\n",
       "   'updated_at': '2025-07-12T19:02:14.951-07:00',\n",
       "   'user_id': 30120,\n",
       "   'location_id': 10134,\n",
       "   'machine_id': 3673,\n",
       "   'comment': None,\n",
       "   'user_name': 'lochlynk',\n",
       "   'location_name': 'Uptown Pinball',\n",
       "   'machine_name': 'Foo Fighters (Pro) (Stern, 2023)',\n",
       "   'high_score': None,\n",
       "   'city_name': 'Martinsville',\n",
       "   'lat': 36.6908828,\n",
       "   'lon': -79.8719892},\n",
       "  {'id': 517953,\n",
       "   'submission_type': 'remove_machine',\n",
       "   'submission': 'Grand Lizard (Williams, 1986) was removed from Uptown Pinball in Martinsville by lochlynk',\n",
       "   'region_id': None,\n",
       "   'created_at': '2025-07-12T19:02:07.291-07:00',\n",
       "   'updated_at': '2025-07-12T19:02:07.291-07:00',\n",
       "   'user_id': 30120,\n",
       "   'location_id': 10134,\n",
       "   'machine_id': 1069,\n",
       "   'comment': None,\n",
       "   'user_name': 'lochlynk',\n",
       "   'location_name': 'Uptown Pinball',\n",
       "   'machine_name': 'Grand Lizard (Williams, 1986)',\n",
       "   'high_score': None,\n",
       "   'city_name': 'Martinsville',\n",
       "   'lat': 36.6908828,\n",
       "   'lon': -79.8719892},\n",
       "  {'id': 517952,\n",
       "   'submission_type': 'remove_machine',\n",
       "   'submission': 'Toy Story 4 (CE) (Jersey Jack, 2022) was removed from Uptown Pinball in Martinsville by lochlynk',\n",
       "   'region_id': None,\n",
       "   'created_at': '2025-07-12T19:02:00.777-07:00',\n",
       "   'updated_at': '2025-07-12T19:02:00.777-07:00',\n",
       "   'user_id': 30120,\n",
       "   'location_id': 10134,\n",
       "   'machine_id': 3518,\n",
       "   'comment': None,\n",
       "   'user_name': 'lochlynk',\n",
       "   'location_name': 'Uptown Pinball',\n",
       "   'machine_name': 'Toy Story 4 (CE) (Jersey Jack, 2022)',\n",
       "   'high_score': None,\n",
       "   'city_name': 'Martinsville',\n",
       "   'lat': 36.6908828,\n",
       "   'lon': -79.8719892},\n",
       "  {'id': 517951,\n",
       "   'submission_type': 'remove_machine',\n",
       "   'submission': 'Sorcerer (Williams, 1985) was removed from Uptown Pinball in Martinsville by lochlynk',\n",
       "   'region_id': None,\n",
       "   'created_at': '2025-07-12T19:01:56.570-07:00',\n",
       "   'updated_at': '2025-07-12T19:01:56.570-07:00',\n",
       "   'user_id': 30120,\n",
       "   'location_id': 10134,\n",
       "   'machine_id': 966,\n",
       "   'comment': None,\n",
       "   'user_name': 'lochlynk',\n",
       "   'location_name': 'Uptown Pinball',\n",
       "   'machine_name': 'Sorcerer (Williams, 1985)',\n",
       "   'high_score': None,\n",
       "   'city_name': 'Martinsville',\n",
       "   'lat': 36.6908828,\n",
       "   'lon': -79.8719892},\n",
       "  {'id': 517950,\n",
       "   'submission_type': 'remove_machine',\n",
       "   'submission': 'Star Trek (Pro) (Stern, 2013) was removed from Uptown Pinball in Martinsville by lochlynk',\n",
       "   'region_id': None,\n",
       "   'created_at': '2025-07-12T19:01:51.841-07:00',\n",
       "   'updated_at': '2025-07-12T19:01:51.841-07:00',\n",
       "   'user_id': 30120,\n",
       "   'location_id': 10134,\n",
       "   'machine_id': 2165,\n",
       "   'comment': None,\n",
       "   'user_name': 'lochlynk',\n",
       "   'location_name': 'Uptown Pinball',\n",
       "   'machine_name': 'Star Trek (Pro) (Stern, 2013)',\n",
       "   'high_score': None,\n",
       "   'city_name': 'Martinsville',\n",
       "   'lat': 36.6908828,\n",
       "   'lon': -79.8719892},\n",
       "  {'id': 517949,\n",
       "   'submission_type': 'remove_machine',\n",
       "   'submission': 'RollerCoaster Tycoon (Stern, 2002) was removed from Uptown Pinball in Martinsville by lochlynk',\n",
       "   'region_id': None,\n",
       "   'created_at': '2025-07-12T19:01:46.323-07:00',\n",
       "   'updated_at': '2025-07-12T19:01:46.323-07:00',\n",
       "   'user_id': 30120,\n",
       "   'location_id': 10134,\n",
       "   'machine_id': 679,\n",
       "   'comment': None,\n",
       "   'user_name': 'lochlynk',\n",
       "   'location_name': 'Uptown Pinball',\n",
       "   'machine_name': 'RollerCoaster Tycoon (Stern, 2002)',\n",
       "   'high_score': None,\n",
       "   'city_name': 'Martinsville',\n",
       "   'lat': 36.6908828,\n",
       "   'lon': -79.8719892},\n",
       "  {'id': 517948,\n",
       "   'submission_type': 'remove_machine',\n",
       "   'submission': 'Playboy (Bally, 1978) was removed from Uptown Pinball in Martinsville by lochlynk',\n",
       "   'region_id': None,\n",
       "   'created_at': '2025-07-12T19:01:41.124-07:00',\n",
       "   'updated_at': '2025-07-12T19:01:41.124-07:00',\n",
       "   'user_id': 30120,\n",
       "   'location_id': 10134,\n",
       "   'machine_id': 766,\n",
       "   'comment': None,\n",
       "   'user_name': 'lochlynk',\n",
       "   'location_name': 'Uptown Pinball',\n",
       "   'machine_name': 'Playboy (Bally, 1978)',\n",
       "   'high_score': None,\n",
       "   'city_name': 'Martinsville',\n",
       "   'lat': 36.6908828,\n",
       "   'lon': -79.8719892},\n",
       "  {'id': 517947,\n",
       "   'submission_type': 'remove_machine',\n",
       "   'submission': 'Hurricane (Williams, 1991) was removed from Uptown Pinball in Martinsville by lochlynk',\n",
       "   'region_id': None,\n",
       "   'created_at': '2025-07-12T19:01:26.108-07:00',\n",
       "   'updated_at': '2025-07-12T19:01:26.108-07:00',\n",
       "   'user_id': 30120,\n",
       "   'location_id': 10134,\n",
       "   'machine_id': 739,\n",
       "   'comment': None,\n",
       "   'user_name': 'lochlynk',\n",
       "   'location_name': 'Uptown Pinball',\n",
       "   'machine_name': 'Hurricane (Williams, 1991)',\n",
       "   'high_score': None,\n",
       "   'city_name': 'Martinsville',\n",
       "   'lat': 36.6908828,\n",
       "   'lon': -79.8719892},\n",
       "  {'id': 517946,\n",
       "   'submission_type': 'remove_machine',\n",
       "   'submission': \"Gilligan's Island (Bally, 1991) was removed from Uptown Pinball in Martinsville by lochlynk\",\n",
       "   'region_id': None,\n",
       "   'created_at': '2025-07-12T19:01:20.610-07:00',\n",
       "   'updated_at': '2025-07-12T19:01:20.610-07:00',\n",
       "   'user_id': 30120,\n",
       "   'location_id': 10134,\n",
       "   'machine_id': 718,\n",
       "   'comment': None,\n",
       "   'user_name': 'lochlynk',\n",
       "   'location_name': 'Uptown Pinball',\n",
       "   'machine_name': \"Gilligan's Island (Bally, 1991)\",\n",
       "   'high_score': None,\n",
       "   'city_name': 'Martinsville',\n",
       "   'lat': 36.6908828,\n",
       "   'lon': -79.8719892},\n",
       "  {'id': 517945,\n",
       "   'submission_type': 'remove_machine',\n",
       "   'submission': 'Funhouse (Williams, 1990) was removed from Uptown Pinball in Martinsville by lochlynk',\n",
       "   'region_id': None,\n",
       "   'created_at': '2025-07-12T19:01:15.474-07:00',\n",
       "   'updated_at': '2025-07-12T19:01:15.474-07:00',\n",
       "   'user_id': 30120,\n",
       "   'location_id': 10134,\n",
       "   'machine_id': 703,\n",
       "   'comment': None,\n",
       "   'user_name': 'lochlynk',\n",
       "   'location_name': 'Uptown Pinball',\n",
       "   'machine_name': 'Funhouse (Williams, 1990)',\n",
       "   'high_score': None,\n",
       "   'city_name': 'Martinsville',\n",
       "   'lat': 36.6908828,\n",
       "   'lon': -79.8719892},\n",
       "  {'id': 517944,\n",
       "   'submission_type': 'remove_machine',\n",
       "   'submission': 'Black Rose (Bally, 1992) was removed from Uptown Pinball in Martinsville by lochlynk',\n",
       "   'region_id': None,\n",
       "   'created_at': '2025-07-12T19:01:08.591-07:00',\n",
       "   'updated_at': '2025-07-12T19:01:08.591-07:00',\n",
       "   'user_id': 30120,\n",
       "   'location_id': 10134,\n",
       "   'machine_id': 732,\n",
       "   'comment': None,\n",
       "   'user_name': 'lochlynk',\n",
       "   'location_name': 'Uptown Pinball',\n",
       "   'machine_name': 'Black Rose (Bally, 1992)',\n",
       "   'high_score': None,\n",
       "   'city_name': 'Martinsville',\n",
       "   'lat': 36.6908828,\n",
       "   'lon': -79.8719892},\n",
       "  {'id': 517943,\n",
       "   'submission_type': 'remove_machine',\n",
       "   'submission': 'Baywatch (Sega, 1995) was removed from Uptown Pinball in Martinsville by lochlynk',\n",
       "   'region_id': None,\n",
       "   'created_at': '2025-07-12T19:01:02.597-07:00',\n",
       "   'updated_at': '2025-07-12T19:01:02.597-07:00',\n",
       "   'user_id': 30120,\n",
       "   'location_id': 10134,\n",
       "   'machine_id': 882,\n",
       "   'comment': None,\n",
       "   'user_name': 'lochlynk',\n",
       "   'location_name': 'Uptown Pinball',\n",
       "   'machine_name': 'Baywatch (Sega, 1995)',\n",
       "   'high_score': None,\n",
       "   'city_name': 'Martinsville',\n",
       "   'lat': 36.6908828,\n",
       "   'lon': -79.8719892},\n",
       "  {'id': 517940,\n",
       "   'submission_type': 'new_lmx',\n",
       "   'submission': 'Iron Maiden: Legacy of the Beast (LE) (Stern, 2018) was added to Café Anno in Wien by captain_steindl',\n",
       "   'region_id': None,\n",
       "   'created_at': '2025-07-12T18:40:38.187-07:00',\n",
       "   'updated_at': '2025-07-12T18:40:38.187-07:00',\n",
       "   'user_id': 30954,\n",
       "   'location_id': 19629,\n",
       "   'machine_id': 2925,\n",
       "   'comment': None,\n",
       "   'user_name': 'captain_steindl',\n",
       "   'location_name': 'Café Anno',\n",
       "   'machine_name': 'Iron Maiden: Legacy of the Beast (LE) (Stern, 2018)',\n",
       "   'high_score': None,\n",
       "   'city_name': 'Wien',\n",
       "   'lat': 48.2080209,\n",
       "   'lon': 16.3418152},\n",
       "  {'id': 517939,\n",
       "   'submission_type': 'remove_machine',\n",
       "   'submission': 'Transformers (Pro) (Stern, 2011) was removed from Café Anno in Wien by captain_steindl',\n",
       "   'region_id': None,\n",
       "   'created_at': '2025-07-12T18:40:21.244-07:00',\n",
       "   'updated_at': '2025-07-12T18:40:21.244-07:00',\n",
       "   'user_id': 30954,\n",
       "   'location_id': 19629,\n",
       "   'machine_id': 1147,\n",
       "   'comment': None,\n",
       "   'user_name': 'captain_steindl',\n",
       "   'location_name': 'Café Anno',\n",
       "   'machine_name': 'Transformers (Pro) (Stern, 2011)',\n",
       "   'high_score': None,\n",
       "   'city_name': 'Wien',\n",
       "   'lat': 48.2080209,\n",
       "   'lon': 16.3418152},\n",
       "  {'id': 517933,\n",
       "   'submission_type': 'new_condition',\n",
       "   'submission': 'kwl13492 commented on Funhouse (Remake LE) (Pedretti Gaming, 2024) at Two Cousins Pinball in Marcy. They said: On Location for a LIMITED TIME - See our Facebook Page for full details!',\n",
       "   'region_id': None,\n",
       "   'created_at': '2025-07-12T18:24:28.161-07:00',\n",
       "   'updated_at': '2025-07-12T18:24:28.161-07:00',\n",
       "   'user_id': 38038,\n",
       "   'location_id': 25738,\n",
       "   'machine_id': 3850,\n",
       "   'comment': 'On Location for a LIMITED TIME - See our Facebook Page for full details!',\n",
       "   'user_name': 'kwl13492',\n",
       "   'location_name': 'Two Cousins Pinball',\n",
       "   'machine_name': 'Funhouse (Remake LE) (Pedretti Gaming, 2024)',\n",
       "   'high_score': None,\n",
       "   'city_name': 'Marcy',\n",
       "   'lat': 43.1369236,\n",
       "   'lon': -75.2691714},\n",
       "  {'id': 517932,\n",
       "   'submission_type': 'new_lmx',\n",
       "   'submission': 'Funhouse (Remake LE) (Pedretti Gaming, 2024) was added to Two Cousins Pinball in Marcy by kwl13492',\n",
       "   'region_id': None,\n",
       "   'created_at': '2025-07-12T18:24:10.694-07:00',\n",
       "   'updated_at': '2025-07-12T18:24:10.694-07:00',\n",
       "   'user_id': 38038,\n",
       "   'location_id': 25738,\n",
       "   'machine_id': 3850,\n",
       "   'comment': None,\n",
       "   'user_name': 'kwl13492',\n",
       "   'location_name': 'Two Cousins Pinball',\n",
       "   'machine_name': 'Funhouse (Remake LE) (Pedretti Gaming, 2024)',\n",
       "   'high_score': None,\n",
       "   'city_name': 'Marcy',\n",
       "   'lat': 43.1369236,\n",
       "   'lon': -75.2691714},\n",
       "  {'id': 517931,\n",
       "   'submission_type': 'new_condition',\n",
       "   'submission': 'kwl13492 commented on Jim Henson’s Labyrinth (Barrels of Fun, 2023) at Two Cousins Pinball in Marcy. They said: On Location for a LIMITED TIME - See our Facebook Page for full details!',\n",
       "   'region_id': None,\n",
       "   'created_at': '2025-07-12T18:23:41.395-07:00',\n",
       "   'updated_at': '2025-07-12T18:23:41.395-07:00',\n",
       "   'user_id': 38038,\n",
       "   'location_id': 25738,\n",
       "   'machine_id': 3784,\n",
       "   'comment': 'On Location for a LIMITED TIME - See our Facebook Page for full details!',\n",
       "   'user_name': 'kwl13492',\n",
       "   'location_name': 'Two Cousins Pinball',\n",
       "   'machine_name': 'Jim Henson’s Labyrinth (Barrels of Fun, 2023)',\n",
       "   'high_score': None,\n",
       "   'city_name': 'Marcy',\n",
       "   'lat': 43.1369236,\n",
       "   'lon': -75.2691714},\n",
       "  {'id': 517930,\n",
       "   'submission_type': 'new_lmx',\n",
       "   'submission': 'Jim Henson’s Labyrinth (Barrels of Fun, 2023) was added to Two Cousins Pinball in Marcy by kwl13492',\n",
       "   'region_id': None,\n",
       "   'created_at': '2025-07-12T18:23:26.458-07:00',\n",
       "   'updated_at': '2025-07-12T18:23:26.458-07:00',\n",
       "   'user_id': 38038,\n",
       "   'location_id': 25738,\n",
       "   'machine_id': 3784,\n",
       "   'comment': None,\n",
       "   'user_name': 'kwl13492',\n",
       "   'location_name': 'Two Cousins Pinball',\n",
       "   'machine_name': 'Jim Henson’s Labyrinth (Barrels of Fun, 2023)',\n",
       "   'high_score': None,\n",
       "   'city_name': 'Marcy',\n",
       "   'lat': 43.1369236,\n",
       "   'lon': -75.2691714},\n",
       "  {'id': 517929,\n",
       "   'submission_type': 'new_condition',\n",
       "   'submission': 'kwl13492 commented on Avatar: The Battle for Pandora (LE) (Jersey Jack, 2024) at Two Cousins Pinball in Marcy. They said: On Location for a LIMITED TIME - See our Facebook Page for full details!',\n",
       "   'region_id': None,\n",
       "   'created_at': '2025-07-12T18:21:35.810-07:00',\n",
       "   'updated_at': '2025-07-12T18:21:35.810-07:00',\n",
       "   'user_id': 38038,\n",
       "   'location_id': 25738,\n",
       "   'machine_id': 4509,\n",
       "   'comment': 'On Location for a LIMITED TIME - See our Facebook Page for full details!',\n",
       "   'user_name': 'kwl13492',\n",
       "   'location_name': 'Two Cousins Pinball',\n",
       "   'machine_name': 'Avatar: The Battle for Pandora (LE) (Jersey Jack, 2024)',\n",
       "   'high_score': None,\n",
       "   'city_name': 'Marcy',\n",
       "   'lat': 43.1369236,\n",
       "   'lon': -75.2691714},\n",
       "  {'id': 517928,\n",
       "   'submission_type': 'new_lmx',\n",
       "   'submission': 'Avatar: The Battle for Pandora (LE) (Jersey Jack, 2024) was added to Two Cousins Pinball in Marcy by kwl13492',\n",
       "   'region_id': None,\n",
       "   'created_at': '2025-07-12T18:21:19.916-07:00',\n",
       "   'updated_at': '2025-07-12T18:21:19.916-07:00',\n",
       "   'user_id': 38038,\n",
       "   'location_id': 25738,\n",
       "   'machine_id': 4509,\n",
       "   'comment': None,\n",
       "   'user_name': 'kwl13492',\n",
       "   'location_name': 'Two Cousins Pinball',\n",
       "   'machine_name': 'Avatar: The Battle for Pandora (LE) (Jersey Jack, 2024)',\n",
       "   'high_score': None,\n",
       "   'city_name': 'Marcy',\n",
       "   'lat': 43.1369236,\n",
       "   'lon': -75.2691714},\n",
       "  {'id': 517927,\n",
       "   'submission_type': 'new_condition',\n",
       "   'submission': 'kwl13492 commented on Harry Potter (CE) (Jersey Jack, 2025) at Two Cousins Pinball in Marcy. They said: On Location for a LIMITED TIME - See our Facebook Page for full details!',\n",
       "   'region_id': None,\n",
       "   'created_at': '2025-07-12T18:20:34.198-07:00',\n",
       "   'updated_at': '2025-07-12T18:20:34.198-07:00',\n",
       "   'user_id': 38038,\n",
       "   'location_id': 25738,\n",
       "   'machine_id': 4539,\n",
       "   'comment': 'On Location for a LIMITED TIME - See our Facebook Page for full details!',\n",
       "   'user_name': 'kwl13492',\n",
       "   'location_name': 'Two Cousins Pinball',\n",
       "   'machine_name': 'Harry Potter (CE) (Jersey Jack, 2025)',\n",
       "   'high_score': None,\n",
       "   'city_name': 'Marcy',\n",
       "   'lat': 43.1369236,\n",
       "   'lon': -75.2691714},\n",
       "  {'id': 517926,\n",
       "   'submission_type': 'new_lmx',\n",
       "   'submission': 'Harry Potter (CE) (Jersey Jack, 2025) was added to Two Cousins Pinball in Marcy by kwl13492',\n",
       "   'region_id': None,\n",
       "   'created_at': '2025-07-12T18:16:57.789-07:00',\n",
       "   'updated_at': '2025-07-12T18:16:57.789-07:00',\n",
       "   'user_id': 38038,\n",
       "   'location_id': 25738,\n",
       "   'machine_id': 4539,\n",
       "   'comment': None,\n",
       "   'user_name': 'kwl13492',\n",
       "   'location_name': 'Two Cousins Pinball',\n",
       "   'machine_name': 'Harry Potter (CE) (Jersey Jack, 2025)',\n",
       "   'high_score': None,\n",
       "   'city_name': 'Marcy',\n",
       "   'lat': 43.1369236,\n",
       "   'lon': -75.2691714},\n",
       "  {'id': 517925,\n",
       "   'submission_type': 'remove_machine',\n",
       "   'submission': 'No Fear: Dangerous Sports (Williams, 1995) was removed from Two Cousins Pinball in Marcy by kwl13492',\n",
       "   'region_id': None,\n",
       "   'created_at': '2025-07-12T18:14:58.235-07:00',\n",
       "   'updated_at': '2025-07-12T18:14:58.235-07:00',\n",
       "   'user_id': 38038,\n",
       "   'location_id': 25738,\n",
       "   'machine_id': 675,\n",
       "   'comment': None,\n",
       "   'user_name': 'kwl13492',\n",
       "   'location_name': 'Two Cousins Pinball',\n",
       "   'machine_name': 'No Fear: Dangerous Sports (Williams, 1995)',\n",
       "   'high_score': None,\n",
       "   'city_name': 'Marcy',\n",
       "   'lat': 43.1369236,\n",
       "   'lon': -75.2691714},\n",
       "  {'id': 517890,\n",
       "   'submission_type': 'remove_machine',\n",
       "   'submission': 'The Munsters (Pro) (Stern, 2019) was removed from Arcadia in Gatlinburg by hashholistics',\n",
       "   'region_id': None,\n",
       "   'created_at': '2025-07-12T16:50:58.184-07:00',\n",
       "   'updated_at': '2025-07-12T16:50:58.184-07:00',\n",
       "   'user_id': 20965,\n",
       "   'location_id': 21510,\n",
       "   'machine_id': 3099,\n",
       "   'comment': None,\n",
       "   'user_name': 'hashholistics',\n",
       "   'location_name': 'Arcadia',\n",
       "   'machine_name': 'The Munsters (Pro) (Stern, 2019)',\n",
       "   'high_score': None,\n",
       "   'city_name': 'Gatlinburg',\n",
       "   'lat': 35.7107036,\n",
       "   'lon': -83.5180568},\n",
       "  {'id': 517889,\n",
       "   'submission_type': 'remove_machine',\n",
       "   'submission': 'Whoa Nellie! Big Juicy Melons (Stern, 2015) was removed from Arcadia in Gatlinburg by hashholistics',\n",
       "   'region_id': None,\n",
       "   'created_at': '2025-07-12T16:50:42.258-07:00',\n",
       "   'updated_at': '2025-07-12T16:50:42.258-07:00',\n",
       "   'user_id': 20965,\n",
       "   'location_id': 21510,\n",
       "   'machine_id': 2324,\n",
       "   'comment': None,\n",
       "   'user_name': 'hashholistics',\n",
       "   'location_name': 'Arcadia',\n",
       "   'machine_name': 'Whoa Nellie! Big Juicy Melons (Stern, 2015)',\n",
       "   'high_score': None,\n",
       "   'city_name': 'Gatlinburg',\n",
       "   'lat': 35.7107036,\n",
       "   'lon': -83.5180568},\n",
       "  {'id': 517888,\n",
       "   'submission_type': 'remove_machine',\n",
       "   'submission': 'Star Wars (Premium) (Stern, 2017) was removed from Arcadia in Gatlinburg by hashholistics',\n",
       "   'region_id': None,\n",
       "   'created_at': '2025-07-12T16:50:36.913-07:00',\n",
       "   'updated_at': '2025-07-12T16:50:36.913-07:00',\n",
       "   'user_id': 20965,\n",
       "   'location_id': 21510,\n",
       "   'machine_id': 2844,\n",
       "   'comment': None,\n",
       "   'user_name': 'hashholistics',\n",
       "   'location_name': 'Arcadia',\n",
       "   'machine_name': 'Star Wars (Premium) (Stern, 2017)',\n",
       "   'high_score': None,\n",
       "   'city_name': 'Gatlinburg',\n",
       "   'lat': 35.7107036,\n",
       "   'lon': -83.5180568},\n",
       "  {'id': 517887,\n",
       "   'submission_type': 'remove_machine',\n",
       "   'submission': 'Toy Story 4 (LE) (Jersey Jack, 2022) was removed from Arcadia in Gatlinburg by hashholistics',\n",
       "   'region_id': None,\n",
       "   'created_at': '2025-07-12T16:50:32.203-07:00',\n",
       "   'updated_at': '2025-07-12T16:50:32.203-07:00',\n",
       "   'user_id': 20965,\n",
       "   'location_id': 21510,\n",
       "   'machine_id': 3519,\n",
       "   'comment': None,\n",
       "   'user_name': 'hashholistics',\n",
       "   'location_name': 'Arcadia',\n",
       "   'machine_name': 'Toy Story 4 (LE) (Jersey Jack, 2022)',\n",
       "   'high_score': None,\n",
       "   'city_name': 'Gatlinburg',\n",
       "   'lat': 35.7107036,\n",
       "   'lon': -83.5180568},\n",
       "  {'id': 517886,\n",
       "   'submission_type': 'remove_machine',\n",
       "   'submission': 'Teenage Mutant Ninja Turtles (Pro) (Stern, 2020) was removed from Arcadia in Gatlinburg by hashholistics',\n",
       "   'region_id': None,\n",
       "   'created_at': '2025-07-12T16:50:28.038-07:00',\n",
       "   'updated_at': '2025-07-12T16:50:28.038-07:00',\n",
       "   'user_id': 20965,\n",
       "   'location_id': 21510,\n",
       "   'machine_id': 3255,\n",
       "   'comment': None,\n",
       "   'user_name': 'hashholistics',\n",
       "   'location_name': 'Arcadia',\n",
       "   'machine_name': 'Teenage Mutant Ninja Turtles (Pro) (Stern, 2020)',\n",
       "   'high_score': None,\n",
       "   'city_name': 'Gatlinburg',\n",
       "   'lat': 35.7107036,\n",
       "   'lon': -83.5180568},\n",
       "  {'id': 517885,\n",
       "   'submission_type': 'remove_machine',\n",
       "   'submission': 'Oktoberfest (American, 2018) was removed from Arcadia in Gatlinburg by hashholistics',\n",
       "   'region_id': None,\n",
       "   'created_at': '2025-07-12T16:50:23.917-07:00',\n",
       "   'updated_at': '2025-07-12T16:50:23.917-07:00',\n",
       "   'user_id': 20965,\n",
       "   'location_id': 21510,\n",
       "   'machine_id': 3079,\n",
       "   'comment': None,\n",
       "   'user_name': 'hashholistics',\n",
       "   'location_name': 'Arcadia',\n",
       "   'machine_name': 'Oktoberfest (American, 2018)',\n",
       "   'high_score': None,\n",
       "   'city_name': 'Gatlinburg',\n",
       "   'lat': 35.7107036,\n",
       "   'lon': -83.5180568},\n",
       "  {'id': 517884,\n",
       "   'submission_type': 'remove_machine',\n",
       "   'submission': 'Mustang (Pro) (Stern, 2014) was removed from Arcadia in Gatlinburg by hashholistics',\n",
       "   'region_id': None,\n",
       "   'created_at': '2025-07-12T16:50:20.051-07:00',\n",
       "   'updated_at': '2025-07-12T16:50:20.051-07:00',\n",
       "   'user_id': 20965,\n",
       "   'location_id': 21510,\n",
       "   'machine_id': 2021,\n",
       "   'comment': None,\n",
       "   'user_name': 'hashholistics',\n",
       "   'location_name': 'Arcadia',\n",
       "   'machine_name': 'Mustang (Pro) (Stern, 2014)',\n",
       "   'high_score': None,\n",
       "   'city_name': 'Gatlinburg',\n",
       "   'lat': 35.7107036,\n",
       "   'lon': -83.5180568},\n",
       "  {'id': 517883,\n",
       "   'submission_type': 'remove_machine',\n",
       "   'submission': 'Medieval Madness (Remake Royal Edition) (Chicago Gaming, 2015) was removed from Arcadia in Gatlinburg by hashholistics',\n",
       "   'region_id': None,\n",
       "   'created_at': '2025-07-12T16:50:13.572-07:00',\n",
       "   'updated_at': '2025-07-12T16:50:13.572-07:00',\n",
       "   'user_id': 20965,\n",
       "   'location_id': 21510,\n",
       "   'machine_id': 2966,\n",
       "   'comment': None,\n",
       "   'user_name': 'hashholistics',\n",
       "   'location_name': 'Arcadia',\n",
       "   'machine_name': 'Medieval Madness (Remake Royal Edition) (Chicago Gaming, 2015)',\n",
       "   'high_score': None,\n",
       "   'city_name': 'Gatlinburg',\n",
       "   'lat': 35.7107036,\n",
       "   'lon': -83.5180568},\n",
       "  {'id': 517882,\n",
       "   'submission_type': 'remove_machine',\n",
       "   'submission': 'James Bond 007 (Pro) (Stern, 2022) was removed from Arcadia in Gatlinburg by hashholistics',\n",
       "   'region_id': None,\n",
       "   'created_at': '2025-07-12T16:50:05.692-07:00',\n",
       "   'updated_at': '2025-07-12T16:50:05.692-07:00',\n",
       "   'user_id': 20965,\n",
       "   'location_id': 21510,\n",
       "   'machine_id': 3640,\n",
       "   'comment': None,\n",
       "   'user_name': 'hashholistics',\n",
       "   'location_name': 'Arcadia',\n",
       "   'machine_name': 'James Bond 007 (Pro) (Stern, 2022)',\n",
       "   'high_score': None,\n",
       "   'city_name': 'Gatlinburg',\n",
       "   'lat': 35.7107036,\n",
       "   'lon': -83.5180568},\n",
       "  {'id': 517881,\n",
       "   'submission_type': 'remove_machine',\n",
       "   'submission': \"Guns N' Roses (LE) (Jersey Jack, 2020) was removed from Arcadia in Gatlinburg by hashholistics\",\n",
       "   'region_id': None,\n",
       "   'created_at': '2025-07-12T16:49:58.429-07:00',\n",
       "   'updated_at': '2025-07-12T16:49:58.429-07:00',\n",
       "   'user_id': 20965,\n",
       "   'location_id': 21510,\n",
       "   'machine_id': 3271,\n",
       "   'comment': None,\n",
       "   'user_name': 'hashholistics',\n",
       "   'location_name': 'Arcadia',\n",
       "   'machine_name': \"Guns N' Roses (LE) (Jersey Jack, 2020)\",\n",
       "   'high_score': None,\n",
       "   'city_name': 'Gatlinburg',\n",
       "   'lat': 35.7107036,\n",
       "   'lon': -83.5180568},\n",
       "  {'id': 517880,\n",
       "   'submission_type': 'remove_machine',\n",
       "   'submission': 'Cactus Canyon (Remake LE) (Chicago Gaming, 2021) was removed from Arcadia in Gatlinburg by hashholistics',\n",
       "   'region_id': None,\n",
       "   'created_at': '2025-07-12T16:49:51.557-07:00',\n",
       "   'updated_at': '2025-07-12T16:49:51.557-07:00',\n",
       "   'user_id': 20965,\n",
       "   'location_id': 21510,\n",
       "   'machine_id': 3423,\n",
       "   'comment': None,\n",
       "   'user_name': 'hashholistics',\n",
       "   'location_name': 'Arcadia',\n",
       "   'machine_name': 'Cactus Canyon (Remake LE) (Chicago Gaming, 2021)',\n",
       "   'high_score': None,\n",
       "   'city_name': 'Gatlinburg',\n",
       "   'lat': 35.7107036,\n",
       "   'lon': -83.5180568},\n",
       "  {'id': 517879,\n",
       "   'submission_type': 'remove_machine',\n",
       "   'submission': 'Attack From Mars (Remake LE) (Chicago Gaming, 2017) was removed from Arcadia in Gatlinburg by hashholistics',\n",
       "   'region_id': None,\n",
       "   'created_at': '2025-07-12T16:49:43.721-07:00',\n",
       "   'updated_at': '2025-07-12T16:49:43.721-07:00',\n",
       "   'user_id': 20965,\n",
       "   'location_id': 21510,\n",
       "   'machine_id': 2835,\n",
       "   'comment': None,\n",
       "   'user_name': 'hashholistics',\n",
       "   'location_name': 'Arcadia',\n",
       "   'machine_name': 'Attack From Mars (Remake LE) (Chicago Gaming, 2017)',\n",
       "   'high_score': None,\n",
       "   'city_name': 'Gatlinburg',\n",
       "   'lat': 35.7107036,\n",
       "   'lon': -83.5180568},\n",
       "  {'id': 517872,\n",
       "   'submission_type': 'new_condition',\n",
       "   'submission': 'coengato commented on The Mandalorian (Premium) (Stern, 2021) at Stoked Centre in Saskatoon. They said: Needs a cleaning badly, and the flippers are very dirty aswell.',\n",
       "   'region_id': None,\n",
       "   'created_at': '2025-07-12T16:29:36.952-07:00',\n",
       "   'updated_at': '2025-07-12T16:29:36.952-07:00',\n",
       "   'user_id': 32739,\n",
       "   'location_id': 18426,\n",
       "   'machine_id': 3289,\n",
       "   'comment': 'Needs a cleaning badly, and the flippers are very dirty aswell.',\n",
       "   'user_name': 'coengato',\n",
       "   'location_name': 'Stoked Centre',\n",
       "   'machine_name': 'The Mandalorian (Premium) (Stern, 2021)',\n",
       "   'high_score': None,\n",
       "   'city_name': 'Saskatoon',\n",
       "   'lat': 52.1329421,\n",
       "   'lon': -106.5564628},\n",
       "  {'id': 517869,\n",
       "   'submission_type': 'new_condition',\n",
       "   'submission': 'coengato commented on Godzilla (Pro) (Stern, 2021) at Stoked Centre in Saskatoon. They said: Unproperly maintained if not at all, in desperate need of a cleaning and flipper rebuild. Both left flippers rapidly flips if you hold the button.',\n",
       "   'region_id': None,\n",
       "   'created_at': '2025-07-12T16:28:57.360-07:00',\n",
       "   'updated_at': '2025-07-12T16:28:57.360-07:00',\n",
       "   'user_id': 32739,\n",
       "   'location_id': 18426,\n",
       "   'machine_id': 3415,\n",
       "   'comment': 'Unproperly maintained if not at all, in desperate need of a cleaning and flipper rebuild. Both left flippers rapidly flips if you hold the button.',\n",
       "   'user_name': 'coengato',\n",
       "   'location_name': 'Stoked Centre',\n",
       "   'machine_name': 'Godzilla (Pro) (Stern, 2021)',\n",
       "   'high_score': None,\n",
       "   'city_name': 'Saskatoon',\n",
       "   'lat': 52.1329421,\n",
       "   'lon': -106.5564628},\n",
       "  {'id': 517863,\n",
       "   'submission_type': 'remove_machine',\n",
       "   'submission': 'TRON: Legacy (Stern, 2011) was removed from Bone Dry Tap House in Sierra Vista by icemanx',\n",
       "   'region_id': None,\n",
       "   'created_at': '2025-07-12T16:16:21.865-07:00',\n",
       "   'updated_at': '2025-07-12T16:16:21.865-07:00',\n",
       "   'user_id': 32506,\n",
       "   'location_id': 23130,\n",
       "   'machine_id': 1118,\n",
       "   'comment': None,\n",
       "   'user_name': 'icemanx',\n",
       "   'location_name': 'Bone Dry Tap House',\n",
       "   'machine_name': 'TRON: Legacy (Stern, 2011)',\n",
       "   'high_score': None,\n",
       "   'city_name': 'Sierra Vista',\n",
       "   'lat': 31.5541061,\n",
       "   'lon': -110.2887252},\n",
       "  {'id': 517862,\n",
       "   'submission_type': 'remove_machine',\n",
       "   'submission': 'Godzilla (Premium) (Stern, 2021) was removed from Bone Dry Tap House in Sierra Vista by icemanx',\n",
       "   'region_id': None,\n",
       "   'created_at': '2025-07-12T16:16:16.625-07:00',\n",
       "   'updated_at': '2025-07-12T16:16:16.625-07:00',\n",
       "   'user_id': 32506,\n",
       "   'location_id': 23130,\n",
       "   'machine_id': 3416,\n",
       "   'comment': None,\n",
       "   'user_name': 'icemanx',\n",
       "   'location_name': 'Bone Dry Tap House',\n",
       "   'machine_name': 'Godzilla (Premium) (Stern, 2021)',\n",
       "   'high_score': None,\n",
       "   'city_name': 'Sierra Vista',\n",
       "   'lat': 31.5541061,\n",
       "   'lon': -110.2887252},\n",
       "  {'id': 517858,\n",
       "   'submission_type': 'new_condition',\n",
       "   'submission': \"nedew commented on Godzilla (LE) (Stern, 2021) at Level Up Arcade Bar in Prior's-Land. They said: This machine works well! The playfield is visibly dirty which definitely slows down the ball.\",\n",
       "   'region_id': None,\n",
       "   'created_at': '2025-07-12T16:04:27.593-07:00',\n",
       "   'updated_at': '2025-07-12T16:04:27.593-07:00',\n",
       "   'user_id': 33951,\n",
       "   'location_id': 18457,\n",
       "   'machine_id': 3417,\n",
       "   'comment': 'This machine works well! The playfield is visibly dirty which definitely slows down the ball.',\n",
       "   'user_name': 'nedew',\n",
       "   'location_name': 'Level Up Arcade Bar',\n",
       "   'machine_name': 'Godzilla (LE) (Stern, 2021)',\n",
       "   'high_score': None,\n",
       "   'city_name': \"Prior's-Land\",\n",
       "   'lat': 52.6621837,\n",
       "   'lon': -8.6286711},\n",
       "  {'id': 517852,\n",
       "   'submission_type': 'remove_machine',\n",
       "   'submission': 'Star Wars (Pro) (Stern, 2017) was removed from High Key Brewing Co in Saskatoon by ultimatemaximus',\n",
       "   'region_id': None,\n",
       "   'created_at': '2025-07-12T15:52:59.725-07:00',\n",
       "   'updated_at': '2025-07-12T15:52:59.725-07:00',\n",
       "   'user_id': 34120,\n",
       "   'location_id': 25803,\n",
       "   'machine_id': 2843,\n",
       "   'comment': None,\n",
       "   'user_name': 'ultimatemaximus',\n",
       "   'location_name': 'High Key Brewing Co',\n",
       "   'machine_name': 'Star Wars (Pro) (Stern, 2017)',\n",
       "   'high_score': None,\n",
       "   'city_name': 'Saskatoon',\n",
       "   'lat': 52.1308451,\n",
       "   'lon': -106.6640957},\n",
       "  {'id': 517851,\n",
       "   'submission_type': 'remove_machine',\n",
       "   'submission': 'Deadpool (Pro) (Stern, 2018) was removed from High Key Brewing Co in Saskatoon by ultimatemaximus',\n",
       "   'region_id': None,\n",
       "   'created_at': '2025-07-12T15:52:52.653-07:00',\n",
       "   'updated_at': '2025-07-12T15:52:52.653-07:00',\n",
       "   'user_id': 34120,\n",
       "   'location_id': 25803,\n",
       "   'machine_id': 3022,\n",
       "   'comment': None,\n",
       "   'user_name': 'ultimatemaximus',\n",
       "   'location_name': 'High Key Brewing Co',\n",
       "   'machine_name': 'Deadpool (Pro) (Stern, 2018)',\n",
       "   'high_score': None,\n",
       "   'city_name': 'Saskatoon',\n",
       "   'lat': 52.1308451,\n",
       "   'lon': -106.6640957},\n",
       "  {'id': 517849,\n",
       "   'submission_type': 'new_condition',\n",
       "   'submission': \"coengato commented on Breakshot (Capcom, 1996) at Broncos Pub and Grill in Pilot Butte. They said: Don't use toonies it'll just gobble it and wont give you games\",\n",
       "   'region_id': None,\n",
       "   'created_at': '2025-07-12T15:41:27.836-07:00',\n",
       "   'updated_at': '2025-07-12T15:41:27.836-07:00',\n",
       "   'user_id': 32739,\n",
       "   'location_id': 19281,\n",
       "   'machine_id': 857,\n",
       "   'comment': \"Don't use toonies it'll just gobble it and wont give you games\",\n",
       "   'user_name': 'coengato',\n",
       "   'location_name': 'Broncos Pub and Grill',\n",
       "   'machine_name': 'Breakshot (Capcom, 1996)',\n",
       "   'high_score': None,\n",
       "   'city_name': 'Pilot Butte',\n",
       "   'lat': 50.4784318,\n",
       "   'lon': -104.4336221},\n",
       "  {'id': 517839,\n",
       "   'submission_type': 'new_condition',\n",
       "   'submission': \"coengato commented on Family Guy (Stern, 2006) at Pile O' Bones Brewing Company in Regina. They said: Not sure if it's settings or an issue but the death drop target will not come up and the ball saver post won't either but not a big deal.\",\n",
       "   'region_id': None,\n",
       "   'created_at': '2025-07-12T14:48:29.994-07:00',\n",
       "   'updated_at': '2025-07-12T14:48:29.994-07:00',\n",
       "   'user_id': 32739,\n",
       "   'location_id': 15861,\n",
       "   'machine_id': 664,\n",
       "   'comment': \"Not sure if it's settings or an issue but the death drop target will not come up and the ball saver post won't either but not a big deal.\",\n",
       "   'user_name': 'coengato',\n",
       "   'location_name': \"Pile O' Bones Brewing Company\",\n",
       "   'machine_name': 'Family Guy (Stern, 2006)',\n",
       "   'high_score': None,\n",
       "   'city_name': 'Regina',\n",
       "   'lat': 50.4495253,\n",
       "   'lon': -104.6256328},\n",
       "  {'id': 517837,\n",
       "   'submission_type': 'confirm_location',\n",
       "   'submission': \"coengato confirmed the lineup at Pile O' Bones Brewing Company in Regina\",\n",
       "   'region_id': None,\n",
       "   'created_at': '2025-07-12T14:47:23.996-07:00',\n",
       "   'updated_at': '2025-07-12T14:47:23.996-07:00',\n",
       "   'user_id': 32739,\n",
       "   'location_id': 15861,\n",
       "   'machine_id': None,\n",
       "   'comment': None,\n",
       "   'user_name': 'coengato',\n",
       "   'location_name': \"Pile O' Bones Brewing Company\",\n",
       "   'machine_name': None,\n",
       "   'high_score': None,\n",
       "   'city_name': 'Regina',\n",
       "   'lat': 50.4495253,\n",
       "   'lon': -104.6256328},\n",
       "  {'id': 517833,\n",
       "   'submission_type': 'new_condition',\n",
       "   'submission': 'coengato commented on Rolling Stones (Bally, 1979) at Broncos Pub and Grill in Pilot Butte. They said: The tilt bob is extremely close to the ring so pretty much no nudging allowed',\n",
       "   'region_id': None,\n",
       "   'created_at': '2025-07-12T14:42:28.616-07:00',\n",
       "   'updated_at': '2025-07-12T14:42:28.616-07:00',\n",
       "   'user_id': 32739,\n",
       "   'location_id': 19281,\n",
       "   'machine_id': 1087,\n",
       "   'comment': 'The tilt bob is extremely close to the ring so pretty much no nudging allowed',\n",
       "   'user_name': 'coengato',\n",
       "   'location_name': 'Broncos Pub and Grill',\n",
       "   'machine_name': 'Rolling Stones (Bally, 1979)',\n",
       "   'high_score': None,\n",
       "   'city_name': 'Pilot Butte',\n",
       "   'lat': 50.4784318,\n",
       "   'lon': -104.4336221},\n",
       "  {'id': 517831,\n",
       "   'submission_type': 'new_condition',\n",
       "   'submission': 'coengato commented on Magic Clock (Williams, 1960) at 306 Shop in Regina. They said: Flipper is bent backwards, in other words unplayable',\n",
       "   'region_id': None,\n",
       "   'created_at': '2025-07-12T14:37:32.637-07:00',\n",
       "   'updated_at': '2025-07-12T14:37:32.637-07:00',\n",
       "   'user_id': 32739,\n",
       "   'location_id': 19762,\n",
       "   'machine_id': 4027,\n",
       "   'comment': 'Flipper is bent backwards, in other words unplayable',\n",
       "   'user_name': 'coengato',\n",
       "   'location_name': '306 Shop',\n",
       "   'machine_name': 'Magic Clock (Williams, 1960)',\n",
       "   'high_score': None,\n",
       "   'city_name': 'Regina',\n",
       "   'lat': 50.4855124,\n",
       "   'lon': -104.6152982},\n",
       "  {'id': 517805,\n",
       "   'submission_type': 'new_condition',\n",
       "   'submission': \"mcfeatters commented on High Roller Casino (Stern, 2001) at Rock 'N Roll Pinball in Opelika. They said: Currently out of order\",\n",
       "   'region_id': None,\n",
       "   'created_at': '2025-07-12T12:30:39.623-07:00',\n",
       "   'updated_at': '2025-07-12T12:30:39.623-07:00',\n",
       "   'user_id': 10763,\n",
       "   'location_id': 15007,\n",
       "   'machine_id': 666,\n",
       "   'comment': 'Currently out of order',\n",
       "   'user_name': 'mcfeatters',\n",
       "   'location_name': \"Rock 'N Roll Pinball\",\n",
       "   'machine_name': 'High Roller Casino (Stern, 2001)',\n",
       "   'high_score': None,\n",
       "   'city_name': 'Opelika',\n",
       "   'lat': 32.647576,\n",
       "   'lon': -85.3794675}]}"
      ]
     },
     "execution_count": 70,
     "metadata": {},
     "output_type": "execute_result"
    }
   ],
   "source": [
    "response = requests.get(f\"{url}user_submissions\")\n",
    "response.json()"
   ]
  },
  {
   "cell_type": "code",
   "execution_count": 71,
   "id": "f59f7f06",
   "metadata": {},
   "outputs": [],
   "source": [
    "pm_user_submits = pd.DataFrame(response.json()['user_submissions'])"
   ]
  },
  {
   "cell_type": "code",
   "execution_count": 72,
   "id": "bd35c17f",
   "metadata": {},
   "outputs": [
    {
     "data": {
      "application/vnd.microsoft.datawrangler.viewer.v0+json": {
       "columns": [
        {
         "name": "submission_type",
         "rawType": "object",
         "type": "string"
        },
        {
         "name": "count",
         "rawType": "int64",
         "type": "integer"
        }
       ],
       "ref": "1d5a0d66-8df9-4004-8d53-86753295e044",
       "rows": [
        [
         "new_lmx",
         "61"
        ],
        [
         "remove_machine",
         "59"
        ],
        [
         "new_msx",
         "48"
        ],
        [
         "new_condition",
         "22"
        ],
        [
         "confirm_location",
         "10"
        ]
       ],
       "shape": {
        "columns": 1,
        "rows": 5
       }
      },
      "text/plain": [
       "submission_type\n",
       "new_lmx             61\n",
       "remove_machine      59\n",
       "new_msx             48\n",
       "new_condition       22\n",
       "confirm_location    10\n",
       "Name: count, dtype: int64"
      ]
     },
     "execution_count": 72,
     "metadata": {},
     "output_type": "execute_result"
    }
   ],
   "source": [
    "pm_user_submits['submission_type'].value_counts()"
   ]
  },
  {
   "cell_type": "markdown",
   "id": "38c82b07",
   "metadata": {},
   "source": [
    "# Data dictionary questions\n",
    "1. What is `new_lmx`\n",
    "2. What is `msx`"
   ]
  },
  {
   "cell_type": "code",
   "execution_count": 73,
   "id": "33c9f07f",
   "metadata": {},
   "outputs": [],
   "source": [
    "## Google search trends data\n",
    "\n",
    "us_search = pd.read_csv('us_gtrends.csv', header=1)\n",
    "us_search.rename(columns={'Month':'month','pinball: (United States)': 'search'}, inplace=True)"
   ]
  },
  {
   "cell_type": "code",
   "execution_count": 74,
   "id": "499c803d",
   "metadata": {},
   "outputs": [
    {
     "data": {
      "application/vnd.plotly.v1+json": {
       "config": {
        "plotlyServerURL": "https://plot.ly"
       },
       "data": [
        {
         "hovertemplate": "month=%{x}<br>search=%{y}<extra></extra>",
         "legendgroup": "",
         "line": {
          "color": "#636efa",
          "dash": "solid"
         },
         "marker": {
          "symbol": "circle"
         },
         "mode": "lines",
         "name": "",
         "orientation": "v",
         "showlegend": false,
         "type": "scatter",
         "x": [
          "2004-01",
          "2004-02",
          "2004-03",
          "2004-04",
          "2004-05",
          "2004-06",
          "2004-07",
          "2004-08",
          "2004-09",
          "2004-10",
          "2004-11",
          "2004-12",
          "2005-01",
          "2005-02",
          "2005-03",
          "2005-04",
          "2005-05",
          "2005-06",
          "2005-07",
          "2005-08",
          "2005-09",
          "2005-10",
          "2005-11",
          "2005-12",
          "2006-01",
          "2006-02",
          "2006-03",
          "2006-04",
          "2006-05",
          "2006-06",
          "2006-07",
          "2006-08",
          "2006-09",
          "2006-10",
          "2006-11",
          "2006-12",
          "2007-01",
          "2007-02",
          "2007-03",
          "2007-04",
          "2007-05",
          "2007-06",
          "2007-07",
          "2007-08",
          "2007-09",
          "2007-10",
          "2007-11",
          "2007-12",
          "2008-01",
          "2008-02",
          "2008-03",
          "2008-04",
          "2008-05",
          "2008-06",
          "2008-07",
          "2008-08",
          "2008-09",
          "2008-10",
          "2008-11",
          "2008-12",
          "2009-01",
          "2009-02",
          "2009-03",
          "2009-04",
          "2009-05",
          "2009-06",
          "2009-07",
          "2009-08",
          "2009-09",
          "2009-10",
          "2009-11",
          "2009-12",
          "2010-01",
          "2010-02",
          "2010-03",
          "2010-04",
          "2010-05",
          "2010-06",
          "2010-07",
          "2010-08",
          "2010-09",
          "2010-10",
          "2010-11",
          "2010-12",
          "2011-01",
          "2011-02",
          "2011-03",
          "2011-04",
          "2011-05",
          "2011-06",
          "2011-07",
          "2011-08",
          "2011-09",
          "2011-10",
          "2011-11",
          "2011-12",
          "2012-01",
          "2012-02",
          "2012-03",
          "2012-04",
          "2012-05",
          "2012-06",
          "2012-07",
          "2012-08",
          "2012-09",
          "2012-10",
          "2012-11",
          "2012-12",
          "2013-01",
          "2013-02",
          "2013-03",
          "2013-04",
          "2013-05",
          "2013-06",
          "2013-07",
          "2013-08",
          "2013-09",
          "2013-10",
          "2013-11",
          "2013-12",
          "2014-01",
          "2014-02",
          "2014-03",
          "2014-04",
          "2014-05",
          "2014-06",
          "2014-07",
          "2014-08",
          "2014-09",
          "2014-10",
          "2014-11",
          "2014-12",
          "2015-01",
          "2015-02",
          "2015-03",
          "2015-04",
          "2015-05",
          "2015-06",
          "2015-07",
          "2015-08",
          "2015-09",
          "2015-10",
          "2015-11",
          "2015-12",
          "2016-01",
          "2016-02",
          "2016-03",
          "2016-04",
          "2016-05",
          "2016-06",
          "2016-07",
          "2016-08",
          "2016-09",
          "2016-10",
          "2016-11",
          "2016-12",
          "2017-01",
          "2017-02",
          "2017-03",
          "2017-04",
          "2017-05",
          "2017-06",
          "2017-07",
          "2017-08",
          "2017-09",
          "2017-10",
          "2017-11",
          "2017-12",
          "2018-01",
          "2018-02",
          "2018-03",
          "2018-04",
          "2018-05",
          "2018-06",
          "2018-07",
          "2018-08",
          "2018-09",
          "2018-10",
          "2018-11",
          "2018-12",
          "2019-01",
          "2019-02",
          "2019-03",
          "2019-04",
          "2019-05",
          "2019-06",
          "2019-07",
          "2019-08",
          "2019-09",
          "2019-10",
          "2019-11",
          "2019-12",
          "2020-01",
          "2020-02",
          "2020-03",
          "2020-04",
          "2020-05",
          "2020-06",
          "2020-07",
          "2020-08",
          "2020-09",
          "2020-10",
          "2020-11",
          "2020-12",
          "2021-01",
          "2021-02",
          "2021-03",
          "2021-04",
          "2021-05",
          "2021-06",
          "2021-07",
          "2021-08",
          "2021-09",
          "2021-10",
          "2021-11",
          "2021-12",
          "2022-01",
          "2022-02",
          "2022-03",
          "2022-04",
          "2022-05",
          "2022-06",
          "2022-07",
          "2022-08",
          "2022-09",
          "2022-10",
          "2022-11",
          "2022-12",
          "2023-01",
          "2023-02",
          "2023-03",
          "2023-04",
          "2023-05",
          "2023-06",
          "2023-07",
          "2023-08",
          "2023-09",
          "2023-10",
          "2023-11",
          "2023-12",
          "2024-01",
          "2024-02",
          "2024-03",
          "2024-04",
          "2024-05",
          "2024-06",
          "2024-07",
          "2024-08",
          "2024-09",
          "2024-10",
          "2024-11",
          "2024-12",
          "2025-01",
          "2025-02",
          "2025-03",
          "2025-04",
          "2025-05",
          "2025-06",
          "2025-07"
         ],
         "xaxis": "x",
         "y": {
          "bdata": "YlZSSlJVU1hOVl5kTEdPQkQ/RUI6QE1VRUE8Ojo4Pjs4PkVGNzo0NDMzMTc0MD46MzM0NjIwMTUvLzc3MzExLjQvLjErMjY0Mz05LzArKSkoLS82NDEwLy4sLS0qKiswLy4vMTEuLDEsJScqKCsrJSUlJCQhIygoJSIiIiIgISMgJCMkJiAiICIgIiEeICAjJCEhHyEfIB8dHyAiIiMiISAfIiEdISMmIyUnIyYjJCMhIiUmJCUnIiIoJCMjIyUoJiUdHBweHR0cHx0hHx8fICAfIyAhICQmKigqKCQkKSglJSguKysyKSUkKiYlKCsyKyotKCYmJSYmIygqKyUpJSIoJA==",
          "dtype": "i1"
         },
         "yaxis": "y"
        }
       ],
       "layout": {
        "legend": {
         "tracegroupgap": 0
        },
        "template": {
         "data": {
          "bar": [
           {
            "error_x": {
             "color": "#2a3f5f"
            },
            "error_y": {
             "color": "#2a3f5f"
            },
            "marker": {
             "line": {
              "color": "white",
              "width": 0.5
             },
             "pattern": {
              "fillmode": "overlay",
              "size": 10,
              "solidity": 0.2
             }
            },
            "type": "bar"
           }
          ],
          "barpolar": [
           {
            "marker": {
             "line": {
              "color": "white",
              "width": 0.5
             },
             "pattern": {
              "fillmode": "overlay",
              "size": 10,
              "solidity": 0.2
             }
            },
            "type": "barpolar"
           }
          ],
          "carpet": [
           {
            "aaxis": {
             "endlinecolor": "#2a3f5f",
             "gridcolor": "#C8D4E3",
             "linecolor": "#C8D4E3",
             "minorgridcolor": "#C8D4E3",
             "startlinecolor": "#2a3f5f"
            },
            "baxis": {
             "endlinecolor": "#2a3f5f",
             "gridcolor": "#C8D4E3",
             "linecolor": "#C8D4E3",
             "minorgridcolor": "#C8D4E3",
             "startlinecolor": "#2a3f5f"
            },
            "type": "carpet"
           }
          ],
          "choropleth": [
           {
            "colorbar": {
             "outlinewidth": 0,
             "ticks": ""
            },
            "type": "choropleth"
           }
          ],
          "contour": [
           {
            "colorbar": {
             "outlinewidth": 0,
             "ticks": ""
            },
            "colorscale": [
             [
              0,
              "#0d0887"
             ],
             [
              0.1111111111111111,
              "#46039f"
             ],
             [
              0.2222222222222222,
              "#7201a8"
             ],
             [
              0.3333333333333333,
              "#9c179e"
             ],
             [
              0.4444444444444444,
              "#bd3786"
             ],
             [
              0.5555555555555556,
              "#d8576b"
             ],
             [
              0.6666666666666666,
              "#ed7953"
             ],
             [
              0.7777777777777778,
              "#fb9f3a"
             ],
             [
              0.8888888888888888,
              "#fdca26"
             ],
             [
              1,
              "#f0f921"
             ]
            ],
            "type": "contour"
           }
          ],
          "contourcarpet": [
           {
            "colorbar": {
             "outlinewidth": 0,
             "ticks": ""
            },
            "type": "contourcarpet"
           }
          ],
          "heatmap": [
           {
            "colorbar": {
             "outlinewidth": 0,
             "ticks": ""
            },
            "colorscale": [
             [
              0,
              "#0d0887"
             ],
             [
              0.1111111111111111,
              "#46039f"
             ],
             [
              0.2222222222222222,
              "#7201a8"
             ],
             [
              0.3333333333333333,
              "#9c179e"
             ],
             [
              0.4444444444444444,
              "#bd3786"
             ],
             [
              0.5555555555555556,
              "#d8576b"
             ],
             [
              0.6666666666666666,
              "#ed7953"
             ],
             [
              0.7777777777777778,
              "#fb9f3a"
             ],
             [
              0.8888888888888888,
              "#fdca26"
             ],
             [
              1,
              "#f0f921"
             ]
            ],
            "type": "heatmap"
           }
          ],
          "histogram": [
           {
            "marker": {
             "pattern": {
              "fillmode": "overlay",
              "size": 10,
              "solidity": 0.2
             }
            },
            "type": "histogram"
           }
          ],
          "histogram2d": [
           {
            "colorbar": {
             "outlinewidth": 0,
             "ticks": ""
            },
            "colorscale": [
             [
              0,
              "#0d0887"
             ],
             [
              0.1111111111111111,
              "#46039f"
             ],
             [
              0.2222222222222222,
              "#7201a8"
             ],
             [
              0.3333333333333333,
              "#9c179e"
             ],
             [
              0.4444444444444444,
              "#bd3786"
             ],
             [
              0.5555555555555556,
              "#d8576b"
             ],
             [
              0.6666666666666666,
              "#ed7953"
             ],
             [
              0.7777777777777778,
              "#fb9f3a"
             ],
             [
              0.8888888888888888,
              "#fdca26"
             ],
             [
              1,
              "#f0f921"
             ]
            ],
            "type": "histogram2d"
           }
          ],
          "histogram2dcontour": [
           {
            "colorbar": {
             "outlinewidth": 0,
             "ticks": ""
            },
            "colorscale": [
             [
              0,
              "#0d0887"
             ],
             [
              0.1111111111111111,
              "#46039f"
             ],
             [
              0.2222222222222222,
              "#7201a8"
             ],
             [
              0.3333333333333333,
              "#9c179e"
             ],
             [
              0.4444444444444444,
              "#bd3786"
             ],
             [
              0.5555555555555556,
              "#d8576b"
             ],
             [
              0.6666666666666666,
              "#ed7953"
             ],
             [
              0.7777777777777778,
              "#fb9f3a"
             ],
             [
              0.8888888888888888,
              "#fdca26"
             ],
             [
              1,
              "#f0f921"
             ]
            ],
            "type": "histogram2dcontour"
           }
          ],
          "mesh3d": [
           {
            "colorbar": {
             "outlinewidth": 0,
             "ticks": ""
            },
            "type": "mesh3d"
           }
          ],
          "parcoords": [
           {
            "line": {
             "colorbar": {
              "outlinewidth": 0,
              "ticks": ""
             }
            },
            "type": "parcoords"
           }
          ],
          "pie": [
           {
            "automargin": true,
            "type": "pie"
           }
          ],
          "scatter": [
           {
            "fillpattern": {
             "fillmode": "overlay",
             "size": 10,
             "solidity": 0.2
            },
            "type": "scatter"
           }
          ],
          "scatter3d": [
           {
            "line": {
             "colorbar": {
              "outlinewidth": 0,
              "ticks": ""
             }
            },
            "marker": {
             "colorbar": {
              "outlinewidth": 0,
              "ticks": ""
             }
            },
            "type": "scatter3d"
           }
          ],
          "scattercarpet": [
           {
            "marker": {
             "colorbar": {
              "outlinewidth": 0,
              "ticks": ""
             }
            },
            "type": "scattercarpet"
           }
          ],
          "scattergeo": [
           {
            "marker": {
             "colorbar": {
              "outlinewidth": 0,
              "ticks": ""
             }
            },
            "type": "scattergeo"
           }
          ],
          "scattergl": [
           {
            "marker": {
             "colorbar": {
              "outlinewidth": 0,
              "ticks": ""
             }
            },
            "type": "scattergl"
           }
          ],
          "scattermap": [
           {
            "marker": {
             "colorbar": {
              "outlinewidth": 0,
              "ticks": ""
             }
            },
            "type": "scattermap"
           }
          ],
          "scattermapbox": [
           {
            "marker": {
             "colorbar": {
              "outlinewidth": 0,
              "ticks": ""
             }
            },
            "type": "scattermapbox"
           }
          ],
          "scatterpolar": [
           {
            "marker": {
             "colorbar": {
              "outlinewidth": 0,
              "ticks": ""
             }
            },
            "type": "scatterpolar"
           }
          ],
          "scatterpolargl": [
           {
            "marker": {
             "colorbar": {
              "outlinewidth": 0,
              "ticks": ""
             }
            },
            "type": "scatterpolargl"
           }
          ],
          "scatterternary": [
           {
            "marker": {
             "colorbar": {
              "outlinewidth": 0,
              "ticks": ""
             }
            },
            "type": "scatterternary"
           }
          ],
          "surface": [
           {
            "colorbar": {
             "outlinewidth": 0,
             "ticks": ""
            },
            "colorscale": [
             [
              0,
              "#0d0887"
             ],
             [
              0.1111111111111111,
              "#46039f"
             ],
             [
              0.2222222222222222,
              "#7201a8"
             ],
             [
              0.3333333333333333,
              "#9c179e"
             ],
             [
              0.4444444444444444,
              "#bd3786"
             ],
             [
              0.5555555555555556,
              "#d8576b"
             ],
             [
              0.6666666666666666,
              "#ed7953"
             ],
             [
              0.7777777777777778,
              "#fb9f3a"
             ],
             [
              0.8888888888888888,
              "#fdca26"
             ],
             [
              1,
              "#f0f921"
             ]
            ],
            "type": "surface"
           }
          ],
          "table": [
           {
            "cells": {
             "fill": {
              "color": "#EBF0F8"
             },
             "line": {
              "color": "white"
             }
            },
            "header": {
             "fill": {
              "color": "#C8D4E3"
             },
             "line": {
              "color": "white"
             }
            },
            "type": "table"
           }
          ]
         },
         "layout": {
          "annotationdefaults": {
           "arrowcolor": "#2a3f5f",
           "arrowhead": 0,
           "arrowwidth": 1
          },
          "autotypenumbers": "strict",
          "coloraxis": {
           "colorbar": {
            "outlinewidth": 0,
            "ticks": ""
           }
          },
          "colorscale": {
           "diverging": [
            [
             0,
             "#8e0152"
            ],
            [
             0.1,
             "#c51b7d"
            ],
            [
             0.2,
             "#de77ae"
            ],
            [
             0.3,
             "#f1b6da"
            ],
            [
             0.4,
             "#fde0ef"
            ],
            [
             0.5,
             "#f7f7f7"
            ],
            [
             0.6,
             "#e6f5d0"
            ],
            [
             0.7,
             "#b8e186"
            ],
            [
             0.8,
             "#7fbc41"
            ],
            [
             0.9,
             "#4d9221"
            ],
            [
             1,
             "#276419"
            ]
           ],
           "sequential": [
            [
             0,
             "#0d0887"
            ],
            [
             0.1111111111111111,
             "#46039f"
            ],
            [
             0.2222222222222222,
             "#7201a8"
            ],
            [
             0.3333333333333333,
             "#9c179e"
            ],
            [
             0.4444444444444444,
             "#bd3786"
            ],
            [
             0.5555555555555556,
             "#d8576b"
            ],
            [
             0.6666666666666666,
             "#ed7953"
            ],
            [
             0.7777777777777778,
             "#fb9f3a"
            ],
            [
             0.8888888888888888,
             "#fdca26"
            ],
            [
             1,
             "#f0f921"
            ]
           ],
           "sequentialminus": [
            [
             0,
             "#0d0887"
            ],
            [
             0.1111111111111111,
             "#46039f"
            ],
            [
             0.2222222222222222,
             "#7201a8"
            ],
            [
             0.3333333333333333,
             "#9c179e"
            ],
            [
             0.4444444444444444,
             "#bd3786"
            ],
            [
             0.5555555555555556,
             "#d8576b"
            ],
            [
             0.6666666666666666,
             "#ed7953"
            ],
            [
             0.7777777777777778,
             "#fb9f3a"
            ],
            [
             0.8888888888888888,
             "#fdca26"
            ],
            [
             1,
             "#f0f921"
            ]
           ]
          },
          "colorway": [
           "#636efa",
           "#EF553B",
           "#00cc96",
           "#ab63fa",
           "#FFA15A",
           "#19d3f3",
           "#FF6692",
           "#B6E880",
           "#FF97FF",
           "#FECB52"
          ],
          "font": {
           "color": "#2a3f5f"
          },
          "geo": {
           "bgcolor": "white",
           "lakecolor": "white",
           "landcolor": "white",
           "showlakes": true,
           "showland": true,
           "subunitcolor": "#C8D4E3"
          },
          "hoverlabel": {
           "align": "left"
          },
          "hovermode": "closest",
          "mapbox": {
           "style": "light"
          },
          "paper_bgcolor": "white",
          "plot_bgcolor": "white",
          "polar": {
           "angularaxis": {
            "gridcolor": "#EBF0F8",
            "linecolor": "#EBF0F8",
            "ticks": ""
           },
           "bgcolor": "white",
           "radialaxis": {
            "gridcolor": "#EBF0F8",
            "linecolor": "#EBF0F8",
            "ticks": ""
           }
          },
          "scene": {
           "xaxis": {
            "backgroundcolor": "white",
            "gridcolor": "#DFE8F3",
            "gridwidth": 2,
            "linecolor": "#EBF0F8",
            "showbackground": true,
            "ticks": "",
            "zerolinecolor": "#EBF0F8"
           },
           "yaxis": {
            "backgroundcolor": "white",
            "gridcolor": "#DFE8F3",
            "gridwidth": 2,
            "linecolor": "#EBF0F8",
            "showbackground": true,
            "ticks": "",
            "zerolinecolor": "#EBF0F8"
           },
           "zaxis": {
            "backgroundcolor": "white",
            "gridcolor": "#DFE8F3",
            "gridwidth": 2,
            "linecolor": "#EBF0F8",
            "showbackground": true,
            "ticks": "",
            "zerolinecolor": "#EBF0F8"
           }
          },
          "shapedefaults": {
           "line": {
            "color": "#2a3f5f"
           }
          },
          "ternary": {
           "aaxis": {
            "gridcolor": "#DFE8F3",
            "linecolor": "#A2B1C6",
            "ticks": ""
           },
           "baxis": {
            "gridcolor": "#DFE8F3",
            "linecolor": "#A2B1C6",
            "ticks": ""
           },
           "bgcolor": "white",
           "caxis": {
            "gridcolor": "#DFE8F3",
            "linecolor": "#A2B1C6",
            "ticks": ""
           }
          },
          "title": {
           "x": 0.05
          },
          "xaxis": {
           "automargin": true,
           "gridcolor": "#EBF0F8",
           "linecolor": "#EBF0F8",
           "ticks": "",
           "title": {
            "standoff": 15
           },
           "zerolinecolor": "#EBF0F8",
           "zerolinewidth": 2
          },
          "yaxis": {
           "automargin": true,
           "gridcolor": "#EBF0F8",
           "linecolor": "#EBF0F8",
           "ticks": "",
           "title": {
            "standoff": 15
           },
           "zerolinecolor": "#EBF0F8",
           "zerolinewidth": 2
          }
         }
        },
        "title": {
         "text": "US Search Trends"
        },
        "xaxis": {
         "anchor": "y",
         "domain": [
          0,
          1
         ],
         "title": {
          "text": "month"
         }
        },
        "yaxis": {
         "anchor": "x",
         "domain": [
          0,
          1
         ],
         "title": {
          "text": "search"
         }
        }
       }
      }
     },
     "metadata": {},
     "output_type": "display_data"
    }
   ],
   "source": [
    "fig = px.line(us_search, x='month', y='search',title='US Search Trends')\n",
    "\n",
    "fig.show()"
   ]
  },
  {
   "cell_type": "code",
   "execution_count": 75,
   "id": "13610ce8",
   "metadata": {},
   "outputs": [],
   "source": [
    "## Google search trends data\n",
    "cleve_akron_search = pd.read_csv('cleve-akron_gtrends.csv', header=1)\n",
    "cleve_akron_search.head()\n",
    "cleve_akron_search.rename(columns={'Month':'month','pinball: (Cleveland-Akron (Canton) OH)': 'search'}, inplace=True)"
   ]
  },
  {
   "cell_type": "code",
   "execution_count": 76,
   "id": "33332c2c",
   "metadata": {},
   "outputs": [
    {
     "data": {
      "application/vnd.plotly.v1+json": {
       "config": {
        "plotlyServerURL": "https://plot.ly"
       },
       "data": [
        {
         "hovertemplate": "month=%{x}<br>search=%{y}<extra></extra>",
         "legendgroup": "",
         "line": {
          "color": "#636efa",
          "dash": "solid"
         },
         "marker": {
          "symbol": "circle"
         },
         "mode": "lines",
         "name": "",
         "orientation": "v",
         "showlegend": false,
         "type": "scatter",
         "x": [
          "2004-01",
          "2004-02",
          "2004-03",
          "2004-04",
          "2004-05",
          "2004-06",
          "2004-07",
          "2004-08",
          "2004-09",
          "2004-10",
          "2004-11",
          "2004-12",
          "2005-01",
          "2005-02",
          "2005-03",
          "2005-04",
          "2005-05",
          "2005-06",
          "2005-07",
          "2005-08",
          "2005-09",
          "2005-10",
          "2005-11",
          "2005-12",
          "2006-01",
          "2006-02",
          "2006-03",
          "2006-04",
          "2006-05",
          "2006-06",
          "2006-07",
          "2006-08",
          "2006-09",
          "2006-10",
          "2006-11",
          "2006-12",
          "2007-01",
          "2007-02",
          "2007-03",
          "2007-04",
          "2007-05",
          "2007-06",
          "2007-07",
          "2007-08",
          "2007-09",
          "2007-10",
          "2007-11",
          "2007-12",
          "2008-01",
          "2008-02",
          "2008-03",
          "2008-04",
          "2008-05",
          "2008-06",
          "2008-07",
          "2008-08",
          "2008-09",
          "2008-10",
          "2008-11",
          "2008-12",
          "2009-01",
          "2009-02",
          "2009-03",
          "2009-04",
          "2009-05",
          "2009-06",
          "2009-07",
          "2009-08",
          "2009-09",
          "2009-10",
          "2009-11",
          "2009-12",
          "2010-01",
          "2010-02",
          "2010-03",
          "2010-04",
          "2010-05",
          "2010-06",
          "2010-07",
          "2010-08",
          "2010-09",
          "2010-10",
          "2010-11",
          "2010-12",
          "2011-01",
          "2011-02",
          "2011-03",
          "2011-04",
          "2011-05",
          "2011-06",
          "2011-07",
          "2011-08",
          "2011-09",
          "2011-10",
          "2011-11",
          "2011-12",
          "2012-01",
          "2012-02",
          "2012-03",
          "2012-04",
          "2012-05",
          "2012-06",
          "2012-07",
          "2012-08",
          "2012-09",
          "2012-10",
          "2012-11",
          "2012-12",
          "2013-01",
          "2013-02",
          "2013-03",
          "2013-04",
          "2013-05",
          "2013-06",
          "2013-07",
          "2013-08",
          "2013-09",
          "2013-10",
          "2013-11",
          "2013-12",
          "2014-01",
          "2014-02",
          "2014-03",
          "2014-04",
          "2014-05",
          "2014-06",
          "2014-07",
          "2014-08",
          "2014-09",
          "2014-10",
          "2014-11",
          "2014-12",
          "2015-01",
          "2015-02",
          "2015-03",
          "2015-04",
          "2015-05",
          "2015-06",
          "2015-07",
          "2015-08",
          "2015-09",
          "2015-10",
          "2015-11",
          "2015-12",
          "2016-01",
          "2016-02",
          "2016-03",
          "2016-04",
          "2016-05",
          "2016-06",
          "2016-07",
          "2016-08",
          "2016-09",
          "2016-10",
          "2016-11",
          "2016-12",
          "2017-01",
          "2017-02",
          "2017-03",
          "2017-04",
          "2017-05",
          "2017-06",
          "2017-07",
          "2017-08",
          "2017-09",
          "2017-10",
          "2017-11",
          "2017-12",
          "2018-01",
          "2018-02",
          "2018-03",
          "2018-04",
          "2018-05",
          "2018-06",
          "2018-07",
          "2018-08",
          "2018-09",
          "2018-10",
          "2018-11",
          "2018-12",
          "2019-01",
          "2019-02",
          "2019-03",
          "2019-04",
          "2019-05",
          "2019-06",
          "2019-07",
          "2019-08",
          "2019-09",
          "2019-10",
          "2019-11",
          "2019-12",
          "2020-01",
          "2020-02",
          "2020-03",
          "2020-04",
          "2020-05",
          "2020-06",
          "2020-07",
          "2020-08",
          "2020-09",
          "2020-10",
          "2020-11",
          "2020-12",
          "2021-01",
          "2021-02",
          "2021-03",
          "2021-04",
          "2021-05",
          "2021-06",
          "2021-07",
          "2021-08",
          "2021-09",
          "2021-10",
          "2021-11",
          "2021-12",
          "2022-01",
          "2022-02",
          "2022-03",
          "2022-04",
          "2022-05",
          "2022-06",
          "2022-07",
          "2022-08",
          "2022-09",
          "2022-10",
          "2022-11",
          "2022-12",
          "2023-01",
          "2023-02",
          "2023-03",
          "2023-04",
          "2023-05",
          "2023-06",
          "2023-07",
          "2023-08",
          "2023-09",
          "2023-10",
          "2023-11",
          "2023-12",
          "2024-01",
          "2024-02",
          "2024-03",
          "2024-04",
          "2024-05",
          "2024-06",
          "2024-07",
          "2024-08",
          "2024-09",
          "2024-10",
          "2024-11",
          "2024-12",
          "2025-01",
          "2025-02",
          "2025-03",
          "2025-04",
          "2025-05",
          "2025-06",
          "2025-07"
         ],
         "xaxis": "x",
         "y": {
          "bdata": "AAAAAABLAEJKVVxSTDJCOQAAQ1YkLzRkJSYlLCceLDcqNkhBNTQqKSInKTIvIkI0KCUrPCQsKCstNCc2JzkqJCccLCkoKzIsLyoyLS8hLzUtMTYyLConMzMoISYpJSclICUvLiYoKCIjJyssHygnIR0cHRoaFxstKSYlHiMfFyQkHiomJB8lHx8ZHyQmIRwpHB8jHBgYGBofGBwcISAnIx0XGxwfHRsfHiElIR4bHR8mHCIjJCMjICMcHx4cICEiIB8cFhUWFxcXGhohHh8dHRwZGxwbHSQoIiolJiMlJCIrJioqLisvLR8gISgrIysrKSYkIB8aIygqJCcoKyUpJSUmJA==",
          "dtype": "i1"
         },
         "yaxis": "y"
        }
       ],
       "layout": {
        "legend": {
         "tracegroupgap": 0
        },
        "template": {
         "data": {
          "bar": [
           {
            "error_x": {
             "color": "#2a3f5f"
            },
            "error_y": {
             "color": "#2a3f5f"
            },
            "marker": {
             "line": {
              "color": "white",
              "width": 0.5
             },
             "pattern": {
              "fillmode": "overlay",
              "size": 10,
              "solidity": 0.2
             }
            },
            "type": "bar"
           }
          ],
          "barpolar": [
           {
            "marker": {
             "line": {
              "color": "white",
              "width": 0.5
             },
             "pattern": {
              "fillmode": "overlay",
              "size": 10,
              "solidity": 0.2
             }
            },
            "type": "barpolar"
           }
          ],
          "carpet": [
           {
            "aaxis": {
             "endlinecolor": "#2a3f5f",
             "gridcolor": "#C8D4E3",
             "linecolor": "#C8D4E3",
             "minorgridcolor": "#C8D4E3",
             "startlinecolor": "#2a3f5f"
            },
            "baxis": {
             "endlinecolor": "#2a3f5f",
             "gridcolor": "#C8D4E3",
             "linecolor": "#C8D4E3",
             "minorgridcolor": "#C8D4E3",
             "startlinecolor": "#2a3f5f"
            },
            "type": "carpet"
           }
          ],
          "choropleth": [
           {
            "colorbar": {
             "outlinewidth": 0,
             "ticks": ""
            },
            "type": "choropleth"
           }
          ],
          "contour": [
           {
            "colorbar": {
             "outlinewidth": 0,
             "ticks": ""
            },
            "colorscale": [
             [
              0,
              "#0d0887"
             ],
             [
              0.1111111111111111,
              "#46039f"
             ],
             [
              0.2222222222222222,
              "#7201a8"
             ],
             [
              0.3333333333333333,
              "#9c179e"
             ],
             [
              0.4444444444444444,
              "#bd3786"
             ],
             [
              0.5555555555555556,
              "#d8576b"
             ],
             [
              0.6666666666666666,
              "#ed7953"
             ],
             [
              0.7777777777777778,
              "#fb9f3a"
             ],
             [
              0.8888888888888888,
              "#fdca26"
             ],
             [
              1,
              "#f0f921"
             ]
            ],
            "type": "contour"
           }
          ],
          "contourcarpet": [
           {
            "colorbar": {
             "outlinewidth": 0,
             "ticks": ""
            },
            "type": "contourcarpet"
           }
          ],
          "heatmap": [
           {
            "colorbar": {
             "outlinewidth": 0,
             "ticks": ""
            },
            "colorscale": [
             [
              0,
              "#0d0887"
             ],
             [
              0.1111111111111111,
              "#46039f"
             ],
             [
              0.2222222222222222,
              "#7201a8"
             ],
             [
              0.3333333333333333,
              "#9c179e"
             ],
             [
              0.4444444444444444,
              "#bd3786"
             ],
             [
              0.5555555555555556,
              "#d8576b"
             ],
             [
              0.6666666666666666,
              "#ed7953"
             ],
             [
              0.7777777777777778,
              "#fb9f3a"
             ],
             [
              0.8888888888888888,
              "#fdca26"
             ],
             [
              1,
              "#f0f921"
             ]
            ],
            "type": "heatmap"
           }
          ],
          "histogram": [
           {
            "marker": {
             "pattern": {
              "fillmode": "overlay",
              "size": 10,
              "solidity": 0.2
             }
            },
            "type": "histogram"
           }
          ],
          "histogram2d": [
           {
            "colorbar": {
             "outlinewidth": 0,
             "ticks": ""
            },
            "colorscale": [
             [
              0,
              "#0d0887"
             ],
             [
              0.1111111111111111,
              "#46039f"
             ],
             [
              0.2222222222222222,
              "#7201a8"
             ],
             [
              0.3333333333333333,
              "#9c179e"
             ],
             [
              0.4444444444444444,
              "#bd3786"
             ],
             [
              0.5555555555555556,
              "#d8576b"
             ],
             [
              0.6666666666666666,
              "#ed7953"
             ],
             [
              0.7777777777777778,
              "#fb9f3a"
             ],
             [
              0.8888888888888888,
              "#fdca26"
             ],
             [
              1,
              "#f0f921"
             ]
            ],
            "type": "histogram2d"
           }
          ],
          "histogram2dcontour": [
           {
            "colorbar": {
             "outlinewidth": 0,
             "ticks": ""
            },
            "colorscale": [
             [
              0,
              "#0d0887"
             ],
             [
              0.1111111111111111,
              "#46039f"
             ],
             [
              0.2222222222222222,
              "#7201a8"
             ],
             [
              0.3333333333333333,
              "#9c179e"
             ],
             [
              0.4444444444444444,
              "#bd3786"
             ],
             [
              0.5555555555555556,
              "#d8576b"
             ],
             [
              0.6666666666666666,
              "#ed7953"
             ],
             [
              0.7777777777777778,
              "#fb9f3a"
             ],
             [
              0.8888888888888888,
              "#fdca26"
             ],
             [
              1,
              "#f0f921"
             ]
            ],
            "type": "histogram2dcontour"
           }
          ],
          "mesh3d": [
           {
            "colorbar": {
             "outlinewidth": 0,
             "ticks": ""
            },
            "type": "mesh3d"
           }
          ],
          "parcoords": [
           {
            "line": {
             "colorbar": {
              "outlinewidth": 0,
              "ticks": ""
             }
            },
            "type": "parcoords"
           }
          ],
          "pie": [
           {
            "automargin": true,
            "type": "pie"
           }
          ],
          "scatter": [
           {
            "fillpattern": {
             "fillmode": "overlay",
             "size": 10,
             "solidity": 0.2
            },
            "type": "scatter"
           }
          ],
          "scatter3d": [
           {
            "line": {
             "colorbar": {
              "outlinewidth": 0,
              "ticks": ""
             }
            },
            "marker": {
             "colorbar": {
              "outlinewidth": 0,
              "ticks": ""
             }
            },
            "type": "scatter3d"
           }
          ],
          "scattercarpet": [
           {
            "marker": {
             "colorbar": {
              "outlinewidth": 0,
              "ticks": ""
             }
            },
            "type": "scattercarpet"
           }
          ],
          "scattergeo": [
           {
            "marker": {
             "colorbar": {
              "outlinewidth": 0,
              "ticks": ""
             }
            },
            "type": "scattergeo"
           }
          ],
          "scattergl": [
           {
            "marker": {
             "colorbar": {
              "outlinewidth": 0,
              "ticks": ""
             }
            },
            "type": "scattergl"
           }
          ],
          "scattermap": [
           {
            "marker": {
             "colorbar": {
              "outlinewidth": 0,
              "ticks": ""
             }
            },
            "type": "scattermap"
           }
          ],
          "scattermapbox": [
           {
            "marker": {
             "colorbar": {
              "outlinewidth": 0,
              "ticks": ""
             }
            },
            "type": "scattermapbox"
           }
          ],
          "scatterpolar": [
           {
            "marker": {
             "colorbar": {
              "outlinewidth": 0,
              "ticks": ""
             }
            },
            "type": "scatterpolar"
           }
          ],
          "scatterpolargl": [
           {
            "marker": {
             "colorbar": {
              "outlinewidth": 0,
              "ticks": ""
             }
            },
            "type": "scatterpolargl"
           }
          ],
          "scatterternary": [
           {
            "marker": {
             "colorbar": {
              "outlinewidth": 0,
              "ticks": ""
             }
            },
            "type": "scatterternary"
           }
          ],
          "surface": [
           {
            "colorbar": {
             "outlinewidth": 0,
             "ticks": ""
            },
            "colorscale": [
             [
              0,
              "#0d0887"
             ],
             [
              0.1111111111111111,
              "#46039f"
             ],
             [
              0.2222222222222222,
              "#7201a8"
             ],
             [
              0.3333333333333333,
              "#9c179e"
             ],
             [
              0.4444444444444444,
              "#bd3786"
             ],
             [
              0.5555555555555556,
              "#d8576b"
             ],
             [
              0.6666666666666666,
              "#ed7953"
             ],
             [
              0.7777777777777778,
              "#fb9f3a"
             ],
             [
              0.8888888888888888,
              "#fdca26"
             ],
             [
              1,
              "#f0f921"
             ]
            ],
            "type": "surface"
           }
          ],
          "table": [
           {
            "cells": {
             "fill": {
              "color": "#EBF0F8"
             },
             "line": {
              "color": "white"
             }
            },
            "header": {
             "fill": {
              "color": "#C8D4E3"
             },
             "line": {
              "color": "white"
             }
            },
            "type": "table"
           }
          ]
         },
         "layout": {
          "annotationdefaults": {
           "arrowcolor": "#2a3f5f",
           "arrowhead": 0,
           "arrowwidth": 1
          },
          "autotypenumbers": "strict",
          "coloraxis": {
           "colorbar": {
            "outlinewidth": 0,
            "ticks": ""
           }
          },
          "colorscale": {
           "diverging": [
            [
             0,
             "#8e0152"
            ],
            [
             0.1,
             "#c51b7d"
            ],
            [
             0.2,
             "#de77ae"
            ],
            [
             0.3,
             "#f1b6da"
            ],
            [
             0.4,
             "#fde0ef"
            ],
            [
             0.5,
             "#f7f7f7"
            ],
            [
             0.6,
             "#e6f5d0"
            ],
            [
             0.7,
             "#b8e186"
            ],
            [
             0.8,
             "#7fbc41"
            ],
            [
             0.9,
             "#4d9221"
            ],
            [
             1,
             "#276419"
            ]
           ],
           "sequential": [
            [
             0,
             "#0d0887"
            ],
            [
             0.1111111111111111,
             "#46039f"
            ],
            [
             0.2222222222222222,
             "#7201a8"
            ],
            [
             0.3333333333333333,
             "#9c179e"
            ],
            [
             0.4444444444444444,
             "#bd3786"
            ],
            [
             0.5555555555555556,
             "#d8576b"
            ],
            [
             0.6666666666666666,
             "#ed7953"
            ],
            [
             0.7777777777777778,
             "#fb9f3a"
            ],
            [
             0.8888888888888888,
             "#fdca26"
            ],
            [
             1,
             "#f0f921"
            ]
           ],
           "sequentialminus": [
            [
             0,
             "#0d0887"
            ],
            [
             0.1111111111111111,
             "#46039f"
            ],
            [
             0.2222222222222222,
             "#7201a8"
            ],
            [
             0.3333333333333333,
             "#9c179e"
            ],
            [
             0.4444444444444444,
             "#bd3786"
            ],
            [
             0.5555555555555556,
             "#d8576b"
            ],
            [
             0.6666666666666666,
             "#ed7953"
            ],
            [
             0.7777777777777778,
             "#fb9f3a"
            ],
            [
             0.8888888888888888,
             "#fdca26"
            ],
            [
             1,
             "#f0f921"
            ]
           ]
          },
          "colorway": [
           "#636efa",
           "#EF553B",
           "#00cc96",
           "#ab63fa",
           "#FFA15A",
           "#19d3f3",
           "#FF6692",
           "#B6E880",
           "#FF97FF",
           "#FECB52"
          ],
          "font": {
           "color": "#2a3f5f"
          },
          "geo": {
           "bgcolor": "white",
           "lakecolor": "white",
           "landcolor": "white",
           "showlakes": true,
           "showland": true,
           "subunitcolor": "#C8D4E3"
          },
          "hoverlabel": {
           "align": "left"
          },
          "hovermode": "closest",
          "mapbox": {
           "style": "light"
          },
          "paper_bgcolor": "white",
          "plot_bgcolor": "white",
          "polar": {
           "angularaxis": {
            "gridcolor": "#EBF0F8",
            "linecolor": "#EBF0F8",
            "ticks": ""
           },
           "bgcolor": "white",
           "radialaxis": {
            "gridcolor": "#EBF0F8",
            "linecolor": "#EBF0F8",
            "ticks": ""
           }
          },
          "scene": {
           "xaxis": {
            "backgroundcolor": "white",
            "gridcolor": "#DFE8F3",
            "gridwidth": 2,
            "linecolor": "#EBF0F8",
            "showbackground": true,
            "ticks": "",
            "zerolinecolor": "#EBF0F8"
           },
           "yaxis": {
            "backgroundcolor": "white",
            "gridcolor": "#DFE8F3",
            "gridwidth": 2,
            "linecolor": "#EBF0F8",
            "showbackground": true,
            "ticks": "",
            "zerolinecolor": "#EBF0F8"
           },
           "zaxis": {
            "backgroundcolor": "white",
            "gridcolor": "#DFE8F3",
            "gridwidth": 2,
            "linecolor": "#EBF0F8",
            "showbackground": true,
            "ticks": "",
            "zerolinecolor": "#EBF0F8"
           }
          },
          "shapedefaults": {
           "line": {
            "color": "#2a3f5f"
           }
          },
          "ternary": {
           "aaxis": {
            "gridcolor": "#DFE8F3",
            "linecolor": "#A2B1C6",
            "ticks": ""
           },
           "baxis": {
            "gridcolor": "#DFE8F3",
            "linecolor": "#A2B1C6",
            "ticks": ""
           },
           "bgcolor": "white",
           "caxis": {
            "gridcolor": "#DFE8F3",
            "linecolor": "#A2B1C6",
            "ticks": ""
           }
          },
          "title": {
           "x": 0.05
          },
          "xaxis": {
           "automargin": true,
           "gridcolor": "#EBF0F8",
           "linecolor": "#EBF0F8",
           "ticks": "",
           "title": {
            "standoff": 15
           },
           "zerolinecolor": "#EBF0F8",
           "zerolinewidth": 2
          },
          "yaxis": {
           "automargin": true,
           "gridcolor": "#EBF0F8",
           "linecolor": "#EBF0F8",
           "ticks": "",
           "title": {
            "standoff": 15
           },
           "zerolinecolor": "#EBF0F8",
           "zerolinewidth": 2
          }
         }
        },
        "title": {
         "text": "US Search Trends"
        },
        "xaxis": {
         "anchor": "y",
         "domain": [
          0,
          1
         ],
         "title": {
          "text": "month"
         }
        },
        "yaxis": {
         "anchor": "x",
         "domain": [
          0,
          1
         ],
         "title": {
          "text": "search"
         }
        }
       }
      }
     },
     "metadata": {},
     "output_type": "display_data"
    }
   ],
   "source": [
    "fig = px.line(cleve_akron_search, x='month', y='search',title='US Search Trends')\n",
    "\n",
    "fig.show()"
   ]
  },
  {
   "cell_type": "code",
   "execution_count": 77,
   "id": "98f2a6e7",
   "metadata": {},
   "outputs": [
    {
     "name": "stderr",
     "output_type": "stream",
     "text": [
      "c:\\Users\\nmuff\\.pyenv\\pyenv-win\\versions\\3.12.8\\Lib\\site-packages\\plotly\\graph_objs\\_deprecations.py:378: DeprecationWarning:\n",
      "\n",
      "plotly.graph_objs.Line is deprecated.\n",
      "Please replace it with one of the following more specific types\n",
      "  - plotly.graph_objs.scatter.Line\n",
      "  - plotly.graph_objs.layout.shape.Line\n",
      "  - etc.\n",
      "\n",
      "\n"
     ]
    },
    {
     "data": {
      "application/vnd.plotly.v1+json": {
       "config": {
        "plotlyServerURL": "https://plot.ly"
       },
       "data": [
        {
         "hovertemplate": "month=%{x}<br>search=%{y}<extra></extra>",
         "legendgroup": "",
         "line": {
          "color": "#636efa",
          "dash": "solid"
         },
         "marker": {
          "symbol": "circle"
         },
         "mode": "lines",
         "name": "",
         "orientation": "v",
         "showlegend": false,
         "type": "scatter",
         "x": [
          "2004-01",
          "2004-02",
          "2004-03",
          "2004-04",
          "2004-05",
          "2004-06",
          "2004-07",
          "2004-08",
          "2004-09",
          "2004-10",
          "2004-11",
          "2004-12",
          "2005-01",
          "2005-02",
          "2005-03",
          "2005-04",
          "2005-05",
          "2005-06",
          "2005-07",
          "2005-08",
          "2005-09",
          "2005-10",
          "2005-11",
          "2005-12",
          "2006-01",
          "2006-02",
          "2006-03",
          "2006-04",
          "2006-05",
          "2006-06",
          "2006-07",
          "2006-08",
          "2006-09",
          "2006-10",
          "2006-11",
          "2006-12",
          "2007-01",
          "2007-02",
          "2007-03",
          "2007-04",
          "2007-05",
          "2007-06",
          "2007-07",
          "2007-08",
          "2007-09",
          "2007-10",
          "2007-11",
          "2007-12",
          "2008-01",
          "2008-02",
          "2008-03",
          "2008-04",
          "2008-05",
          "2008-06",
          "2008-07",
          "2008-08",
          "2008-09",
          "2008-10",
          "2008-11",
          "2008-12",
          "2009-01",
          "2009-02",
          "2009-03",
          "2009-04",
          "2009-05",
          "2009-06",
          "2009-07",
          "2009-08",
          "2009-09",
          "2009-10",
          "2009-11",
          "2009-12",
          "2010-01",
          "2010-02",
          "2010-03",
          "2010-04",
          "2010-05",
          "2010-06",
          "2010-07",
          "2010-08",
          "2010-09",
          "2010-10",
          "2010-11",
          "2010-12",
          "2011-01",
          "2011-02",
          "2011-03",
          "2011-04",
          "2011-05",
          "2011-06",
          "2011-07",
          "2011-08",
          "2011-09",
          "2011-10",
          "2011-11",
          "2011-12",
          "2012-01",
          "2012-02",
          "2012-03",
          "2012-04",
          "2012-05",
          "2012-06",
          "2012-07",
          "2012-08",
          "2012-09",
          "2012-10",
          "2012-11",
          "2012-12",
          "2013-01",
          "2013-02",
          "2013-03",
          "2013-04",
          "2013-05",
          "2013-06",
          "2013-07",
          "2013-08",
          "2013-09",
          "2013-10",
          "2013-11",
          "2013-12",
          "2014-01",
          "2014-02",
          "2014-03",
          "2014-04",
          "2014-05",
          "2014-06",
          "2014-07",
          "2014-08",
          "2014-09",
          "2014-10",
          "2014-11",
          "2014-12",
          "2015-01",
          "2015-02",
          "2015-03",
          "2015-04",
          "2015-05",
          "2015-06",
          "2015-07",
          "2015-08",
          "2015-09",
          "2015-10",
          "2015-11",
          "2015-12",
          "2016-01",
          "2016-02",
          "2016-03",
          "2016-04",
          "2016-05",
          "2016-06",
          "2016-07",
          "2016-08",
          "2016-09",
          "2016-10",
          "2016-11",
          "2016-12",
          "2017-01",
          "2017-02",
          "2017-03",
          "2017-04",
          "2017-05",
          "2017-06",
          "2017-07",
          "2017-08",
          "2017-09",
          "2017-10",
          "2017-11",
          "2017-12",
          "2018-01",
          "2018-02",
          "2018-03",
          "2018-04",
          "2018-05",
          "2018-06",
          "2018-07",
          "2018-08",
          "2018-09",
          "2018-10",
          "2018-11",
          "2018-12",
          "2019-01",
          "2019-02",
          "2019-03",
          "2019-04",
          "2019-05",
          "2019-06",
          "2019-07",
          "2019-08",
          "2019-09",
          "2019-10",
          "2019-11",
          "2019-12",
          "2020-01",
          "2020-02",
          "2020-03",
          "2020-04",
          "2020-05",
          "2020-06",
          "2020-07",
          "2020-08",
          "2020-09",
          "2020-10",
          "2020-11",
          "2020-12",
          "2021-01",
          "2021-02",
          "2021-03",
          "2021-04",
          "2021-05",
          "2021-06",
          "2021-07",
          "2021-08",
          "2021-09",
          "2021-10",
          "2021-11",
          "2021-12",
          "2022-01",
          "2022-02",
          "2022-03",
          "2022-04",
          "2022-05",
          "2022-06",
          "2022-07",
          "2022-08",
          "2022-09",
          "2022-10",
          "2022-11",
          "2022-12",
          "2023-01",
          "2023-02",
          "2023-03",
          "2023-04",
          "2023-05",
          "2023-06",
          "2023-07",
          "2023-08",
          "2023-09",
          "2023-10",
          "2023-11",
          "2023-12",
          "2024-01",
          "2024-02",
          "2024-03",
          "2024-04",
          "2024-05",
          "2024-06",
          "2024-07",
          "2024-08",
          "2024-09",
          "2024-10",
          "2024-11",
          "2024-12",
          "2025-01",
          "2025-02",
          "2025-03",
          "2025-04",
          "2025-05",
          "2025-06",
          "2025-07"
         ],
         "xaxis": "x",
         "y": {
          "bdata": "YlZSSlJVU1hOVl5kTEdPQkQ/RUI6QE1VRUE8Ojo4Pjs4PkVGNzo0NDMzMTc0MD46MzM0NjIwMTUvLzc3MzExLjQvLjErMjY0Mz05LzArKSkoLS82NDEwLy4sLS0qKiswLy4vMTEuLDEsJScqKCsrJSUlJCQhIygoJSIiIiIgISMgJCMkJiAiICIgIiEeICAjJCEhHyEfIB8dHyAiIiMiISAfIiEdISMmIyUnIyYjJCMhIiUmJCUnIiIoJCMjIyUoJiUdHBweHR0cHx0hHx8fICAfIyAhICQmKigqKCQkKSglJSguKysyKSUkKiYlKCsyKyotKCYmJSYmIygqKyUpJSIoJA==",
          "dtype": "i1"
         },
         "yaxis": "y"
        },
        {
         "type": "scatter",
         "x": [
          "2004-01",
          "2004-02",
          "2004-03",
          "2004-04",
          "2004-05",
          "2004-06",
          "2004-07",
          "2004-08",
          "2004-09",
          "2004-10",
          "2004-11",
          "2004-12",
          "2005-01",
          "2005-02",
          "2005-03",
          "2005-04",
          "2005-05",
          "2005-06",
          "2005-07",
          "2005-08",
          "2005-09",
          "2005-10",
          "2005-11",
          "2005-12",
          "2006-01",
          "2006-02",
          "2006-03",
          "2006-04",
          "2006-05",
          "2006-06",
          "2006-07",
          "2006-08",
          "2006-09",
          "2006-10",
          "2006-11",
          "2006-12",
          "2007-01",
          "2007-02",
          "2007-03",
          "2007-04",
          "2007-05",
          "2007-06",
          "2007-07",
          "2007-08",
          "2007-09",
          "2007-10",
          "2007-11",
          "2007-12",
          "2008-01",
          "2008-02",
          "2008-03",
          "2008-04",
          "2008-05",
          "2008-06",
          "2008-07",
          "2008-08",
          "2008-09",
          "2008-10",
          "2008-11",
          "2008-12",
          "2009-01",
          "2009-02",
          "2009-03",
          "2009-04",
          "2009-05",
          "2009-06",
          "2009-07",
          "2009-08",
          "2009-09",
          "2009-10",
          "2009-11",
          "2009-12",
          "2010-01",
          "2010-02",
          "2010-03",
          "2010-04",
          "2010-05",
          "2010-06",
          "2010-07",
          "2010-08",
          "2010-09",
          "2010-10",
          "2010-11",
          "2010-12",
          "2011-01",
          "2011-02",
          "2011-03",
          "2011-04",
          "2011-05",
          "2011-06",
          "2011-07",
          "2011-08",
          "2011-09",
          "2011-10",
          "2011-11",
          "2011-12",
          "2012-01",
          "2012-02",
          "2012-03",
          "2012-04",
          "2012-05",
          "2012-06",
          "2012-07",
          "2012-08",
          "2012-09",
          "2012-10",
          "2012-11",
          "2012-12",
          "2013-01",
          "2013-02",
          "2013-03",
          "2013-04",
          "2013-05",
          "2013-06",
          "2013-07",
          "2013-08",
          "2013-09",
          "2013-10",
          "2013-11",
          "2013-12",
          "2014-01",
          "2014-02",
          "2014-03",
          "2014-04",
          "2014-05",
          "2014-06",
          "2014-07",
          "2014-08",
          "2014-09",
          "2014-10",
          "2014-11",
          "2014-12",
          "2015-01",
          "2015-02",
          "2015-03",
          "2015-04",
          "2015-05",
          "2015-06",
          "2015-07",
          "2015-08",
          "2015-09",
          "2015-10",
          "2015-11",
          "2015-12",
          "2016-01",
          "2016-02",
          "2016-03",
          "2016-04",
          "2016-05",
          "2016-06",
          "2016-07",
          "2016-08",
          "2016-09",
          "2016-10",
          "2016-11",
          "2016-12",
          "2017-01",
          "2017-02",
          "2017-03",
          "2017-04",
          "2017-05",
          "2017-06",
          "2017-07",
          "2017-08",
          "2017-09",
          "2017-10",
          "2017-11",
          "2017-12",
          "2018-01",
          "2018-02",
          "2018-03",
          "2018-04",
          "2018-05",
          "2018-06",
          "2018-07",
          "2018-08",
          "2018-09",
          "2018-10",
          "2018-11",
          "2018-12",
          "2019-01",
          "2019-02",
          "2019-03",
          "2019-04",
          "2019-05",
          "2019-06",
          "2019-07",
          "2019-08",
          "2019-09",
          "2019-10",
          "2019-11",
          "2019-12",
          "2020-01",
          "2020-02",
          "2020-03",
          "2020-04",
          "2020-05",
          "2020-06",
          "2020-07",
          "2020-08",
          "2020-09",
          "2020-10",
          "2020-11",
          "2020-12",
          "2021-01",
          "2021-02",
          "2021-03",
          "2021-04",
          "2021-05",
          "2021-06",
          "2021-07",
          "2021-08",
          "2021-09",
          "2021-10",
          "2021-11",
          "2021-12",
          "2022-01",
          "2022-02",
          "2022-03",
          "2022-04",
          "2022-05",
          "2022-06",
          "2022-07",
          "2022-08",
          "2022-09",
          "2022-10",
          "2022-11",
          "2022-12",
          "2023-01",
          "2023-02",
          "2023-03",
          "2023-04",
          "2023-05",
          "2023-06",
          "2023-07",
          "2023-08",
          "2023-09",
          "2023-10",
          "2023-11",
          "2023-12",
          "2024-01",
          "2024-02",
          "2024-03",
          "2024-04",
          "2024-05",
          "2024-06",
          "2024-07",
          "2024-08",
          "2024-09",
          "2024-10",
          "2024-11",
          "2024-12",
          "2025-01",
          "2025-02",
          "2025-03",
          "2025-04",
          "2025-05",
          "2025-06",
          "2025-07"
         ],
         "y": {
          "bdata": "AAAAAABLAEJKVVxSTDJCOQAAQ1YkLzRkJSYlLCceLDcqNkhBNTQqKSInKTIvIkI0KCUrPCQsKCstNCc2JzkqJCccLCkoKzIsLyoyLS8hLzUtMTYyLConMzMoISYpJSclICUvLiYoKCIjJyssHygnIR0cHRoaFxstKSYlHiMfFyQkHiomJB8lHx8ZHyQmIRwpHB8jHBgYGBofGBwcISAnIx0XGxwfHRsfHiElIR4bHR8mHCIjJCMjICMcHx4cICEiIB8cFhUWFxcXGhohHh8dHRwZGxwbHSQoIiolJiMlJCIrJioqLisvLR8gISgrIysrKSYkIB8aIygqJCcoKyUpJSUmJA==",
          "dtype": "i1"
         }
        }
       ],
       "layout": {
        "legend": {
         "tracegroupgap": 0
        },
        "template": {
         "data": {
          "bar": [
           {
            "error_x": {
             "color": "#2a3f5f"
            },
            "error_y": {
             "color": "#2a3f5f"
            },
            "marker": {
             "line": {
              "color": "white",
              "width": 0.5
             },
             "pattern": {
              "fillmode": "overlay",
              "size": 10,
              "solidity": 0.2
             }
            },
            "type": "bar"
           }
          ],
          "barpolar": [
           {
            "marker": {
             "line": {
              "color": "white",
              "width": 0.5
             },
             "pattern": {
              "fillmode": "overlay",
              "size": 10,
              "solidity": 0.2
             }
            },
            "type": "barpolar"
           }
          ],
          "carpet": [
           {
            "aaxis": {
             "endlinecolor": "#2a3f5f",
             "gridcolor": "#C8D4E3",
             "linecolor": "#C8D4E3",
             "minorgridcolor": "#C8D4E3",
             "startlinecolor": "#2a3f5f"
            },
            "baxis": {
             "endlinecolor": "#2a3f5f",
             "gridcolor": "#C8D4E3",
             "linecolor": "#C8D4E3",
             "minorgridcolor": "#C8D4E3",
             "startlinecolor": "#2a3f5f"
            },
            "type": "carpet"
           }
          ],
          "choropleth": [
           {
            "colorbar": {
             "outlinewidth": 0,
             "ticks": ""
            },
            "type": "choropleth"
           }
          ],
          "contour": [
           {
            "colorbar": {
             "outlinewidth": 0,
             "ticks": ""
            },
            "colorscale": [
             [
              0,
              "#0d0887"
             ],
             [
              0.1111111111111111,
              "#46039f"
             ],
             [
              0.2222222222222222,
              "#7201a8"
             ],
             [
              0.3333333333333333,
              "#9c179e"
             ],
             [
              0.4444444444444444,
              "#bd3786"
             ],
             [
              0.5555555555555556,
              "#d8576b"
             ],
             [
              0.6666666666666666,
              "#ed7953"
             ],
             [
              0.7777777777777778,
              "#fb9f3a"
             ],
             [
              0.8888888888888888,
              "#fdca26"
             ],
             [
              1,
              "#f0f921"
             ]
            ],
            "type": "contour"
           }
          ],
          "contourcarpet": [
           {
            "colorbar": {
             "outlinewidth": 0,
             "ticks": ""
            },
            "type": "contourcarpet"
           }
          ],
          "heatmap": [
           {
            "colorbar": {
             "outlinewidth": 0,
             "ticks": ""
            },
            "colorscale": [
             [
              0,
              "#0d0887"
             ],
             [
              0.1111111111111111,
              "#46039f"
             ],
             [
              0.2222222222222222,
              "#7201a8"
             ],
             [
              0.3333333333333333,
              "#9c179e"
             ],
             [
              0.4444444444444444,
              "#bd3786"
             ],
             [
              0.5555555555555556,
              "#d8576b"
             ],
             [
              0.6666666666666666,
              "#ed7953"
             ],
             [
              0.7777777777777778,
              "#fb9f3a"
             ],
             [
              0.8888888888888888,
              "#fdca26"
             ],
             [
              1,
              "#f0f921"
             ]
            ],
            "type": "heatmap"
           }
          ],
          "histogram": [
           {
            "marker": {
             "pattern": {
              "fillmode": "overlay",
              "size": 10,
              "solidity": 0.2
             }
            },
            "type": "histogram"
           }
          ],
          "histogram2d": [
           {
            "colorbar": {
             "outlinewidth": 0,
             "ticks": ""
            },
            "colorscale": [
             [
              0,
              "#0d0887"
             ],
             [
              0.1111111111111111,
              "#46039f"
             ],
             [
              0.2222222222222222,
              "#7201a8"
             ],
             [
              0.3333333333333333,
              "#9c179e"
             ],
             [
              0.4444444444444444,
              "#bd3786"
             ],
             [
              0.5555555555555556,
              "#d8576b"
             ],
             [
              0.6666666666666666,
              "#ed7953"
             ],
             [
              0.7777777777777778,
              "#fb9f3a"
             ],
             [
              0.8888888888888888,
              "#fdca26"
             ],
             [
              1,
              "#f0f921"
             ]
            ],
            "type": "histogram2d"
           }
          ],
          "histogram2dcontour": [
           {
            "colorbar": {
             "outlinewidth": 0,
             "ticks": ""
            },
            "colorscale": [
             [
              0,
              "#0d0887"
             ],
             [
              0.1111111111111111,
              "#46039f"
             ],
             [
              0.2222222222222222,
              "#7201a8"
             ],
             [
              0.3333333333333333,
              "#9c179e"
             ],
             [
              0.4444444444444444,
              "#bd3786"
             ],
             [
              0.5555555555555556,
              "#d8576b"
             ],
             [
              0.6666666666666666,
              "#ed7953"
             ],
             [
              0.7777777777777778,
              "#fb9f3a"
             ],
             [
              0.8888888888888888,
              "#fdca26"
             ],
             [
              1,
              "#f0f921"
             ]
            ],
            "type": "histogram2dcontour"
           }
          ],
          "mesh3d": [
           {
            "colorbar": {
             "outlinewidth": 0,
             "ticks": ""
            },
            "type": "mesh3d"
           }
          ],
          "parcoords": [
           {
            "line": {
             "colorbar": {
              "outlinewidth": 0,
              "ticks": ""
             }
            },
            "type": "parcoords"
           }
          ],
          "pie": [
           {
            "automargin": true,
            "type": "pie"
           }
          ],
          "scatter": [
           {
            "fillpattern": {
             "fillmode": "overlay",
             "size": 10,
             "solidity": 0.2
            },
            "type": "scatter"
           }
          ],
          "scatter3d": [
           {
            "line": {
             "colorbar": {
              "outlinewidth": 0,
              "ticks": ""
             }
            },
            "marker": {
             "colorbar": {
              "outlinewidth": 0,
              "ticks": ""
             }
            },
            "type": "scatter3d"
           }
          ],
          "scattercarpet": [
           {
            "marker": {
             "colorbar": {
              "outlinewidth": 0,
              "ticks": ""
             }
            },
            "type": "scattercarpet"
           }
          ],
          "scattergeo": [
           {
            "marker": {
             "colorbar": {
              "outlinewidth": 0,
              "ticks": ""
             }
            },
            "type": "scattergeo"
           }
          ],
          "scattergl": [
           {
            "marker": {
             "colorbar": {
              "outlinewidth": 0,
              "ticks": ""
             }
            },
            "type": "scattergl"
           }
          ],
          "scattermap": [
           {
            "marker": {
             "colorbar": {
              "outlinewidth": 0,
              "ticks": ""
             }
            },
            "type": "scattermap"
           }
          ],
          "scattermapbox": [
           {
            "marker": {
             "colorbar": {
              "outlinewidth": 0,
              "ticks": ""
             }
            },
            "type": "scattermapbox"
           }
          ],
          "scatterpolar": [
           {
            "marker": {
             "colorbar": {
              "outlinewidth": 0,
              "ticks": ""
             }
            },
            "type": "scatterpolar"
           }
          ],
          "scatterpolargl": [
           {
            "marker": {
             "colorbar": {
              "outlinewidth": 0,
              "ticks": ""
             }
            },
            "type": "scatterpolargl"
           }
          ],
          "scatterternary": [
           {
            "marker": {
             "colorbar": {
              "outlinewidth": 0,
              "ticks": ""
             }
            },
            "type": "scatterternary"
           }
          ],
          "surface": [
           {
            "colorbar": {
             "outlinewidth": 0,
             "ticks": ""
            },
            "colorscale": [
             [
              0,
              "#0d0887"
             ],
             [
              0.1111111111111111,
              "#46039f"
             ],
             [
              0.2222222222222222,
              "#7201a8"
             ],
             [
              0.3333333333333333,
              "#9c179e"
             ],
             [
              0.4444444444444444,
              "#bd3786"
             ],
             [
              0.5555555555555556,
              "#d8576b"
             ],
             [
              0.6666666666666666,
              "#ed7953"
             ],
             [
              0.7777777777777778,
              "#fb9f3a"
             ],
             [
              0.8888888888888888,
              "#fdca26"
             ],
             [
              1,
              "#f0f921"
             ]
            ],
            "type": "surface"
           }
          ],
          "table": [
           {
            "cells": {
             "fill": {
              "color": "#EBF0F8"
             },
             "line": {
              "color": "white"
             }
            },
            "header": {
             "fill": {
              "color": "#C8D4E3"
             },
             "line": {
              "color": "white"
             }
            },
            "type": "table"
           }
          ]
         },
         "layout": {
          "annotationdefaults": {
           "arrowcolor": "#2a3f5f",
           "arrowhead": 0,
           "arrowwidth": 1
          },
          "autotypenumbers": "strict",
          "coloraxis": {
           "colorbar": {
            "outlinewidth": 0,
            "ticks": ""
           }
          },
          "colorscale": {
           "diverging": [
            [
             0,
             "#8e0152"
            ],
            [
             0.1,
             "#c51b7d"
            ],
            [
             0.2,
             "#de77ae"
            ],
            [
             0.3,
             "#f1b6da"
            ],
            [
             0.4,
             "#fde0ef"
            ],
            [
             0.5,
             "#f7f7f7"
            ],
            [
             0.6,
             "#e6f5d0"
            ],
            [
             0.7,
             "#b8e186"
            ],
            [
             0.8,
             "#7fbc41"
            ],
            [
             0.9,
             "#4d9221"
            ],
            [
             1,
             "#276419"
            ]
           ],
           "sequential": [
            [
             0,
             "#0d0887"
            ],
            [
             0.1111111111111111,
             "#46039f"
            ],
            [
             0.2222222222222222,
             "#7201a8"
            ],
            [
             0.3333333333333333,
             "#9c179e"
            ],
            [
             0.4444444444444444,
             "#bd3786"
            ],
            [
             0.5555555555555556,
             "#d8576b"
            ],
            [
             0.6666666666666666,
             "#ed7953"
            ],
            [
             0.7777777777777778,
             "#fb9f3a"
            ],
            [
             0.8888888888888888,
             "#fdca26"
            ],
            [
             1,
             "#f0f921"
            ]
           ],
           "sequentialminus": [
            [
             0,
             "#0d0887"
            ],
            [
             0.1111111111111111,
             "#46039f"
            ],
            [
             0.2222222222222222,
             "#7201a8"
            ],
            [
             0.3333333333333333,
             "#9c179e"
            ],
            [
             0.4444444444444444,
             "#bd3786"
            ],
            [
             0.5555555555555556,
             "#d8576b"
            ],
            [
             0.6666666666666666,
             "#ed7953"
            ],
            [
             0.7777777777777778,
             "#fb9f3a"
            ],
            [
             0.8888888888888888,
             "#fdca26"
            ],
            [
             1,
             "#f0f921"
            ]
           ]
          },
          "colorway": [
           "#636efa",
           "#EF553B",
           "#00cc96",
           "#ab63fa",
           "#FFA15A",
           "#19d3f3",
           "#FF6692",
           "#B6E880",
           "#FF97FF",
           "#FECB52"
          ],
          "font": {
           "color": "#2a3f5f"
          },
          "geo": {
           "bgcolor": "white",
           "lakecolor": "white",
           "landcolor": "white",
           "showlakes": true,
           "showland": true,
           "subunitcolor": "#C8D4E3"
          },
          "hoverlabel": {
           "align": "left"
          },
          "hovermode": "closest",
          "mapbox": {
           "style": "light"
          },
          "paper_bgcolor": "white",
          "plot_bgcolor": "white",
          "polar": {
           "angularaxis": {
            "gridcolor": "#EBF0F8",
            "linecolor": "#EBF0F8",
            "ticks": ""
           },
           "bgcolor": "white",
           "radialaxis": {
            "gridcolor": "#EBF0F8",
            "linecolor": "#EBF0F8",
            "ticks": ""
           }
          },
          "scene": {
           "xaxis": {
            "backgroundcolor": "white",
            "gridcolor": "#DFE8F3",
            "gridwidth": 2,
            "linecolor": "#EBF0F8",
            "showbackground": true,
            "ticks": "",
            "zerolinecolor": "#EBF0F8"
           },
           "yaxis": {
            "backgroundcolor": "white",
            "gridcolor": "#DFE8F3",
            "gridwidth": 2,
            "linecolor": "#EBF0F8",
            "showbackground": true,
            "ticks": "",
            "zerolinecolor": "#EBF0F8"
           },
           "zaxis": {
            "backgroundcolor": "white",
            "gridcolor": "#DFE8F3",
            "gridwidth": 2,
            "linecolor": "#EBF0F8",
            "showbackground": true,
            "ticks": "",
            "zerolinecolor": "#EBF0F8"
           }
          },
          "shapedefaults": {
           "line": {
            "color": "#2a3f5f"
           }
          },
          "ternary": {
           "aaxis": {
            "gridcolor": "#DFE8F3",
            "linecolor": "#A2B1C6",
            "ticks": ""
           },
           "baxis": {
            "gridcolor": "#DFE8F3",
            "linecolor": "#A2B1C6",
            "ticks": ""
           },
           "bgcolor": "white",
           "caxis": {
            "gridcolor": "#DFE8F3",
            "linecolor": "#A2B1C6",
            "ticks": ""
           }
          },
          "title": {
           "x": 0.05
          },
          "xaxis": {
           "automargin": true,
           "gridcolor": "#EBF0F8",
           "linecolor": "#EBF0F8",
           "ticks": "",
           "title": {
            "standoff": 15
           },
           "zerolinecolor": "#EBF0F8",
           "zerolinewidth": 2
          },
          "yaxis": {
           "automargin": true,
           "gridcolor": "#EBF0F8",
           "linecolor": "#EBF0F8",
           "ticks": "",
           "title": {
            "standoff": 15
           },
           "zerolinecolor": "#EBF0F8",
           "zerolinewidth": 2
          }
         }
        },
        "title": {
         "text": "US Search Trends"
        },
        "xaxis": {
         "anchor": "y",
         "domain": [
          0,
          1
         ],
         "title": {
          "text": "month"
         }
        },
        "yaxis": {
         "anchor": "x",
         "domain": [
          0,
          1
         ],
         "title": {
          "text": "search"
         }
        }
       }
      }
     },
     "metadata": {},
     "output_type": "display_data"
    }
   ],
   "source": [
    "fig = px.line(us_search, x='month', y='search',title='US Search Trends')\n",
    "fig.add_trace(go.Line(x=cleve_akron_search['month'],y=cleve_akron_search['search']))\n",
    "\n",
    "fig.show()"
   ]
  },
  {
   "cell_type": "code",
   "execution_count": 78,
   "id": "053f044f",
   "metadata": {},
   "outputs": [],
   "source": [
    "# How many events?\n",
    "\n",
    "#This is all IFPA events with results reported in the United States from 2016 - 7/10/2025. Add &p=# to get next page\n",
    "url = 'https://www.ifpapinball.com/tournaments/find.php?search=&country=US&stateprov=&ranktype=&event_type=&start_date=2016-01-01&end_date=2025-07-10&min_points=&max_points='"
   ]
  },
  {
   "cell_type": "code",
   "execution_count": 79,
   "id": "9792d639",
   "metadata": {},
   "outputs": [],
   "source": [
    "from playwright.async_api import async_playwright, expect"
   ]
  },
  {
   "cell_type": "code",
   "execution_count": 80,
   "id": "db28e101",
   "metadata": {},
   "outputs": [
    {
     "ename": "Error",
     "evalue": "Page.goto: net::ERR_ABORTED; maybe frame was detached?\nCall log:\n  - navigating to \"https://www.ifpapinball.com/tournaments/find.php?search=&country=US&stateprov=&ranktype=&event_type=&start_date=2016-01-01&end_date=2025-07-10&min_points=&max_points=\", waiting until \"load\"\n",
     "output_type": "error",
     "traceback": [
      "\u001b[1;31m---------------------------------------------------------------------------\u001b[0m",
      "\u001b[1;31mError\u001b[0m                                     Traceback (most recent call last)",
      "Cell \u001b[1;32mIn[80], line 17\u001b[0m\n\u001b[0;32m     15\u001b[0m     \u001b[38;5;28;01mreturn\u001b[39;00m browser, page\n\u001b[0;32m     16\u001b[0m driver, page \u001b[38;5;241m=\u001b[39m \u001b[38;5;28;01mawait\u001b[39;00m open_browser()\n\u001b[1;32m---> 17\u001b[0m \u001b[38;5;28;01mawait\u001b[39;00m page\u001b[38;5;241m.\u001b[39mgoto(url)\n",
      "File \u001b[1;32mc:\\Users\\nmuff\\.pyenv\\pyenv-win\\versions\\3.12.8\\Lib\\site-packages\\playwright\\async_api\\_generated.py:8975\u001b[0m, in \u001b[0;36mPage.goto\u001b[1;34m(self, url, timeout, wait_until, referer)\u001b[0m\n\u001b[0;32m   8914\u001b[0m \u001b[38;5;28;01masync\u001b[39;00m \u001b[38;5;28;01mdef\u001b[39;00m\u001b[38;5;250m \u001b[39m\u001b[38;5;21mgoto\u001b[39m(\n\u001b[0;32m   8915\u001b[0m     \u001b[38;5;28mself\u001b[39m,\n\u001b[0;32m   8916\u001b[0m     url: \u001b[38;5;28mstr\u001b[39m,\n\u001b[1;32m   (...)\u001b[0m\n\u001b[0;32m   8922\u001b[0m     referer: typing\u001b[38;5;241m.\u001b[39mOptional[\u001b[38;5;28mstr\u001b[39m] \u001b[38;5;241m=\u001b[39m \u001b[38;5;28;01mNone\u001b[39;00m,\n\u001b[0;32m   8923\u001b[0m ) \u001b[38;5;241m-\u001b[39m\u001b[38;5;241m>\u001b[39m typing\u001b[38;5;241m.\u001b[39mOptional[\u001b[38;5;124m\"\u001b[39m\u001b[38;5;124mResponse\u001b[39m\u001b[38;5;124m\"\u001b[39m]:\n\u001b[0;32m   8924\u001b[0m \u001b[38;5;250m    \u001b[39m\u001b[38;5;124;03m\"\"\"Page.goto\u001b[39;00m\n\u001b[0;32m   8925\u001b[0m \n\u001b[0;32m   8926\u001b[0m \u001b[38;5;124;03m    Returns the main resource response. In case of multiple redirects, the navigation will resolve with the first\u001b[39;00m\n\u001b[1;32m   (...)\u001b[0m\n\u001b[0;32m   8971\u001b[0m \u001b[38;5;124;03m    Union[Response, None]\u001b[39;00m\n\u001b[0;32m   8972\u001b[0m \u001b[38;5;124;03m    \"\"\"\u001b[39;00m\n\u001b[0;32m   8974\u001b[0m     \u001b[38;5;28;01mreturn\u001b[39;00m mapping\u001b[38;5;241m.\u001b[39mfrom_impl_nullable(\n\u001b[1;32m-> 8975\u001b[0m         \u001b[38;5;28;01mawait\u001b[39;00m \u001b[38;5;28mself\u001b[39m\u001b[38;5;241m.\u001b[39m_impl_obj\u001b[38;5;241m.\u001b[39mgoto(\n\u001b[0;32m   8976\u001b[0m             url\u001b[38;5;241m=\u001b[39murl, timeout\u001b[38;5;241m=\u001b[39mtimeout, waitUntil\u001b[38;5;241m=\u001b[39mwait_until, referer\u001b[38;5;241m=\u001b[39mreferer\n\u001b[0;32m   8977\u001b[0m         )\n\u001b[0;32m   8978\u001b[0m     )\n",
      "File \u001b[1;32mc:\\Users\\nmuff\\.pyenv\\pyenv-win\\versions\\3.12.8\\Lib\\site-packages\\playwright\\_impl\\_page.py:556\u001b[0m, in \u001b[0;36mPage.goto\u001b[1;34m(self, url, timeout, waitUntil, referer)\u001b[0m\n\u001b[0;32m    549\u001b[0m \u001b[38;5;28;01masync\u001b[39;00m \u001b[38;5;28;01mdef\u001b[39;00m\u001b[38;5;250m \u001b[39m\u001b[38;5;21mgoto\u001b[39m(\n\u001b[0;32m    550\u001b[0m     \u001b[38;5;28mself\u001b[39m,\n\u001b[0;32m    551\u001b[0m     url: \u001b[38;5;28mstr\u001b[39m,\n\u001b[1;32m   (...)\u001b[0m\n\u001b[0;32m    554\u001b[0m     referer: \u001b[38;5;28mstr\u001b[39m \u001b[38;5;241m=\u001b[39m \u001b[38;5;28;01mNone\u001b[39;00m,\n\u001b[0;32m    555\u001b[0m ) \u001b[38;5;241m-\u001b[39m\u001b[38;5;241m>\u001b[39m Optional[Response]:\n\u001b[1;32m--> 556\u001b[0m     \u001b[38;5;28;01mreturn\u001b[39;00m \u001b[38;5;28;01mawait\u001b[39;00m \u001b[38;5;28mself\u001b[39m\u001b[38;5;241m.\u001b[39m_main_frame\u001b[38;5;241m.\u001b[39mgoto(\u001b[38;5;241m*\u001b[39m\u001b[38;5;241m*\u001b[39mlocals_to_params(\u001b[38;5;28mlocals\u001b[39m()))\n",
      "File \u001b[1;32mc:\\Users\\nmuff\\.pyenv\\pyenv-win\\versions\\3.12.8\\Lib\\site-packages\\playwright\\_impl\\_frame.py:146\u001b[0m, in \u001b[0;36mFrame.goto\u001b[1;34m(self, url, timeout, waitUntil, referer)\u001b[0m\n\u001b[0;32m    136\u001b[0m \u001b[38;5;28;01masync\u001b[39;00m \u001b[38;5;28;01mdef\u001b[39;00m\u001b[38;5;250m \u001b[39m\u001b[38;5;21mgoto\u001b[39m(\n\u001b[0;32m    137\u001b[0m     \u001b[38;5;28mself\u001b[39m,\n\u001b[0;32m    138\u001b[0m     url: \u001b[38;5;28mstr\u001b[39m,\n\u001b[1;32m   (...)\u001b[0m\n\u001b[0;32m    141\u001b[0m     referer: \u001b[38;5;28mstr\u001b[39m \u001b[38;5;241m=\u001b[39m \u001b[38;5;28;01mNone\u001b[39;00m,\n\u001b[0;32m    142\u001b[0m ) \u001b[38;5;241m-\u001b[39m\u001b[38;5;241m>\u001b[39m Optional[Response]:\n\u001b[0;32m    143\u001b[0m     \u001b[38;5;28;01mreturn\u001b[39;00m cast(\n\u001b[0;32m    144\u001b[0m         Optional[Response],\n\u001b[0;32m    145\u001b[0m         from_nullable_channel(\n\u001b[1;32m--> 146\u001b[0m             \u001b[38;5;28;01mawait\u001b[39;00m \u001b[38;5;28mself\u001b[39m\u001b[38;5;241m.\u001b[39m_channel\u001b[38;5;241m.\u001b[39msend(\n\u001b[0;32m    147\u001b[0m                 \u001b[38;5;124m\"\u001b[39m\u001b[38;5;124mgoto\u001b[39m\u001b[38;5;124m\"\u001b[39m, \u001b[38;5;28mself\u001b[39m\u001b[38;5;241m.\u001b[39m_navigation_timeout, locals_to_params(\u001b[38;5;28mlocals\u001b[39m())\n\u001b[0;32m    148\u001b[0m             )\n\u001b[0;32m    149\u001b[0m         ),\n\u001b[0;32m    150\u001b[0m     )\n",
      "File \u001b[1;32mc:\\Users\\nmuff\\.pyenv\\pyenv-win\\versions\\3.12.8\\Lib\\site-packages\\playwright\\_impl\\_connection.py:69\u001b[0m, in \u001b[0;36mChannel.send\u001b[1;34m(self, method, timeout_calculator, params, is_internal, title)\u001b[0m\n\u001b[0;32m     61\u001b[0m \u001b[38;5;28;01masync\u001b[39;00m \u001b[38;5;28;01mdef\u001b[39;00m\u001b[38;5;250m \u001b[39m\u001b[38;5;21msend\u001b[39m(\n\u001b[0;32m     62\u001b[0m     \u001b[38;5;28mself\u001b[39m,\n\u001b[0;32m     63\u001b[0m     method: \u001b[38;5;28mstr\u001b[39m,\n\u001b[1;32m   (...)\u001b[0m\n\u001b[0;32m     67\u001b[0m     title: \u001b[38;5;28mstr\u001b[39m \u001b[38;5;241m=\u001b[39m \u001b[38;5;28;01mNone\u001b[39;00m,\n\u001b[0;32m     68\u001b[0m ) \u001b[38;5;241m-\u001b[39m\u001b[38;5;241m>\u001b[39m Any:\n\u001b[1;32m---> 69\u001b[0m     \u001b[38;5;28;01mreturn\u001b[39;00m \u001b[38;5;28;01mawait\u001b[39;00m \u001b[38;5;28mself\u001b[39m\u001b[38;5;241m.\u001b[39m_connection\u001b[38;5;241m.\u001b[39mwrap_api_call(\n\u001b[0;32m     70\u001b[0m         \u001b[38;5;28;01mlambda\u001b[39;00m: \u001b[38;5;28mself\u001b[39m\u001b[38;5;241m.\u001b[39m_inner_send(method, timeout_calculator, params, \u001b[38;5;28;01mFalse\u001b[39;00m),\n\u001b[0;32m     71\u001b[0m         is_internal,\n\u001b[0;32m     72\u001b[0m         title,\n\u001b[0;32m     73\u001b[0m     )\n",
      "File \u001b[1;32mc:\\Users\\nmuff\\.pyenv\\pyenv-win\\versions\\3.12.8\\Lib\\site-packages\\playwright\\_impl\\_connection.py:558\u001b[0m, in \u001b[0;36mConnection.wrap_api_call\u001b[1;34m(self, cb, is_internal, title)\u001b[0m\n\u001b[0;32m    556\u001b[0m     \u001b[38;5;28;01mreturn\u001b[39;00m \u001b[38;5;28;01mawait\u001b[39;00m cb()\n\u001b[0;32m    557\u001b[0m \u001b[38;5;28;01mexcept\u001b[39;00m \u001b[38;5;167;01mException\u001b[39;00m \u001b[38;5;28;01mas\u001b[39;00m error:\n\u001b[1;32m--> 558\u001b[0m     \u001b[38;5;28;01mraise\u001b[39;00m rewrite_error(error, \u001b[38;5;124mf\u001b[39m\u001b[38;5;124m\"\u001b[39m\u001b[38;5;132;01m{\u001b[39;00mparsed_st[\u001b[38;5;124m'\u001b[39m\u001b[38;5;124mapiName\u001b[39m\u001b[38;5;124m'\u001b[39m]\u001b[38;5;132;01m}\u001b[39;00m\u001b[38;5;124m: \u001b[39m\u001b[38;5;132;01m{\u001b[39;00merror\u001b[38;5;132;01m}\u001b[39;00m\u001b[38;5;124m\"\u001b[39m) \u001b[38;5;28;01mfrom\u001b[39;00m\u001b[38;5;250m \u001b[39m\u001b[38;5;28;01mNone\u001b[39;00m\n\u001b[0;32m    559\u001b[0m \u001b[38;5;28;01mfinally\u001b[39;00m:\n\u001b[0;32m    560\u001b[0m     \u001b[38;5;28mself\u001b[39m\u001b[38;5;241m.\u001b[39m_api_zone\u001b[38;5;241m.\u001b[39mset(\u001b[38;5;28;01mNone\u001b[39;00m)\n",
      "\u001b[1;31mError\u001b[0m: Page.goto: net::ERR_ABORTED; maybe frame was detached?\nCall log:\n  - navigating to \"https://www.ifpapinball.com/tournaments/find.php?search=&country=US&stateprov=&ranktype=&event_type=&start_date=2016-01-01&end_date=2025-07-10&min_points=&max_points=\", waiting until \"load\"\n"
     ]
    }
   ],
   "source": [
    "playwright = await async_playwright().start()\n",
    "async def open_browser(headless=False):\n",
    "    \"\"\"\n",
    "    Starts the automated browser and opens a new window\n",
    "    \"\"\"\n",
    "    # Start playwright\n",
    "    playwright = await async_playwright().start()\n",
    "\n",
    "    # Open chromium (chrome) browser, can use firefox or others\n",
    "    browser = await playwright.chromium.launch(headless=headless)\n",
    "  \n",
    "    # Create a new browser window\n",
    "    page = await browser.new_page()\n",
    "\n",
    "    return browser, page\n",
    "driver, page = await open_browser()\n",
    "await page.goto(url)"
   ]
  },
  {
   "cell_type": "code",
   "execution_count": null,
   "id": "c452702c",
   "metadata": {},
   "outputs": [],
   "source": [
    "xml_result_row = '//div[@class=\"list-group-item\"]'"
   ]
  },
  {
   "cell_type": "code",
   "execution_count": null,
   "id": "9b573f3c",
   "metadata": {},
   "outputs": [],
   "source": [
    "events = []"
   ]
  },
  {
   "cell_type": "code",
   "execution_count": null,
   "id": "73da6f41",
   "metadata": {},
   "outputs": [],
   "source": [
    "async def get_events():\n",
    "    events_dom = await page.locator(xml_result_row).all()\n",
    "\n",
    "    for event in events_dom:\n",
    "        row = {}\n",
    "        inner_text = await event.locator('//small').first.inner_text()\n",
    "        row['date'] = re.search(r'([A-Z][a-z]+)\\s+(\\d{1,2}),\\s+(\\d{4})',inner_text).group()\n",
    "        row['small_text']=inner_text\n",
    "        row['event_name'] = await event.locator('//h5').inner_text()\n",
    "\n",
    "        events.append(row)"
   ]
  },
  {
   "cell_type": "code",
   "execution_count": null,
   "id": "4fa07949",
   "metadata": {},
   "outputs": [],
   "source": [
    "# # This actually runs the scraper. Don't uncomment unless you can't use csv imported in next cell. Took roughly 70m to scrape 52k events.\n",
    "# # This cell doesn't actually stop when it reaches the end of pages. Need to figure out a way to coun tpages and trigger stop. Probably look at search results, save that number, increment by number on results page.\n",
    "# page_flag = True\n",
    "# page_num = 1\n",
    "# while page_flag == True:\n",
    "#     try:\n",
    "#         await page.goto(f\"{url}&p={page_num}\")\n",
    "#         await get_events()\n",
    "#         page_num +=1\n",
    "#     except:\n",
    "#         page_flag = False\n",
    "\n",
    "# ifpa_events = pd.DataFrame(events)"
   ]
  },
  {
   "cell_type": "code",
   "execution_count": 59,
   "id": "1e14d144",
   "metadata": {},
   "outputs": [],
   "source": [
    "import pandas as pd\n",
    "import requests\n",
    "import os\n",
    "from bs4 import BeautifulSoup\n",
    "import re\n",
    "import os\n",
    "from dotenv import load_dotenv\n",
    "import datetime\n",
    "import plotly.express as px\n",
    "import plotly.io as pio\n",
    "import plotly.graph_objects as go\n",
    "pio.templates.default = \"plotly_white\"\n",
    "import geocoder"
   ]
  },
  {
   "cell_type": "code",
   "execution_count": 60,
   "id": "5de0b790",
   "metadata": {},
   "outputs": [],
   "source": [
    "try:\n",
    "    ifpa_events = pd.read_json('ifpa_events.json')\n",
    "except:\n",
    "    ifpa_events = pd.read_csv('ifpa_events.csv')"
   ]
  },
  {
   "cell_type": "code",
   "execution_count": 61,
   "id": "e4e999f4",
   "metadata": {},
   "outputs": [
    {
     "data": {
      "text/plain": [
       "(52920, 9)"
      ]
     },
     "execution_count": 61,
     "metadata": {},
     "output_type": "execute_result"
    }
   ],
   "source": [
    "ifpa_events.shape"
   ]
  },
  {
   "cell_type": "code",
   "execution_count": 62,
   "id": "7d65a606",
   "metadata": {},
   "outputs": [],
   "source": [
    "ifpa_events['date_dt'] = pd.to_datetime(ifpa_events['date'])"
   ]
  },
  {
   "cell_type": "code",
   "execution_count": 63,
   "id": "2fd3645a",
   "metadata": {},
   "outputs": [],
   "source": [
    "# def find_state(text):\n",
    "#     match = re.search(r'[A-Z]{2}', text)\n",
    "#     if match:\n",
    "#         return match.group()\n",
    "#     else:\n",
    "#         return None"
   ]
  },
  {
   "cell_type": "code",
   "execution_count": 64,
   "id": "2dbe5137",
   "metadata": {},
   "outputs": [],
   "source": [
    "# ifpa_events['state'] = ifpa_events['small_text'].apply(lambda x: find_state(x) )"
   ]
  },
  {
   "cell_type": "code",
   "execution_count": 65,
   "id": "47aa0e8a",
   "metadata": {},
   "outputs": [],
   "source": [
    "# ifpa_events.head()"
   ]
  },
  {
   "cell_type": "code",
   "execution_count": 66,
   "id": "0d8908d3",
   "metadata": {},
   "outputs": [],
   "source": [
    "# ifpa_events['year']=ifpa_events['date_dt'].dt.year"
   ]
  },
  {
   "cell_type": "code",
   "execution_count": 67,
   "id": "1fe83362",
   "metadata": {},
   "outputs": [],
   "source": [
    "# ifpa_events['city']=ifpa_events['small_text'].str.split(',').str[0].str.strip()"
   ]
  },
  {
   "cell_type": "code",
   "execution_count": 68,
   "id": "a0389abe",
   "metadata": {},
   "outputs": [],
   "source": [
    "# ifpa_events.head()"
   ]
  },
  {
   "cell_type": "code",
   "execution_count": 69,
   "id": "cb9aadb4",
   "metadata": {},
   "outputs": [],
   "source": [
    "# try:\n",
    "#     geo_cache = pd.read_csv('geo_cache.csv')\n",
    "# except:\n",
    "#     geo_cache = pd.DataFrame()"
   ]
  },
  {
   "cell_type": "code",
   "execution_count": 70,
   "id": "dce1ddff",
   "metadata": {},
   "outputs": [],
   "source": [
    "# geo_cache.columns = ['city','state','lat','lon']"
   ]
  },
  {
   "cell_type": "code",
   "execution_count": 71,
   "id": "46bb2e3d",
   "metadata": {},
   "outputs": [],
   "source": [
    "# geo_cache.head()"
   ]
  },
  {
   "cell_type": "code",
   "execution_count": 72,
   "id": "0c0f3fb5",
   "metadata": {},
   "outputs": [],
   "source": [
    "# "
   ]
  },
  {
   "cell_type": "code",
   "execution_count": 73,
   "id": "ab72f140",
   "metadata": {},
   "outputs": [],
   "source": [
    "# city = ifpa_events.iloc[0]['city']\n",
    "# state = ifpa_events.iloc[0]['state']\n",
    "\n",
    "# geo_cache[(geo_cache['city']==city) & (geo_cache['state']==state)].shape[0]>0"
   ]
  },
  {
   "cell_type": "code",
   "execution_count": 74,
   "id": "726722c2",
   "metadata": {},
   "outputs": [],
   "source": [
    "# load_dotenv()\n",
    "# GKEY = os.getenv(\"GKEY\")"
   ]
  },
  {
   "cell_type": "code",
   "execution_count": 75,
   "id": "af037189",
   "metadata": {},
   "outputs": [],
   "source": [
    "# # I should modify this to first REMOVE DUPLICATE LOOKUP REQUESTS this might be a separate function to create the query list, then run get_coordinates on that query list.\n",
    "# def get_coordinates(row):\n",
    "#     global geo_cache\n",
    "#     city = row['city']\n",
    "#     state = row['state']\n",
    "\n",
    "\n",
    "#     # Check cache\n",
    "#     if (geo_cache[(geo_cache['city']==city) & (geo_cache['state']==state)].shape[0]>0):\n",
    "#             lat = geo_cache[(geo_cache['city']==city) & (geo_cache['state']==state)]['lat'].iloc[0]\n",
    "#             lon = geo_cache[(geo_cache['city']==city) & (geo_cache['state']==state)]['lon'].iloc[0]\n",
    "\n",
    "#             print(f\"lat: {lat} lon: {lon} from cache\")\n",
    "\n",
    "\n",
    "\n",
    "#     # Check\n",
    "#     else:\n",
    "#     # Handle empty strings by checking for None or NaN\n",
    "#         if not all([pd.notna(city), pd.notna(state)]):  # Using pd.notna to handle both None and NaN\n",
    "#             return [None, None]\n",
    "        \n",
    "#         else:\n",
    "#             print(f\"calling API for {city}, {state}\")\n",
    "#             g = geocoder.google(f\"{city},{state}, United States\", key=GKEY)\n",
    "#             lat = g.lat\n",
    "#             lon = g.lng\n",
    "#             print(g.lat)\n",
    "#             print(g.lng)\n",
    "#             row['']\n",
    "#             new_entry = pd.DataFrame({\n",
    "#                 'city': [city], 'state': [state], 'lat': [g.lat], 'lon': [g.lng]\n",
    "#             })\n",
    "#             geo_cache = pd.concat([geo_cache, new_entry], ignore_index=True)\n",
    "#     return [lat,lon]\n"
   ]
  },
  {
   "cell_type": "code",
   "execution_count": 76,
   "id": "4adfe85a",
   "metadata": {},
   "outputs": [],
   "source": [
    "# geo_results = ifpa_events.apply(get_coordinates, axis=1)"
   ]
  },
  {
   "cell_type": "code",
   "execution_count": 77,
   "id": "73a7fe71",
   "metadata": {},
   "outputs": [],
   "source": [
    "# coordinates_df = pd.DataFrame(\n",
    "#     geo_results.to_list(), \n",
    "#     index=geo_results.index, \n",
    "#     columns=['lat', 'lon']\n",
    "# )\n",
    "\n",
    "# # Now, assign the new columns to your original DataFrame. This is an instant operation.\n",
    "# ifpa_events[['lat', 'lon']] = coordinates_df"
   ]
  },
  {
   "cell_type": "code",
   "execution_count": 78,
   "id": "a2952387",
   "metadata": {},
   "outputs": [
    {
     "data": {
      "application/vnd.microsoft.datawrangler.viewer.v0+json": {
       "columns": [
        {
         "name": "index",
         "rawType": "int64",
         "type": "integer"
        },
        {
         "name": "date",
         "rawType": "datetime64[ns]",
         "type": "datetime"
        },
        {
         "name": "small_text",
         "rawType": "object",
         "type": "string"
        },
        {
         "name": "event_name",
         "rawType": "object",
         "type": "string"
        },
        {
         "name": "date_dt",
         "rawType": "datetime64[ns]",
         "type": "datetime"
        },
        {
         "name": "year",
         "rawType": "int64",
         "type": "integer"
        },
        {
         "name": "state",
         "rawType": "object",
         "type": "string"
        },
        {
         "name": "city",
         "rawType": "object",
         "type": "string"
        },
        {
         "name": "lat",
         "rawType": "float64",
         "type": "float"
        },
        {
         "name": "lon",
         "rawType": "float64",
         "type": "float"
        }
       ],
       "ref": "0139aa60-a89e-4eeb-a3b1-70686d166a6c",
       "rows": [
        [
         "0",
         "2025-07-10 00:00:00",
         " Middletown, NY, United States | Main Tournament | July 10, 2025",
         "Stern Army Rock Fantasy",
         "2025-07-10 00:00:00",
         "2025",
         "NY",
         "Middletown",
         "41.4459271",
         "-74.4229341"
        ],
        [
         "1",
         "2025-07-10 00:00:00",
         " Sharonville, OH, United States | Main Tournament | July 10, 2025",
         "Arcade Legacy's Thursday Throwdown",
         "2025-07-10 00:00:00",
         "2025",
         "OH",
         "Sharonville",
         "39.2681136",
         "-84.4132746"
        ],
        [
         "2",
         "2025-07-10 00:00:00",
         " Boise, ID, United States | Main Tournament | July 10, 2025",
         "Thursday Night Strikes!",
         "2025-07-10 00:00:00",
         "2025",
         "ID",
         "Boise",
         "43.6150186",
         "-116.2023137"
        ],
        [
         "3",
         "2025-07-10 00:00:00",
         " Columbia, MO, United States | Launch Party | July 10, 2025",
         "Stern King Kong Launch Party - COMO Hexagon Alley",
         "2025-07-10 00:00:00",
         "2025",
         "MO",
         "Columbia",
         "38.951768",
         "-92.3282932"
        ],
        [
         "4",
         "2025-07-10 00:00:00",
         " Savage, MN, United States | Main Tournament | July 10, 2025",
         "NPC Pinball",
         "2025-07-10 00:00:00",
         "2025",
         "MN",
         "Savage",
         "44.7647329",
         "-93.3591147"
        ]
       ],
       "shape": {
        "columns": 9,
        "rows": 5
       }
      },
      "text/html": [
       "<div>\n",
       "<style scoped>\n",
       "    .dataframe tbody tr th:only-of-type {\n",
       "        vertical-align: middle;\n",
       "    }\n",
       "\n",
       "    .dataframe tbody tr th {\n",
       "        vertical-align: top;\n",
       "    }\n",
       "\n",
       "    .dataframe thead th {\n",
       "        text-align: right;\n",
       "    }\n",
       "</style>\n",
       "<table border=\"1\" class=\"dataframe\">\n",
       "  <thead>\n",
       "    <tr style=\"text-align: right;\">\n",
       "      <th></th>\n",
       "      <th>date</th>\n",
       "      <th>small_text</th>\n",
       "      <th>event_name</th>\n",
       "      <th>date_dt</th>\n",
       "      <th>year</th>\n",
       "      <th>state</th>\n",
       "      <th>city</th>\n",
       "      <th>lat</th>\n",
       "      <th>lon</th>\n",
       "    </tr>\n",
       "  </thead>\n",
       "  <tbody>\n",
       "    <tr>\n",
       "      <th>0</th>\n",
       "      <td>2025-07-10</td>\n",
       "      <td>Middletown, NY, United States | Main Tourname...</td>\n",
       "      <td>Stern Army Rock Fantasy</td>\n",
       "      <td>2025-07-10</td>\n",
       "      <td>2025</td>\n",
       "      <td>NY</td>\n",
       "      <td>Middletown</td>\n",
       "      <td>41.445927</td>\n",
       "      <td>-74.422934</td>\n",
       "    </tr>\n",
       "    <tr>\n",
       "      <th>1</th>\n",
       "      <td>2025-07-10</td>\n",
       "      <td>Sharonville, OH, United States | Main Tournam...</td>\n",
       "      <td>Arcade Legacy's Thursday Throwdown</td>\n",
       "      <td>2025-07-10</td>\n",
       "      <td>2025</td>\n",
       "      <td>OH</td>\n",
       "      <td>Sharonville</td>\n",
       "      <td>39.268114</td>\n",
       "      <td>-84.413275</td>\n",
       "    </tr>\n",
       "    <tr>\n",
       "      <th>2</th>\n",
       "      <td>2025-07-10</td>\n",
       "      <td>Boise, ID, United States | Main Tournament | ...</td>\n",
       "      <td>Thursday Night Strikes!</td>\n",
       "      <td>2025-07-10</td>\n",
       "      <td>2025</td>\n",
       "      <td>ID</td>\n",
       "      <td>Boise</td>\n",
       "      <td>43.615019</td>\n",
       "      <td>-116.202314</td>\n",
       "    </tr>\n",
       "    <tr>\n",
       "      <th>3</th>\n",
       "      <td>2025-07-10</td>\n",
       "      <td>Columbia, MO, United States | Launch Party | ...</td>\n",
       "      <td>Stern King Kong Launch Party - COMO Hexagon Alley</td>\n",
       "      <td>2025-07-10</td>\n",
       "      <td>2025</td>\n",
       "      <td>MO</td>\n",
       "      <td>Columbia</td>\n",
       "      <td>38.951768</td>\n",
       "      <td>-92.328293</td>\n",
       "    </tr>\n",
       "    <tr>\n",
       "      <th>4</th>\n",
       "      <td>2025-07-10</td>\n",
       "      <td>Savage, MN, United States | Main Tournament |...</td>\n",
       "      <td>NPC Pinball</td>\n",
       "      <td>2025-07-10</td>\n",
       "      <td>2025</td>\n",
       "      <td>MN</td>\n",
       "      <td>Savage</td>\n",
       "      <td>44.764733</td>\n",
       "      <td>-93.359115</td>\n",
       "    </tr>\n",
       "  </tbody>\n",
       "</table>\n",
       "</div>"
      ],
      "text/plain": [
       "        date                                         small_text  \\\n",
       "0 2025-07-10   Middletown, NY, United States | Main Tourname...   \n",
       "1 2025-07-10   Sharonville, OH, United States | Main Tournam...   \n",
       "2 2025-07-10   Boise, ID, United States | Main Tournament | ...   \n",
       "3 2025-07-10   Columbia, MO, United States | Launch Party | ...   \n",
       "4 2025-07-10   Savage, MN, United States | Main Tournament |...   \n",
       "\n",
       "                                          event_name    date_dt  year state  \\\n",
       "0                            Stern Army Rock Fantasy 2025-07-10  2025    NY   \n",
       "1                 Arcade Legacy's Thursday Throwdown 2025-07-10  2025    OH   \n",
       "2                            Thursday Night Strikes! 2025-07-10  2025    ID   \n",
       "3  Stern King Kong Launch Party - COMO Hexagon Alley 2025-07-10  2025    MO   \n",
       "4                                        NPC Pinball 2025-07-10  2025    MN   \n",
       "\n",
       "          city        lat         lon  \n",
       "0   Middletown  41.445927  -74.422934  \n",
       "1  Sharonville  39.268114  -84.413275  \n",
       "2        Boise  43.615019 -116.202314  \n",
       "3     Columbia  38.951768  -92.328293  \n",
       "4       Savage  44.764733  -93.359115  "
      ]
     },
     "execution_count": 78,
     "metadata": {},
     "output_type": "execute_result"
    }
   ],
   "source": [
    "ifpa_events.head()"
   ]
  },
  {
   "cell_type": "code",
   "execution_count": 79,
   "id": "89fae48f",
   "metadata": {},
   "outputs": [],
   "source": [
    "# geo_cache.to_csv('geo_cache.csv')"
   ]
  },
  {
   "cell_type": "code",
   "execution_count": 80,
   "id": "9529f56a",
   "metadata": {},
   "outputs": [],
   "source": [
    "# geo_cache.head()"
   ]
  },
  {
   "cell_type": "code",
   "execution_count": 81,
   "id": "2f6a5f26",
   "metadata": {},
   "outputs": [],
   "source": [
    "ifpa_events.to_json('ifpa_events.json', index=False)"
   ]
  },
  {
   "cell_type": "code",
   "execution_count": 82,
   "id": "45e024ac",
   "metadata": {},
   "outputs": [],
   "source": [
    "ifpa_by_year = ifpa_events['year'].value_counts().reset_index().sort_values(by='year')"
   ]
  },
  {
   "cell_type": "code",
   "execution_count": 83,
   "id": "df7918c1",
   "metadata": {},
   "outputs": [
    {
     "data": {
      "application/vnd.plotly.v1+json": {
       "config": {
        "plotlyServerURL": "https://plot.ly"
       },
       "data": [
        {
         "hovertemplate": "year=%{x}<br>count=%{y}<extra></extra>",
         "legendgroup": "",
         "line": {
          "color": "#636efa",
          "dash": "solid"
         },
         "marker": {
          "symbol": "circle"
         },
         "mode": "lines",
         "name": "",
         "orientation": "v",
         "showlegend": false,
         "type": "scatter",
         "x": {
          "bdata": "4AfhB+IH4wfkB+UH5gfnB+gH6QfqBw==",
          "dtype": "i2"
         },
         "xaxis": "x",
         "y": {
          "bdata": "eQpYDvMQnRbZBE0HThitIyEtFBkBAA==",
          "dtype": "i2"
         },
         "yaxis": "y"
        }
       ],
       "layout": {
        "legend": {
         "tracegroupgap": 0
        },
        "template": {
         "data": {
          "bar": [
           {
            "error_x": {
             "color": "#2a3f5f"
            },
            "error_y": {
             "color": "#2a3f5f"
            },
            "marker": {
             "line": {
              "color": "white",
              "width": 0.5
             },
             "pattern": {
              "fillmode": "overlay",
              "size": 10,
              "solidity": 0.2
             }
            },
            "type": "bar"
           }
          ],
          "barpolar": [
           {
            "marker": {
             "line": {
              "color": "white",
              "width": 0.5
             },
             "pattern": {
              "fillmode": "overlay",
              "size": 10,
              "solidity": 0.2
             }
            },
            "type": "barpolar"
           }
          ],
          "carpet": [
           {
            "aaxis": {
             "endlinecolor": "#2a3f5f",
             "gridcolor": "#C8D4E3",
             "linecolor": "#C8D4E3",
             "minorgridcolor": "#C8D4E3",
             "startlinecolor": "#2a3f5f"
            },
            "baxis": {
             "endlinecolor": "#2a3f5f",
             "gridcolor": "#C8D4E3",
             "linecolor": "#C8D4E3",
             "minorgridcolor": "#C8D4E3",
             "startlinecolor": "#2a3f5f"
            },
            "type": "carpet"
           }
          ],
          "choropleth": [
           {
            "colorbar": {
             "outlinewidth": 0,
             "ticks": ""
            },
            "type": "choropleth"
           }
          ],
          "contour": [
           {
            "colorbar": {
             "outlinewidth": 0,
             "ticks": ""
            },
            "colorscale": [
             [
              0,
              "#0d0887"
             ],
             [
              0.1111111111111111,
              "#46039f"
             ],
             [
              0.2222222222222222,
              "#7201a8"
             ],
             [
              0.3333333333333333,
              "#9c179e"
             ],
             [
              0.4444444444444444,
              "#bd3786"
             ],
             [
              0.5555555555555556,
              "#d8576b"
             ],
             [
              0.6666666666666666,
              "#ed7953"
             ],
             [
              0.7777777777777778,
              "#fb9f3a"
             ],
             [
              0.8888888888888888,
              "#fdca26"
             ],
             [
              1,
              "#f0f921"
             ]
            ],
            "type": "contour"
           }
          ],
          "contourcarpet": [
           {
            "colorbar": {
             "outlinewidth": 0,
             "ticks": ""
            },
            "type": "contourcarpet"
           }
          ],
          "heatmap": [
           {
            "colorbar": {
             "outlinewidth": 0,
             "ticks": ""
            },
            "colorscale": [
             [
              0,
              "#0d0887"
             ],
             [
              0.1111111111111111,
              "#46039f"
             ],
             [
              0.2222222222222222,
              "#7201a8"
             ],
             [
              0.3333333333333333,
              "#9c179e"
             ],
             [
              0.4444444444444444,
              "#bd3786"
             ],
             [
              0.5555555555555556,
              "#d8576b"
             ],
             [
              0.6666666666666666,
              "#ed7953"
             ],
             [
              0.7777777777777778,
              "#fb9f3a"
             ],
             [
              0.8888888888888888,
              "#fdca26"
             ],
             [
              1,
              "#f0f921"
             ]
            ],
            "type": "heatmap"
           }
          ],
          "histogram": [
           {
            "marker": {
             "pattern": {
              "fillmode": "overlay",
              "size": 10,
              "solidity": 0.2
             }
            },
            "type": "histogram"
           }
          ],
          "histogram2d": [
           {
            "colorbar": {
             "outlinewidth": 0,
             "ticks": ""
            },
            "colorscale": [
             [
              0,
              "#0d0887"
             ],
             [
              0.1111111111111111,
              "#46039f"
             ],
             [
              0.2222222222222222,
              "#7201a8"
             ],
             [
              0.3333333333333333,
              "#9c179e"
             ],
             [
              0.4444444444444444,
              "#bd3786"
             ],
             [
              0.5555555555555556,
              "#d8576b"
             ],
             [
              0.6666666666666666,
              "#ed7953"
             ],
             [
              0.7777777777777778,
              "#fb9f3a"
             ],
             [
              0.8888888888888888,
              "#fdca26"
             ],
             [
              1,
              "#f0f921"
             ]
            ],
            "type": "histogram2d"
           }
          ],
          "histogram2dcontour": [
           {
            "colorbar": {
             "outlinewidth": 0,
             "ticks": ""
            },
            "colorscale": [
             [
              0,
              "#0d0887"
             ],
             [
              0.1111111111111111,
              "#46039f"
             ],
             [
              0.2222222222222222,
              "#7201a8"
             ],
             [
              0.3333333333333333,
              "#9c179e"
             ],
             [
              0.4444444444444444,
              "#bd3786"
             ],
             [
              0.5555555555555556,
              "#d8576b"
             ],
             [
              0.6666666666666666,
              "#ed7953"
             ],
             [
              0.7777777777777778,
              "#fb9f3a"
             ],
             [
              0.8888888888888888,
              "#fdca26"
             ],
             [
              1,
              "#f0f921"
             ]
            ],
            "type": "histogram2dcontour"
           }
          ],
          "mesh3d": [
           {
            "colorbar": {
             "outlinewidth": 0,
             "ticks": ""
            },
            "type": "mesh3d"
           }
          ],
          "parcoords": [
           {
            "line": {
             "colorbar": {
              "outlinewidth": 0,
              "ticks": ""
             }
            },
            "type": "parcoords"
           }
          ],
          "pie": [
           {
            "automargin": true,
            "type": "pie"
           }
          ],
          "scatter": [
           {
            "fillpattern": {
             "fillmode": "overlay",
             "size": 10,
             "solidity": 0.2
            },
            "type": "scatter"
           }
          ],
          "scatter3d": [
           {
            "line": {
             "colorbar": {
              "outlinewidth": 0,
              "ticks": ""
             }
            },
            "marker": {
             "colorbar": {
              "outlinewidth": 0,
              "ticks": ""
             }
            },
            "type": "scatter3d"
           }
          ],
          "scattercarpet": [
           {
            "marker": {
             "colorbar": {
              "outlinewidth": 0,
              "ticks": ""
             }
            },
            "type": "scattercarpet"
           }
          ],
          "scattergeo": [
           {
            "marker": {
             "colorbar": {
              "outlinewidth": 0,
              "ticks": ""
             }
            },
            "type": "scattergeo"
           }
          ],
          "scattergl": [
           {
            "marker": {
             "colorbar": {
              "outlinewidth": 0,
              "ticks": ""
             }
            },
            "type": "scattergl"
           }
          ],
          "scattermap": [
           {
            "marker": {
             "colorbar": {
              "outlinewidth": 0,
              "ticks": ""
             }
            },
            "type": "scattermap"
           }
          ],
          "scattermapbox": [
           {
            "marker": {
             "colorbar": {
              "outlinewidth": 0,
              "ticks": ""
             }
            },
            "type": "scattermapbox"
           }
          ],
          "scatterpolar": [
           {
            "marker": {
             "colorbar": {
              "outlinewidth": 0,
              "ticks": ""
             }
            },
            "type": "scatterpolar"
           }
          ],
          "scatterpolargl": [
           {
            "marker": {
             "colorbar": {
              "outlinewidth": 0,
              "ticks": ""
             }
            },
            "type": "scatterpolargl"
           }
          ],
          "scatterternary": [
           {
            "marker": {
             "colorbar": {
              "outlinewidth": 0,
              "ticks": ""
             }
            },
            "type": "scatterternary"
           }
          ],
          "surface": [
           {
            "colorbar": {
             "outlinewidth": 0,
             "ticks": ""
            },
            "colorscale": [
             [
              0,
              "#0d0887"
             ],
             [
              0.1111111111111111,
              "#46039f"
             ],
             [
              0.2222222222222222,
              "#7201a8"
             ],
             [
              0.3333333333333333,
              "#9c179e"
             ],
             [
              0.4444444444444444,
              "#bd3786"
             ],
             [
              0.5555555555555556,
              "#d8576b"
             ],
             [
              0.6666666666666666,
              "#ed7953"
             ],
             [
              0.7777777777777778,
              "#fb9f3a"
             ],
             [
              0.8888888888888888,
              "#fdca26"
             ],
             [
              1,
              "#f0f921"
             ]
            ],
            "type": "surface"
           }
          ],
          "table": [
           {
            "cells": {
             "fill": {
              "color": "#EBF0F8"
             },
             "line": {
              "color": "white"
             }
            },
            "header": {
             "fill": {
              "color": "#C8D4E3"
             },
             "line": {
              "color": "white"
             }
            },
            "type": "table"
           }
          ]
         },
         "layout": {
          "annotationdefaults": {
           "arrowcolor": "#2a3f5f",
           "arrowhead": 0,
           "arrowwidth": 1
          },
          "autotypenumbers": "strict",
          "coloraxis": {
           "colorbar": {
            "outlinewidth": 0,
            "ticks": ""
           }
          },
          "colorscale": {
           "diverging": [
            [
             0,
             "#8e0152"
            ],
            [
             0.1,
             "#c51b7d"
            ],
            [
             0.2,
             "#de77ae"
            ],
            [
             0.3,
             "#f1b6da"
            ],
            [
             0.4,
             "#fde0ef"
            ],
            [
             0.5,
             "#f7f7f7"
            ],
            [
             0.6,
             "#e6f5d0"
            ],
            [
             0.7,
             "#b8e186"
            ],
            [
             0.8,
             "#7fbc41"
            ],
            [
             0.9,
             "#4d9221"
            ],
            [
             1,
             "#276419"
            ]
           ],
           "sequential": [
            [
             0,
             "#0d0887"
            ],
            [
             0.1111111111111111,
             "#46039f"
            ],
            [
             0.2222222222222222,
             "#7201a8"
            ],
            [
             0.3333333333333333,
             "#9c179e"
            ],
            [
             0.4444444444444444,
             "#bd3786"
            ],
            [
             0.5555555555555556,
             "#d8576b"
            ],
            [
             0.6666666666666666,
             "#ed7953"
            ],
            [
             0.7777777777777778,
             "#fb9f3a"
            ],
            [
             0.8888888888888888,
             "#fdca26"
            ],
            [
             1,
             "#f0f921"
            ]
           ],
           "sequentialminus": [
            [
             0,
             "#0d0887"
            ],
            [
             0.1111111111111111,
             "#46039f"
            ],
            [
             0.2222222222222222,
             "#7201a8"
            ],
            [
             0.3333333333333333,
             "#9c179e"
            ],
            [
             0.4444444444444444,
             "#bd3786"
            ],
            [
             0.5555555555555556,
             "#d8576b"
            ],
            [
             0.6666666666666666,
             "#ed7953"
            ],
            [
             0.7777777777777778,
             "#fb9f3a"
            ],
            [
             0.8888888888888888,
             "#fdca26"
            ],
            [
             1,
             "#f0f921"
            ]
           ]
          },
          "colorway": [
           "#636efa",
           "#EF553B",
           "#00cc96",
           "#ab63fa",
           "#FFA15A",
           "#19d3f3",
           "#FF6692",
           "#B6E880",
           "#FF97FF",
           "#FECB52"
          ],
          "font": {
           "color": "#2a3f5f"
          },
          "geo": {
           "bgcolor": "white",
           "lakecolor": "white",
           "landcolor": "white",
           "showlakes": true,
           "showland": true,
           "subunitcolor": "#C8D4E3"
          },
          "hoverlabel": {
           "align": "left"
          },
          "hovermode": "closest",
          "mapbox": {
           "style": "light"
          },
          "paper_bgcolor": "white",
          "plot_bgcolor": "white",
          "polar": {
           "angularaxis": {
            "gridcolor": "#EBF0F8",
            "linecolor": "#EBF0F8",
            "ticks": ""
           },
           "bgcolor": "white",
           "radialaxis": {
            "gridcolor": "#EBF0F8",
            "linecolor": "#EBF0F8",
            "ticks": ""
           }
          },
          "scene": {
           "xaxis": {
            "backgroundcolor": "white",
            "gridcolor": "#DFE8F3",
            "gridwidth": 2,
            "linecolor": "#EBF0F8",
            "showbackground": true,
            "ticks": "",
            "zerolinecolor": "#EBF0F8"
           },
           "yaxis": {
            "backgroundcolor": "white",
            "gridcolor": "#DFE8F3",
            "gridwidth": 2,
            "linecolor": "#EBF0F8",
            "showbackground": true,
            "ticks": "",
            "zerolinecolor": "#EBF0F8"
           },
           "zaxis": {
            "backgroundcolor": "white",
            "gridcolor": "#DFE8F3",
            "gridwidth": 2,
            "linecolor": "#EBF0F8",
            "showbackground": true,
            "ticks": "",
            "zerolinecolor": "#EBF0F8"
           }
          },
          "shapedefaults": {
           "line": {
            "color": "#2a3f5f"
           }
          },
          "ternary": {
           "aaxis": {
            "gridcolor": "#DFE8F3",
            "linecolor": "#A2B1C6",
            "ticks": ""
           },
           "baxis": {
            "gridcolor": "#DFE8F3",
            "linecolor": "#A2B1C6",
            "ticks": ""
           },
           "bgcolor": "white",
           "caxis": {
            "gridcolor": "#DFE8F3",
            "linecolor": "#A2B1C6",
            "ticks": ""
           }
          },
          "title": {
           "x": 0.05
          },
          "xaxis": {
           "automargin": true,
           "gridcolor": "#EBF0F8",
           "linecolor": "#EBF0F8",
           "ticks": "",
           "title": {
            "standoff": 15
           },
           "zerolinecolor": "#EBF0F8",
           "zerolinewidth": 2
          },
          "yaxis": {
           "automargin": true,
           "gridcolor": "#EBF0F8",
           "linecolor": "#EBF0F8",
           "ticks": "",
           "title": {
            "standoff": 15
           },
           "zerolinecolor": "#EBF0F8",
           "zerolinewidth": 2
          }
         }
        },
        "title": {
         "text": "IFPA Events by Year"
        },
        "xaxis": {
         "anchor": "y",
         "domain": [
          0,
          1
         ],
         "title": {
          "text": "year"
         }
        },
        "yaxis": {
         "anchor": "x",
         "domain": [
          0,
          1
         ],
         "title": {
          "text": "count"
         }
        }
       }
      }
     },
     "metadata": {},
     "output_type": "display_data"
    }
   ],
   "source": [
    "fig = px.line(ifpa_by_year,x='year',y='count', title = 'IFPA Events by Year')\n",
    "fig.show()"
   ]
  },
  {
   "cell_type": "code",
   "execution_count": 84,
   "id": "9165ef3c",
   "metadata": {},
   "outputs": [],
   "source": [
    "oh_events = ifpa_events[ifpa_events['state']=='OH']\n",
    "\n",
    "oh_events_year = oh_events['year'].value_counts().reset_index().sort_values(by='year')"
   ]
  },
  {
   "cell_type": "code",
   "execution_count": 86,
   "id": "b16fcadb",
   "metadata": {},
   "outputs": [
    {
     "data": {
      "application/vnd.plotly.v1+json": {
       "config": {
        "plotlyServerURL": "https://plot.ly"
       },
       "data": [
        {
         "hovertemplate": "year=%{x}<br>count=%{y}<extra></extra>",
         "legendgroup": "",
         "line": {
          "color": "#636efa",
          "dash": "solid"
         },
         "marker": {
          "symbol": "circle"
         },
         "mode": "lines",
         "name": "",
         "orientation": "v",
         "showlegend": false,
         "type": "scatter",
         "x": {
          "bdata": "4AfhB+IH4wfkB+UH5gfnB+gH6Qc=",
          "dtype": "i2"
         },
         "xaxis": "x",
         "y": {
          "bdata": "lgAAARMBbAFUAG0AJgEvAjQCFQE=",
          "dtype": "i2"
         },
         "yaxis": "y"
        }
       ],
       "layout": {
        "legend": {
         "tracegroupgap": 0
        },
        "template": {
         "data": {
          "bar": [
           {
            "error_x": {
             "color": "#2a3f5f"
            },
            "error_y": {
             "color": "#2a3f5f"
            },
            "marker": {
             "line": {
              "color": "white",
              "width": 0.5
             },
             "pattern": {
              "fillmode": "overlay",
              "size": 10,
              "solidity": 0.2
             }
            },
            "type": "bar"
           }
          ],
          "barpolar": [
           {
            "marker": {
             "line": {
              "color": "white",
              "width": 0.5
             },
             "pattern": {
              "fillmode": "overlay",
              "size": 10,
              "solidity": 0.2
             }
            },
            "type": "barpolar"
           }
          ],
          "carpet": [
           {
            "aaxis": {
             "endlinecolor": "#2a3f5f",
             "gridcolor": "#C8D4E3",
             "linecolor": "#C8D4E3",
             "minorgridcolor": "#C8D4E3",
             "startlinecolor": "#2a3f5f"
            },
            "baxis": {
             "endlinecolor": "#2a3f5f",
             "gridcolor": "#C8D4E3",
             "linecolor": "#C8D4E3",
             "minorgridcolor": "#C8D4E3",
             "startlinecolor": "#2a3f5f"
            },
            "type": "carpet"
           }
          ],
          "choropleth": [
           {
            "colorbar": {
             "outlinewidth": 0,
             "ticks": ""
            },
            "type": "choropleth"
           }
          ],
          "contour": [
           {
            "colorbar": {
             "outlinewidth": 0,
             "ticks": ""
            },
            "colorscale": [
             [
              0,
              "#0d0887"
             ],
             [
              0.1111111111111111,
              "#46039f"
             ],
             [
              0.2222222222222222,
              "#7201a8"
             ],
             [
              0.3333333333333333,
              "#9c179e"
             ],
             [
              0.4444444444444444,
              "#bd3786"
             ],
             [
              0.5555555555555556,
              "#d8576b"
             ],
             [
              0.6666666666666666,
              "#ed7953"
             ],
             [
              0.7777777777777778,
              "#fb9f3a"
             ],
             [
              0.8888888888888888,
              "#fdca26"
             ],
             [
              1,
              "#f0f921"
             ]
            ],
            "type": "contour"
           }
          ],
          "contourcarpet": [
           {
            "colorbar": {
             "outlinewidth": 0,
             "ticks": ""
            },
            "type": "contourcarpet"
           }
          ],
          "heatmap": [
           {
            "colorbar": {
             "outlinewidth": 0,
             "ticks": ""
            },
            "colorscale": [
             [
              0,
              "#0d0887"
             ],
             [
              0.1111111111111111,
              "#46039f"
             ],
             [
              0.2222222222222222,
              "#7201a8"
             ],
             [
              0.3333333333333333,
              "#9c179e"
             ],
             [
              0.4444444444444444,
              "#bd3786"
             ],
             [
              0.5555555555555556,
              "#d8576b"
             ],
             [
              0.6666666666666666,
              "#ed7953"
             ],
             [
              0.7777777777777778,
              "#fb9f3a"
             ],
             [
              0.8888888888888888,
              "#fdca26"
             ],
             [
              1,
              "#f0f921"
             ]
            ],
            "type": "heatmap"
           }
          ],
          "histogram": [
           {
            "marker": {
             "pattern": {
              "fillmode": "overlay",
              "size": 10,
              "solidity": 0.2
             }
            },
            "type": "histogram"
           }
          ],
          "histogram2d": [
           {
            "colorbar": {
             "outlinewidth": 0,
             "ticks": ""
            },
            "colorscale": [
             [
              0,
              "#0d0887"
             ],
             [
              0.1111111111111111,
              "#46039f"
             ],
             [
              0.2222222222222222,
              "#7201a8"
             ],
             [
              0.3333333333333333,
              "#9c179e"
             ],
             [
              0.4444444444444444,
              "#bd3786"
             ],
             [
              0.5555555555555556,
              "#d8576b"
             ],
             [
              0.6666666666666666,
              "#ed7953"
             ],
             [
              0.7777777777777778,
              "#fb9f3a"
             ],
             [
              0.8888888888888888,
              "#fdca26"
             ],
             [
              1,
              "#f0f921"
             ]
            ],
            "type": "histogram2d"
           }
          ],
          "histogram2dcontour": [
           {
            "colorbar": {
             "outlinewidth": 0,
             "ticks": ""
            },
            "colorscale": [
             [
              0,
              "#0d0887"
             ],
             [
              0.1111111111111111,
              "#46039f"
             ],
             [
              0.2222222222222222,
              "#7201a8"
             ],
             [
              0.3333333333333333,
              "#9c179e"
             ],
             [
              0.4444444444444444,
              "#bd3786"
             ],
             [
              0.5555555555555556,
              "#d8576b"
             ],
             [
              0.6666666666666666,
              "#ed7953"
             ],
             [
              0.7777777777777778,
              "#fb9f3a"
             ],
             [
              0.8888888888888888,
              "#fdca26"
             ],
             [
              1,
              "#f0f921"
             ]
            ],
            "type": "histogram2dcontour"
           }
          ],
          "mesh3d": [
           {
            "colorbar": {
             "outlinewidth": 0,
             "ticks": ""
            },
            "type": "mesh3d"
           }
          ],
          "parcoords": [
           {
            "line": {
             "colorbar": {
              "outlinewidth": 0,
              "ticks": ""
             }
            },
            "type": "parcoords"
           }
          ],
          "pie": [
           {
            "automargin": true,
            "type": "pie"
           }
          ],
          "scatter": [
           {
            "fillpattern": {
             "fillmode": "overlay",
             "size": 10,
             "solidity": 0.2
            },
            "type": "scatter"
           }
          ],
          "scatter3d": [
           {
            "line": {
             "colorbar": {
              "outlinewidth": 0,
              "ticks": ""
             }
            },
            "marker": {
             "colorbar": {
              "outlinewidth": 0,
              "ticks": ""
             }
            },
            "type": "scatter3d"
           }
          ],
          "scattercarpet": [
           {
            "marker": {
             "colorbar": {
              "outlinewidth": 0,
              "ticks": ""
             }
            },
            "type": "scattercarpet"
           }
          ],
          "scattergeo": [
           {
            "marker": {
             "colorbar": {
              "outlinewidth": 0,
              "ticks": ""
             }
            },
            "type": "scattergeo"
           }
          ],
          "scattergl": [
           {
            "marker": {
             "colorbar": {
              "outlinewidth": 0,
              "ticks": ""
             }
            },
            "type": "scattergl"
           }
          ],
          "scattermap": [
           {
            "marker": {
             "colorbar": {
              "outlinewidth": 0,
              "ticks": ""
             }
            },
            "type": "scattermap"
           }
          ],
          "scattermapbox": [
           {
            "marker": {
             "colorbar": {
              "outlinewidth": 0,
              "ticks": ""
             }
            },
            "type": "scattermapbox"
           }
          ],
          "scatterpolar": [
           {
            "marker": {
             "colorbar": {
              "outlinewidth": 0,
              "ticks": ""
             }
            },
            "type": "scatterpolar"
           }
          ],
          "scatterpolargl": [
           {
            "marker": {
             "colorbar": {
              "outlinewidth": 0,
              "ticks": ""
             }
            },
            "type": "scatterpolargl"
           }
          ],
          "scatterternary": [
           {
            "marker": {
             "colorbar": {
              "outlinewidth": 0,
              "ticks": ""
             }
            },
            "type": "scatterternary"
           }
          ],
          "surface": [
           {
            "colorbar": {
             "outlinewidth": 0,
             "ticks": ""
            },
            "colorscale": [
             [
              0,
              "#0d0887"
             ],
             [
              0.1111111111111111,
              "#46039f"
             ],
             [
              0.2222222222222222,
              "#7201a8"
             ],
             [
              0.3333333333333333,
              "#9c179e"
             ],
             [
              0.4444444444444444,
              "#bd3786"
             ],
             [
              0.5555555555555556,
              "#d8576b"
             ],
             [
              0.6666666666666666,
              "#ed7953"
             ],
             [
              0.7777777777777778,
              "#fb9f3a"
             ],
             [
              0.8888888888888888,
              "#fdca26"
             ],
             [
              1,
              "#f0f921"
             ]
            ],
            "type": "surface"
           }
          ],
          "table": [
           {
            "cells": {
             "fill": {
              "color": "#EBF0F8"
             },
             "line": {
              "color": "white"
             }
            },
            "header": {
             "fill": {
              "color": "#C8D4E3"
             },
             "line": {
              "color": "white"
             }
            },
            "type": "table"
           }
          ]
         },
         "layout": {
          "annotationdefaults": {
           "arrowcolor": "#2a3f5f",
           "arrowhead": 0,
           "arrowwidth": 1
          },
          "autotypenumbers": "strict",
          "coloraxis": {
           "colorbar": {
            "outlinewidth": 0,
            "ticks": ""
           }
          },
          "colorscale": {
           "diverging": [
            [
             0,
             "#8e0152"
            ],
            [
             0.1,
             "#c51b7d"
            ],
            [
             0.2,
             "#de77ae"
            ],
            [
             0.3,
             "#f1b6da"
            ],
            [
             0.4,
             "#fde0ef"
            ],
            [
             0.5,
             "#f7f7f7"
            ],
            [
             0.6,
             "#e6f5d0"
            ],
            [
             0.7,
             "#b8e186"
            ],
            [
             0.8,
             "#7fbc41"
            ],
            [
             0.9,
             "#4d9221"
            ],
            [
             1,
             "#276419"
            ]
           ],
           "sequential": [
            [
             0,
             "#0d0887"
            ],
            [
             0.1111111111111111,
             "#46039f"
            ],
            [
             0.2222222222222222,
             "#7201a8"
            ],
            [
             0.3333333333333333,
             "#9c179e"
            ],
            [
             0.4444444444444444,
             "#bd3786"
            ],
            [
             0.5555555555555556,
             "#d8576b"
            ],
            [
             0.6666666666666666,
             "#ed7953"
            ],
            [
             0.7777777777777778,
             "#fb9f3a"
            ],
            [
             0.8888888888888888,
             "#fdca26"
            ],
            [
             1,
             "#f0f921"
            ]
           ],
           "sequentialminus": [
            [
             0,
             "#0d0887"
            ],
            [
             0.1111111111111111,
             "#46039f"
            ],
            [
             0.2222222222222222,
             "#7201a8"
            ],
            [
             0.3333333333333333,
             "#9c179e"
            ],
            [
             0.4444444444444444,
             "#bd3786"
            ],
            [
             0.5555555555555556,
             "#d8576b"
            ],
            [
             0.6666666666666666,
             "#ed7953"
            ],
            [
             0.7777777777777778,
             "#fb9f3a"
            ],
            [
             0.8888888888888888,
             "#fdca26"
            ],
            [
             1,
             "#f0f921"
            ]
           ]
          },
          "colorway": [
           "#636efa",
           "#EF553B",
           "#00cc96",
           "#ab63fa",
           "#FFA15A",
           "#19d3f3",
           "#FF6692",
           "#B6E880",
           "#FF97FF",
           "#FECB52"
          ],
          "font": {
           "color": "#2a3f5f"
          },
          "geo": {
           "bgcolor": "white",
           "lakecolor": "white",
           "landcolor": "white",
           "showlakes": true,
           "showland": true,
           "subunitcolor": "#C8D4E3"
          },
          "hoverlabel": {
           "align": "left"
          },
          "hovermode": "closest",
          "mapbox": {
           "style": "light"
          },
          "paper_bgcolor": "white",
          "plot_bgcolor": "white",
          "polar": {
           "angularaxis": {
            "gridcolor": "#EBF0F8",
            "linecolor": "#EBF0F8",
            "ticks": ""
           },
           "bgcolor": "white",
           "radialaxis": {
            "gridcolor": "#EBF0F8",
            "linecolor": "#EBF0F8",
            "ticks": ""
           }
          },
          "scene": {
           "xaxis": {
            "backgroundcolor": "white",
            "gridcolor": "#DFE8F3",
            "gridwidth": 2,
            "linecolor": "#EBF0F8",
            "showbackground": true,
            "ticks": "",
            "zerolinecolor": "#EBF0F8"
           },
           "yaxis": {
            "backgroundcolor": "white",
            "gridcolor": "#DFE8F3",
            "gridwidth": 2,
            "linecolor": "#EBF0F8",
            "showbackground": true,
            "ticks": "",
            "zerolinecolor": "#EBF0F8"
           },
           "zaxis": {
            "backgroundcolor": "white",
            "gridcolor": "#DFE8F3",
            "gridwidth": 2,
            "linecolor": "#EBF0F8",
            "showbackground": true,
            "ticks": "",
            "zerolinecolor": "#EBF0F8"
           }
          },
          "shapedefaults": {
           "line": {
            "color": "#2a3f5f"
           }
          },
          "ternary": {
           "aaxis": {
            "gridcolor": "#DFE8F3",
            "linecolor": "#A2B1C6",
            "ticks": ""
           },
           "baxis": {
            "gridcolor": "#DFE8F3",
            "linecolor": "#A2B1C6",
            "ticks": ""
           },
           "bgcolor": "white",
           "caxis": {
            "gridcolor": "#DFE8F3",
            "linecolor": "#A2B1C6",
            "ticks": ""
           }
          },
          "title": {
           "x": 0.05
          },
          "xaxis": {
           "automargin": true,
           "gridcolor": "#EBF0F8",
           "linecolor": "#EBF0F8",
           "ticks": "",
           "title": {
            "standoff": 15
           },
           "zerolinecolor": "#EBF0F8",
           "zerolinewidth": 2
          },
          "yaxis": {
           "automargin": true,
           "gridcolor": "#EBF0F8",
           "linecolor": "#EBF0F8",
           "ticks": "",
           "title": {
            "standoff": 15
           },
           "zerolinecolor": "#EBF0F8",
           "zerolinewidth": 2
          }
         }
        },
        "title": {
         "text": "IFPA Events in Ohio by Year"
        },
        "xaxis": {
         "anchor": "y",
         "domain": [
          0,
          1
         ],
         "title": {
          "text": "year"
         }
        },
        "yaxis": {
         "anchor": "x",
         "domain": [
          0,
          1
         ],
         "title": {
          "text": "count"
         }
        }
       }
      }
     },
     "metadata": {},
     "output_type": "display_data"
    }
   ],
   "source": [
    "fig = px.line(oh_events_year, x='year', y='count', title='IFPA Events in Ohio by Year')\n",
    "fig.show()\n",
    "fig.write_image('images/oh-events.svg')"
   ]
  },
  {
   "cell_type": "code",
   "execution_count": 13,
   "id": "a320cbba",
   "metadata": {},
   "outputs": [],
   "source": [
    "players_by_state = pd.read_html('https://www.ifpapinball.com/stats/?stat_id=10&rank_type=w')"
   ]
  },
  {
   "cell_type": "code",
   "execution_count": 14,
   "id": "386b1cab",
   "metadata": {},
   "outputs": [],
   "source": [
    "players_by_state=players_by_state[0].rename(columns={0:\"state\", 1:\"players\"}, inplace=True)"
   ]
  },
  {
   "cell_type": "code",
   "execution_count": 15,
   "id": "7c682c22",
   "metadata": {},
   "outputs": [
    {
     "data": {
      "application/vnd.microsoft.datawrangler.viewer.v0+json": {
       "columns": [
        {
         "name": "index",
         "rawType": "int64",
         "type": "integer"
        },
        {
         "name": "date",
         "rawType": "datetime64[ns]",
         "type": "datetime"
        },
        {
         "name": "small_text",
         "rawType": "object",
         "type": "string"
        },
        {
         "name": "event_name",
         "rawType": "object",
         "type": "string"
        },
        {
         "name": "date_dt",
         "rawType": "datetime64[ns]",
         "type": "datetime"
        },
        {
         "name": "year",
         "rawType": "int64",
         "type": "integer"
        },
        {
         "name": "state",
         "rawType": "object",
         "type": "string"
        },
        {
         "name": "city",
         "rawType": "object",
         "type": "string"
        },
        {
         "name": "lat",
         "rawType": "float64",
         "type": "float"
        },
        {
         "name": "lon",
         "rawType": "float64",
         "type": "float"
        }
       ],
       "ref": "c7fe0c6b-252e-4289-95c7-eaa2e5d1ec3a",
       "rows": [
        [
         "1",
         "2025-07-10 00:00:00",
         " Sharonville, OH, United States | Main Tournament | July 10, 2025",
         "Arcade Legacy's Thursday Throwdown",
         "2025-07-10 00:00:00",
         "2025",
         "OH",
         "Sharonville",
         "39.2681136",
         "-84.4132746"
        ],
        [
         "16",
         "2025-04-16 00:00:00",
         " Toledo, OH, United States | League | April 16, 2025 to July 9, 2025",
         "Toledo Pinball League - Season 5",
         "2025-04-16 00:00:00",
         "2025",
         "OH",
         "Toledo",
         "41.6528052",
         "-83.5378674"
        ],
        [
         "33",
         "2025-07-09 00:00:00",
         " Centerville, OH, United States | Main Tournament | July 9, 2025",
         "Pinball Flip Out at Loose Ends Brewing",
         "2025-07-09 00:00:00",
         "2025",
         "OH",
         "Centerville",
         "39.6283928",
         "-84.1593818"
        ],
        [
         "75",
         "2025-07-06 00:00:00",
         " Cincinnati, OH, United States | Womens Division | July 6, 2025",
         "Queen City Seawitches King Kong Launch Tournament",
         "2025-07-06 00:00:00",
         "2025",
         "OH",
         "Cincinnati",
         "39.1031182",
         "-84.5120196"
        ],
        [
         "80",
         "2025-07-06 00:00:00",
         " Toledo, OH, United States | Main Tournament | July 6, 2025",
         "Toledo Pinball @ The Basement:Toledo's Pinball Pub",
         "2025-07-06 00:00:00",
         "2025",
         "OH",
         "Toledo",
         "41.6528052",
         "-83.5378674"
        ],
        [
         "131",
         "2025-07-03 00:00:00",
         " Sharonville, OH, United States | Main Tournament | July 3, 2025",
         "Arcade Legacy's Thursday Throwdown",
         "2025-07-03 00:00:00",
         "2025",
         "OH",
         "Sharonville",
         "39.2681136",
         "-84.4132746"
        ],
        [
         "144",
         "2025-07-03 00:00:00",
         " Cleveland, OH, United States | Main Tournament | July 3, 2025",
         "Pre-Holiday Fair Strike @ Pinball Planet",
         "2025-07-03 00:00:00",
         "2025",
         "OH",
         "Cleveland",
         "41.49932",
         "-81.6943605"
        ],
        [
         "193",
         "2025-07-01 00:00:00",
         " Cleveland, OH, United States | Main Tournament | July 1, 2025",
         "Tuesday Target Play @ Pinball Planet",
         "2025-07-01 00:00:00",
         "2025",
         "OH",
         "Cleveland",
         "41.49932",
         "-81.6943605"
        ],
        [
         "197",
         "2025-06-30 00:00:00",
         " Hamilton, OH, United States | Launch Party | June 30, 2025",
         "King Kong Launch Party at The Pinball Garage",
         "2025-06-30 00:00:00",
         "2025",
         "OH",
         "Hamilton",
         "39.3988679",
         "-84.5587838"
        ],
        [
         "224",
         "2025-06-29 00:00:00",
         " Toledo, OH, United States | Launch Party | June 29, 2025",
         "King Kong Launch Party @ Wild Side",
         "2025-06-29 00:00:00",
         "2025",
         "OH",
         "Toledo",
         "41.6528052",
         "-83.5378674"
        ],
        [
         "299",
         "2025-06-28 00:00:00",
         " Parma Heights, OH, United States | Main Tournament | June 28, 2025",
         "Pinball Planet Pingolf Summer 2025",
         "2025-06-28 00:00:00",
         "2025",
         "OH",
         "Parma Heights",
         "41.3900518",
         "-81.7595769"
        ],
        [
         "326",
         "2025-06-27 00:00:00",
         " Parma Heights, OH, United States | Main Tournament | June 27, 2025",
         "Pinball Planet Womens Fair Strike Knockout",
         "2025-06-27 00:00:00",
         "2025",
         "OH",
         "Parma Heights",
         "41.3900518",
         "-81.7595769"
        ],
        [
         "344",
         "2025-06-26 00:00:00",
         " Sharonville, OH, United States | Main Tournament | June 26, 2025",
         "Arcade Legacy's Thursday Throwdown",
         "2025-06-26 00:00:00",
         "2025",
         "OH",
         "Sharonville",
         "39.2681136",
         "-84.4132746"
        ],
        [
         "359",
         "2025-06-26 00:00:00",
         " Cleveland, OH, United States | Main Tournament | June 26, 2025",
         "Thursday Night Knockout",
         "2025-06-26 00:00:00",
         "2025",
         "OH",
         "Cleveland",
         "41.49932",
         "-81.6943605"
        ],
        [
         "428",
         "2025-06-24 00:00:00",
         " Cleves, OH, United States | Main Tournament | June 24, 2025",
         "Flipperz Fair Strikes Tournament",
         "2025-06-24 00:00:00",
         "2025",
         "OH",
         "Cleves",
         "39.1617242",
         "-84.749115"
        ],
        [
         "457",
         "2025-04-21 00:00:00",
         " Columbus, OH, United States | League | April 21, 2025 to June 23, 2025",
         "Level One Silverball League Season 25",
         "2025-04-21 00:00:00",
         "2025",
         "OH",
         "Columbus",
         "39.9625112",
         "-83.0032218"
        ],
        [
         "459",
         "2025-06-23 00:00:00",
         " Liberty Township, OH, United States | Launch Party | June 23, 2025",
         "King Kong Launch Party",
         "2025-06-23 00:00:00",
         "2025",
         "OH",
         "Liberty Township",
         "39.401514",
         "-84.4094359"
        ],
        [
         "472",
         "2025-06-22 00:00:00",
         " Toledo, OH, United States | Main Tournament | June 22, 2025",
         "Toledo Pinball @ The Basement:Toledo's Pinball Pub",
         "2025-06-22 00:00:00",
         "2025",
         "OH",
         "Toledo",
         "41.6528052",
         "-83.5378674"
        ],
        [
         "499",
         "2025-06-22 00:00:00",
         " Toledo, OH, United States | Launch Party | June 22, 2025",
         "Glass City Pinball @The Underground Bar",
         "2025-06-22 00:00:00",
         "2025",
         "OH",
         "Toledo",
         "41.6528052",
         "-83.5378674"
        ],
        [
         "513",
         "2025-06-22 00:00:00",
         " Saint Marys, OH, United States | Launch Party | June 22, 2025",
         "King Kong Launch Party At The Comet",
         "2025-06-22 00:00:00",
         "2025",
         "OH",
         "Saint Marys",
         "40.5425341",
         "-84.3895701"
        ],
        [
         "550",
         "2025-06-21 00:00:00",
         " Columbus, OH, United States | Main Tournament | June 21, 2025",
         "Stern King Kong Launch Party",
         "2025-06-21 00:00:00",
         "2025",
         "OH",
         "Columbus",
         "39.9625112",
         "-83.0032218"
        ],
        [
         "590",
         "2025-06-19 00:00:00",
         " Sharonville, OH, United States | Main Tournament | June 19, 2025",
         "Arcade Legacy's Thursday Throwdown",
         "2025-06-19 00:00:00",
         "2025",
         "OH",
         "Sharonville",
         "39.2681136",
         "-84.4132746"
        ],
        [
         "626",
         "2025-06-18 00:00:00",
         " Toledo, OH, United States | Launch Party | June 18, 2025",
         "Belles & Chimes Toledo - Monthly Meet-up",
         "2025-06-18 00:00:00",
         "2025",
         "OH",
         "Toledo",
         "41.6528052",
         "-83.5378674"
        ],
        [
         "690",
         "2025-02-11 00:00:00",
         " Dayton, OH, United States | League | February 11, 2025 to June 17, 2025",
         "Miami Valley Pinball League - Season 4",
         "2025-02-11 00:00:00",
         "2025",
         "OH",
         "Dayton",
         "39.7592225",
         "-84.1936144"
        ],
        [
         "694",
         "2025-06-17 00:00:00",
         " Cleveland, OH, United States | Main Tournament | June 17, 2025",
         "Tuesday Target Play @ Pinball Planet",
         "2025-06-17 00:00:00",
         "2025",
         "OH",
         "Cleveland",
         "41.49932",
         "-81.6943605"
        ],
        [
         "729",
         "2025-06-14 00:00:00",
         " Cincinnati, OH, United States | Main Tournament | June 14, 2025 to June 15, 2025",
         "Pinburgh Satellite Mega Matchplay at Arcade Legacy ",
         "2025-06-14 00:00:00",
         "2025",
         "OH",
         "Cincinnati",
         "39.1031182",
         "-84.5120196"
        ],
        [
         "759",
         "2025-06-15 00:00:00",
         " Toledo, OH, United States | Womens Division | June 15, 2025",
         "Glass City Pinball Women's @The Underground Bar",
         "2025-06-15 00:00:00",
         "2025",
         "OH",
         "Toledo",
         "41.6528052",
         "-83.5378674"
        ],
        [
         "765",
         "2025-06-15 00:00:00",
         " Girard, OH, United States | Main Tournament | June 15, 2025",
         "Past Times Arcade Sunday Classics",
         "2025-06-15 00:00:00",
         "2025",
         "OH",
         "Girard",
         "41.1539465",
         "-80.7014662"
        ],
        [
         "774",
         "2025-06-14 00:00:00",
         " Batavia, OH, United States | Main Tournament | June 14, 2025",
         "Cincy Pinball Championship",
         "2025-06-14 00:00:00",
         "2025",
         "OH",
         "Batavia",
         "39.0770072",
         "-84.1768795"
        ],
        [
         "791",
         "2025-06-14 00:00:00",
         " Piqua, OH, United States | Main Tournament | June 14, 2025",
         "D&D Launch Party",
         "2025-06-14 00:00:00",
         "2025",
         "OH",
         "Piqua",
         "40.1447732",
         "-84.2424449"
        ],
        [
         "818",
         "2025-06-13 00:00:00",
         " Sharonville, OH, United States | Classics | June 13, 2025",
         "Pinburgh Satellite Warmup - Friday Night Classics",
         "2025-06-13 00:00:00",
         "2025",
         "OH",
         "Sharonville",
         "39.2681136",
         "-84.4132746"
        ],
        [
         "834",
         "2025-06-13 00:00:00",
         " Parma Heights, OH, United States | Main Tournament | June 13, 2025",
         "Pinball Planet Womens Fair Strike Knockout",
         "2025-06-13 00:00:00",
         "2025",
         "OH",
         "Parma Heights",
         "41.3900518",
         "-81.7595769"
        ],
        [
         "840",
         "2025-06-13 00:00:00",
         " Girard, OH, United States | Main Tournament | June 13, 2025",
         "Past Times Arcade Stern Army Friday Night Knockout",
         "2025-06-13 00:00:00",
         "2025",
         "OH",
         "Girard",
         "41.1539465",
         "-80.7014662"
        ],
        [
         "846",
         "2025-06-12 00:00:00",
         " Sharonville, OH, United States | Main Tournament | June 12, 2025",
         "Arcade Legacy's Thursday Throwdown",
         "2025-06-12 00:00:00",
         "2025",
         "OH",
         "Sharonville",
         "39.2681136",
         "-84.4132746"
        ],
        [
         "871",
         "2025-04-17 00:00:00",
         " Girard, OH, United States | League | April 17, 2025 to June 12, 2025",
         "Past Times Pinball League Womens Spring Season '25",
         "2025-04-17 00:00:00",
         "2025",
         "OH",
         "Girard",
         "41.1539465",
         "-80.7014662"
        ],
        [
         "872",
         "2025-04-17 00:00:00",
         " Girard, OH, United States | League | April 17, 2025 to June 12, 2025",
         "Past Times Pinball League Open Spring Season '25",
         "2025-04-17 00:00:00",
         "2025",
         "OH",
         "Girard",
         "41.1539465",
         "-80.7014662"
        ],
        [
         "908",
         "2025-06-11 00:00:00",
         " Centerville, OH, United States | Launch Party | June 11, 2025",
         "Pinball Flip Out X-Men Launch Party at Loose Ends",
         "2025-06-11 00:00:00",
         "2025",
         "OH",
         "Centerville",
         "39.6283928",
         "-84.1593818"
        ],
        [
         "969",
         "2025-04-06 00:00:00",
         " Westerville, OH, United States | League | April 6, 2025 to June 8, 2025",
         "614 Pinball League",
         "2025-04-06 00:00:00",
         "2025",
         "OH",
         "Westerville",
         "40.1266689",
         "-82.9318807"
        ],
        [
         "984",
         "2025-06-08 00:00:00",
         " Toledo, OH, United States | Launch Party | June 8, 2025",
         "King Kong Launch Party @ The Basement",
         "2025-06-08 00:00:00",
         "2025",
         "OH",
         "Toledo",
         "41.6528052",
         "-83.5378674"
        ],
        [
         "991",
         "2025-06-08 00:00:00",
         " North Canton, OH, United States | Main Tournament | June 8, 2025",
         "Hoover Pinball Monthly Knockout",
         "2025-06-08 00:00:00",
         "2025",
         "OH",
         "North Canton",
         "40.875891",
         "-81.4023356"
        ],
        [
         "998",
         "2025-06-08 00:00:00",
         " Toledo, OH, United States | Main Tournament | June 8, 2025",
         "Glass City Pinball @The Underground Bar",
         "2025-06-08 00:00:00",
         "2025",
         "OH",
         "Toledo",
         "41.6528052",
         "-83.5378674"
        ],
        [
         "1043",
         "2025-06-07 00:00:00",
         " Dennison, OH, United States | Main Tournament | June 7, 2025",
         "Holy Rollers IFPA June 3 strike knockout",
         "2025-06-07 00:00:00",
         "2025",
         "OH",
         "Dennison",
         "40.3943489",
         "-81.3230322"
        ],
        [
         "1047",
         "2025-06-07 00:00:00",
         " Parma Heights, OH, United States | Main Tournament | June 7, 2025",
         "Pinball Planet Stern Army IFPA Tournament",
         "2025-06-07 00:00:00",
         "2025",
         "OH",
         "Parma Heights",
         "41.3900518",
         "-81.7595769"
        ],
        [
         "1079",
         "2025-06-05 00:00:00",
         " Sharonville, OH, United States | Main Tournament | June 5, 2025",
         "King Kong Launch Party at Arcade Legacy",
         "2025-06-05 00:00:00",
         "2025",
         "OH",
         "Sharonville",
         "39.2681136",
         "-84.4132746"
        ],
        [
         "1171",
         "2025-06-03 00:00:00",
         " Berea, OH, United States | Womens Division | June 3, 2025",
         "KFWL Pinball! Pinball! Pinball!",
         "2025-06-03 00:00:00",
         "2025",
         "OH",
         "Berea",
         "41.3661614",
         "-81.8543026"
        ],
        [
         "1219",
         "2025-06-02 00:00:00",
         " Cincinnati, OH, United States | Main Tournament | June 2, 2025",
         "Anderson Tap House - Weeknight Tap Out",
         "2025-06-02 00:00:00",
         "2025",
         "OH",
         "Cincinnati",
         "39.1031182",
         "-84.5120196"
        ],
        [
         "1223",
         "2025-06-01 00:00:00",
         " Cincinnati, OH, United States | Womens Division | June 1, 2025",
         "Queen City Seawitches Monthly at Arcade Legacy",
         "2025-06-01 00:00:00",
         "2025",
         "OH",
         "Cincinnati",
         "39.1031182",
         "-84.5120196"
        ],
        [
         "1228",
         "2025-06-01 00:00:00",
         " Toledo, OH, United States | Main Tournament | June 1, 2025",
         "Toledo Pinball @ Wild Side Downtown",
         "2025-06-01 00:00:00",
         "2025",
         "OH",
         "Toledo",
         "41.6528052",
         "-83.5378674"
        ],
        [
         "1296",
         "2025-05-25 00:00:00",
         " Berea, OH, United States | Main Tournament | May 25, 2025 to May 31, 2025",
         "Kidforce Seasonal Showdown",
         "2025-05-25 00:00:00",
         "2025",
         "OH",
         "Berea",
         "41.3661614",
         "-81.8543026"
        ],
        [
         "1319",
         "2025-05-30 00:00:00",
         " Cleveland, OH, United States | Main Tournament | May 30, 2025",
         "216 Pinball",
         "2025-05-30 00:00:00",
         "2025",
         "OH",
         "Cleveland",
         "41.49932",
         "-81.6943605"
        ]
       ],
       "shape": {
        "columns": 9,
        "rows": 2932
       }
      },
      "text/html": [
       "<div>\n",
       "<style scoped>\n",
       "    .dataframe tbody tr th:only-of-type {\n",
       "        vertical-align: middle;\n",
       "    }\n",
       "\n",
       "    .dataframe tbody tr th {\n",
       "        vertical-align: top;\n",
       "    }\n",
       "\n",
       "    .dataframe thead th {\n",
       "        text-align: right;\n",
       "    }\n",
       "</style>\n",
       "<table border=\"1\" class=\"dataframe\">\n",
       "  <thead>\n",
       "    <tr style=\"text-align: right;\">\n",
       "      <th></th>\n",
       "      <th>date</th>\n",
       "      <th>small_text</th>\n",
       "      <th>event_name</th>\n",
       "      <th>date_dt</th>\n",
       "      <th>year</th>\n",
       "      <th>state</th>\n",
       "      <th>city</th>\n",
       "      <th>lat</th>\n",
       "      <th>lon</th>\n",
       "    </tr>\n",
       "  </thead>\n",
       "  <tbody>\n",
       "    <tr>\n",
       "      <th>1</th>\n",
       "      <td>2025-07-10</td>\n",
       "      <td>Sharonville, OH, United States | Main Tournam...</td>\n",
       "      <td>Arcade Legacy's Thursday Throwdown</td>\n",
       "      <td>2025-07-10</td>\n",
       "      <td>2025</td>\n",
       "      <td>OH</td>\n",
       "      <td>Sharonville</td>\n",
       "      <td>39.268114</td>\n",
       "      <td>-84.413275</td>\n",
       "    </tr>\n",
       "    <tr>\n",
       "      <th>16</th>\n",
       "      <td>2025-04-16</td>\n",
       "      <td>Toledo, OH, United States | League | April 16...</td>\n",
       "      <td>Toledo Pinball League - Season 5</td>\n",
       "      <td>2025-04-16</td>\n",
       "      <td>2025</td>\n",
       "      <td>OH</td>\n",
       "      <td>Toledo</td>\n",
       "      <td>41.652805</td>\n",
       "      <td>-83.537867</td>\n",
       "    </tr>\n",
       "    <tr>\n",
       "      <th>33</th>\n",
       "      <td>2025-07-09</td>\n",
       "      <td>Centerville, OH, United States | Main Tournam...</td>\n",
       "      <td>Pinball Flip Out at Loose Ends Brewing</td>\n",
       "      <td>2025-07-09</td>\n",
       "      <td>2025</td>\n",
       "      <td>OH</td>\n",
       "      <td>Centerville</td>\n",
       "      <td>39.628393</td>\n",
       "      <td>-84.159382</td>\n",
       "    </tr>\n",
       "    <tr>\n",
       "      <th>75</th>\n",
       "      <td>2025-07-06</td>\n",
       "      <td>Cincinnati, OH, United States | Womens Divisi...</td>\n",
       "      <td>Queen City Seawitches King Kong Launch Tournament</td>\n",
       "      <td>2025-07-06</td>\n",
       "      <td>2025</td>\n",
       "      <td>OH</td>\n",
       "      <td>Cincinnati</td>\n",
       "      <td>39.103118</td>\n",
       "      <td>-84.512020</td>\n",
       "    </tr>\n",
       "    <tr>\n",
       "      <th>80</th>\n",
       "      <td>2025-07-06</td>\n",
       "      <td>Toledo, OH, United States | Main Tournament |...</td>\n",
       "      <td>Toledo Pinball @ The Basement:Toledo's Pinball...</td>\n",
       "      <td>2025-07-06</td>\n",
       "      <td>2025</td>\n",
       "      <td>OH</td>\n",
       "      <td>Toledo</td>\n",
       "      <td>41.652805</td>\n",
       "      <td>-83.537867</td>\n",
       "    </tr>\n",
       "    <tr>\n",
       "      <th>...</th>\n",
       "      <td>...</td>\n",
       "      <td>...</td>\n",
       "      <td>...</td>\n",
       "      <td>...</td>\n",
       "      <td>...</td>\n",
       "      <td>...</td>\n",
       "      <td>...</td>\n",
       "      <td>...</td>\n",
       "      <td>...</td>\n",
       "    </tr>\n",
       "    <tr>\n",
       "      <th>52849</th>\n",
       "      <td>2016-01-19</td>\n",
       "      <td>Cleveland, OH, United States | Main Tournamen...</td>\n",
       "      <td>Weekly Wizard</td>\n",
       "      <td>2016-01-19</td>\n",
       "      <td>2016</td>\n",
       "      <td>OH</td>\n",
       "      <td>Cleveland</td>\n",
       "      <td>41.499320</td>\n",
       "      <td>-81.694361</td>\n",
       "    </tr>\n",
       "    <tr>\n",
       "      <th>52879</th>\n",
       "      <td>2016-01-12</td>\n",
       "      <td>Cleveland, OH, United States | Main Tournamen...</td>\n",
       "      <td>Weekly Wizard</td>\n",
       "      <td>2016-01-12</td>\n",
       "      <td>2016</td>\n",
       "      <td>OH</td>\n",
       "      <td>Cleveland</td>\n",
       "      <td>41.499320</td>\n",
       "      <td>-81.694361</td>\n",
       "    </tr>\n",
       "    <tr>\n",
       "      <th>52893</th>\n",
       "      <td>2016-01-09</td>\n",
       "      <td>Akron, OH, United States | A Division | Janua...</td>\n",
       "      <td>Stonehedge Championship Tournament</td>\n",
       "      <td>2016-01-09</td>\n",
       "      <td>2016</td>\n",
       "      <td>OH</td>\n",
       "      <td>Akron</td>\n",
       "      <td>41.081199</td>\n",
       "      <td>-81.518838</td>\n",
       "    </tr>\n",
       "    <tr>\n",
       "      <th>52908</th>\n",
       "      <td>2016-01-05</td>\n",
       "      <td>Cleveland, OH, United States | Main Tournamen...</td>\n",
       "      <td>Weekly Wizard</td>\n",
       "      <td>2016-01-05</td>\n",
       "      <td>2016</td>\n",
       "      <td>OH</td>\n",
       "      <td>Cleveland</td>\n",
       "      <td>41.499320</td>\n",
       "      <td>-81.694361</td>\n",
       "    </tr>\n",
       "    <tr>\n",
       "      <th>52911</th>\n",
       "      <td>2016-01-04</td>\n",
       "      <td>Akron, OH, United States | Main Tournament | ...</td>\n",
       "      <td>Stonehedge Knockout Tournament</td>\n",
       "      <td>2016-01-04</td>\n",
       "      <td>2016</td>\n",
       "      <td>OH</td>\n",
       "      <td>Akron</td>\n",
       "      <td>41.081199</td>\n",
       "      <td>-81.518838</td>\n",
       "    </tr>\n",
       "  </tbody>\n",
       "</table>\n",
       "<p>2932 rows × 9 columns</p>\n",
       "</div>"
      ],
      "text/plain": [
       "            date                                         small_text  \\\n",
       "1     2025-07-10   Sharonville, OH, United States | Main Tournam...   \n",
       "16    2025-04-16   Toledo, OH, United States | League | April 16...   \n",
       "33    2025-07-09   Centerville, OH, United States | Main Tournam...   \n",
       "75    2025-07-06   Cincinnati, OH, United States | Womens Divisi...   \n",
       "80    2025-07-06   Toledo, OH, United States | Main Tournament |...   \n",
       "...          ...                                                ...   \n",
       "52849 2016-01-19   Cleveland, OH, United States | Main Tournamen...   \n",
       "52879 2016-01-12   Cleveland, OH, United States | Main Tournamen...   \n",
       "52893 2016-01-09   Akron, OH, United States | A Division | Janua...   \n",
       "52908 2016-01-05   Cleveland, OH, United States | Main Tournamen...   \n",
       "52911 2016-01-04   Akron, OH, United States | Main Tournament | ...   \n",
       "\n",
       "                                              event_name    date_dt  year  \\\n",
       "1                     Arcade Legacy's Thursday Throwdown 2025-07-10  2025   \n",
       "16                      Toledo Pinball League - Season 5 2025-04-16  2025   \n",
       "33                Pinball Flip Out at Loose Ends Brewing 2025-07-09  2025   \n",
       "75     Queen City Seawitches King Kong Launch Tournament 2025-07-06  2025   \n",
       "80     Toledo Pinball @ The Basement:Toledo's Pinball... 2025-07-06  2025   \n",
       "...                                                  ...        ...   ...   \n",
       "52849                                      Weekly Wizard 2016-01-19  2016   \n",
       "52879                                      Weekly Wizard 2016-01-12  2016   \n",
       "52893                 Stonehedge Championship Tournament 2016-01-09  2016   \n",
       "52908                                      Weekly Wizard 2016-01-05  2016   \n",
       "52911                     Stonehedge Knockout Tournament 2016-01-04  2016   \n",
       "\n",
       "      state         city        lat        lon  \n",
       "1        OH  Sharonville  39.268114 -84.413275  \n",
       "16       OH       Toledo  41.652805 -83.537867  \n",
       "33       OH  Centerville  39.628393 -84.159382  \n",
       "75       OH   Cincinnati  39.103118 -84.512020  \n",
       "80       OH       Toledo  41.652805 -83.537867  \n",
       "...     ...          ...        ...        ...  \n",
       "52849    OH    Cleveland  41.499320 -81.694361  \n",
       "52879    OH    Cleveland  41.499320 -81.694361  \n",
       "52893    OH        Akron  41.081199 -81.518838  \n",
       "52908    OH    Cleveland  41.499320 -81.694361  \n",
       "52911    OH        Akron  41.081199 -81.518838  \n",
       "\n",
       "[2932 rows x 9 columns]"
      ]
     },
     "execution_count": 15,
     "metadata": {},
     "output_type": "execute_result"
    }
   ],
   "source": [
    "oh_events"
   ]
  },
  {
   "cell_type": "code",
   "execution_count": null,
   "id": "74ef28bc",
   "metadata": {},
   "outputs": [
    {
     "name": "stderr",
     "output_type": "stream",
     "text": [
      "C:\\Users\\nmuff\\AppData\\Local\\Temp\\ipykernel_6120\\2369005070.py:1: SettingWithCopyWarning:\n",
      "\n",
      "\n",
      "A value is trying to be set on a copy of a slice from a DataFrame.\n",
      "Try using .loc[row_indexer,col_indexer] = value instead\n",
      "\n",
      "See the caveats in the documentation: https://pandas.pydata.org/pandas-docs/stable/user_guide/indexing.html#returning-a-view-versus-a-copy\n",
      "\n"
     ]
    }
   ],
   "source": [
    "# oh_events['city']=oh_events['small_text'].str.split(',').str[0].str.strip()"
   ]
  },
  {
   "cell_type": "code",
   "execution_count": 16,
   "id": "3b49f8c7",
   "metadata": {},
   "outputs": [
    {
     "data": {
      "application/vnd.microsoft.datawrangler.viewer.v0+json": {
       "columns": [
        {
         "name": "index",
         "rawType": "int64",
         "type": "integer"
        },
        {
         "name": "date",
         "rawType": "datetime64[ns]",
         "type": "datetime"
        },
        {
         "name": "small_text",
         "rawType": "object",
         "type": "string"
        },
        {
         "name": "event_name",
         "rawType": "object",
         "type": "string"
        },
        {
         "name": "date_dt",
         "rawType": "datetime64[ns]",
         "type": "datetime"
        },
        {
         "name": "year",
         "rawType": "int64",
         "type": "integer"
        },
        {
         "name": "state",
         "rawType": "object",
         "type": "string"
        },
        {
         "name": "city",
         "rawType": "object",
         "type": "string"
        },
        {
         "name": "lat",
         "rawType": "float64",
         "type": "float"
        },
        {
         "name": "lon",
         "rawType": "float64",
         "type": "float"
        }
       ],
       "ref": "7f01f658-e6fa-4185-91ec-397ffc448642",
       "rows": [
        [
         "1",
         "2025-07-10 00:00:00",
         " Sharonville, OH, United States | Main Tournament | July 10, 2025",
         "Arcade Legacy's Thursday Throwdown",
         "2025-07-10 00:00:00",
         "2025",
         "OH",
         "Sharonville",
         "39.2681136",
         "-84.4132746"
        ],
        [
         "16",
         "2025-04-16 00:00:00",
         " Toledo, OH, United States | League | April 16, 2025 to July 9, 2025",
         "Toledo Pinball League - Season 5",
         "2025-04-16 00:00:00",
         "2025",
         "OH",
         "Toledo",
         "41.6528052",
         "-83.5378674"
        ],
        [
         "33",
         "2025-07-09 00:00:00",
         " Centerville, OH, United States | Main Tournament | July 9, 2025",
         "Pinball Flip Out at Loose Ends Brewing",
         "2025-07-09 00:00:00",
         "2025",
         "OH",
         "Centerville",
         "39.6283928",
         "-84.1593818"
        ],
        [
         "75",
         "2025-07-06 00:00:00",
         " Cincinnati, OH, United States | Womens Division | July 6, 2025",
         "Queen City Seawitches King Kong Launch Tournament",
         "2025-07-06 00:00:00",
         "2025",
         "OH",
         "Cincinnati",
         "39.1031182",
         "-84.5120196"
        ],
        [
         "80",
         "2025-07-06 00:00:00",
         " Toledo, OH, United States | Main Tournament | July 6, 2025",
         "Toledo Pinball @ The Basement:Toledo's Pinball Pub",
         "2025-07-06 00:00:00",
         "2025",
         "OH",
         "Toledo",
         "41.6528052",
         "-83.5378674"
        ]
       ],
       "shape": {
        "columns": 9,
        "rows": 5
       }
      },
      "text/html": [
       "<div>\n",
       "<style scoped>\n",
       "    .dataframe tbody tr th:only-of-type {\n",
       "        vertical-align: middle;\n",
       "    }\n",
       "\n",
       "    .dataframe tbody tr th {\n",
       "        vertical-align: top;\n",
       "    }\n",
       "\n",
       "    .dataframe thead th {\n",
       "        text-align: right;\n",
       "    }\n",
       "</style>\n",
       "<table border=\"1\" class=\"dataframe\">\n",
       "  <thead>\n",
       "    <tr style=\"text-align: right;\">\n",
       "      <th></th>\n",
       "      <th>date</th>\n",
       "      <th>small_text</th>\n",
       "      <th>event_name</th>\n",
       "      <th>date_dt</th>\n",
       "      <th>year</th>\n",
       "      <th>state</th>\n",
       "      <th>city</th>\n",
       "      <th>lat</th>\n",
       "      <th>lon</th>\n",
       "    </tr>\n",
       "  </thead>\n",
       "  <tbody>\n",
       "    <tr>\n",
       "      <th>1</th>\n",
       "      <td>2025-07-10</td>\n",
       "      <td>Sharonville, OH, United States | Main Tournam...</td>\n",
       "      <td>Arcade Legacy's Thursday Throwdown</td>\n",
       "      <td>2025-07-10</td>\n",
       "      <td>2025</td>\n",
       "      <td>OH</td>\n",
       "      <td>Sharonville</td>\n",
       "      <td>39.268114</td>\n",
       "      <td>-84.413275</td>\n",
       "    </tr>\n",
       "    <tr>\n",
       "      <th>16</th>\n",
       "      <td>2025-04-16</td>\n",
       "      <td>Toledo, OH, United States | League | April 16...</td>\n",
       "      <td>Toledo Pinball League - Season 5</td>\n",
       "      <td>2025-04-16</td>\n",
       "      <td>2025</td>\n",
       "      <td>OH</td>\n",
       "      <td>Toledo</td>\n",
       "      <td>41.652805</td>\n",
       "      <td>-83.537867</td>\n",
       "    </tr>\n",
       "    <tr>\n",
       "      <th>33</th>\n",
       "      <td>2025-07-09</td>\n",
       "      <td>Centerville, OH, United States | Main Tournam...</td>\n",
       "      <td>Pinball Flip Out at Loose Ends Brewing</td>\n",
       "      <td>2025-07-09</td>\n",
       "      <td>2025</td>\n",
       "      <td>OH</td>\n",
       "      <td>Centerville</td>\n",
       "      <td>39.628393</td>\n",
       "      <td>-84.159382</td>\n",
       "    </tr>\n",
       "    <tr>\n",
       "      <th>75</th>\n",
       "      <td>2025-07-06</td>\n",
       "      <td>Cincinnati, OH, United States | Womens Divisi...</td>\n",
       "      <td>Queen City Seawitches King Kong Launch Tournament</td>\n",
       "      <td>2025-07-06</td>\n",
       "      <td>2025</td>\n",
       "      <td>OH</td>\n",
       "      <td>Cincinnati</td>\n",
       "      <td>39.103118</td>\n",
       "      <td>-84.512020</td>\n",
       "    </tr>\n",
       "    <tr>\n",
       "      <th>80</th>\n",
       "      <td>2025-07-06</td>\n",
       "      <td>Toledo, OH, United States | Main Tournament |...</td>\n",
       "      <td>Toledo Pinball @ The Basement:Toledo's Pinball...</td>\n",
       "      <td>2025-07-06</td>\n",
       "      <td>2025</td>\n",
       "      <td>OH</td>\n",
       "      <td>Toledo</td>\n",
       "      <td>41.652805</td>\n",
       "      <td>-83.537867</td>\n",
       "    </tr>\n",
       "  </tbody>\n",
       "</table>\n",
       "</div>"
      ],
      "text/plain": [
       "         date                                         small_text  \\\n",
       "1  2025-07-10   Sharonville, OH, United States | Main Tournam...   \n",
       "16 2025-04-16   Toledo, OH, United States | League | April 16...   \n",
       "33 2025-07-09   Centerville, OH, United States | Main Tournam...   \n",
       "75 2025-07-06   Cincinnati, OH, United States | Womens Divisi...   \n",
       "80 2025-07-06   Toledo, OH, United States | Main Tournament |...   \n",
       "\n",
       "                                           event_name    date_dt  year state  \\\n",
       "1                  Arcade Legacy's Thursday Throwdown 2025-07-10  2025    OH   \n",
       "16                   Toledo Pinball League - Season 5 2025-04-16  2025    OH   \n",
       "33             Pinball Flip Out at Loose Ends Brewing 2025-07-09  2025    OH   \n",
       "75  Queen City Seawitches King Kong Launch Tournament 2025-07-06  2025    OH   \n",
       "80  Toledo Pinball @ The Basement:Toledo's Pinball... 2025-07-06  2025    OH   \n",
       "\n",
       "           city        lat        lon  \n",
       "1   Sharonville  39.268114 -84.413275  \n",
       "16       Toledo  41.652805 -83.537867  \n",
       "33  Centerville  39.628393 -84.159382  \n",
       "75   Cincinnati  39.103118 -84.512020  \n",
       "80       Toledo  41.652805 -83.537867  "
      ]
     },
     "execution_count": 16,
     "metadata": {},
     "output_type": "execute_result"
    }
   ],
   "source": [
    "oh_events.head()"
   ]
  },
  {
   "cell_type": "code",
   "execution_count": 17,
   "id": "f30e3810",
   "metadata": {},
   "outputs": [],
   "source": [
    "oh_events.to_csv('oh_events.csv', index=False)"
   ]
  },
  {
   "cell_type": "code",
   "execution_count": null,
   "id": "fccbb3c8",
   "metadata": {},
   "outputs": [],
   "source": []
  }
 ],
 "metadata": {
  "kernelspec": {
   "display_name": "3.12.8",
   "language": "python",
   "name": "python3"
  },
  "language_info": {
   "codemirror_mode": {
    "name": "ipython",
    "version": 3
   },
   "file_extension": ".py",
   "mimetype": "text/x-python",
   "name": "python",
   "nbconvert_exporter": "python",
   "pygments_lexer": "ipython3",
   "version": "3.12.8"
  }
 },
 "nbformat": 4,
 "nbformat_minor": 5
}
