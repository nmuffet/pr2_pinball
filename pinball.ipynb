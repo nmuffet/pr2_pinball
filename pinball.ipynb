{
 "cells": [
  {
   "cell_type": "markdown",
   "id": "f6db3772",
   "metadata": {},
   "source": [
    "What pinball games are hardest?\n",
    "How do scores compare between machines?"
   ]
  },
  {
   "cell_type": "code",
   "execution_count": 83,
   "id": "282429fb",
   "metadata": {},
   "outputs": [],
   "source": [
    "import pandas as pd\n",
    "import requests\n",
    "import os\n",
    "from bs4 import BeautifulSoup"
   ]
  },
  {
   "cell_type": "code",
   "execution_count": 84,
   "id": "b1b0f5f2",
   "metadata": {},
   "outputs": [],
   "source": [
    "# headers = {'User-Agent': 'Mozilla/5.0 (Windows NT 10.0; Win64; x64) AppleWebKit/537.36 (KHTML, like Gecko) Chrome/138.0.0.0 Safari/537.36'}\n"
   ]
  },
  {
   "cell_type": "code",
   "execution_count": 85,
   "id": "a5a6ce86",
   "metadata": {},
   "outputs": [],
   "source": [
    "# url = 'https://pinside.com/pinball/community/scores'\n",
    "# response = requests.get(url, headers=headers)\n",
    "# doc = BeautifulSoup(response.text)"
   ]
  },
  {
   "cell_type": "code",
   "execution_count": 86,
   "id": "3fd6fc10",
   "metadata": {},
   "outputs": [],
   "source": [
    "# print(response.text)\n",
    "# #I get a 403 block here. Need to use something else."
   ]
  },
  {
   "cell_type": "code",
   "execution_count": null,
   "id": "867b0872",
   "metadata": {},
   "outputs": [
    {
     "name": "stdout",
     "output_type": "stream",
     "text": [
      "Note: you may need to restart the kernel to use updated packages.\n"
     ]
    },
    {
     "name": "stderr",
     "output_type": "stream",
     "text": [
      "\n",
      "[notice] A new release of pip is available: 24.3.1 -> 25.1.1\n",
      "[notice] To update, run: c:\\Users\\nmuff\\.pyenv\\pyenv-win\\versions\\3.12.8\\python.exe -m pip install --upgrade pip\n"
     ]
    },
    {
     "name": "stdout",
     "output_type": "stream",
     "text": [
      "Note: you may need to restart the kernel to use updated packages.\n"
     ]
    },
    {
     "name": "stderr",
     "output_type": "stream",
     "text": [
      "\n",
      "[notice] A new release of pip is available: 24.3.1 -> 25.1.1\n",
      "[notice] To update, run: c:\\Users\\nmuff\\.pyenv\\pyenv-win\\versions\\3.12.8\\python.exe -m pip install --upgrade pip\n"
     ]
    }
   ],
   "source": [
    "# %pip install --quiet lxml html5lib beautifulsoup4 pandas\n",
    "# %pip install --quiet playwright\n",
    "# !playwright install"
   ]
  },
  {
   "cell_type": "code",
   "execution_count": 88,
   "id": "19603e64",
   "metadata": {},
   "outputs": [],
   "source": [
    "# from playwright.async_api import async_playwright\n",
    "\n",
    "# # \"Hey, open up a browser\"\n",
    "# playwright = await async_playwright().start()\n",
    "# browser = await playwright.chromium.launch(headless=False)\n",
    "\n",
    "# # Create a new browser window\n",
    "# page = await browser.new_page()"
   ]
  },
  {
   "cell_type": "code",
   "execution_count": 89,
   "id": "881de4c5",
   "metadata": {},
   "outputs": [],
   "source": [
    "# await page.goto(url)"
   ]
  },
  {
   "cell_type": "code",
   "execution_count": 90,
   "id": "e8eb7034",
   "metadata": {},
   "outputs": [],
   "source": [
    "# # start building database\n",
    "# html_content = await page.content()\n",
    "# doc = BeautifulSoup(html_content)"
   ]
  },
  {
   "cell_type": "code",
   "execution_count": 91,
   "id": "25094914",
   "metadata": {},
   "outputs": [],
   "source": [
    "# await page.locator(\".next\").click(timeout=5000)"
   ]
  },
  {
   "cell_type": "markdown",
   "id": "e674bddf",
   "metadata": {},
   "source": [
    "Running into an issue with Cloudflare. Need to revisit... Camoufox?"
   ]
  },
  {
   "cell_type": "code",
   "execution_count": 92,
   "id": "f95f0bec",
   "metadata": {},
   "outputs": [],
   "source": [
    "from dotenv import load_dotenv\n",
    "\n",
    "load_dotenv()\n",
    "\n",
    "opdb_key = os.getenv(\"OPDB\")"
   ]
  },
  {
   "cell_type": "markdown",
   "id": "0b8c7673",
   "metadata": {},
   "source": [
    "A common task when interacting with the OPDB API is to parse an OPDB ID into it's separate parts. The following regular expression can be used to parse OPDB IDs\n",
    "\n",
    "`/^G([a-zA-Z0-9]+)(?:-M([a-zA-Z0-9]+)(?:-A([a-zA-Z0-9]+))?)?$/`\n",
    "\n",
    "The first capturing group will contain the group identifier, the second the machine identifier and the third the alias identifier."
   ]
  },
  {
   "cell_type": "code",
   "execution_count": 93,
   "id": "ac73ac22",
   "metadata": {},
   "outputs": [],
   "source": [
    "response = requests.get(f'https://opdb.org/api/export?api_token={opdb_key}')"
   ]
  },
  {
   "cell_type": "code",
   "execution_count": 94,
   "id": "d41bc0c4",
   "metadata": {},
   "outputs": [],
   "source": [
    "data = response.json()"
   ]
  },
  {
   "cell_type": "code",
   "execution_count": 95,
   "id": "4c411718",
   "metadata": {},
   "outputs": [],
   "source": [
    "opdb = pd.DataFrame(data)"
   ]
  },
  {
   "cell_type": "code",
   "execution_count": 96,
   "id": "260eefdd",
   "metadata": {},
   "outputs": [
    {
     "data": {
      "application/vnd.microsoft.datawrangler.viewer.v0+json": {
       "columns": [
        {
         "name": "index",
         "rawType": "int64",
         "type": "integer"
        },
        {
         "name": "opdb_id",
         "rawType": "object",
         "type": "string"
        },
        {
         "name": "is_machine",
         "rawType": "object",
         "type": "unknown"
        },
        {
         "name": "name",
         "rawType": "object",
         "type": "string"
        },
        {
         "name": "common_name",
         "rawType": "object",
         "type": "unknown"
        },
        {
         "name": "shortname",
         "rawType": "object",
         "type": "unknown"
        },
        {
         "name": "physical_machine",
         "rawType": "float64",
         "type": "float"
        },
        {
         "name": "ipdb_id",
         "rawType": "float64",
         "type": "float"
        },
        {
         "name": "manufacture_date",
         "rawType": "object",
         "type": "string"
        },
        {
         "name": "manufacturer",
         "rawType": "object",
         "type": "unknown"
        },
        {
         "name": "type",
         "rawType": "object",
         "type": "unknown"
        },
        {
         "name": "display",
         "rawType": "object",
         "type": "unknown"
        },
        {
         "name": "player_count",
         "rawType": "float64",
         "type": "float"
        },
        {
         "name": "features",
         "rawType": "object",
         "type": "unknown"
        },
        {
         "name": "keywords",
         "rawType": "object",
         "type": "unknown"
        },
        {
         "name": "description",
         "rawType": "object",
         "type": "unknown"
        },
        {
         "name": "created_at",
         "rawType": "object",
         "type": "string"
        },
        {
         "name": "updated_at",
         "rawType": "object",
         "type": "string"
        },
        {
         "name": "images",
         "rawType": "object",
         "type": "unknown"
        },
        {
         "name": "is_alias",
         "rawType": "object",
         "type": "unknown"
        }
       ],
       "ref": "5ba65e0c-ec8e-4f80-8ffb-89a67d9ad065",
       "rows": [
        [
         "0",
         "G50L9-MDxXD",
         "True",
         "Challenger",
         null,
         "",
         "1.0",
         "483.0",
         "1971-03-01",
         "{'manufacturer_id': 2, 'name': 'Gottlieb', 'full_name': 'D. Gottlieb & Co.', 'created_at': '2018-03-11', 'updated_at': '2018-03-11'}",
         "em",
         "reels",
         "2.0",
         "['Head-to-head play']",
         "[]",
         "",
         "2018-03-11",
         "2018-05-08",
         "[{'title': 'Backglass', 'primary': True, 'type': 'backglass', 'urls': {'medium': 'https://img.opdb.org/46a61cc7-8a85-4483-bc7c-d42251419868-medium.jpg', 'large': 'https://img.opdb.org/46a61cc7-8a85-4483-bc7c-d42251419868-large.jpg', 'small': 'https://img.opdb.org/46a61cc7-8a85-4483-bc7c-d42251419868-small.jpg'}, 'sizes': {'medium': {'width': 640, 'height': 445}, 'large': {'width': 640, 'height': 445}, 'small': {'width': 250, 'height': 174}}}]",
         null
        ],
        [
         "1",
         "GR7V3-MQPyL",
         "True",
         "Moon Shot",
         null,
         "",
         "1.0",
         "1628.0",
         "1969-08-01",
         "{'manufacturer_id': 3, 'name': 'Chicago Coin', 'full_name': 'Chicago Coin Machine Mfg. Co.', 'created_at': '2018-03-11', 'updated_at': '2018-03-11'}",
         "em",
         "reels",
         "4.0",
         "[]",
         "[]",
         null,
         "2018-03-11",
         "2018-05-08",
         "[{'title': 'Backglass', 'primary': True, 'type': 'backglass', 'urls': {'medium': 'https://img.opdb.org/1f4c8baa-3263-45cc-9cdf-8bca641f5270-medium.jpg', 'large': 'https://img.opdb.org/1f4c8baa-3263-45cc-9cdf-8bca641f5270-large.jpg', 'small': 'https://img.opdb.org/1f4c8baa-3263-45cc-9cdf-8bca641f5270-small.jpg'}, 'sizes': {'medium': {'width': 640, 'height': 603}, 'large': {'width': 765, 'height': 721}, 'small': {'width': 250, 'height': 236}}}]",
         null
        ],
        [
         "2",
         "GRDlQ-MJ9yJ",
         "True",
         "Galaxy Play",
         null,
         "",
         "1.0",
         "4631.0",
         "1986-01-01",
         "{'manufacturer_id': 4, 'name': 'Cic Play', 'full_name': 'Consolidated Industries Co.', 'created_at': '2018-03-11', 'updated_at': '2018-03-11'}",
         "ss",
         "alphanumeric",
         "4.0",
         "[]",
         "[]",
         "",
         "2018-03-11",
         "2018-04-05",
         "[{'title': 'Backglass', 'primary': True, 'type': 'backglass', 'urls': {'medium': 'https://img.opdb.org/eb583dfc-cfc5-42fa-9459-eefa0357bf56-medium.jpg', 'large': 'https://img.opdb.org/eb583dfc-cfc5-42fa-9459-eefa0357bf56-large.jpg', 'small': 'https://img.opdb.org/eb583dfc-cfc5-42fa-9459-eefa0357bf56-small.jpg'}, 'sizes': {'medium': {'width': 640, 'height': 572}, 'large': {'width': 671, 'height': 600}, 'small': {'width': 250, 'height': 224}}}]",
         null
        ],
        [
         "3",
         "G4xlK-MDEKL",
         "True",
         "Free Fall",
         null,
         "",
         "1.0",
         "949.0",
         "1974-10-01",
         "{'manufacturer_id': 2, 'name': 'Gottlieb', 'full_name': 'D. Gottlieb & Co.', 'created_at': '2018-03-11', 'updated_at': '2018-03-11'}",
         "em",
         "reels",
         "1.0",
         "['Add-a-ball']",
         "[]",
         "",
         "2018-03-11",
         "2018-04-22",
         "[{'title': 'Backglass', 'primary': True, 'type': 'backglass', 'urls': {'medium': 'https://img.opdb.org/0cc8604e-bc3b-4c7a-8e7b-6974ef4fcb41-medium.jpg', 'large': 'https://img.opdb.org/0cc8604e-bc3b-4c7a-8e7b-6974ef4fcb41-large.jpg', 'small': 'https://img.opdb.org/0cc8604e-bc3b-4c7a-8e7b-6974ef4fcb41-small.jpg'}, 'sizes': {'medium': {'width': 456, 'height': 431}, 'large': {'width': 456, 'height': 431}, 'small': {'width': 250, 'height': 236}}}]",
         null
        ],
        [
         "4",
         "G4Xdq-MLBlD",
         "True",
         "The 30's",
         "",
         "",
         "1.0",
         "2532.0",
         "1977-01-04",
         "{'manufacturer_id': 5, 'name': 'Playmatic', 'full_name': 'Playmatic', 'created_at': '2018-03-11', 'updated_at': '2018-03-11'}",
         "em",
         "reels",
         "1.0",
         "[]",
         "[]",
         "",
         "2018-03-11",
         "2022-06-02",
         "[{'title': 'Backglass', 'primary': True, 'type': 'backglass', 'urls': {'medium': 'https://img.opdb.org/58d069fe-f13d-4348-aaf2-822fb0cff245-medium.jpg', 'large': 'https://img.opdb.org/58d069fe-f13d-4348-aaf2-822fb0cff245-large.jpg', 'small': 'https://img.opdb.org/58d069fe-f13d-4348-aaf2-822fb0cff245-small.jpg'}, 'sizes': {'medium': {'width': 308, 'height': 314}, 'large': {'width': 308, 'height': 314}, 'small': {'width': 245, 'height': 250}}}]",
         null
        ],
        [
         "5",
         "G5WPp-MLyZJ",
         "True",
         "Sisters",
         null,
         "",
         "1.0",
         "4108.0",
         "1979-01-01",
         "{'manufacturer_id': 6, 'name': 'Mondialmatic', 'full_name': 'Mondialmatic', 'created_at': '2018-03-11', 'updated_at': '2018-03-11'}",
         "ss",
         "reels",
         "1.0",
         "['Conversion kit']",
         "[]",
         "",
         "2018-03-11",
         "2018-04-22",
         "[{'title': 'Backglass', 'primary': True, 'type': 'backglass', 'urls': {'medium': 'https://img.opdb.org/3c1cbba6-ee95-4221-9048-3f80b97c53da-medium.jpg', 'large': 'https://img.opdb.org/3c1cbba6-ee95-4221-9048-3f80b97c53da-large.jpg', 'small': 'https://img.opdb.org/3c1cbba6-ee95-4221-9048-3f80b97c53da-small.jpg'}, 'sizes': {'medium': {'width': 226, 'height': 256}, 'large': {'width': 226, 'height': 256}, 'small': {'width': 221, 'height': 250}}}]",
         null
        ],
        [
         "6",
         "GRnX6-MQk8L",
         "True",
         "Space Mission",
         null,
         "",
         "1.0",
         "2253.0",
         "1976-01-01",
         "{'manufacturer_id': 7, 'name': 'Williams', 'full_name': 'Williams Electronic Games, Inc.', 'created_at': '2018-03-11', 'updated_at': '2018-03-11'}",
         "em",
         "reels",
         "4.0",
         "[]",
         "[]",
         null,
         "2018-03-11",
         "2018-05-02",
         "[{'title': 'Backglass', 'primary': True, 'type': 'backglass', 'urls': {'medium': 'https://img.opdb.org/e2769367-093e-4369-8273-a1919b50e261-medium.jpg', 'large': 'https://img.opdb.org/e2769367-093e-4369-8273-a1919b50e261-large.jpg', 'small': 'https://img.opdb.org/e2769367-093e-4369-8273-a1919b50e261-small.jpg'}, 'sizes': {'medium': {'width': 640, 'height': 459}, 'large': {'width': 836, 'height': 600}, 'small': {'width': 250, 'height': 179}}}]",
         null
        ],
        [
         "7",
         "GRpKY-MDlYQ",
         "True",
         "Groovy",
         null,
         "",
         "1.0",
         "1091.0",
         "1970-07-01",
         "{'manufacturer_id': 2, 'name': 'Gottlieb', 'full_name': 'D. Gottlieb & Co.', 'created_at': '2018-03-11', 'updated_at': '2018-03-11'}",
         "em",
         "reels",
         "4.0",
         "[]",
         "[]",
         null,
         "2018-03-11",
         "2018-05-08",
         "[{'title': 'Backglass', 'primary': True, 'type': 'backglass', 'urls': {'medium': 'https://img.opdb.org/3368c32f-1a75-4588-9d13-67a0edf075b9-medium.jpg', 'large': 'https://img.opdb.org/3368c32f-1a75-4588-9d13-67a0edf075b9-large.jpg', 'small': 'https://img.opdb.org/3368c32f-1a75-4588-9d13-67a0edf075b9-small.jpg'}, 'sizes': {'medium': {'width': 400, 'height': 393}, 'large': {'width': 400, 'height': 393}, 'small': {'width': 250, 'height': 246}}}]",
         null
        ],
        [
         "8",
         "G5QBX-MQd1L",
         "True",
         "Big Ben",
         null,
         "",
         "1.0",
         "231.0",
         "1954-05-01",
         "{'manufacturer_id': 7, 'name': 'Williams', 'full_name': 'Williams Electronic Games, Inc.', 'created_at': '2018-03-11', 'updated_at': '2018-03-11'}",
         "em",
         "lights",
         "1.0",
         "[]",
         "[]",
         null,
         "2018-03-11",
         "2018-05-14",
         "[{'title': 'Backglass', 'primary': True, 'type': 'backglass', 'urls': {'medium': 'https://img.opdb.org/04ce594a-6b9f-4968-8c80-7bb814494a43-medium.jpg', 'large': 'https://img.opdb.org/04ce594a-6b9f-4968-8c80-7bb814494a43-large.jpg', 'small': 'https://img.opdb.org/04ce594a-6b9f-4968-8c80-7bb814494a43-small.jpg'}, 'sizes': {'medium': {'width': 640, 'height': 480}, 'large': {'width': 800, 'height': 600}, 'small': {'width': 250, 'height': 188}}}]",
         null
        ],
        [
         "9",
         "GrEVb-MLOxJ",
         "True",
         "City Slicker",
         null,
         "",
         "1.0",
         "527.0",
         "1987-03-01",
         "{'manufacturer_id': 8, 'name': 'Bally', 'full_name': 'Bally Manufacturing Co.', 'created_at': '2018-03-11', 'updated_at': '2018-03-11'}",
         "ss",
         "alphanumeric",
         "4.0",
         "[]",
         "[]",
         null,
         "2018-03-11",
         "2018-04-01",
         "[{'title': 'Backglass', 'primary': True, 'type': 'backglass', 'urls': {'medium': 'https://img.opdb.org/40ce2f98-2f34-41f0-85dc-293d7e487424-medium.jpg', 'large': 'https://img.opdb.org/40ce2f98-2f34-41f0-85dc-293d7e487424-large.jpg', 'small': 'https://img.opdb.org/40ce2f98-2f34-41f0-85dc-293d7e487424-small.jpg'}, 'sizes': {'medium': {'width': 630, 'height': 600}, 'large': {'width': 630, 'height': 600}, 'small': {'width': 250, 'height': 238}}}]",
         null
        ],
        [
         "10",
         "G48JX-MJw3J",
         "True",
         "Big Day",
         null,
         "",
         "1.0",
         "243.0",
         "1964-08-01",
         "{'manufacturer_id': 8, 'name': 'Bally', 'full_name': 'Bally Manufacturing Co.', 'created_at': '2018-03-11', 'updated_at': '2018-03-11'}",
         "em",
         "reels",
         "4.0",
         "[]",
         "[]",
         null,
         "2018-03-11",
         "2018-05-12",
         "[{'title': 'Backglass', 'primary': True, 'type': 'backglass', 'urls': {'medium': 'https://img.opdb.org/907d24cd-4c8f-457b-8e43-15591f78485b-medium.jpg', 'large': 'https://img.opdb.org/907d24cd-4c8f-457b-8e43-15591f78485b-large.jpg', 'small': 'https://img.opdb.org/907d24cd-4c8f-457b-8e43-15591f78485b-small.jpg'}, 'sizes': {'medium': {'width': 640, 'height': 506}, 'large': {'width': 769, 'height': 608}, 'small': {'width': 250, 'height': 198}}}]",
         null
        ],
        [
         "11",
         "G5728-MDbjD",
         "True",
         "Flash Gordon",
         null,
         "FG",
         "1.0",
         "874.0",
         "1980-05-13",
         "{'manufacturer_id': 8, 'name': 'Bally', 'full_name': 'Bally Manufacturing Co.', 'created_at': '2018-03-11', 'updated_at': '2018-03-11'}",
         "ss",
         "alphanumeric",
         "4.0",
         "[]",
         "['movie']",
         null,
         "2018-03-11",
         "2018-04-08",
         "[{'title': 'Backglass', 'primary': True, 'type': 'backglass', 'urls': {'medium': 'https://img.opdb.org/9ecf76df-e553-4641-97e6-a548d9d871a0-medium.jpg', 'large': 'https://img.opdb.org/9ecf76df-e553-4641-97e6-a548d9d871a0-large.jpg', 'small': 'https://img.opdb.org/9ecf76df-e553-4641-97e6-a548d9d871a0-small.jpg'}, 'sizes': {'medium': {'width': 640, 'height': 585}, 'large': {'width': 656, 'height': 600}, 'small': {'width': 250, 'height': 229}}}]",
         null
        ],
        [
         "12",
         "GrPdq-MQYkJ",
         "True",
         "Pinball Champ '82",
         null,
         "",
         "1.0",
         "1794.0",
         "1982-04-01",
         "{'manufacturer_id': 11, 'name': 'Zaccaria', 'full_name': 'Zaccaria', 'created_at': '2018-03-11', 'updated_at': '2018-03-11'}",
         "ss",
         "alphanumeric",
         "4.0",
         "[]",
         "[]",
         null,
         "2018-03-11",
         "2018-04-01",
         "[{'title': 'Backglass', 'primary': True, 'type': 'backglass', 'urls': {'medium': 'https://img.opdb.org/0e967c36-a6c6-4c62-81db-e8ebd49f952d-medium.jpg', 'large': 'https://img.opdb.org/0e967c36-a6c6-4c62-81db-e8ebd49f952d-large.jpg', 'small': 'https://img.opdb.org/0e967c36-a6c6-4c62-81db-e8ebd49f952d-small.jpg'}, 'sizes': {'medium': {'width': 640, 'height': 480}, 'large': {'width': 800, 'height': 600}, 'small': {'width': 250, 'height': 188}}}]",
         null
        ],
        [
         "13",
         "GrZwo-MJNlQ",
         "True",
         "Surfer",
         null,
         "",
         "1.0",
         "2465.0",
         "1976-10-01",
         "{'manufacturer_id': 2, 'name': 'Gottlieb', 'full_name': 'D. Gottlieb & Co.', 'created_at': '2018-03-11', 'updated_at': '2018-03-11'}",
         "em",
         "reels",
         "2.0",
         "[]",
         "[]",
         "",
         "2018-03-11",
         "2018-05-01",
         "[{'title': 'Backglass', 'primary': True, 'type': 'backglass', 'urls': {'medium': 'https://img.opdb.org/f61f64be-3441-45e9-91e5-a84261fa58f8-medium.jpg', 'large': 'https://img.opdb.org/f61f64be-3441-45e9-91e5-a84261fa58f8-large.jpg', 'small': 'https://img.opdb.org/f61f64be-3441-45e9-91e5-a84261fa58f8-small.jpg'}, 'sizes': {'medium': {'width': 640, 'height': 426}, 'large': {'width': 900, 'height': 599}, 'small': {'width': 250, 'height': 166}}}]",
         null
        ],
        [
         "14",
         "G4JZ4-ML0pL",
         "True",
         "High Roller Casino",
         null,
         "HRC",
         "1.0",
         "4502.0",
         "2001-01-01",
         "{'manufacturer_id': 12, 'name': 'Stern', 'full_name': 'Stern Pinball, Inc.', 'created_at': '2018-03-11', 'updated_at': '2018-03-11'}",
         "ss",
         "dmd",
         "4.0",
         "[]",
         "[]",
         null,
         "2018-03-11",
         "2018-03-16",
         "[{'title': 'Backglass', 'primary': True, 'type': 'backglass', 'urls': {'medium': 'https://img.opdb.org/0ee443ec-62db-4d4c-ad07-7ba5fa00c6a5-medium.jpg', 'large': 'https://img.opdb.org/0ee443ec-62db-4d4c-ad07-7ba5fa00c6a5-large.jpg', 'small': 'https://img.opdb.org/0ee443ec-62db-4d4c-ad07-7ba5fa00c6a5-small.jpg'}, 'sizes': {'medium': {'width': 640, 'height': 460}, 'large': {'width': 835, 'height': 600}, 'small': {'width': 250, 'height': 180}}}]",
         null
        ],
        [
         "15",
         "G5VPX-MQjXJ",
         "True",
         "Explorer",
         null,
         "",
         "1.0",
         "4117.0",
         "1976-01-01",
         "{'manufacturer_id': 13, 'name': 'Nordamatic', 'full_name': 'Nordamatic', 'created_at': '2018-03-11', 'updated_at': '2018-03-11'}",
         "em",
         "reels",
         "1.0",
         "['Add-a-ball']",
         "[]",
         "",
         "2018-03-11",
         "2018-05-02",
         "[{'title': 'Backglass', 'primary': True, 'type': 'backglass', 'urls': {'medium': 'https://img.opdb.org/ef1842c7-b28d-4dbf-8d55-c7f3daec19d8-medium.jpg', 'large': 'https://img.opdb.org/ef1842c7-b28d-4dbf-8d55-c7f3daec19d8-large.jpg', 'small': 'https://img.opdb.org/ef1842c7-b28d-4dbf-8d55-c7f3daec19d8-small.jpg'}, 'sizes': {'medium': {'width': 480, 'height': 540}, 'large': {'width': 480, 'height': 540}, 'small': {'width': 222, 'height': 250}}}]",
         null
        ],
        [
         "16",
         "GRKdD-MLnxD",
         "True",
         "The 4 Horsemen",
         null,
         "",
         "1.0",
         "933.0",
         "1950-09-01",
         "{'manufacturer_id': 2, 'name': 'Gottlieb', 'full_name': 'D. Gottlieb & Co.', 'created_at': '2018-03-11', 'updated_at': '2018-03-11'}",
         "em",
         "lights",
         "1.0",
         "[]",
         "[]",
         "",
         "2018-03-11",
         "2018-05-15",
         "[{'title': 'Backglass', 'primary': True, 'type': 'backglass', 'urls': {'medium': 'https://img.opdb.org/511bf0a1-48ac-43b7-88b6-1c19b171220a-medium.jpg', 'large': 'https://img.opdb.org/511bf0a1-48ac-43b7-88b6-1c19b171220a-large.jpg', 'small': 'https://img.opdb.org/511bf0a1-48ac-43b7-88b6-1c19b171220a-small.jpg'}, 'sizes': {'medium': {'width': 463, 'height': 479}, 'large': {'width': 463, 'height': 479}, 'small': {'width': 241, 'height': 250}}}]",
         null
        ],
        [
         "17",
         "GRVdN-MLqwD",
         "True",
         "Blondie",
         null,
         "",
         "1.0",
         "321.0",
         "1956-06-01",
         "{'manufacturer_id': 3, 'name': 'Chicago Coin', 'full_name': 'Chicago Coin Machine Mfg. Co.', 'created_at': '2018-03-11', 'updated_at': '2018-03-11'}",
         "em",
         "lights",
         "1.0",
         "[]",
         "[]",
         "",
         "2018-03-11",
         "2018-05-13",
         "[{'title': 'Backglass', 'primary': True, 'type': 'backglass', 'urls': {'medium': 'https://img.opdb.org/0800130d-b4fe-4668-93e6-4a4b7edbe938-medium.jpg', 'large': 'https://img.opdb.org/0800130d-b4fe-4668-93e6-4a4b7edbe938-large.jpg', 'small': 'https://img.opdb.org/0800130d-b4fe-4668-93e6-4a4b7edbe938-small.jpg'}, 'sizes': {'medium': {'width': 640, 'height': 529}, 'large': {'width': 726, 'height': 600}, 'small': {'width': 250, 'height': 207}}}]",
         null
        ],
        [
         "18",
         "GRQ6d-MDRlL",
         "True",
         "Sky·Line",
         null,
         "",
         "1.0",
         "3240.0",
         "1965-01-01",
         "{'manufacturer_id': 2, 'name': 'Gottlieb', 'full_name': 'D. Gottlieb & Co.', 'created_at': '2018-03-11', 'updated_at': '2018-03-11'}",
         "em",
         "reels",
         "1.0",
         "[]",
         "[]",
         "",
         "2018-03-11",
         "2018-05-12",
         "[{'title': 'Backglass', 'primary': True, 'type': 'backglass', 'urls': {'medium': 'https://img.opdb.org/3e25c72c-1e6f-48bb-b175-90a6ecb2ab37-medium.jpg', 'large': 'https://img.opdb.org/3e25c72c-1e6f-48bb-b175-90a6ecb2ab37-large.jpg', 'small': 'https://img.opdb.org/3e25c72c-1e6f-48bb-b175-90a6ecb2ab37-small.jpg'}, 'sizes': {'medium': {'width': 491, 'height': 600}, 'large': {'width': 491, 'height': 600}, 'small': {'width': 205, 'height': 250}}}]",
         null
        ],
        [
         "19",
         "GRwW9-MJoeQ",
         "True",
         "Dealer's Choice",
         null,
         "",
         "1.0",
         "648.0",
         "1974-01-01",
         "{'manufacturer_id': 15, 'name': 'Segasa', 'full_name': 'Segasa', 'created_at': '2018-03-11', 'updated_at': '2018-03-11'}",
         "em",
         "reels",
         "4.0",
         "[]",
         "[]",
         null,
         "2018-03-11",
         "2018-05-07",
         "[{'title': 'Backglass', 'primary': True, 'type': 'backglass', 'urls': {'medium': 'https://img.opdb.org/0f31f91f-9384-404a-9dc9-2c148af883dc-medium.jpg', 'large': 'https://img.opdb.org/0f31f91f-9384-404a-9dc9-2c148af883dc-large.jpg', 'small': 'https://img.opdb.org/0f31f91f-9384-404a-9dc9-2c148af883dc-small.jpg'}, 'sizes': {'medium': {'width': 593, 'height': 479}, 'large': {'width': 593, 'height': 479}, 'small': {'width': 250, 'height': 202}}}]",
         null
        ],
        [
         "20",
         "G411e-MJrEL",
         "True",
         "Apollo 13",
         null,
         "A13",
         "1.0",
         "3592.0",
         "1995-01-01",
         "{'manufacturer_id': 16, 'name': 'Sega', 'full_name': 'Sega Pinball, Inc. (US)', 'created_at': '2018-03-11', 'updated_at': '2018-03-11'}",
         "ss",
         "dmd",
         "6.0",
         "[]",
         "['movie']",
         null,
         "2018-03-11",
         "2018-03-31",
         "[{'title': 'Backglass', 'primary': True, 'type': 'backglass', 'urls': {'medium': 'https://img.opdb.org/49e664f2-637f-4c62-8d50-17510f5522f4-medium.jpg', 'large': 'https://img.opdb.org/49e664f2-637f-4c62-8d50-17510f5522f4-large.jpg', 'small': 'https://img.opdb.org/49e664f2-637f-4c62-8d50-17510f5522f4-small.jpg'}, 'sizes': {'medium': {'width': 640, 'height': 450}, 'large': {'width': 854, 'height': 600}, 'small': {'width': 250, 'height': 176}}}]",
         null
        ],
        [
         "21",
         "G4Plz-MDz6D",
         "True",
         "Criterium 75",
         null,
         "",
         "1.0",
         "596.0",
         "1975-01-01",
         "{'manufacturer_id': 17, 'name': 'Recel', 'full_name': 'Recel S. A.', 'created_at': '2018-03-11', 'updated_at': '2018-03-11'}",
         "em",
         "reels",
         "4.0",
         "[]",
         "[]",
         "",
         "2018-03-11",
         "2018-04-25",
         "[{'title': 'Backglass', 'primary': True, 'type': 'backglass', 'urls': {'medium': 'https://img.opdb.org/15c63913-be32-4345-9526-2036f54a1501-medium.jpg', 'large': 'https://img.opdb.org/15c63913-be32-4345-9526-2036f54a1501-large.jpg', 'small': 'https://img.opdb.org/15c63913-be32-4345-9526-2036f54a1501-small.jpg'}, 'sizes': {'medium': {'width': 380, 'height': 337}, 'large': {'width': 380, 'height': 337}, 'small': {'width': 250, 'height': 222}}}]",
         null
        ],
        [
         "22",
         "GreN3-MJ7wJ",
         "True",
         "Moon Flight",
         null,
         "",
         "1.0",
         "1626.0",
         "1976-10-01",
         "{'manufacturer_id': 11, 'name': 'Zaccaria', 'full_name': 'Zaccaria', 'created_at': '2018-03-11', 'updated_at': '2018-03-11'}",
         "em",
         "reels",
         "1.0",
         "[]",
         "[]",
         null,
         "2018-03-11",
         "2018-05-01",
         "[{'title': 'Backglass', 'primary': True, 'type': 'backglass', 'urls': {'medium': 'https://img.opdb.org/70262a89-46fd-472a-ac2c-633997bd835c-medium.jpg', 'large': 'https://img.opdb.org/70262a89-46fd-472a-ac2c-633997bd835c-large.jpg', 'small': 'https://img.opdb.org/70262a89-46fd-472a-ac2c-633997bd835c-small.jpg'}, 'sizes': {'medium': {'width': 640, 'height': 425}, 'large': {'width': 900, 'height': 597}, 'small': {'width': 250, 'height': 166}}}]",
         null
        ],
        [
         "23",
         "GRbWj-MD3RJ",
         "True",
         "Target Pool",
         null,
         "",
         "1.0",
         "2502.0",
         "1969-06-01",
         "{'manufacturer_id': 2, 'name': 'Gottlieb', 'full_name': 'D. Gottlieb & Co.', 'created_at': '2018-03-11', 'updated_at': '2018-03-11'}",
         "em",
         "reels",
         "1.0",
         "['Replay']",
         "[]",
         "",
         "2018-03-11",
         "2018-05-08",
         "[{'title': 'Backglass', 'primary': True, 'type': 'backglass', 'urls': {'medium': 'https://img.opdb.org/df4da97c-5e03-44dd-94c2-4378ed073441-medium.jpg', 'large': 'https://img.opdb.org/df4da97c-5e03-44dd-94c2-4378ed073441-large.jpg', 'small': 'https://img.opdb.org/df4da97c-5e03-44dd-94c2-4378ed073441-small.jpg'}, 'sizes': {'medium': {'width': 450, 'height': 450}, 'large': {'width': 450, 'height': 450}, 'small': {'width': 250, 'height': 250}}}]",
         null
        ],
        [
         "24",
         "GRBv9-MLXlL",
         "True",
         "Carnival",
         null,
         "",
         "1.0",
         "453.0",
         "1977-05-01",
         "{'manufacturer_id': 5, 'name': 'Playmatic', 'full_name': 'Playmatic', 'created_at': '2018-03-11', 'updated_at': '2018-03-11'}",
         "em",
         "reels",
         "2.0",
         "[]",
         "[]",
         "",
         "2018-03-11",
         "2018-05-01",
         "[{'title': 'Backglass', 'primary': True, 'type': 'backglass', 'urls': {'medium': 'https://img.opdb.org/5f9b16ae-cc82-41b3-bf4a-c04224dfdd10-medium.jpg', 'large': 'https://img.opdb.org/5f9b16ae-cc82-41b3-bf4a-c04224dfdd10-large.jpg', 'small': 'https://img.opdb.org/5f9b16ae-cc82-41b3-bf4a-c04224dfdd10-small.jpg'}, 'sizes': {'medium': {'width': 640, 'height': 580}, 'large': {'width': 662, 'height': 600}, 'small': {'width': 250, 'height': 227}}}]",
         null
        ],
        [
         "25",
         "G4qQj-MD8XD",
         "True",
         "Scorpion",
         null,
         "",
         "1.0",
         "2067.0",
         "1980-07-01",
         "{'manufacturer_id': 7, 'name': 'Williams', 'full_name': 'Williams Electronic Games, Inc.', 'created_at': '2018-03-11', 'updated_at': '2018-03-11'}",
         "ss",
         "alphanumeric",
         "4.0",
         "['Widebody']",
         "[]",
         "",
         "2018-03-11",
         "2018-04-11",
         "[{'title': 'Backglass', 'primary': True, 'type': 'backglass', 'urls': {'medium': 'https://img.opdb.org/39dcb350-5d2a-4572-b809-54a2f32734dd-medium.jpg', 'large': 'https://img.opdb.org/39dcb350-5d2a-4572-b809-54a2f32734dd-large.jpg', 'small': 'https://img.opdb.org/39dcb350-5d2a-4572-b809-54a2f32734dd-small.jpg'}, 'sizes': {'medium': {'width': 640, 'height': 600}, 'large': {'width': 640, 'height': 600}, 'small': {'width': 250, 'height': 234}}}]",
         null
        ],
        [
         "26",
         "GrxWp-MDvrD",
         "True",
         "Winter Sports",
         null,
         "",
         "1.0",
         "3563.0",
         "1978-01-01",
         "{'manufacturer_id': 11, 'name': 'Zaccaria', 'full_name': 'Zaccaria', 'created_at': '2018-03-11', 'updated_at': '2018-03-11'}",
         "ss",
         "alphanumeric",
         "4.0",
         "[]",
         "[]",
         "",
         "2018-03-11",
         "2018-04-25",
         "[{'title': 'Backglass', 'primary': True, 'type': 'backglass', 'urls': {'medium': 'https://img.opdb.org/bf31660e-8b28-491c-9e39-3e502b8d0d10-medium.jpg', 'large': 'https://img.opdb.org/bf31660e-8b28-491c-9e39-3e502b8d0d10-large.jpg', 'small': 'https://img.opdb.org/bf31660e-8b28-491c-9e39-3e502b8d0d10-small.jpg'}, 'sizes': {'medium': {'width': 204, 'height': 154}, 'large': {'width': 204, 'height': 154}, 'small': {'width': 204, 'height': 154}}}]",
         null
        ],
        [
         "27",
         "G5n67-MQVRQ",
         "True",
         "Sapporo",
         null,
         "",
         "1.0",
         "2052.0",
         "1971-12-01",
         "{'manufacturer_id': 16, 'name': 'Sega', 'full_name': 'Sega Pinball, Inc. (US)', 'created_at': '2018-03-11', 'updated_at': '2018-03-11'}",
         "em",
         "reels",
         "1.0",
         "[]",
         "[]",
         null,
         "2018-03-11",
         "2018-05-08",
         "[{'title': 'Backglass', 'primary': True, 'type': 'backglass', 'urls': {'medium': 'https://img.opdb.org/15b05986-5772-439f-a60c-2318b64b2638-medium.jpg', 'large': 'https://img.opdb.org/15b05986-5772-439f-a60c-2318b64b2638-large.jpg', 'small': 'https://img.opdb.org/15b05986-5772-439f-a60c-2318b64b2638-small.jpg'}, 'sizes': {'medium': {'width': 640, 'height': 504}, 'large': {'width': 811, 'height': 639}, 'small': {'width': 250, 'height': 197}}}]",
         null
        ],
        [
         "28",
         "GrqL6-MQ5Rn",
         "True",
         "Bank Shot",
         null,
         "",
         "1.0",
         "169.0",
         "1976-03-01",
         "{'manufacturer_id': 2, 'name': 'Gottlieb', 'full_name': 'D. Gottlieb & Co.', 'created_at': '2018-03-11', 'updated_at': '2018-03-11'}",
         "em",
         "reels",
         "1.0",
         "['Add-a-ball']",
         "[]",
         "",
         "2018-03-11",
         "2018-05-02",
         "[{'title': 'Backglass', 'primary': True, 'type': 'backglass', 'urls': {'medium': 'https://img.opdb.org/d154ca38-2fad-4698-9076-b66095552199-medium.jpg', 'large': 'https://img.opdb.org/d154ca38-2fad-4698-9076-b66095552199-large.jpg', 'small': 'https://img.opdb.org/d154ca38-2fad-4698-9076-b66095552199-small.jpg'}, 'sizes': {'medium': {'width': 450, 'height': 600}, 'large': {'width': 450, 'height': 600}, 'small': {'width': 188, 'height': 250}}}]",
         null
        ],
        [
         "29",
         "GRYZK-MQp44",
         "True",
         "Vampire",
         null,
         "",
         "1.0",
         "2716.0",
         "1971-01-01",
         "{'manufacturer_id': 8, 'name': 'Bally', 'full_name': 'Bally Manufacturing Co.', 'created_at': '2018-03-11', 'updated_at': '2018-03-11'}",
         "em",
         "reels",
         "2.0",
         "[]",
         "[]",
         null,
         "2018-03-11",
         "2018-05-08",
         "[{'title': 'Backglass', 'primary': True, 'type': 'backglass', 'urls': {'medium': 'https://img.opdb.org/94819457-e3be-490e-95bc-be86ac5810c5-medium.jpg', 'large': 'https://img.opdb.org/94819457-e3be-490e-95bc-be86ac5810c5-large.jpg', 'small': 'https://img.opdb.org/94819457-e3be-490e-95bc-be86ac5810c5-small.jpg'}, 'sizes': {'medium': {'width': 530, 'height': 437}, 'large': {'width': 530, 'height': 437}, 'small': {'width': 250, 'height': 206}}}]",
         null
        ],
        [
         "30",
         "GRoQ6-MLx0X",
         "True",
         "Catacomb",
         "",
         "",
         "1.0",
         "469.0",
         "1981-01-01",
         "{'manufacturer_id': 137, 'name': 'Stern Electronics', 'full_name': 'Stern Electronics', 'created_at': '2023-11-29', 'updated_at': '2023-11-29'}",
         "ss",
         "alphanumeric",
         "4.0",
         "[]",
         "[]",
         "",
         "2018-03-11",
         "2023-11-29",
         "[{'title': 'Backglass', 'primary': True, 'type': 'backglass', 'urls': {'medium': 'https://img.opdb.org/744d24e5-a68d-44b3-826b-cb94a282fa65-medium.jpg', 'large': 'https://img.opdb.org/744d24e5-a68d-44b3-826b-cb94a282fa65-large.jpg', 'small': 'https://img.opdb.org/744d24e5-a68d-44b3-826b-cb94a282fa65-small.jpg'}, 'sizes': {'medium': {'width': 640, 'height': 479}, 'large': {'width': 801, 'height': 600}, 'small': {'width': 250, 'height': 187}}}]",
         null
        ],
        [
         "31",
         "G5vnL-MJP3y",
         "True",
         "Adventures of Rocky and Bullwinkle and Friends",
         null,
         "R&B",
         "1.0",
         "23.0",
         "1993-02-01",
         "{'manufacturer_id': 10, 'name': 'Data East', 'full_name': 'Data East USA, Inc.', 'created_at': '2018-03-11', 'updated_at': '2018-03-11'}",
         "ss",
         "dmd",
         "4.0",
         "[]",
         "['tv']",
         null,
         "2018-03-11",
         "2018-03-18",
         "[{'title': 'Backglass', 'primary': True, 'type': 'backglass', 'urls': {'medium': 'https://img.opdb.org/ce067eb7-c089-4c6b-b8f3-a95dbfae0787-medium.jpg', 'large': 'https://img.opdb.org/ce067eb7-c089-4c6b-b8f3-a95dbfae0787-large.jpg', 'small': 'https://img.opdb.org/ce067eb7-c089-4c6b-b8f3-a95dbfae0787-small.jpg'}, 'sizes': {'medium': {'width': 640, 'height': 467}, 'large': {'width': 822, 'height': 600}, 'small': {'width': 250, 'height': 182}}}]",
         null
        ],
        [
         "32",
         "GRDo0-MQ9Ry",
         "True",
         "Electric Hockey",
         null,
         "",
         "1.0",
         "4977.0",
         "1953-01-01",
         "{'manufacturer_id': 19, 'name': 'Exhibit', 'full_name': 'Exhibit Supply Company', 'created_at': '2018-03-11', 'updated_at': '2018-03-11'}",
         "em",
         "lights",
         "2.0",
         "['Head-to-head play']",
         "[]",
         "",
         "2018-03-11",
         "2018-05-14",
         "[{'title': 'Backglass', 'primary': True, 'type': 'backglass', 'urls': {'medium': 'https://img.opdb.org/2989231e-c1c1-4e6f-939b-e1bae8e05593-medium.jpg', 'large': 'https://img.opdb.org/2989231e-c1c1-4e6f-939b-e1bae8e05593-large.jpg', 'small': 'https://img.opdb.org/2989231e-c1c1-4e6f-939b-e1bae8e05593-small.jpg'}, 'sizes': {'medium': {'width': 640, 'height': 480}, 'large': {'width': 640, 'height': 480}, 'small': {'width': 250, 'height': 188}}}]",
         null
        ],
        [
         "33",
         "Grqn7-MLE0K",
         "True",
         "Le King",
         null,
         "",
         "1.0",
         "4554.0",
         "1983-01-01",
         "{'manufacturer_id': 18, 'name': 'Jeutel', 'full_name': 'Jeutel', 'created_at': '2018-03-11', 'updated_at': '2018-03-11'}",
         "ss",
         "alphanumeric",
         "4.0",
         "[]",
         "[]",
         null,
         "2018-03-11",
         "2018-04-08",
         "[{'title': 'Backglass', 'primary': True, 'type': 'backglass', 'urls': {'medium': 'https://img.opdb.org/9543deeb-2bdd-4264-ba3c-91bf66772bf2-medium.jpg', 'large': 'https://img.opdb.org/9543deeb-2bdd-4264-ba3c-91bf66772bf2-large.jpg', 'small': 'https://img.opdb.org/9543deeb-2bdd-4264-ba3c-91bf66772bf2-small.jpg'}, 'sizes': {'medium': {'width': 623, 'height': 640}, 'large': {'width': 757, 'height': 777}, 'small': {'width': 243, 'height': 250}}}]",
         null
        ],
        [
         "34",
         "GRwl7-MDBRl",
         "True",
         "Saturn 2",
         null,
         "",
         "1.0",
         "3542.0",
         "1985-01-08",
         "{'manufacturer_id': 20, 'name': 'Bell Games', 'full_name': 'Bell Games (Nuova 11)', 'created_at': '2018-03-11', 'updated_at': '2018-03-11'}",
         "ss",
         "alphanumeric",
         "4.0",
         "['Conversion kit']",
         "[]",
         "",
         "2018-03-11",
         "2018-04-07",
         "[{'title': 'Backglass', 'primary': True, 'type': 'backglass', 'urls': {'medium': 'https://img.opdb.org/08761bd7-6225-48f6-9838-6a343bf0e1b2-medium.jpg', 'large': 'https://img.opdb.org/08761bd7-6225-48f6-9838-6a343bf0e1b2-large.jpg', 'small': 'https://img.opdb.org/08761bd7-6225-48f6-9838-6a343bf0e1b2-small.jpg'}, 'sizes': {'medium': {'width': 400, 'height': 270}, 'large': {'width': 400, 'height': 270}, 'small': {'width': 250, 'height': 169}}}]",
         null
        ],
        [
         "35",
         "G5WoB-MDyNZ",
         "True",
         "The Sopranos",
         null,
         "",
         "1.0",
         "5053.0",
         "2005-01-12",
         "{'manufacturer_id': 12, 'name': 'Stern', 'full_name': 'Stern Pinball, Inc.', 'created_at': '2018-03-11', 'updated_at': '2018-03-11'}",
         "ss",
         "dmd",
         "4.0",
         "[]",
         "['tv']",
         "",
         "2018-03-11",
         "2018-03-18",
         "[{'title': 'Backglass', 'primary': True, 'type': 'backglass', 'urls': {'medium': 'https://img.opdb.org/5abbc2db-812a-41b7-a060-2c1cfc1ed768-medium.jpg', 'large': 'https://img.opdb.org/5abbc2db-812a-41b7-a060-2c1cfc1ed768-large.jpg', 'small': 'https://img.opdb.org/5abbc2db-812a-41b7-a060-2c1cfc1ed768-small.jpg'}, 'sizes': {'medium': {'width': 640, 'height': 456}, 'large': {'width': 842, 'height': 600}, 'small': {'width': 250, 'height': 178}}}]",
         null
        ],
        [
         "36",
         "GrEWx-MJkP8",
         "True",
         "Card Whiz (1P)",
         null,
         "",
         "1.0",
         "4844.0",
         "1976-06-01",
         "{'manufacturer_id': 21, 'name': 'Europlay', 'full_name': 'Europlay', 'created_at': '2018-03-11', 'updated_at': '2018-03-11'}",
         "em",
         "reels",
         "1.0",
         "[]",
         "['cards']",
         "",
         "2018-03-11",
         "2018-04-30",
         "[{'title': 'Backglass', 'primary': True, 'type': 'backglass', 'urls': {'medium': 'https://img.opdb.org/0dace315-c552-4fb8-8d32-c8453a2559af-medium.jpg', 'large': 'https://img.opdb.org/0dace315-c552-4fb8-8d32-c8453a2559af-large.jpg', 'small': 'https://img.opdb.org/0dace315-c552-4fb8-8d32-c8453a2559af-small.jpg'}, 'sizes': {'medium': {'width': 582, 'height': 598}, 'large': {'width': 582, 'height': 598}, 'small': {'width': 243, 'height': 250}}}]",
         null
        ],
        [
         "37",
         "GRVL2-MLl9Y",
         "True",
         "Lady Robin Hood",
         null,
         "",
         "1.0",
         "1406.0",
         "1948-01-31",
         "{'manufacturer_id': 2, 'name': 'Gottlieb', 'full_name': 'D. Gottlieb & Co.', 'created_at': '2018-03-11', 'updated_at': '2018-03-11'}",
         "em",
         "lights",
         "1.0",
         "[]",
         "[]",
         null,
         "2018-03-11",
         "2018-03-31",
         "[{'title': 'Backglass', 'primary': True, 'type': 'backglass', 'urls': {'medium': 'https://img.opdb.org/8f14bd40-40f8-4d30-8523-374a4b0ac328-medium.jpg', 'large': 'https://img.opdb.org/8f14bd40-40f8-4d30-8523-374a4b0ac328-large.jpg', 'small': 'https://img.opdb.org/8f14bd40-40f8-4d30-8523-374a4b0ac328-small.jpg'}, 'sizes': {'medium': {'width': 640, 'height': 630}, 'large': {'width': 802, 'height': 790}, 'small': {'width': 250, 'height': 246}}}]",
         null
        ],
        [
         "38",
         "G4EJB-MJdE1",
         "True",
         "Gulfstream",
         null,
         "",
         "1.0",
         "1094.0",
         "1973-05-01",
         "{'manufacturer_id': 7, 'name': 'Williams', 'full_name': 'Williams Electronic Games, Inc.', 'created_at': '2018-03-11', 'updated_at': '2018-03-11'}",
         "em",
         "reels",
         "1.0",
         "['Replay']",
         "[]",
         "",
         "2018-03-11",
         "2018-05-08",
         "[{'title': 'Backglass', 'primary': True, 'type': 'backglass', 'urls': {'medium': 'https://img.opdb.org/7028a97e-efa9-4728-b2a4-e103ce5fd9dd-medium.jpg', 'large': 'https://img.opdb.org/7028a97e-efa9-4728-b2a4-e103ce5fd9dd-large.jpg', 'small': 'https://img.opdb.org/7028a97e-efa9-4728-b2a4-e103ce5fd9dd-small.jpg'}, 'sizes': {'medium': {'width': 327, 'height': 367}, 'large': {'width': 327, 'height': 367}, 'small': {'width': 222, 'height': 250}}}]",
         null
        ],
        [
         "39",
         "GrjDz-MJKN6",
         "True",
         "Corvette",
         null,
         "CRVT",
         "1.0",
         "570.0",
         "1994-01-08",
         "{'manufacturer_id': 8, 'name': 'Bally', 'full_name': 'Bally Manufacturing Co.', 'created_at': '2018-03-11', 'updated_at': '2018-03-11'}",
         "ss",
         "dmd",
         "4.0",
         "[]",
         "[]",
         null,
         "2018-03-11",
         "2018-03-31",
         "[{'title': 'Backglass', 'primary': True, 'type': 'backglass', 'urls': {'medium': 'https://img.opdb.org/08407abb-cf73-4e09-a4ea-788781165f3c-medium.jpg', 'large': 'https://img.opdb.org/08407abb-cf73-4e09-a4ea-788781165f3c-large.jpg', 'small': 'https://img.opdb.org/08407abb-cf73-4e09-a4ea-788781165f3c-small.jpg'}, 'sizes': {'medium': {'width': 640, 'height': 451}, 'large': {'width': 852, 'height': 600}, 'small': {'width': 250, 'height': 176}}}]",
         null
        ],
        [
         "40",
         "GRDQ1-MDOEx",
         "True",
         "Sheba",
         null,
         "",
         "1.0",
         "2115.0",
         "1965-02-01",
         "{'manufacturer_id': 8, 'name': 'Bally', 'full_name': 'Bally Manufacturing Co.', 'created_at': '2018-03-11', 'updated_at': '2018-03-11'}",
         "em",
         "reels",
         "2.0",
         "[]",
         "[]",
         null,
         "2018-03-11",
         "2018-05-08",
         "[{'title': 'Backglass', 'primary': True, 'type': 'backglass', 'urls': {'medium': 'https://img.opdb.org/75a47234-b170-4a90-a260-4e056c4dca8c-medium.jpg', 'large': 'https://img.opdb.org/75a47234-b170-4a90-a260-4e056c4dca8c-large.jpg', 'small': 'https://img.opdb.org/75a47234-b170-4a90-a260-4e056c4dca8c-small.jpg'}, 'sizes': {'medium': {'width': 640, 'height': 480}, 'large': {'width': 800, 'height': 600}, 'small': {'width': 250, 'height': 188}}}]",
         null
        ],
        [
         "41",
         "GRojj-MQwN3",
         "True",
         "Hayburners",
         null,
         "",
         "1.0",
         "1142.0",
         "1951-06-01",
         "{'manufacturer_id': 7, 'name': 'Williams', 'full_name': 'Williams Electronic Games, Inc.', 'created_at': '2018-03-11', 'updated_at': '2018-03-11'}",
         "em",
         "lights",
         "1.0",
         "[]",
         "[]",
         "",
         "2018-03-11",
         "2018-05-15",
         "[{'title': 'Backglass', 'primary': True, 'type': 'backglass', 'urls': {'medium': 'https://img.opdb.org/cf460b22-71b3-4257-98e6-428468dbcf9f-medium.jpg', 'large': 'https://img.opdb.org/cf460b22-71b3-4257-98e6-428468dbcf9f-large.jpg', 'small': 'https://img.opdb.org/cf460b22-71b3-4257-98e6-428468dbcf9f-small.jpg'}, 'sizes': {'medium': {'width': 640, 'height': 628}, 'large': {'width': 800, 'height': 785}, 'small': {'width': 250, 'height': 245}}}]",
         null
        ],
        [
         "42",
         "G41Y6-MDePR",
         "True",
         "Flying Circus",
         null,
         "",
         "1.0",
         "902.0",
         "1961-05-01",
         "{'manufacturer_id': 2, 'name': 'Gottlieb', 'full_name': 'D. Gottlieb & Co.', 'created_at': '2018-03-11', 'updated_at': '2018-03-11'}",
         "em",
         "reels",
         "2.0",
         "[]",
         "[]",
         null,
         "2018-03-11",
         "2018-05-12",
         "[{'title': 'Backglass', 'primary': True, 'type': 'backglass', 'urls': {'medium': 'https://img.opdb.org/7242dcf7-d70a-4ee4-a21f-ba1e91563263-medium.jpg', 'large': 'https://img.opdb.org/7242dcf7-d70a-4ee4-a21f-ba1e91563263-large.jpg', 'small': 'https://img.opdb.org/7242dcf7-d70a-4ee4-a21f-ba1e91563263-small.jpg'}, 'sizes': {'medium': {'width': 553, 'height': 449}, 'large': {'width': 553, 'height': 449}, 'small': {'width': 250, 'height': 203}}}]",
         null
        ],
        [
         "43",
         "G5wLN-MJ2YO",
         "True",
         "Lucky Man",
         null,
         "",
         "1.0",
         "3713.0",
         "1976-01-01",
         "{'manufacturer_id': 13, 'name': 'Nordamatic', 'full_name': 'Nordamatic', 'created_at': '2018-03-11', 'updated_at': '2018-03-11'}",
         "em",
         "reels",
         "2.0",
         "[]",
         "[]",
         "",
         "2018-03-11",
         "2018-05-02",
         "[{'title': 'Backglass', 'primary': True, 'type': 'backglass', 'urls': {'medium': 'https://img.opdb.org/73edb286-39cb-4444-aac5-15dbebda5e72-medium.jpg', 'large': 'https://img.opdb.org/73edb286-39cb-4444-aac5-15dbebda5e72-large.jpg', 'small': 'https://img.opdb.org/73edb286-39cb-4444-aac5-15dbebda5e72-small.jpg'}, 'sizes': {'medium': {'width': 380, 'height': 348}, 'large': {'width': 380, 'height': 348}, 'small': {'width': 250, 'height': 229}}}]",
         null
        ],
        [
         "44",
         "G5Qnx-MJYek",
         "True",
         "Juke Box",
         null,
         "",
         "1.0",
         "1324.0",
         "1976-09-01",
         "{'manufacturer_id': 3, 'name': 'Chicago Coin', 'full_name': 'Chicago Coin Machine Mfg. Co.', 'created_at': '2018-03-11', 'updated_at': '2018-03-11'}",
         "em",
         "reels",
         "4.0",
         "[]",
         "[]",
         null,
         "2018-03-11",
         "2018-05-01",
         "[{'title': 'Backglass', 'primary': True, 'type': 'backglass', 'urls': {'medium': 'https://img.opdb.org/12462473-9773-4f8e-8185-a8e63f0f5145-medium.jpg', 'large': 'https://img.opdb.org/12462473-9773-4f8e-8185-a8e63f0f5145-large.jpg', 'small': 'https://img.opdb.org/12462473-9773-4f8e-8185-a8e63f0f5145-small.jpg'}, 'sizes': {'medium': {'width': 512, 'height': 430}, 'large': {'width': 512, 'height': 430}, 'small': {'width': 250, 'height': 210}}}]",
         null
        ],
        [
         "45",
         "G5p8V-MD0op",
         "True",
         "Scramble",
         null,
         "",
         "1.0",
         "3557.0",
         "1987-03-01",
         "{'manufacturer_id': 22, 'name': 'Tecnoplay', 'full_name': 'Tecnoplay', 'created_at': '2018-03-11', 'updated_at': '2018-03-11'}",
         "ss",
         "alphanumeric",
         "4.0",
         "[]",
         "[]",
         null,
         "2018-03-11",
         "2018-04-01",
         "[{'title': 'Backglass', 'primary': True, 'type': 'backglass', 'urls': {'medium': 'https://img.opdb.org/10929dfa-5a62-47cc-b462-48138ea415fd-medium.jpg', 'large': 'https://img.opdb.org/10929dfa-5a62-47cc-b462-48138ea415fd-large.jpg', 'small': 'https://img.opdb.org/10929dfa-5a62-47cc-b462-48138ea415fd-small.jpg'}, 'sizes': {'medium': {'width': 561, 'height': 480}, 'large': {'width': 561, 'height': 480}, 'small': {'width': 250, 'height': 214}}}]",
         null
        ],
        [
         "46",
         "G5WEb-MJjBX",
         "True",
         "Register",
         null,
         "",
         "1.0",
         "1942.0",
         "1956-10-01",
         "{'manufacturer_id': 2, 'name': 'Gottlieb', 'full_name': 'D. Gottlieb & Co.', 'created_at': '2018-03-11', 'updated_at': '2018-03-11'}",
         "em",
         "reels",
         "4.0",
         "[]",
         "[]",
         "",
         "2018-03-11",
         "2018-05-13",
         "[{'title': 'Backglass', 'primary': True, 'type': 'backglass', 'urls': {'medium': 'https://img.opdb.org/dbee4c36-dc32-4d57-8522-c9e14bdc1233-medium.jpg', 'large': 'https://img.opdb.org/dbee4c36-dc32-4d57-8522-c9e14bdc1233-large.jpg', 'small': 'https://img.opdb.org/dbee4c36-dc32-4d57-8522-c9e14bdc1233-small.jpg'}, 'sizes': {'medium': {'width': 640, 'height': 480}, 'large': {'width': 800, 'height': 600}, 'small': {'width': 250, 'height': 188}}}]",
         null
        ],
        [
         "47",
         "G5KJW-MDnKx",
         "True",
         "Circus",
         null,
         "",
         "1.0",
         "520.0",
         "1957-07-01",
         "{'manufacturer_id': 8, 'name': 'Bally', 'full_name': 'Bally Manufacturing Co.', 'created_at': '2018-03-11', 'updated_at': '2018-03-11'}",
         "em",
         "reels",
         "1.0",
         "['Widebody']",
         "[]",
         "",
         "2018-03-11",
         "2018-05-13",
         "[{'title': 'Backglass', 'primary': True, 'type': 'backglass', 'urls': {'medium': 'https://img.opdb.org/fb022416-7aa0-4064-82bb-681b15f807a9-medium.jpg', 'large': 'https://img.opdb.org/fb022416-7aa0-4064-82bb-681b15f807a9-large.jpg', 'small': 'https://img.opdb.org/fb022416-7aa0-4064-82bb-681b15f807a9-small.jpg'}, 'sizes': {'medium': {'width': 500, 'height': 433}, 'large': {'width': 500, 'height': 433}, 'small': {'width': 250, 'height': 217}}}]",
         null
        ],
        [
         "48",
         "GRVEJ-MDq1w",
         "True",
         "Dr. Dude And His Excellent Ray",
         null,
         "DRD",
         "1.0",
         "737.0",
         "1990-01-01",
         "{'manufacturer_id': 8, 'name': 'Bally', 'full_name': 'Bally Manufacturing Co.', 'created_at': '2018-03-11', 'updated_at': '2018-03-11'}",
         "ss",
         "alphanumeric",
         "4.0",
         "[]",
         "[]",
         "",
         "2018-03-11",
         "2018-03-31",
         "[{'title': 'Backglass', 'primary': True, 'type': 'backglass', 'urls': {'medium': 'https://img.opdb.org/af154504-2df7-411a-8a63-2f28fce4ae08-medium.jpg', 'large': 'https://img.opdb.org/af154504-2df7-411a-8a63-2f28fce4ae08-large.jpg', 'small': 'https://img.opdb.org/af154504-2df7-411a-8a63-2f28fce4ae08-small.jpg'}, 'sizes': {'medium': {'width': 640, 'height': 511}, 'large': {'width': 752, 'height': 600}, 'small': {'width': 250, 'height': 199}}}]",
         null
        ],
        [
         "49",
         "G5VWL-MLRjl",
         "True",
         "Nugent",
         "",
         "",
         "1.0",
         "1687.0",
         "1978-01-01",
         "{'manufacturer_id': 137, 'name': 'Stern Electronics', 'full_name': 'Stern Electronics', 'created_at': '2023-11-29', 'updated_at': '2023-11-29'}",
         "ss",
         "alphanumeric",
         "4.0",
         "[]",
         "['music']",
         "",
         "2018-03-11",
         "2023-11-29",
         "[{'title': 'Backglass', 'primary': True, 'type': 'backglass', 'urls': {'medium': 'https://img.opdb.org/30759bbe-f19c-4010-9006-21050d22fd9c-medium.jpg', 'large': 'https://img.opdb.org/30759bbe-f19c-4010-9006-21050d22fd9c-large.jpg', 'small': 'https://img.opdb.org/30759bbe-f19c-4010-9006-21050d22fd9c-small.jpg'}, 'sizes': {'medium': {'width': 640, 'height': 480}, 'large': {'width': 800, 'height': 600}, 'small': {'width': 250, 'height': 188}}}]",
         null
        ]
       ],
       "shape": {
        "columns": 19,
        "rows": 2275
       }
      },
      "text/html": [
       "<div>\n",
       "<style scoped>\n",
       "    .dataframe tbody tr th:only-of-type {\n",
       "        vertical-align: middle;\n",
       "    }\n",
       "\n",
       "    .dataframe tbody tr th {\n",
       "        vertical-align: top;\n",
       "    }\n",
       "\n",
       "    .dataframe thead th {\n",
       "        text-align: right;\n",
       "    }\n",
       "</style>\n",
       "<table border=\"1\" class=\"dataframe\">\n",
       "  <thead>\n",
       "    <tr style=\"text-align: right;\">\n",
       "      <th></th>\n",
       "      <th>opdb_id</th>\n",
       "      <th>is_machine</th>\n",
       "      <th>name</th>\n",
       "      <th>common_name</th>\n",
       "      <th>shortname</th>\n",
       "      <th>physical_machine</th>\n",
       "      <th>ipdb_id</th>\n",
       "      <th>manufacture_date</th>\n",
       "      <th>manufacturer</th>\n",
       "      <th>type</th>\n",
       "      <th>display</th>\n",
       "      <th>player_count</th>\n",
       "      <th>features</th>\n",
       "      <th>keywords</th>\n",
       "      <th>description</th>\n",
       "      <th>created_at</th>\n",
       "      <th>updated_at</th>\n",
       "      <th>images</th>\n",
       "      <th>is_alias</th>\n",
       "    </tr>\n",
       "  </thead>\n",
       "  <tbody>\n",
       "    <tr>\n",
       "      <th>0</th>\n",
       "      <td>G50L9-MDxXD</td>\n",
       "      <td>True</td>\n",
       "      <td>Challenger</td>\n",
       "      <td>None</td>\n",
       "      <td></td>\n",
       "      <td>1.0</td>\n",
       "      <td>483.0</td>\n",
       "      <td>1971-03-01</td>\n",
       "      <td>{'manufacturer_id': 2, 'name': 'Gottlieb', 'fu...</td>\n",
       "      <td>em</td>\n",
       "      <td>reels</td>\n",
       "      <td>2.0</td>\n",
       "      <td>[Head-to-head play]</td>\n",
       "      <td>[]</td>\n",
       "      <td></td>\n",
       "      <td>2018-03-11</td>\n",
       "      <td>2018-05-08</td>\n",
       "      <td>[{'title': 'Backglass', 'primary': True, 'type...</td>\n",
       "      <td>NaN</td>\n",
       "    </tr>\n",
       "    <tr>\n",
       "      <th>1</th>\n",
       "      <td>GR7V3-MQPyL</td>\n",
       "      <td>True</td>\n",
       "      <td>Moon Shot</td>\n",
       "      <td>None</td>\n",
       "      <td></td>\n",
       "      <td>1.0</td>\n",
       "      <td>1628.0</td>\n",
       "      <td>1969-08-01</td>\n",
       "      <td>{'manufacturer_id': 3, 'name': 'Chicago Coin',...</td>\n",
       "      <td>em</td>\n",
       "      <td>reels</td>\n",
       "      <td>4.0</td>\n",
       "      <td>[]</td>\n",
       "      <td>[]</td>\n",
       "      <td>None</td>\n",
       "      <td>2018-03-11</td>\n",
       "      <td>2018-05-08</td>\n",
       "      <td>[{'title': 'Backglass', 'primary': True, 'type...</td>\n",
       "      <td>NaN</td>\n",
       "    </tr>\n",
       "    <tr>\n",
       "      <th>2</th>\n",
       "      <td>GRDlQ-MJ9yJ</td>\n",
       "      <td>True</td>\n",
       "      <td>Galaxy Play</td>\n",
       "      <td>None</td>\n",
       "      <td></td>\n",
       "      <td>1.0</td>\n",
       "      <td>4631.0</td>\n",
       "      <td>1986-01-01</td>\n",
       "      <td>{'manufacturer_id': 4, 'name': 'Cic Play', 'fu...</td>\n",
       "      <td>ss</td>\n",
       "      <td>alphanumeric</td>\n",
       "      <td>4.0</td>\n",
       "      <td>[]</td>\n",
       "      <td>[]</td>\n",
       "      <td></td>\n",
       "      <td>2018-03-11</td>\n",
       "      <td>2018-04-05</td>\n",
       "      <td>[{'title': 'Backglass', 'primary': True, 'type...</td>\n",
       "      <td>NaN</td>\n",
       "    </tr>\n",
       "    <tr>\n",
       "      <th>3</th>\n",
       "      <td>G4xlK-MDEKL</td>\n",
       "      <td>True</td>\n",
       "      <td>Free Fall</td>\n",
       "      <td>None</td>\n",
       "      <td></td>\n",
       "      <td>1.0</td>\n",
       "      <td>949.0</td>\n",
       "      <td>1974-10-01</td>\n",
       "      <td>{'manufacturer_id': 2, 'name': 'Gottlieb', 'fu...</td>\n",
       "      <td>em</td>\n",
       "      <td>reels</td>\n",
       "      <td>1.0</td>\n",
       "      <td>[Add-a-ball]</td>\n",
       "      <td>[]</td>\n",
       "      <td></td>\n",
       "      <td>2018-03-11</td>\n",
       "      <td>2018-04-22</td>\n",
       "      <td>[{'title': 'Backglass', 'primary': True, 'type...</td>\n",
       "      <td>NaN</td>\n",
       "    </tr>\n",
       "    <tr>\n",
       "      <th>4</th>\n",
       "      <td>G4Xdq-MLBlD</td>\n",
       "      <td>True</td>\n",
       "      <td>The 30's</td>\n",
       "      <td></td>\n",
       "      <td></td>\n",
       "      <td>1.0</td>\n",
       "      <td>2532.0</td>\n",
       "      <td>1977-01-04</td>\n",
       "      <td>{'manufacturer_id': 5, 'name': 'Playmatic', 'f...</td>\n",
       "      <td>em</td>\n",
       "      <td>reels</td>\n",
       "      <td>1.0</td>\n",
       "      <td>[]</td>\n",
       "      <td>[]</td>\n",
       "      <td></td>\n",
       "      <td>2018-03-11</td>\n",
       "      <td>2022-06-02</td>\n",
       "      <td>[{'title': 'Backglass', 'primary': True, 'type...</td>\n",
       "      <td>NaN</td>\n",
       "    </tr>\n",
       "    <tr>\n",
       "      <th>...</th>\n",
       "      <td>...</td>\n",
       "      <td>...</td>\n",
       "      <td>...</td>\n",
       "      <td>...</td>\n",
       "      <td>...</td>\n",
       "      <td>...</td>\n",
       "      <td>...</td>\n",
       "      <td>...</td>\n",
       "      <td>...</td>\n",
       "      <td>...</td>\n",
       "      <td>...</td>\n",
       "      <td>...</td>\n",
       "      <td>...</td>\n",
       "      <td>...</td>\n",
       "      <td>...</td>\n",
       "      <td>...</td>\n",
       "      <td>...</td>\n",
       "      <td>...</td>\n",
       "      <td>...</td>\n",
       "    </tr>\n",
       "    <tr>\n",
       "      <th>2270</th>\n",
       "      <td>G48DQ-MQwod-ARNzE</td>\n",
       "      <td>NaN</td>\n",
       "      <td>Flying Aces</td>\n",
       "      <td></td>\n",
       "      <td></td>\n",
       "      <td>NaN</td>\n",
       "      <td>4969.0</td>\n",
       "      <td>1977-01-01</td>\n",
       "      <td>{'manufacturer_id': 157, 'name': 'Sentinel', '...</td>\n",
       "      <td>NaN</td>\n",
       "      <td>NaN</td>\n",
       "      <td>NaN</td>\n",
       "      <td>[Home model]</td>\n",
       "      <td>[]</td>\n",
       "      <td>NaN</td>\n",
       "      <td>2025-06-06</td>\n",
       "      <td>2025-06-06</td>\n",
       "      <td>[]</td>\n",
       "      <td>True</td>\n",
       "    </tr>\n",
       "    <tr>\n",
       "      <th>2271</th>\n",
       "      <td>GryXn-MQkl5-A1Wz8</td>\n",
       "      <td>NaN</td>\n",
       "      <td>Black Magic</td>\n",
       "      <td></td>\n",
       "      <td></td>\n",
       "      <td>NaN</td>\n",
       "      <td>5566.0</td>\n",
       "      <td>1980-01-01</td>\n",
       "      <td>{'manufacturer_id': 17, 'name': 'Recel', 'full...</td>\n",
       "      <td>NaN</td>\n",
       "      <td>NaN</td>\n",
       "      <td>NaN</td>\n",
       "      <td>[Export edition]</td>\n",
       "      <td>[]</td>\n",
       "      <td>NaN</td>\n",
       "      <td>2025-06-06</td>\n",
       "      <td>2025-06-06</td>\n",
       "      <td>[]</td>\n",
       "      <td>True</td>\n",
       "    </tr>\n",
       "    <tr>\n",
       "      <th>2272</th>\n",
       "      <td>GRV7Q-MJNez-ARX2N</td>\n",
       "      <td>NaN</td>\n",
       "      <td>Nairobi</td>\n",
       "      <td></td>\n",
       "      <td></td>\n",
       "      <td>NaN</td>\n",
       "      <td>6229.0</td>\n",
       "      <td>1966-01-01</td>\n",
       "      <td>{'manufacturer_id': 156, 'name': 'Maresa', 'fu...</td>\n",
       "      <td>NaN</td>\n",
       "      <td>NaN</td>\n",
       "      <td>NaN</td>\n",
       "      <td>[]</td>\n",
       "      <td>[]</td>\n",
       "      <td>NaN</td>\n",
       "      <td>2025-06-06</td>\n",
       "      <td>2025-06-06</td>\n",
       "      <td>[]</td>\n",
       "      <td>True</td>\n",
       "    </tr>\n",
       "    <tr>\n",
       "      <th>2273</th>\n",
       "      <td>G4qzZ-MQpoP-A9pdL</td>\n",
       "      <td>NaN</td>\n",
       "      <td>City Ship</td>\n",
       "      <td></td>\n",
       "      <td></td>\n",
       "      <td>NaN</td>\n",
       "      <td>5130.0</td>\n",
       "      <td>1978-01-01</td>\n",
       "      <td>{'manufacturer_id': 161, 'name': 'J. Esteban',...</td>\n",
       "      <td>NaN</td>\n",
       "      <td>NaN</td>\n",
       "      <td>NaN</td>\n",
       "      <td>[Converted game]</td>\n",
       "      <td>[]</td>\n",
       "      <td>NaN</td>\n",
       "      <td>2025-06-06</td>\n",
       "      <td>2025-06-06</td>\n",
       "      <td>[]</td>\n",
       "      <td>True</td>\n",
       "    </tr>\n",
       "    <tr>\n",
       "      <th>2274</th>\n",
       "      <td>G5WP2-MjBZB-AOEDx</td>\n",
       "      <td>NaN</td>\n",
       "      <td>Don Quijote</td>\n",
       "      <td></td>\n",
       "      <td></td>\n",
       "      <td>NaN</td>\n",
       "      <td>4126.0</td>\n",
       "      <td>1979-01-01</td>\n",
       "      <td>{'manufacturer_id': 17, 'name': 'Recel', 'full...</td>\n",
       "      <td>NaN</td>\n",
       "      <td>NaN</td>\n",
       "      <td>NaN</td>\n",
       "      <td>[]</td>\n",
       "      <td>[]</td>\n",
       "      <td>NaN</td>\n",
       "      <td>2025-06-06</td>\n",
       "      <td>2025-06-06</td>\n",
       "      <td>[]</td>\n",
       "      <td>True</td>\n",
       "    </tr>\n",
       "  </tbody>\n",
       "</table>\n",
       "<p>2275 rows × 19 columns</p>\n",
       "</div>"
      ],
      "text/plain": [
       "                opdb_id is_machine         name common_name shortname  \\\n",
       "0           G50L9-MDxXD       True   Challenger        None             \n",
       "1           GR7V3-MQPyL       True    Moon Shot        None             \n",
       "2           GRDlQ-MJ9yJ       True  Galaxy Play        None             \n",
       "3           G4xlK-MDEKL       True    Free Fall        None             \n",
       "4           G4Xdq-MLBlD       True     The 30's                         \n",
       "...                 ...        ...          ...         ...       ...   \n",
       "2270  G48DQ-MQwod-ARNzE        NaN  Flying Aces                         \n",
       "2271  GryXn-MQkl5-A1Wz8        NaN  Black Magic                         \n",
       "2272  GRV7Q-MJNez-ARX2N        NaN      Nairobi                         \n",
       "2273  G4qzZ-MQpoP-A9pdL        NaN    City Ship                         \n",
       "2274  G5WP2-MjBZB-AOEDx        NaN  Don Quijote                         \n",
       "\n",
       "      physical_machine  ipdb_id manufacture_date  \\\n",
       "0                  1.0    483.0       1971-03-01   \n",
       "1                  1.0   1628.0       1969-08-01   \n",
       "2                  1.0   4631.0       1986-01-01   \n",
       "3                  1.0    949.0       1974-10-01   \n",
       "4                  1.0   2532.0       1977-01-04   \n",
       "...                ...      ...              ...   \n",
       "2270               NaN   4969.0       1977-01-01   \n",
       "2271               NaN   5566.0       1980-01-01   \n",
       "2272               NaN   6229.0       1966-01-01   \n",
       "2273               NaN   5130.0       1978-01-01   \n",
       "2274               NaN   4126.0       1979-01-01   \n",
       "\n",
       "                                           manufacturer type       display  \\\n",
       "0     {'manufacturer_id': 2, 'name': 'Gottlieb', 'fu...   em         reels   \n",
       "1     {'manufacturer_id': 3, 'name': 'Chicago Coin',...   em         reels   \n",
       "2     {'manufacturer_id': 4, 'name': 'Cic Play', 'fu...   ss  alphanumeric   \n",
       "3     {'manufacturer_id': 2, 'name': 'Gottlieb', 'fu...   em         reels   \n",
       "4     {'manufacturer_id': 5, 'name': 'Playmatic', 'f...   em         reels   \n",
       "...                                                 ...  ...           ...   \n",
       "2270  {'manufacturer_id': 157, 'name': 'Sentinel', '...  NaN           NaN   \n",
       "2271  {'manufacturer_id': 17, 'name': 'Recel', 'full...  NaN           NaN   \n",
       "2272  {'manufacturer_id': 156, 'name': 'Maresa', 'fu...  NaN           NaN   \n",
       "2273  {'manufacturer_id': 161, 'name': 'J. Esteban',...  NaN           NaN   \n",
       "2274  {'manufacturer_id': 17, 'name': 'Recel', 'full...  NaN           NaN   \n",
       "\n",
       "      player_count             features keywords description  created_at  \\\n",
       "0              2.0  [Head-to-head play]       []              2018-03-11   \n",
       "1              4.0                   []       []        None  2018-03-11   \n",
       "2              4.0                   []       []              2018-03-11   \n",
       "3              1.0         [Add-a-ball]       []              2018-03-11   \n",
       "4              1.0                   []       []              2018-03-11   \n",
       "...            ...                  ...      ...         ...         ...   \n",
       "2270           NaN         [Home model]       []         NaN  2025-06-06   \n",
       "2271           NaN     [Export edition]       []         NaN  2025-06-06   \n",
       "2272           NaN                   []       []         NaN  2025-06-06   \n",
       "2273           NaN     [Converted game]       []         NaN  2025-06-06   \n",
       "2274           NaN                   []       []         NaN  2025-06-06   \n",
       "\n",
       "      updated_at                                             images is_alias  \n",
       "0     2018-05-08  [{'title': 'Backglass', 'primary': True, 'type...      NaN  \n",
       "1     2018-05-08  [{'title': 'Backglass', 'primary': True, 'type...      NaN  \n",
       "2     2018-04-05  [{'title': 'Backglass', 'primary': True, 'type...      NaN  \n",
       "3     2018-04-22  [{'title': 'Backglass', 'primary': True, 'type...      NaN  \n",
       "4     2022-06-02  [{'title': 'Backglass', 'primary': True, 'type...      NaN  \n",
       "...          ...                                                ...      ...  \n",
       "2270  2025-06-06                                                 []     True  \n",
       "2271  2025-06-06                                                 []     True  \n",
       "2272  2025-06-06                                                 []     True  \n",
       "2273  2025-06-06                                                 []     True  \n",
       "2274  2025-06-06                                                 []     True  \n",
       "\n",
       "[2275 rows x 19 columns]"
      ]
     },
     "execution_count": 96,
     "metadata": {},
     "output_type": "execute_result"
    }
   ],
   "source": [
    "opdb"
   ]
  },
  {
   "cell_type": "code",
   "execution_count": 97,
   "id": "f52fdd53",
   "metadata": {},
   "outputs": [
    {
     "data": {
      "application/vnd.microsoft.datawrangler.viewer.v0+json": {
       "columns": [
        {
         "name": "index",
         "rawType": "int64",
         "type": "integer"
        },
        {
         "name": "opdb_id",
         "rawType": "object",
         "type": "string"
        },
        {
         "name": "is_machine",
         "rawType": "object",
         "type": "unknown"
        },
        {
         "name": "name",
         "rawType": "object",
         "type": "string"
        },
        {
         "name": "common_name",
         "rawType": "object",
         "type": "unknown"
        },
        {
         "name": "shortname",
         "rawType": "object",
         "type": "unknown"
        },
        {
         "name": "physical_machine",
         "rawType": "float64",
         "type": "float"
        },
        {
         "name": "ipdb_id",
         "rawType": "float64",
         "type": "float"
        },
        {
         "name": "manufacture_date",
         "rawType": "object",
         "type": "string"
        },
        {
         "name": "manufacturer",
         "rawType": "object",
         "type": "unknown"
        },
        {
         "name": "type",
         "rawType": "object",
         "type": "unknown"
        },
        {
         "name": "display",
         "rawType": "object",
         "type": "unknown"
        },
        {
         "name": "player_count",
         "rawType": "float64",
         "type": "float"
        },
        {
         "name": "features",
         "rawType": "object",
         "type": "unknown"
        },
        {
         "name": "keywords",
         "rawType": "object",
         "type": "unknown"
        },
        {
         "name": "description",
         "rawType": "object",
         "type": "unknown"
        },
        {
         "name": "created_at",
         "rawType": "object",
         "type": "string"
        },
        {
         "name": "updated_at",
         "rawType": "object",
         "type": "string"
        },
        {
         "name": "images",
         "rawType": "object",
         "type": "unknown"
        },
        {
         "name": "is_alias",
         "rawType": "object",
         "type": "unknown"
        }
       ],
       "ref": "58ff6a5c-073c-4643-ace0-1204a0e85f59",
       "rows": [
        [
         "1468",
         "G5W1w-MkPy7",
         "True",
         "\"300\"",
         null,
         "",
         "1.0",
         "2539.0",
         "1975-08-01",
         "{'manufacturer_id': 2, 'name': 'Gottlieb', 'full_name': 'D. Gottlieb & Co.', 'created_at': '2018-03-11', 'updated_at': '2018-03-11'}",
         "em",
         "reels",
         "4.0",
         "[]",
         "[]",
         null,
         "2018-03-11",
         "2018-05-03",
         "[{'title': 'Backglass', 'primary': True, 'type': 'backglass', 'urls': {'medium': 'https://img.opdb.org/f8ed5fac-e55a-4b76-b62f-2fc6d8927870-medium.jpg', 'large': 'https://img.opdb.org/f8ed5fac-e55a-4b76-b62f-2fc6d8927870-large.jpg', 'small': 'https://img.opdb.org/f8ed5fac-e55a-4b76-b62f-2fc6d8927870-small.jpg'}, 'sizes': {'medium': {'width': 631, 'height': 600}, 'large': {'width': 631, 'height': 600}, 'small': {'width': 250, 'height': 238}}}]",
         null
        ],
        [
         "2021",
         "GwexB-M7Zxq",
         "True",
         "10th Inning",
         "",
         "",
         "1.0",
         "3788.0",
         "1948-01-01",
         "{'manufacturer_id': 26, 'name': 'United', 'full_name': 'United Manufacturing Co.', 'created_at': '2018-03-11', 'updated_at': '2018-03-11'}",
         "em",
         "lights",
         "1.0",
         "[]",
         "[]",
         "",
         "2024-06-24",
         "2024-06-24",
         "[{'title': None, 'primary': True, 'type': 'backglass', 'urls': {'large': 'https://img.opdb.org/8e650ea8-f4e8-44f2-a22a-2d20477b3fe7-large.jpg', 'medium': 'https://img.opdb.org/8e650ea8-f4e8-44f2-a22a-2d20477b3fe7-medium.jpg', 'small': 'https://img.opdb.org/8e650ea8-f4e8-44f2-a22a-2d20477b3fe7-small.jpg'}, 'sizes': {'large': {'width': 1398, 'height': 1500}, 'medium': {'width': 596, 'height': 640}, 'small': {'width': 233, 'height': 250}}}]",
         null
        ],
        [
         "1206",
         "GrqL6-MLy7l",
         "True",
         "15 Pool",
         null,
         "",
         "1.0",
         "5197.0",
         "1976-01-01",
         "{'manufacturer_id': 66, 'name': 'Playmec Flippers', 'full_name': 'Playmec Flippers', 'created_at': '2018-03-11', 'updated_at': '2018-03-11'}",
         "em",
         "reels",
         "1.0",
         "['Add-a-ball']",
         "[]",
         "",
         "2018-03-11",
         "2018-05-03",
         "[{'title': 'Backglass', 'primary': True, 'type': 'backglass', 'urls': {'medium': 'https://img.opdb.org/5e9c6ef3-f611-43ce-b2ef-ea663811abcc-medium.jpg', 'large': 'https://img.opdb.org/5e9c6ef3-f611-43ce-b2ef-ea663811abcc-large.jpg', 'small': 'https://img.opdb.org/5e9c6ef3-f611-43ce-b2ef-ea663811abcc-small.jpg'}, 'sizes': {'medium': {'width': 600, 'height': 600}, 'large': {'width': 600, 'height': 600}, 'small': {'width': 250, 'height': 250}}}]",
         null
        ],
        [
         "967",
         "GRBWj-MQKlO",
         "True",
         "2 in 1",
         null,
         "",
         "1.0",
         "2698.0",
         "1964-07-01",
         "{'manufacturer_id': 8, 'name': 'Bally', 'full_name': 'Bally Manufacturing Co.', 'created_at': '2018-03-11', 'updated_at': '2018-03-11'}",
         "em",
         "reels",
         "2.0",
         "[]",
         "[]",
         null,
         "2018-03-11",
         "2018-05-12",
         "[{'title': 'Backglass', 'primary': True, 'type': 'backglass', 'urls': {'medium': 'https://img.opdb.org/875ae81b-dcd0-46a7-aa26-86cb359401ba-medium.jpg', 'large': 'https://img.opdb.org/875ae81b-dcd0-46a7-aa26-86cb359401ba-large.jpg', 'small': 'https://img.opdb.org/875ae81b-dcd0-46a7-aa26-86cb359401ba-small.jpg'}, 'sizes': {'medium': {'width': 640, 'height': 478}, 'large': {'width': 725, 'height': 542}, 'small': {'width': 250, 'height': 187}}}]",
         null
        ],
        [
         "1514",
         "G48nw-M5RPZ",
         "True",
         "2001",
         null,
         "",
         "1.0",
         "2697.0",
         "1971-02-01",
         "{'manufacturer_id': 2, 'name': 'Gottlieb', 'full_name': 'D. Gottlieb & Co.', 'created_at': '2018-03-11', 'updated_at': '2018-03-11'}",
         "em",
         "reels",
         "1.0",
         "['Replay']",
         "[]",
         "",
         "2018-03-11",
         "2018-05-08",
         "[{'title': 'Backglass', 'primary': True, 'type': 'backglass', 'urls': {'medium': 'https://img.opdb.org/d4d2fd30-5bcf-4e84-953a-5a27d11b593f-medium.jpg', 'large': 'https://img.opdb.org/d4d2fd30-5bcf-4e84-953a-5a27d11b593f-large.jpg', 'small': 'https://img.opdb.org/d4d2fd30-5bcf-4e84-953a-5a27d11b593f-small.jpg'}, 'sizes': {'medium': {'width': 640, 'height': 480}, 'large': {'width': 640, 'height': 480}, 'small': {'width': 250, 'height': 188}}}]",
         null
        ],
        [
         "818",
         "G48W0-MDy3v",
         "True",
         "21",
         null,
         "",
         "1.0",
         "2681.0",
         "1960-02-01",
         "{'manufacturer_id': 7, 'name': 'Williams', 'full_name': 'Williams Electronic Games, Inc.', 'created_at': '2018-03-11', 'updated_at': '2018-03-11'}",
         "em",
         "lights",
         "1.0",
         "[]",
         "[]",
         "",
         "2018-03-11",
         "2018-05-13",
         "[{'title': 'Backglass', 'primary': True, 'type': 'backglass', 'urls': {'medium': 'https://img.opdb.org/3a980b38-09fc-4361-bd93-77c6352526a2-medium.jpg', 'large': 'https://img.opdb.org/3a980b38-09fc-4361-bd93-77c6352526a2-large.jpg', 'small': 'https://img.opdb.org/3a980b38-09fc-4361-bd93-77c6352526a2-small.jpg'}, 'sizes': {'medium': {'width': 604, 'height': 640}, 'large': {'width': 699, 'height': 741}, 'small': {'width': 236, 'height': 250}}}]",
         null
        ],
        [
         "320",
         "GrEkZ-ML13O",
         "True",
         "24",
         null,
         "24",
         "1.0",
         "5419.0",
         "2009-02-01",
         "{'manufacturer_id': 12, 'name': 'Stern', 'full_name': 'Stern Pinball, Inc.', 'created_at': '2018-03-11', 'updated_at': '2018-03-11'}",
         "ss",
         "dmd",
         "4.0",
         "[]",
         "['tv']",
         "",
         "2018-03-11",
         "2018-03-18",
         "[{'title': 'Backglass', 'primary': True, 'type': 'backglass', 'urls': {'medium': 'https://img.opdb.org/7bc7b517-08c6-48bd-a361-64ba701d8f2a-medium.jpg', 'large': 'https://img.opdb.org/7bc7b517-08c6-48bd-a361-64ba701d8f2a-large.jpg', 'small': 'https://img.opdb.org/7bc7b517-08c6-48bd-a361-64ba701d8f2a-small.jpg'}, 'sizes': {'medium': {'width': 640, 'height': 482}, 'large': {'width': 796, 'height': 600}, 'small': {'width': 250, 'height': 188}}}]",
         null
        ],
        [
         "1207",
         "Gr22Q-MQkbn",
         "True",
         "250 cc",
         null,
         "",
         "1.0",
         "4089.0",
         "1992-01-01",
         "{'manufacturer_id': 52, 'name': 'Inder', 'full_name': 'Inder', 'created_at': '2018-03-11', 'updated_at': '2018-03-11'}",
         "ss",
         "alphanumeric",
         "4.0",
         "[]",
         "[]",
         "",
         "2018-03-11",
         "2018-03-31",
         "[{'title': 'Backglass', 'primary': True, 'type': 'backglass', 'urls': {'medium': 'https://img.opdb.org/a9d0c0c8-1d5d-4b77-9159-8060749440ec-medium.jpg', 'large': 'https://img.opdb.org/a9d0c0c8-1d5d-4b77-9159-8060749440ec-large.jpg', 'small': 'https://img.opdb.org/a9d0c0c8-1d5d-4b77-9159-8060749440ec-small.jpg'}, 'sizes': {'medium': {'width': 640, 'height': 545}, 'large': {'width': 704, 'height': 600}, 'small': {'width': 250, 'height': 213}}}]",
         null
        ],
        [
         "1313",
         "GR0Q1-MkPPd",
         "True",
         "3 Coins",
         null,
         "",
         "1.0",
         "2535.0",
         "1962-02-01",
         "{'manufacturer_id': 7, 'name': 'Williams', 'full_name': 'Williams Electronic Games, Inc.', 'created_at': '2018-03-11', 'updated_at': '2018-03-11'}",
         "em",
         "reels",
         "1.0",
         "[]",
         "[]",
         null,
         "2018-03-11",
         "2018-05-12",
         "[{'title': 'Backglass', 'primary': True, 'type': 'backglass', 'urls': {'medium': 'https://img.opdb.org/617456ba-2890-4d64-9e40-4aa4df4f5572-medium.jpg', 'large': 'https://img.opdb.org/617456ba-2890-4d64-9e40-4aa4df4f5572-large.jpg', 'small': 'https://img.opdb.org/617456ba-2890-4d64-9e40-4aa4df4f5572-small.jpg'}, 'sizes': {'medium': {'width': 507, 'height': 640}, 'large': {'width': 639, 'height': 807}, 'small': {'width': 198, 'height': 250}}}]",
         null
        ],
        [
         "756",
         "GrkK0-MDXxZ",
         "True",
         "3 Jokers",
         null,
         "",
         "1.0",
         "2540.0",
         "1970-11-01",
         "{'manufacturer_id': 7, 'name': 'Williams', 'full_name': 'Williams Electronic Games, Inc.', 'created_at': '2018-03-11', 'updated_at': '2018-03-11'}",
         "em",
         "reels",
         "1.0",
         "['Add-a-ball']",
         "[]",
         "",
         "2018-03-11",
         "2018-05-08",
         "[{'title': 'Backglass', 'primary': True, 'type': 'backglass', 'urls': {'medium': 'https://img.opdb.org/5e3553c2-1eb0-434b-b64d-30f559df06fc-medium.jpg', 'large': 'https://img.opdb.org/5e3553c2-1eb0-434b-b64d-30f559df06fc-large.jpg', 'small': 'https://img.opdb.org/5e3553c2-1eb0-434b-b64d-30f559df06fc-small.jpg'}, 'sizes': {'medium': {'width': 324, 'height': 372}, 'large': {'width': 324, 'height': 372}, 'small': {'width': 218, 'height': 250}}}]",
         null
        ],
        [
         "947",
         "GRz0q-MLe9N",
         "True",
         "3-D",
         null,
         "",
         "1.0",
         "2548.0",
         "1958-11-01",
         "{'manufacturer_id': 7, 'name': 'Williams', 'full_name': 'Williams Electronic Games, Inc.', 'created_at': '2018-03-11', 'updated_at': '2018-03-11'}",
         "em",
         "lights",
         "1.0",
         "[]",
         "[]",
         "",
         "2018-03-11",
         "2018-05-13",
         "[{'title': 'Backglass', 'primary': True, 'type': 'backglass', 'urls': {'medium': 'https://img.opdb.org/c0c897d5-ec2e-4241-956f-8346335dcd2b-medium.jpg', 'large': 'https://img.opdb.org/c0c897d5-ec2e-4241-956f-8346335dcd2b-large.jpg', 'small': 'https://img.opdb.org/c0c897d5-ec2e-4241-956f-8346335dcd2b-small.jpg'}, 'sizes': {'medium': {'width': 535, 'height': 640}, 'large': {'width': 669, 'height': 800}, 'small': {'width': 209, 'height': 250}}}]",
         null
        ],
        [
         "1045",
         "G41e6-MLqRz",
         "True",
         "3-In-Line",
         null,
         "",
         "1.0",
         "2549.0",
         "1963-07-01",
         "{'manufacturer_id': 8, 'name': 'Bally', 'full_name': 'Bally Manufacturing Co.', 'created_at': '2018-03-11', 'updated_at': '2018-03-11'}",
         "em",
         "reels",
         "4.0",
         "[]",
         "[]",
         null,
         "2018-03-11",
         "2018-05-12",
         "[{'title': 'Backglass', 'primary': True, 'type': 'backglass', 'urls': {'medium': 'https://img.opdb.org/44ba5bd7-d5eb-4c80-8b33-d0ec4b877019-medium.jpg', 'large': 'https://img.opdb.org/44ba5bd7-d5eb-4c80-8b33-d0ec4b877019-large.jpg', 'small': 'https://img.opdb.org/44ba5bd7-d5eb-4c80-8b33-d0ec4b877019-small.jpg'}, 'sizes': {'medium': {'width': 640, 'height': 592}, 'large': {'width': 663, 'height': 613}, 'small': {'width': 250, 'height': 231}}}]",
         null
        ],
        [
         "1605",
         "G4kE2-MBRzN",
         "True",
         "301/Bulls Eye",
         null,
         "",
         "1.0",
         "403.0",
         "1986-01-01",
         "{'manufacturer_id': 106, 'name': 'Grand Products', 'full_name': 'Grand Products Inc.', 'created_at': '2018-03-11', 'updated_at': '2018-03-11'}",
         "ss",
         "alphanumeric",
         "4.0",
         "['Conversion kit']",
         "[]",
         "",
         "2018-03-11",
         "2018-04-05",
         "[{'title': 'Backglass', 'primary': True, 'type': 'backglass', 'urls': {'medium': 'https://img.opdb.org/023956d3-5912-43c4-afd1-5dbef1c08702-medium.jpg', 'large': 'https://img.opdb.org/023956d3-5912-43c4-afd1-5dbef1c08702-large.jpg', 'small': 'https://img.opdb.org/023956d3-5912-43c4-afd1-5dbef1c08702-small.jpg'}, 'sizes': {'medium': {'width': 640, 'height': 480}, 'large': {'width': 800, 'height': 600}, 'small': {'width': 250, 'height': 188}}}]",
         null
        ],
        [
         "822",
         "GrqK8-MJdoe",
         "True",
         "4 Aces",
         null,
         "",
         "1.0",
         "928.0",
         "1970-03-01",
         "{'manufacturer_id': 7, 'name': 'Williams', 'full_name': 'Williams Electronic Games, Inc.', 'created_at': '2018-03-11', 'updated_at': '2018-03-11'}",
         "em",
         "reels",
         "2.0",
         "['Widebody']",
         "[]",
         "",
         "2018-03-11",
         "2018-05-08",
         "[{'title': 'Backglass', 'primary': True, 'type': 'backglass', 'urls': {'medium': 'https://img.opdb.org/981ba8d7-a33f-488b-bdd8-77012670d8a7-medium.jpg', 'large': 'https://img.opdb.org/981ba8d7-a33f-488b-bdd8-77012670d8a7-large.jpg', 'small': 'https://img.opdb.org/981ba8d7-a33f-488b-bdd8-77012670d8a7-small.jpg'}, 'sizes': {'medium': {'width': 640, 'height': 433}, 'large': {'width': 887, 'height': 600}, 'small': {'width': 250, 'height': 169}}}]",
         null
        ],
        [
         "1108",
         "GRwKx-MJV8q",
         "True",
         "4 Queens",
         null,
         "4Q",
         "1.0",
         "936.0",
         "1970-12-01",
         "{'manufacturer_id': 8, 'name': 'Bally', 'full_name': 'Bally Manufacturing Co.', 'created_at': '2018-03-11', 'updated_at': '2018-03-11'}",
         "em",
         "reels",
         "1.0",
         "[]",
         "[]",
         "",
         "2018-03-11",
         "2018-05-08",
         "[{'title': 'Backglass', 'primary': True, 'type': 'backglass', 'urls': {'medium': 'https://img.opdb.org/95da21d4-d2da-4683-b578-3189799412fa-medium.jpg', 'large': 'https://img.opdb.org/95da21d4-d2da-4683-b578-3189799412fa-large.jpg', 'small': 'https://img.opdb.org/95da21d4-d2da-4683-b578-3189799412fa-small.jpg'}, 'sizes': {'medium': {'width': 579, 'height': 640}, 'large': {'width': 842, 'height': 931}, 'small': {'width': 226, 'height': 250}}}]",
         null
        ],
        [
         "440",
         "GRWz0-MLOxd",
         "True",
         "4 Roses",
         null,
         "",
         "1.0",
         "938.0",
         "1962-12-01",
         "{'manufacturer_id': 7, 'name': 'Williams', 'full_name': 'Williams Electronic Games, Inc.', 'created_at': '2018-03-11', 'updated_at': '2018-03-11'}",
         "em",
         "reels",
         "1.0",
         "[]",
         "[]",
         null,
         "2018-03-11",
         "2018-05-12",
         "[{'title': 'Backglass', 'primary': True, 'type': 'backglass', 'urls': {'medium': 'https://img.opdb.org/c6e030a1-63f8-485f-b80d-9b1ec702e88e-medium.jpg', 'large': 'https://img.opdb.org/c6e030a1-63f8-485f-b80d-9b1ec702e88e-large.jpg', 'small': 'https://img.opdb.org/c6e030a1-63f8-485f-b80d-9b1ec702e88e-small.jpg'}, 'sizes': {'medium': {'width': 538, 'height': 640}, 'large': {'width': 721, 'height': 859}, 'small': {'width': 210, 'height': 250}}}]",
         null
        ],
        [
         "896",
         "GryO2-MD8v2",
         "True",
         "4 Square",
         null,
         "",
         "1.0",
         "940.0",
         "1971-06-01",
         "{'manufacturer_id': 2, 'name': 'Gottlieb', 'full_name': 'D. Gottlieb & Co.', 'created_at': '2018-03-11', 'updated_at': '2018-03-11'}",
         "em",
         "reels",
         "1.0",
         "['Replay']",
         "[]",
         "",
         "2018-03-11",
         "2018-05-08",
         "[{'title': 'Backglass', 'primary': True, 'type': 'backglass', 'urls': {'medium': 'https://img.opdb.org/4de0b44c-38c1-4cc4-8479-941da8760062-medium.jpg', 'large': 'https://img.opdb.org/4de0b44c-38c1-4cc4-8479-941da8760062-large.jpg', 'small': 'https://img.opdb.org/4de0b44c-38c1-4cc4-8479-941da8760062-small.jpg'}, 'sizes': {'medium': {'width': 432, 'height': 432}, 'large': {'width': 432, 'height': 432}, 'small': {'width': 250, 'height': 250}}}]",
         null
        ],
        [
         "1397",
         "GRnVL-MP3NR",
         "True",
         "4 Star",
         null,
         "",
         "1.0",
         "941.0",
         "1958-07-01",
         "{'manufacturer_id': 7, 'name': 'Williams', 'full_name': 'Williams Electronic Games, Inc.', 'created_at': '2018-03-11', 'updated_at': '2018-03-11'}",
         "em",
         "lights",
         "1.0",
         "[]",
         "[]",
         "",
         "2018-03-11",
         "2018-05-13",
         "[{'title': 'Backglass', 'primary': True, 'type': 'backglass', 'urls': {'medium': 'https://img.opdb.org/5e58100d-04cc-49cc-bc0c-2a5cf25b5c14-medium.jpg', 'large': 'https://img.opdb.org/5e58100d-04cc-49cc-bc0c-2a5cf25b5c14-large.jpg', 'small': 'https://img.opdb.org/5e58100d-04cc-49cc-bc0c-2a5cf25b5c14-small.jpg'}, 'sizes': {'medium': {'width': 524, 'height': 640}, 'large': {'width': 725, 'height': 885}, 'small': {'width': 205, 'height': 250}}}]",
         null
        ],
        [
         "660",
         "G5DD0-MD014",
         "True",
         "4-Belles",
         null,
         "",
         "1.0",
         "943.0",
         "1954-09-01",
         "{'manufacturer_id': 2, 'name': 'Gottlieb', 'full_name': 'D. Gottlieb & Co.', 'created_at': '2018-03-11', 'updated_at': '2018-03-11'}",
         "em",
         "lights",
         "1.0",
         "[]",
         "[]",
         "",
         "2018-03-11",
         "2018-05-13",
         "[{'title': 'Backglass', 'primary': True, 'type': 'backglass', 'urls': {'medium': 'https://img.opdb.org/9af0a642-8182-4590-bb40-9e8f90cd127e-medium.jpg', 'large': 'https://img.opdb.org/9af0a642-8182-4590-bb40-9e8f90cd127e-large.jpg', 'small': 'https://img.opdb.org/9af0a642-8182-4590-bb40-9e8f90cd127e-small.jpg'}, 'sizes': {'medium': {'width': 502, 'height': 560}, 'large': {'width': 502, 'height': 560}, 'small': {'width': 224, 'height': 250}}}]",
         null
        ],
        [
         "1646",
         "G4eZ6-M2Yeq",
         "True",
         "400",
         null,
         "",
         "1.0",
         "934.0",
         "1952-10-01",
         "{'manufacturer_id': 24, 'name': 'Genco', 'full_name': 'Genco Manufacturing Co.', 'created_at': '2018-03-11', 'updated_at': '2018-03-11'}",
         "em",
         "lights",
         "1.0",
         "[]",
         "[]",
         "",
         "2018-03-11",
         "2018-05-14",
         "[{'title': 'Backglass', 'primary': True, 'type': 'backglass', 'urls': {'medium': 'https://img.opdb.org/d1afd7ad-8ef9-4283-b53b-a3ffc13816bb-medium.jpg', 'large': 'https://img.opdb.org/d1afd7ad-8ef9-4283-b53b-a3ffc13816bb-large.jpg', 'small': 'https://img.opdb.org/d1afd7ad-8ef9-4283-b53b-a3ffc13816bb-small.jpg'}, 'sizes': {'medium': {'width': 612, 'height': 640}, 'large': {'width': 793, 'height': 829}, 'small': {'width': 239, 'height': 250}}}]",
         null
        ],
        [
         "64",
         "G59VQ-MLBVl",
         "True",
         "4X4",
         null,
         "",
         "1.0",
         "3111.0",
         "1983-01-01",
         "{'manufacturer_id': 27, 'name': 'Atari', 'full_name': 'Atari Incorporated', 'created_at': '2018-03-11', 'updated_at': '2018-03-11'}",
         "ss",
         "alphanumeric",
         "4.0",
         "[]",
         "[]",
         null,
         "2018-03-11",
         "2018-04-08",
         "[{'title': 'Backglass', 'primary': True, 'type': 'backglass', 'urls': {'medium': 'https://img.opdb.org/d8295d1a-63c8-4461-9038-511488cb2fa4-medium.jpg', 'large': 'https://img.opdb.org/d8295d1a-63c8-4461-9038-511488cb2fa4-large.jpg', 'small': 'https://img.opdb.org/d8295d1a-63c8-4461-9038-511488cb2fa4-small.jpg'}, 'sizes': {'medium': {'width': 620, 'height': 600}, 'large': {'width': 620, 'height': 600}, 'small': {'width': 250, 'height': 242}}}]",
         null
        ],
        [
         "991",
         "GR0yN-MQVjz",
         "True",
         "50/50",
         null,
         "",
         "1.0",
         "842.0",
         "1965-07-01",
         "{'manufacturer_id': 8, 'name': 'Bally', 'full_name': 'Bally Manufacturing Co.', 'created_at': '2018-03-11', 'updated_at': '2018-03-11'}",
         "em",
         "reels",
         "2.0",
         "[]",
         "[]",
         null,
         "2018-03-11",
         "2018-05-11",
         "[{'title': 'Backglass', 'primary': True, 'type': 'backglass', 'urls': {'medium': 'https://img.opdb.org/790c9bb2-6dc3-491c-b674-c2b031ae453f-medium.jpg', 'large': 'https://img.opdb.org/790c9bb2-6dc3-491c-b674-c2b031ae453f-large.jpg', 'small': 'https://img.opdb.org/790c9bb2-6dc3-491c-b674-c2b031ae453f-small.jpg'}, 'sizes': {'medium': {'width': 382, 'height': 343}, 'large': {'width': 382, 'height': 343}, 'small': {'width': 250, 'height': 224}}}]",
         null
        ],
        [
         "890",
         "G592K-MJoxd",
         "True",
         "8 Ball",
         null,
         "",
         "1.0",
         "764.0",
         "1966-01-01",
         "{'manufacturer_id': 7, 'name': 'Williams', 'full_name': 'Williams Electronic Games, Inc.', 'created_at': '2018-03-11', 'updated_at': '2018-03-11'}",
         "em",
         "reels",
         "2.0",
         "[]",
         "[]",
         null,
         "2018-03-11",
         "2018-05-10",
         "[{'title': 'Backglass', 'primary': True, 'type': 'backglass', 'urls': {'medium': 'https://img.opdb.org/d26b5943-7521-48a0-a804-cb3563cf9d24-medium.jpg', 'large': 'https://img.opdb.org/d26b5943-7521-48a0-a804-cb3563cf9d24-large.jpg', 'small': 'https://img.opdb.org/d26b5943-7521-48a0-a804-cb3563cf9d24-small.jpg'}, 'sizes': {'medium': {'width': 640, 'height': 580}, 'large': {'width': 731, 'height': 663}, 'small': {'width': 250, 'height': 227}}}]",
         null
        ],
        [
         "1373",
         "G4dke-M5R3k",
         "True",
         "8 Ball",
         null,
         "",
         "1.0",
         "765.0",
         "1952-09-01",
         "{'manufacturer_id': 7, 'name': 'Williams', 'full_name': 'Williams Electronic Games, Inc.', 'created_at': '2018-03-11', 'updated_at': '2018-03-11'}",
         "em",
         "lights",
         "1.0",
         "[]",
         "[]",
         "",
         "2018-03-11",
         "2018-05-15",
         "[{'title': 'Backglass', 'primary': True, 'type': 'backglass', 'urls': {'medium': 'https://img.opdb.org/7f803fb4-367f-42c5-b2c8-80b3024ba960-medium.jpg', 'large': 'https://img.opdb.org/7f803fb4-367f-42c5-b2c8-80b3024ba960-large.jpg', 'small': 'https://img.opdb.org/7f803fb4-367f-42c5-b2c8-80b3024ba960-small.jpg'}, 'sizes': {'medium': {'width': 639, 'height': 640}, 'large': {'width': 867, 'height': 869}, 'small': {'width': 249, 'height': 250}}}]",
         null
        ],
        [
         "828",
         "G5oO9-MJYE4",
         "True",
         "A-Go-Go",
         null,
         "",
         "1.0",
         "27.0",
         "1966-05-01",
         "{'manufacturer_id': 7, 'name': 'Williams', 'full_name': 'Williams Electronic Games, Inc.', 'created_at': '2018-03-11', 'updated_at': '2018-03-11'}",
         "em",
         "reels",
         "4.0",
         "[]",
         "[]",
         null,
         "2018-03-11",
         "2018-05-10",
         "[{'title': 'Backglass', 'primary': True, 'type': 'backglass', 'urls': {'medium': 'https://img.opdb.org/20c4d036-a19a-4733-89e2-53163a568ac9-medium.jpg', 'large': 'https://img.opdb.org/20c4d036-a19a-4733-89e2-53163a568ac9-large.jpg', 'small': 'https://img.opdb.org/20c4d036-a19a-4733-89e2-53163a568ac9-small.jpg'}, 'sizes': {'medium': {'width': 640, 'height': 480}, 'large': {'width': 690, 'height': 518}, 'small': {'width': 250, 'height': 188}}}]",
         null
        ],
        [
         "1651",
         "G5wxv-MnKkN",
         "True",
         "A.G. Football",
         null,
         "AGF",
         "1.0",
         "2886.0",
         "1992-01-01",
         "{'manufacturer_id': 25, 'name': 'Alvin G. & Co', 'full_name': 'Alvin G. and Company', 'created_at': '2018-03-11', 'updated_at': '2018-03-11'}",
         "ss",
         "alphanumeric",
         "2.0",
         "['Head-to-head play']",
         "[]",
         "",
         "2018-03-11",
         "2018-03-23",
         "[{'title': 'Backglass', 'primary': True, 'type': 'backglass', 'urls': {'medium': 'https://img.opdb.org/234363ba-2ce5-4aa0-a0f5-702bc44c07a5-medium.jpg', 'large': 'https://img.opdb.org/234363ba-2ce5-4aa0-a0f5-702bc44c07a5-large.jpg', 'small': 'https://img.opdb.org/234363ba-2ce5-4aa0-a0f5-702bc44c07a5-small.jpg'}, 'sizes': {'medium': {'width': 300, 'height': 295}, 'large': {'width': 300, 'height': 295}, 'small': {'width': 250, 'height': 246}}}]",
         null
        ],
        [
         "763",
         "G5wxv-MQP9z",
         "True",
         "A.G. Soccer-Ball",
         null,
         "AGSB",
         "1.0",
         "120.0",
         "1991-01-01",
         "{'manufacturer_id': 25, 'name': 'Alvin G. & Co', 'full_name': 'Alvin G. and Company', 'created_at': '2018-03-11', 'updated_at': '2018-03-11'}",
         "ss",
         "alphanumeric",
         "2.0",
         "['Head-to-head play']",
         "[]",
         "",
         "2018-03-11",
         "2018-03-23",
         "[{'title': 'Backglass', 'primary': True, 'type': 'backglass', 'urls': {'medium': 'https://img.opdb.org/152997e9-1765-461a-9b0c-ad159df648f0-medium.jpg', 'large': 'https://img.opdb.org/152997e9-1765-461a-9b0c-ad159df648f0-large.jpg', 'small': 'https://img.opdb.org/152997e9-1765-461a-9b0c-ad159df648f0-small.jpg'}, 'sizes': {'medium': {'width': 450, 'height': 600}, 'large': {'width': 450, 'height': 600}, 'small': {'width': 188, 'height': 250}}}]",
         null
        ],
        [
         "1977",
         "Ge1py-MkPj1",
         "True",
         "ABBA",
         "",
         "",
         "0.0",
         null,
         "2024-04-06",
         "{'manufacturer_id': 124, 'name': 'Pinball Brothers', 'full_name': 'Pinball Brothers', 'created_at': '2021-05-06', 'updated_at': '2021-05-06'}",
         "ss",
         "lcd",
         "4.0",
         "['Limited edition', 'Premium edition']",
         "[]",
         "",
         "2024-04-05",
         "2024-04-05",
         "[]",
         null
        ],
        [
         "2237",
         "Ge1py-MkPj1-AOppL",
         null,
         "ABBA (CE)",
         "",
         "",
         null,
         null,
         "2024-04-06",
         "{'manufacturer_id': 124, 'name': 'Pinball Brothers', 'full_name': 'Pinball Brothers', 'created_at': '2021-05-06', 'updated_at': '2021-05-06'}",
         null,
         null,
         null,
         "['Premium edition']",
         "[]",
         null,
         "2024-04-05",
         "2024-04-05",
         "[{'title': None, 'primary': True, 'type': 'backglass', 'urls': {'medium': 'https://img.opdb.org/184d9ec9-4816-4fe1-9ae8-5ae081759da8-medium.jpg', 'large': 'https://img.opdb.org/184d9ec9-4816-4fe1-9ae8-5ae081759da8-large.jpg', 'small': 'https://img.opdb.org/184d9ec9-4816-4fe1-9ae8-5ae081759da8-small.jpg'}, 'sizes': {'medium': {'width': 638, 'height': 640}, 'large': {'width': 900, 'height': 903}, 'small': {'width': 249, 'height': 250}}}]",
         "True"
        ],
        [
         "2236",
         "Ge1py-MkPj1-A1XDN",
         null,
         "ABBA (LE)",
         "",
         "",
         null,
         null,
         "2024-04-06",
         "{'manufacturer_id': 124, 'name': 'Pinball Brothers', 'full_name': 'Pinball Brothers', 'created_at': '2021-05-06', 'updated_at': '2021-05-06'}",
         null,
         null,
         null,
         "['Limited edition']",
         "[]",
         null,
         "2024-04-05",
         "2024-04-05",
         "[{'title': None, 'primary': True, 'type': 'backglass', 'urls': {'medium': 'https://img.opdb.org/0fd2ea98-9dbf-4a90-b6d2-695b8677bdf0-medium.jpg', 'large': 'https://img.opdb.org/0fd2ea98-9dbf-4a90-b6d2-695b8677bdf0-large.jpg', 'small': 'https://img.opdb.org/0fd2ea98-9dbf-4a90-b6d2-695b8677bdf0-small.jpg'}, 'sizes': {'medium': {'width': 640, 'height': 628}, 'large': {'width': 1121, 'height': 1100}, 'small': {'width': 250, 'height': 245}}}]",
         "True"
        ],
        [
         "2114",
         "G43W4-MrRpw-A1B7O",
         null,
         "AC/DC (Back In Black LE)",
         null,
         null,
         null,
         "5777.0",
         "2012-01-01",
         "{'manufacturer_id': 12, 'name': 'Stern', 'full_name': 'Stern Pinball, Inc.', 'created_at': '2018-03-11', 'updated_at': '2018-03-11'}",
         null,
         null,
         null,
         "[]",
         "[]",
         null,
         "2018-03-14",
         "2018-03-14",
         "[{'title': None, 'primary': True, 'type': 'backglass', 'urls': {'medium': 'https://img.opdb.org/00415285-d73c-4222-ad03-0b24b4f52cc9-medium.jpg', 'large': 'https://img.opdb.org/00415285-d73c-4222-ad03-0b24b4f52cc9-large.jpg', 'small': 'https://img.opdb.org/00415285-d73c-4222-ad03-0b24b4f52cc9-small.jpg'}, 'sizes': {'medium': {'width': 640, 'height': 433}, 'large': {'width': 1500, 'height': 1014}, 'small': {'width': 250, 'height': 169}}}]",
         "True"
        ],
        [
         "1785",
         "G43W4-MrRpw",
         "True",
         "AC/DC (LE)",
         "",
         "ACDC",
         "1.0",
         "5777.0",
         "2012-01-01",
         "{'manufacturer_id': 12, 'name': 'Stern', 'full_name': 'Stern Pinball, Inc.', 'created_at': '2018-03-11', 'updated_at': '2018-03-11'}",
         "ss",
         "dmd",
         "4.0",
         "['Limited edition']",
         "['music']",
         "",
         "2018-03-11",
         "2022-01-25",
         "[{'title': 'Backglass', 'primary': True, 'type': 'backglass', 'urls': {'medium': 'https://img.opdb.org/769b6c38-667e-4d14-a855-0db42c5b8496-medium.jpg', 'large': 'https://img.opdb.org/769b6c38-667e-4d14-a855-0db42c5b8496-large.jpg', 'small': 'https://img.opdb.org/769b6c38-667e-4d14-a855-0db42c5b8496-small.jpg'}, 'sizes': {'medium': {'width': 550, 'height': 406}, 'large': {'width': 550, 'height': 406}, 'small': {'width': 250, 'height': 185}}}]",
         null
        ],
        [
         "2116",
         "G43W4-MdEjy-ARXn1",
         null,
         "AC/DC (LUCI Vault Edition)",
         null,
         null,
         null,
         "6502.0",
         "2018-02-01",
         "{'manufacturer_id': 12, 'name': 'Stern', 'full_name': 'Stern Pinball, Inc.', 'created_at': '2018-03-11', 'updated_at': '2018-03-11'}",
         null,
         null,
         null,
         "[]",
         "[]",
         null,
         "2018-03-14",
         "2018-03-14",
         "[{'title': None, 'primary': True, 'type': 'backglass', 'urls': {'medium': 'https://img.opdb.org/cd5aed35-3f40-42c6-9ea4-8eba8cd835e8-medium.jpg', 'large': 'https://img.opdb.org/cd5aed35-3f40-42c6-9ea4-8eba8cd835e8-large.jpg', 'small': 'https://img.opdb.org/cd5aed35-3f40-42c6-9ea4-8eba8cd835e8-small.jpg'}, 'sizes': {'medium': {'width': 550, 'height': 406}, 'large': {'width': 550, 'height': 406}, 'small': {'width': 250, 'height': 185}}}]",
         "True"
        ],
        [
         "2115",
         "G43W4-MXrPx-AO6D9",
         null,
         "AC/DC (LUCI)",
         null,
         null,
         null,
         "6060.0",
         "2013-12-01",
         "{'manufacturer_id': 12, 'name': 'Stern', 'full_name': 'Stern Pinball, Inc.', 'created_at': '2018-03-11', 'updated_at': '2018-03-11'}",
         null,
         null,
         null,
         "[]",
         "[]",
         null,
         "2018-03-14",
         "2018-03-14",
         "[{'title': None, 'primary': True, 'type': 'backglass', 'urls': {'medium': 'https://img.opdb.org/0bc302e9-5cad-4c5c-aaf6-698d18b61f07-medium.jpg', 'large': 'https://img.opdb.org/0bc302e9-5cad-4c5c-aaf6-698d18b61f07-large.jpg', 'small': 'https://img.opdb.org/0bc302e9-5cad-4c5c-aaf6-698d18b61f07-small.jpg'}, 'sizes': {'medium': {'width': 550, 'height': 406}, 'large': {'width': 550, 'height': 406}, 'small': {'width': 250, 'height': 185}}}]",
         "True"
        ],
        [
         "2113",
         "G43W4-MrRpw-AOPQR",
         null,
         "AC/DC (Let There Be Rock LE)",
         null,
         null,
         null,
         "5776.0",
         "2012-01-01",
         "{'manufacturer_id': 12, 'name': 'Stern', 'full_name': 'Stern Pinball, Inc.', 'created_at': '2018-03-11', 'updated_at': '2018-03-11'}",
         null,
         null,
         null,
         "[]",
         "[]",
         null,
         "2018-03-14",
         "2018-03-14",
         "[{'title': None, 'primary': True, 'type': 'backglass', 'urls': {'medium': 'https://img.opdb.org/44adc050-d856-407a-afa0-ad295116b4c9-medium.jpg', 'large': 'https://img.opdb.org/44adc050-d856-407a-afa0-ad295116b4c9-large.jpg', 'small': 'https://img.opdb.org/44adc050-d856-407a-afa0-ad295116b4c9-small.jpg'}, 'sizes': {'medium': {'width': 640, 'height': 480}, 'large': {'width': 1200, 'height': 900}, 'small': {'width': 250, 'height': 188}}}]",
         "True"
        ],
        [
         "1797",
         "G43W4-MdEjy",
         "True",
         "AC/DC (Premium Vault Edition)",
         null,
         "ACDC",
         "1.0",
         "6440.0",
         "2017-07-01",
         "{'manufacturer_id': 12, 'name': 'Stern', 'full_name': 'Stern Pinball, Inc.', 'created_at': '2018-03-11', 'updated_at': '2018-03-11'}",
         "ss",
         "dmd",
         "4.0",
         "['Premium edition', 'Vault edition']",
         "['music']",
         "",
         "2018-03-14",
         "2018-03-15",
         "[{'title': None, 'primary': True, 'type': 'backglass', 'urls': {'medium': 'https://img.opdb.org/9c766319-01c3-47fe-950e-6f87b044724a-medium.jpg', 'large': 'https://img.opdb.org/9c766319-01c3-47fe-950e-6f87b044724a-large.jpg', 'small': 'https://img.opdb.org/9c766319-01c3-47fe-950e-6f87b044724a-small.jpg'}, 'sizes': {'medium': {'width': 640, 'height': 471}, 'large': {'width': 763, 'height': 561}, 'small': {'width': 250, 'height': 184}}}]",
         null
        ],
        [
         "1508",
         "G43W4-MXrPx",
         "True",
         "AC/DC (Premium)",
         null,
         "ACDC",
         "1.0",
         "5775.0",
         "2012-03-01",
         "{'manufacturer_id': 12, 'name': 'Stern', 'full_name': 'Stern Pinball, Inc.', 'created_at': '2018-03-11', 'updated_at': '2018-03-11'}",
         "ss",
         "dmd",
         "4.0",
         "['Premium edition']",
         "['music']",
         "",
         "2018-03-11",
         "2018-03-14",
         "[{'title': 'Backglass', 'primary': True, 'type': 'backglass', 'urls': {'medium': 'https://img.opdb.org/a8235b87-decf-44e7-92fb-bb6899329edb-medium.jpg', 'large': 'https://img.opdb.org/a8235b87-decf-44e7-92fb-bb6899329edb-large.jpg', 'small': 'https://img.opdb.org/a8235b87-decf-44e7-92fb-bb6899329edb-small.jpg'}, 'sizes': {'medium': {'width': 550, 'height': 406}, 'large': {'width': 550, 'height': 406}, 'small': {'width': 250, 'height': 185}}}]",
         null
        ],
        [
         "2117",
         "G43W4-MKNW0-AOENR",
         null,
         "AC/DC (Pro LED)",
         null,
         null,
         null,
         "6441.0",
         "2014-01-01",
         "{'manufacturer_id': 12, 'name': 'Stern', 'full_name': 'Stern Pinball, Inc.', 'created_at': '2018-03-11', 'updated_at': '2018-03-11'}",
         null,
         null,
         null,
         "[]",
         "[]",
         null,
         "2018-03-14",
         "2018-03-14",
         "[]",
         "True"
        ],
        [
         "1798",
         "G43W4-MKNX0",
         "True",
         "AC/DC (Pro Vault Edition)",
         null,
         "ACDC",
         "1.0",
         "6439.0",
         "2017-05-01",
         "{'manufacturer_id': 12, 'name': 'Stern', 'full_name': 'Stern Pinball, Inc.', 'created_at': '2018-03-11', 'updated_at': '2018-03-11'}",
         "ss",
         "dmd",
         "4.0",
         "['Pro edition', 'Vault edition']",
         "['music']",
         "",
         "2018-03-14",
         "2018-03-14",
         "[{'title': None, 'primary': False, 'type': 'backglass', 'urls': {'medium': 'https://img.opdb.org/939d5482-829d-47d2-8417-814d7e3799cf-medium.jpg', 'large': 'https://img.opdb.org/939d5482-829d-47d2-8417-814d7e3799cf-large.jpg', 'small': 'https://img.opdb.org/939d5482-829d-47d2-8417-814d7e3799cf-small.jpg'}, 'sizes': {'medium': {'width': 543, 'height': 640}, 'large': {'width': 1200, 'height': 1416}, 'small': {'width': 212, 'height': 250}}}, {'title': None, 'primary': True, 'type': 'playfield', 'urls': {'medium': 'https://img.opdb.org/6252f4f3-766e-4795-9df9-fe69d2012ce5-medium.jpg', 'large': 'https://img.opdb.org/6252f4f3-766e-4795-9df9-fe69d2012ce5-large.jpg', 'small': 'https://img.opdb.org/6252f4f3-766e-4795-9df9-fe69d2012ce5-small.jpg'}, 'sizes': {'medium': {'width': 369, 'height': 640}, 'large': {'width': 864, 'height': 1500}, 'small': {'width': 144, 'height': 250}}}, {'title': None, 'primary': True, 'type': 'backglass', 'urls': {'medium': 'https://img.opdb.org/2b7b1d83-5a8e-44a7-a39a-88c8ca75c34e-medium.jpg', 'large': 'https://img.opdb.org/2b7b1d83-5a8e-44a7-a39a-88c8ca75c34e-large.jpg', 'small': 'https://img.opdb.org/2b7b1d83-5a8e-44a7-a39a-88c8ca75c34e-small.jpg'}, 'sizes': {'medium': {'width': 550, 'height': 383}, 'large': {'width': 550, 'height': 383}, 'small': {'width': 250, 'height': 174}}}]",
         null
        ],
        [
         "1779",
         "G43W4-MKNW0",
         "True",
         "AC/DC (Pro)",
         null,
         "ACDC",
         "1.0",
         "5767.0",
         "2012-01-01",
         "{'manufacturer_id': 12, 'name': 'Stern', 'full_name': 'Stern Pinball, Inc.', 'created_at': '2018-03-11', 'updated_at': '2018-03-11'}",
         "ss",
         "dmd",
         "4.0",
         "['Pro edition']",
         "['music']",
         "",
         "2018-03-11",
         "2018-03-14",
         "[{'title': 'Backglass', 'primary': True, 'type': 'backglass', 'urls': {'medium': 'https://img.opdb.org/a780bf71-4b06-4fef-9faa-f6d15958d998-medium.jpg', 'large': 'https://img.opdb.org/a780bf71-4b06-4fef-9faa-f6d15958d998-large.jpg', 'small': 'https://img.opdb.org/a780bf71-4b06-4fef-9faa-f6d15958d998-small.jpg'}, 'sizes': {'medium': {'width': 550, 'height': 383}, 'large': {'width': 550, 'height': 383}, 'small': {'width': 250, 'height': 174}}}]",
         null
        ],
        [
         "1487",
         "GRpZ2-MkPyb",
         "True",
         "Abra Ca Dabra",
         null,
         "",
         "1.0",
         "2.0",
         "1975-11-01",
         "{'manufacturer_id': 2, 'name': 'Gottlieb', 'full_name': 'D. Gottlieb & Co.', 'created_at': '2018-03-11', 'updated_at': '2018-03-11'}",
         "em",
         "reels",
         "1.0",
         "['Replay']",
         "[]",
         "",
         "2018-03-11",
         "2018-03-20",
         "[{'title': 'Backglass', 'primary': True, 'type': 'backglass', 'urls': {'medium': 'https://img.opdb.org/506d3f58-9cdc-4444-af67-4fddf0b84a3d-medium.jpg', 'large': 'https://img.opdb.org/506d3f58-9cdc-4444-af67-4fddf0b84a3d-large.jpg', 'small': 'https://img.opdb.org/506d3f58-9cdc-4444-af67-4fddf0b84a3d-small.jpg'}, 'sizes': {'medium': {'width': 640, 'height': 480}, 'large': {'width': 800, 'height': 600}, 'small': {'width': 250, 'height': 188}}}]",
         null
        ],
        [
         "1740",
         "GrlJ3-M2YvO",
         "True",
         "Ace High",
         null,
         "",
         "1.0",
         "7.0",
         "1957-02-01",
         "{'manufacturer_id': 2, 'name': 'Gottlieb', 'full_name': 'D. Gottlieb & Co.', 'created_at': '2018-03-11', 'updated_at': '2018-03-11'}",
         "em",
         "lights",
         "1.0",
         "[]",
         "[]",
         null,
         "2018-03-11",
         "2018-05-13",
         "[{'title': 'Backglass', 'primary': True, 'type': 'backglass', 'urls': {'medium': 'https://img.opdb.org/fa7f6b56-2c30-4d11-95d0-efce9f256b3c-medium.jpg', 'large': 'https://img.opdb.org/fa7f6b56-2c30-4d11-95d0-efce9f256b3c-large.jpg', 'small': 'https://img.opdb.org/fa7f6b56-2c30-4d11-95d0-efce9f256b3c-small.jpg'}, 'sizes': {'medium': {'width': 450, 'height': 600}, 'large': {'width': 450, 'height': 600}, 'small': {'width': 188, 'height': 250}}}]",
         null
        ],
        [
         "1656",
         "G5oK2-M9R6y",
         "True",
         "Aces & Kings",
         null,
         "",
         "1.0",
         "11.0",
         "1970-06-01",
         "{'manufacturer_id': 7, 'name': 'Williams', 'full_name': 'Williams Electronic Games, Inc.', 'created_at': '2018-03-11', 'updated_at': '2018-03-11'}",
         "em",
         "reels",
         "4.0",
         "[]",
         "[]",
         "",
         "2018-03-11",
         "2018-05-08",
         "[{'title': 'Backglass', 'primary': True, 'type': 'backglass', 'urls': {'medium': 'https://img.opdb.org/b6907249-891f-4892-a5bf-cb2e5c2d1dfa-medium.jpg', 'large': 'https://img.opdb.org/b6907249-891f-4892-a5bf-cb2e5c2d1dfa-large.jpg', 'small': 'https://img.opdb.org/b6907249-891f-4892-a5bf-cb2e5c2d1dfa-small.jpg'}, 'sizes': {'medium': {'width': 640, 'height': 571}, 'large': {'width': 673, 'height': 600}, 'small': {'width': 250, 'height': 223}}}]",
         null
        ],
        [
         "692",
         "G56BE-MQYxZ",
         "True",
         "Aces High",
         null,
         "",
         "1.0",
         "9.0",
         "1965-08-01",
         "{'manufacturer_id': 8, 'name': 'Bally', 'full_name': 'Bally Manufacturing Co.', 'created_at': '2018-03-11', 'updated_at': '2018-03-11'}",
         "em",
         "reels",
         "1.0",
         "[]",
         "[]",
         null,
         "2018-03-11",
         "2018-05-11",
         "[{'title': 'Backglass', 'primary': True, 'type': 'backglass', 'urls': {'medium': 'https://img.opdb.org/d5f06559-0bc2-4105-accb-e66ec7fe25b4-medium.jpg', 'large': 'https://img.opdb.org/d5f06559-0bc2-4105-accb-e66ec7fe25b4-large.jpg', 'small': 'https://img.opdb.org/d5f06559-0bc2-4105-accb-e66ec7fe25b4-small.jpg'}, 'sizes': {'medium': {'width': 640, 'height': 554}, 'large': {'width': 674, 'height': 583}, 'small': {'width': 250, 'height': 216}}}]",
         null
        ],
        [
         "2140",
         "G56BE-MQYxZ-A1XBn",
         null,
         "Aces Top",
         null,
         null,
         null,
         "5236.0",
         "1965-08-01",
         "{'manufacturer_id': 8, 'name': 'Bally', 'full_name': 'Bally Manufacturing Co.', 'created_at': '2018-03-11', 'updated_at': '2018-03-11'}",
         null,
         null,
         null,
         "[]",
         "[]",
         null,
         "2018-05-11",
         "2018-05-11",
         "[{'title': 'Backglass', 'primary': True, 'type': 'backglass', 'urls': {'medium': 'https://img.opdb.org/f0f7781f-cf79-42a2-9036-6e5891a01334-medium.jpg', 'large': 'https://img.opdb.org/f0f7781f-cf79-42a2-9036-6e5891a01334-large.jpg', 'small': 'https://img.opdb.org/f0f7781f-cf79-42a2-9036-6e5891a01334-small.jpg'}, 'sizes': {'medium': {'width': 571, 'height': 480}, 'large': {'width': 571, 'height': 480}, 'small': {'width': 250, 'height': 210}}}]",
         "True"
        ],
        [
         "1613",
         "GrJQv-M2Yjq",
         "True",
         "Action",
         null,
         "",
         "1.0",
         "15.0",
         "1969-09-01",
         "{'manufacturer_id': 3, 'name': 'Chicago Coin', 'full_name': 'Chicago Coin Machine Mfg. Co.', 'created_at': '2018-03-11', 'updated_at': '2018-03-11'}",
         "em",
         "reels",
         "1.0",
         "[]",
         "[]",
         null,
         "2018-03-11",
         "2018-05-08",
         "[{'title': 'Backglass', 'primary': True, 'type': 'backglass', 'urls': {'medium': 'https://img.opdb.org/5d629cf5-4574-4645-b3cb-27151da77076-medium.jpg', 'large': 'https://img.opdb.org/5d629cf5-4574-4645-b3cb-27151da77076-large.jpg', 'small': 'https://img.opdb.org/5d629cf5-4574-4645-b3cb-27151da77076-small.jpg'}, 'sizes': {'medium': {'width': 640, 'height': 502}, 'large': {'width': 765, 'height': 600}, 'small': {'width': 250, 'height': 196}}}]",
         null
        ],
        [
         "2142",
         "G5zpL-ME02b-A9EYN",
         null,
         "Add-A-Ball",
         null,
         null,
         null,
         "4362.0",
         "1961-09-01",
         "{'manufacturer_id': 7, 'name': 'Williams', 'full_name': 'Williams Electronic Games, Inc.', 'created_at': '2018-03-11', 'updated_at': '2018-03-11'}",
         null,
         null,
         null,
         "[]",
         "[]",
         null,
         "2018-05-12",
         "2018-05-12",
         "[{'title': 'Backglass', 'primary': True, 'type': 'backglass', 'urls': {'medium': 'https://img.opdb.org/bcbaf4b5-4082-4442-a036-6a186cb29e9b-medium.jpg', 'large': 'https://img.opdb.org/bcbaf4b5-4082-4442-a036-6a186cb29e9b-large.jpg', 'small': 'https://img.opdb.org/bcbaf4b5-4082-4442-a036-6a186cb29e9b-small.jpg'}, 'sizes': {'medium': {'width': 293, 'height': 310}, 'large': {'width': 293, 'height': 310}, 'small': {'width': 236, 'height': 250}}}]",
         "True"
        ],
        [
         "31",
         "G5vnL-MJP3y",
         "True",
         "Adventures of Rocky and Bullwinkle and Friends",
         null,
         "R&B",
         "1.0",
         "23.0",
         "1993-02-01",
         "{'manufacturer_id': 10, 'name': 'Data East', 'full_name': 'Data East USA, Inc.', 'created_at': '2018-03-11', 'updated_at': '2018-03-11'}",
         "ss",
         "dmd",
         "4.0",
         "[]",
         "['tv']",
         null,
         "2018-03-11",
         "2018-03-18",
         "[{'title': 'Backglass', 'primary': True, 'type': 'backglass', 'urls': {'medium': 'https://img.opdb.org/ce067eb7-c089-4c6b-b8f3-a95dbfae0787-medium.jpg', 'large': 'https://img.opdb.org/ce067eb7-c089-4c6b-b8f3-a95dbfae0787-large.jpg', 'small': 'https://img.opdb.org/ce067eb7-c089-4c6b-b8f3-a95dbfae0787-small.jpg'}, 'sizes': {'medium': {'width': 640, 'height': 467}, 'large': {'width': 822, 'height': 600}, 'small': {'width': 250, 'height': 182}}}]",
         null
        ],
        [
         "1733",
         "G5WJw-MkP98",
         "True",
         "Aerobatics",
         null,
         "",
         "1.0",
         "24.0",
         "1977-02-01",
         "{'manufacturer_id': 11, 'name': 'Zaccaria', 'full_name': 'Zaccaria', 'created_at': '2018-03-11', 'updated_at': '2018-03-11'}",
         "em",
         "reels",
         "1.0",
         "[]",
         "[]",
         null,
         "2018-03-11",
         "2018-05-01",
         "[{'title': 'Backglass', 'primary': True, 'type': 'backglass', 'urls': {'medium': 'https://img.opdb.org/cc87e19b-d41b-4c20-8586-af5c92798698-medium.jpg', 'large': 'https://img.opdb.org/cc87e19b-d41b-4c20-8586-af5c92798698-large.jpg', 'small': 'https://img.opdb.org/cc87e19b-d41b-4c20-8586-af5c92798698-small.jpg'}, 'sizes': {'medium': {'width': 555, 'height': 640}, 'large': {'width': 832, 'height': 960}, 'small': {'width': 217, 'height': 250}}}]",
         null
        ],
        [
         "1804",
         "Gr16e-MnKEX",
         "True",
         "Aerosmith",
         null,
         "AS",
         "1.0",
         "6370.0",
         "2017-02-01",
         "{'manufacturer_id': 12, 'name': 'Stern', 'full_name': 'Stern Pinball, Inc.', 'created_at': '2018-03-11', 'updated_at': '2018-03-11'}",
         "ss",
         "lcd",
         "4.0",
         "['Pro edition']",
         "['music']",
         "",
         "2018-03-20",
         "2018-03-20",
         "[{'title': 'Backglass', 'primary': True, 'type': 'backglass', 'urls': {'medium': 'https://img.opdb.org/7b75fd25-db4a-4ac4-be7f-b12bd234a27d-medium.jpg', 'large': 'https://img.opdb.org/7b75fd25-db4a-4ac4-be7f-b12bd234a27d-large.jpg', 'small': 'https://img.opdb.org/7b75fd25-db4a-4ac4-be7f-b12bd234a27d-small.jpg'}, 'sizes': {'medium': {'width': 550, 'height': 355}, 'large': {'width': 550, 'height': 355}, 'small': {'width': 250, 'height': 161}}}]",
         null
        ]
       ],
       "shape": {
        "columns": 19,
        "rows": 2275
       }
      },
      "text/html": [
       "<div>\n",
       "<style scoped>\n",
       "    .dataframe tbody tr th:only-of-type {\n",
       "        vertical-align: middle;\n",
       "    }\n",
       "\n",
       "    .dataframe tbody tr th {\n",
       "        vertical-align: top;\n",
       "    }\n",
       "\n",
       "    .dataframe thead th {\n",
       "        text-align: right;\n",
       "    }\n",
       "</style>\n",
       "<table border=\"1\" class=\"dataframe\">\n",
       "  <thead>\n",
       "    <tr style=\"text-align: right;\">\n",
       "      <th></th>\n",
       "      <th>opdb_id</th>\n",
       "      <th>is_machine</th>\n",
       "      <th>name</th>\n",
       "      <th>common_name</th>\n",
       "      <th>shortname</th>\n",
       "      <th>physical_machine</th>\n",
       "      <th>ipdb_id</th>\n",
       "      <th>manufacture_date</th>\n",
       "      <th>manufacturer</th>\n",
       "      <th>type</th>\n",
       "      <th>display</th>\n",
       "      <th>player_count</th>\n",
       "      <th>features</th>\n",
       "      <th>keywords</th>\n",
       "      <th>description</th>\n",
       "      <th>created_at</th>\n",
       "      <th>updated_at</th>\n",
       "      <th>images</th>\n",
       "      <th>is_alias</th>\n",
       "    </tr>\n",
       "  </thead>\n",
       "  <tbody>\n",
       "    <tr>\n",
       "      <th>1468</th>\n",
       "      <td>G5W1w-MkPy7</td>\n",
       "      <td>True</td>\n",
       "      <td>\"300\"</td>\n",
       "      <td>None</td>\n",
       "      <td></td>\n",
       "      <td>1.0</td>\n",
       "      <td>2539.0</td>\n",
       "      <td>1975-08-01</td>\n",
       "      <td>{'manufacturer_id': 2, 'name': 'Gottlieb', 'fu...</td>\n",
       "      <td>em</td>\n",
       "      <td>reels</td>\n",
       "      <td>4.0</td>\n",
       "      <td>[]</td>\n",
       "      <td>[]</td>\n",
       "      <td>None</td>\n",
       "      <td>2018-03-11</td>\n",
       "      <td>2018-05-03</td>\n",
       "      <td>[{'title': 'Backglass', 'primary': True, 'type...</td>\n",
       "      <td>NaN</td>\n",
       "    </tr>\n",
       "    <tr>\n",
       "      <th>2021</th>\n",
       "      <td>GwexB-M7Zxq</td>\n",
       "      <td>True</td>\n",
       "      <td>10th Inning</td>\n",
       "      <td></td>\n",
       "      <td></td>\n",
       "      <td>1.0</td>\n",
       "      <td>3788.0</td>\n",
       "      <td>1948-01-01</td>\n",
       "      <td>{'manufacturer_id': 26, 'name': 'United', 'ful...</td>\n",
       "      <td>em</td>\n",
       "      <td>lights</td>\n",
       "      <td>1.0</td>\n",
       "      <td>[]</td>\n",
       "      <td>[]</td>\n",
       "      <td></td>\n",
       "      <td>2024-06-24</td>\n",
       "      <td>2024-06-24</td>\n",
       "      <td>[{'title': None, 'primary': True, 'type': 'bac...</td>\n",
       "      <td>NaN</td>\n",
       "    </tr>\n",
       "    <tr>\n",
       "      <th>1206</th>\n",
       "      <td>GrqL6-MLy7l</td>\n",
       "      <td>True</td>\n",
       "      <td>15 Pool</td>\n",
       "      <td>None</td>\n",
       "      <td></td>\n",
       "      <td>1.0</td>\n",
       "      <td>5197.0</td>\n",
       "      <td>1976-01-01</td>\n",
       "      <td>{'manufacturer_id': 66, 'name': 'Playmec Flipp...</td>\n",
       "      <td>em</td>\n",
       "      <td>reels</td>\n",
       "      <td>1.0</td>\n",
       "      <td>[Add-a-ball]</td>\n",
       "      <td>[]</td>\n",
       "      <td></td>\n",
       "      <td>2018-03-11</td>\n",
       "      <td>2018-05-03</td>\n",
       "      <td>[{'title': 'Backglass', 'primary': True, 'type...</td>\n",
       "      <td>NaN</td>\n",
       "    </tr>\n",
       "    <tr>\n",
       "      <th>967</th>\n",
       "      <td>GRBWj-MQKlO</td>\n",
       "      <td>True</td>\n",
       "      <td>2 in 1</td>\n",
       "      <td>None</td>\n",
       "      <td></td>\n",
       "      <td>1.0</td>\n",
       "      <td>2698.0</td>\n",
       "      <td>1964-07-01</td>\n",
       "      <td>{'manufacturer_id': 8, 'name': 'Bally', 'full_...</td>\n",
       "      <td>em</td>\n",
       "      <td>reels</td>\n",
       "      <td>2.0</td>\n",
       "      <td>[]</td>\n",
       "      <td>[]</td>\n",
       "      <td>None</td>\n",
       "      <td>2018-03-11</td>\n",
       "      <td>2018-05-12</td>\n",
       "      <td>[{'title': 'Backglass', 'primary': True, 'type...</td>\n",
       "      <td>NaN</td>\n",
       "    </tr>\n",
       "    <tr>\n",
       "      <th>1514</th>\n",
       "      <td>G48nw-M5RPZ</td>\n",
       "      <td>True</td>\n",
       "      <td>2001</td>\n",
       "      <td>None</td>\n",
       "      <td></td>\n",
       "      <td>1.0</td>\n",
       "      <td>2697.0</td>\n",
       "      <td>1971-02-01</td>\n",
       "      <td>{'manufacturer_id': 2, 'name': 'Gottlieb', 'fu...</td>\n",
       "      <td>em</td>\n",
       "      <td>reels</td>\n",
       "      <td>1.0</td>\n",
       "      <td>[Replay]</td>\n",
       "      <td>[]</td>\n",
       "      <td></td>\n",
       "      <td>2018-03-11</td>\n",
       "      <td>2018-05-08</td>\n",
       "      <td>[{'title': 'Backglass', 'primary': True, 'type...</td>\n",
       "      <td>NaN</td>\n",
       "    </tr>\n",
       "    <tr>\n",
       "      <th>...</th>\n",
       "      <td>...</td>\n",
       "      <td>...</td>\n",
       "      <td>...</td>\n",
       "      <td>...</td>\n",
       "      <td>...</td>\n",
       "      <td>...</td>\n",
       "      <td>...</td>\n",
       "      <td>...</td>\n",
       "      <td>...</td>\n",
       "      <td>...</td>\n",
       "      <td>...</td>\n",
       "      <td>...</td>\n",
       "      <td>...</td>\n",
       "      <td>...</td>\n",
       "      <td>...</td>\n",
       "      <td>...</td>\n",
       "      <td>...</td>\n",
       "      <td>...</td>\n",
       "      <td>...</td>\n",
       "    </tr>\n",
       "    <tr>\n",
       "      <th>1432</th>\n",
       "      <td>G5z71-MBRXz</td>\n",
       "      <td>True</td>\n",
       "      <td>Zankor</td>\n",
       "      <td>None</td>\n",
       "      <td></td>\n",
       "      <td>1.0</td>\n",
       "      <td>3531.0</td>\n",
       "      <td>1986-01-01</td>\n",
       "      <td>{'manufacturer_id': 11, 'name': 'Zaccaria', 'f...</td>\n",
       "      <td>ss</td>\n",
       "      <td>alphanumeric</td>\n",
       "      <td>4.0</td>\n",
       "      <td>[]</td>\n",
       "      <td>[]</td>\n",
       "      <td>None</td>\n",
       "      <td>2018-03-11</td>\n",
       "      <td>2018-04-05</td>\n",
       "      <td>[{'title': 'Backglass', 'primary': True, 'type...</td>\n",
       "      <td>NaN</td>\n",
       "    </tr>\n",
       "    <tr>\n",
       "      <th>1204</th>\n",
       "      <td>GRoL9-MDEwn</td>\n",
       "      <td>True</td>\n",
       "      <td>Zig Zag</td>\n",
       "      <td>None</td>\n",
       "      <td></td>\n",
       "      <td>1.0</td>\n",
       "      <td>2834.0</td>\n",
       "      <td>1964-12-01</td>\n",
       "      <td>{'manufacturer_id': 7, 'name': 'Williams', 'fu...</td>\n",
       "      <td>em</td>\n",
       "      <td>reels</td>\n",
       "      <td>1.0</td>\n",
       "      <td>[Replay]</td>\n",
       "      <td>[]</td>\n",
       "      <td></td>\n",
       "      <td>2018-03-11</td>\n",
       "      <td>2018-05-12</td>\n",
       "      <td>[{'title': 'Backglass', 'primary': True, 'type...</td>\n",
       "      <td>NaN</td>\n",
       "    </tr>\n",
       "    <tr>\n",
       "      <th>1023</th>\n",
       "      <td>GrdKP-MLv2o</td>\n",
       "      <td>True</td>\n",
       "      <td>Zip-A-Doo</td>\n",
       "      <td>None</td>\n",
       "      <td></td>\n",
       "      <td>1.0</td>\n",
       "      <td>2840.0</td>\n",
       "      <td>1970-08-01</td>\n",
       "      <td>{'manufacturer_id': 8, 'name': 'Bally', 'full_...</td>\n",
       "      <td>em</td>\n",
       "      <td>reels</td>\n",
       "      <td>2.0</td>\n",
       "      <td>[]</td>\n",
       "      <td>[]</td>\n",
       "      <td>None</td>\n",
       "      <td>2018-03-11</td>\n",
       "      <td>2018-05-08</td>\n",
       "      <td>[{'title': 'Backglass', 'primary': True, 'type...</td>\n",
       "      <td>NaN</td>\n",
       "    </tr>\n",
       "    <tr>\n",
       "      <th>510</th>\n",
       "      <td>G4lDV-MJwkK</td>\n",
       "      <td>True</td>\n",
       "      <td>Zira</td>\n",
       "      <td>None</td>\n",
       "      <td></td>\n",
       "      <td>1.0</td>\n",
       "      <td>3584.0</td>\n",
       "      <td>1980-01-01</td>\n",
       "      <td>{'manufacturer_id': 5, 'name': 'Playmatic', 'f...</td>\n",
       "      <td>ss</td>\n",
       "      <td>alphanumeric</td>\n",
       "      <td>4.0</td>\n",
       "      <td>[Widebody]</td>\n",
       "      <td>[]</td>\n",
       "      <td></td>\n",
       "      <td>2018-03-11</td>\n",
       "      <td>2018-04-12</td>\n",
       "      <td>[{'title': 'Backglass', 'primary': True, 'type...</td>\n",
       "      <td>NaN</td>\n",
       "    </tr>\n",
       "    <tr>\n",
       "      <th>467</th>\n",
       "      <td>GRBBx-MDBEb</td>\n",
       "      <td>True</td>\n",
       "      <td>Zodiac</td>\n",
       "      <td>None</td>\n",
       "      <td></td>\n",
       "      <td>1.0</td>\n",
       "      <td>2841.0</td>\n",
       "      <td>1971-08-01</td>\n",
       "      <td>{'manufacturer_id': 7, 'name': 'Williams', 'fu...</td>\n",
       "      <td>em</td>\n",
       "      <td>reels</td>\n",
       "      <td>2.0</td>\n",
       "      <td>[Replay, Widebody]</td>\n",
       "      <td>[]</td>\n",
       "      <td></td>\n",
       "      <td>2018-03-11</td>\n",
       "      <td>2018-05-08</td>\n",
       "      <td>[{'title': 'Backglass', 'primary': True, 'type...</td>\n",
       "      <td>NaN</td>\n",
       "    </tr>\n",
       "  </tbody>\n",
       "</table>\n",
       "<p>2275 rows × 19 columns</p>\n",
       "</div>"
      ],
      "text/plain": [
       "          opdb_id is_machine         name common_name shortname  \\\n",
       "1468  G5W1w-MkPy7       True        \"300\"        None             \n",
       "2021  GwexB-M7Zxq       True  10th Inning                         \n",
       "1206  GrqL6-MLy7l       True      15 Pool        None             \n",
       "967   GRBWj-MQKlO       True       2 in 1        None             \n",
       "1514  G48nw-M5RPZ       True         2001        None             \n",
       "...           ...        ...          ...         ...       ...   \n",
       "1432  G5z71-MBRXz       True       Zankor        None             \n",
       "1204  GRoL9-MDEwn       True      Zig Zag        None             \n",
       "1023  GrdKP-MLv2o       True    Zip-A-Doo        None             \n",
       "510   G4lDV-MJwkK       True         Zira        None             \n",
       "467   GRBBx-MDBEb       True       Zodiac        None             \n",
       "\n",
       "      physical_machine  ipdb_id manufacture_date  \\\n",
       "1468               1.0   2539.0       1975-08-01   \n",
       "2021               1.0   3788.0       1948-01-01   \n",
       "1206               1.0   5197.0       1976-01-01   \n",
       "967                1.0   2698.0       1964-07-01   \n",
       "1514               1.0   2697.0       1971-02-01   \n",
       "...                ...      ...              ...   \n",
       "1432               1.0   3531.0       1986-01-01   \n",
       "1204               1.0   2834.0       1964-12-01   \n",
       "1023               1.0   2840.0       1970-08-01   \n",
       "510                1.0   3584.0       1980-01-01   \n",
       "467                1.0   2841.0       1971-08-01   \n",
       "\n",
       "                                           manufacturer type       display  \\\n",
       "1468  {'manufacturer_id': 2, 'name': 'Gottlieb', 'fu...   em         reels   \n",
       "2021  {'manufacturer_id': 26, 'name': 'United', 'ful...   em        lights   \n",
       "1206  {'manufacturer_id': 66, 'name': 'Playmec Flipp...   em         reels   \n",
       "967   {'manufacturer_id': 8, 'name': 'Bally', 'full_...   em         reels   \n",
       "1514  {'manufacturer_id': 2, 'name': 'Gottlieb', 'fu...   em         reels   \n",
       "...                                                 ...  ...           ...   \n",
       "1432  {'manufacturer_id': 11, 'name': 'Zaccaria', 'f...   ss  alphanumeric   \n",
       "1204  {'manufacturer_id': 7, 'name': 'Williams', 'fu...   em         reels   \n",
       "1023  {'manufacturer_id': 8, 'name': 'Bally', 'full_...   em         reels   \n",
       "510   {'manufacturer_id': 5, 'name': 'Playmatic', 'f...   ss  alphanumeric   \n",
       "467   {'manufacturer_id': 7, 'name': 'Williams', 'fu...   em         reels   \n",
       "\n",
       "      player_count            features keywords description  created_at  \\\n",
       "1468           4.0                  []       []        None  2018-03-11   \n",
       "2021           1.0                  []       []              2024-06-24   \n",
       "1206           1.0        [Add-a-ball]       []              2018-03-11   \n",
       "967            2.0                  []       []        None  2018-03-11   \n",
       "1514           1.0            [Replay]       []              2018-03-11   \n",
       "...            ...                 ...      ...         ...         ...   \n",
       "1432           4.0                  []       []        None  2018-03-11   \n",
       "1204           1.0            [Replay]       []              2018-03-11   \n",
       "1023           2.0                  []       []        None  2018-03-11   \n",
       "510            4.0          [Widebody]       []              2018-03-11   \n",
       "467            2.0  [Replay, Widebody]       []              2018-03-11   \n",
       "\n",
       "      updated_at                                             images is_alias  \n",
       "1468  2018-05-03  [{'title': 'Backglass', 'primary': True, 'type...      NaN  \n",
       "2021  2024-06-24  [{'title': None, 'primary': True, 'type': 'bac...      NaN  \n",
       "1206  2018-05-03  [{'title': 'Backglass', 'primary': True, 'type...      NaN  \n",
       "967   2018-05-12  [{'title': 'Backglass', 'primary': True, 'type...      NaN  \n",
       "1514  2018-05-08  [{'title': 'Backglass', 'primary': True, 'type...      NaN  \n",
       "...          ...                                                ...      ...  \n",
       "1432  2018-04-05  [{'title': 'Backglass', 'primary': True, 'type...      NaN  \n",
       "1204  2018-05-12  [{'title': 'Backglass', 'primary': True, 'type...      NaN  \n",
       "1023  2018-05-08  [{'title': 'Backglass', 'primary': True, 'type...      NaN  \n",
       "510   2018-04-12  [{'title': 'Backglass', 'primary': True, 'type...      NaN  \n",
       "467   2018-05-08  [{'title': 'Backglass', 'primary': True, 'type...      NaN  \n",
       "\n",
       "[2275 rows x 19 columns]"
      ]
     },
     "execution_count": 97,
     "metadata": {},
     "output_type": "execute_result"
    }
   ],
   "source": [
    "opdb.sort_values('name')"
   ]
  },
  {
   "cell_type": "code",
   "execution_count": 100,
   "id": "671c0ade",
   "metadata": {},
   "outputs": [],
   "source": [
    "opdb['manufacture_date_dt']=pd.to_datetime(opdb['manufacture_date'])"
   ]
  },
  {
   "cell_type": "code",
   "execution_count": 101,
   "id": "ac4951fd",
   "metadata": {},
   "outputs": [],
   "source": [
    "dates = opdb['manufacture_date_dt'].value_counts().reset_index()"
   ]
  },
  {
   "cell_type": "code",
   "execution_count": 103,
   "id": "d5ecc653",
   "metadata": {},
   "outputs": [],
   "source": [
    "import datetime"
   ]
  },
  {
   "cell_type": "code",
   "execution_count": 116,
   "id": "75c1456d",
   "metadata": {},
   "outputs": [],
   "source": [
    "import plotly.express as px\n",
    "import plotly.io as pio\n",
    "import plotly.graph_objects as go\n",
    "pio.templates.default = \"plotly_white\""
   ]
  },
  {
   "cell_type": "code",
   "execution_count": 125,
   "id": "fbf3783e",
   "metadata": {},
   "outputs": [],
   "source": [
    "opdb_filt = opdb[opdb['manufacture_date_dt'].dt.year != 1900]"
   ]
  },
  {
   "cell_type": "code",
   "execution_count": 127,
   "id": "0a962c24",
   "metadata": {},
   "outputs": [
    {
     "data": {
      "text/plain": [
       "(2272, 21)"
      ]
     },
     "execution_count": 127,
     "metadata": {},
     "output_type": "execute_result"
    }
   ],
   "source": [
    "opdb_filt.shape"
   ]
  },
  {
   "cell_type": "code",
   "execution_count": 128,
   "id": "96fdc7f2",
   "metadata": {},
   "outputs": [],
   "source": [
    "years=opdb_filt['manufacture_date_dt'].dt.year.value_counts().reset_index()"
   ]
  },
  {
   "cell_type": "code",
   "execution_count": 132,
   "id": "37fe65c5",
   "metadata": {},
   "outputs": [
    {
     "data": {
      "text/plain": [
       "2272"
      ]
     },
     "execution_count": 132,
     "metadata": {},
     "output_type": "execute_result"
    }
   ],
   "source": [
    "len(opdb_filt)"
   ]
  },
  {
   "cell_type": "code",
   "execution_count": 148,
   "id": "7a35af5d",
   "metadata": {},
   "outputs": [],
   "source": [
    "years = years.sort_values('manufacture_date_dt')"
   ]
  },
  {
   "cell_type": "code",
   "execution_count": 149,
   "id": "227f3453",
   "metadata": {},
   "outputs": [
    {
     "data": {
      "application/vnd.plotly.v1+json": {
       "config": {
        "plotlyServerURL": "https://plot.ly"
       },
       "data": [
        {
         "hovertemplate": "manufacture_date_dt=%{x}<br>count=%{y}<extra></extra>",
         "legendgroup": "",
         "line": {
          "color": "#636efa",
          "dash": "solid"
         },
         "marker": {
          "symbol": "circle"
         },
         "mode": "lines",
         "name": "",
         "orientation": "v",
         "showlegend": false,
         "type": "scatter",
         "x": {
          "bdata": "mwcAAJwHAACdBwAAngcAAJ8HAACgBwAAoQcAAKIHAACjBwAApAcAAKUHAACmBwAApwcAAKgHAACpBwAAqgcAAKsHAACsBwAArQcAAK4HAACvBwAAsAcAALEHAACyBwAAswcAALQHAAC1BwAAtgcAALcHAAC4BwAAuQcAALoHAAC7BwAAvAcAAL0HAAC+BwAAvwcAAMAHAADBBwAAwgcAAMMHAADEBwAAxQcAAMYHAADHBwAAyAcAAMkHAADKBwAAywcAAMwHAADNBwAAzgcAAM8HAADQBwAA0QcAANIHAADTBwAA1AcAANUHAADWBwAA1wcAANgHAADZBwAA2gcAANsHAADcBwAA3QcAAN4HAADfBwAA4AcAAOEHAADiBwAA4wcAAOQHAADlBwAA5gcAAOcHAADoBwAA6QcAAA==",
          "dtype": "i4"
         },
         "xaxis": "x",
         "y": {
          "bdata": "AkQyIhwdFxgYGRUXFRcaGR8lJyMjJigoLyIoOUZbXl9KPiEjHSAtMCoYFBQUFRIUFBEIBwUCBAQEAwMCBgQDCAgQEAwSERoaJRocGCQsGg==",
          "dtype": "i1"
         },
         "yaxis": "y"
        }
       ],
       "layout": {
        "legend": {
         "tracegroupgap": 0
        },
        "margin": {
         "t": 60
        },
        "template": {
         "data": {
          "bar": [
           {
            "error_x": {
             "color": "#2a3f5f"
            },
            "error_y": {
             "color": "#2a3f5f"
            },
            "marker": {
             "line": {
              "color": "white",
              "width": 0.5
             },
             "pattern": {
              "fillmode": "overlay",
              "size": 10,
              "solidity": 0.2
             }
            },
            "type": "bar"
           }
          ],
          "barpolar": [
           {
            "marker": {
             "line": {
              "color": "white",
              "width": 0.5
             },
             "pattern": {
              "fillmode": "overlay",
              "size": 10,
              "solidity": 0.2
             }
            },
            "type": "barpolar"
           }
          ],
          "carpet": [
           {
            "aaxis": {
             "endlinecolor": "#2a3f5f",
             "gridcolor": "#C8D4E3",
             "linecolor": "#C8D4E3",
             "minorgridcolor": "#C8D4E3",
             "startlinecolor": "#2a3f5f"
            },
            "baxis": {
             "endlinecolor": "#2a3f5f",
             "gridcolor": "#C8D4E3",
             "linecolor": "#C8D4E3",
             "minorgridcolor": "#C8D4E3",
             "startlinecolor": "#2a3f5f"
            },
            "type": "carpet"
           }
          ],
          "choropleth": [
           {
            "colorbar": {
             "outlinewidth": 0,
             "ticks": ""
            },
            "type": "choropleth"
           }
          ],
          "contour": [
           {
            "colorbar": {
             "outlinewidth": 0,
             "ticks": ""
            },
            "colorscale": [
             [
              0,
              "#0d0887"
             ],
             [
              0.1111111111111111,
              "#46039f"
             ],
             [
              0.2222222222222222,
              "#7201a8"
             ],
             [
              0.3333333333333333,
              "#9c179e"
             ],
             [
              0.4444444444444444,
              "#bd3786"
             ],
             [
              0.5555555555555556,
              "#d8576b"
             ],
             [
              0.6666666666666666,
              "#ed7953"
             ],
             [
              0.7777777777777778,
              "#fb9f3a"
             ],
             [
              0.8888888888888888,
              "#fdca26"
             ],
             [
              1,
              "#f0f921"
             ]
            ],
            "type": "contour"
           }
          ],
          "contourcarpet": [
           {
            "colorbar": {
             "outlinewidth": 0,
             "ticks": ""
            },
            "type": "contourcarpet"
           }
          ],
          "heatmap": [
           {
            "colorbar": {
             "outlinewidth": 0,
             "ticks": ""
            },
            "colorscale": [
             [
              0,
              "#0d0887"
             ],
             [
              0.1111111111111111,
              "#46039f"
             ],
             [
              0.2222222222222222,
              "#7201a8"
             ],
             [
              0.3333333333333333,
              "#9c179e"
             ],
             [
              0.4444444444444444,
              "#bd3786"
             ],
             [
              0.5555555555555556,
              "#d8576b"
             ],
             [
              0.6666666666666666,
              "#ed7953"
             ],
             [
              0.7777777777777778,
              "#fb9f3a"
             ],
             [
              0.8888888888888888,
              "#fdca26"
             ],
             [
              1,
              "#f0f921"
             ]
            ],
            "type": "heatmap"
           }
          ],
          "histogram": [
           {
            "marker": {
             "pattern": {
              "fillmode": "overlay",
              "size": 10,
              "solidity": 0.2
             }
            },
            "type": "histogram"
           }
          ],
          "histogram2d": [
           {
            "colorbar": {
             "outlinewidth": 0,
             "ticks": ""
            },
            "colorscale": [
             [
              0,
              "#0d0887"
             ],
             [
              0.1111111111111111,
              "#46039f"
             ],
             [
              0.2222222222222222,
              "#7201a8"
             ],
             [
              0.3333333333333333,
              "#9c179e"
             ],
             [
              0.4444444444444444,
              "#bd3786"
             ],
             [
              0.5555555555555556,
              "#d8576b"
             ],
             [
              0.6666666666666666,
              "#ed7953"
             ],
             [
              0.7777777777777778,
              "#fb9f3a"
             ],
             [
              0.8888888888888888,
              "#fdca26"
             ],
             [
              1,
              "#f0f921"
             ]
            ],
            "type": "histogram2d"
           }
          ],
          "histogram2dcontour": [
           {
            "colorbar": {
             "outlinewidth": 0,
             "ticks": ""
            },
            "colorscale": [
             [
              0,
              "#0d0887"
             ],
             [
              0.1111111111111111,
              "#46039f"
             ],
             [
              0.2222222222222222,
              "#7201a8"
             ],
             [
              0.3333333333333333,
              "#9c179e"
             ],
             [
              0.4444444444444444,
              "#bd3786"
             ],
             [
              0.5555555555555556,
              "#d8576b"
             ],
             [
              0.6666666666666666,
              "#ed7953"
             ],
             [
              0.7777777777777778,
              "#fb9f3a"
             ],
             [
              0.8888888888888888,
              "#fdca26"
             ],
             [
              1,
              "#f0f921"
             ]
            ],
            "type": "histogram2dcontour"
           }
          ],
          "mesh3d": [
           {
            "colorbar": {
             "outlinewidth": 0,
             "ticks": ""
            },
            "type": "mesh3d"
           }
          ],
          "parcoords": [
           {
            "line": {
             "colorbar": {
              "outlinewidth": 0,
              "ticks": ""
             }
            },
            "type": "parcoords"
           }
          ],
          "pie": [
           {
            "automargin": true,
            "type": "pie"
           }
          ],
          "scatter": [
           {
            "fillpattern": {
             "fillmode": "overlay",
             "size": 10,
             "solidity": 0.2
            },
            "type": "scatter"
           }
          ],
          "scatter3d": [
           {
            "line": {
             "colorbar": {
              "outlinewidth": 0,
              "ticks": ""
             }
            },
            "marker": {
             "colorbar": {
              "outlinewidth": 0,
              "ticks": ""
             }
            },
            "type": "scatter3d"
           }
          ],
          "scattercarpet": [
           {
            "marker": {
             "colorbar": {
              "outlinewidth": 0,
              "ticks": ""
             }
            },
            "type": "scattercarpet"
           }
          ],
          "scattergeo": [
           {
            "marker": {
             "colorbar": {
              "outlinewidth": 0,
              "ticks": ""
             }
            },
            "type": "scattergeo"
           }
          ],
          "scattergl": [
           {
            "marker": {
             "colorbar": {
              "outlinewidth": 0,
              "ticks": ""
             }
            },
            "type": "scattergl"
           }
          ],
          "scattermap": [
           {
            "marker": {
             "colorbar": {
              "outlinewidth": 0,
              "ticks": ""
             }
            },
            "type": "scattermap"
           }
          ],
          "scattermapbox": [
           {
            "marker": {
             "colorbar": {
              "outlinewidth": 0,
              "ticks": ""
             }
            },
            "type": "scattermapbox"
           }
          ],
          "scatterpolar": [
           {
            "marker": {
             "colorbar": {
              "outlinewidth": 0,
              "ticks": ""
             }
            },
            "type": "scatterpolar"
           }
          ],
          "scatterpolargl": [
           {
            "marker": {
             "colorbar": {
              "outlinewidth": 0,
              "ticks": ""
             }
            },
            "type": "scatterpolargl"
           }
          ],
          "scatterternary": [
           {
            "marker": {
             "colorbar": {
              "outlinewidth": 0,
              "ticks": ""
             }
            },
            "type": "scatterternary"
           }
          ],
          "surface": [
           {
            "colorbar": {
             "outlinewidth": 0,
             "ticks": ""
            },
            "colorscale": [
             [
              0,
              "#0d0887"
             ],
             [
              0.1111111111111111,
              "#46039f"
             ],
             [
              0.2222222222222222,
              "#7201a8"
             ],
             [
              0.3333333333333333,
              "#9c179e"
             ],
             [
              0.4444444444444444,
              "#bd3786"
             ],
             [
              0.5555555555555556,
              "#d8576b"
             ],
             [
              0.6666666666666666,
              "#ed7953"
             ],
             [
              0.7777777777777778,
              "#fb9f3a"
             ],
             [
              0.8888888888888888,
              "#fdca26"
             ],
             [
              1,
              "#f0f921"
             ]
            ],
            "type": "surface"
           }
          ],
          "table": [
           {
            "cells": {
             "fill": {
              "color": "#EBF0F8"
             },
             "line": {
              "color": "white"
             }
            },
            "header": {
             "fill": {
              "color": "#C8D4E3"
             },
             "line": {
              "color": "white"
             }
            },
            "type": "table"
           }
          ]
         },
         "layout": {
          "annotationdefaults": {
           "arrowcolor": "#2a3f5f",
           "arrowhead": 0,
           "arrowwidth": 1
          },
          "autotypenumbers": "strict",
          "coloraxis": {
           "colorbar": {
            "outlinewidth": 0,
            "ticks": ""
           }
          },
          "colorscale": {
           "diverging": [
            [
             0,
             "#8e0152"
            ],
            [
             0.1,
             "#c51b7d"
            ],
            [
             0.2,
             "#de77ae"
            ],
            [
             0.3,
             "#f1b6da"
            ],
            [
             0.4,
             "#fde0ef"
            ],
            [
             0.5,
             "#f7f7f7"
            ],
            [
             0.6,
             "#e6f5d0"
            ],
            [
             0.7,
             "#b8e186"
            ],
            [
             0.8,
             "#7fbc41"
            ],
            [
             0.9,
             "#4d9221"
            ],
            [
             1,
             "#276419"
            ]
           ],
           "sequential": [
            [
             0,
             "#0d0887"
            ],
            [
             0.1111111111111111,
             "#46039f"
            ],
            [
             0.2222222222222222,
             "#7201a8"
            ],
            [
             0.3333333333333333,
             "#9c179e"
            ],
            [
             0.4444444444444444,
             "#bd3786"
            ],
            [
             0.5555555555555556,
             "#d8576b"
            ],
            [
             0.6666666666666666,
             "#ed7953"
            ],
            [
             0.7777777777777778,
             "#fb9f3a"
            ],
            [
             0.8888888888888888,
             "#fdca26"
            ],
            [
             1,
             "#f0f921"
            ]
           ],
           "sequentialminus": [
            [
             0,
             "#0d0887"
            ],
            [
             0.1111111111111111,
             "#46039f"
            ],
            [
             0.2222222222222222,
             "#7201a8"
            ],
            [
             0.3333333333333333,
             "#9c179e"
            ],
            [
             0.4444444444444444,
             "#bd3786"
            ],
            [
             0.5555555555555556,
             "#d8576b"
            ],
            [
             0.6666666666666666,
             "#ed7953"
            ],
            [
             0.7777777777777778,
             "#fb9f3a"
            ],
            [
             0.8888888888888888,
             "#fdca26"
            ],
            [
             1,
             "#f0f921"
            ]
           ]
          },
          "colorway": [
           "#636efa",
           "#EF553B",
           "#00cc96",
           "#ab63fa",
           "#FFA15A",
           "#19d3f3",
           "#FF6692",
           "#B6E880",
           "#FF97FF",
           "#FECB52"
          ],
          "font": {
           "color": "#2a3f5f"
          },
          "geo": {
           "bgcolor": "white",
           "lakecolor": "white",
           "landcolor": "white",
           "showlakes": true,
           "showland": true,
           "subunitcolor": "#C8D4E3"
          },
          "hoverlabel": {
           "align": "left"
          },
          "hovermode": "closest",
          "mapbox": {
           "style": "light"
          },
          "paper_bgcolor": "white",
          "plot_bgcolor": "white",
          "polar": {
           "angularaxis": {
            "gridcolor": "#EBF0F8",
            "linecolor": "#EBF0F8",
            "ticks": ""
           },
           "bgcolor": "white",
           "radialaxis": {
            "gridcolor": "#EBF0F8",
            "linecolor": "#EBF0F8",
            "ticks": ""
           }
          },
          "scene": {
           "xaxis": {
            "backgroundcolor": "white",
            "gridcolor": "#DFE8F3",
            "gridwidth": 2,
            "linecolor": "#EBF0F8",
            "showbackground": true,
            "ticks": "",
            "zerolinecolor": "#EBF0F8"
           },
           "yaxis": {
            "backgroundcolor": "white",
            "gridcolor": "#DFE8F3",
            "gridwidth": 2,
            "linecolor": "#EBF0F8",
            "showbackground": true,
            "ticks": "",
            "zerolinecolor": "#EBF0F8"
           },
           "zaxis": {
            "backgroundcolor": "white",
            "gridcolor": "#DFE8F3",
            "gridwidth": 2,
            "linecolor": "#EBF0F8",
            "showbackground": true,
            "ticks": "",
            "zerolinecolor": "#EBF0F8"
           }
          },
          "shapedefaults": {
           "line": {
            "color": "#2a3f5f"
           }
          },
          "ternary": {
           "aaxis": {
            "gridcolor": "#DFE8F3",
            "linecolor": "#A2B1C6",
            "ticks": ""
           },
           "baxis": {
            "gridcolor": "#DFE8F3",
            "linecolor": "#A2B1C6",
            "ticks": ""
           },
           "bgcolor": "white",
           "caxis": {
            "gridcolor": "#DFE8F3",
            "linecolor": "#A2B1C6",
            "ticks": ""
           }
          },
          "title": {
           "x": 0.05
          },
          "xaxis": {
           "automargin": true,
           "gridcolor": "#EBF0F8",
           "linecolor": "#EBF0F8",
           "ticks": "",
           "title": {
            "standoff": 15
           },
           "zerolinecolor": "#EBF0F8",
           "zerolinewidth": 2
          },
          "yaxis": {
           "automargin": true,
           "gridcolor": "#EBF0F8",
           "linecolor": "#EBF0F8",
           "ticks": "",
           "title": {
            "standoff": 15
           },
           "zerolinecolor": "#EBF0F8",
           "zerolinewidth": 2
          }
         }
        },
        "xaxis": {
         "anchor": "y",
         "domain": [
          0,
          1
         ],
         "title": {
          "text": "manufacture_date_dt"
         }
        },
        "yaxis": {
         "anchor": "x",
         "domain": [
          0,
          1
         ],
         "title": {
          "text": "count"
         }
        }
       }
      }
     },
     "metadata": {},
     "output_type": "display_data"
    }
   ],
   "source": [
    "fig = px.line(years, x='manufacture_date_dt', y = 'count')\n",
    "\n",
    "fig.show()"
   ]
  },
  {
   "cell_type": "code",
   "execution_count": 174,
   "id": "34bf87b8",
   "metadata": {},
   "outputs": [
    {
     "data": {
      "application/vnd.microsoft.datawrangler.viewer.v0+json": {
       "columns": [
        {
         "name": "index",
         "rawType": "int64",
         "type": "integer"
        },
        {
         "name": "manufacturer",
         "rawType": "object",
         "type": "string"
        }
       ],
       "ref": "9fd89dba-9245-470d-ba5e-da2e6fee6a30",
       "rows": [
        [
         "0",
         "manufacturer_id"
        ],
        [
         "0",
         "name"
        ],
        [
         "0",
         "full_name"
        ],
        [
         "0",
         "created_at"
        ],
        [
         "0",
         "updated_at"
        ],
        [
         "1",
         "manufacturer_id"
        ],
        [
         "1",
         "name"
        ],
        [
         "1",
         "full_name"
        ],
        [
         "1",
         "created_at"
        ],
        [
         "1",
         "updated_at"
        ],
        [
         "2",
         "manufacturer_id"
        ],
        [
         "2",
         "name"
        ],
        [
         "2",
         "full_name"
        ],
        [
         "2",
         "created_at"
        ],
        [
         "2",
         "updated_at"
        ],
        [
         "3",
         "manufacturer_id"
        ],
        [
         "3",
         "name"
        ],
        [
         "3",
         "full_name"
        ],
        [
         "3",
         "created_at"
        ],
        [
         "3",
         "updated_at"
        ],
        [
         "4",
         "manufacturer_id"
        ],
        [
         "4",
         "name"
        ],
        [
         "4",
         "full_name"
        ],
        [
         "4",
         "created_at"
        ],
        [
         "4",
         "updated_at"
        ],
        [
         "5",
         "manufacturer_id"
        ],
        [
         "5",
         "name"
        ],
        [
         "5",
         "full_name"
        ],
        [
         "5",
         "created_at"
        ],
        [
         "5",
         "updated_at"
        ],
        [
         "6",
         "manufacturer_id"
        ],
        [
         "6",
         "name"
        ],
        [
         "6",
         "full_name"
        ],
        [
         "6",
         "created_at"
        ],
        [
         "6",
         "updated_at"
        ],
        [
         "7",
         "manufacturer_id"
        ],
        [
         "7",
         "name"
        ],
        [
         "7",
         "full_name"
        ],
        [
         "7",
         "created_at"
        ],
        [
         "7",
         "updated_at"
        ],
        [
         "8",
         "manufacturer_id"
        ],
        [
         "8",
         "name"
        ],
        [
         "8",
         "full_name"
        ],
        [
         "8",
         "created_at"
        ],
        [
         "8",
         "updated_at"
        ],
        [
         "9",
         "manufacturer_id"
        ],
        [
         "9",
         "name"
        ],
        [
         "9",
         "full_name"
        ],
        [
         "9",
         "created_at"
        ],
        [
         "9",
         "updated_at"
        ]
       ],
       "shape": {
        "columns": 1,
        "rows": 11360
       }
      },
      "text/plain": [
       "0       manufacturer_id\n",
       "0                  name\n",
       "0             full_name\n",
       "0            created_at\n",
       "0            updated_at\n",
       "             ...       \n",
       "2274    manufacturer_id\n",
       "2274               name\n",
       "2274          full_name\n",
       "2274         created_at\n",
       "2274         updated_at\n",
       "Name: manufacturer, Length: 11360, dtype: object"
      ]
     },
     "execution_count": 174,
     "metadata": {},
     "output_type": "execute_result"
    }
   ],
   "source": [
    "opdb_filt['manufacturer'].explode()"
   ]
  },
  {
   "cell_type": "code",
   "execution_count": 184,
   "id": "bcba3055",
   "metadata": {},
   "outputs": [
    {
     "name": "stderr",
     "output_type": "stream",
     "text": [
      "C:\\Users\\nmuff\\AppData\\Local\\Temp\\ipykernel_4556\\4064344750.py:8: SettingWithCopyWarning:\n",
      "\n",
      "\n",
      "A value is trying to be set on a copy of a slice from a DataFrame.\n",
      "Try using .loc[row_indexer,col_indexer] = value instead\n",
      "\n",
      "See the caveats in the documentation: https://pandas.pydata.org/pandas-docs/stable/user_guide/indexing.html#returning-a-view-versus-a-copy\n",
      "\n"
     ]
    }
   ],
   "source": [
    "def get_manufacturer(row):\n",
    "    name = row['manufacturer']['name']\n",
    "    return name\n",
    "\n",
    "\n",
    "get_manufacturer(opdb_filt.iloc[0])\n",
    "\n",
    "opdb_filt['manufacturer_name']=opdb_filt.apply(get_manufacturer, axis=1)"
   ]
  },
  {
   "cell_type": "code",
   "execution_count": 186,
   "id": "cd449e77",
   "metadata": {},
   "outputs": [
    {
     "name": "stderr",
     "output_type": "stream",
     "text": [
      "C:\\Users\\nmuff\\AppData\\Local\\Temp\\ipykernel_4556\\899971103.py:1: SettingWithCopyWarning:\n",
      "\n",
      "\n",
      "A value is trying to be set on a copy of a slice from a DataFrame.\n",
      "Try using .loc[row_indexer,col_indexer] = value instead\n",
      "\n",
      "See the caveats in the documentation: https://pandas.pydata.org/pandas-docs/stable/user_guide/indexing.html#returning-a-view-versus-a-copy\n",
      "\n"
     ]
    }
   ],
   "source": [
    "opdb_filt['year']= opdb_filt['manufacture_date_dt'].dt.year"
   ]
  },
  {
   "cell_type": "code",
   "execution_count": 198,
   "id": "949562f5",
   "metadata": {},
   "outputs": [
    {
     "data": {
      "application/vnd.microsoft.datawrangler.viewer.v0+json": {
       "columns": [
        {
         "name": "index",
         "rawType": "int64",
         "type": "integer"
        },
        {
         "name": "year",
         "rawType": "int32",
         "type": "integer"
        },
        {
         "name": "manufacturer_name",
         "rawType": "object",
         "type": "string"
        }
       ],
       "ref": "06b11891-5dbf-432f-858e-061d3c995e01",
       "rows": [
        [
         "0",
         "1971",
         "Gottlieb"
        ],
        [
         "1",
         "1969",
         "Chicago Coin"
        ],
        [
         "2",
         "1986",
         "Cic Play"
        ],
        [
         "3",
         "1974",
         "Gottlieb"
        ],
        [
         "4",
         "1977",
         "Playmatic"
        ]
       ],
       "shape": {
        "columns": 2,
        "rows": 5
       }
      },
      "text/html": [
       "<div>\n",
       "<style scoped>\n",
       "    .dataframe tbody tr th:only-of-type {\n",
       "        vertical-align: middle;\n",
       "    }\n",
       "\n",
       "    .dataframe tbody tr th {\n",
       "        vertical-align: top;\n",
       "    }\n",
       "\n",
       "    .dataframe thead th {\n",
       "        text-align: right;\n",
       "    }\n",
       "</style>\n",
       "<table border=\"1\" class=\"dataframe\">\n",
       "  <thead>\n",
       "    <tr style=\"text-align: right;\">\n",
       "      <th></th>\n",
       "      <th>year</th>\n",
       "      <th>manufacturer_name</th>\n",
       "    </tr>\n",
       "  </thead>\n",
       "  <tbody>\n",
       "    <tr>\n",
       "      <th>0</th>\n",
       "      <td>1971</td>\n",
       "      <td>Gottlieb</td>\n",
       "    </tr>\n",
       "    <tr>\n",
       "      <th>1</th>\n",
       "      <td>1969</td>\n",
       "      <td>Chicago Coin</td>\n",
       "    </tr>\n",
       "    <tr>\n",
       "      <th>2</th>\n",
       "      <td>1986</td>\n",
       "      <td>Cic Play</td>\n",
       "    </tr>\n",
       "    <tr>\n",
       "      <th>3</th>\n",
       "      <td>1974</td>\n",
       "      <td>Gottlieb</td>\n",
       "    </tr>\n",
       "    <tr>\n",
       "      <th>4</th>\n",
       "      <td>1977</td>\n",
       "      <td>Playmatic</td>\n",
       "    </tr>\n",
       "  </tbody>\n",
       "</table>\n",
       "</div>"
      ],
      "text/plain": [
       "   year manufacturer_name\n",
       "0  1971          Gottlieb\n",
       "1  1969      Chicago Coin\n",
       "2  1986          Cic Play\n",
       "3  1974          Gottlieb\n",
       "4  1977         Playmatic"
      ]
     },
     "execution_count": 198,
     "metadata": {},
     "output_type": "execute_result"
    }
   ],
   "source": [
    "opdb_filt[['year','manufacturer_name']].head()"
   ]
  },
  {
   "cell_type": "code",
   "execution_count": 206,
   "id": "a27370bf",
   "metadata": {},
   "outputs": [
    {
     "data": {
      "application/vnd.microsoft.datawrangler.viewer.v0+json": {
       "columns": [
        {
         "name": "index",
         "rawType": "int64",
         "type": "integer"
        },
        {
         "name": "opdb_id",
         "rawType": "object",
         "type": "string"
        },
        {
         "name": "is_machine",
         "rawType": "object",
         "type": "unknown"
        },
        {
         "name": "name",
         "rawType": "object",
         "type": "string"
        },
        {
         "name": "common_name",
         "rawType": "object",
         "type": "unknown"
        },
        {
         "name": "shortname",
         "rawType": "object",
         "type": "unknown"
        },
        {
         "name": "physical_machine",
         "rawType": "float64",
         "type": "float"
        },
        {
         "name": "ipdb_id",
         "rawType": "float64",
         "type": "float"
        },
        {
         "name": "manufacture_date",
         "rawType": "object",
         "type": "string"
        },
        {
         "name": "manufacturer",
         "rawType": "object",
         "type": "unknown"
        },
        {
         "name": "type",
         "rawType": "object",
         "type": "unknown"
        },
        {
         "name": "display",
         "rawType": "object",
         "type": "unknown"
        },
        {
         "name": "player_count",
         "rawType": "float64",
         "type": "float"
        },
        {
         "name": "features",
         "rawType": "object",
         "type": "unknown"
        },
        {
         "name": "keywords",
         "rawType": "object",
         "type": "unknown"
        },
        {
         "name": "description",
         "rawType": "object",
         "type": "unknown"
        },
        {
         "name": "created_at",
         "rawType": "object",
         "type": "string"
        },
        {
         "name": "updated_at",
         "rawType": "object",
         "type": "string"
        },
        {
         "name": "images",
         "rawType": "object",
         "type": "unknown"
        },
        {
         "name": "is_alias",
         "rawType": "object",
         "type": "unknown"
        },
        {
         "name": "manufacture_date_df",
         "rawType": "datetime64[ns]",
         "type": "datetime"
        },
        {
         "name": "manufacture_date_dt",
         "rawType": "datetime64[ns]",
         "type": "datetime"
        },
        {
         "name": "manufacturer_name",
         "rawType": "object",
         "type": "string"
        },
        {
         "name": "year",
         "rawType": "int32",
         "type": "integer"
        }
       ],
       "ref": "186c400b-7c12-48a1-a23f-fd1d73f4c2bb",
       "rows": [
        [
         "1876",
         "GyVVQ-MVKYX",
         "True",
         "Humpty Dumpty",
         "",
         "HD",
         "1.0",
         "1254.0",
         "1947-10-25",
         "{'manufacturer_id': 2, 'name': 'Gottlieb', 'full_name': 'D. Gottlieb & Co.', 'created_at': '2018-03-11', 'updated_at': '2018-03-11'}",
         "me",
         "lights",
         "1.0",
         "[]",
         "[]",
         "",
         "2020-12-08",
         "2022-01-26",
         "[{'title': None, 'primary': True, 'type': 'backglass', 'urls': {'medium': 'https://img.opdb.org/10d84ec9-ea65-4b63-be92-2ff288d8e090-medium.jpg', 'large': 'https://img.opdb.org/10d84ec9-ea65-4b63-be92-2ff288d8e090-large.jpg', 'small': 'https://img.opdb.org/10d84ec9-ea65-4b63-be92-2ff288d8e090-small.jpg'}, 'sizes': {'medium': {'width': 640, 'height': 629}, 'large': {'width': 1500, 'height': 1473}, 'small': {'width': 250, 'height': 246}}}]",
         null,
         "1947-10-25 00:00:00",
         "1947-10-25 00:00:00",
         "Gottlieb",
         "1947"
        ],
        [
         "1878",
         "GV88w-Mp4Bl",
         "True",
         "Cover Girl",
         "",
         "",
         "1.0",
         "579.0",
         "1947-12-01",
         "{'manufacturer_id': 46, 'name': 'Keeney', 'full_name': 'Keeney and Sons', 'created_at': '2018-03-11', 'updated_at': '2018-03-11'}",
         "me",
         "lights",
         "1.0",
         "[]",
         "[]",
         "",
         "2020-12-09",
         "2024-07-12",
         "[{'title': None, 'primary': True, 'type': 'backglass', 'urls': {'medium': 'https://img.opdb.org/bf7bcbc3-5236-44f9-a6db-c42d8721811f-medium.jpg', 'large': 'https://img.opdb.org/bf7bcbc3-5236-44f9-a6db-c42d8721811f-large.jpg', 'small': 'https://img.opdb.org/bf7bcbc3-5236-44f9-a6db-c42d8721811f-small.jpg'}, 'sizes': {'medium': {'width': 640, 'height': 544}, 'large': {'width': 1500, 'height': 1276}, 'small': {'width': 250, 'height': 213}}}]",
         null,
         "1947-12-01 00:00:00",
         "1947-12-01 00:00:00",
         "Keeney",
         "1947"
        ],
        [
         "2242",
         "GRVL2-MLl9Y-A1Zx2",
         null,
         "Coney Island",
         "",
         "",
         null,
         "3880.0",
         "1948-01-01",
         "{'manufacturer_id': 146, 'name': 'Block Marble Company', 'full_name': 'Block Marble Company', 'created_at': '2024-06-25', 'updated_at': '2024-06-25'}",
         null,
         null,
         null,
         "['Conversion kit']",
         "[]",
         null,
         "2024-06-25",
         "2024-06-25",
         "[]",
         "True",
         "1948-01-01 00:00:00",
         "1948-01-01 00:00:00",
         "Block Marble Company",
         "1948"
        ],
        [
         "37",
         "GRVL2-MLl9Y",
         "True",
         "Lady Robin Hood",
         null,
         "",
         "1.0",
         "1406.0",
         "1948-01-31",
         "{'manufacturer_id': 2, 'name': 'Gottlieb', 'full_name': 'D. Gottlieb & Co.', 'created_at': '2018-03-11', 'updated_at': '2018-03-11'}",
         "em",
         "lights",
         "1.0",
         "[]",
         "[]",
         null,
         "2018-03-11",
         "2018-03-31",
         "[{'title': 'Backglass', 'primary': True, 'type': 'backglass', 'urls': {'medium': 'https://img.opdb.org/8f14bd40-40f8-4d30-8523-374a4b0ac328-medium.jpg', 'large': 'https://img.opdb.org/8f14bd40-40f8-4d30-8523-374a4b0ac328-large.jpg', 'small': 'https://img.opdb.org/8f14bd40-40f8-4d30-8523-374a4b0ac328-small.jpg'}, 'sizes': {'medium': {'width': 640, 'height': 630}, 'large': {'width': 802, 'height': 790}, 'small': {'width': 250, 'height': 246}}}]",
         null,
         "1948-01-31 00:00:00",
         "1948-01-31 00:00:00",
         "Gottlieb",
         "1948"
        ],
        [
         "2019",
         "G8ljD-Mz2oP",
         "True",
         "Trinidad",
         "",
         "",
         "1.0",
         "2646.0",
         "1948-03-26",
         "{'manufacturer_id': 3, 'name': 'Chicago Coin', 'full_name': 'Chicago Coin Machine Mfg. Co.', 'created_at': '2018-03-11', 'updated_at': '2018-03-11'}",
         "em",
         "reels",
         "1.0",
         "[]",
         "[]",
         "",
         "2024-06-24",
         "2024-06-24",
         "[{'title': None, 'primary': True, 'type': 'backglass', 'urls': {'large': 'https://img.opdb.org/37f4223b-22fa-48c3-8201-dc545dcf2e4e-large.jpg', 'medium': 'https://img.opdb.org/37f4223b-22fa-48c3-8201-dc545dcf2e4e-medium.jpg', 'small': 'https://img.opdb.org/37f4223b-22fa-48c3-8201-dc545dcf2e4e-small.jpg'}, 'sizes': {'large': {'width': 664, 'height': 677}, 'medium': {'width': 627, 'height': 640}, 'small': {'width': 245, 'height': 250}}}]",
         null,
         "1948-03-26 00:00:00",
         "1948-03-26 00:00:00",
         "Chicago Coin",
         "1948"
        ],
        [
         "2025",
         "G2LYp-M85PN",
         "True",
         "Miss Cue T",
         "",
         "",
         "1.0",
         "3753.0",
         "1948-01-01",
         "{'manufacturer_id': 2, 'name': 'Gottlieb', 'full_name': 'D. Gottlieb & Co.', 'created_at': '2018-03-11', 'updated_at': '2018-03-11'}",
         "em",
         "lights",
         "1.0",
         "[]",
         "[]",
         "",
         "2024-06-25",
         "2024-06-25",
         "[]",
         null,
         "1948-01-01 00:00:00",
         "1948-01-01 00:00:00",
         "Gottlieb",
         "1948"
        ],
        [
         "2022",
         "GBLNO-M3dj4",
         "True",
         "Blue Skies",
         "",
         "",
         "1.0",
         "332.0",
         "1948-11-01",
         "{'manufacturer_id': 26, 'name': 'United', 'full_name': 'United Manufacturing Co.', 'created_at': '2018-03-11', 'updated_at': '2018-03-11'}",
         "em",
         "lights",
         "1.0",
         "[]",
         "[]",
         "",
         "2024-06-24",
         "2024-06-24",
         "[]",
         null,
         "1948-11-01 00:00:00",
         "1948-11-01 00:00:00",
         "United",
         "1948"
        ],
        [
         "2021",
         "GwexB-M7Zxq",
         "True",
         "10th Inning",
         "",
         "",
         "1.0",
         "3788.0",
         "1948-01-01",
         "{'manufacturer_id': 26, 'name': 'United', 'full_name': 'United Manufacturing Co.', 'created_at': '2018-03-11', 'updated_at': '2018-03-11'}",
         "em",
         "lights",
         "1.0",
         "[]",
         "[]",
         "",
         "2024-06-24",
         "2024-06-24",
         "[{'title': None, 'primary': True, 'type': 'backglass', 'urls': {'large': 'https://img.opdb.org/8e650ea8-f4e8-44f2-a22a-2d20477b3fe7-large.jpg', 'medium': 'https://img.opdb.org/8e650ea8-f4e8-44f2-a22a-2d20477b3fe7-medium.jpg', 'small': 'https://img.opdb.org/8e650ea8-f4e8-44f2-a22a-2d20477b3fe7-small.jpg'}, 'sizes': {'large': {'width': 1398, 'height': 1500}, 'medium': {'width': 596, 'height': 640}, 'small': {'width': 233, 'height': 250}}}]",
         null,
         "1948-01-01 00:00:00",
         "1948-01-01 00:00:00",
         "United",
         "1948"
        ],
        [
         "2030",
         "G0l2e-Mp4Oz",
         "True",
         "Trade Winds",
         "",
         "",
         "1.0",
         "2619.0",
         "1948-04-01",
         "{'manufacturer_id': 24, 'name': 'Genco', 'full_name': 'Genco Manufacturing Co.', 'created_at': '2018-03-11', 'updated_at': '2018-03-11'}",
         "em",
         "lights",
         "1.0",
         "[]",
         "[]",
         "",
         "2024-06-25",
         "2024-06-25",
         "[{'title': None, 'primary': True, 'type': 'backglass', 'urls': {'large': 'https://img.opdb.org/b7f4e01d-c1b2-4991-b867-3b2821dc228b-large.jpg', 'medium': 'https://img.opdb.org/b7f4e01d-c1b2-4991-b867-3b2821dc228b-medium.jpg', 'small': 'https://img.opdb.org/b7f4e01d-c1b2-4991-b867-3b2821dc228b-small.jpg'}, 'sizes': {'large': {'width': 652, 'height': 735}, 'medium': {'width': 568, 'height': 640}, 'small': {'width': 222, 'height': 250}}}]",
         null,
         "1948-04-01 00:00:00",
         "1948-04-01 00:00:00",
         "Genco",
         "1948"
        ],
        [
         "2029",
         "GJ208-M5R5B",
         "True",
         "Summer Time",
         "",
         "",
         "1.0",
         "2414.0",
         "1948-09-01",
         "{'manufacturer_id': 26, 'name': 'United', 'full_name': 'United Manufacturing Co.', 'created_at': '2018-03-11', 'updated_at': '2018-03-11'}",
         "em",
         "lights",
         "1.0",
         "[]",
         "[]",
         "",
         "2024-06-25",
         "2024-06-25",
         "[{'title': None, 'primary': True, 'type': 'backglass', 'urls': {'large': 'https://img.opdb.org/b4778773-698e-48a9-8020-a2ed8ea00535-large.jpg', 'medium': 'https://img.opdb.org/b4778773-698e-48a9-8020-a2ed8ea00535-medium.jpg', 'small': 'https://img.opdb.org/b4778773-698e-48a9-8020-a2ed8ea00535-small.jpg'}, 'sizes': {'large': {'width': 1027, 'height': 1003}, 'medium': {'width': 640, 'height': 625}, 'small': {'width': 250, 'height': 244}}}]",
         null,
         "1948-09-01 00:00:00",
         "1948-09-01 00:00:00",
         "United",
         "1948"
        ],
        [
         "2028",
         "GLWYe-MVKlY",
         "True",
         "Star Dust",
         "",
         "",
         "1.0",
         "3506.0",
         "1948-08-01",
         "{'manufacturer_id': 26, 'name': 'United', 'full_name': 'United Manufacturing Co.', 'created_at': '2018-03-11', 'updated_at': '2018-03-11'}",
         "em",
         "lights",
         "1.0",
         "[]",
         "[]",
         "",
         "2024-06-25",
         "2024-06-25",
         "[]",
         null,
         "1948-08-01 00:00:00",
         "1948-08-01 00:00:00",
         "United",
         "1948"
        ],
        [
         "2027",
         "GN6YD-MvBNp",
         "True",
         "Serenade",
         "",
         "",
         "1.0",
         "2099.0",
         "1948-12-01",
         "{'manufacturer_id': 26, 'name': 'United', 'full_name': 'United Manufacturing Co.', 'created_at': '2018-03-11', 'updated_at': '2018-03-11'}",
         "em",
         "lights",
         "1.0",
         "[]",
         "[]",
         "",
         "2024-06-25",
         "2024-06-25",
         "[]",
         null,
         "1948-12-01 00:00:00",
         "1948-12-01 00:00:00",
         "United",
         "1948"
        ],
        [
         "2026",
         "G6lYP-MZewx",
         "True",
         "Paradise",
         "",
         "",
         "1.0",
         "1750.0",
         "1948-08-01",
         "{'manufacturer_id': 26, 'name': 'United', 'full_name': 'United Manufacturing Co.', 'created_at': '2018-03-11', 'updated_at': '2018-03-11'}",
         "em",
         "lights",
         "1.0",
         "[]",
         "[]",
         "",
         "2024-06-25",
         "2024-06-25",
         "[{'title': None, 'primary': True, 'type': 'backglass', 'urls': {'large': 'https://img.opdb.org/f05cf7a2-a917-4a00-8449-2e989ec7a106-large.jpg', 'medium': 'https://img.opdb.org/f05cf7a2-a917-4a00-8449-2e989ec7a106-medium.jpg', 'small': 'https://img.opdb.org/f05cf7a2-a917-4a00-8449-2e989ec7a106-small.jpg'}, 'sizes': {'large': {'width': 1500, 'height': 1473}, 'medium': {'width': 640, 'height': 628}, 'small': {'width': 250, 'height': 245}}}]",
         null,
         "1948-08-01 00:00:00",
         "1948-08-01 00:00:00",
         "United",
         "1948"
        ],
        [
         "1782",
         "GrEEB-MNE4n",
         "True",
         "Barnacle Bill",
         null,
         "",
         "1.0",
         "176.0",
         "1948-01-01",
         "{'manufacturer_id': 2, 'name': 'Gottlieb', 'full_name': 'D. Gottlieb & Co.', 'created_at': '2018-03-11', 'updated_at': '2018-03-11'}",
         "em",
         "lights",
         "1.0",
         "[]",
         "[]",
         "",
         "2018-03-11",
         "2018-05-08",
         "[{'title': None, 'primary': True, 'type': 'backglass', 'urls': {'medium': 'https://img.opdb.org/cce2fad8-ea9b-4b18-857e-61c89eb9eee4-medium.jpg', 'large': 'https://img.opdb.org/cce2fad8-ea9b-4b18-857e-61c89eb9eee4-large.jpg', 'small': 'https://img.opdb.org/cce2fad8-ea9b-4b18-857e-61c89eb9eee4-small.jpg'}, 'sizes': {'medium': {'width': 640, 'height': 621}, 'large': {'width': 1500, 'height': 1456}, 'small': {'width': 250, 'height': 243}}}]",
         null,
         "1948-01-01 00:00:00",
         "1948-01-01 00:00:00",
         "Gottlieb",
         "1948"
        ],
        [
         "2024",
         "GvBeO-M1rN4",
         "True",
         "Major League Baseball",
         "",
         "",
         "1.0",
         "1527.0",
         "1948-07-01",
         "{'manufacturer_id': 26, 'name': 'United', 'full_name': 'United Manufacturing Co.', 'created_at': '2018-03-11', 'updated_at': '2018-03-11'}",
         "em",
         "lights",
         "1.0",
         "[]",
         "[]",
         "",
         "2024-06-25",
         "2024-06-25",
         "[{'title': None, 'primary': True, 'type': 'backglass', 'urls': {'large': 'https://img.opdb.org/6c1db8db-6f2e-46de-a063-10ff5c60eea4-large.jpg', 'medium': 'https://img.opdb.org/6c1db8db-6f2e-46de-a063-10ff5c60eea4-medium.jpg', 'small': 'https://img.opdb.org/6c1db8db-6f2e-46de-a063-10ff5c60eea4-small.jpg'}, 'sizes': {'large': {'width': 459, 'height': 458}, 'medium': {'width': 459, 'height': 458}, 'small': {'width': 250, 'height': 249}}}]",
         null,
         "1948-07-01 00:00:00",
         "1948-07-01 00:00:00",
         "United",
         "1948"
        ],
        [
         "2023",
         "GxvP1-MXrKO",
         "True",
         "Cleopatra",
         "",
         "",
         "1.0",
         "531.0",
         "1948-05-01",
         "{'manufacturer_id': 144, 'name': 'Marvel', 'full_name': 'Marvel Manufacturing Company', 'created_at': '2024-06-10', 'updated_at': '2024-06-10'}",
         "em",
         "lights",
         "1.0",
         "[]",
         "[]",
         "",
         "2024-06-25",
         "2024-06-25",
         "[]",
         null,
         "1948-05-01 00:00:00",
         "1948-05-01 00:00:00",
         "Marvel",
         "1948"
        ],
        [
         "1932",
         "GK1Lv-MVKN8",
         "True",
         "Olde King Cole",
         "",
         "",
         "1.0",
         "1369.0",
         "1948-05-01",
         "{'manufacturer_id': 2, 'name': 'Gottlieb', 'full_name': 'D. Gottlieb & Co.', 'created_at': '2018-03-11', 'updated_at': '2018-03-11'}",
         "em",
         "lights",
         "1.0",
         "[]",
         "[]",
         "",
         "2022-07-19",
         "2022-07-19",
         "[{'title': None, 'primary': True, 'type': 'backglass', 'urls': {'medium': 'https://img.opdb.org/a02b2986-8bbf-4920-ad44-b69886d7afd9-medium.jpg', 'large': 'https://img.opdb.org/a02b2986-8bbf-4920-ad44-b69886d7afd9-large.jpg', 'small': 'https://img.opdb.org/a02b2986-8bbf-4920-ad44-b69886d7afd9-small.jpg'}, 'sizes': {'medium': {'width': 640, 'height': 618}, 'large': {'width': 1500, 'height': 1447}, 'small': {'width': 250, 'height': 241}}}]",
         null,
         "1948-05-01 00:00:00",
         "1948-05-01 00:00:00",
         "Gottlieb",
         "1948"
        ],
        [
         "1931",
         "GO0EK-MvBdk",
         "True",
         "Jack 'N Jill",
         "",
         "",
         "1.0",
         "1273.0",
         "1948-04-01",
         "{'manufacturer_id': 2, 'name': 'Gottlieb', 'full_name': 'D. Gottlieb & Co.', 'created_at': '2018-03-11', 'updated_at': '2018-03-11'}",
         "em",
         "lights",
         "1.0",
         "[]",
         "[]",
         "",
         "2022-07-19",
         "2022-07-19",
         "[{'title': None, 'primary': True, 'type': 'backglass', 'urls': {'medium': 'https://img.opdb.org/a6e9c43e-db13-4579-a121-7776a2d82348-medium.jpg', 'large': 'https://img.opdb.org/a6e9c43e-db13-4579-a121-7776a2d82348-large.jpg', 'small': 'https://img.opdb.org/a6e9c43e-db13-4579-a121-7776a2d82348-small.jpg'}, 'sizes': {'medium': {'width': 613, 'height': 640}, 'large': {'width': 858, 'height': 896}, 'small': {'width': 239, 'height': 250}}}]",
         null,
         "1948-04-01 00:00:00",
         "1948-04-01 00:00:00",
         "Gottlieb",
         "1948"
        ],
        [
         "1780",
         "G4dyO-MwNBy",
         "True",
         "Ballerina",
         null,
         "",
         "1.0",
         "141.0",
         "1948-01-01",
         "{'manufacturer_id': 8, 'name': 'Bally', 'full_name': 'Bally Manufacturing Co.', 'created_at': '2018-03-11', 'updated_at': '2018-03-11'}",
         "em",
         "lights",
         "1.0",
         "[]",
         "[]",
         "",
         "2018-03-11",
         "2018-05-08",
         "[{'title': None, 'primary': True, 'type': 'backglass', 'urls': {'medium': 'https://img.opdb.org/af43ffc4-7f49-426b-b594-627748cdee65-medium.jpg', 'large': 'https://img.opdb.org/af43ffc4-7f49-426b-b594-627748cdee65-large.jpg', 'small': 'https://img.opdb.org/af43ffc4-7f49-426b-b594-627748cdee65-small.jpg'}, 'sizes': {'medium': {'width': 593, 'height': 640}, 'large': {'width': 1390, 'height': 1500}, 'small': {'width': 231, 'height': 250}}}]",
         null,
         "1948-01-01 00:00:00",
         "1948-01-01 00:00:00",
         "Bally",
         "1948"
        ],
        [
         "1928",
         "GX2xO-M1rxO",
         "True",
         "Tennessee",
         "",
         "",
         "1.0",
         "2522.0",
         "1948-02-28",
         "{'manufacturer_id': 7, 'name': 'Williams', 'full_name': 'Williams Electronic Games, Inc.', 'created_at': '2018-03-11', 'updated_at': '2018-03-11'}",
         "em",
         "lights",
         "1.0",
         "[]",
         "[]",
         "",
         "2022-07-15",
         "2022-07-15",
         "[{'title': None, 'primary': True, 'type': 'backglass', 'urls': {'medium': 'https://img.opdb.org/9e74431c-b3aa-427d-9dcd-b48032acca9b-medium.jpg', 'large': 'https://img.opdb.org/9e74431c-b3aa-427d-9dcd-b48032acca9b-large.jpg', 'small': 'https://img.opdb.org/9e74431c-b3aa-427d-9dcd-b48032acca9b-small.jpg'}, 'sizes': {'medium': {'width': 632, 'height': 640}, 'large': {'width': 1153, 'height': 1167}, 'small': {'width': 247, 'height': 250}}}]",
         null,
         "1948-02-28 00:00:00",
         "1948-02-28 00:00:00",
         "Williams",
         "1948"
        ],
        [
         "1927",
         "GbPo6-MXrpN",
         "True",
         "Stormy",
         "",
         "",
         "1.0",
         "2390.0",
         "1948-01-31",
         "{'manufacturer_id': 7, 'name': 'Williams', 'full_name': 'Williams Electronic Games, Inc.', 'created_at': '2018-03-11', 'updated_at': '2018-03-11'}",
         "em",
         "lights",
         "1.0",
         "[]",
         "[]",
         "",
         "2022-07-15",
         "2022-07-15",
         "[{'title': None, 'primary': True, 'type': 'backglass', 'urls': {'medium': 'https://img.opdb.org/e80b9fbe-f8cc-4951-8494-8970102f54f7-medium.jpg', 'large': 'https://img.opdb.org/e80b9fbe-f8cc-4951-8494-8970102f54f7-large.jpg', 'small': 'https://img.opdb.org/e80b9fbe-f8cc-4951-8494-8970102f54f7-small.jpg'}, 'sizes': {'medium': {'width': 610, 'height': 640}, 'large': {'width': 849, 'height': 891}, 'small': {'width': 239, 'height': 250}}}]",
         null,
         "1948-01-31 00:00:00",
         "1948-01-31 00:00:00",
         "Williams",
         "1948"
        ],
        [
         "1950",
         "GPBKv-MNErK",
         "True",
         "Rainbow",
         "",
         "",
         "1.0",
         "1910.0",
         "1948-09-30",
         "{'manufacturer_id': 7, 'name': 'Williams', 'full_name': 'Williams Electronic Games, Inc.', 'created_at': '2018-03-11', 'updated_at': '2018-03-11'}",
         "em",
         "lights",
         "1.0",
         "[]",
         "[]",
         "",
         "2023-04-18",
         "2023-04-18",
         "[]",
         null,
         "1948-09-30 00:00:00",
         "1948-09-30 00:00:00",
         "Williams",
         "1948"
        ],
        [
         "1938",
         "Gzybj-ME0V0",
         "True",
         "One-Two-Three",
         "",
         "",
         "1.0",
         "1720.0",
         "1948-10-30",
         "{'manufacturer_id': 24, 'name': 'Genco', 'full_name': 'Genco Manufacturing Co.', 'created_at': '2018-03-11', 'updated_at': '2018-03-11'}",
         "em",
         "lights",
         "1.0",
         "[]",
         "[]",
         "",
         "2022-12-18",
         "2022-12-18",
         "[{'title': None, 'primary': True, 'type': 'backglass', 'urls': {'medium': 'https://img.opdb.org/f2ab4c54-5e50-438a-a9c3-a86b4e9e319a-medium.jpg', 'large': 'https://img.opdb.org/f2ab4c54-5e50-438a-a9c3-a86b4e9e319a-large.jpg', 'small': 'https://img.opdb.org/f2ab4c54-5e50-438a-a9c3-a86b4e9e319a-small.jpg'}, 'sizes': {'medium': {'width': 601, 'height': 640}, 'large': {'width': 774, 'height': 824}, 'small': {'width': 235, 'height': 250}}}]",
         null,
         "1948-10-30 00:00:00",
         "1948-10-30 00:00:00",
         "Genco",
         "1948"
        ],
        [
         "1933",
         "GkBXQ-M5RB4",
         "True",
         "Alice in Wonderland",
         "",
         "",
         "1.0",
         "47.0",
         "1948-08-01",
         "{'manufacturer_id': 2, 'name': 'Gottlieb', 'full_name': 'D. Gottlieb & Co.', 'created_at': '2018-03-11', 'updated_at': '2018-03-11'}",
         "em",
         "lights",
         "1.0",
         "[]",
         "[]",
         "",
         "2022-07-19",
         "2022-07-19",
         "[{'title': None, 'primary': True, 'type': 'backglass', 'urls': {'medium': 'https://img.opdb.org/d4859718-594f-4b5c-b775-b785669d1942-medium.jpg', 'large': 'https://img.opdb.org/d4859718-594f-4b5c-b775-b785669d1942-large.jpg', 'small': 'https://img.opdb.org/d4859718-594f-4b5c-b775-b785669d1942-small.jpg'}, 'sizes': {'medium': {'width': 628, 'height': 640}, 'large': {'width': 754, 'height': 768}, 'small': {'width': 245, 'height': 250}}}]",
         null,
         "1948-08-01 00:00:00",
         "1948-08-01 00:00:00",
         "Gottlieb",
         "1948"
        ],
        [
         "1036",
         "G5zOy-MLO1z",
         "True",
         "Banjo",
         null,
         "",
         "1.0",
         "168.0",
         "1948-03-01",
         "{'manufacturer_id': 19, 'name': 'Exhibit', 'full_name': 'Exhibit Supply Company', 'created_at': '2018-03-11', 'updated_at': '2018-03-11'}",
         "em",
         "lights",
         "1.0",
         "[]",
         "[]",
         null,
         "2018-03-11",
         "2018-05-08",
         "[{'title': None, 'primary': True, 'type': 'backglass', 'urls': {'medium': 'https://img.opdb.org/1d6a1085-7faa-4e07-8d82-10772c8a8894-medium.jpg', 'large': 'https://img.opdb.org/1d6a1085-7faa-4e07-8d82-10772c8a8894-large.jpg', 'small': 'https://img.opdb.org/1d6a1085-7faa-4e07-8d82-10772c8a8894-small.jpg'}, 'sizes': {'medium': {'width': 628, 'height': 640}, 'large': {'width': 1473, 'height': 1500}, 'small': {'width': 245, 'height': 250}}}]",
         null,
         "1948-03-01 00:00:00",
         "1948-03-01 00:00:00",
         "Exhibit",
         "1948"
        ],
        [
         "1985",
         "GoEVx-MYeP1",
         "True",
         "Build Up",
         "",
         "",
         "1.0",
         "397.0",
         "1948-01-20",
         "{'manufacturer_id': 19, 'name': 'Exhibit', 'full_name': 'Exhibit Supply Company', 'created_at': '2018-03-11', 'updated_at': '2018-03-11'}",
         "em",
         "lights",
         "1.0",
         "[]",
         "[]",
         "",
         "2024-06-10",
         "2024-06-10",
         "[]",
         null,
         "1948-01-20 00:00:00",
         "1948-01-20 00:00:00",
         "Exhibit",
         "1948"
        ],
        [
         "1986",
         "G186W-MNEwK",
         "True",
         "Catalina",
         "",
         "",
         "1.0",
         "471.0",
         "1948-02-07",
         "{'manufacturer_id': 3, 'name': 'Chicago Coin', 'full_name': 'Chicago Coin Machine Mfg. Co.', 'created_at': '2018-03-11', 'updated_at': '2018-03-11'}",
         "em",
         "lights",
         "1.0",
         "[]",
         "[]",
         "",
         "2024-06-10",
         "2024-06-10",
         "[{'title': None, 'primary': True, 'type': 'backglass', 'urls': {'medium': 'https://img.opdb.org/a8dfe9d6-bb03-4b6e-a93a-c27f89a06e0e-medium.jpg', 'large': 'https://img.opdb.org/a8dfe9d6-bb03-4b6e-a93a-c27f89a06e0e-large.jpg', 'small': 'https://img.opdb.org/a8dfe9d6-bb03-4b6e-a93a-c27f89a06e0e-small.jpg'}, 'sizes': {'medium': {'width': 554, 'height': 640}, 'large': {'width': 674, 'height': 778}, 'small': {'width': 216, 'height': 250}}}]",
         null,
         "1948-02-07 00:00:00",
         "1948-02-07 00:00:00",
         "Chicago Coin",
         "1948"
        ],
        [
         "1633",
         "GRoNB-MP357",
         "True",
         "Cinderella",
         null,
         "",
         "1.0",
         "512.0",
         "1948-01-01",
         "{'manufacturer_id': 2, 'name': 'Gottlieb', 'full_name': 'D. Gottlieb & Co.', 'created_at': '2018-03-11', 'updated_at': '2018-03-11'}",
         "em",
         "lights",
         "1.0",
         "[]",
         "[]",
         "",
         "2018-03-11",
         "2018-05-08",
         "[{'title': 'Backglass', 'primary': True, 'type': 'backglass', 'urls': {'medium': 'https://img.opdb.org/102ade4d-c93e-482b-80b2-635341dae523-medium.jpg', 'large': 'https://img.opdb.org/102ade4d-c93e-482b-80b2-635341dae523-large.jpg', 'small': 'https://img.opdb.org/102ade4d-c93e-482b-80b2-635341dae523-small.jpg'}, 'sizes': {'medium': {'width': 567, 'height': 588}, 'large': {'width': 567, 'height': 588}, 'small': {'width': 241, 'height': 250}}}]",
         null,
         "1948-01-01 00:00:00",
         "1948-01-01 00:00:00",
         "Gottlieb",
         "1948"
        ],
        [
         "1962",
         "GN6dW-M3d6q",
         "True",
         "El Paso",
         "",
         "",
         "1.0",
         "768.0",
         "1948-11-18",
         "{'manufacturer_id': 7, 'name': 'Williams', 'full_name': 'Williams Electronic Games, Inc.', 'created_at': '2018-03-11', 'updated_at': '2018-03-11'}",
         "em",
         "lights",
         "1.0",
         "[]",
         "[]",
         "",
         "2023-12-14",
         "2023-12-14",
         "[]",
         null,
         "1948-11-18 00:00:00",
         "1948-11-18 00:00:00",
         "Williams",
         "1948"
        ],
        [
         "2013",
         "Gj6Wj-MnKdl",
         "True",
         "Gold Mine",
         "",
         "",
         "1.0",
         "1032.0",
         "1948-01-01",
         "{'manufacturer_id': 144, 'name': 'Marvel', 'full_name': 'Marvel Manufacturing Company', 'created_at': '2024-06-10', 'updated_at': '2024-06-10'}",
         "em",
         "lights",
         "1.0",
         "[]",
         "[]",
         "",
         "2024-06-10",
         "2024-06-10",
         "[]",
         null,
         "1948-01-01 00:00:00",
         "1948-01-01 00:00:00",
         "Marvel",
         "1948"
        ],
        [
         "1788",
         "GrlvP-MXroy",
         "True",
         "Dew-Wa-Ditty",
         null,
         "",
         "1.0",
         "674.0",
         "1948-01-01",
         "{'manufacturer_id': 7, 'name': 'Williams', 'full_name': 'Williams Electronic Games, Inc.', 'created_at': '2018-03-11', 'updated_at': '2018-03-11'}",
         "em",
         "lights",
         "1.0",
         "[]",
         "[]",
         "",
         "2018-03-11",
         "2018-05-08",
         "[{'title': None, 'primary': True, 'type': 'backglass', 'urls': {'medium': 'https://img.opdb.org/fadc9998-d9f0-43ec-84a6-509dd58ef982-medium.jpg', 'large': 'https://img.opdb.org/fadc9998-d9f0-43ec-84a6-509dd58ef982-large.jpg', 'small': 'https://img.opdb.org/fadc9998-d9f0-43ec-84a6-509dd58ef982-small.jpg'}, 'sizes': {'medium': {'width': 566, 'height': 640}, 'large': {'width': 1327, 'height': 1500}, 'small': {'width': 221, 'height': 250}}}]",
         null,
         "1948-01-01 00:00:00",
         "1948-01-01 00:00:00",
         "Williams",
         "1948"
        ],
        [
         "1472",
         "G5pOZ-MOE37",
         "True",
         "Wisconsin",
         null,
         "",
         "1.0",
         "2800.0",
         "1948-04-01",
         "{'manufacturer_id': 26, 'name': 'United', 'full_name': 'United Manufacturing Co.', 'created_at': '2018-03-11', 'updated_at': '2018-03-11'}",
         "em",
         "lights",
         "1.0",
         "[]",
         "[]",
         null,
         "2018-03-11",
         "2018-05-08",
         "[{'title': 'Backglass', 'primary': True, 'type': 'backglass', 'urls': {'medium': 'https://img.opdb.org/bfdd3ba2-c5ce-43c9-b631-9109bd8a89a3-medium.jpg', 'large': 'https://img.opdb.org/bfdd3ba2-c5ce-43c9-b631-9109bd8a89a3-large.jpg', 'small': 'https://img.opdb.org/bfdd3ba2-c5ce-43c9-b631-9109bd8a89a3-small.jpg'}, 'sizes': {'medium': {'width': 422, 'height': 432}, 'large': {'width': 422, 'height': 432}, 'small': {'width': 244, 'height': 250}}}]",
         null,
         "1948-04-01 00:00:00",
         "1948-04-01 00:00:00",
         "United",
         "1948"
        ],
        [
         "1987",
         "GWyvZ-M0oBe",
         "True",
         "Chico",
         "",
         "",
         "1.0",
         "3014.0",
         "1948-06-01",
         "{'manufacturer_id': 19, 'name': 'Exhibit', 'full_name': 'Exhibit Supply Company', 'created_at': '2018-03-11', 'updated_at': '2018-03-11'}",
         "em",
         "lights",
         "1.0",
         "[]",
         "[]",
         "",
         "2024-06-10",
         "2024-06-10",
         "[]",
         null,
         "1948-06-01 00:00:00",
         "1948-06-01 00:00:00",
         "Exhibit",
         "1948"
        ],
        [
         "1988",
         "GnP8x-MjB0p",
         "True",
         "Circus",
         "",
         "",
         "1.0",
         "522.0",
         "1948-08-01",
         "{'manufacturer_id': 19, 'name': 'Exhibit', 'full_name': 'Exhibit Supply Company', 'created_at': '2018-03-11', 'updated_at': '2018-03-11'}",
         "em",
         "lights",
         "1.0",
         "[]",
         "[]",
         "",
         "2024-06-10",
         "2024-06-10",
         "[]",
         null,
         "1948-08-01 00:00:00",
         "1948-08-01 00:00:00",
         "Exhibit",
         "1948"
        ],
        [
         "1989",
         "Gj69Z-MnKxq",
         "True",
         "Crazy Ball",
         "",
         "",
         "1.0",
         "585.0",
         "1948-07-07",
         "{'manufacturer_id': 3, 'name': 'Chicago Coin', 'full_name': 'Chicago Coin Machine Mfg. Co.', 'created_at': '2018-03-11', 'updated_at': '2018-03-11'}",
         "em",
         "lights",
         "1.0",
         "[]",
         "[]",
         "",
         "2024-06-10",
         "2024-06-10",
         "[{'title': None, 'primary': True, 'type': 'backglass', 'urls': {'medium': 'https://img.opdb.org/dae78680-adcd-4ac2-8d2c-86eedb1ba5cf-medium.jpg', 'large': 'https://img.opdb.org/dae78680-adcd-4ac2-8d2c-86eedb1ba5cf-large.jpg', 'small': 'https://img.opdb.org/dae78680-adcd-4ac2-8d2c-86eedb1ba5cf-small.jpg'}, 'sizes': {'medium': {'width': 532, 'height': 640}, 'large': {'width': 1006, 'height': 1211}, 'small': {'width': 208, 'height': 250}}}]",
         null,
         "1948-07-07 00:00:00",
         "1948-07-07 00:00:00",
         "Chicago Coin",
         "1948"
        ],
        [
         "1990",
         "GqZ1Y-Mq1Ey",
         "True",
         "Floating Power",
         "",
         "",
         "1.0",
         "897.0",
         "1948-12-30",
         "{'manufacturer_id': 24, 'name': 'Genco', 'full_name': 'Genco Manufacturing Co.', 'created_at': '2018-03-11', 'updated_at': '2018-03-11'}",
         "em",
         "lights",
         "1.0",
         "[]",
         "[]",
         "",
         "2024-06-10",
         "2024-06-10",
         "[]",
         null,
         "1948-12-30 00:00:00",
         "1948-12-30 00:00:00",
         "Genco",
         "1948"
        ],
        [
         "1991",
         "G9zw0-M5RdB",
         "True",
         "Gizmo",
         "",
         "",
         "1.0",
         "1009.0",
         "1948-08-04",
         "{'manufacturer_id': 7, 'name': 'Williams', 'full_name': 'Williams Electronic Games, Inc.', 'created_at': '2018-03-11', 'updated_at': '2018-03-11'}",
         "em",
         "lights",
         "1.0",
         "[]",
         "[]",
         "",
         "2024-06-10",
         "2024-06-10",
         "[{'title': None, 'primary': True, 'type': 'backglass', 'urls': {'medium': 'https://img.opdb.org/d420dc71-1ff5-4875-bdfb-717c5dee4e8d-medium.jpg', 'large': 'https://img.opdb.org/d420dc71-1ff5-4875-bdfb-717c5dee4e8d-large.jpg', 'small': 'https://img.opdb.org/d420dc71-1ff5-4875-bdfb-717c5dee4e8d-small.jpg'}, 'sizes': {'medium': {'width': 557, 'height': 640}, 'large': {'width': 1002, 'height': 1153}, 'small': {'width': 217, 'height': 250}}}]",
         null,
         "1948-08-04 00:00:00",
         "1948-08-04 00:00:00",
         "Williams",
         "1948"
        ],
        [
         "1992",
         "GyVZ1-Mp49z",
         "True",
         "Harvest Moon",
         "",
         "",
         "1.0",
         "1129.0",
         "1948-12-01",
         "{'manufacturer_id': 2, 'name': 'Gottlieb', 'full_name': 'D. Gottlieb & Co.', 'created_at': '2018-03-11', 'updated_at': '2018-03-11'}",
         "em",
         "lights",
         "1.0",
         "[]",
         "[]",
         "",
         "2024-06-10",
         "2024-06-10",
         "[{'title': None, 'primary': True, 'type': 'backglass', 'urls': {'medium': 'https://img.opdb.org/d990cbef-47f3-40c7-8fc1-67ca96f55f5c-medium.jpg', 'large': 'https://img.opdb.org/d990cbef-47f3-40c7-8fc1-67ca96f55f5c-large.jpg', 'small': 'https://img.opdb.org/d990cbef-47f3-40c7-8fc1-67ca96f55f5c-small.jpg'}, 'sizes': {'medium': {'width': 562, 'height': 640}, 'large': {'width': 616, 'height': 702}, 'small': {'width': 219, 'height': 250}}}]",
         null,
         "1948-12-01 00:00:00",
         "1948-12-01 00:00:00",
         "Gottlieb",
         "1948"
        ],
        [
         "1993",
         "GPBov-Mx0KK",
         "True",
         "Holiday",
         "",
         "",
         "1.0",
         "1211.0",
         "1948-12-01",
         "{'manufacturer_id': 3, 'name': 'Chicago Coin', 'full_name': 'Chicago Coin Machine Mfg. Co.', 'created_at': '2018-03-11', 'updated_at': '2018-03-11'}",
         "em",
         "lights",
         "1.0",
         "[]",
         "[]",
         "",
         "2024-06-10",
         "2024-06-10",
         "[{'title': None, 'primary': True, 'type': 'backglass', 'urls': {'medium': 'https://img.opdb.org/47e61a77-3d0e-4285-a464-281ec149d203-medium.jpg', 'large': 'https://img.opdb.org/47e61a77-3d0e-4285-a464-281ec149d203-large.jpg', 'small': 'https://img.opdb.org/47e61a77-3d0e-4285-a464-281ec149d203-small.jpg'}, 'sizes': {'medium': {'width': 563, 'height': 640}, 'large': {'width': 618, 'height': 702}, 'small': {'width': 220, 'height': 250}}}]",
         null,
         "1948-12-01 00:00:00",
         "1948-12-01 00:00:00",
         "Chicago Coin",
         "1948"
        ],
        [
         "1994",
         "GV8B1-MP3b9",
         "True",
         "Jamboree",
         "",
         "",
         "1.0",
         "1285.0",
         "1948-05-01",
         "{'manufacturer_id': 19, 'name': 'Exhibit', 'full_name': 'Exhibit Supply Company', 'created_at': '2018-03-11', 'updated_at': '2018-03-11'}",
         "em",
         "lights",
         "1.0",
         "[]",
         "[]",
         "",
         "2024-06-10",
         "2024-07-16",
         "[]",
         null,
         "1948-05-01 00:00:00",
         "1948-05-01 00:00:00",
         "Exhibit",
         "1948"
        ],
        [
         "1995",
         "G8l2L-M9ReW",
         "True",
         "Magic",
         "",
         "",
         "1.0",
         "1508.0",
         "1948-12-01",
         "{'manufacturer_id': 19, 'name': 'Exhibit', 'full_name': 'Exhibit Supply Company', 'created_at': '2018-03-11', 'updated_at': '2018-03-11'}",
         "em",
         "lights",
         "1.0",
         "[]",
         "[]",
         "",
         "2024-06-10",
         "2024-06-10",
         "[{'title': None, 'primary': True, 'type': 'backglass', 'urls': {'medium': 'https://img.opdb.org/959d7ab5-4340-4975-9345-4629dbbbf2f0-medium.jpg', 'large': 'https://img.opdb.org/959d7ab5-4340-4975-9345-4629dbbbf2f0-large.jpg', 'small': 'https://img.opdb.org/959d7ab5-4340-4975-9345-4629dbbbf2f0-small.jpg'}, 'sizes': {'medium': {'width': 579, 'height': 640}, 'large': {'width': 1357, 'height': 1500}, 'small': {'width': 226, 'height': 250}}}]",
         null,
         "1948-12-01 00:00:00",
         "1948-12-01 00:00:00",
         "Exhibit",
         "1948"
        ],
        [
         "1996",
         "G3Ewl-ME0El",
         "True",
         "Mardi Gras",
         "",
         "",
         "1.0",
         "1545.0",
         "1948-05-03",
         "{'manufacturer_id': 24, 'name': 'Genco', 'full_name': 'Genco Manufacturing Co.', 'created_at': '2018-03-11', 'updated_at': '2018-03-11'}",
         "em",
         "lights",
         "1.0",
         "[]",
         "[]",
         "",
         "2024-06-10",
         "2024-06-10",
         "[{'title': None, 'primary': True, 'type': 'backglass', 'urls': {'medium': 'https://img.opdb.org/8809f300-904d-47c7-85e1-7d9cac619c2f-medium.jpg', 'large': 'https://img.opdb.org/8809f300-904d-47c7-85e1-7d9cac619c2f-large.jpg', 'small': 'https://img.opdb.org/8809f300-904d-47c7-85e1-7d9cac619c2f-small.jpg'}, 'sizes': {'medium': {'width': 454, 'height': 503}, 'large': {'width': 454, 'height': 503}, 'small': {'width': 226, 'height': 250}}}]",
         null,
         "1948-05-03 00:00:00",
         "1948-05-03 00:00:00",
         "Genco",
         "1948"
        ],
        [
         "1997",
         "GwebP-MBRxn",
         "True",
         "Melody",
         "",
         "",
         "1.0",
         "1567.0",
         "1948-02-01",
         "{'manufacturer_id': 8, 'name': 'Bally', 'full_name': 'Bally Manufacturing Co.', 'created_at': '2018-03-11', 'updated_at': '2018-03-11'}",
         "em",
         "lights",
         "1.0",
         "[]",
         "[]",
         "",
         "2024-06-10",
         "2024-06-10",
         "[{'title': None, 'primary': True, 'type': 'backglass', 'urls': {'medium': 'https://img.opdb.org/3257de32-814c-435a-aef7-c97c0d6d60e6-medium.jpg', 'large': 'https://img.opdb.org/3257de32-814c-435a-aef7-c97c0d6d60e6-large.jpg', 'small': 'https://img.opdb.org/3257de32-814c-435a-aef7-c97c0d6d60e6-small.jpg'}, 'sizes': {'medium': {'width': 351, 'height': 432}, 'large': {'width': 351, 'height': 432}, 'small': {'width': 203, 'height': 250}}}]",
         null,
         "1948-02-01 00:00:00",
         "1948-02-01 00:00:00",
         "Bally",
         "1948"
        ],
        [
         "2002",
         "G6lYl-MdEwd",
         "True",
         "Round Up",
         "",
         "",
         "1.0",
         "2027.0",
         "1948-11-01",
         "{'manufacturer_id': 2, 'name': 'Gottlieb', 'full_name': 'D. Gottlieb & Co.', 'created_at': '2018-03-11', 'updated_at': '2018-03-11'}",
         "em",
         "lights",
         "1.0",
         "[]",
         "[]",
         "",
         "2024-06-10",
         "2024-06-10",
         "[]",
         null,
         "1948-11-01 00:00:00",
         "1948-11-01 00:00:00",
         "Gottlieb",
         "1948"
        ],
        [
         "2001",
         "G2LYd-Ml95y",
         "True",
         "Puddin' Head",
         "",
         "",
         "1.0",
         "1874.0",
         "1948-10-05",
         "{'manufacturer_id': 24, 'name': 'Genco', 'full_name': 'Genco Manufacturing Co.', 'created_at': '2018-03-11', 'updated_at': '2018-03-11'}",
         "em",
         "lights",
         "1.0",
         "[]",
         "[]",
         "",
         "2024-06-10",
         "2024-06-10",
         "[]",
         null,
         "1948-10-05 00:00:00",
         "1948-10-05 00:00:00",
         "Genco",
         "1948"
        ],
        [
         "2000",
         "GvBY8-MW9pn",
         "True",
         "Morocco",
         "",
         "",
         "1.0",
         "1631.0",
         "1948-11-01",
         "{'manufacturer_id': 19, 'name': 'Exhibit', 'full_name': 'Exhibit Supply Company', 'created_at': '2018-03-11', 'updated_at': '2018-03-11'}",
         "em",
         "lights",
         "1.0",
         "[]",
         "[]",
         "",
         "2024-06-10",
         "2024-06-10",
         "[{'title': None, 'primary': True, 'type': 'backglass', 'urls': {'large': 'https://img.opdb.org/51b11965-2f69-477f-a460-556a56478711-large.jpg', 'medium': 'https://img.opdb.org/51b11965-2f69-477f-a460-556a56478711-medium.jpg', 'small': 'https://img.opdb.org/51b11965-2f69-477f-a460-556a56478711-small.jpg'}, 'sizes': {'large': {'width': 552, 'height': 608}, 'medium': {'width': 552, 'height': 608}, 'small': {'width': 227, 'height': 250}}}]",
         null,
         "1948-11-01 00:00:00",
         "1948-11-01 00:00:00",
         "Exhibit",
         "1948"
        ],
        [
         "1999",
         "GxvbB-MkPjl",
         "True",
         "Moon Glow",
         "",
         "",
         "1.0",
         "1629.0",
         "1948-12-01",
         "{'manufacturer_id': 26, 'name': 'United', 'full_name': 'United Manufacturing Co.', 'created_at': '2018-03-11', 'updated_at': '2018-03-11'}",
         "em",
         "lights",
         "1.0",
         "[]",
         "[]",
         "",
         "2024-06-10",
         "2024-06-10",
         "[]",
         null,
         "1948-12-01 00:00:00",
         "1948-12-01 00:00:00",
         "United",
         "1948"
        ],
        [
         "1998",
         "GBLqd-MyNOK",
         "True",
         "Merry Widow",
         "",
         "",
         "1.0",
         "1576.0",
         "1948-07-11",
         "{'manufacturer_id': 24, 'name': 'Genco', 'full_name': 'Genco Manufacturing Co.', 'created_at': '2018-03-11', 'updated_at': '2018-03-11'}",
         "em",
         "lights",
         "1.0",
         "[]",
         "[]",
         "",
         "2024-06-10",
         "2024-06-10",
         "[{'title': None, 'primary': True, 'type': 'backglass', 'urls': {'medium': 'https://img.opdb.org/a201db74-487a-49f7-abd0-ed70320fe79e-medium.jpg', 'large': 'https://img.opdb.org/a201db74-487a-49f7-abd0-ed70320fe79e-large.jpg', 'small': 'https://img.opdb.org/a201db74-487a-49f7-abd0-ed70320fe79e-small.jpg'}, 'sizes': {'medium': {'width': 578, 'height': 640}, 'large': {'width': 711, 'height': 788}, 'small': {'width': 226, 'height': 250}}}]",
         null,
         "1948-07-11 00:00:00",
         "1948-07-11 00:00:00",
         "Genco",
         "1948"
        ],
        [
         "2006",
         "GpepN-MePek",
         "True",
         "Screwball",
         "",
         "",
         "1.0",
         "2074.0",
         "1948-09-01",
         "{'manufacturer_id': 24, 'name': 'Genco', 'full_name': 'Genco Manufacturing Co.', 'created_at': '2018-03-11', 'updated_at': '2018-03-11'}",
         "em",
         "lights",
         "1.0",
         "[]",
         "[]",
         "",
         "2024-06-10",
         "2024-06-10",
         "[{'title': None, 'primary': True, 'type': 'backglass', 'urls': {'large': 'https://img.opdb.org/bb7f5edf-9693-4c27-8736-9e2e57c3811a-large.jpg', 'medium': 'https://img.opdb.org/bb7f5edf-9693-4c27-8736-9e2e57c3811a-medium.jpg', 'small': 'https://img.opdb.org/bb7f5edf-9693-4c27-8736-9e2e57c3811a-small.jpg'}, 'sizes': {'large': {'width': 1360, 'height': 1500}, 'medium': {'width': 580, 'height': 640}, 'small': {'width': 226, 'height': 250}}}]",
         null,
         "1948-09-01 00:00:00",
         "1948-09-01 00:00:00",
         "Genco",
         "1948"
        ],
        [
         "2007",
         "Gd2O6-Mb5Ky",
         "True",
         "Shanghai",
         "",
         "",
         "1.0",
         "2109.0",
         "1948-04-26",
         "{'manufacturer_id': 3, 'name': 'Chicago Coin', 'full_name': 'Chicago Coin Machine Mfg. Co.', 'created_at': '2018-03-11', 'updated_at': '2018-03-11'}",
         "em",
         "lights",
         "1.0",
         "[]",
         "[]",
         "",
         "2024-06-10",
         "2024-06-10",
         "[{'title': None, 'primary': True, 'type': 'backglass', 'urls': {'large': 'https://img.opdb.org/7cd40810-c358-4766-8a3a-97632683535b-large.jpg', 'medium': 'https://img.opdb.org/7cd40810-c358-4766-8a3a-97632683535b-medium.jpg', 'small': 'https://img.opdb.org/7cd40810-c358-4766-8a3a-97632683535b-small.jpg'}, 'sizes': {'large': {'width': 378, 'height': 428}, 'medium': {'width': 378, 'height': 428}, 'small': {'width': 221, 'height': 250}}}]",
         null,
         "1948-04-26 00:00:00",
         "1948-04-26 00:00:00",
         "Chicago Coin",
         "1948"
        ]
       ],
       "shape": {
        "columns": 23,
        "rows": 2272
       }
      },
      "text/html": [
       "<div>\n",
       "<style scoped>\n",
       "    .dataframe tbody tr th:only-of-type {\n",
       "        vertical-align: middle;\n",
       "    }\n",
       "\n",
       "    .dataframe tbody tr th {\n",
       "        vertical-align: top;\n",
       "    }\n",
       "\n",
       "    .dataframe thead th {\n",
       "        text-align: right;\n",
       "    }\n",
       "</style>\n",
       "<table border=\"1\" class=\"dataframe\">\n",
       "  <thead>\n",
       "    <tr style=\"text-align: right;\">\n",
       "      <th></th>\n",
       "      <th>opdb_id</th>\n",
       "      <th>is_machine</th>\n",
       "      <th>name</th>\n",
       "      <th>common_name</th>\n",
       "      <th>shortname</th>\n",
       "      <th>physical_machine</th>\n",
       "      <th>ipdb_id</th>\n",
       "      <th>manufacture_date</th>\n",
       "      <th>manufacturer</th>\n",
       "      <th>type</th>\n",
       "      <th>...</th>\n",
       "      <th>keywords</th>\n",
       "      <th>description</th>\n",
       "      <th>created_at</th>\n",
       "      <th>updated_at</th>\n",
       "      <th>images</th>\n",
       "      <th>is_alias</th>\n",
       "      <th>manufacture_date_df</th>\n",
       "      <th>manufacture_date_dt</th>\n",
       "      <th>manufacturer_name</th>\n",
       "      <th>year</th>\n",
       "    </tr>\n",
       "  </thead>\n",
       "  <tbody>\n",
       "    <tr>\n",
       "      <th>1876</th>\n",
       "      <td>GyVVQ-MVKYX</td>\n",
       "      <td>True</td>\n",
       "      <td>Humpty Dumpty</td>\n",
       "      <td></td>\n",
       "      <td>HD</td>\n",
       "      <td>1.0</td>\n",
       "      <td>1254.0</td>\n",
       "      <td>1947-10-25</td>\n",
       "      <td>{'manufacturer_id': 2, 'name': 'Gottlieb', 'fu...</td>\n",
       "      <td>me</td>\n",
       "      <td>...</td>\n",
       "      <td>[]</td>\n",
       "      <td></td>\n",
       "      <td>2020-12-08</td>\n",
       "      <td>2022-01-26</td>\n",
       "      <td>[{'title': None, 'primary': True, 'type': 'bac...</td>\n",
       "      <td>NaN</td>\n",
       "      <td>1947-10-25</td>\n",
       "      <td>1947-10-25</td>\n",
       "      <td>Gottlieb</td>\n",
       "      <td>1947</td>\n",
       "    </tr>\n",
       "    <tr>\n",
       "      <th>1878</th>\n",
       "      <td>GV88w-Mp4Bl</td>\n",
       "      <td>True</td>\n",
       "      <td>Cover Girl</td>\n",
       "      <td></td>\n",
       "      <td></td>\n",
       "      <td>1.0</td>\n",
       "      <td>579.0</td>\n",
       "      <td>1947-12-01</td>\n",
       "      <td>{'manufacturer_id': 46, 'name': 'Keeney', 'ful...</td>\n",
       "      <td>me</td>\n",
       "      <td>...</td>\n",
       "      <td>[]</td>\n",
       "      <td></td>\n",
       "      <td>2020-12-09</td>\n",
       "      <td>2024-07-12</td>\n",
       "      <td>[{'title': None, 'primary': True, 'type': 'bac...</td>\n",
       "      <td>NaN</td>\n",
       "      <td>1947-12-01</td>\n",
       "      <td>1947-12-01</td>\n",
       "      <td>Keeney</td>\n",
       "      <td>1947</td>\n",
       "    </tr>\n",
       "    <tr>\n",
       "      <th>2242</th>\n",
       "      <td>GRVL2-MLl9Y-A1Zx2</td>\n",
       "      <td>NaN</td>\n",
       "      <td>Coney Island</td>\n",
       "      <td></td>\n",
       "      <td></td>\n",
       "      <td>NaN</td>\n",
       "      <td>3880.0</td>\n",
       "      <td>1948-01-01</td>\n",
       "      <td>{'manufacturer_id': 146, 'name': 'Block Marble...</td>\n",
       "      <td>NaN</td>\n",
       "      <td>...</td>\n",
       "      <td>[]</td>\n",
       "      <td>NaN</td>\n",
       "      <td>2024-06-25</td>\n",
       "      <td>2024-06-25</td>\n",
       "      <td>[]</td>\n",
       "      <td>True</td>\n",
       "      <td>1948-01-01</td>\n",
       "      <td>1948-01-01</td>\n",
       "      <td>Block Marble Company</td>\n",
       "      <td>1948</td>\n",
       "    </tr>\n",
       "    <tr>\n",
       "      <th>37</th>\n",
       "      <td>GRVL2-MLl9Y</td>\n",
       "      <td>True</td>\n",
       "      <td>Lady Robin Hood</td>\n",
       "      <td>None</td>\n",
       "      <td></td>\n",
       "      <td>1.0</td>\n",
       "      <td>1406.0</td>\n",
       "      <td>1948-01-31</td>\n",
       "      <td>{'manufacturer_id': 2, 'name': 'Gottlieb', 'fu...</td>\n",
       "      <td>em</td>\n",
       "      <td>...</td>\n",
       "      <td>[]</td>\n",
       "      <td>None</td>\n",
       "      <td>2018-03-11</td>\n",
       "      <td>2018-03-31</td>\n",
       "      <td>[{'title': 'Backglass', 'primary': True, 'type...</td>\n",
       "      <td>NaN</td>\n",
       "      <td>1948-01-31</td>\n",
       "      <td>1948-01-31</td>\n",
       "      <td>Gottlieb</td>\n",
       "      <td>1948</td>\n",
       "    </tr>\n",
       "    <tr>\n",
       "      <th>2019</th>\n",
       "      <td>G8ljD-Mz2oP</td>\n",
       "      <td>True</td>\n",
       "      <td>Trinidad</td>\n",
       "      <td></td>\n",
       "      <td></td>\n",
       "      <td>1.0</td>\n",
       "      <td>2646.0</td>\n",
       "      <td>1948-03-26</td>\n",
       "      <td>{'manufacturer_id': 3, 'name': 'Chicago Coin',...</td>\n",
       "      <td>em</td>\n",
       "      <td>...</td>\n",
       "      <td>[]</td>\n",
       "      <td></td>\n",
       "      <td>2024-06-24</td>\n",
       "      <td>2024-06-24</td>\n",
       "      <td>[{'title': None, 'primary': True, 'type': 'bac...</td>\n",
       "      <td>NaN</td>\n",
       "      <td>1948-03-26</td>\n",
       "      <td>1948-03-26</td>\n",
       "      <td>Chicago Coin</td>\n",
       "      <td>1948</td>\n",
       "    </tr>\n",
       "    <tr>\n",
       "      <th>...</th>\n",
       "      <td>...</td>\n",
       "      <td>...</td>\n",
       "      <td>...</td>\n",
       "      <td>...</td>\n",
       "      <td>...</td>\n",
       "      <td>...</td>\n",
       "      <td>...</td>\n",
       "      <td>...</td>\n",
       "      <td>...</td>\n",
       "      <td>...</td>\n",
       "      <td>...</td>\n",
       "      <td>...</td>\n",
       "      <td>...</td>\n",
       "      <td>...</td>\n",
       "      <td>...</td>\n",
       "      <td>...</td>\n",
       "      <td>...</td>\n",
       "      <td>...</td>\n",
       "      <td>...</td>\n",
       "      <td>...</td>\n",
       "      <td>...</td>\n",
       "    </tr>\n",
       "    <tr>\n",
       "      <th>2258</th>\n",
       "      <td>Ge1O1-MYeEB-A9wWL</td>\n",
       "      <td>NaN</td>\n",
       "      <td>Peter Brock \"King Of The Mountain\" (VK Commodore)</td>\n",
       "      <td>Peter Brock (VK Commodore)</td>\n",
       "      <td></td>\n",
       "      <td>NaN</td>\n",
       "      <td>NaN</td>\n",
       "      <td>2025-01-01</td>\n",
       "      <td>{'manufacturer_id': 151, 'name': 'Vector Pinba...</td>\n",
       "      <td>NaN</td>\n",
       "      <td>...</td>\n",
       "      <td>[automotive, Bathurst, brock, commodore, racing]</td>\n",
       "      <td>NaN</td>\n",
       "      <td>2025-02-06</td>\n",
       "      <td>2025-02-06</td>\n",
       "      <td>[{'title': None, 'primary': True, 'type': 'bac...</td>\n",
       "      <td>True</td>\n",
       "      <td>2025-01-01</td>\n",
       "      <td>2025-01-01</td>\n",
       "      <td>Vector Pinball</td>\n",
       "      <td>2025</td>\n",
       "    </tr>\n",
       "    <tr>\n",
       "      <th>2256</th>\n",
       "      <td>GK1Ej-MePok-A1zKx</td>\n",
       "      <td>NaN</td>\n",
       "      <td>Dungeons &amp; Dragons: The Tyrant's Eye (LE)</td>\n",
       "      <td></td>\n",
       "      <td>D&amp;D</td>\n",
       "      <td>NaN</td>\n",
       "      <td>NaN</td>\n",
       "      <td>2025-01-01</td>\n",
       "      <td>{'manufacturer_id': 12, 'name': 'Stern', 'full...</td>\n",
       "      <td>NaN</td>\n",
       "      <td>...</td>\n",
       "      <td>[]</td>\n",
       "      <td>NaN</td>\n",
       "      <td>2025-01-04</td>\n",
       "      <td>2025-01-04</td>\n",
       "      <td>[{'title': None, 'primary': True, 'type': 'bac...</td>\n",
       "      <td>True</td>\n",
       "      <td>2025-01-01</td>\n",
       "      <td>2025-01-01</td>\n",
       "      <td>Stern</td>\n",
       "      <td>2025</td>\n",
       "    </tr>\n",
       "    <tr>\n",
       "      <th>2261</th>\n",
       "      <td>G4835-M2YPK-ARkb7</td>\n",
       "      <td>NaN</td>\n",
       "      <td>Cactus Canyon (Lyman Upgrade)</td>\n",
       "      <td>CC</td>\n",
       "      <td></td>\n",
       "      <td>NaN</td>\n",
       "      <td>NaN</td>\n",
       "      <td>2025-03-01</td>\n",
       "      <td>{'manufacturer_id': 112, 'name': 'Chicago Gami...</td>\n",
       "      <td>NaN</td>\n",
       "      <td>...</td>\n",
       "      <td>[]</td>\n",
       "      <td>NaN</td>\n",
       "      <td>2025-03-26</td>\n",
       "      <td>2025-03-26</td>\n",
       "      <td>[]</td>\n",
       "      <td>True</td>\n",
       "      <td>2025-03-01</td>\n",
       "      <td>2025-03-01</td>\n",
       "      <td>Chicago Gaming</td>\n",
       "      <td>2025</td>\n",
       "    </tr>\n",
       "    <tr>\n",
       "      <th>2259</th>\n",
       "      <td>Ge1O1-MYeEB-A92WN</td>\n",
       "      <td>NaN</td>\n",
       "      <td>Holden Heritage</td>\n",
       "      <td></td>\n",
       "      <td></td>\n",
       "      <td>NaN</td>\n",
       "      <td>NaN</td>\n",
       "      <td>2025-01-01</td>\n",
       "      <td>{'manufacturer_id': 151, 'name': 'Vector Pinba...</td>\n",
       "      <td>NaN</td>\n",
       "      <td>...</td>\n",
       "      <td>[automotive]</td>\n",
       "      <td>NaN</td>\n",
       "      <td>2025-02-06</td>\n",
       "      <td>2025-02-06</td>\n",
       "      <td>[{'title': None, 'primary': True, 'type': 'bac...</td>\n",
       "      <td>True</td>\n",
       "      <td>2025-01-01</td>\n",
       "      <td>2025-01-01</td>\n",
       "      <td>Vector Pinball</td>\n",
       "      <td>2025</td>\n",
       "    </tr>\n",
       "    <tr>\n",
       "      <th>2267</th>\n",
       "      <td>GWyBj-MdEbK-AOPdq</td>\n",
       "      <td>NaN</td>\n",
       "      <td>Harry Potter (CE)</td>\n",
       "      <td>None</td>\n",
       "      <td>HP</td>\n",
       "      <td>NaN</td>\n",
       "      <td>NaN</td>\n",
       "      <td>2025-06-05</td>\n",
       "      <td>{'manufacturer_id': 74, 'name': 'Jersey Jack P...</td>\n",
       "      <td>NaN</td>\n",
       "      <td>...</td>\n",
       "      <td>[]</td>\n",
       "      <td>NaN</td>\n",
       "      <td>2025-06-05</td>\n",
       "      <td>2025-06-05</td>\n",
       "      <td>[{'title': None, 'primary': True, 'type': 'bac...</td>\n",
       "      <td>True</td>\n",
       "      <td>2025-06-05</td>\n",
       "      <td>2025-06-05</td>\n",
       "      <td>Jersey Jack Pinball</td>\n",
       "      <td>2025</td>\n",
       "    </tr>\n",
       "  </tbody>\n",
       "</table>\n",
       "<p>2272 rows × 23 columns</p>\n",
       "</div>"
      ],
      "text/plain": [
       "                opdb_id is_machine  \\\n",
       "1876        GyVVQ-MVKYX       True   \n",
       "1878        GV88w-Mp4Bl       True   \n",
       "2242  GRVL2-MLl9Y-A1Zx2        NaN   \n",
       "37          GRVL2-MLl9Y       True   \n",
       "2019        G8ljD-Mz2oP       True   \n",
       "...                 ...        ...   \n",
       "2258  Ge1O1-MYeEB-A9wWL        NaN   \n",
       "2256  GK1Ej-MePok-A1zKx        NaN   \n",
       "2261  G4835-M2YPK-ARkb7        NaN   \n",
       "2259  Ge1O1-MYeEB-A92WN        NaN   \n",
       "2267  GWyBj-MdEbK-AOPdq        NaN   \n",
       "\n",
       "                                                   name  \\\n",
       "1876                                      Humpty Dumpty   \n",
       "1878                                         Cover Girl   \n",
       "2242                                       Coney Island   \n",
       "37                                      Lady Robin Hood   \n",
       "2019                                           Trinidad   \n",
       "...                                                 ...   \n",
       "2258  Peter Brock \"King Of The Mountain\" (VK Commodore)   \n",
       "2256          Dungeons & Dragons: The Tyrant's Eye (LE)   \n",
       "2261                      Cactus Canyon (Lyman Upgrade)   \n",
       "2259                                    Holden Heritage   \n",
       "2267                                  Harry Potter (CE)   \n",
       "\n",
       "                     common_name shortname  physical_machine  ipdb_id  \\\n",
       "1876                                    HD               1.0   1254.0   \n",
       "1878                                                     1.0    579.0   \n",
       "2242                                                     NaN   3880.0   \n",
       "37                          None                         1.0   1406.0   \n",
       "2019                                                     1.0   2646.0   \n",
       "...                          ...       ...               ...      ...   \n",
       "2258  Peter Brock (VK Commodore)                         NaN      NaN   \n",
       "2256                                   D&D               NaN      NaN   \n",
       "2261                          CC                         NaN      NaN   \n",
       "2259                                                     NaN      NaN   \n",
       "2267                        None        HP               NaN      NaN   \n",
       "\n",
       "     manufacture_date                                       manufacturer type  \\\n",
       "1876       1947-10-25  {'manufacturer_id': 2, 'name': 'Gottlieb', 'fu...   me   \n",
       "1878       1947-12-01  {'manufacturer_id': 46, 'name': 'Keeney', 'ful...   me   \n",
       "2242       1948-01-01  {'manufacturer_id': 146, 'name': 'Block Marble...  NaN   \n",
       "37         1948-01-31  {'manufacturer_id': 2, 'name': 'Gottlieb', 'fu...   em   \n",
       "2019       1948-03-26  {'manufacturer_id': 3, 'name': 'Chicago Coin',...   em   \n",
       "...               ...                                                ...  ...   \n",
       "2258       2025-01-01  {'manufacturer_id': 151, 'name': 'Vector Pinba...  NaN   \n",
       "2256       2025-01-01  {'manufacturer_id': 12, 'name': 'Stern', 'full...  NaN   \n",
       "2261       2025-03-01  {'manufacturer_id': 112, 'name': 'Chicago Gami...  NaN   \n",
       "2259       2025-01-01  {'manufacturer_id': 151, 'name': 'Vector Pinba...  NaN   \n",
       "2267       2025-06-05  {'manufacturer_id': 74, 'name': 'Jersey Jack P...  NaN   \n",
       "\n",
       "      ...                                          keywords  description  \\\n",
       "1876  ...                                                []                \n",
       "1878  ...                                                []                \n",
       "2242  ...                                                []          NaN   \n",
       "37    ...                                                []         None   \n",
       "2019  ...                                                []                \n",
       "...   ...                                               ...          ...   \n",
       "2258  ...  [automotive, Bathurst, brock, commodore, racing]          NaN   \n",
       "2256  ...                                                []          NaN   \n",
       "2261  ...                                                []          NaN   \n",
       "2259  ...                                      [automotive]          NaN   \n",
       "2267  ...                                                []          NaN   \n",
       "\n",
       "      created_at  updated_at  \\\n",
       "1876  2020-12-08  2022-01-26   \n",
       "1878  2020-12-09  2024-07-12   \n",
       "2242  2024-06-25  2024-06-25   \n",
       "37    2018-03-11  2018-03-31   \n",
       "2019  2024-06-24  2024-06-24   \n",
       "...          ...         ...   \n",
       "2258  2025-02-06  2025-02-06   \n",
       "2256  2025-01-04  2025-01-04   \n",
       "2261  2025-03-26  2025-03-26   \n",
       "2259  2025-02-06  2025-02-06   \n",
       "2267  2025-06-05  2025-06-05   \n",
       "\n",
       "                                                 images is_alias  \\\n",
       "1876  [{'title': None, 'primary': True, 'type': 'bac...      NaN   \n",
       "1878  [{'title': None, 'primary': True, 'type': 'bac...      NaN   \n",
       "2242                                                 []     True   \n",
       "37    [{'title': 'Backglass', 'primary': True, 'type...      NaN   \n",
       "2019  [{'title': None, 'primary': True, 'type': 'bac...      NaN   \n",
       "...                                                 ...      ...   \n",
       "2258  [{'title': None, 'primary': True, 'type': 'bac...     True   \n",
       "2256  [{'title': None, 'primary': True, 'type': 'bac...     True   \n",
       "2261                                                 []     True   \n",
       "2259  [{'title': None, 'primary': True, 'type': 'bac...     True   \n",
       "2267  [{'title': None, 'primary': True, 'type': 'bac...     True   \n",
       "\n",
       "     manufacture_date_df manufacture_date_dt     manufacturer_name  year  \n",
       "1876          1947-10-25          1947-10-25              Gottlieb  1947  \n",
       "1878          1947-12-01          1947-12-01                Keeney  1947  \n",
       "2242          1948-01-01          1948-01-01  Block Marble Company  1948  \n",
       "37            1948-01-31          1948-01-31              Gottlieb  1948  \n",
       "2019          1948-03-26          1948-03-26          Chicago Coin  1948  \n",
       "...                  ...                 ...                   ...   ...  \n",
       "2258          2025-01-01          2025-01-01        Vector Pinball  2025  \n",
       "2256          2025-01-01          2025-01-01                 Stern  2025  \n",
       "2261          2025-03-01          2025-03-01        Chicago Gaming  2025  \n",
       "2259          2025-01-01          2025-01-01        Vector Pinball  2025  \n",
       "2267          2025-06-05          2025-06-05   Jersey Jack Pinball  2025  \n",
       "\n",
       "[2272 rows x 23 columns]"
      ]
     },
     "execution_count": 206,
     "metadata": {},
     "output_type": "execute_result"
    }
   ],
   "source": [
    "opdb_filt.sort_values(by=['year'])"
   ]
  },
  {
   "cell_type": "code",
   "execution_count": 209,
   "id": "c5c19f83",
   "metadata": {},
   "outputs": [
    {
     "data": {
      "application/vnd.microsoft.datawrangler.viewer.v0+json": {
       "columns": [
        {
         "name": "manufacturer_name",
         "rawType": "object",
         "type": "string"
        },
        {
         "name": "count",
         "rawType": "int64",
         "type": "integer"
        }
       ],
       "ref": "febf5a42-e396-4b3f-8a85-ca500069831a",
       "rows": [
        [
         "Gottlieb",
         "489"
        ],
        [
         "Williams",
         "371"
        ],
        [
         "Bally",
         "238"
        ],
        [
         "Stern",
         "214"
        ],
        [
         "Chicago Coin",
         "69"
        ],
        [
         "Playmatic",
         "52"
        ],
        [
         "Zaccaria",
         "45"
        ],
        [
         "Jersey Jack Pinball",
         "38"
        ],
        [
         "Sega",
         "37"
        ],
        [
         "Stern Electronics",
         "34"
        ],
        [
         "Recel",
         "33"
        ],
        [
         "Inder",
         "31"
        ],
        [
         "Genco",
         "30"
        ],
        [
         "Data East",
         "27"
        ],
        [
         "Spooky Pinball",
         "26"
        ],
        [
         "United",
         "23"
        ],
        [
         "Segasa",
         "23"
        ],
        [
         "Game Plan",
         "21"
        ],
        [
         "Rally",
         "21"
        ],
        [
         "Exhibit",
         "20"
        ],
        [
         "Bell Games",
         "20"
        ],
        [
         "Multimorphic",
         "20"
        ],
        [
         "Chicago Gaming",
         "17"
        ],
        [
         "Allied Leisure",
         "16"
        ],
        [
         "American Pinball",
         "13"
        ],
        [
         "Petaco",
         "11"
        ],
        [
         "Atari",
         "11"
        ],
        [
         "Europlay",
         "10"
        ],
        [
         "Pinball Brothers",
         "10"
        ],
        [
         "Nordamatic",
         "9"
        ],
        [
         "Taito",
         "9"
        ],
        [
         "Keeney",
         "8"
        ],
        [
         "Mondialmatic",
         "8"
        ],
        [
         "Sonic",
         "8"
        ],
        [
         "Geiger",
         "7"
        ],
        [
         "Recreativos Franco",
         "7"
        ],
        [
         "Unidesa",
         "7"
        ],
        [
         "Alvin G. & Co",
         "7"
        ],
        [
         "Juegos Populares",
         "7"
        ],
        [
         "For Amusement Only Games",
         "6"
        ],
        [
         "Jeutel",
         "6"
        ],
        [
         "Komplett",
         "6"
        ],
        [
         "Midway",
         "6"
        ],
        [
         "A.M.I.",
         "6"
        ],
        [
         "Capcom",
         "6"
        ],
        [
         "Hankin",
         "5"
        ],
        [
         "Turner Pinball",
         "5"
        ],
        [
         "Vector Pinball",
         "5"
        ],
        [
         "Pedretti Gaming",
         "5"
        ],
        [
         "Tecnoplay",
         "5"
        ]
       ],
       "shape": {
        "columns": 1,
        "rows": 141
       }
      },
      "text/plain": [
       "manufacturer_name\n",
       "Gottlieb                489\n",
       "Williams                371\n",
       "Bally                   238\n",
       "Stern                   214\n",
       "Chicago Coin             69\n",
       "                       ... \n",
       "LTD do Brasil             1\n",
       "Automaticos               1\n",
       "Block Marble Company      1\n",
       "Sentinel                  1\n",
       "J. Esteban                1\n",
       "Name: count, Length: 141, dtype: int64"
      ]
     },
     "execution_count": 209,
     "metadata": {},
     "output_type": "execute_result"
    }
   ],
   "source": [
    "opdb_filt['manufacturer_name'].value_counts(ascending=False)"
   ]
  },
  {
   "cell_type": "code",
   "execution_count": 211,
   "id": "50c20316",
   "metadata": {},
   "outputs": [
    {
     "name": "stderr",
     "output_type": "stream",
     "text": [
      "C:\\Users\\nmuff\\AppData\\Local\\Temp\\ipykernel_4556\\4245484238.py:1: SettingWithCopyWarning:\n",
      "\n",
      "\n",
      "A value is trying to be set on a copy of a slice from a DataFrame.\n",
      "Try using .loc[row_indexer,col_indexer] = value instead\n",
      "\n",
      "See the caveats in the documentation: https://pandas.pydata.org/pandas-docs/stable/user_guide/indexing.html#returning-a-view-versus-a-copy\n",
      "\n"
     ]
    }
   ],
   "source": [
    "opdb_filt['manufacturer_name'] = opdb_filt['manufacturer_name'].str.replace('Stern Electronics', 'Stern')"
   ]
  },
  {
   "cell_type": "code",
   "execution_count": 212,
   "id": "2369f361",
   "metadata": {},
   "outputs": [
    {
     "data": {
      "application/vnd.microsoft.datawrangler.viewer.v0+json": {
       "columns": [
        {
         "name": "manufacturer_name",
         "rawType": "object",
         "type": "string"
        },
        {
         "name": "count",
         "rawType": "int64",
         "type": "integer"
        }
       ],
       "ref": "994c9345-bb04-46c6-8ae9-e3f2a16b4905",
       "rows": [
        [
         "Gottlieb",
         "489"
        ],
        [
         "Williams",
         "371"
        ],
        [
         "Stern",
         "248"
        ],
        [
         "Bally",
         "238"
        ],
        [
         "Chicago Coin",
         "69"
        ],
        [
         "Playmatic",
         "52"
        ],
        [
         "Zaccaria",
         "45"
        ],
        [
         "Jersey Jack Pinball",
         "38"
        ],
        [
         "Sega",
         "37"
        ],
        [
         "Recel",
         "33"
        ],
        [
         "Inder",
         "31"
        ],
        [
         "Genco",
         "30"
        ],
        [
         "Data East",
         "27"
        ],
        [
         "Spooky Pinball",
         "26"
        ],
        [
         "United",
         "23"
        ],
        [
         "Segasa",
         "23"
        ],
        [
         "Game Plan",
         "21"
        ],
        [
         "Rally",
         "21"
        ],
        [
         "Exhibit",
         "20"
        ],
        [
         "Bell Games",
         "20"
        ],
        [
         "Multimorphic",
         "20"
        ],
        [
         "Chicago Gaming",
         "17"
        ],
        [
         "Allied Leisure",
         "16"
        ],
        [
         "American Pinball",
         "13"
        ],
        [
         "Petaco",
         "11"
        ],
        [
         "Atari",
         "11"
        ],
        [
         "Europlay",
         "10"
        ],
        [
         "Pinball Brothers",
         "10"
        ],
        [
         "Nordamatic",
         "9"
        ],
        [
         "Taito",
         "9"
        ],
        [
         "Keeney",
         "8"
        ],
        [
         "Mondialmatic",
         "8"
        ],
        [
         "Sonic",
         "8"
        ],
        [
         "Geiger",
         "7"
        ],
        [
         "Recreativos Franco",
         "7"
        ],
        [
         "Unidesa",
         "7"
        ],
        [
         "Alvin G. & Co",
         "7"
        ],
        [
         "Juegos Populares",
         "7"
        ],
        [
         "For Amusement Only Games",
         "6"
        ],
        [
         "Jeutel",
         "6"
        ],
        [
         "Komplett",
         "6"
        ],
        [
         "Midway",
         "6"
        ],
        [
         "A.M.I.",
         "6"
        ],
        [
         "Capcom",
         "6"
        ],
        [
         "Hankin",
         "5"
        ],
        [
         "Turner Pinball",
         "5"
        ],
        [
         "Vector Pinball",
         "5"
        ],
        [
         "Pedretti Gaming",
         "5"
        ],
        [
         "Tecnoplay",
         "5"
        ],
        [
         "C.E.A.",
         "5"
        ]
       ],
       "shape": {
        "columns": 1,
        "rows": 140
       }
      },
      "text/plain": [
       "manufacturer_name\n",
       "Gottlieb                489\n",
       "Williams                371\n",
       "Stern                   248\n",
       "Bally                   238\n",
       "Chicago Coin             69\n",
       "                       ... \n",
       "LTD do Brasil             1\n",
       "Automaticos               1\n",
       "Block Marble Company      1\n",
       "Sentinel                  1\n",
       "J. Esteban                1\n",
       "Name: count, Length: 140, dtype: int64"
      ]
     },
     "execution_count": 212,
     "metadata": {},
     "output_type": "execute_result"
    }
   ],
   "source": [
    "opdb_filt['manufacturer_name'].value_counts(ascending=False)"
   ]
  },
  {
   "cell_type": "code",
   "execution_count": null,
   "id": "4dbf7a10",
   "metadata": {},
   "outputs": [],
   "source": []
  },
  {
   "cell_type": "code",
   "execution_count": 217,
   "id": "12d6c5ea",
   "metadata": {},
   "outputs": [
    {
     "data": {
      "application/vnd.plotly.v1+json": {
       "config": {
        "plotlyServerURL": "https://plot.ly"
       },
       "data": [
        {
         "hovertemplate": "count=%{x}<br>manufacturer_name=%{y}<extra></extra>",
         "legendgroup": "",
         "marker": {
          "color": "#636efa",
          "pattern": {
           "shape": ""
          }
         },
         "name": "",
         "orientation": "h",
         "showlegend": false,
         "textposition": "auto",
         "type": "bar",
         "x": {
          "bdata": "AQABAAEAAQABAAEAAQABAAEAAQABAAEAAQABAAEAAQABAAEAAQABAAEAAQABAAEAAQABAAEAAQABAAEAAQABAAEAAQABAAEAAQABAAEAAQABAAEAAQABAAEAAQABAAEAAQABAAEAAQABAAIAAgACAAIAAgACAAIAAgACAAIAAgACAAIAAgACAAMAAwADAAMAAwADAAMAAwADAAMAAwADAAQABAAEAAQABAAEAAQABAAEAAQABQAFAAUABQAFAAUABgAGAAYABgAGAAYABwAHAAcABwAHAAgACAAIAAkACQAKAAoACwALAA0AEAARABQAFAAUABUAFQAXABcAGgAbAB4AHwAhACUAJgAtADQARQDuAPgAcwHpAQ==",
          "dtype": "i2"
         },
         "xaxis": "x",
         "y": [
          "Red Baron Amusements",
          "Pinstar",
          "Retro Pinball",
          "Jac Van Ham",
          "WhizBang Pinball",
          "Coffee Mat",
          "Universal",
          "Valley",
          "American Girl",
          "Hispamatic",
          "Bigliardini Elettronici Milano",
          "Elbos",
          "Innovative Concepts (ICE)",
          "Mocean",
          "HEXA Pinball",
          "Venture Line",
          "Komputer Dynamics",
          "Alben",
          "Astro Games",
          "Hanilamatic",
          "Grand Products",
          "Apple Time",
          "A.A. Amusements",
          "Marsa Play",
          "Barni",
          "Mali",
          "Giorgio Massiniero",
          "Mattel",
          "Mambelli",
          "Megaverse Project",
          "IDSA",
          "R.M.G.",
          "Pinball Manufacturing Inc.",
          "Zidware",
          "Suncoast Pinball",
          "Team Pinball",
          "Pinnovating",
          "deeproot",
          "Skit-B Pinball",
          "Eric Priepke",
          "Briarwood",
          "Playbar",
          "Videodens",
          "LTD do Brasil",
          "Ramp's Pinball",
          "Rebellion Pinball",
          "T.H. Bergmann",
          "Pinball Shop",
          "Automaticos",
          "Block Marble Company",
          "Achille and Chalvignac",
          "Sentinel",
          "J. Esteban",
          "Viza Manufacturing",
          "Sportmatic",
          "Barrels of Fun",
          "Ian Harrower Games",
          "Pinball Adventures",
          "Quetzal Pinball",
          "Playmec Flippers",
          "Cisco",
          "Staal",
          "International",
          "Mirco Games",
          "Bandai Namco",
          "North Star",
          "Riot Pinball",
          "Wico",
          "I.D.I.",
          "Maresa",
          "K.C. Tabart",
          "Heighway Pinball",
          "Homepin",
          "Joctronic",
          "Fascination Game",
          "Arkon",
          "Maguinas / Mac Pinball",
          "Spinball",
          "Bell Coin Matic",
          "Cic Play",
          "Giuliano Lodola",
          "Mr Game",
          "Peyper",
          "Dutch Pinball",
          "Sleic",
          "Marvel",
          "Haggis Pinball",
          "Interflip",
          "Brunswick",
          "Nsm",
          "Turner Pinball",
          "Hankin",
          "Vector Pinball",
          "Pedretti Gaming",
          "C.E.A.",
          "Tecnoplay",
          "A.M.I.",
          "Midway",
          "For Amusement Only Games",
          "Komplett",
          "Capcom",
          "Jeutel",
          "Alvin G. & Co",
          "Recreativos Franco",
          "Juegos Populares",
          "Unidesa",
          "Geiger",
          "Mondialmatic",
          "Sonic",
          "Keeney",
          "Nordamatic",
          "Taito",
          "Pinball Brothers",
          "Europlay",
          "Atari",
          "Petaco",
          "American Pinball",
          "Allied Leisure",
          "Chicago Gaming",
          "Exhibit",
          "Bell Games",
          "Multimorphic",
          "Rally",
          "Game Plan",
          "United",
          "Segasa",
          "Spooky Pinball",
          "Data East",
          "Genco",
          "Inder",
          "Recel",
          "Sega",
          "Jersey Jack Pinball",
          "Zaccaria",
          "Playmatic",
          "Chicago Coin",
          "Bally",
          "Stern",
          "Williams",
          "Gottlieb"
         ],
         "yaxis": "y"
        }
       ],
       "layout": {
        "barmode": "relative",
        "legend": {
         "tracegroupgap": 0
        },
        "margin": {
         "t": 60
        },
        "template": {
         "data": {
          "bar": [
           {
            "error_x": {
             "color": "#2a3f5f"
            },
            "error_y": {
             "color": "#2a3f5f"
            },
            "marker": {
             "line": {
              "color": "white",
              "width": 0.5
             },
             "pattern": {
              "fillmode": "overlay",
              "size": 10,
              "solidity": 0.2
             }
            },
            "type": "bar"
           }
          ],
          "barpolar": [
           {
            "marker": {
             "line": {
              "color": "white",
              "width": 0.5
             },
             "pattern": {
              "fillmode": "overlay",
              "size": 10,
              "solidity": 0.2
             }
            },
            "type": "barpolar"
           }
          ],
          "carpet": [
           {
            "aaxis": {
             "endlinecolor": "#2a3f5f",
             "gridcolor": "#C8D4E3",
             "linecolor": "#C8D4E3",
             "minorgridcolor": "#C8D4E3",
             "startlinecolor": "#2a3f5f"
            },
            "baxis": {
             "endlinecolor": "#2a3f5f",
             "gridcolor": "#C8D4E3",
             "linecolor": "#C8D4E3",
             "minorgridcolor": "#C8D4E3",
             "startlinecolor": "#2a3f5f"
            },
            "type": "carpet"
           }
          ],
          "choropleth": [
           {
            "colorbar": {
             "outlinewidth": 0,
             "ticks": ""
            },
            "type": "choropleth"
           }
          ],
          "contour": [
           {
            "colorbar": {
             "outlinewidth": 0,
             "ticks": ""
            },
            "colorscale": [
             [
              0,
              "#0d0887"
             ],
             [
              0.1111111111111111,
              "#46039f"
             ],
             [
              0.2222222222222222,
              "#7201a8"
             ],
             [
              0.3333333333333333,
              "#9c179e"
             ],
             [
              0.4444444444444444,
              "#bd3786"
             ],
             [
              0.5555555555555556,
              "#d8576b"
             ],
             [
              0.6666666666666666,
              "#ed7953"
             ],
             [
              0.7777777777777778,
              "#fb9f3a"
             ],
             [
              0.8888888888888888,
              "#fdca26"
             ],
             [
              1,
              "#f0f921"
             ]
            ],
            "type": "contour"
           }
          ],
          "contourcarpet": [
           {
            "colorbar": {
             "outlinewidth": 0,
             "ticks": ""
            },
            "type": "contourcarpet"
           }
          ],
          "heatmap": [
           {
            "colorbar": {
             "outlinewidth": 0,
             "ticks": ""
            },
            "colorscale": [
             [
              0,
              "#0d0887"
             ],
             [
              0.1111111111111111,
              "#46039f"
             ],
             [
              0.2222222222222222,
              "#7201a8"
             ],
             [
              0.3333333333333333,
              "#9c179e"
             ],
             [
              0.4444444444444444,
              "#bd3786"
             ],
             [
              0.5555555555555556,
              "#d8576b"
             ],
             [
              0.6666666666666666,
              "#ed7953"
             ],
             [
              0.7777777777777778,
              "#fb9f3a"
             ],
             [
              0.8888888888888888,
              "#fdca26"
             ],
             [
              1,
              "#f0f921"
             ]
            ],
            "type": "heatmap"
           }
          ],
          "histogram": [
           {
            "marker": {
             "pattern": {
              "fillmode": "overlay",
              "size": 10,
              "solidity": 0.2
             }
            },
            "type": "histogram"
           }
          ],
          "histogram2d": [
           {
            "colorbar": {
             "outlinewidth": 0,
             "ticks": ""
            },
            "colorscale": [
             [
              0,
              "#0d0887"
             ],
             [
              0.1111111111111111,
              "#46039f"
             ],
             [
              0.2222222222222222,
              "#7201a8"
             ],
             [
              0.3333333333333333,
              "#9c179e"
             ],
             [
              0.4444444444444444,
              "#bd3786"
             ],
             [
              0.5555555555555556,
              "#d8576b"
             ],
             [
              0.6666666666666666,
              "#ed7953"
             ],
             [
              0.7777777777777778,
              "#fb9f3a"
             ],
             [
              0.8888888888888888,
              "#fdca26"
             ],
             [
              1,
              "#f0f921"
             ]
            ],
            "type": "histogram2d"
           }
          ],
          "histogram2dcontour": [
           {
            "colorbar": {
             "outlinewidth": 0,
             "ticks": ""
            },
            "colorscale": [
             [
              0,
              "#0d0887"
             ],
             [
              0.1111111111111111,
              "#46039f"
             ],
             [
              0.2222222222222222,
              "#7201a8"
             ],
             [
              0.3333333333333333,
              "#9c179e"
             ],
             [
              0.4444444444444444,
              "#bd3786"
             ],
             [
              0.5555555555555556,
              "#d8576b"
             ],
             [
              0.6666666666666666,
              "#ed7953"
             ],
             [
              0.7777777777777778,
              "#fb9f3a"
             ],
             [
              0.8888888888888888,
              "#fdca26"
             ],
             [
              1,
              "#f0f921"
             ]
            ],
            "type": "histogram2dcontour"
           }
          ],
          "mesh3d": [
           {
            "colorbar": {
             "outlinewidth": 0,
             "ticks": ""
            },
            "type": "mesh3d"
           }
          ],
          "parcoords": [
           {
            "line": {
             "colorbar": {
              "outlinewidth": 0,
              "ticks": ""
             }
            },
            "type": "parcoords"
           }
          ],
          "pie": [
           {
            "automargin": true,
            "type": "pie"
           }
          ],
          "scatter": [
           {
            "fillpattern": {
             "fillmode": "overlay",
             "size": 10,
             "solidity": 0.2
            },
            "type": "scatter"
           }
          ],
          "scatter3d": [
           {
            "line": {
             "colorbar": {
              "outlinewidth": 0,
              "ticks": ""
             }
            },
            "marker": {
             "colorbar": {
              "outlinewidth": 0,
              "ticks": ""
             }
            },
            "type": "scatter3d"
           }
          ],
          "scattercarpet": [
           {
            "marker": {
             "colorbar": {
              "outlinewidth": 0,
              "ticks": ""
             }
            },
            "type": "scattercarpet"
           }
          ],
          "scattergeo": [
           {
            "marker": {
             "colorbar": {
              "outlinewidth": 0,
              "ticks": ""
             }
            },
            "type": "scattergeo"
           }
          ],
          "scattergl": [
           {
            "marker": {
             "colorbar": {
              "outlinewidth": 0,
              "ticks": ""
             }
            },
            "type": "scattergl"
           }
          ],
          "scattermap": [
           {
            "marker": {
             "colorbar": {
              "outlinewidth": 0,
              "ticks": ""
             }
            },
            "type": "scattermap"
           }
          ],
          "scattermapbox": [
           {
            "marker": {
             "colorbar": {
              "outlinewidth": 0,
              "ticks": ""
             }
            },
            "type": "scattermapbox"
           }
          ],
          "scatterpolar": [
           {
            "marker": {
             "colorbar": {
              "outlinewidth": 0,
              "ticks": ""
             }
            },
            "type": "scatterpolar"
           }
          ],
          "scatterpolargl": [
           {
            "marker": {
             "colorbar": {
              "outlinewidth": 0,
              "ticks": ""
             }
            },
            "type": "scatterpolargl"
           }
          ],
          "scatterternary": [
           {
            "marker": {
             "colorbar": {
              "outlinewidth": 0,
              "ticks": ""
             }
            },
            "type": "scatterternary"
           }
          ],
          "surface": [
           {
            "colorbar": {
             "outlinewidth": 0,
             "ticks": ""
            },
            "colorscale": [
             [
              0,
              "#0d0887"
             ],
             [
              0.1111111111111111,
              "#46039f"
             ],
             [
              0.2222222222222222,
              "#7201a8"
             ],
             [
              0.3333333333333333,
              "#9c179e"
             ],
             [
              0.4444444444444444,
              "#bd3786"
             ],
             [
              0.5555555555555556,
              "#d8576b"
             ],
             [
              0.6666666666666666,
              "#ed7953"
             ],
             [
              0.7777777777777778,
              "#fb9f3a"
             ],
             [
              0.8888888888888888,
              "#fdca26"
             ],
             [
              1,
              "#f0f921"
             ]
            ],
            "type": "surface"
           }
          ],
          "table": [
           {
            "cells": {
             "fill": {
              "color": "#EBF0F8"
             },
             "line": {
              "color": "white"
             }
            },
            "header": {
             "fill": {
              "color": "#C8D4E3"
             },
             "line": {
              "color": "white"
             }
            },
            "type": "table"
           }
          ]
         },
         "layout": {
          "annotationdefaults": {
           "arrowcolor": "#2a3f5f",
           "arrowhead": 0,
           "arrowwidth": 1
          },
          "autotypenumbers": "strict",
          "coloraxis": {
           "colorbar": {
            "outlinewidth": 0,
            "ticks": ""
           }
          },
          "colorscale": {
           "diverging": [
            [
             0,
             "#8e0152"
            ],
            [
             0.1,
             "#c51b7d"
            ],
            [
             0.2,
             "#de77ae"
            ],
            [
             0.3,
             "#f1b6da"
            ],
            [
             0.4,
             "#fde0ef"
            ],
            [
             0.5,
             "#f7f7f7"
            ],
            [
             0.6,
             "#e6f5d0"
            ],
            [
             0.7,
             "#b8e186"
            ],
            [
             0.8,
             "#7fbc41"
            ],
            [
             0.9,
             "#4d9221"
            ],
            [
             1,
             "#276419"
            ]
           ],
           "sequential": [
            [
             0,
             "#0d0887"
            ],
            [
             0.1111111111111111,
             "#46039f"
            ],
            [
             0.2222222222222222,
             "#7201a8"
            ],
            [
             0.3333333333333333,
             "#9c179e"
            ],
            [
             0.4444444444444444,
             "#bd3786"
            ],
            [
             0.5555555555555556,
             "#d8576b"
            ],
            [
             0.6666666666666666,
             "#ed7953"
            ],
            [
             0.7777777777777778,
             "#fb9f3a"
            ],
            [
             0.8888888888888888,
             "#fdca26"
            ],
            [
             1,
             "#f0f921"
            ]
           ],
           "sequentialminus": [
            [
             0,
             "#0d0887"
            ],
            [
             0.1111111111111111,
             "#46039f"
            ],
            [
             0.2222222222222222,
             "#7201a8"
            ],
            [
             0.3333333333333333,
             "#9c179e"
            ],
            [
             0.4444444444444444,
             "#bd3786"
            ],
            [
             0.5555555555555556,
             "#d8576b"
            ],
            [
             0.6666666666666666,
             "#ed7953"
            ],
            [
             0.7777777777777778,
             "#fb9f3a"
            ],
            [
             0.8888888888888888,
             "#fdca26"
            ],
            [
             1,
             "#f0f921"
            ]
           ]
          },
          "colorway": [
           "#636efa",
           "#EF553B",
           "#00cc96",
           "#ab63fa",
           "#FFA15A",
           "#19d3f3",
           "#FF6692",
           "#B6E880",
           "#FF97FF",
           "#FECB52"
          ],
          "font": {
           "color": "#2a3f5f"
          },
          "geo": {
           "bgcolor": "white",
           "lakecolor": "white",
           "landcolor": "white",
           "showlakes": true,
           "showland": true,
           "subunitcolor": "#C8D4E3"
          },
          "hoverlabel": {
           "align": "left"
          },
          "hovermode": "closest",
          "mapbox": {
           "style": "light"
          },
          "paper_bgcolor": "white",
          "plot_bgcolor": "white",
          "polar": {
           "angularaxis": {
            "gridcolor": "#EBF0F8",
            "linecolor": "#EBF0F8",
            "ticks": ""
           },
           "bgcolor": "white",
           "radialaxis": {
            "gridcolor": "#EBF0F8",
            "linecolor": "#EBF0F8",
            "ticks": ""
           }
          },
          "scene": {
           "xaxis": {
            "backgroundcolor": "white",
            "gridcolor": "#DFE8F3",
            "gridwidth": 2,
            "linecolor": "#EBF0F8",
            "showbackground": true,
            "ticks": "",
            "zerolinecolor": "#EBF0F8"
           },
           "yaxis": {
            "backgroundcolor": "white",
            "gridcolor": "#DFE8F3",
            "gridwidth": 2,
            "linecolor": "#EBF0F8",
            "showbackground": true,
            "ticks": "",
            "zerolinecolor": "#EBF0F8"
           },
           "zaxis": {
            "backgroundcolor": "white",
            "gridcolor": "#DFE8F3",
            "gridwidth": 2,
            "linecolor": "#EBF0F8",
            "showbackground": true,
            "ticks": "",
            "zerolinecolor": "#EBF0F8"
           }
          },
          "shapedefaults": {
           "line": {
            "color": "#2a3f5f"
           }
          },
          "ternary": {
           "aaxis": {
            "gridcolor": "#DFE8F3",
            "linecolor": "#A2B1C6",
            "ticks": ""
           },
           "baxis": {
            "gridcolor": "#DFE8F3",
            "linecolor": "#A2B1C6",
            "ticks": ""
           },
           "bgcolor": "white",
           "caxis": {
            "gridcolor": "#DFE8F3",
            "linecolor": "#A2B1C6",
            "ticks": ""
           }
          },
          "title": {
           "x": 0.05
          },
          "xaxis": {
           "automargin": true,
           "gridcolor": "#EBF0F8",
           "linecolor": "#EBF0F8",
           "ticks": "",
           "title": {
            "standoff": 15
           },
           "zerolinecolor": "#EBF0F8",
           "zerolinewidth": 2
          },
          "yaxis": {
           "automargin": true,
           "gridcolor": "#EBF0F8",
           "linecolor": "#EBF0F8",
           "ticks": "",
           "title": {
            "standoff": 15
           },
           "zerolinecolor": "#EBF0F8",
           "zerolinewidth": 2
          }
         }
        },
        "xaxis": {
         "anchor": "y",
         "domain": [
          0,
          1
         ],
         "title": {
          "text": "count"
         }
        },
        "yaxis": {
         "anchor": "x",
         "domain": [
          0,
          1
         ],
         "title": {
          "text": "manufacturer_name"
         }
        }
       }
      }
     },
     "metadata": {},
     "output_type": "display_data"
    }
   ],
   "source": [
    "manufacturers = opdb_filt['manufacturer_name'].value_counts(ascending=True).reset_index()\n",
    "\n",
    "fig = px.bar(manufacturers, x='count', y='manufacturer_name')\n",
    "\n",
    "fig.show()"
   ]
  },
  {
   "cell_type": "code",
   "execution_count": null,
   "id": "6c31bc82",
   "metadata": {},
   "outputs": [],
   "source": []
  }
 ],
 "metadata": {
  "kernelspec": {
   "display_name": "Python 3",
   "language": "python",
   "name": "python3"
  },
  "language_info": {
   "codemirror_mode": {
    "name": "ipython",
    "version": 3
   },
   "file_extension": ".py",
   "mimetype": "text/x-python",
   "name": "python",
   "nbconvert_exporter": "python",
   "pygments_lexer": "ipython3",
   "version": "3.12.8"
  }
 },
 "nbformat": 4,
 "nbformat_minor": 5
}
